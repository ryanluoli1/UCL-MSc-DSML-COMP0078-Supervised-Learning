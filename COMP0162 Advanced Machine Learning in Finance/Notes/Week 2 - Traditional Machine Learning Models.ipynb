{
 "cells": [
  {
   "cell_type": "markdown",
   "id": "d10f0a83",
   "metadata": {},
   "source": [
    "# Week 2 - Traditional Machine Learning Models"
   ]
  },
  {
   "cell_type": "code",
   "execution_count": 25,
   "id": "76e54d1b",
   "metadata": {},
   "outputs": [],
   "source": [
    "import numpy as np\n",
    "import pandas as pd\n",
    "import matplotlib.pyplot as plt\n",
    "\n",
    "from sklearn import svm, neighbors, datasets\n",
    "from sklearn.datasets import make_classification\n",
    "from sklearn.neural_network import MLPClassifier\n",
    "from sklearn.linear_model import LogisticRegression\n",
    "from sklearn.ensemble import RandomForestClassifier\n",
    "from sklearn.model_selection import train_test_split\n",
    "\n",
    "from sklearn import metrics\n",
    "from sklearn.model_selection import cross_val_score\n",
    "from sklearn.metrics import confusion_matrix,roc_auc_score"
   ]
  },
  {
   "cell_type": "code",
   "execution_count": 8,
   "id": "db33d97f",
   "metadata": {},
   "outputs": [],
   "source": [
    "import warnings\n",
    "warnings.filterwarnings(\"ignore\")"
   ]
  },
  {
   "cell_type": "markdown",
   "id": "9ccdcbd2",
   "metadata": {},
   "source": [
    "## Import Data"
   ]
  },
  {
   "cell_type": "code",
   "execution_count": 2,
   "id": "11ab4c62",
   "metadata": {
    "scrolled": true
   },
   "outputs": [
    {
     "data": {
      "text/html": [
       "<div>\n",
       "<style scoped>\n",
       "    .dataframe tbody tr th:only-of-type {\n",
       "        vertical-align: middle;\n",
       "    }\n",
       "\n",
       "    .dataframe tbody tr th {\n",
       "        vertical-align: top;\n",
       "    }\n",
       "\n",
       "    .dataframe thead th {\n",
       "        text-align: right;\n",
       "    }\n",
       "</style>\n",
       "<table border=\"1\" class=\"dataframe\">\n",
       "  <thead>\n",
       "    <tr style=\"text-align: right;\">\n",
       "      <th></th>\n",
       "      <th>year</th>\n",
       "      <th>iso</th>\n",
       "      <th>rgdpbarro</th>\n",
       "      <th>rgdp</th>\n",
       "      <th>loans1</th>\n",
       "      <th>bassets2</th>\n",
       "      <th>govass</th>\n",
       "      <th>narrowm</th>\n",
       "      <th>money</th>\n",
       "      <th>gdp</th>\n",
       "      <th>iy</th>\n",
       "      <th>cpi</th>\n",
       "      <th>pop</th>\n",
       "      <th>stir</th>\n",
       "      <th>ltrate</th>\n",
       "      <th>crisisST</th>\n",
       "      <th>stocks</th>\n",
       "    </tr>\n",
       "  </thead>\n",
       "  <tbody>\n",
       "    <tr>\n",
       "      <th>0</th>\n",
       "      <td>1870</td>\n",
       "      <td>AUS</td>\n",
       "      <td>13.670150</td>\n",
       "      <td>3273.2400</td>\n",
       "      <td>NaN</td>\n",
       "      <td>NaN</td>\n",
       "      <td>NaN</td>\n",
       "      <td>23.299999</td>\n",
       "      <td>54.299999</td>\n",
       "      <td>163.39999</td>\n",
       "      <td>0.109266</td>\n",
       "      <td>2.708333</td>\n",
       "      <td>1775.0</td>\n",
       "      <td>0.0488</td>\n",
       "      <td>0.048780</td>\n",
       "      <td>0</td>\n",
       "      <td>NaN</td>\n",
       "    </tr>\n",
       "    <tr>\n",
       "      <th>1</th>\n",
       "      <td>1871</td>\n",
       "      <td>AUS</td>\n",
       "      <td>13.769732</td>\n",
       "      <td>3298.5081</td>\n",
       "      <td>NaN</td>\n",
       "      <td>NaN</td>\n",
       "      <td>NaN</td>\n",
       "      <td>27.200001</td>\n",
       "      <td>59.500000</td>\n",
       "      <td>156.80000</td>\n",
       "      <td>0.104579</td>\n",
       "      <td>2.666667</td>\n",
       "      <td>1675.0</td>\n",
       "      <td>0.0460</td>\n",
       "      <td>0.046729</td>\n",
       "      <td>0</td>\n",
       "      <td>NaN</td>\n",
       "    </tr>\n",
       "    <tr>\n",
       "      <th>2</th>\n",
       "      <td>1872</td>\n",
       "      <td>AUS</td>\n",
       "      <td>14.863760</td>\n",
       "      <td>3553.4260</td>\n",
       "      <td>NaN</td>\n",
       "      <td>NaN</td>\n",
       "      <td>NaN</td>\n",
       "      <td>36.200001</td>\n",
       "      <td>68.500000</td>\n",
       "      <td>187.20000</td>\n",
       "      <td>0.130438</td>\n",
       "      <td>2.541667</td>\n",
       "      <td>1722.0</td>\n",
       "      <td>0.0460</td>\n",
       "      <td>0.046948</td>\n",
       "      <td>0</td>\n",
       "      <td>NaN</td>\n",
       "    </tr>\n",
       "    <tr>\n",
       "      <th>3</th>\n",
       "      <td>1873</td>\n",
       "      <td>AUS</td>\n",
       "      <td>16.024851</td>\n",
       "      <td>3823.6289</td>\n",
       "      <td>64.019997</td>\n",
       "      <td>81.751999</td>\n",
       "      <td>NaN</td>\n",
       "      <td>38.599998</td>\n",
       "      <td>73.699997</td>\n",
       "      <td>217.39999</td>\n",
       "      <td>0.124986</td>\n",
       "      <td>2.541667</td>\n",
       "      <td>1769.0</td>\n",
       "      <td>0.0440</td>\n",
       "      <td>0.047170</td>\n",
       "      <td>0</td>\n",
       "      <td>NaN</td>\n",
       "    </tr>\n",
       "    <tr>\n",
       "      <th>4</th>\n",
       "      <td>1874</td>\n",
       "      <td>AUS</td>\n",
       "      <td>16.073057</td>\n",
       "      <td>3834.7971</td>\n",
       "      <td>70.040001</td>\n",
       "      <td>88.393997</td>\n",
       "      <td>NaN</td>\n",
       "      <td>37.900002</td>\n",
       "      <td>79.300003</td>\n",
       "      <td>219.39999</td>\n",
       "      <td>0.141960</td>\n",
       "      <td>2.666667</td>\n",
       "      <td>1822.0</td>\n",
       "      <td>0.0450</td>\n",
       "      <td>0.046083</td>\n",
       "      <td>0</td>\n",
       "      <td>NaN</td>\n",
       "    </tr>\n",
       "  </tbody>\n",
       "</table>\n",
       "</div>"
      ],
      "text/plain": [
       "   year  iso  rgdpbarro       rgdp     loans1   bassets2  govass    narrowm  \\\n",
       "0  1870  AUS  13.670150  3273.2400        NaN        NaN     NaN  23.299999   \n",
       "1  1871  AUS  13.769732  3298.5081        NaN        NaN     NaN  27.200001   \n",
       "2  1872  AUS  14.863760  3553.4260        NaN        NaN     NaN  36.200001   \n",
       "3  1873  AUS  16.024851  3823.6289  64.019997  81.751999     NaN  38.599998   \n",
       "4  1874  AUS  16.073057  3834.7971  70.040001  88.393997     NaN  37.900002   \n",
       "\n",
       "       money        gdp        iy       cpi     pop    stir    ltrate  \\\n",
       "0  54.299999  163.39999  0.109266  2.708333  1775.0  0.0488  0.048780   \n",
       "1  59.500000  156.80000  0.104579  2.666667  1675.0  0.0460  0.046729   \n",
       "2  68.500000  187.20000  0.130438  2.541667  1722.0  0.0460  0.046948   \n",
       "3  73.699997  217.39999  0.124986  2.541667  1769.0  0.0440  0.047170   \n",
       "4  79.300003  219.39999  0.141960  2.666667  1822.0  0.0450  0.046083   \n",
       "\n",
       "   crisisST  stocks  \n",
       "0         0     NaN  \n",
       "1         0     NaN  \n",
       "2         0     NaN  \n",
       "3         0     NaN  \n",
       "4         0     NaN  "
      ]
     },
     "execution_count": 2,
     "metadata": {},
     "output_type": "execute_result"
    }
   ],
   "source": [
    "Panel = pd.read_csv(\"/Users/ryanl/Desktop/Python/Courses/UCL DSML/COMP0162 Advanced ML in Finance/Datasets/Credit Data/Panel17.csv\")\n",
    "Panel.head()"
   ]
  },
  {
   "cell_type": "markdown",
   "id": "193c274d",
   "metadata": {},
   "source": [
    "## Pre-Processing"
   ]
  },
  {
   "cell_type": "code",
   "execution_count": 5,
   "id": "12e1618f",
   "metadata": {},
   "outputs": [],
   "source": [
    "newPanel = Panel[['iso','cpi','loans1','crisisST']]\n",
    "countries = set(newPanel['iso'])\n",
    "\n",
    "features = pd.get_dummies(newPanel['iso'])\n",
    "newPanel = pd.concat([newPanel,features], axis=1)\n",
    "\n",
    "DF_list= list()\n",
    "for c in countries:\n",
    "    temp = newPanel[newPanel['iso']==c]\n",
    "    #temp = temp.dropna()\n",
    "    DF_list.append(temp)"
   ]
  },
  {
   "cell_type": "code",
   "execution_count": 9,
   "id": "26b1b1d1",
   "metadata": {},
   "outputs": [],
   "source": [
    "DF_list2 = list()\n",
    "xdata = pd.DataFrame()\n",
    "ydata = pd.DataFrame()\n",
    "\n",
    "var_lists = ['cpi', 'loans1']\n",
    "new_var_lists = ['cpigrowth', 'creditgrowth']\n",
    "\n",
    "#CreditGrowthReal = CreditGrowth - CPIGrowth;\n",
    "\n",
    "for df in DF_list:\n",
    "    df = df.dropna()\n",
    "    df = df.reset_index()\n",
    "    for v, nv in zip(var_lists, new_var_lists):\n",
    "        f = np.diff(np.log(df[v]))\n",
    "        lrf = pd.DataFrame({nv: f})\n",
    "        df = pd.concat([df,lrf], axis=1)\n",
    "    realg = df['creditgrowth'] - df['cpigrowth']\n",
    "    X = pd.DataFrame()\n",
    "    x = range(1,6)\n",
    "    for lags in x:\n",
    "        namevar = 'lagrealg' + str(lags)\n",
    "        lrg = pd.DataFrame({namevar: realg })\n",
    "        df = pd.concat([df,lrg], axis=1)\n",
    "        df[namevar] = df[namevar].shift(lags)\n",
    "        X = pd.concat([X,df[namevar]], axis=1)\n",
    "    X = pd.concat([X,df['crisisST']], axis=1)\n",
    "    df = df.dropna()\n",
    "    DF_list2.append(df)\n",
    "    for c in countries:\n",
    "        X = pd.concat([X,df[c]], axis=1)\n",
    "    X = X.dropna()\n",
    "    xdata = xdata.append(X, ignore_index=True)"
   ]
  },
  {
   "cell_type": "code",
   "execution_count": 10,
   "id": "ff371bdd",
   "metadata": {},
   "outputs": [],
   "source": [
    "ydata = xdata['crisisST']\n",
    "xdata = xdata.drop(['crisisST'], axis=1)"
   ]
  },
  {
   "cell_type": "code",
   "execution_count": 13,
   "id": "bbfe7d94",
   "metadata": {},
   "outputs": [],
   "source": [
    "# Split the data into training and testing sets\n",
    "train_features, test_features, train_labels, test_labels = train_test_split(xdata, ydata, \n",
    "                                                                            test_size = 0.5, random_state = 42)\n",
    "\n",
    "train_labels = np.array(train_labels)\n",
    "train_features = np.array(train_features)\n",
    "test_labels = np.array(test_labels)\n",
    "test_features = np.array(test_features)"
   ]
  },
  {
   "cell_type": "markdown",
   "id": "7f50b391",
   "metadata": {},
   "source": [
    "## Modelling"
   ]
  },
  {
   "cell_type": "code",
   "execution_count": 14,
   "id": "5f50ea6e",
   "metadata": {},
   "outputs": [
    {
     "data": {
      "text/plain": [
       "MLPClassifier(hidden_layer_sizes=(10, 10, 10), max_iter=1000, random_state=1)"
      ]
     },
     "execution_count": 14,
     "metadata": {},
     "output_type": "execute_result"
    }
   ],
   "source": [
    "# Logistic Regression \n",
    "logreg_clf = LogisticRegression(C=1e5)\n",
    "logreg_clf.fit(train_features, train_labels)\n",
    "\n",
    "# Random Forest\n",
    "rf_clf = RandomForestClassifier(n_estimators=100, random_state=42)\n",
    "rf_clf.fit(train_features, train_labels)\n",
    "\n",
    "# K-Nearest Neighbors \n",
    "n_neighbors = 3 \n",
    "knn_clf = neighbors.KNeighborsClassifier(n_neighbors, weights='uniform')\n",
    "knn_clf.fit(train_features, train_labels)\n",
    "\n",
    "# Support Vector Machine\n",
    "svm_clf = svm.SVC(probability=True)\n",
    "svm_clf.fit(train_features, train_labels)\n",
    "\n",
    "# Multi-layer Perceptron\n",
    "mlp_clf = MLPClassifier(random_state=1, max_iter=1000, hidden_layer_sizes=(10,10,10))\n",
    "mlp_clf.fit(train_features, train_labels)"
   ]
  },
  {
   "cell_type": "markdown",
   "id": "6ebe7052",
   "metadata": {},
   "source": [
    "## Evaluation"
   ]
  },
  {
   "cell_type": "code",
   "execution_count": 16,
   "id": "e8cc9f8a",
   "metadata": {},
   "outputs": [],
   "source": [
    "logreg_predictions = logreg_clf.predict(test_features)\n",
    "rf_predictions = rf_clf.predict(test_features)\n",
    "knn_predictions = knn_clf.predict(test_features)\n",
    "svm_predictions = svm_clf.predict(test_features)\n",
    "mlp_predictions = mlp_clf.predict(test_features)"
   ]
  },
  {
   "cell_type": "code",
   "execution_count": 17,
   "id": "7457ef8a",
   "metadata": {},
   "outputs": [
    {
     "name": "stdout",
     "output_type": "stream",
     "text": [
      "Logistic Regression Mean Absolute Error: 0.04\n",
      "RF Mean Absolute Error: 0.04\n",
      "KNN Mean Absolute Error: 0.04\n",
      "SVM Mean Absolute Error: 0.04\n",
      "MLP Mean Absolute Error: 0.06\n"
     ]
    }
   ],
   "source": [
    "# Calculate the absolute errors\n",
    "logreg_errors = abs(logreg_predictions - test_labels)\n",
    "rf_errors = abs(rf_predictions - test_labels)\n",
    "knn_errors = abs(knn_predictions - test_labels)\n",
    "svm_errors = abs(svm_predictions - test_labels)\n",
    "mlp_errors = abs(mlp_predictions - test_labels)\n",
    "\n",
    "\n",
    "# Print out the mean absolute error (mae)\n",
    "print('Logistic Regression Mean Absolute Error:', round(np.mean(logreg_errors), 2))\n",
    "print('RF Mean Absolute Error:', round(np.mean(rf_errors), 2))\n",
    "print('KNN Mean Absolute Error:', round(np.mean(knn_errors), 2))\n",
    "print('SVM Mean Absolute Error:', round(np.mean(svm_errors), 2))\n",
    "print('MLP Mean Absolute Error:', round(np.mean(mlp_errors), 2))"
   ]
  },
  {
   "cell_type": "code",
   "execution_count": 21,
   "id": "8cbf76ad",
   "metadata": {},
   "outputs": [
    {
     "name": "stdout",
     "output_type": "stream",
     "text": [
      "[[764   2]\n",
      " [ 27   1]]\n",
      "----------\n",
      "[[766   0]\n",
      " [ 28   0]]\n",
      "----------\n",
      "[[762   4]\n",
      " [ 28   0]]\n",
      "----------\n",
      "[[766   0]\n",
      " [ 28   0]]\n",
      "----------\n",
      "[[749  17]\n",
      " [ 27   1]]\n"
     ]
    }
   ],
   "source": [
    "clf_thres = 0.1\n",
    "logreg_conf_mat = confusion_matrix(test_labels, np.heaviside(logreg_predictions-clf_thres,0) )\n",
    "rf_conf_mat = confusion_matrix(test_labels, np.heaviside(rf_predictions-clf_thres,0) )\n",
    "knn_conf_mat = confusion_matrix(test_labels, np.heaviside(knn_predictions-clf_thres,0) )\n",
    "svm_conf_mat = confusion_matrix(test_labels, np.heaviside(svm_predictions-clf_thres,0) )\n",
    "mlp_conf_mat = confusion_matrix(test_labels, np.heaviside(mlp_predictions-clf_thres,0) )\n",
    "\n",
    "\n",
    "print(logreg_conf_mat)\n",
    "print(10*'-')\n",
    "print(rf_conf_mat)\n",
    "print(10*'-')\n",
    "print(knn_conf_mat)\n",
    "print(10*'-')\n",
    "print(svm_conf_mat)\n",
    "print(10*'-')\n",
    "print(mlp_conf_mat)"
   ]
  },
  {
   "cell_type": "code",
   "execution_count": 24,
   "id": "13a0d914",
   "metadata": {},
   "outputs": [
    {
     "name": "stdout",
     "output_type": "stream",
     "text": [
      "0.5712886982469229\n",
      "0.5189295039164491\n",
      "0.5463912719134651\n",
      "0.561917195076464\n",
      "0.5302592316299889\n"
     ]
    }
   ],
   "source": [
    "print(roc_auc_score(test_labels, logreg_clf.predict_proba(test_features)[:,1]))\n",
    "print(roc_auc_score(test_labels, rf_clf.predict_proba(test_features)[:,1]))\n",
    "print(roc_auc_score(test_labels, knn_clf.predict_proba(test_features)[:,1]))\n",
    "print(roc_auc_score(test_labels, svm_clf.predict_proba(test_features)[:,1]))\n",
    "print(roc_auc_score(test_labels, mlp_clf.predict_proba(test_features)[:,1]))"
   ]
  },
  {
   "cell_type": "code",
   "execution_count": 26,
   "id": "946ec041",
   "metadata": {},
   "outputs": [
    {
     "data": {
      "text/plain": [
       "<sklearn.metrics._plot.roc_curve.RocCurveDisplay at 0x7f88b976e190>"
      ]
     },
     "execution_count": 26,
     "metadata": {},
     "output_type": "execute_result"
    },
    {
     "data": {
      "image/png": "[encoded data removed]",
      "text/plain": [
       "<Figure size 640x480 with 1 Axes>"
      ]
     },
     "metadata": {},
     "output_type": "display_data"
    }
   ],
   "source": [
    "roc_curves = metrics.plot_roc_curve(logreg_clf, test_features, test_labels) \n",
    "metrics.plot_roc_curve(rf_clf, test_features, test_labels, ax=roc_curves.ax_) \n",
    "metrics.plot_roc_curve(knn_clf, test_features, test_labels, ax=roc_curves.ax_) \n",
    "metrics.plot_roc_curve(svm_clf, test_features, test_labels, ax=roc_curves.ax_) \n",
    "metrics.plot_roc_curve(mlp_clf, test_features, test_labels, ax=roc_curves.ax_) "
   ]
  }
 ],
 "metadata": {
  "kernelspec": {
   "display_name": "Python 3 (ipykernel)",
   "language": "python",
   "name": "python3"
  },
  "language_info": {
   "codemirror_mode": {
    "name": "ipython",
    "version": 3
   },
   "file_extension": ".py",
   "mimetype": "text/x-python",
   "name": "python",
   "nbconvert_exporter": "python",
   "pygments_lexer": "ipython3",
   "version": "3.9.13"
  }
 },
 "nbformat": 4,
 "nbformat_minor": 5
}
