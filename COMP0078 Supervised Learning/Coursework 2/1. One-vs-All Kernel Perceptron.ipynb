{
 "cells": [
  {
   "cell_type": "markdown",
   "metadata": {},
   "source": [
    "# 1. The One-vs-All Kernel Perceptron"
   ]
  },
  {
   "cell_type": "markdown",
   "metadata": {},
   "source": [
    "## Libraries"
   ]
  },
  {
   "cell_type": "code",
   "execution_count": 93,
   "metadata": {},
   "outputs": [],
   "source": [
    "import numpy as np\n",
    "import pandas as pd\n",
    "\n",
    "import seaborn as sns\n",
    "import matplotlib.pyplot as plt\n",
    "\n",
    "import time\n",
    "from tqdm import tqdm\n",
    "from tabulate import tabulate\n",
    "\n",
    "from sklearn.metrics.pairwise import polynomial_kernel\n",
    "from sklearn.metrics.pairwise import euclidean_distances"
   ]
  },
  {
   "cell_type": "markdown",
   "metadata": {},
   "source": [
    "## Import Data"
   ]
  },
  {
   "cell_type": "code",
   "execution_count": 63,
   "metadata": {},
   "outputs": [
    {
     "data": {
      "text/html": [
       "<div>\n",
       "<style scoped>\n",
       "    .dataframe tbody tr th:only-of-type {\n",
       "        vertical-align: middle;\n",
       "    }\n",
       "\n",
       "    .dataframe tbody tr th {\n",
       "        vertical-align: top;\n",
       "    }\n",
       "\n",
       "    .dataframe thead th {\n",
       "        text-align: right;\n",
       "    }\n",
       "</style>\n",
       "<table border=\"1\" class=\"dataframe\">\n",
       "  <thead>\n",
       "    <tr style=\"text-align: right;\">\n",
       "      <th></th>\n",
       "      <th>label</th>\n",
       "      <th>1</th>\n",
       "      <th>2</th>\n",
       "      <th>3</th>\n",
       "      <th>4</th>\n",
       "      <th>5</th>\n",
       "      <th>6</th>\n",
       "      <th>7</th>\n",
       "      <th>8</th>\n",
       "      <th>9</th>\n",
       "      <th>...</th>\n",
       "      <th>247</th>\n",
       "      <th>248</th>\n",
       "      <th>249</th>\n",
       "      <th>250</th>\n",
       "      <th>251</th>\n",
       "      <th>252</th>\n",
       "      <th>253</th>\n",
       "      <th>254</th>\n",
       "      <th>255</th>\n",
       "      <th>256</th>\n",
       "    </tr>\n",
       "  </thead>\n",
       "  <tbody>\n",
       "    <tr>\n",
       "      <th>0</th>\n",
       "      <td>6.0</td>\n",
       "      <td>-1.0</td>\n",
       "      <td>-1.0</td>\n",
       "      <td>-1.0</td>\n",
       "      <td>-1.000</td>\n",
       "      <td>-1.000</td>\n",
       "      <td>-1.000</td>\n",
       "      <td>-1.000</td>\n",
       "      <td>-0.631</td>\n",
       "      <td>0.862</td>\n",
       "      <td>...</td>\n",
       "      <td>0.304</td>\n",
       "      <td>0.823</td>\n",
       "      <td>1.000</td>\n",
       "      <td>0.482</td>\n",
       "      <td>-0.474</td>\n",
       "      <td>-0.991</td>\n",
       "      <td>-1.000</td>\n",
       "      <td>-1.000</td>\n",
       "      <td>-1.000</td>\n",
       "      <td>-1.0</td>\n",
       "    </tr>\n",
       "    <tr>\n",
       "      <th>1</th>\n",
       "      <td>5.0</td>\n",
       "      <td>-1.0</td>\n",
       "      <td>-1.0</td>\n",
       "      <td>-1.0</td>\n",
       "      <td>-0.813</td>\n",
       "      <td>-0.671</td>\n",
       "      <td>-0.809</td>\n",
       "      <td>-0.887</td>\n",
       "      <td>-0.671</td>\n",
       "      <td>-0.853</td>\n",
       "      <td>...</td>\n",
       "      <td>-0.671</td>\n",
       "      <td>-0.671</td>\n",
       "      <td>-0.033</td>\n",
       "      <td>0.761</td>\n",
       "      <td>0.762</td>\n",
       "      <td>0.126</td>\n",
       "      <td>-0.095</td>\n",
       "      <td>-0.671</td>\n",
       "      <td>-0.828</td>\n",
       "      <td>-1.0</td>\n",
       "    </tr>\n",
       "    <tr>\n",
       "      <th>2</th>\n",
       "      <td>4.0</td>\n",
       "      <td>-1.0</td>\n",
       "      <td>-1.0</td>\n",
       "      <td>-1.0</td>\n",
       "      <td>-1.000</td>\n",
       "      <td>-1.000</td>\n",
       "      <td>-1.000</td>\n",
       "      <td>-1.000</td>\n",
       "      <td>-1.000</td>\n",
       "      <td>-1.000</td>\n",
       "      <td>...</td>\n",
       "      <td>-1.000</td>\n",
       "      <td>-1.000</td>\n",
       "      <td>-1.000</td>\n",
       "      <td>-0.109</td>\n",
       "      <td>1.000</td>\n",
       "      <td>-0.179</td>\n",
       "      <td>-1.000</td>\n",
       "      <td>-1.000</td>\n",
       "      <td>-1.000</td>\n",
       "      <td>-1.0</td>\n",
       "    </tr>\n",
       "    <tr>\n",
       "      <th>3</th>\n",
       "      <td>7.0</td>\n",
       "      <td>-1.0</td>\n",
       "      <td>-1.0</td>\n",
       "      <td>-1.0</td>\n",
       "      <td>-1.000</td>\n",
       "      <td>-1.000</td>\n",
       "      <td>-0.273</td>\n",
       "      <td>0.684</td>\n",
       "      <td>0.960</td>\n",
       "      <td>0.450</td>\n",
       "      <td>...</td>\n",
       "      <td>-0.318</td>\n",
       "      <td>1.000</td>\n",
       "      <td>0.536</td>\n",
       "      <td>-0.987</td>\n",
       "      <td>-1.000</td>\n",
       "      <td>-1.000</td>\n",
       "      <td>-1.000</td>\n",
       "      <td>-1.000</td>\n",
       "      <td>-1.000</td>\n",
       "      <td>-1.0</td>\n",
       "    </tr>\n",
       "    <tr>\n",
       "      <th>4</th>\n",
       "      <td>3.0</td>\n",
       "      <td>-1.0</td>\n",
       "      <td>-1.0</td>\n",
       "      <td>-1.0</td>\n",
       "      <td>-1.000</td>\n",
       "      <td>-1.000</td>\n",
       "      <td>-0.928</td>\n",
       "      <td>-0.204</td>\n",
       "      <td>0.751</td>\n",
       "      <td>0.466</td>\n",
       "      <td>...</td>\n",
       "      <td>0.466</td>\n",
       "      <td>0.639</td>\n",
       "      <td>1.000</td>\n",
       "      <td>1.000</td>\n",
       "      <td>0.791</td>\n",
       "      <td>0.439</td>\n",
       "      <td>-0.199</td>\n",
       "      <td>-0.883</td>\n",
       "      <td>-1.000</td>\n",
       "      <td>-1.0</td>\n",
       "    </tr>\n",
       "  </tbody>\n",
       "</table>\n",
       "<p>5 rows × 257 columns</p>\n",
       "</div>"
      ],
      "text/plain": [
       "   label    1    2    3      4      5      6      7      8      9  ...    247  \\\n",
       "0    6.0 -1.0 -1.0 -1.0 -1.000 -1.000 -1.000 -1.000 -0.631  0.862  ...  0.304   \n",
       "1    5.0 -1.0 -1.0 -1.0 -0.813 -0.671 -0.809 -0.887 -0.671 -0.853  ... -0.671   \n",
       "2    4.0 -1.0 -1.0 -1.0 -1.000 -1.000 -1.000 -1.000 -1.000 -1.000  ... -1.000   \n",
       "3    7.0 -1.0 -1.0 -1.0 -1.000 -1.000 -0.273  0.684  0.960  0.450  ... -0.318   \n",
       "4    3.0 -1.0 -1.0 -1.0 -1.000 -1.000 -0.928 -0.204  0.751  0.466  ...  0.466   \n",
       "\n",
       "     248    249    250    251    252    253    254    255  256  \n",
       "0  0.823  1.000  0.482 -0.474 -0.991 -1.000 -1.000 -1.000 -1.0  \n",
       "1 -0.671 -0.033  0.761  0.762  0.126 -0.095 -0.671 -0.828 -1.0  \n",
       "2 -1.000 -1.000 -0.109  1.000 -0.179 -1.000 -1.000 -1.000 -1.0  \n",
       "3  1.000  0.536 -0.987 -1.000 -1.000 -1.000 -1.000 -1.000 -1.0  \n",
       "4  0.639  1.000  1.000  0.791  0.439 -0.199 -0.883 -1.000 -1.0  \n",
       "\n",
       "[5 rows x 257 columns]"
      ]
     },
     "execution_count": 63,
     "metadata": {},
     "output_type": "execute_result"
    }
   ],
   "source": [
    "#import the dataset\n",
    "df = pd.read_csv('zipcombo.csv')\n",
    "df.head()"
   ]
  },
  {
   "cell_type": "code",
   "execution_count": 157,
   "metadata": {},
   "outputs": [],
   "source": [
    "#split the data into features X and target y\n",
    "X = df[df.columns[1:]].values.copy()\n",
    "y = df['label'].values.copy()"
   ]
  },
  {
   "cell_type": "markdown",
   "metadata": {},
   "source": [
    "## Kernel Functions"
   ]
  },
  {
   "cell_type": "code",
   "execution_count": 65,
   "metadata": {},
   "outputs": [],
   "source": [
    "#function to perform mapping with the polynomial kernel\n",
    "def polynomial(X_i, X_j, d):\n",
    "    '''\n",
    "    d: dimension fo the polynomial kernel\n",
    "    '''\n",
    "    K = ( X_i.dot(X_j.T) ) ** d\n",
    "    return K\n",
    "\n",
    "#a fast implementaion of the polynomial kernel\n",
    "def fast_polynomial(X_i, X_j, d):\n",
    "    '''\n",
    "    d: dimension fo the polynomial kernel\n",
    "    '''\n",
    "    K = polynomial_kernel(X_i, Y=X_j, degree=d)\n",
    "    return K \n",
    "\n",
    "#function to perform mapping with the gaussian kernel\n",
    "def gaussian(X_i, X_j, c):\n",
    "    '''\n",
    "    c: width of the gaussian kernel\n",
    "    '''\n",
    "    m, n = len(X_i), len(X_j)\n",
    "    K = np.zeros((m,n))            #initialize the mapped feature matrix\n",
    "    for i in range(m):\n",
    "        for j in range(n):\n",
    "            K[i][j] = np.exp( -c * np.linalg.norm(X_i[i]-X_j[j]) ** 2 )\n",
    "    return K\n",
    "\n",
    "#a faster implementation of the gaussian kernel\n",
    "def fast_gaussian(X_i, X_j, c):\n",
    "    '''\n",
    "    c: width of the gaussian kernel\n",
    "    '''\n",
    "    K = euclidean_distances(X_i, X_j)\n",
    "    K = np.exp( -c * K ** 2 )\n",
    "    return K"
   ]
  },
  {
   "cell_type": "markdown",
   "metadata": {},
   "source": [
    "## Train-Test Split Functions"
   ]
  },
  {
   "cell_type": "code",
   "execution_count": 272,
   "metadata": {},
   "outputs": [],
   "source": [
    "def shuffle_data(X, y, seed=None):\n",
    "    if seed:                         #set a random seed for reproducable results\n",
    "        np.random.seed(seed)\n",
    "    idx = np.arange(len(X))          \n",
    "    np.random.shuffle(idx)           #shuffle the index\n",
    "    return X[idx], y[idx]\n",
    "\n",
    "#function to perform train-test split\n",
    "def train_test_split(X, y, train_split, shuffle, seed=None):\n",
    "    '''\n",
    "    train_split: percentage of data for training\n",
    "    '''\n",
    "    if shuffle:                                     #shuffle the data if needed\n",
    "        X, y = shuffle_data(X, y, seed)\n",
    "    n_train = int(train_split*len(X))               #find the split location\n",
    "    X_train, X_test = X[:n_train], X[n_train:]      \n",
    "    y_train, y_test = y[:n_train], y[n_train:]\n",
    "    return X_train, X_test, y_train, y_test\n",
    "\n",
    "#function to split data for k-fold cross-validation\n",
    "def KFold(X, y, k):\n",
    "    m = len(X)\n",
    "    n_split = int(m/k)         \n",
    "    X_train_fold, X_valid_fold, y_train_fold, y_valid_fold = [], [], [], []\n",
    "    for fold in range(1, k+1):\n",
    "        X_valid = X[(fold-1)*n_split:fold*n_split]\n",
    "        y_valid = y[(fold-1)*n_split:fold*n_split]\n",
    "        X_train = np.append(X[0:(fold-1)*n_split], X[fold*n_split:], axis=0)\n",
    "        y_train = np.append(y[0:(fold-1)*n_split], y[fold*n_split:], axis=0)\n",
    "        X_train_fold.append(X_train)\n",
    "        X_valid_fold.append(X_valid)\n",
    "        y_train_fold.append(y_train)\n",
    "        y_valid_fold.append(y_valid)\n",
    "    return X_train_fold, X_valid_fold, y_train_fold, y_valid_fold"
   ]
  },
  {
   "cell_type": "markdown",
   "metadata": {},
   "source": [
    "## One-vs-All Kernel Perceptron"
   ]
  },
  {
   "attachments": {
    "image.png": {
     "image/png": "[encoded data removed]"
    }
   },
   "cell_type": "markdown",
   "metadata": {},
   "source": [
    "<div>\n",
    "<img src=\"attachment:image.png\" width=\"600\"/>\n",
    "</div>"
   ]
  },
  {
   "cell_type": "code",
   "execution_count": 155,
   "metadata": {},
   "outputs": [],
   "source": [
    "class MultiKernelPerceptron(object):\n",
    "    \n",
    "    def __init__(self, X_train, y_train, X_test, y_test, kernel, kernel_param, epochs):\n",
    "        \n",
    "        #initialize the datasets\n",
    "        self.X_train = X_train\n",
    "        self.y_train = y_train\n",
    "        self.X_test = X_test\n",
    "        self.y_test = y_test\n",
    "        \n",
    "        #initialize the sizes\n",
    "        self.epochs = epochs\n",
    "        self.batch_size = len(self.y_train)  \n",
    "        self.test_size = len(self.y_test)\n",
    "        self.classes = np.unique(np.append(self.y_train, self.y_test))\n",
    "        self.n_c = len(self.classes)\n",
    "        \n",
    "        #initialize the kernel method\n",
    "        self.kernel = kernel\n",
    "        self.kernel_param = kernel_param\n",
    "        \n",
    "        #initialize the mapped data with kernelization\n",
    "        if kernel == 'p':\n",
    "            self.K = fast_polynomial(self.X_train, self.X_train, self.kernel_param)\n",
    "            self.K_test = fast_polynomial(self.X_test, self.X_train, self.kernel_param)\n",
    "        if kernel =='g':\n",
    "            self.K = fast_gaussian(self.X_train, self.X_train, self.kernel_param)\n",
    "            self.K_test = fast_gaussian(self.X_test, self.X_train, self.kernel_param)   \n",
    "        \n",
    "        #initialize the alpha matrix: n_c × m\n",
    "        self.alpha = np.zeros(shape=(self.n_c, self.batch_size))\n",
    "        \n",
    "        #intialize the confidence matrices: m × n_c\n",
    "        self.confidence = np.zeros(shape=(self.batch_size, self.n_c))\n",
    "        self.confidence_test = np.zeros(shape=(self.batch_size, self.n_c))\n",
    "        \n",
    "        #initialize the confusion matrix: n_c × n_c\n",
    "        self.confusion = np.zeros(shape=(self.n_c, self.n_c))\n",
    "        \n",
    "\n",
    "    def predict(self, i, data):\n",
    "        if data == 'train':\n",
    "            confidence = np.dot(self.alpha, self.K[i])             #compute the confidence\n",
    "            self.confidence[i,:] = confidence                      #store the results in the condifence matrix\n",
    "            y_pred = np.argmax(confidence)                         #make the final prediction\n",
    "        elif data == 'test':\n",
    "            confidence = np.dot(self.alpha, self.K_test[i])\n",
    "            self.confidence_test[i,:] = confidence\n",
    "            y_pred = np.argmax(confidence)\n",
    "        return confidence, y_pred\n",
    "        \n",
    "    \n",
    "    def train(self):\n",
    "        for _ in range(self.epochs):                    #train the algorithm over 10 epoches\n",
    "            errors = 0                                  #reset the count of mistakes to 0 at the beginning of each epoch\n",
    "            for i in range(self.batch_size):            #sequentially train the algorithm over each sample\n",
    "                confidence, y_pred = self.predict(i, 'train')      #make prediction\n",
    "                label = int(self.y_train[i])\n",
    "                if int(y_pred) != label:                           #if the prediction does not match the label\n",
    "                    errors += 1                                    #increase the count of mistakes by 1\n",
    "                    self.alpha[label, i] += 1                      #update the alpha \n",
    "                    self.alpha[y_pred, i] -= 1\n",
    "            error_rate = (errors/self.batch_size) * 100            #compute the error rate for this epoch\n",
    "        return error_rate                                          #return the training error rate on the last epoch\n",
    "    \n",
    "    \n",
    "    def test(self):\n",
    "        errors = 0\n",
    "        for i in range(self.test_size):\n",
    "            confidence, y_pred = self.predict(i, 'test') \n",
    "            label = int(self.y_test[i])\n",
    "            if int(y_pred) != label:\n",
    "                errors += 1\n",
    "                self.confusion[label, int(y_pred)] += 1       #update the copnfusion matrix \n",
    "        for i in range(self.n_c):                             #for each class\n",
    "            count = list(self.y_test).count(i)                      #count the number of class i in the test set\n",
    "            self.confusion[i] = self.confusion[i] / count     #compute the error rates\n",
    "        error_rate = (errors/self.test_size) * 100 \n",
    "        return error_rate "
   ]
  },
  {
   "cell_type": "markdown",
   "metadata": {},
   "source": [
    "## Basic Results"
   ]
  },
  {
   "cell_type": "code",
   "execution_count": 104,
   "metadata": {
    "scrolled": true
   },
   "outputs": [
    {
     "name": "stderr",
     "output_type": "stream",
     "text": [
      "100%|██████████████████████████████████████████████████████████████████████████████████| 20/20 [01:28<00:00,  4.42s/it]\n",
      "  0%|                                                                                           | 0/20 [00:00<?, ?it/s]"
     ]
    },
    {
     "name": "stdout",
     "output_type": "stream",
     "text": [
      "Polynomial order:  1 , mean train error:  9.023931164291476 , mean test error:  9.631720430107526\n"
     ]
    },
    {
     "name": "stderr",
     "output_type": "stream",
     "text": [
      "100%|██████████████████████████████████████████████████████████████████████████████████| 20/20 [02:40<00:00,  8.00s/it]\n",
      "  0%|                                                                                           | 0/20 [00:00<?, ?it/s]"
     ]
    },
    {
     "name": "stdout",
     "output_type": "stream",
     "text": [
      "Polynomial order:  2 , mean train error:  4.768082817961817 , mean test error:  6.908602150537634\n"
     ]
    },
    {
     "name": "stderr",
     "output_type": "stream",
     "text": [
      "100%|██████████████████████████████████████████████████████████████████████████████████| 20/20 [01:29<00:00,  4.50s/it]\n",
      "  0%|                                                                                           | 0/20 [00:00<?, ?it/s]"
     ]
    },
    {
     "name": "stdout",
     "output_type": "stream",
     "text": [
      "Polynomial order:  3 , mean train error:  2.5746168324818504 , mean test error:  4.92741935483871\n"
     ]
    },
    {
     "name": "stderr",
     "output_type": "stream",
     "text": [
      "100%|██████████████████████████████████████████████████████████████████████████████████| 20/20 [01:26<00:00,  4.33s/it]\n",
      "  0%|                                                                                           | 0/20 [00:00<?, ?it/s]"
     ]
    },
    {
     "name": "stdout",
     "output_type": "stream",
     "text": [
      "Polynomial order:  4 , mean train error:  1.6509814466254369 , mean test error:  4.752688172043011\n"
     ]
    },
    {
     "name": "stderr",
     "output_type": "stream",
     "text": [
      "100%|██████████████████████████████████████████████████████████████████████████████████| 20/20 [01:41<00:00,  5.05s/it]\n",
      "  0%|                                                                                           | 0/20 [00:00<?, ?it/s]"
     ]
    },
    {
     "name": "stdout",
     "output_type": "stream",
     "text": [
      "Polynomial order:  5 , mean train error:  1.1118580263511697 , mean test error:  4.048387096774194\n"
     ]
    },
    {
     "name": "stderr",
     "output_type": "stream",
     "text": [
      "100%|██████████████████████████████████████████████████████████████████████████████████| 20/20 [01:26<00:00,  4.32s/it]\n",
      "  0%|                                                                                           | 0/20 [00:00<?, ?it/s]"
     ]
    },
    {
     "name": "stdout",
     "output_type": "stream",
     "text": [
      "Polynomial order:  6 , mean train error:  0.8120462489916644 , mean test error:  3.7876344086021505\n"
     ]
    },
    {
     "name": "stderr",
     "output_type": "stream",
     "text": [
      "100%|██████████████████████████████████████████████████████████████████████████████████| 20/20 [01:34<00:00,  4.74s/it]"
     ]
    },
    {
     "name": "stdout",
     "output_type": "stream",
     "text": [
      "Polynomial order:  7 , mean train error:  0.6460069911266471 , mean test error:  3.561827956989247\n"
     ]
    },
    {
     "name": "stderr",
     "output_type": "stream",
     "text": [
      "\n"
     ]
    }
   ],
   "source": [
    "#initialization\n",
    "np.random.seed(0)\n",
    "train_split = 0.8\n",
    "d_list = np.arange(1,8)\n",
    "train_error, train_std, test_error, test_std = [], [], [], []\n",
    "\n",
    "for d in d_list:               #for different dimensions of the polynomial kernel\n",
    "    single_run_train_errors, single_run_test_errors = [], []\n",
    "    for run in tqdm(range(20)):      #perform 20 runs\n",
    "        X_train, X_test, y_train, y_test = train_test_split(X, y, train_split, shuffle=True)     #randomly split the data\n",
    "        clf = MultiKernelPerceptron(X_train, y_train, X_test, y_test, kernel='p', kernel_param=d, epochs=5)\n",
    "        train_e = clf.train()                            #compute the training error on the 80% data\n",
    "        single_run_train_errors.append(train_e)\n",
    "        test_e = clf.test()                              #compute the test error on the 20% data\n",
    "        single_run_test_errors.append(test_e) \n",
    "    train_error.append(np.mean(single_run_train_errors))\n",
    "    train_std.append(np.std(single_run_train_errors))\n",
    "    test_error.append(np.mean(single_run_test_errors))\n",
    "    test_std.append(np.std(single_run_test_errors))\n",
    "    print('Polynomial order: ', d, ', mean train error: ', train_error[-1], ', mean test error: ', test_error[-1])"
   ]
  },
  {
   "cell_type": "code",
   "execution_count": 114,
   "metadata": {},
   "outputs": [
    {
     "name": "stdout",
     "output_type": "stream",
     "text": [
      "┌─────┬──────────────────────────────┬─────────────────────────────┐\n",
      "│   d │  Mean Train Error Rates (%)  │  Mean Test Error Rates (%)  │\n",
      "├─────┼──────────────────────────────┼─────────────────────────────┤\n",
      "│   1 │        9.0239±0.2944         │        9.6317±1.8428        │\n",
      "│   2 │        4.7681±0.2877         │        6.9086±1.5810        │\n",
      "│   3 │        2.5746±0.1838         │        4.9274±0.6437        │\n",
      "│   4 │        1.6510±0.1692         │        4.7527±0.7367        │\n",
      "│   5 │        1.1119±0.1261         │        4.0484±0.6295        │\n",
      "│   6 │        0.8120±0.1401         │        3.7876±0.6084        │\n",
      "│   7 │        0.6460±0.1170         │        3.5618±0.4026        │\n",
      "└─────┴──────────────────────────────┴─────────────────────────────┘\n"
     ]
    }
   ],
   "source": [
    "#tabulate the results\n",
    "data = []\n",
    "for i in range(len(d_list)):\n",
    "    train_result = f\"{'{:.4f}'.format(train_error[i])}±{'{:.4f}'.format(train_std[i])}\"\n",
    "    test_result = f\"{'{:.4f}'.format(test_error[i])}±{'{:.4f}'.format(test_std[i])}\"\n",
    "    result = [int(d_list[i]), train_result, test_result]\n",
    "    data.append(result)\n",
    "print(tabulate(data, \n",
    "               headers = [\"d\", \"Mean Train Error Rates (%)\", \"Mean Test Error Rates (%)\"], \n",
    "               tablefmt = \"simple_outline\",\n",
    "               stralign = \"center\"))"
   ]
  },
  {
   "cell_type": "markdown",
   "metadata": {},
   "source": [
    "## Cross-Validation"
   ]
  },
  {
   "cell_type": "code",
   "execution_count": 135,
   "metadata": {},
   "outputs": [
    {
     "name": "stderr",
     "output_type": "stream",
     "text": [
      "100%|█████████████████████████████████████████████████████████████████████████████████| 20/20 [43:28<00:00, 130.43s/it]\n"
     ]
    }
   ],
   "source": [
    "#initialization \n",
    "np.random.seed(1)\n",
    "train_split = 0.8\n",
    "d_stars, test_errors = [], []\n",
    "\n",
    "for run in tqdm(range(20)):          #perform 20 runs\n",
    "    X_train, X_test, y_train, y_test = train_test_split(X, y, train_split, shuffle=True)     #randomly split the data\n",
    "    d_star, best_error = 0, float('inf')            #initialize the best d and best error\n",
    "    for d in d_list:           #try different dimensions of the polynomial kernel\n",
    "        valid_errors = []      #initialize a list to store validation errors\n",
    "        X_train_frold, X_valid_fold, y_train_fold, y_valid_fold = KFold(X_train, y_train, 5)    #split the training set into 5 folds\n",
    "        for Xtrain, Xvalid, ytrain, yvalid in zip(X_train_frold, X_valid_fold, y_train_fold, y_valid_fold):\n",
    "            clf = MultiKernelPerceptron(Xtrain, ytrain, Xvalid, yvalid, kernel='p', kernel_param=d, epochs=5)\n",
    "            train_error = clf.train()               #train the classifier\n",
    "            valid_errors.append(clf.test())         #evalaute the classifier on the validation set\n",
    "        if np.mean(valid_errors) < best_error:      #if the current d value gives a lower error rate\n",
    "            best_error = np.mean(valid_errors)      #update the best error so far\n",
    "            d_star = d                              #update the best d value so far\n",
    "    #retrain the classifier on the entire training set with the best d value\n",
    "    clf = MultiKernelPerceptron(X_train, y_train, X_test, y_test, kernel='p', kernel_param=d_star, epochs=5)   \n",
    "    train_error = clf.train()\n",
    "    test_error = clf.test()\n",
    "    test_errors.append(test_error)\n",
    "    d_stars.append(d_star)\n",
    "    print('d*: ', d_star, ', test error rate: ', test_errors[-1])"
   ]
  },
  {
   "cell_type": "code",
   "execution_count": 146,
   "metadata": {},
   "outputs": [
    {
     "name": "stdout",
     "output_type": "stream",
     "text": [
      "┌───────┬──────┬─────────────────────────────┐\n",
      "│  run  │  d*  │  Mean Test Error Rates (%)  │\n",
      "├───────┼──────┼─────────────────────────────┤\n",
      "│   1   │  5   │           3.3871            │\n",
      "│   2   │  7   │           2.8495            │\n",
      "│   3   │  7   │           3.2796            │\n",
      "│   4   │  7   │           3.1183            │\n",
      "│   5   │  7   │           3.4946            │\n",
      "│   6   │  7   │            4.086            │\n",
      "│   7   │  7   │           3.4946            │\n",
      "│   8   │  5   │           3.4946            │\n",
      "│   9   │  6   │           3.2258            │\n",
      "│  10   │  7   │           3.4409            │\n",
      "│  11   │  6   │           4.5161            │\n",
      "│  12   │  7   │            4.086            │\n",
      "│  13   │  6   │           3.6559            │\n",
      "│  14   │  6   │           3.1183            │\n",
      "│  15   │  6   │           4.3011            │\n",
      "│  16   │  4   │           4.6237            │\n",
      "│  17   │  6   │           3.3333            │\n",
      "│  18   │  7   │           2.5806            │\n",
      "│  19   │  4   │           4.3548            │\n",
      "│  20   │  7   │           2.6344            │\n",
      "└───────┴──────┴─────────────────────────────┘\n"
     ]
    }
   ],
   "source": [
    "#tabulate the results\n",
    "data = []\n",
    "for i in range(20):\n",
    "    test_result = f\"{'{:.4f}'.format(test_errors[i])}\"\n",
    "    result = [int(i+1), d_stars[i], test_result]\n",
    "    data.append(result)\n",
    "print(tabulate(data, \n",
    "               headers = [\"run\", \"d*\", \"Test Error Rates (%)\"], \n",
    "               tablefmt = \"simple_outline\",\n",
    "               numalign = \"center\"))"
   ]
  },
  {
   "cell_type": "code",
   "execution_count": 144,
   "metadata": {},
   "outputs": [
    {
     "name": "stdout",
     "output_type": "stream",
     "text": [
      "Mean d*:  6.2 ± 1.0\n",
      "Mean Test Error (%):  3.55 ± 0.58\n"
     ]
    }
   ],
   "source": [
    "print('Mean d*: ', f\"{'{:.1f}'.format(np.mean(d_stars))} ± {'{:.1f}'.format(np.std(d_stars))}\")\n",
    "print('Mean Test Error (%): ', f\"{'{:.2f}'.format(np.mean(test_errors))} ± {'{:.2f}'.format(np.std(test_errors))}\")"
   ]
  },
  {
   "cell_type": "markdown",
   "metadata": {},
   "source": [
    "## Confusion Matrix"
   ]
  },
  {
   "cell_type": "code",
   "execution_count": 164,
   "metadata": {
    "scrolled": true
   },
   "outputs": [
    {
     "name": "stderr",
     "output_type": "stream",
     "text": [
      "  5%|████                                                                              | 1/20 [02:33<48:39, 153.67s/it]"
     ]
    },
    {
     "name": "stdout",
     "output_type": "stream",
     "text": [
      "Run:  0 , Confusion Matrix: \n",
      " [[0.         0.00347222 0.         0.         0.         0.01388889\n",
      "  0.         0.         0.         0.        ]\n",
      " [0.         0.         0.         0.         0.         0.\n",
      "  0.         0.         0.         0.        ]\n",
      " [0.         0.00980392 0.         0.01470588 0.         0.\n",
      "  0.         0.01470588 0.         0.        ]\n",
      " [0.         0.         0.         0.         0.         0.\n",
      "  0.         0.00564972 0.00564972 0.        ]\n",
      " [0.00568182 0.01704545 0.01704545 0.         0.         0.02272727\n",
      "  0.00568182 0.03977273 0.         0.02840909]\n",
      " [0.         0.         0.01351351 0.01351351 0.00675676 0.\n",
      "  0.02027027 0.         0.         0.        ]\n",
      " [0.         0.         0.         0.         0.         0.\n",
      "  0.         0.         0.         0.        ]\n",
      " [0.         0.         0.         0.         0.00625    0.\n",
      "  0.         0.         0.00625    0.01875   ]\n",
      " [0.         0.         0.01515152 0.0530303  0.         0.03030303\n",
      "  0.         0.00757576 0.         0.00757576]\n",
      " [0.         0.00628931 0.         0.00628931 0.         0.\n",
      "  0.         0.00628931 0.         0.        ]]\n"
     ]
    },
    {
     "name": "stderr",
     "output_type": "stream",
     "text": [
      "\r",
      " 10%|████████▏                                                                         | 2/20 [04:49<42:55, 143.06s/it]"
     ]
    },
    {
     "name": "stdout",
     "output_type": "stream",
     "text": [
      "Run:  1 , Confusion Matrix: \n",
      " [[0.         0.         0.         0.         0.00330033 0.00330033\n",
      "  0.         0.         0.         0.00330033]\n",
      " [0.         0.         0.         0.         0.00369004 0.\n",
      "  0.00369004 0.         0.         0.00369004]\n",
      " [0.         0.00502513 0.         0.         0.01507538 0.00502513\n",
      "  0.01005025 0.00502513 0.         0.        ]\n",
      " [0.         0.         0.01775148 0.         0.         0.06508876\n",
      "  0.         0.         0.0295858  0.        ]\n",
      " [0.         0.00645161 0.         0.         0.         0.00645161\n",
      "  0.01290323 0.00645161 0.00645161 0.        ]\n",
      " [0.         0.         0.01428571 0.00714286 0.00714286 0.\n",
      "  0.         0.         0.         0.        ]\n",
      " [0.00617284 0.         0.         0.         0.         0.00617284\n",
      "  0.         0.         0.01234568 0.        ]\n",
      " [0.         0.         0.00666667 0.         0.         0.\n",
      "  0.         0.         0.         0.00666667]\n",
      " [0.         0.         0.         0.         0.         0.0397351\n",
      "  0.         0.         0.         0.        ]\n",
      " [0.         0.         0.         0.         0.01875    0.\n",
      "  0.         0.00625    0.00625    0.        ]]\n"
     ]
    },
    {
     "name": "stderr",
     "output_type": "stream",
     "text": [
      "\r",
      " 15%|████████████▎                                                                     | 3/20 [06:42<36:42, 129.56s/it]"
     ]
    },
    {
     "name": "stdout",
     "output_type": "stream",
     "text": [
      "Run:  2 , Confusion Matrix: \n",
      " [[0.         0.         0.         0.00307692 0.00307692 0.00307692\n",
      "  0.         0.         0.00307692 0.        ]\n",
      " [0.         0.         0.00408163 0.         0.00816327 0.\n",
      "  0.         0.         0.         0.        ]\n",
      " [0.         0.01086957 0.         0.01086957 0.00543478 0.\n",
      "  0.         0.         0.         0.        ]\n",
      " [0.         0.         0.         0.         0.01176471 0.\n",
      "  0.         0.01176471 0.02352941 0.00588235]\n",
      " [0.         0.         0.         0.         0.         0.00546448\n",
      "  0.         0.         0.         0.00546448]\n",
      " [0.00735294 0.         0.00735294 0.03676471 0.01470588 0.\n",
      "  0.00735294 0.         0.01470588 0.        ]\n",
      " [0.00636943 0.         0.         0.         0.01910828 0.00636943\n",
      "  0.         0.         0.00636943 0.        ]\n",
      " [0.         0.         0.         0.         0.02097902 0.\n",
      "  0.         0.         0.         0.01398601]\n",
      " [0.01360544 0.01360544 0.         0.00680272 0.01360544 0.00680272\n",
      "  0.         0.         0.         0.        ]\n",
      " [0.         0.         0.         0.00588235 0.01764706 0.\n",
      "  0.         0.00588235 0.00588235 0.        ]]\n"
     ]
    },
    {
     "name": "stderr",
     "output_type": "stream",
     "text": [
      "\r",
      " 20%|████████████████▍                                                                 | 4/20 [08:24<31:39, 118.72s/it]"
     ]
    },
    {
     "name": "stdout",
     "output_type": "stream",
     "text": [
      "Run:  3 , Confusion Matrix: \n",
      " [[0.         0.00320513 0.         0.00320513 0.         0.\n",
      "  0.00320513 0.         0.00320513 0.00320513]\n",
      " [0.         0.         0.         0.         0.         0.\n",
      "  0.004329   0.         0.         0.        ]\n",
      " [0.         0.         0.         0.01025641 0.01025641 0.00512821\n",
      "  0.00512821 0.         0.02051282 0.00512821]\n",
      " [0.         0.         0.         0.         0.         0.01704545\n",
      "  0.         0.         0.01704545 0.        ]\n",
      " [0.         0.04022989 0.         0.00574713 0.         0.\n",
      "  0.01724138 0.01149425 0.         0.04597701]\n",
      " [0.00632911 0.00632911 0.         0.01265823 0.00632911 0.\n",
      "  0.00632911 0.         0.         0.        ]\n",
      " [0.00613497 0.00613497 0.01226994 0.         0.00613497 0.\n",
      "  0.         0.         0.01226994 0.        ]\n",
      " [0.         0.01369863 0.         0.         0.         0.\n",
      "  0.         0.         0.01369863 0.07534247]\n",
      " [0.00724638 0.         0.         0.         0.00724638 0.\n",
      "  0.         0.00724638 0.         0.        ]\n",
      " [0.         0.         0.         0.         0.         0.\n",
      "  0.         0.         0.         0.        ]]\n"
     ]
    },
    {
     "name": "stderr",
     "output_type": "stream",
     "text": [
      "\r",
      " 25%|████████████████████▌                                                             | 5/20 [10:05<28:04, 112.32s/it]"
     ]
    },
    {
     "name": "stdout",
     "output_type": "stream",
     "text": [
      "Run:  4 , Confusion Matrix: \n",
      " [[0.         0.         0.         0.00983607 0.         0.\n",
      "  0.00327869 0.         0.00655738 0.00327869]\n",
      " [0.         0.         0.         0.         0.00409836 0.\n",
      "  0.00409836 0.         0.         0.        ]\n",
      " [0.         0.         0.         0.00505051 0.00505051 0.\n",
      "  0.         0.         0.00505051 0.        ]\n",
      " [0.         0.         0.00606061 0.         0.         0.\n",
      "  0.         0.01212121 0.01212121 0.        ]\n",
      " [0.00578035 0.01156069 0.         0.         0.         0.01156069\n",
      "  0.00578035 0.00578035 0.00578035 0.04624277]\n",
      " [0.         0.         0.01282051 0.02564103 0.00641026 0.\n",
      "  0.01923077 0.         0.05128205 0.00641026]\n",
      " [0.         0.         0.         0.         0.         0.00621118\n",
      "  0.         0.         0.         0.        ]\n",
      " [0.         0.         0.00621118 0.         0.         0.00621118\n",
      "  0.         0.         0.01863354 0.        ]\n",
      " [0.         0.00714286 0.         0.01428571 0.00714286 0.\n",
      "  0.         0.         0.         0.        ]\n",
      " [0.         0.00636943 0.00636943 0.00636943 0.01910828 0.\n",
      "  0.         0.00636943 0.01273885 0.        ]]\n"
     ]
    },
    {
     "name": "stderr",
     "output_type": "stream",
     "text": [
      "\r",
      " 30%|████████████████████████▌                                                         | 6/20 [11:45<25:11, 107.96s/it]"
     ]
    },
    {
     "name": "stdout",
     "output_type": "stream",
     "text": [
      "Run:  5 , Confusion Matrix: \n",
      " [[0.         0.         0.         0.00347222 0.         0.\n",
      "  0.00347222 0.         0.         0.        ]\n",
      " [0.         0.         0.         0.         0.01606426 0.\n",
      "  0.00401606 0.00401606 0.         0.        ]\n",
      " [0.00546448 0.         0.         0.01092896 0.00546448 0.\n",
      "  0.         0.01092896 0.01639344 0.00546448]\n",
      " [0.01183432 0.         0.         0.         0.         0.01183432\n",
      "  0.         0.         0.         0.        ]\n",
      " [0.         0.00645161 0.00645161 0.         0.         0.\n",
      "  0.         0.         0.         0.00645161]\n",
      " [0.02424242 0.         0.         0.02424242 0.         0.\n",
      "  0.00606061 0.00606061 0.00606061 0.01818182]\n",
      " [0.01142857 0.00571429 0.00571429 0.         0.01142857 0.01142857\n",
      "  0.         0.         0.00571429 0.        ]\n",
      " [0.         0.         0.00617284 0.01234568 0.         0.\n",
      "  0.         0.         0.00617284 0.00617284]\n",
      " [0.         0.         0.00684932 0.01369863 0.01369863 0.\n",
      "  0.         0.00684932 0.         0.00684932]\n",
      " [0.         0.         0.         0.         0.01190476 0.00595238\n",
      "  0.         0.01785714 0.         0.        ]]\n"
     ]
    },
    {
     "name": "stderr",
     "output_type": "stream",
     "text": [
      "\r",
      " 35%|████████████████████████████▋                                                     | 7/20 [13:26<22:55, 105.84s/it]"
     ]
    },
    {
     "name": "stdout",
     "output_type": "stream",
     "text": [
      "Run:  6 , Confusion Matrix: \n",
      " [[0.         0.         0.0033557  0.00671141 0.0033557  0.01342282\n",
      "  0.00671141 0.         0.         0.        ]\n",
      " [0.         0.         0.         0.         0.00384615 0.\n",
      "  0.00384615 0.00384615 0.         0.        ]\n",
      " [0.         0.         0.         0.0201005  0.00502513 0.\n",
      "  0.00502513 0.01507538 0.01005025 0.00502513]\n",
      " [0.         0.         0.01587302 0.         0.         0.01058201\n",
      "  0.         0.00529101 0.01058201 0.        ]\n",
      " [0.         0.         0.00613497 0.         0.         0.02453988\n",
      "  0.01840491 0.         0.         0.03067485]\n",
      " [0.015625   0.         0.0078125  0.         0.         0.\n",
      "  0.0234375  0.         0.0078125  0.03125   ]\n",
      " [0.         0.00588235 0.00588235 0.         0.         0.\n",
      "  0.         0.         0.         0.        ]\n",
      " [0.         0.         0.00649351 0.         0.01948052 0.\n",
      "  0.         0.         0.         0.02597403]\n",
      " [0.         0.         0.         0.02173913 0.00724638 0.00724638\n",
      "  0.         0.00724638 0.         0.00724638]\n",
      " [0.         0.         0.00621118 0.         0.00621118 0.\n",
      "  0.         0.01863354 0.00621118 0.        ]]\n"
     ]
    },
    {
     "name": "stderr",
     "output_type": "stream",
     "text": [
      "\r",
      " 40%|████████████████████████████████▊                                                 | 8/20 [15:08<20:52, 104.38s/it]"
     ]
    },
    {
     "name": "stdout",
     "output_type": "stream",
     "text": [
      "Run:  7 , Confusion Matrix: \n",
      " [[0.         0.         0.         0.         0.00331126 0.00331126\n",
      "  0.         0.         0.         0.00331126]\n",
      " [0.         0.         0.         0.         0.00806452 0.\n",
      "  0.         0.         0.         0.        ]\n",
      " [0.00561798 0.         0.         0.00561798 0.01123596 0.00561798\n",
      "  0.         0.01685393 0.00561798 0.        ]\n",
      " [0.         0.         0.00625    0.         0.         0.025\n",
      "  0.         0.         0.00625    0.        ]\n",
      " [0.         0.         0.00571429 0.         0.         0.00571429\n",
      "  0.         0.         0.         0.01142857]\n",
      " [0.         0.         0.         0.02919708 0.00729927 0.\n",
      "  0.00729927 0.         0.         0.        ]\n",
      " [0.         0.         0.         0.         0.         0.\n",
      "  0.         0.         0.         0.        ]\n",
      " [0.         0.         0.         0.         0.00671141 0.\n",
      "  0.         0.         0.00671141 0.02684564]\n",
      " [0.00625    0.         0.         0.0125     0.         0.0125\n",
      "  0.         0.0125     0.         0.00625   ]\n",
      " [0.00534759 0.         0.         0.00534759 0.02673797 0.00534759\n",
      "  0.         0.00534759 0.02139037 0.        ]]\n"
     ]
    },
    {
     "name": "stderr",
     "output_type": "stream",
     "text": [
      "\r",
      " 45%|████████████████████████████████████▉                                             | 9/20 [16:49<18:56, 103.35s/it]"
     ]
    },
    {
     "name": "stdout",
     "output_type": "stream",
     "text": [
      "Run:  8 , Confusion Matrix: \n",
      " [[0.         0.         0.0031746  0.0031746  0.         0.0031746\n",
      "  0.0031746  0.         0.         0.0031746 ]\n",
      " [0.         0.         0.         0.         0.         0.\n",
      "  0.         0.         0.00409836 0.        ]\n",
      " [0.         0.         0.         0.         0.         0.\n",
      "  0.         0.         0.         0.        ]\n",
      " [0.         0.         0.01176471 0.         0.         0.00588235\n",
      "  0.         0.         0.         0.        ]\n",
      " [0.01183432 0.         0.01775148 0.         0.         0.\n",
      "  0.01183432 0.         0.         0.        ]\n",
      " [0.00714286 0.         0.01428571 0.00714286 0.00714286 0.\n",
      "  0.00714286 0.         0.00714286 0.        ]\n",
      " [0.         0.         0.02793296 0.         0.00558659 0.\n",
      "  0.         0.         0.01117318 0.        ]\n",
      " [0.         0.         0.00653595 0.00653595 0.         0.\n",
      "  0.         0.         0.00653595 0.01960784]\n",
      " [0.00645161 0.         0.02580645 0.01290323 0.00645161 0.00645161\n",
      "  0.         0.01290323 0.         0.00645161]\n",
      " [0.         0.         0.         0.         0.00609756 0.\n",
      "  0.         0.0304878  0.00609756 0.        ]]\n"
     ]
    },
    {
     "name": "stderr",
     "output_type": "stream",
     "text": [
      "\r",
      " 50%|████████████████████████████████████████▌                                        | 10/20 [18:30<17:08, 102.83s/it]"
     ]
    },
    {
     "name": "stdout",
     "output_type": "stream",
     "text": [
      "Run:  9 , Confusion Matrix: \n",
      " [[0.         0.         0.         0.00326797 0.00326797 0.\n",
      "  0.00326797 0.         0.         0.        ]\n",
      " [0.         0.         0.         0.         0.00396825 0.\n",
      "  0.         0.         0.         0.        ]\n",
      " [0.         0.         0.         0.01086957 0.00543478 0.\n",
      "  0.01086957 0.00543478 0.01630435 0.        ]\n",
      " [0.         0.         0.         0.         0.         0.\n",
      "  0.         0.         0.03144654 0.00628931]\n",
      " [0.         0.00584795 0.         0.         0.         0.\n",
      "  0.         0.         0.         0.00584795]\n",
      " [0.         0.         0.01290323 0.03870968 0.         0.\n",
      "  0.01935484 0.00645161 0.01935484 0.        ]\n",
      " [0.01197605 0.         0.00598802 0.00598802 0.         0.\n",
      "  0.         0.         0.00598802 0.        ]\n",
      " [0.         0.         0.00621118 0.         0.         0.\n",
      "  0.         0.         0.00621118 0.02484472]\n",
      " [0.00746269 0.         0.00746269 0.00746269 0.01492537 0.00746269\n",
      "  0.         0.         0.         0.        ]\n",
      " [0.         0.         0.         0.         0.         0.\n",
      "  0.         0.         0.         0.        ]]\n"
     ]
    },
    {
     "name": "stderr",
     "output_type": "stream",
     "text": [
      "\r",
      " 55%|████████████████████████████████████████████▌                                    | 11/20 [20:11<15:18, 102.07s/it]"
     ]
    },
    {
     "name": "stdout",
     "output_type": "stream",
     "text": [
      "Run:  10 , Confusion Matrix: \n",
      " [[0.         0.         0.00940439 0.0031348  0.         0.00940439\n",
      "  0.00626959 0.         0.0031348  0.        ]\n",
      " [0.         0.         0.         0.         0.00396825 0.\n",
      "  0.00396825 0.         0.         0.        ]\n",
      " [0.         0.         0.         0.         0.0049505  0.\n",
      "  0.         0.0049505  0.00990099 0.        ]\n",
      " [0.         0.         0.01369863 0.         0.         0.00684932\n",
      "  0.         0.01369863 0.00684932 0.        ]\n",
      " [0.         0.00621118 0.00621118 0.         0.         0.\n",
      "  0.         0.00621118 0.         0.        ]\n",
      " [0.         0.         0.         0.01470588 0.00735294 0.\n",
      "  0.01470588 0.         0.         0.        ]\n",
      " [0.         0.00595238 0.         0.         0.         0.01785714\n",
      "  0.         0.         0.00595238 0.        ]\n",
      " [0.         0.         0.00571429 0.00571429 0.         0.\n",
      "  0.         0.         0.         0.01714286]\n",
      " [0.00662252 0.00662252 0.00662252 0.00662252 0.00662252 0.01986755\n",
      "  0.01324503 0.         0.         0.00662252]\n",
      " [0.         0.         0.         0.         0.01333333 0.\n",
      "  0.         0.00666667 0.00666667 0.        ]]\n"
     ]
    },
    {
     "name": "stderr",
     "output_type": "stream",
     "text": [
      "\r",
      " 60%|████████████████████████████████████████████████▌                                | 12/20 [21:52<13:35, 101.95s/it]"
     ]
    },
    {
     "name": "stdout",
     "output_type": "stream",
     "text": [
      "Run:  11 , Confusion Matrix: \n",
      " [[0.         0.         0.00928793 0.00619195 0.         0.00309598\n",
      "  0.00309598 0.         0.         0.        ]\n",
      " [0.         0.         0.         0.         0.         0.00813008\n",
      "  0.         0.         0.00406504 0.        ]\n",
      " [0.01604278 0.         0.         0.01069519 0.01069519 0.00534759\n",
      "  0.         0.         0.01604278 0.        ]\n",
      " [0.00617284 0.         0.00617284 0.         0.         0.04320988\n",
      "  0.         0.         0.01234568 0.        ]\n",
      " [0.         0.01142857 0.         0.         0.         0.\n",
      "  0.01142857 0.         0.00571429 0.01142857]\n",
      " [0.01470588 0.         0.01470588 0.         0.         0.\n",
      "  0.02205882 0.         0.         0.00735294]\n",
      " [0.00641026 0.         0.         0.         0.01923077 0.00641026\n",
      "  0.         0.         0.         0.        ]\n",
      " [0.         0.00588235 0.00588235 0.         0.00588235 0.\n",
      "  0.         0.         0.00588235 0.01176471]\n",
      " [0.00671141 0.         0.         0.03355705 0.00671141 0.02013423\n",
      "  0.         0.         0.         0.        ]\n",
      " [0.         0.         0.         0.         0.01282051 0.00641026\n",
      "  0.         0.         0.         0.        ]]\n"
     ]
    },
    {
     "name": "stderr",
     "output_type": "stream",
     "text": [
      "\r",
      " 65%|████████████████████████████████████████████████████▋                            | 13/20 [23:33<11:51, 101.62s/it]"
     ]
    },
    {
     "name": "stdout",
     "output_type": "stream",
     "text": [
      "Run:  12 , Confusion Matrix: \n",
      " [[0.         0.         0.00303951 0.00607903 0.         0.00607903\n",
      "  0.00607903 0.         0.         0.00303951]\n",
      " [0.         0.         0.         0.00395257 0.00395257 0.\n",
      "  0.         0.00395257 0.         0.        ]\n",
      " [0.         0.         0.         0.00584795 0.01754386 0.01169591\n",
      "  0.00584795 0.         0.00584795 0.        ]\n",
      " [0.         0.         0.0060241  0.         0.         0.03012048\n",
      "  0.         0.0060241  0.01204819 0.        ]\n",
      " [0.         0.         0.0060241  0.         0.         0.0060241\n",
      "  0.01807229 0.         0.         0.0060241 ]\n",
      " [0.00645161 0.         0.         0.         0.00645161 0.\n",
      "  0.01290323 0.         0.         0.        ]\n",
      " [0.         0.00564972 0.         0.         0.00564972 0.\n",
      "  0.         0.         0.         0.        ]\n",
      " [0.         0.         0.         0.         0.00625    0.00625\n",
      "  0.         0.         0.0125     0.        ]\n",
      " [0.         0.         0.00806452 0.         0.         0.0483871\n",
      "  0.         0.00806452 0.         0.        ]\n",
      " [0.         0.         0.00628931 0.         0.01886792 0.00628931\n",
      "  0.         0.01257862 0.00628931 0.        ]]\n"
     ]
    },
    {
     "name": "stderr",
     "output_type": "stream",
     "text": [
      "\r",
      " 70%|████████████████████████████████████████████████████████▋                        | 14/20 [25:14<10:08, 101.35s/it]"
     ]
    },
    {
     "name": "stdout",
     "output_type": "stream",
     "text": [
      "Run:  13 , Confusion Matrix: \n",
      " [[0.         0.         0.00328947 0.01315789 0.00328947 0.00328947\n",
      "  0.00657895 0.         0.         0.        ]\n",
      " [0.         0.         0.         0.00754717 0.00377358 0.\n",
      "  0.00754717 0.00754717 0.         0.        ]\n",
      " [0.00558659 0.         0.         0.01117318 0.00558659 0.\n",
      "  0.01117318 0.01675978 0.         0.        ]\n",
      " [0.00518135 0.         0.01036269 0.         0.         0.01036269\n",
      "  0.         0.01036269 0.01036269 0.        ]\n",
      " [0.         0.         0.01704545 0.         0.         0.\n",
      "  0.02272727 0.         0.00568182 0.00568182]\n",
      " [0.00694444 0.         0.01388889 0.02777778 0.         0.\n",
      "  0.         0.         0.         0.        ]\n",
      " [0.00598802 0.         0.         0.         0.         0.\n",
      "  0.         0.         0.         0.        ]\n",
      " [0.         0.         0.         0.00714286 0.01428571 0.\n",
      "  0.         0.         0.         0.00714286]\n",
      " [0.00719424 0.00719424 0.01438849 0.03597122 0.00719424 0.01438849\n",
      "  0.01438849 0.         0.         0.        ]\n",
      " [0.00653595 0.         0.00653595 0.         0.00653595 0.00653595\n",
      "  0.         0.03921569 0.         0.        ]]\n"
     ]
    },
    {
     "name": "stderr",
     "output_type": "stream",
     "text": [
      "\r",
      " 75%|████████████████████████████████████████████████████████████▊                    | 15/20 [27:00<08:34, 102.87s/it]"
     ]
    },
    {
     "name": "stdout",
     "output_type": "stream",
     "text": [
      "Run:  14 , Confusion Matrix: \n",
      " [[0.         0.         0.00660066 0.00990099 0.         0.\n",
      "  0.         0.         0.00660066 0.        ]\n",
      " [0.         0.         0.         0.         0.         0.00408163\n",
      "  0.         0.         0.         0.        ]\n",
      " [0.00555556 0.00555556 0.         0.01111111 0.00555556 0.\n",
      "  0.         0.00555556 0.         0.01666667]\n",
      " [0.         0.         0.01136364 0.         0.         0.02840909\n",
      "  0.         0.00568182 0.02272727 0.        ]\n",
      " [0.         0.02030457 0.01522843 0.         0.         0.\n",
      "  0.00507614 0.00507614 0.02538071 0.03553299]\n",
      " [0.         0.         0.0075188  0.01503759 0.         0.\n",
      "  0.0075188  0.         0.0075188  0.0075188 ]\n",
      " [0.00641026 0.00641026 0.00641026 0.         0.         0.\n",
      "  0.         0.         0.         0.        ]\n",
      " [0.         0.01226994 0.01840491 0.         0.         0.\n",
      "  0.         0.         0.         0.01226994]\n",
      " [0.         0.04411765 0.01470588 0.         0.00735294 0.00735294\n",
      "  0.         0.         0.         0.        ]\n",
      " [0.         0.         0.         0.00584795 0.         0.00584795\n",
      "  0.         0.00584795 0.         0.        ]]\n"
     ]
    },
    {
     "name": "stderr",
     "output_type": "stream",
     "text": [
      "\r",
      " 80%|████████████████████████████████████████████████████████████████▊                | 16/20 [28:40<06:47, 101.92s/it]"
     ]
    },
    {
     "name": "stdout",
     "output_type": "stream",
     "text": [
      "Run:  15 , Confusion Matrix: \n",
      " [[0.         0.         0.         0.         0.0033557  0.\n",
      "  0.         0.         0.         0.        ]\n",
      " [0.         0.         0.         0.00396825 0.         0.\n",
      "  0.         0.         0.00396825 0.        ]\n",
      " [0.00549451 0.         0.         0.01098901 0.01098901 0.\n",
      "  0.         0.         0.         0.00549451]\n",
      " [0.         0.         0.01704545 0.         0.01136364 0.00568182\n",
      "  0.         0.00568182 0.00568182 0.        ]\n",
      " [0.         0.00606061 0.01212121 0.         0.         0.\n",
      "  0.         0.         0.         0.        ]\n",
      " [0.00657895 0.         0.00657895 0.01973684 0.         0.\n",
      "  0.02631579 0.         0.         0.01315789]\n",
      " [0.         0.         0.         0.         0.01169591 0.\n",
      "  0.         0.         0.         0.        ]\n",
      " [0.         0.00632911 0.00632911 0.00632911 0.         0.\n",
      "  0.         0.         0.00632911 0.00632911]\n",
      " [0.00684932 0.00684932 0.00684932 0.01369863 0.         0.\n",
      "  0.         0.02054795 0.         0.        ]\n",
      " [0.         0.         0.00625    0.         0.05       0.\n",
      "  0.         0.00625    0.         0.        ]]\n"
     ]
    },
    {
     "name": "stderr",
     "output_type": "stream",
     "text": [
      "\r",
      " 85%|████████████████████████████████████████████████████████████████████▊            | 17/20 [30:19<05:03, 101.12s/it]"
     ]
    },
    {
     "name": "stdout",
     "output_type": "stream",
     "text": [
      "Run:  16 , Confusion Matrix: \n",
      " [[0.         0.00332226 0.         0.         0.         0.00332226\n",
      "  0.00332226 0.         0.         0.        ]\n",
      " [0.         0.         0.         0.003861   0.00772201 0.003861\n",
      "  0.         0.         0.003861   0.        ]\n",
      " [0.         0.00558659 0.         0.02234637 0.02234637 0.01117318\n",
      "  0.00558659 0.00558659 0.01675978 0.        ]\n",
      " [0.         0.         0.00549451 0.         0.         0.02747253\n",
      "  0.         0.00549451 0.00549451 0.00549451]\n",
      " [0.         0.         0.00613497 0.         0.         0.\n",
      "  0.00613497 0.00613497 0.         0.01840491]\n",
      " [0.         0.         0.         0.02721088 0.00680272 0.\n",
      "  0.02721088 0.         0.         0.        ]\n",
      " [0.         0.01282051 0.         0.         0.01282051 0.00641026\n",
      "  0.         0.         0.00641026 0.        ]\n",
      " [0.         0.         0.         0.         0.01242236 0.\n",
      "  0.         0.         0.02484472 0.01863354]\n",
      " [0.         0.         0.         0.01408451 0.00704225 0.02816901\n",
      "  0.         0.01408451 0.         0.        ]\n",
      " [0.         0.         0.         0.         0.02941176 0.00588235\n",
      "  0.         0.00588235 0.         0.        ]]\n"
     ]
    },
    {
     "name": "stderr",
     "output_type": "stream",
     "text": [
      "\r",
      " 90%|████████████████████████████████████████████████████████████████████████▉        | 18/20 [32:02<03:22, 101.45s/it]"
     ]
    },
    {
     "name": "stdout",
     "output_type": "stream",
     "text": [
      "Run:  17 , Confusion Matrix: \n",
      " [[0.         0.         0.         0.         0.00358423 0.00358423\n",
      "  0.00358423 0.         0.         0.        ]\n",
      " [0.         0.         0.         0.         0.00784314 0.00392157\n",
      "  0.00392157 0.         0.         0.        ]\n",
      " [0.005      0.         0.         0.         0.015      0.005\n",
      "  0.         0.         0.02       0.        ]\n",
      " [0.00632911 0.         0.00632911 0.         0.00632911 0.01898734\n",
      "  0.         0.01265823 0.03164557 0.01265823]\n",
      " [0.00564972 0.00564972 0.         0.         0.         0.\n",
      "  0.00564972 0.         0.01129944 0.        ]\n",
      " [0.01438849 0.         0.         0.00719424 0.         0.\n",
      "  0.02877698 0.00719424 0.00719424 0.00719424]\n",
      " [0.         0.00675676 0.         0.         0.00675676 0.00675676\n",
      "  0.         0.         0.         0.        ]\n",
      " [0.         0.         0.         0.         0.00645161 0.\n",
      "  0.         0.         0.01290323 0.01935484]\n",
      " [0.01176471 0.         0.         0.01176471 0.         0.00588235\n",
      "  0.         0.         0.         0.00588235]\n",
      " [0.00558659 0.00558659 0.         0.         0.03351955 0.\n",
      "  0.         0.01117318 0.01117318 0.        ]]\n"
     ]
    },
    {
     "name": "stderr",
     "output_type": "stream",
     "text": [
      "\r",
      " 95%|████████████████████████████████████████████████████████████████████████████▉    | 19/20 [35:05<02:06, 126.01s/it]"
     ]
    },
    {
     "name": "stdout",
     "output_type": "stream",
     "text": [
      "Run:  18 , Confusion Matrix: \n",
      " [[0.         0.         0.00653595 0.         0.00326797 0.00653595\n",
      "  0.00980392 0.         0.         0.        ]\n",
      " [0.         0.         0.         0.         0.004      0.\n",
      "  0.         0.         0.         0.        ]\n",
      " [0.         0.         0.         0.         0.0104712  0.0052356\n",
      "  0.         0.0052356  0.0104712  0.        ]\n",
      " [0.         0.         0.02941176 0.         0.         0.04705882\n",
      "  0.         0.         0.01176471 0.00588235]\n",
      " [0.         0.         0.00588235 0.         0.         0.00588235\n",
      "  0.         0.         0.         0.01764706]\n",
      " [0.02985075 0.         0.00746269 0.         0.00746269 0.\n",
      "  0.         0.         0.         0.        ]\n",
      " [0.         0.         0.00613497 0.         0.03067485 0.\n",
      "  0.         0.         0.         0.        ]\n",
      " [0.         0.00598802 0.01796407 0.         0.01197605 0.\n",
      "  0.         0.         0.00598802 0.01796407]\n",
      " [0.         0.00680272 0.01360544 0.00680272 0.01360544 0.01360544\n",
      "  0.         0.         0.         0.        ]\n",
      " [0.         0.         0.         0.00617284 0.00617284 0.\n",
      "  0.         0.         0.         0.        ]]\n"
     ]
    },
    {
     "name": "stderr",
     "output_type": "stream",
     "text": [
      "100%|█████████████████████████████████████████████████████████████████████████████████| 20/20 [39:19<00:00, 117.96s/it]"
     ]
    },
    {
     "name": "stdout",
     "output_type": "stream",
     "text": [
      "Run:  19 , Confusion Matrix: \n",
      " [[0.         0.         0.         0.         0.00302115 0.0060423\n",
      "  0.01208459 0.         0.0060423  0.        ]\n",
      " [0.         0.         0.         0.         0.00796813 0.\n",
      "  0.01195219 0.         0.00398406 0.00398406]\n",
      " [0.         0.         0.         0.         0.01970443 0.00985222\n",
      "  0.00492611 0.00985222 0.01477833 0.        ]\n",
      " [0.00584795 0.00584795 0.01754386 0.         0.         0.05847953\n",
      "  0.         0.         0.07602339 0.        ]\n",
      " [0.         0.         0.         0.         0.         0.00537634\n",
      "  0.00537634 0.         0.         0.02688172]\n",
      " [0.         0.         0.00763359 0.00763359 0.00763359 0.\n",
      "  0.00763359 0.         0.         0.00763359]\n",
      " [0.         0.         0.         0.         0.01242236 0.00621118\n",
      "  0.         0.         0.         0.        ]\n",
      " [0.         0.         0.         0.         0.         0.\n",
      "  0.         0.         0.         0.02758621]\n",
      " [0.01398601 0.         0.         0.00699301 0.         0.02797203\n",
      "  0.03496503 0.00699301 0.         0.00699301]\n",
      " [0.         0.         0.         0.         0.00724638 0.\n",
      "  0.         0.00724638 0.         0.        ]]\n"
     ]
    },
    {
     "name": "stderr",
     "output_type": "stream",
     "text": [
      "\n"
     ]
    }
   ],
   "source": [
    "#intialization\n",
    "np.random.seed(2)\n",
    "train_split = 0.8\n",
    "confusion_mats = []\n",
    "\n",
    "for run in tqdm(range(20)):          #perform 20 runs\n",
    "    X_train, X_test, y_train, y_test = train_test_split(X, y, train_split, shuffle=True)     #randomly split the data\n",
    "    d_star, best_error = 0, float('inf')            #initialize the best d and best error\n",
    "    for d in d_list:           #try different dimensions of the polynomial kernel\n",
    "        valid_errors = []      #initialize a list to store validation errors\n",
    "        X_train_frold, X_valid_fold, y_train_fold, y_valid_fold = KFold(X_train, y_train, 5)    #split the training set into 5 folds\n",
    "        for Xtrain, Xvalid, ytrain, yvalid in zip(X_train_frold, X_valid_fold, y_train_fold, y_valid_fold):\n",
    "            clf = MultiKernelPerceptron(Xtrain, ytrain, Xvalid, yvalid, kernel='p', kernel_param=d, epochs=5)\n",
    "            train_error = clf.train()               #train the classifier\n",
    "            valid_errors.append(clf.test())         #evalaute the classifier on the validation set\n",
    "        if np.mean(valid_errors) < best_error:      #if the current d value gives a lower error rate\n",
    "            best_error = np.mean(valid_errors)      #update the best error so far\n",
    "            d_star = d                              #update the best d value so far\n",
    "    #retrain the classifier on the entire training set with the best d value\n",
    "    clf = MultiKernelPerceptron(X_train, y_train, X_test, y_test, kernel='p', kernel_param=d_star, epochs=5)   \n",
    "    train_error = clf.train()\n",
    "    test_error = clf.test()\n",
    "    confusion_mat  = clf.confusion    #obtain the confusion matrix\n",
    "    confusion_mats.append(confusion_mat)\n",
    "    print('Run: ', int(run), ', Confusion Matrix: \\n', str(confusion_mat))"
   ]
  },
  {
   "cell_type": "code",
   "execution_count": 170,
   "metadata": {
    "scrolled": true
   },
   "outputs": [
    {
     "data": {
      "text/html": [
       "<div>\n",
       "<style scoped>\n",
       "    .dataframe tbody tr th:only-of-type {\n",
       "        vertical-align: middle;\n",
       "    }\n",
       "\n",
       "    .dataframe tbody tr th {\n",
       "        vertical-align: top;\n",
       "    }\n",
       "\n",
       "    .dataframe thead th {\n",
       "        text-align: right;\n",
       "    }\n",
       "</style>\n",
       "<table border=\"1\" class=\"dataframe\">\n",
       "  <thead>\n",
       "    <tr style=\"text-align: right;\">\n",
       "      <th></th>\n",
       "      <th>0</th>\n",
       "      <th>1</th>\n",
       "      <th>2</th>\n",
       "      <th>3</th>\n",
       "      <th>4</th>\n",
       "      <th>5</th>\n",
       "      <th>6</th>\n",
       "      <th>7</th>\n",
       "      <th>8</th>\n",
       "      <th>9</th>\n",
       "    </tr>\n",
       "  </thead>\n",
       "  <tbody>\n",
       "    <tr>\n",
       "      <th>0</th>\n",
       "      <td>0.000±0.000</td>\n",
       "      <td>0.050±0.119</td>\n",
       "      <td>0.223±0.318</td>\n",
       "      <td>0.356±0.385</td>\n",
       "      <td>0.164±0.164</td>\n",
       "      <td>0.408±0.407</td>\n",
       "      <td>0.370±0.332</td>\n",
       "      <td>0.000±0.000</td>\n",
       "      <td>0.143±0.236</td>\n",
       "      <td>0.097±0.148</td>\n",
       "    </tr>\n",
       "    <tr>\n",
       "      <th>1</th>\n",
       "      <td>0.000±0.000</td>\n",
       "      <td>0.000±0.000</td>\n",
       "      <td>0.020±0.089</td>\n",
       "      <td>0.097±0.206</td>\n",
       "      <td>0.436±0.398</td>\n",
       "      <td>0.100±0.216</td>\n",
       "      <td>0.237±0.315</td>\n",
       "      <td>0.097±0.206</td>\n",
       "      <td>0.100±0.173</td>\n",
       "      <td>0.038±0.115</td>\n",
       "    </tr>\n",
       "    <tr>\n",
       "      <th>2</th>\n",
       "      <td>0.244±0.398</td>\n",
       "      <td>0.184±0.342</td>\n",
       "      <td>0.000±0.000</td>\n",
       "      <td>0.803±0.658</td>\n",
       "      <td>0.929±0.602</td>\n",
       "      <td>0.320±0.398</td>\n",
       "      <td>0.293±0.396</td>\n",
       "      <td>0.580±0.601</td>\n",
       "      <td>0.839±0.743</td>\n",
       "      <td>0.189±0.399</td>\n",
       "    </tr>\n",
       "    <tr>\n",
       "      <th>3</th>\n",
       "      <td>0.177±0.329</td>\n",
       "      <td>0.029±0.127</td>\n",
       "      <td>0.906±0.766</td>\n",
       "      <td>0.000±0.000</td>\n",
       "      <td>0.147±0.363</td>\n",
       "      <td>2.060±1.932</td>\n",
       "      <td>0.000±0.000</td>\n",
       "      <td>0.472±0.493</td>\n",
       "      <td>1.656±1.659</td>\n",
       "      <td>0.181±0.342</td>\n",
       "    </tr>\n",
       "    <tr>\n",
       "      <th>4</th>\n",
       "      <td>0.145±0.313</td>\n",
       "      <td>0.686±0.967</td>\n",
       "      <td>0.609±0.630</td>\n",
       "      <td>0.029±0.125</td>\n",
       "      <td>0.000±0.000</td>\n",
       "      <td>0.469±0.713</td>\n",
       "      <td>0.732±0.720</td>\n",
       "      <td>0.405±0.884</td>\n",
       "      <td>0.302±0.604</td>\n",
       "      <td>1.510±1.501</td>\n",
       "    </tr>\n",
       "    <tr>\n",
       "      <th>5</th>\n",
       "      <td>0.698±0.851</td>\n",
       "      <td>0.032±0.138</td>\n",
       "      <td>0.704±0.578</td>\n",
       "      <td>1.572±1.206</td>\n",
       "      <td>0.457±0.410</td>\n",
       "      <td>0.000±0.000</td>\n",
       "      <td>1.318±0.925</td>\n",
       "      <td>0.099±0.235</td>\n",
       "      <td>0.605±1.172</td>\n",
       "      <td>0.493±0.792</td>\n",
       "    </tr>\n",
       "    <tr>\n",
       "      <th>6</th>\n",
       "      <td>0.304±0.402</td>\n",
       "      <td>0.277±0.368</td>\n",
       "      <td>0.352±0.658</td>\n",
       "      <td>0.030±0.131</td>\n",
       "      <td>0.708±0.839</td>\n",
       "      <td>0.369±0.480</td>\n",
       "      <td>0.000±0.000</td>\n",
       "      <td>0.000±0.000</td>\n",
       "      <td>0.331±0.444</td>\n",
       "      <td>0.000±0.000</td>\n",
       "    </tr>\n",
       "    <tr>\n",
       "      <th>7</th>\n",
       "      <td>0.000±0.000</td>\n",
       "      <td>0.221±0.419</td>\n",
       "      <td>0.463±0.541</td>\n",
       "      <td>0.190±0.351</td>\n",
       "      <td>0.553±0.674</td>\n",
       "      <td>0.062±0.187</td>\n",
       "      <td>0.000±0.000</td>\n",
       "      <td>0.000±0.000</td>\n",
       "      <td>0.663±0.674</td>\n",
       "      <td>1.782±1.554</td>\n",
       "    </tr>\n",
       "    <tr>\n",
       "      <th>8</th>\n",
       "      <td>0.471±0.476</td>\n",
       "      <td>0.462±0.986</td>\n",
       "      <td>0.598±0.724</td>\n",
       "      <td>1.360±1.321</td>\n",
       "      <td>0.594±0.508</td>\n",
       "      <td>1.481±1.353</td>\n",
       "      <td>0.313±0.839</td>\n",
       "      <td>0.520±0.602</td>\n",
       "      <td>0.000±0.000</td>\n",
       "      <td>0.269±0.331</td>\n",
       "    </tr>\n",
       "    <tr>\n",
       "      <th>9</th>\n",
       "      <td>0.087±0.209</td>\n",
       "      <td>0.091±0.218</td>\n",
       "      <td>0.158±0.274</td>\n",
       "      <td>0.180±0.275</td>\n",
       "      <td>1.422±1.272</td>\n",
       "      <td>0.211±0.289</td>\n",
       "      <td>0.000±0.000</td>\n",
       "      <td>0.960±0.990</td>\n",
       "      <td>0.413±0.564</td>\n",
       "      <td>0.000±0.000</td>\n",
       "    </tr>\n",
       "  </tbody>\n",
       "</table>\n",
       "</div>"
      ],
      "text/plain": [
       "             0            1            2            3            4  \\\n",
       "0  0.000±0.000  0.050±0.119  0.223±0.318  0.356±0.385  0.164±0.164   \n",
       "1  0.000±0.000  0.000±0.000  0.020±0.089  0.097±0.206  0.436±0.398   \n",
       "2  0.244±0.398  0.184±0.342  0.000±0.000  0.803±0.658  0.929±0.602   \n",
       "3  0.177±0.329  0.029±0.127  0.906±0.766  0.000±0.000  0.147±0.363   \n",
       "4  0.145±0.313  0.686±0.967  0.609±0.630  0.029±0.125  0.000±0.000   \n",
       "5  0.698±0.851  0.032±0.138  0.704±0.578  1.572±1.206  0.457±0.410   \n",
       "6  0.304±0.402  0.277±0.368  0.352±0.658  0.030±0.131  0.708±0.839   \n",
       "7  0.000±0.000  0.221±0.419  0.463±0.541  0.190±0.351  0.553±0.674   \n",
       "8  0.471±0.476  0.462±0.986  0.598±0.724  1.360±1.321  0.594±0.508   \n",
       "9  0.087±0.209  0.091±0.218  0.158±0.274  0.180±0.275  1.422±1.272   \n",
       "\n",
       "             5            6            7            8            9  \n",
       "0  0.408±0.407  0.370±0.332  0.000±0.000  0.143±0.236  0.097±0.148  \n",
       "1  0.100±0.216  0.237±0.315  0.097±0.206  0.100±0.173  0.038±0.115  \n",
       "2  0.320±0.398  0.293±0.396  0.580±0.601  0.839±0.743  0.189±0.399  \n",
       "3  2.060±1.932  0.000±0.000  0.472±0.493  1.656±1.659  0.181±0.342  \n",
       "4  0.469±0.713  0.732±0.720  0.405±0.884  0.302±0.604  1.510±1.501  \n",
       "5  0.000±0.000  1.318±0.925  0.099±0.235  0.605±1.172  0.493±0.792  \n",
       "6  0.369±0.480  0.000±0.000  0.000±0.000  0.331±0.444  0.000±0.000  \n",
       "7  0.062±0.187  0.000±0.000  0.000±0.000  0.663±0.674  1.782±1.554  \n",
       "8  1.481±1.353  0.313±0.839  0.520±0.602  0.000±0.000  0.269±0.331  \n",
       "9  0.211±0.289  0.000±0.000  0.960±0.990  0.413±0.564  0.000±0.000  "
      ]
     },
     "execution_count": 170,
     "metadata": {},
     "output_type": "execute_result"
    }
   ],
   "source": [
    "#compute the averaged confusion matrix (convert into %) and store as a dataframe\n",
    "averaged_mat = [['']*10 for _ in range(10)]\n",
    "for i in range(10):\n",
    "    for j in range(10):\n",
    "        error_rates = []\n",
    "        for mat in confusion_mats:\n",
    "            error_rates.append(mat[i][j])\n",
    "        mean = np.mean(error_rates) * 100\n",
    "        std = np.std(error_rates) * 100\n",
    "        averaged_mat[i][j] = '{:.3f}'.format(mean) + '±' + '{:.3f}'.format(std)\n",
    "mat = pd.DataFrame(data=averaged_mat)\n",
    "mat"
   ]
  },
  {
   "cell_type": "markdown",
   "metadata": {},
   "source": [
    "## Hardest to Predict"
   ]
  },
  {
   "cell_type": "code",
   "execution_count": 280,
   "metadata": {},
   "outputs": [],
   "source": [
    "#function to get the index of a given sample in the original dataset\n",
    "def get_index(X, sample):\n",
    "    for i in range(len(X)):\n",
    "        if list(X[i]) == list(sample):\n",
    "            return i\n",
    "        \n",
    "#function to visualize the images\n",
    "def visualize(X, y, idx):\n",
    "    plt.figure(figsize=(15,15))\n",
    "    for i in range(len(idx)):\n",
    "        print('The true label is: ', y[idx[i]])\n",
    "        plt.subplot(1, len(idx), i+1)\n",
    "        photo = np.reshape(X[idx[i]], (16,16))\n",
    "        plt.imshow(photo, cmap='gray')\n",
    "    plt.tight_layout()\n",
    "    plt.show()"
   ]
  },
  {
   "cell_type": "code",
   "execution_count": 281,
   "metadata": {},
   "outputs": [
    {
     "name": "stderr",
     "output_type": "stream",
     "text": [
      "100%|██████████████████████████████████████████████████████████████████████████████| 100/100 [2:16:00<00:00, 81.61s/it]\n"
     ]
    }
   ],
   "source": [
    "#intialization\n",
    "np.random.seed(3)\n",
    "train_split = 0.8\n",
    "errors = [0] * len(X)\n",
    "          \n",
    "for run in tqdm(range(100)):          #perform 100 runs\n",
    "    X_shuffled, y_shuffled = shuffle_data(X, y)             #shuffle the data\n",
    "    X_train_frold, X_valid_fold, y_train_fold, y_valid_fold = KFold(X_shuffled, y_shuffled, 5)  #split the data into 5 folds\n",
    "    for Xtrain, Xvalid, ytrain, yvalid in zip(X_train_frold, X_valid_fold, y_train_fold, y_valid_fold):\n",
    "        clf = MultiKernelPerceptron(Xtrain, ytrain, Xvalid, yvalid, kernel='p', kernel_param=6, epochs=5)\n",
    "        train_error = clf.train()          #train the classifier over 4 folds\n",
    "        test_error = clf.test()            #evaluate the classifier over 1 fold\n",
    "        for i in range(len(yvalid)):       #for each test sample predicted\n",
    "            y_pred = np.argmax(clf.confidence_test[i,:])       #obtain the prediction for the ith sample\n",
    "            if int(y_pred) != int(yvalid[i]):                  #if the prediction does not match the label\n",
    "                idx = get_index(X, Xvalid[i])                  #get the index of this wrongly predicted sample\n",
    "                errors[idx] += 1                               #increase the count of error for this sample by 1"
   ]
  },
  {
   "cell_type": "code",
   "execution_count": 282,
   "metadata": {
    "scrolled": true
   },
   "outputs": [
    {
     "name": "stdout",
     "output_type": "stream",
     "text": [
      "The true label is:  2.0\n",
      "The true label is:  7.0\n",
      "The true label is:  9.0\n",
      "The true label is:  9.0\n",
      "The true label is:  5.0\n"
     ]
    },
    {
     "data": {
      "image/png": "[encoded data removed]",
      "text/plain": [
       "<Figure size 1080x1080 with 5 Axes>"
      ]
     },
     "metadata": {
      "needs_background": "light"
     },
     "output_type": "display_data"
    }
   ],
   "source": [
    "#get the top 5 samples with highest error rates\n",
    "idx = np.argsort(errors)[::-1][:5]\n",
    "visualize(X, y, idx)"
   ]
  },
  {
   "cell_type": "markdown",
   "metadata": {},
   "source": [
    "## Gaussian Kernel"
   ]
  },
  {
   "cell_type": "code",
   "execution_count": 244,
   "metadata": {},
   "outputs": [
    {
     "name": "stderr",
     "output_type": "stream",
     "text": [
      "100%|██████████████████████████████████████████████████████████████████████████████████| 20/20 [01:21<00:00,  4.08s/it]\n",
      "  0%|                                                                                           | 0/20 [00:00<?, ?it/s]"
     ]
    },
    {
     "name": "stdout",
     "output_type": "stream",
     "text": [
      "Gaussian kernel width:  0.001 , mean train error:  7.342027426727614 , mean test error:  8.71236559139785\n"
     ]
    },
    {
     "name": "stderr",
     "output_type": "stream",
     "text": [
      "100%|██████████████████████████████████████████████████████████████████████████████████| 20/20 [01:18<00:00,  3.90s/it]\n",
      "  0%|                                                                                           | 0/20 [00:00<?, ?it/s]"
     ]
    },
    {
     "name": "stdout",
     "output_type": "stream",
     "text": [
      "Gaussian kernel width:  0.005 , mean train error:  1.1689970422156493 , mean test error:  4.029569892473118\n"
     ]
    },
    {
     "name": "stderr",
     "output_type": "stream",
     "text": [
      "100%|██████████████████████████████████████████████████████████████████████████████████| 20/20 [01:17<00:00,  3.90s/it]\n",
      "  0%|                                                                                           | 0/20 [00:00<?, ?it/s]"
     ]
    },
    {
     "name": "stdout",
     "output_type": "stream",
     "text": [
      "Gaussian kernel width:  0.01 , mean train error:  0.4228287173971498 , mean test error:  3.354838709677419\n"
     ]
    },
    {
     "name": "stderr",
     "output_type": "stream",
     "text": [
      "100%|██████████████████████████████████████████████████████████████████████████████████| 20/20 [01:18<00:00,  3.90s/it]\n",
      "  0%|                                                                                           | 0/20 [00:00<?, ?it/s]"
     ]
    },
    {
     "name": "stdout",
     "output_type": "stream",
     "text": [
      "Gaussian kernel width:  0.015 , mean train error:  0.20838935197633773 , mean test error:  3.088709677419355\n"
     ]
    },
    {
     "name": "stderr",
     "output_type": "stream",
     "text": [
      "100%|██████████████████████████████████████████████████████████████████████████████████| 20/20 [01:18<00:00,  3.90s/it]\n",
      "  0%|                                                                                           | 0/20 [00:00<?, ?it/s]"
     ]
    },
    {
     "name": "stdout",
     "output_type": "stream",
     "text": [
      "Gaussian kernel width:  0.02 , mean train error:  0.15595590212422694 , mean test error:  3.010752688172043\n"
     ]
    },
    {
     "name": "stderr",
     "output_type": "stream",
     "text": [
      "100%|██████████████████████████████████████████████████████████████████████████████████| 20/20 [01:19<00:00,  3.97s/it]\n",
      "  0%|                                                                                           | 0/20 [00:00<?, ?it/s]"
     ]
    },
    {
     "name": "stdout",
     "output_type": "stream",
     "text": [
      "Gaussian kernel width:  0.05 , mean train error:  0.04705566012368917 , mean test error:  3.8844086021505384\n"
     ]
    },
    {
     "name": "stderr",
     "output_type": "stream",
     "text": [
      "100%|██████████████████████████████████████████████████████████████████████████████████| 20/20 [01:18<00:00,  3.93s/it]"
     ]
    },
    {
     "name": "stdout",
     "output_type": "stream",
     "text": [
      "Gaussian kernel width:  0.1 , mean train error:  0.025544501210002696 , mean test error:  4.873655913978494\n"
     ]
    },
    {
     "name": "stderr",
     "output_type": "stream",
     "text": [
      "\n"
     ]
    }
   ],
   "source": [
    "#initialization\n",
    "np.random.seed(4)\n",
    "train_split = 0.8\n",
    "c_list = [0.001, 0.005, 0.010, 0.015, 0.020, 0.050, 0.100]\n",
    "train_error, train_std, test_error, test_std = [], [], [], []\n",
    "\n",
    "for c in c_list:               #for different dimensions of the polynomial kernel\n",
    "    single_run_train_errors, single_run_test_errors = [], []\n",
    "    for run in tqdm(range(20)):      #perform 20 runs\n",
    "        X_train, X_test, y_train, y_test = train_test_split(X, y, train_split, shuffle=True)     #randomly split the data\n",
    "        clf = MultiKernelPerceptron(X_train, y_train, X_test, y_test, kernel='g', kernel_param=c, epochs=5)\n",
    "        train_e = clf.train()                            #compute the training error on the 80% data\n",
    "        single_run_train_errors.append(train_e)\n",
    "        test_e = clf.test()                              #compute the test error on the 20% data\n",
    "        single_run_test_errors.append(test_e) \n",
    "    train_error.append(np.mean(single_run_train_errors))\n",
    "    train_std.append(np.std(single_run_train_errors))\n",
    "    test_error.append(np.mean(single_run_test_errors))\n",
    "    test_std.append(np.std(single_run_test_errors))\n",
    "    print('Gaussian kernel width: ', c, ', mean train error: ', train_error[-1], ', mean test error: ', test_error[-1])"
   ]
  },
  {
   "cell_type": "code",
   "execution_count": 245,
   "metadata": {},
   "outputs": [
    {
     "name": "stdout",
     "output_type": "stream",
     "text": [
      "┌───────┬──────────────────────────────┬─────────────────────────────┐\n",
      "│     c │  Mean Train Error Rates (%)  │  Mean Test Error Rates (%)  │\n",
      "├───────┼──────────────────────────────┼─────────────────────────────┤\n",
      "│ 0.001 │        7.3420±0.3039         │        8.7124±1.9736        │\n",
      "│ 0.005 │        1.1690±0.1853         │        4.0296±0.5973        │\n",
      "│ 0.01  │        0.4228±0.1045         │        3.3548±0.5175        │\n",
      "│ 0.015 │        0.2084±0.0547         │        3.0887±0.5244        │\n",
      "│ 0.02  │        0.1560±0.0694         │        3.0108±0.3666        │\n",
      "│ 0.05  │        0.0471±0.0277         │        3.8844±0.3728        │\n",
      "│ 0.1   │        0.0255±0.0175         │        4.8737±0.5252        │\n",
      "└───────┴──────────────────────────────┴─────────────────────────────┘\n"
     ]
    }
   ],
   "source": [
    "#tabulate the results\n",
    "data = []\n",
    "for i in range(len(c_list)):\n",
    "    train_result = f\"{'{:.4f}'.format(train_error[i])}±{'{:.4f}'.format(train_std[i])}\"\n",
    "    test_result = f\"{'{:.4f}'.format(test_error[i])}±{'{:.4f}'.format(test_std[i])}\"\n",
    "    result = [c_list[i], train_result, test_result]\n",
    "    data.append(result)\n",
    "print(tabulate(data, \n",
    "               headers = [\"c\", \"Mean Train Error Rates (%)\", \"Mean Test Error Rates (%)\"], \n",
    "               tablefmt = \"simple_outline\",\n",
    "               stralign = \"center\"))"
   ]
  },
  {
   "cell_type": "code",
   "execution_count": 238,
   "metadata": {
    "scrolled": true
   },
   "outputs": [
    {
     "name": "stderr",
     "output_type": "stream",
     "text": [
      "  5%|████                                                                              | 1/20 [01:48<34:17, 108.29s/it]"
     ]
    },
    {
     "name": "stdout",
     "output_type": "stream",
     "text": [
      "c*:  0.01 , test error rate:  2.903225806451613\n"
     ]
    },
    {
     "name": "stderr",
     "output_type": "stream",
     "text": [
      "\r",
      " 10%|████████▏                                                                         | 2/20 [04:09<38:21, 127.86s/it]"
     ]
    },
    {
     "name": "stdout",
     "output_type": "stream",
     "text": [
      "c*:  0.015 , test error rate:  3.064516129032258\n"
     ]
    },
    {
     "name": "stderr",
     "output_type": "stream",
     "text": [
      "\r",
      " 15%|████████████▎                                                                     | 3/20 [06:22<36:47, 129.87s/it]"
     ]
    },
    {
     "name": "stdout",
     "output_type": "stream",
     "text": [
      "c*:  0.02 , test error rate:  3.2795698924731185\n"
     ]
    },
    {
     "name": "stderr",
     "output_type": "stream",
     "text": [
      "\r",
      " 20%|████████████████▍                                                                 | 4/20 [08:46<36:10, 135.64s/it]"
     ]
    },
    {
     "name": "stdout",
     "output_type": "stream",
     "text": [
      "c*:  0.02 , test error rate:  2.5268817204301075\n"
     ]
    },
    {
     "name": "stderr",
     "output_type": "stream",
     "text": [
      "\r",
      " 25%|████████████████████▌                                                             | 5/20 [11:07<34:21, 137.46s/it]"
     ]
    },
    {
     "name": "stdout",
     "output_type": "stream",
     "text": [
      "c*:  0.015 , test error rate:  2.795698924731183\n"
     ]
    },
    {
     "name": "stderr",
     "output_type": "stream",
     "text": [
      "\r",
      " 30%|████████████████████████▌                                                         | 6/20 [12:52<29:28, 126.35s/it]"
     ]
    },
    {
     "name": "stdout",
     "output_type": "stream",
     "text": [
      "c*:  0.02 , test error rate:  3.387096774193549\n"
     ]
    },
    {
     "name": "stderr",
     "output_type": "stream",
     "text": [
      "\r",
      " 35%|████████████████████████████▋                                                     | 7/20 [14:36<25:47, 119.07s/it]"
     ]
    },
    {
     "name": "stdout",
     "output_type": "stream",
     "text": [
      "c*:  0.01 , test error rate:  3.4408602150537635\n"
     ]
    },
    {
     "name": "stderr",
     "output_type": "stream",
     "text": [
      "\r",
      " 40%|████████████████████████████████▊                                                 | 8/20 [16:15<22:32, 112.68s/it]"
     ]
    },
    {
     "name": "stdout",
     "output_type": "stream",
     "text": [
      "c*:  0.015 , test error rate:  2.795698924731183\n"
     ]
    },
    {
     "name": "stderr",
     "output_type": "stream",
     "text": [
      "\r",
      " 45%|████████████████████████████████████▉                                             | 9/20 [18:13<20:58, 114.43s/it]"
     ]
    },
    {
     "name": "stdout",
     "output_type": "stream",
     "text": [
      "c*:  0.02 , test error rate:  3.010752688172043\n"
     ]
    },
    {
     "name": "stderr",
     "output_type": "stream",
     "text": [
      "\r",
      " 50%|████████████████████████████████████████▌                                        | 10/20 [20:10<19:13, 115.40s/it]"
     ]
    },
    {
     "name": "stdout",
     "output_type": "stream",
     "text": [
      "c*:  0.015 , test error rate:  2.795698924731183\n"
     ]
    },
    {
     "name": "stderr",
     "output_type": "stream",
     "text": [
      "\r",
      " 55%|████████████████████████████████████████████▌                                    | 11/20 [22:18<17:51, 119.10s/it]"
     ]
    },
    {
     "name": "stdout",
     "output_type": "stream",
     "text": [
      "c*:  0.01 , test error rate:  2.956989247311828\n"
     ]
    },
    {
     "name": "stderr",
     "output_type": "stream",
     "text": [
      "\r",
      " 60%|████████████████████████████████████████████████▌                                | 12/20 [24:13<15:42, 117.86s/it]"
     ]
    },
    {
     "name": "stdout",
     "output_type": "stream",
     "text": [
      "c*:  0.01 , test error rate:  3.2795698924731185\n"
     ]
    },
    {
     "name": "stderr",
     "output_type": "stream",
     "text": [
      "\r",
      " 65%|████████████████████████████████████████████████████▋                            | 13/20 [26:18<14:01, 120.17s/it]"
     ]
    },
    {
     "name": "stdout",
     "output_type": "stream",
     "text": [
      "c*:  0.015 , test error rate:  3.2795698924731185\n"
     ]
    },
    {
     "name": "stderr",
     "output_type": "stream",
     "text": [
      "\r",
      " 70%|████████████████████████████████████████████████████████▋                        | 14/20 [28:22<12:06, 121.07s/it]"
     ]
    },
    {
     "name": "stdout",
     "output_type": "stream",
     "text": [
      "c*:  0.02 , test error rate:  3.3333333333333335\n"
     ]
    },
    {
     "name": "stderr",
     "output_type": "stream",
     "text": [
      "\r",
      " 75%|████████████████████████████████████████████████████████████▊                    | 15/20 [32:14<12:52, 154.51s/it]"
     ]
    },
    {
     "name": "stdout",
     "output_type": "stream",
     "text": [
      "c*:  0.02 , test error rate:  3.1720430107526885\n"
     ]
    },
    {
     "name": "stderr",
     "output_type": "stream",
     "text": [
      "\r",
      " 80%|████████████████████████████████████████████████████████████████▊                | 16/20 [35:46<11:27, 171.91s/it]"
     ]
    },
    {
     "name": "stdout",
     "output_type": "stream",
     "text": [
      "c*:  0.015 , test error rate:  3.4408602150537635\n"
     ]
    },
    {
     "name": "stderr",
     "output_type": "stream",
     "text": [
      "\r",
      " 85%|████████████████████████████████████████████████████████████████████▊            | 17/20 [39:09<09:03, 181.28s/it]"
     ]
    },
    {
     "name": "stdout",
     "output_type": "stream",
     "text": [
      "c*:  0.015 , test error rate:  2.741935483870968\n"
     ]
    },
    {
     "name": "stderr",
     "output_type": "stream",
     "text": [
      "\r",
      " 90%|████████████████████████████████████████████████████████████████████████▉        | 18/20 [40:37<05:06, 153.18s/it]"
     ]
    },
    {
     "name": "stdout",
     "output_type": "stream",
     "text": [
      "c*:  0.015 , test error rate:  2.903225806451613\n"
     ]
    },
    {
     "name": "stderr",
     "output_type": "stream",
     "text": [
      "\r",
      " 95%|████████████████████████████████████████████████████████████████████████████▉    | 19/20 [42:05<02:13, 133.56s/it]"
     ]
    },
    {
     "name": "stdout",
     "output_type": "stream",
     "text": [
      "c*:  0.015 , test error rate:  3.2795698924731185\n"
     ]
    },
    {
     "name": "stderr",
     "output_type": "stream",
     "text": [
      "100%|█████████████████████████████████████████████████████████████████████████████████| 20/20 [44:10<00:00, 132.53s/it]"
     ]
    },
    {
     "name": "stdout",
     "output_type": "stream",
     "text": [
      "c*:  0.015 , test error rate:  2.6344086021505375\n"
     ]
    },
    {
     "name": "stderr",
     "output_type": "stream",
     "text": [
      "\n"
     ]
    }
   ],
   "source": [
    "#initialization \n",
    "np.random.seed(1)\n",
    "train_split = 0.8\n",
    "c_stars, test_errors = [], []\n",
    "c_list = [0.001, 0.005, 0.010, 0.015, 0.020, 0.050, 0.100]\n",
    "\n",
    "for run in tqdm(range(20)):          #perform 20 runs\n",
    "    X_train, X_test, y_train, y_test = train_test_split(X, y, train_split, shuffle=True)     #randomly split the data\n",
    "    c_star, best_error = 0, float('inf')            #initialize the best d and best error\n",
    "    for c in c_list:           #try different dimensions of the polynomial kernel\n",
    "        valid_errors = []      #initialize a list to store validation errors\n",
    "        X_train_frold, X_valid_fold, y_train_fold, y_valid_fold = KFold(X_train, y_train, 5)    #split the training set into 5 folds\n",
    "        for Xtrain, Xvalid, ytrain, yvalid in zip(X_train_frold, X_valid_fold, y_train_fold, y_valid_fold):\n",
    "            clf = MultiKernelPerceptron(Xtrain, ytrain, Xvalid, yvalid, kernel='g', kernel_param=c, epochs=5)\n",
    "            train_error = clf.train()               #train the classifier\n",
    "            valid_errors.append(clf.test())         #evalaute the classifier on the validation set\n",
    "        if np.mean(valid_errors) < best_error:      #if the current c value gives a lower error rate\n",
    "            best_error = np.mean(valid_errors)      #update the best error so far\n",
    "            c_star = c                              #update the best c value so far\n",
    "    #retrain the classifier on the entire training set with the best c value\n",
    "    clf = MultiKernelPerceptron(X_train, y_train, X_test, y_test, kernel='g', kernel_param=c_star, epochs=5)   \n",
    "    train_error = clf.train()\n",
    "    test_error = clf.test()\n",
    "    test_errors.append(test_error)\n",
    "    c_stars.append(c_star)\n",
    "    print('c*: ', c_star, ', test error rate: ', test_errors[-1])"
   ]
  },
  {
   "cell_type": "code",
   "execution_count": 239,
   "metadata": {},
   "outputs": [
    {
     "name": "stdout",
     "output_type": "stream",
     "text": [
      "┌───────┬───────┬─────────────────────────────┐\n",
      "│  run  │  c*   │  Mean Test Error Rates (%)  │\n",
      "├───────┼───────┼─────────────────────────────┤\n",
      "│   1   │ 0.01  │           2.9032            │\n",
      "│   2   │ 0.015 │           3.0645            │\n",
      "│   3   │ 0.02  │           3.2796            │\n",
      "│   4   │ 0.02  │           2.5269            │\n",
      "│   5   │ 0.015 │           2.7957            │\n",
      "│   6   │ 0.02  │           3.3871            │\n",
      "│   7   │ 0.01  │           3.4409            │\n",
      "│   8   │ 0.015 │           2.7957            │\n",
      "│   9   │ 0.02  │           3.0108            │\n",
      "│  10   │ 0.015 │           2.7957            │\n",
      "│  11   │ 0.01  │            2.957            │\n",
      "│  12   │ 0.01  │           3.2796            │\n",
      "│  13   │ 0.015 │           3.2796            │\n",
      "│  14   │ 0.02  │           3.3333            │\n",
      "│  15   │ 0.02  │            3.172            │\n",
      "│  16   │ 0.015 │           3.4409            │\n",
      "│  17   │ 0.015 │           2.7419            │\n",
      "│  18   │ 0.015 │           2.9032            │\n",
      "│  19   │ 0.015 │           3.2796            │\n",
      "│  20   │ 0.015 │           2.6344            │\n",
      "└───────┴───────┴─────────────────────────────┘\n"
     ]
    }
   ],
   "source": [
    "#tabulate the results\n",
    "data = []\n",
    "for i in range(20):\n",
    "    test_result = f\"{'{:.4f}'.format(test_errors[i])}\"\n",
    "    result = [int(i+1), c_stars[i], test_result]\n",
    "    data.append(result)\n",
    "print(tabulate(data, \n",
    "               headers = [\"run\", \"c*\", \"Test Error Rates (%)\"], \n",
    "               tablefmt = \"simple_outline\",\n",
    "               numalign = \"center\"))"
   ]
  },
  {
   "cell_type": "code",
   "execution_count": 243,
   "metadata": {},
   "outputs": [
    {
     "name": "stdout",
     "output_type": "stream",
     "text": [
      "Mean c*:  0.0155 ± 0.0035\n",
      "Mean Test Error (%):  3.0511 ± 0.2751\n"
     ]
    }
   ],
   "source": [
    "print('Mean c*: ', f\"{'{:.4f}'.format(np.mean(c_stars))} ± {'{:.4f}'.format(np.std(c_stars))}\")\n",
    "print('Mean Test Error (%): ', f\"{'{:.4f}'.format(np.mean(test_errors))} ± {'{:.4f}'.format(np.std(test_errors))}\")"
   ]
  }
 ],
 "metadata": {
  "kernelspec": {
   "display_name": "Python 3",
   "language": "python",
   "name": "python3"
  },
  "language_info": {
   "codemirror_mode": {
    "name": "ipython",
    "version": 3
   },
   "file_extension": ".py",
   "mimetype": "text/x-python",
   "name": "python",
   "nbconvert_exporter": "python",
   "pygments_lexer": "ipython3",
   "version": "3.8.5"
  }
 },
 "nbformat": 4,
 "nbformat_minor": 4
}
