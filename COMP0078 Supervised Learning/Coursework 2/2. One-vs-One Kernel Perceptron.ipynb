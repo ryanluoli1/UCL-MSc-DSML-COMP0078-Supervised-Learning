{
 "cells": [
  {
   "cell_type": "markdown",
   "metadata": {},
   "source": [
    "# 2. One-vs-One Kernel Perceptron"
   ]
  },
  {
   "cell_type": "markdown",
   "metadata": {},
   "source": [
    "## Libraries"
   ]
  },
  {
   "cell_type": "code",
   "execution_count": 1,
   "metadata": {},
   "outputs": [],
   "source": [
    "import numpy as np\n",
    "import pandas as pd\n",
    "\n",
    "import seaborn as sns\n",
    "import matplotlib.pyplot as plt\n",
    "\n",
    "import time\n",
    "from tqdm import tqdm\n",
    "from tabulate import tabulate\n",
    "\n",
    "from sklearn.metrics.pairwise import polynomial_kernel\n",
    "from sklearn.metrics.pairwise import euclidean_distances"
   ]
  },
  {
   "cell_type": "markdown",
   "metadata": {},
   "source": [
    "## Import Data"
   ]
  },
  {
   "cell_type": "code",
   "execution_count": 2,
   "metadata": {},
   "outputs": [
    {
     "data": {
      "text/html": [
       "<div>\n",
       "<style scoped>\n",
       "    .dataframe tbody tr th:only-of-type {\n",
       "        vertical-align: middle;\n",
       "    }\n",
       "\n",
       "    .dataframe tbody tr th {\n",
       "        vertical-align: top;\n",
       "    }\n",
       "\n",
       "    .dataframe thead th {\n",
       "        text-align: right;\n",
       "    }\n",
       "</style>\n",
       "<table border=\"1\" class=\"dataframe\">\n",
       "  <thead>\n",
       "    <tr style=\"text-align: right;\">\n",
       "      <th></th>\n",
       "      <th>label</th>\n",
       "      <th>1</th>\n",
       "      <th>2</th>\n",
       "      <th>3</th>\n",
       "      <th>4</th>\n",
       "      <th>5</th>\n",
       "      <th>6</th>\n",
       "      <th>7</th>\n",
       "      <th>8</th>\n",
       "      <th>9</th>\n",
       "      <th>...</th>\n",
       "      <th>247</th>\n",
       "      <th>248</th>\n",
       "      <th>249</th>\n",
       "      <th>250</th>\n",
       "      <th>251</th>\n",
       "      <th>252</th>\n",
       "      <th>253</th>\n",
       "      <th>254</th>\n",
       "      <th>255</th>\n",
       "      <th>256</th>\n",
       "    </tr>\n",
       "  </thead>\n",
       "  <tbody>\n",
       "    <tr>\n",
       "      <th>0</th>\n",
       "      <td>6.0</td>\n",
       "      <td>-1.0</td>\n",
       "      <td>-1.0</td>\n",
       "      <td>-1.0</td>\n",
       "      <td>-1.000</td>\n",
       "      <td>-1.000</td>\n",
       "      <td>-1.000</td>\n",
       "      <td>-1.000</td>\n",
       "      <td>-0.631</td>\n",
       "      <td>0.862</td>\n",
       "      <td>...</td>\n",
       "      <td>0.304</td>\n",
       "      <td>0.823</td>\n",
       "      <td>1.000</td>\n",
       "      <td>0.482</td>\n",
       "      <td>-0.474</td>\n",
       "      <td>-0.991</td>\n",
       "      <td>-1.000</td>\n",
       "      <td>-1.000</td>\n",
       "      <td>-1.000</td>\n",
       "      <td>-1.0</td>\n",
       "    </tr>\n",
       "    <tr>\n",
       "      <th>1</th>\n",
       "      <td>5.0</td>\n",
       "      <td>-1.0</td>\n",
       "      <td>-1.0</td>\n",
       "      <td>-1.0</td>\n",
       "      <td>-0.813</td>\n",
       "      <td>-0.671</td>\n",
       "      <td>-0.809</td>\n",
       "      <td>-0.887</td>\n",
       "      <td>-0.671</td>\n",
       "      <td>-0.853</td>\n",
       "      <td>...</td>\n",
       "      <td>-0.671</td>\n",
       "      <td>-0.671</td>\n",
       "      <td>-0.033</td>\n",
       "      <td>0.761</td>\n",
       "      <td>0.762</td>\n",
       "      <td>0.126</td>\n",
       "      <td>-0.095</td>\n",
       "      <td>-0.671</td>\n",
       "      <td>-0.828</td>\n",
       "      <td>-1.0</td>\n",
       "    </tr>\n",
       "    <tr>\n",
       "      <th>2</th>\n",
       "      <td>4.0</td>\n",
       "      <td>-1.0</td>\n",
       "      <td>-1.0</td>\n",
       "      <td>-1.0</td>\n",
       "      <td>-1.000</td>\n",
       "      <td>-1.000</td>\n",
       "      <td>-1.000</td>\n",
       "      <td>-1.000</td>\n",
       "      <td>-1.000</td>\n",
       "      <td>-1.000</td>\n",
       "      <td>...</td>\n",
       "      <td>-1.000</td>\n",
       "      <td>-1.000</td>\n",
       "      <td>-1.000</td>\n",
       "      <td>-0.109</td>\n",
       "      <td>1.000</td>\n",
       "      <td>-0.179</td>\n",
       "      <td>-1.000</td>\n",
       "      <td>-1.000</td>\n",
       "      <td>-1.000</td>\n",
       "      <td>-1.0</td>\n",
       "    </tr>\n",
       "    <tr>\n",
       "      <th>3</th>\n",
       "      <td>7.0</td>\n",
       "      <td>-1.0</td>\n",
       "      <td>-1.0</td>\n",
       "      <td>-1.0</td>\n",
       "      <td>-1.000</td>\n",
       "      <td>-1.000</td>\n",
       "      <td>-0.273</td>\n",
       "      <td>0.684</td>\n",
       "      <td>0.960</td>\n",
       "      <td>0.450</td>\n",
       "      <td>...</td>\n",
       "      <td>-0.318</td>\n",
       "      <td>1.000</td>\n",
       "      <td>0.536</td>\n",
       "      <td>-0.987</td>\n",
       "      <td>-1.000</td>\n",
       "      <td>-1.000</td>\n",
       "      <td>-1.000</td>\n",
       "      <td>-1.000</td>\n",
       "      <td>-1.000</td>\n",
       "      <td>-1.0</td>\n",
       "    </tr>\n",
       "    <tr>\n",
       "      <th>4</th>\n",
       "      <td>3.0</td>\n",
       "      <td>-1.0</td>\n",
       "      <td>-1.0</td>\n",
       "      <td>-1.0</td>\n",
       "      <td>-1.000</td>\n",
       "      <td>-1.000</td>\n",
       "      <td>-0.928</td>\n",
       "      <td>-0.204</td>\n",
       "      <td>0.751</td>\n",
       "      <td>0.466</td>\n",
       "      <td>...</td>\n",
       "      <td>0.466</td>\n",
       "      <td>0.639</td>\n",
       "      <td>1.000</td>\n",
       "      <td>1.000</td>\n",
       "      <td>0.791</td>\n",
       "      <td>0.439</td>\n",
       "      <td>-0.199</td>\n",
       "      <td>-0.883</td>\n",
       "      <td>-1.000</td>\n",
       "      <td>-1.0</td>\n",
       "    </tr>\n",
       "  </tbody>\n",
       "</table>\n",
       "<p>5 rows × 257 columns</p>\n",
       "</div>"
      ],
      "text/plain": [
       "   label    1    2    3      4      5      6      7      8      9  ...    247  \\\n",
       "0    6.0 -1.0 -1.0 -1.0 -1.000 -1.000 -1.000 -1.000 -0.631  0.862  ...  0.304   \n",
       "1    5.0 -1.0 -1.0 -1.0 -0.813 -0.671 -0.809 -0.887 -0.671 -0.853  ... -0.671   \n",
       "2    4.0 -1.0 -1.0 -1.0 -1.000 -1.000 -1.000 -1.000 -1.000 -1.000  ... -1.000   \n",
       "3    7.0 -1.0 -1.0 -1.0 -1.000 -1.000 -0.273  0.684  0.960  0.450  ... -0.318   \n",
       "4    3.0 -1.0 -1.0 -1.0 -1.000 -1.000 -0.928 -0.204  0.751  0.466  ...  0.466   \n",
       "\n",
       "     248    249    250    251    252    253    254    255  256  \n",
       "0  0.823  1.000  0.482 -0.474 -0.991 -1.000 -1.000 -1.000 -1.0  \n",
       "1 -0.671 -0.033  0.761  0.762  0.126 -0.095 -0.671 -0.828 -1.0  \n",
       "2 -1.000 -1.000 -0.109  1.000 -0.179 -1.000 -1.000 -1.000 -1.0  \n",
       "3  1.000  0.536 -0.987 -1.000 -1.000 -1.000 -1.000 -1.000 -1.0  \n",
       "4  0.639  1.000  1.000  0.791  0.439 -0.199 -0.883 -1.000 -1.0  \n",
       "\n",
       "[5 rows x 257 columns]"
      ]
     },
     "execution_count": 2,
     "metadata": {},
     "output_type": "execute_result"
    }
   ],
   "source": [
    "#import the dataset\n",
    "df = pd.read_csv('zipcombo.csv')\n",
    "df.head()"
   ]
  },
  {
   "cell_type": "code",
   "execution_count": 10,
   "metadata": {},
   "outputs": [],
   "source": [
    "#split the data into features X and target y\n",
    "X = df[df.columns[1:]].values.copy()\n",
    "y = df['label'].values.copy()"
   ]
  },
  {
   "cell_type": "markdown",
   "metadata": {},
   "source": [
    "## Helper Functions"
   ]
  },
  {
   "cell_type": "code",
   "execution_count": 44,
   "metadata": {},
   "outputs": [],
   "source": [
    "#a permutation function to obtain the combinations of classes corresponding to each binary classifier\n",
    "def permutation(classes):\n",
    "    def backtrack(nums, stack, start):\n",
    "        if len(stack) == 2:\n",
    "            res.append(stack)\n",
    "            return\n",
    "        for i in range(start, len(nums)):\n",
    "            stack = stack + [nums[i]]\n",
    "            backtrack(nums, stack, i+1)\n",
    "            stack = stack[:-1]\n",
    "    res = []\n",
    "    backtrack(classes, [], 0)\n",
    "    return res"
   ]
  },
  {
   "cell_type": "markdown",
   "metadata": {},
   "source": [
    "## Kernel Functions"
   ]
  },
  {
   "cell_type": "code",
   "execution_count": 4,
   "metadata": {},
   "outputs": [],
   "source": [
    "#function to perform mapping with the polynomial kernel\n",
    "def polynomial(X_i, X_j, d):\n",
    "    '''\n",
    "    d: dimension fo the polynomial kernel\n",
    "    '''\n",
    "    K = ( X_i.dot(X_j.T) ) ** d\n",
    "    return K\n",
    "\n",
    "#a fast implementaion of the polynomial kernel\n",
    "def fast_polynomial(X_i, X_j, d):\n",
    "    '''\n",
    "    d: dimension fo the polynomial kernel\n",
    "    '''\n",
    "    K = polynomial_kernel(X_i, Y=X_j, degree=d)\n",
    "    return K \n",
    "\n",
    "#function to perform mapping with the gaussian kernel\n",
    "def gaussian(X_i, X_j, c):\n",
    "    '''\n",
    "    c: width of the gaussian kernel\n",
    "    '''\n",
    "    m, n = len(X_i), len(X_j)\n",
    "    K = np.zeros((m,n))            #initialize the mapped feature matrix\n",
    "    for i in range(m):\n",
    "        for j in range(n):\n",
    "            K[i][j] = np.exp( -c * np.linalg.norm(X_i[i]-X_j[j]) ** 2 )\n",
    "    return K\n",
    "\n",
    "#a faster implementation of the gaussian kernel\n",
    "def fast_gaussian(X_i, X_j, c):\n",
    "    '''\n",
    "    c: width of the gaussian kernel\n",
    "    '''\n",
    "    K = euclidean_distances(X_i, X_j)\n",
    "    K = np.exp( -c * K ** 2 )\n",
    "    return K"
   ]
  },
  {
   "cell_type": "markdown",
   "metadata": {},
   "source": [
    "## Train-Test Split Functions"
   ]
  },
  {
   "cell_type": "code",
   "execution_count": 6,
   "metadata": {},
   "outputs": [],
   "source": [
    "def shuffle_data(X, y, seed=None):\n",
    "    if seed:                         #set a random seed for reproducable results\n",
    "        np.random.seed(seed)\n",
    "    idx = np.arange(len(X))          \n",
    "    np.random.shuffle(idx)           #shuffle the index\n",
    "    return X[idx], y[idx]\n",
    "\n",
    "#function to perform train-test split\n",
    "def train_test_split(X, y, train_split, shuffle, seed=None):\n",
    "    '''\n",
    "    train_split: percentage of data for training\n",
    "    '''\n",
    "    if shuffle:                                     #shuffle the data if needed\n",
    "        X, y = shuffle_data(X, y, seed)\n",
    "    n_train = int(train_split*len(X))               #find the split location\n",
    "    X_train, X_test = X[:n_train], X[n_train:]      \n",
    "    y_train, y_test = y[:n_train], y[n_train:]\n",
    "    return X_train, X_test, y_train, y_test\n",
    "\n",
    "#function to split data for k-fold cross-validation\n",
    "def KFold(X, y, k):\n",
    "    m = len(X)\n",
    "    n_split = int(m/k)         \n",
    "    X_train_fold, X_valid_fold, y_train_fold, y_valid_fold = [], [], [], []\n",
    "    for fold in range(1, k+1):\n",
    "        X_valid = X[(fold-1)*n_split:fold*n_split]\n",
    "        y_valid = y[(fold-1)*n_split:fold*n_split]\n",
    "        X_train = np.append(X[0:(fold-1)*n_split], X[fold*n_split:], axis=0)\n",
    "        y_train = np.append(y[0:(fold-1)*n_split], y[fold*n_split:], axis=0)\n",
    "        X_train_fold.append(X_train)\n",
    "        X_valid_fold.append(X_valid)\n",
    "        y_train_fold.append(y_train)\n",
    "        y_valid_fold.append(y_valid)\n",
    "    return X_train_fold, X_valid_fold, y_train_fold, y_valid_fold"
   ]
  },
  {
   "cell_type": "markdown",
   "metadata": {},
   "source": [
    "## One-vs-One Kernel Perceptron"
   ]
  },
  {
   "attachments": {
    "image.png": {
     "image/png": "[encoded data removed]"
    }
   },
   "cell_type": "markdown",
   "metadata": {},
   "source": [
    "<div>\n",
    "<img src=\"attachment:image.png\" width=\"600\"/>\n",
    "</div>"
   ]
  },
  {
   "cell_type": "code",
   "execution_count": 74,
   "metadata": {},
   "outputs": [],
   "source": [
    "class MultiKernelPerceptron(object):\n",
    "    \n",
    "    def __init__(self, X_train, y_train, X_test, y_test, kernel, kernel_param, epochs):\n",
    "        #initialize the datasets\n",
    "        self.X_train = X_train\n",
    "        self.y_train = y_train\n",
    "        self.X_test = X_test\n",
    "        self.y_test = y_test\n",
    "        #initialize the sizes\n",
    "        self.epochs = epochs\n",
    "        self.batch_size = len(self.y_train)  \n",
    "        self.test_size = len(self.y_test)\n",
    "        self.classes = np.unique(np.append(self.y_train, self.y_test))\n",
    "        self.n_c = len(self.classes)\n",
    "        self.N = int(self.n_c*(self.n_c-1)/2)\n",
    "        #initialize the combination of classes for each classifier\n",
    "        self.classifiers = sorted(permutation(list(self.classes)))\n",
    "        #initialize the kernel method\n",
    "        self.kernel = kernel\n",
    "        self.kernel_param = kernel_param\n",
    "        #initialize the mapped data with kernelization\n",
    "        if kernel == 'p':\n",
    "            self.K = fast_polynomial(self.X_train, self.X_train, self.kernel_param)\n",
    "            self.K_test = fast_polynomial(self.X_test, self.X_train, self.kernel_param)\n",
    "        if kernel =='g':\n",
    "            self.K = fast_gaussian(self.X_train, self.X_train, self.kernel_param)\n",
    "            self.K_test = fast_gaussian(self.X_test, self.X_train, self.kernel_param)   \n",
    "        #initialize the alpha matrix: N × m\n",
    "        self.alpha = np.zeros(shape=(self.N, self.batch_size))\n",
    "        \n",
    "\n",
    "    def predict(self, i, data):\n",
    "        if data == 'train':\n",
    "            K = self.K[i]\n",
    "        elif data == 'test':\n",
    "            K = self.K_test[i]\n",
    "        votes = np.sign(np.dot(self.alpha, K))                 #compute the votes\n",
    "        individual_votes = [0] * self.n_c\n",
    "        for i in range(self.N):                                #for each classifier\n",
    "            combo = self.classifiers[i]                        #classes involved in the ith classifier\n",
    "            vote = combo[0] if votes[i] > 0 else combo[1]    #the class that the ith classifier voted for\n",
    "            individual_votes[int(vote)] += 1                        #increase the vote for this class by 1\n",
    "        y_pred = np.argmax(individual_votes)                   #make the final prediction based on maximum voting\n",
    "        return y_pred\n",
    "        \n",
    "\n",
    "    def train(self):\n",
    "        for _ in range(self.epochs):                    #train the algorithm over 10 epoches\n",
    "            errors = 0                                  #reset the count of mistakes to 0 at the beginning of each epoch\n",
    "            for i in range(self.batch_size):            #sequentially train the algorithm over each sample\n",
    "                y_pred = self.predict(i, 'train')       #make prediction for the ith sample\n",
    "                label = int(self.y_train[i])            #obtain the true label of the ith sample\n",
    "                if int(y_pred) != label:                #if the final prediction does not match the true label\n",
    "                    errors += 1\n",
    "                    for j in range(self.N):             #for each classifier\n",
    "                        combo = self.classifiers[j]     #classes involved in the jth classifier\n",
    "                        if int(label) in combo:         #if the classifier involves the label for the ith sample\n",
    "                            self.alpha[j, i] += 1 if combo[0]==label else -1\n",
    "            error_rate = (errors/self.batch_size) * 100            #compute the error rate for this epoch\n",
    "        return error_rate                                          #return the training error rate on the last epoch\n",
    "    \n",
    "    \n",
    "    def test(self):\n",
    "        errors = 0\n",
    "        for i in range(self.test_size):\n",
    "            y_pred = self.predict(i, 'test')      \n",
    "            label = int(self.y_test[i])\n",
    "            if int(y_pred) != label:\n",
    "                errors += 1\n",
    "        error_rate = (errors/self.test_size) * 100 \n",
    "        return error_rate "
   ]
  },
  {
   "cell_type": "markdown",
   "metadata": {},
   "source": [
    "## Basic Result"
   ]
  },
  {
   "cell_type": "code",
   "execution_count": 75,
   "metadata": {
    "scrolled": true
   },
   "outputs": [
    {
     "name": "stderr",
     "output_type": "stream",
     "text": [
      "100%|██████████████████████████████████████████████████████████████████████████████████| 20/20 [04:05<00:00, 12.27s/it]\n",
      "  0%|                                                                                           | 0/20 [00:00<?, ?it/s]"
     ]
    },
    {
     "name": "stdout",
     "output_type": "stream",
     "text": [
      "Polynomial order:  1 , mean train error:  10.400645334767411 , mean test error:  11.180107526881722\n"
     ]
    },
    {
     "name": "stderr",
     "output_type": "stream",
     "text": [
      "100%|██████████████████████████████████████████████████████████████████████████████████| 20/20 [04:10<00:00, 12.53s/it]\n",
      "  0%|                                                                                           | 0/20 [00:00<?, ?it/s]"
     ]
    },
    {
     "name": "stdout",
     "output_type": "stream",
     "text": [
      "Polynomial order:  2 , mean train error:  8.275073944608767 , mean test error:  9.344086021505378\n"
     ]
    },
    {
     "name": "stderr",
     "output_type": "stream",
     "text": [
      "100%|██████████████████████████████████████████████████████████████████████████████████| 20/20 [04:50<00:00, 14.50s/it]\n",
      "  0%|                                                                                           | 0/20 [00:00<?, ?it/s]"
     ]
    },
    {
     "name": "stdout",
     "output_type": "stream",
     "text": [
      "Polynomial order:  3 , mean train error:  6.4842699650443665 , mean test error:  7.935483870967742\n"
     ]
    },
    {
     "name": "stderr",
     "output_type": "stream",
     "text": [
      "100%|██████████████████████████████████████████████████████████████████████████████████| 20/20 [04:38<00:00, 13.93s/it]\n",
      "  0%|                                                                                           | 0/20 [00:00<?, ?it/s]"
     ]
    },
    {
     "name": "stdout",
     "output_type": "stream",
     "text": [
      "Polynomial order:  4 , mean train error:  5.1573003495563325 , mean test error:  7.155913978494624\n"
     ]
    },
    {
     "name": "stderr",
     "output_type": "stream",
     "text": [
      "100%|██████████████████████████████████████████████████████████████████████████████████| 20/20 [04:38<00:00, 13.93s/it]\n",
      "  0%|                                                                                           | 0/20 [00:00<?, ?it/s]"
     ]
    },
    {
     "name": "stdout",
     "output_type": "stream",
     "text": [
      "Polynomial order:  5 , mean train error:  3.8128529174509276 , mean test error:  6.451612903225806\n"
     ]
    },
    {
     "name": "stderr",
     "output_type": "stream",
     "text": [
      "100%|██████████████████████████████████████████████████████████████████████████████████| 20/20 [04:47<00:00, 14.38s/it]\n",
      "  0%|                                                                                           | 0/20 [00:00<?, ?it/s]"
     ]
    },
    {
     "name": "stdout",
     "output_type": "stream",
     "text": [
      "Polynomial order:  6 , mean train error:  2.7493949986555526 , mean test error:  6.005376344086021\n"
     ]
    },
    {
     "name": "stderr",
     "output_type": "stream",
     "text": [
      "100%|██████████████████████████████████████████████████████████████████████████████████| 20/20 [05:08<00:00, 15.42s/it]"
     ]
    },
    {
     "name": "stdout",
     "output_type": "stream",
     "text": [
      "Polynomial order:  7 , mean train error:  1.9292820650712552 , mean test error:  5.629032258064516\n"
     ]
    },
    {
     "name": "stderr",
     "output_type": "stream",
     "text": [
      "\n"
     ]
    }
   ],
   "source": [
    "#initialization\n",
    "np.random.seed(0)\n",
    "train_split = 0.8\n",
    "d_list = np.arange(1,8)\n",
    "train_error, train_std, test_error, test_std = [], [], [], []\n",
    "\n",
    "for d in d_list:               #for different dimensions of the polynomial kernel\n",
    "    single_run_train_errors, single_run_test_errors = [], []\n",
    "    for run in tqdm(range(20)):      #perform 20 runs\n",
    "        X_train, X_test, y_train, y_test = train_test_split(X, y, train_split, shuffle=True)     #randomly split the data\n",
    "        clf = MultiKernelPerceptron(X_train, y_train, X_test, y_test, kernel='p', kernel_param=d, epochs=5)\n",
    "        train_e = clf.train()                            #compute the training error on the 80% data\n",
    "        single_run_train_errors.append(train_e)\n",
    "        test_e = clf.test()                              #compute the test error on the 20% data\n",
    "        single_run_test_errors.append(test_e) \n",
    "    train_error.append(np.mean(single_run_train_errors))\n",
    "    train_std.append(np.std(single_run_train_errors))\n",
    "    test_error.append(np.mean(single_run_test_errors))\n",
    "    test_std.append(np.std(single_run_test_errors))\n",
    "    print('Polynomial order: ', d, ', mean train error: ', train_error[-1], ', mean test error: ', test_error[-1])"
   ]
  },
  {
   "cell_type": "code",
   "execution_count": 76,
   "metadata": {},
   "outputs": [
    {
     "name": "stdout",
     "output_type": "stream",
     "text": [
      "┌─────┬──────────────────────────────┬─────────────────────────────┐\n",
      "│   d │  Mean Train Error Rates (%)  │  Mean Test Error Rates (%)  │\n",
      "├─────┼──────────────────────────────┼─────────────────────────────┤\n",
      "│   1 │        10.4006±0.2609        │       11.1801±1.3514        │\n",
      "│   2 │        8.2751±0.2533         │        9.3441±0.7706        │\n",
      "│   3 │        6.4843±0.2309         │        7.9355±0.7961        │\n",
      "│   4 │        5.1573±0.1596         │        7.1559±0.6411        │\n",
      "│   5 │        3.8129±0.2346         │        6.4516±0.4705        │\n",
      "│   6 │        2.7494±0.2016         │        6.0054±0.7436        │\n",
      "│   7 │        1.9293±0.2232         │        5.6290±0.4916        │\n",
      "└─────┴──────────────────────────────┴─────────────────────────────┘\n"
     ]
    }
   ],
   "source": [
    "#tabulate the results\n",
    "data = []\n",
    "for i in range(len(d_list)):\n",
    "    train_result = f\"{'{:.4f}'.format(train_error[i])}±{'{:.4f}'.format(train_std[i])}\"\n",
    "    test_result = f\"{'{:.4f}'.format(test_error[i])}±{'{:.4f}'.format(test_std[i])}\"\n",
    "    result = [int(d_list[i]), train_result, test_result]\n",
    "    data.append(result)\n",
    "print(tabulate(data, \n",
    "               headers = [\"d\", \"Mean Train Error Rates (%)\", \"Mean Test Error Rates (%)\"], \n",
    "               tablefmt = \"simple_outline\",\n",
    "               stralign = \"center\"))"
   ]
  },
  {
   "cell_type": "markdown",
   "metadata": {},
   "source": [
    "## Cross-Validation"
   ]
  },
  {
   "cell_type": "code",
   "execution_count": 77,
   "metadata": {
    "scrolled": true
   },
   "outputs": [
    {
     "name": "stderr",
     "output_type": "stream",
     "text": [
      "  5%|████                                                                            | 1/20 [06:01<1:54:19, 361.04s/it]"
     ]
    },
    {
     "name": "stdout",
     "output_type": "stream",
     "text": [
      "d*:  7 , test error rate:  6.290322580645161\n"
     ]
    },
    {
     "name": "stderr",
     "output_type": "stream",
     "text": [
      "\r",
      " 10%|████████                                                                        | 2/20 [11:55<1:47:08, 357.15s/it]"
     ]
    },
    {
     "name": "stdout",
     "output_type": "stream",
     "text": [
      "d*:  7 , test error rate:  4.731182795698925\n"
     ]
    },
    {
     "name": "stderr",
     "output_type": "stream",
     "text": [
      "\r",
      " 15%|████████████                                                                    | 3/20 [17:46<1:40:20, 354.14s/it]"
     ]
    },
    {
     "name": "stdout",
     "output_type": "stream",
     "text": [
      "d*:  7 , test error rate:  6.129032258064516\n"
     ]
    },
    {
     "name": "stderr",
     "output_type": "stream",
     "text": [
      "\r",
      " 20%|████████████████                                                                | 4/20 [24:08<1:37:26, 365.41s/it]"
     ]
    },
    {
     "name": "stdout",
     "output_type": "stream",
     "text": [
      "d*:  7 , test error rate:  5.64516129032258\n"
     ]
    },
    {
     "name": "stderr",
     "output_type": "stream",
     "text": [
      "\r",
      " 25%|████████████████████                                                            | 5/20 [29:08<1:25:25, 341.69s/it]"
     ]
    },
    {
     "name": "stdout",
     "output_type": "stream",
     "text": [
      "d*:  7 , test error rate:  6.666666666666667\n"
     ]
    },
    {
     "name": "stderr",
     "output_type": "stream",
     "text": [
      "\r",
      " 30%|████████████████████████                                                        | 6/20 [33:38<1:14:03, 317.40s/it]"
     ]
    },
    {
     "name": "stdout",
     "output_type": "stream",
     "text": [
      "d*:  7 , test error rate:  6.075268817204301\n"
     ]
    },
    {
     "name": "stderr",
     "output_type": "stream",
     "text": [
      "\r",
      " 35%|████████████████████████████                                                    | 7/20 [38:33<1:07:11, 310.09s/it]"
     ]
    },
    {
     "name": "stdout",
     "output_type": "stream",
     "text": [
      "d*:  7 , test error rate:  4.56989247311828\n"
     ]
    },
    {
     "name": "stderr",
     "output_type": "stream",
     "text": [
      "\r",
      " 40%|████████████████████████████████                                                | 8/20 [43:16<1:00:15, 301.31s/it]"
     ]
    },
    {
     "name": "stdout",
     "output_type": "stream",
     "text": [
      "d*:  7 , test error rate:  6.075268817204301\n"
     ]
    },
    {
     "name": "stderr",
     "output_type": "stream",
     "text": [
      "\r",
      " 45%|████████████████████████████████████                                            | 9/20 [52:36<1:10:06, 382.43s/it]"
     ]
    },
    {
     "name": "stdout",
     "output_type": "stream",
     "text": [
      "d*:  7 , test error rate:  5.698924731182796\n"
     ]
    },
    {
     "name": "stderr",
     "output_type": "stream",
     "text": [
      "\r",
      " 50%|███████████████████████████████████████▌                                       | 10/20 [59:49<1:06:18, 397.89s/it]"
     ]
    },
    {
     "name": "stdout",
     "output_type": "stream",
     "text": [
      "d*:  7 , test error rate:  5.64516129032258\n"
     ]
    },
    {
     "name": "stderr",
     "output_type": "stream",
     "text": [
      "\r",
      " 55%|███████████████████████████████████████████▍                                   | 11/20 [1:03:24<51:17, 341.90s/it]"
     ]
    },
    {
     "name": "stdout",
     "output_type": "stream",
     "text": [
      "d*:  7 , test error rate:  6.451612903225806\n"
     ]
    },
    {
     "name": "stderr",
     "output_type": "stream",
     "text": [
      "\r",
      " 60%|███████████████████████████████████████████████▍                               | 12/20 [1:06:58<40:24, 303.04s/it]"
     ]
    },
    {
     "name": "stdout",
     "output_type": "stream",
     "text": [
      "d*:  6 , test error rate:  6.182795698924731\n"
     ]
    },
    {
     "name": "stderr",
     "output_type": "stream",
     "text": [
      "\r",
      " 65%|███████████████████████████████████████████████████▎                           | 13/20 [1:10:36<32:20, 277.23s/it]"
     ]
    },
    {
     "name": "stdout",
     "output_type": "stream",
     "text": [
      "d*:  7 , test error rate:  5.752688172043011\n"
     ]
    },
    {
     "name": "stderr",
     "output_type": "stream",
     "text": [
      "\r",
      " 70%|███████████████████████████████████████████████████████▎                       | 14/20 [1:14:13<25:53, 258.93s/it]"
     ]
    },
    {
     "name": "stdout",
     "output_type": "stream",
     "text": [
      "d*:  6 , test error rate:  6.612903225806452\n"
     ]
    },
    {
     "name": "stderr",
     "output_type": "stream",
     "text": [
      "\r",
      " 75%|███████████████████████████████████████████████████████████▎                   | 15/20 [1:17:41<20:19, 243.85s/it]"
     ]
    },
    {
     "name": "stdout",
     "output_type": "stream",
     "text": [
      "d*:  6 , test error rate:  6.182795698924731\n"
     ]
    },
    {
     "name": "stderr",
     "output_type": "stream",
     "text": [
      "\r",
      " 80%|███████████████████████████████████████████████████████████████▏               | 16/20 [1:21:24<15:50, 237.52s/it]"
     ]
    },
    {
     "name": "stdout",
     "output_type": "stream",
     "text": [
      "d*:  7 , test error rate:  6.236559139784946\n"
     ]
    },
    {
     "name": "stderr",
     "output_type": "stream",
     "text": [
      "\r",
      " 85%|███████████████████████████████████████████████████████████████████▏           | 17/20 [1:25:07<11:39, 233.06s/it]"
     ]
    },
    {
     "name": "stdout",
     "output_type": "stream",
     "text": [
      "d*:  7 , test error rate:  5.860215053763441\n"
     ]
    },
    {
     "name": "stderr",
     "output_type": "stream",
     "text": [
      "\r",
      " 90%|███████████████████████████████████████████████████████████████████████        | 18/20 [1:28:39<07:33, 226.86s/it]"
     ]
    },
    {
     "name": "stdout",
     "output_type": "stream",
     "text": [
      "d*:  6 , test error rate:  5.43010752688172\n"
     ]
    },
    {
     "name": "stderr",
     "output_type": "stream",
     "text": [
      "\r",
      " 95%|███████████████████████████████████████████████████████████████████████████    | 19/20 [1:32:09<03:41, 221.69s/it]"
     ]
    },
    {
     "name": "stdout",
     "output_type": "stream",
     "text": [
      "d*:  7 , test error rate:  5.376344086021505\n"
     ]
    },
    {
     "name": "stderr",
     "output_type": "stream",
     "text": [
      "100%|███████████████████████████████████████████████████████████████████████████████| 20/20 [1:35:40<00:00, 287.04s/it]"
     ]
    },
    {
     "name": "stdout",
     "output_type": "stream",
     "text": [
      "d*:  7 , test error rate:  6.451612903225806\n"
     ]
    },
    {
     "name": "stderr",
     "output_type": "stream",
     "text": [
      "\n"
     ]
    }
   ],
   "source": [
    "#initialization \n",
    "np.random.seed(1)\n",
    "train_split = 0.8\n",
    "d_stars, test_errors = [], []\n",
    "\n",
    "for run in tqdm(range(20)):          #perform 20 runs\n",
    "    X_train, X_test, y_train, y_test = train_test_split(X, y, train_split, shuffle=True)     #randomly split the data\n",
    "    d_star, best_error = 0, float('inf')            #initialize the best d and best error\n",
    "    for d in d_list:           #try different dimensions of the polynomial kernel\n",
    "        valid_errors = []      #initialize a list to store validation errors\n",
    "        X_train_frold, X_valid_fold, y_train_fold, y_valid_fold = KFold(X_train, y_train, 5)    #split the training set into 5 folds\n",
    "        for Xtrain, Xvalid, ytrain, yvalid in zip(X_train_frold, X_valid_fold, y_train_fold, y_valid_fold):\n",
    "            clf = MultiKernelPerceptron(Xtrain, ytrain, Xvalid, yvalid, kernel='p', kernel_param=d, epochs=5)\n",
    "            train_error = clf.train()               #train the classifier\n",
    "            valid_errors.append(clf.test())         #evalaute the classifier on the validation set\n",
    "        if np.mean(valid_errors) < best_error:      #if the current d value gives a lower error rate\n",
    "            best_error = np.mean(valid_errors)      #update the best error so far\n",
    "            d_star = d                              #update the best d value so far\n",
    "    #retrain the classifier on the entire training set with the best d value\n",
    "    clf = MultiKernelPerceptron(X_train, y_train, X_test, y_test, kernel='p', kernel_param=d_star, epochs=5)   \n",
    "    train_error = clf.train()\n",
    "    test_error = clf.test()\n",
    "    test_errors.append(test_error)\n",
    "    d_stars.append(d_star)\n",
    "    print('d*: ', d_star, ', test error rate: ', test_errors[-1])"
   ]
  },
  {
   "cell_type": "code",
   "execution_count": 78,
   "metadata": {},
   "outputs": [
    {
     "name": "stdout",
     "output_type": "stream",
     "text": [
      "┌───────┬──────┬─────────────────────────────┐\n",
      "│  run  │  d*  │  Mean Test Error Rates (%)  │\n",
      "├───────┼──────┼─────────────────────────────┤\n",
      "│   1   │  7   │           6.2903            │\n",
      "│   2   │  7   │           4.7312            │\n",
      "│   3   │  7   │            6.129            │\n",
      "│   4   │  7   │           5.6452            │\n",
      "│   5   │  7   │           6.6667            │\n",
      "│   6   │  7   │           6.0753            │\n",
      "│   7   │  7   │           4.5699            │\n",
      "│   8   │  7   │           6.0753            │\n",
      "│   9   │  7   │           5.6989            │\n",
      "│  10   │  7   │           5.6452            │\n",
      "│  11   │  7   │           6.4516            │\n",
      "│  12   │  6   │           6.1828            │\n",
      "│  13   │  7   │           5.7527            │\n",
      "│  14   │  6   │           6.6129            │\n",
      "│  15   │  6   │           6.1828            │\n",
      "│  16   │  7   │           6.2366            │\n",
      "│  17   │  7   │           5.8602            │\n",
      "│  18   │  6   │           5.4301            │\n",
      "│  19   │  7   │           5.3763            │\n",
      "│  20   │  7   │           6.4516            │\n",
      "└───────┴──────┴─────────────────────────────┘\n"
     ]
    }
   ],
   "source": [
    "#tabulate the results\n",
    "data = []\n",
    "for i in range(20):\n",
    "    test_result = f\"{'{:.4f}'.format(test_errors[i])}\"\n",
    "    result = [int(i+1), d_stars[i], test_result]\n",
    "    data.append(result)\n",
    "print(tabulate(data, \n",
    "               headers = [\"run\", \"d*\", \"Mean Test Error Rates (%)\"], \n",
    "               tablefmt = \"simple_outline\",\n",
    "               numalign = \"center\"))"
   ]
  },
  {
   "cell_type": "code",
   "execution_count": 79,
   "metadata": {},
   "outputs": [
    {
     "name": "stdout",
     "output_type": "stream",
     "text": [
      "Mean d*:  6.8 ± 0.4\n",
      "Mean Test Error (%):  5.90 ± 0.55\n"
     ]
    }
   ],
   "source": [
    "print('Mean d*: ', f\"{'{:.1f}'.format(np.mean(d_stars))} ± {'{:.1f}'.format(np.std(d_stars))}\")\n",
    "print('Mean Test Error (%): ', f\"{'{:.2f}'.format(np.mean(test_errors))} ± {'{:.2f}'.format(np.std(test_errors))}\")"
   ]
  }
 ],
 "metadata": {
  "kernelspec": {
   "display_name": "Python 3",
   "language": "python",
   "name": "python3"
  },
  "language_info": {
   "codemirror_mode": {
    "name": "ipython",
    "version": 3
   },
   "file_extension": ".py",
   "mimetype": "text/x-python",
   "name": "python",
   "nbconvert_exporter": "python",
   "pygments_lexer": "ipython3",
   "version": "3.8.5"
  }
 },
 "nbformat": 4,
 "nbformat_minor": 4
}
