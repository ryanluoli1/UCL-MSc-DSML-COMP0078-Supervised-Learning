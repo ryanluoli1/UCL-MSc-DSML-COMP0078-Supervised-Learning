{
 "nbformat": 4,
 "nbformat_minor": 0,
 "metadata": {
  "colab": {
   "provenance": [],
   "machine_shape": "hm",
   "mount_file_id": "136f9JZ18IL4SYevFW0kd3_SKPgLuR_J3",
   "authorship_tag": "ABX9TyPMb66JLUx4w0zc4XcWDTdP"
  },
  "kernelspec": {
   "name": "python3",
   "display_name": "Python 3"
  },
  "language_info": {
   "name": "python"
  },
  "accelerator": "GPU",
  "gpuClass": "premium"
 },
 "cells": [
  {
   "cell_type": "markdown",
   "source": [
    "# Training"
   ],
   "metadata": {
    "id": "kKj8QnHKK9kx"
   }
  },
  {
   "cell_type": "code",
   "source": [
    "pip install torchnet"
   ],
   "metadata": {
    "id": "oHen2Mb7zfoX"
   },
   "execution_count": null,
   "outputs": []
  },
  {
   "cell_type": "code",
   "execution_count": null,
   "metadata": {
    "id": "2b26L0SRK6vK"
   },
   "outputs": [],
   "source": [
    "import csv \n",
    "import pickle\n",
    "import numpy as np\n",
    "from tqdm import tqdm\n",
    "import matplotlib.pyplot as plt\n",
    "\n",
    "import torch\n",
    "import torch.optim as optim\n",
    "import torch.utils.data as data\n",
    "from torch.utils.data import DataLoader\n",
    "from torchnet.dataset import TensorDataset\n",
    "from torch.optim.lr_scheduler import ReduceLROnPlateau"
   ]
  },
  {
   "cell_type": "code",
   "source": [
    "import sys\n",
    "sys.path.append('/content/drive/MyDrive/Colab Notebooks/SNLP Group Project')"
   ],
   "metadata": {
    "id": "_IMBlHDWK_FD"
   },
   "execution_count": null,
   "outputs": []
  },
  {
   "cell_type": "code",
   "source": [
    "from models import *"
   ],
   "metadata": {
    "id": "sMmCu9SDGRf9"
   },
   "execution_count": null,
   "outputs": []
  },
  {
   "cell_type": "markdown",
   "source": [
    "## Set Device"
   ],
   "metadata": {
    "id": "Hpblv7_3vte0"
   }
  },
  {
   "cell_type": "code",
   "source": [
    "# set device\n",
    "if torch.cuda.is_available():\n",
    "    device = torch.device(\"cuda\")\n",
    "    print(\"GPU is available.\")\n",
    "else:\n",
    "    device = torch.device(\"cpu\")\n",
    "    print(\"Using CPU.\")"
   ],
   "metadata": {
    "colab": {
     "base_uri": "https://localhost:8080/"
    },
    "id": "2_Iu0bIqvsOC",
    "executionInfo": {
     "status": "ok",
     "timestamp": 1678210080851,
     "user_tz": 0,
     "elapsed": 3,
     "user": {
      "displayName": "Ryan Li",
      "userId": "13344582354412591551"
     }
    },
    "outputId": "40468da6-ee16-4611-82e8-b50a6571deb5"
   },
   "execution_count": null,
   "outputs": [
    {
     "output_type": "stream",
     "name": "stdout",
     "text": [
      "GPU is available.\n"
     ]
    }
   ]
  },
  {
   "cell_type": "markdown",
   "source": [
    "## Load Features"
   ],
   "metadata": {
    "id": "75dGpb-Sv42l"
   }
  },
  {
   "cell_type": "code",
   "source": [
    "label_path = sys.path[-1]+\"/Data/Labels/labels.npy\"\n",
    "text_path = sys.path[-1]+\"/Data/Text Features/text_features.pt\"\n",
    "audio_path = sys.path[-1]+\"/Data/Audio Features/audio_features.pt\""
   ],
   "metadata": {
    "id": "b8BI9V1Evyh3"
   },
   "execution_count": null,
   "outputs": []
  },
  {
   "cell_type": "code",
   "source": [
    "labels = np.load(label_path)\n",
    "print('Labels loaded!')"
   ],
   "metadata": {
    "colab": {
     "base_uri": "https://localhost:8080/"
    },
    "id": "RmKkF8iw0XUc",
    "executionInfo": {
     "status": "ok",
     "timestamp": 1678210080851,
     "user_tz": 0,
     "elapsed": 3,
     "user": {
      "displayName": "Ryan Li",
      "userId": "13344582354412591551"
     }
    },
    "outputId": "7b770972-284d-4b6d-d089-93eea4b2e737"
   },
   "execution_count": null,
   "outputs": [
    {
     "output_type": "stream",
     "name": "stdout",
     "text": [
      "Labels loaded!\n"
     ]
    }
   ]
  },
  {
   "cell_type": "code",
   "source": [
    "text_features = torch.load(text_path, map_location=torch.device('cpu'))\n",
    "print('Text features loaded!')"
   ],
   "metadata": {
    "colab": {
     "base_uri": "https://localhost:8080/"
    },
    "id": "eS09SGcA0THT",
    "executionInfo": {
     "status": "ok",
     "timestamp": 1678210097877,
     "user_tz": 0,
     "elapsed": 17028,
     "user": {
      "displayName": "Ryan Li",
      "userId": "13344582354412591551"
     }
    },
    "outputId": "3ec01f61-157a-42ce-ecfa-ce782826dc5e"
   },
   "execution_count": null,
   "outputs": [
    {
     "output_type": "stream",
     "name": "stdout",
     "text": [
      "Text features loaded!\n"
     ]
    }
   ]
  },
  {
   "cell_type": "code",
   "source": [
    "audio_features = torch.load(audio_path, map_location=torch.device('cpu'))\n",
    "print('Audio features loaded!')"
   ],
   "metadata": {
    "colab": {
     "base_uri": "https://localhost:8080/"
    },
    "id": "Bs3I3uzn0Vd5",
    "executionInfo": {
     "status": "ok",
     "timestamp": 1678210145752,
     "user_tz": 0,
     "elapsed": 47876,
     "user": {
      "displayName": "Ryan Li",
      "userId": "13344582354412591551"
     }
    },
    "outputId": "43c2753a-899f-4890-97a4-9a760ddb597d"
   },
   "execution_count": null,
   "outputs": [
    {
     "output_type": "stream",
     "name": "stdout",
     "text": [
      "Audio features loaded!\n"
     ]
    }
   ]
  },
  {
   "cell_type": "markdown",
   "source": [
    "## Datasets and Data Loaders"
   ],
   "metadata": {
    "id": "hTPc4ASNxIQK"
   }
  },
  {
   "cell_type": "code",
   "source": [
    "def train_test_split(dataset, valid_ratio, test_ratio, shuffle=True):\n",
    "    test_size = int(test_ratio*len(dataset))\n",
    "    valid_size = int(valid_ratio*len(dataset))\n",
    "    train_size = len(dataset) - valid_size - test_size\n",
    "    if shuffle:\n",
    "        train_set, valid_set, test_set = data.random_split(dataset, [train_size, valid_size, test_size])\n",
    "    else:\n",
    "        train_idx = np.arange(train_size)\n",
    "        valid_idx = np.arange(train_size, train_size+valid_size)\n",
    "        test_idx = np.arange(train_size+valid_size, len(dataset))\n",
    "        train_set = TensorDataset([torch.utils.data.Subset(dataset, train_idx)])\n",
    "        valid_set = TensorDataset([torch.utils.data.Subset(dataset, valid_idx)])\n",
    "        test_set = TensorDataset([torch.utils.data.Subset(dataset, test_idx)])\n",
    "    return train_set, valid_set, test_set"
   ],
   "metadata": {
    "id": "8MrWgMWawcB7"
   },
   "execution_count": null,
   "outputs": []
  },
  {
   "cell_type": "code",
   "source": [
    "fold_ids = {}\n",
    "for i in range(1, 6):\n",
    "    fold_path = sys.path[-1]+\"/Data/Folds/fold\" + f\"0{i}_id.txt\"\n",
    "    ids = []\n",
    "    with open(fold_path, 'r') as f:\n",
    "        for row in csv.reader(f, delimiter=' '):\n",
    "            for item in row:\n",
    "                if item.isdigit():\n",
    "                    ids.append(int(item))\n",
    "    fold_ids[f\"fold0{i}\"] = ids\n",
    "print('Fold ids loaded!')"
   ],
   "metadata": {
    "colab": {
     "base_uri": "https://localhost:8080/"
    },
    "id": "WEhTVkYZtROH",
    "executionInfo": {
     "status": "ok",
     "timestamp": 1678210158496,
     "user_tz": 0,
     "elapsed": 3,
     "user": {
      "displayName": "Ryan Li",
      "userId": "13344582354412591551"
     }
    },
    "outputId": "285d78d7-17cf-4d10-b9bb-e5cdfa245b0d"
   },
   "execution_count": null,
   "outputs": [
    {
     "output_type": "stream",
     "name": "stdout",
     "text": [
      "Fold ids loaded!\n"
     ]
    }
   ]
  },
  {
   "cell_type": "code",
   "source": [],
   "metadata": {
    "id": "vEJS9FmWEllr"
   },
   "execution_count": null,
   "outputs": []
  },
  {
   "cell_type": "code",
   "source": [],
   "metadata": {
    "id": "5MxJi5LDEloE"
   },
   "execution_count": null,
   "outputs": []
  },
  {
   "cell_type": "code",
   "source": [],
   "metadata": {
    "id": "Bm94VNA9Elqe"
   },
   "execution_count": null,
   "outputs": []
  },
  {
   "cell_type": "code",
   "source": [
    "ids = fold_ids['fold05']"
   ],
   "metadata": {
    "id": "hywBMA_gtRYl"
   },
   "execution_count": null,
   "outputs": []
  },
  {
   "cell_type": "code",
   "source": [
    "dataset = TensorDataset([text_features[ids].float(), audio_features[ids].float(), torch.tensor(labels)[ids].long()])"
   ],
   "metadata": {
    "id": "U56BsidytQLu"
   },
   "execution_count": null,
   "outputs": []
  },
  {
   "cell_type": "code",
   "source": [
    "train_set, valid_set, test_set = train_test_split(dataset, valid_ratio=0.1, test_ratio=0.1, shuffle=False)\n",
    "print('Datasets ready!')"
   ],
   "metadata": {
    "id": "Qu5rLR4sxS8b",
    "colab": {
     "base_uri": "https://localhost:8080/"
    },
    "executionInfo": {
     "status": "ok",
     "timestamp": 1678157705355,
     "user_tz": 0,
     "elapsed": 19,
     "user": {
      "displayName": "Ryan Li",
      "userId": "13344582354412591551"
     }
    },
    "outputId": "6d1aa378-aa39-47ce-ced7-9fcda02a4828"
   },
   "execution_count": null,
   "outputs": [
    {
     "output_type": "stream",
     "name": "stdout",
     "text": [
      "Datasets ready!\n"
     ]
    }
   ]
  },
  {
   "cell_type": "code",
   "source": [
    "len(train_set)"
   ],
   "metadata": {
    "colab": {
     "base_uri": "https://localhost:8080/"
    },
    "id": "I5Fc2PGzSa4H",
    "executionInfo": {
     "status": "ok",
     "timestamp": 1678157705355,
     "user_tz": 0,
     "elapsed": 17,
     "user": {
      "displayName": "Ryan Li",
      "userId": "13344582354412591551"
     }
    },
    "outputId": "20b8cde0-d1ed-43b1-f4c1-0a5665cca316"
   },
   "execution_count": null,
   "outputs": [
    {
     "output_type": "execute_result",
     "data": {
      "text/plain": [
       "5991"
      ]
     },
     "metadata": {},
     "execution_count": 371
    }
   ]
  },
  {
   "cell_type": "code",
   "source": [
    "len(valid_set)"
   ],
   "metadata": {
    "colab": {
     "base_uri": "https://localhost:8080/"
    },
    "id": "B-e9YO5qSa6b",
    "executionInfo": {
     "status": "ok",
     "timestamp": 1678157705355,
     "user_tz": 0,
     "elapsed": 13,
     "user": {
      "displayName": "Ryan Li",
      "userId": "13344582354412591551"
     }
    },
    "outputId": "2244ca0e-d2f4-4321-a5a6-220f0687fe09"
   },
   "execution_count": null,
   "outputs": [
    {
     "output_type": "execute_result",
     "data": {
      "text/plain": [
       "748"
      ]
     },
     "metadata": {},
     "execution_count": 372
    }
   ]
  },
  {
   "cell_type": "code",
   "source": [
    "len(test_set)"
   ],
   "metadata": {
    "colab": {
     "base_uri": "https://localhost:8080/"
    },
    "id": "SKNWebJ5SdiQ",
    "executionInfo": {
     "status": "ok",
     "timestamp": 1678157705355,
     "user_tz": 0,
     "elapsed": 12,
     "user": {
      "displayName": "Ryan Li",
      "userId": "13344582354412591551"
     }
    },
    "outputId": "5e525452-8901-462b-8ecb-d821ebf17b56"
   },
   "execution_count": null,
   "outputs": [
    {
     "output_type": "execute_result",
     "data": {
      "text/plain": [
       "748"
      ]
     },
     "metadata": {},
     "execution_count": 373
    }
   ]
  },
  {
   "cell_type": "code",
   "source": [
    "# torch.save(train_set, sys.path[-1]+\"/Data/train_set.pt\")\n",
    "# torch.save(valid_set, sys.path[-1]+\"/Data/valid_set.pt\")\n",
    "# torch.save(test_set, sys.path[-1]+\"/Data/test_set.pt\")\n",
    "# print('Datasets saved!')"
   ],
   "metadata": {
    "id": "vWJGa_Qj0owU"
   },
   "execution_count": null,
   "outputs": []
  },
  {
   "cell_type": "code",
   "source": [
    "train_loader = DataLoader(train_set, batch_size=32, shuffle=True)\n",
    "valid_loader = DataLoader(valid_set, batch_size=64, shuffle=False)\n",
    "test_loader = DataLoader(test_set, batch_size=64, shuffle=False)\n",
    "print('Data loaders ready!')"
   ],
   "metadata": {
    "colab": {
     "base_uri": "https://localhost:8080/"
    },
    "id": "Chqd_Gp01WvM",
    "executionInfo": {
     "status": "ok",
     "timestamp": 1678157705356,
     "user_tz": 0,
     "elapsed": 11,
     "user": {
      "displayName": "Ryan Li",
      "userId": "13344582354412591551"
     }
    },
    "outputId": "0139f758-cc3c-484e-f8bc-2a8f7c50477e"
   },
   "execution_count": null,
   "outputs": [
    {
     "output_type": "stream",
     "name": "stdout",
     "text": [
      "Data loaders ready!\n"
     ]
    }
   ]
  },
  {
   "cell_type": "markdown",
   "source": [
    "## Training"
   ],
   "metadata": {
    "id": "MXWEfW3_3P46"
   }
  },
  {
   "cell_type": "code",
   "source": [
    "def save_model(model, name):\n",
    "    torch.save(model.state_dict(), name)\n",
    "\n",
    "def load_model(model, name):\n",
    "    weights = torch.load(name)\n",
    "    model.load_state_dict(weights)\n",
    "    return model"
   ],
   "metadata": {
    "id": "Cy5G7Uee8_4J"
   },
   "execution_count": null,
   "outputs": []
  },
  {
   "cell_type": "code",
   "source": [
    "from sklearn.metrics import f1_score, accuracy_score, confusion_matrix, classification_report\n",
    "\n",
    "def weighted_accuracy(list_y_true, list_y_pred):\n",
    "    assert (len(list_y_true) == len(list_y_pred))\n",
    "    y_true = np.array(list_y_true)\n",
    "    y_pred = np.array(list_y_pred)\n",
    "    uwa = accuracy_score(y_true=y_true, y_pred=y_pred)\n",
    "    return uwa\n",
    "\n",
    "def unweighted_accuracy(list_y_true, list_y_pred):\n",
    "    assert (len(list_y_true) == len(list_y_pred))\n",
    "    y_true = np.array(list_y_true)\n",
    "    y_pred = np.array(list_y_pred)\n",
    "    w = np.ones(y_true.shape[0])\n",
    "    for idx, i in enumerate(np.bincount(y_true)):\n",
    "        w[y_true == idx] = float(1 / i)\n",
    "    wa = accuracy_score(y_true=y_true, y_pred=y_pred, sample_weight=w)\n",
    "    return wa\n",
    "\n",
    "def weighted_f1(list_y_true, list_y_pred):\n",
    "    assert (len(list_y_true) == len(list_y_pred))\n",
    "    wf1 = f1_score(y_true=list_y_true, y_pred=list_y_pred, average='weighted')\n",
    "    return wf1\n",
    "\n",
    "def unweighted_f1(list_y_true, list_y_pred):\n",
    "    assert (len(list_y_true) == len(list_y_pred))\n",
    "    uwf1 = f1_score(y_true=list_y_true, y_pred=list_y_pred, average='macro')\n",
    "    return uwf1\n",
    "\n",
    "def evaluate_metrics(preds, labels):\n",
    "    labels = labels.cpu().numpy().tolist()\n",
    "    preds = torch.argmax(preds, dim=1).cpu().numpy().tolist()\n",
    "    wa = weighted_accuracy(labels, preds)\n",
    "    uwa = unweighted_accuracy(labels, preds)\n",
    "    wf1 = weighted_f1(labels, preds)\n",
    "    uwf1 = unweighted_f1(labels, preds)\n",
    "    cm = confusion_matrix(labels, preds)\n",
    "    return wa, uwa, wf1, uwf1, cm"
   ],
   "metadata": {
    "id": "uGGMEbAm5DSg"
   },
   "execution_count": null,
   "outputs": []
  },
  {
   "cell_type": "code",
   "source": [
    "def train_model(model, params, train_loader, valid_loader, test_loader, report_loss=True):\n",
    "\n",
    "    device = params['device']\n",
    "    n_epochs = params['n_epochs']\n",
    "    criterion = params['criterion']\n",
    "    optimizer = params['optimizer']\n",
    "    scheduler = params['scheduler']\n",
    "\n",
    "    stop = 0\n",
    "    best_valid_uwa = 0\n",
    "\n",
    "    valid_metrics = {}\n",
    "    test_metrics = {}\n",
    "    train_loss, valid_loss, test_loss = [], [], []\n",
    "    valid_wa, valid_uwa, valid_wf1, valid_uwf1, valid_cm = [], [], [], [], []\n",
    "    test_wa, test_uwa, test_wf1, test_uwf1, test_cm = [], [], [], [], []\n",
    "\n",
    "    for epoch in range(n_epochs):\n",
    "\n",
    "        model.train()\n",
    "        train_loss_i, batch, total = 0, 0, 0\n",
    "        for data in tqdm(train_loader):\n",
    "            x_text, x_audio, labels = data[0][0].to(device), data[0][1].to(device), data[0][2].to(device)\n",
    "            preds, _ = model(x_text, x_audio)\n",
    "            loss = criterion(preds, labels)\n",
    "            optimizer.zero_grad()\n",
    "            loss.backward()\n",
    "            optimizer.step()\n",
    "            train_loss_i += loss.item()\n",
    "            batch += 1\n",
    "            total += labels.shape[0]\n",
    "            # if report_loss and batch%50==0:\n",
    "            #     print(\"Batch: {}, Training Loss: {:.4f}\".format(batch, train_loss_i/total))\n",
    "        train_loss_i /= len(train_loader.dataset)\n",
    "\n",
    "        valid_loss_i = 0.0\n",
    "        valid_preds, valid_labels= [], []\n",
    "        model.eval()\n",
    "        with torch.no_grad():\n",
    "            for data in tqdm(valid_loader):\n",
    "                x_text, x_audio, labels = data[0][0].to(device), data[0][1].to(device), data[0][2].to(device)\n",
    "                preds, _ = model(x_text, x_audio)\n",
    "                loss = criterion(preds, labels)\n",
    "                valid_loss_i += loss.item()\n",
    "                valid_preds.append(preds)\n",
    "                valid_labels.append(labels)\n",
    "        valid_loss_i /= len(valid_loader.dataset)\n",
    "        valid_preds = torch.cat(valid_preds)\n",
    "        valid_labels = torch.cat(valid_labels)\n",
    "\n",
    "        valid_wa_i, valid_uwa_i, valid_wf1_i, valid_uwf1_i, valid_cm_i = evaluate_metrics(valid_preds, valid_labels)\n",
    "\n",
    "        test_loss_i = 0.0\n",
    "        test_preds, test_labels= [], []\n",
    "        model.eval()\n",
    "        with torch.no_grad():\n",
    "            for data in tqdm(test_loader):\n",
    "                x_text, x_audio, labels = data[0][0].to(device), data[0][1].to(device), data[0][2].to(device)\n",
    "                preds, _ = model(x_text, x_audio)\n",
    "                loss = criterion(preds, labels)\n",
    "                test_loss_i += loss.item()\n",
    "                test_preds.append(preds)\n",
    "                test_labels.append(labels)\n",
    "        test_loss_i /= len(test_loader.dataset)\n",
    "        test_preds = torch.cat(test_preds)\n",
    "        test_labels = torch.cat(test_labels)\n",
    "\n",
    "        test_wa_i, test_uwa_i, test_wf1_i, test_uwf1_i, test_cm_i = evaluate_metrics(test_preds, test_labels)\n",
    "\n",
    "        scheduler.step(valid_loss_i)  # decay learning rate by validation loss\n",
    "\n",
    "        if valid_uwa_i > best_valid_uwa:\n",
    "            save_model(model, sys.path[-1]+'/Models/'+params['model_name']+'_new.pt')\n",
    "            print(\"Saved model at epoch {} with validation unweighted accuracy of {:.2f}%\".format(epoch+1, 100*valid_uwa_i))\n",
    "            best_valid_uwa = valid_uwa_i\n",
    "\n",
    "        if report_loss:\n",
    "            print(\"\\n\")\n",
    "            print(\"-\" * 50)\n",
    "            print(\"Epoch \", epoch+1)\n",
    "            print(\"Training Loss: {:.4f}, Validation Loss: {:.4f}\".format(train_loss_i, valid_loss_i))\n",
    "            print('Validation Results: ')\n",
    "            print(\"Weighted Accuracy: {:.4f}, Unweighted Accuracy: {:.4f}\".format(valid_wa_i, valid_uwa_i))\n",
    "            print(\"Weighted F1-Score: {:.4f}, Unweighted F1-Score: {:.4f},\".format(valid_wf1_i, valid_uwf1_i))\n",
    "            print('Test Results: ')\n",
    "            print(\"Weighted Accuracy: {:.4f}, Unweighted Accuracy: {:.4f}\".format(test_wa_i, test_uwa_i))\n",
    "            print(\"Weighted F1-Score: {:.4f}, Unweighted F1-Score: {:.4f},\".format(test_wf1_i, test_uwf1_i))\n",
    "            print(\"-\" * 50)\n",
    "            print(\"\\n\")\n",
    "        \n",
    "        if len(valid_loss) > 0:  \n",
    "            if valid_loss_i < valid_loss[-1]:\n",
    "                stop = 0\n",
    "            else:\n",
    "                stop += 1\n",
    "                if stop >= 10:   # stop training when no improvement observed in 10 consecutive epoches\n",
    "                    print('Early stopped. No improvement in validation loss for 10 consecutive epoches.')\n",
    "                    break\n",
    "        \n",
    "        train_loss.append(train_loss_i)\n",
    "        valid_loss.append(valid_loss_i)\n",
    "        test_loss.append(test_loss_i)\n",
    "\n",
    "        valid_wa.append(valid_wa_i)\n",
    "        valid_uwa.append(valid_uwa_i)\n",
    "        valid_wf1.append(valid_wf1_i)\n",
    "        valid_uwf1.append(valid_uwf1_i)\n",
    "        valid_cm.append(valid_cm_i)\n",
    "\n",
    "        test_wa.append(test_wa_i)\n",
    "        test_uwa.append(test_uwa_i)\n",
    "        test_wf1.append(test_wf1_i)\n",
    "        test_uwf1.append(test_uwf1_i)\n",
    "        test_cm.append(test_cm_i)\n",
    "\n",
    "    valid_metrics['wa'] = valid_wa\n",
    "    valid_metrics['uwa'] = valid_uwa\n",
    "    valid_metrics['wf1'] = valid_wf1\n",
    "    valid_metrics['uwf1'] = valid_uwf1\n",
    "    valid_metrics['cm'] = valid_cm\n",
    "\n",
    "    test_metrics['wa'] = test_wa\n",
    "    test_metrics['uwa'] = test_uwa\n",
    "    test_metrics['wf1'] = test_wf1\n",
    "    test_metrics['uwf1'] = test_uwf1\n",
    "    test_metrics['cm'] = test_cm\n",
    "\n",
    "    return train_loss, valid_loss, test_loss, valid_metrics, test_metrics"
   ],
   "metadata": {
    "id": "GAs5o7Bc9Na-"
   },
   "execution_count": null,
   "outputs": []
  },
  {
   "cell_type": "markdown",
   "source": [
    "## Model Parameters"
   ],
   "metadata": {
    "id": "uEq9w0IAsNMY"
   }
  },
  {
   "cell_type": "code",
   "source": [
    "model_params = {'txt_embed_size': 1024,\n",
    "                'embed_size': 768,\n",
    "                'txt_H': 6,\n",
    "                'aud_H': 6,\n",
    "                'ta_H': 6,\n",
    "                'at_H': 6,\n",
    "                'txt_dropout': 0.1,\n",
    "                'aud_dropout': 0.1,\n",
    "                'ta_dropout': 0.1,\n",
    "                'at_dropout': 0.1,\n",
    "                'output_dim': 7}"
   ],
   "metadata": {
    "id": "D2IqivsHTYv6"
   },
   "execution_count": null,
   "outputs": []
  },
  {
   "cell_type": "markdown",
   "source": [
    "## Training (5-Fold Cross-Validation)"
   ],
   "metadata": {
    "id": "kbFTKyUIEZo_"
   }
  },
  {
   "cell_type": "code",
   "source": [
    "for i in range(1,6):\n",
    "\n",
    "    ids = fold_ids[f'fold0{i}']      \n",
    "\n",
    "    dataset = TensorDataset([text_features[ids].float(), audio_features[ids].float(), torch.tensor(labels)[ids].long()])\n",
    "    train_set, valid_set, test_set = train_test_split(dataset, valid_ratio=0.1, test_ratio=0.1, shuffle=False)\n",
    "    train_loader = DataLoader(train_set, batch_size=32, shuffle=True)\n",
    "    valid_loader = DataLoader(valid_set, batch_size=128, shuffle=False)\n",
    "    test_loader = DataLoader(test_set, batch_size=128, shuffle=False)\n",
    "\n",
    "    model_sa = SSE_Self(model_params)\n",
    "    model_sa.to(device)\n",
    "    criterion_sa = nn.CrossEntropyLoss()\n",
    "    optimizer_sa = optim.Adam(model_sa.parameters(), lr=1e-4)\n",
    "    scheduler_sa = ReduceLROnPlateau(optimizer_sa, mode='min', patience=5, factor=0.1, verbose=True)\n",
    "    sa_params = {'n_epochs': 50,\n",
    "                 'criterion': criterion_sa,\n",
    "                 'optimizer': optimizer_sa,\n",
    "                 'scheduler': scheduler_sa,\n",
    "                 'model_name': f'model_sa_0{i}',\n",
    "                 'device': device}\n",
    "\n",
    "    train_loss_sa, valid_loss_sa, test_loss_sa, valid_metrics_sa, test_metrics_sa = train_model(model_sa, sa_params, train_loader, valid_loader, test_loader)\n",
    "    \n",
    "    with open(sys.path[-1]+f\"/Training Results/train_loss_sa_0{i}.pkl\", 'wb') as f:\n",
    "        pickle.dump(train_loss_sa, f)\n",
    "    with open(sys.path[-1]+f\"/Training Results/valid_loss_sa_0{i}.pkl\", 'wb') as f:\n",
    "        pickle.dump(valid_loss_sa, f)\n",
    "    with open(sys.path[-1]+f\"/Training Results/test_loss_sa_0{i}.pkl\", 'wb') as f:\n",
    "        pickle.dump(test_loss_sa, f)\n",
    "    with open(sys.path[-1]+f\"/Training Results/valid_metrics_sa_0{i}.pkl\", 'wb') as f:\n",
    "        pickle.dump(valid_metrics_sa, f)\n",
    "    with open(sys.path[-1]+f\"/Training Results/test_metrics_sa_0{i}.pkl\", 'wb') as f:\n",
    "        pickle.dump(test_metrics_sa, f)\n",
    "\n",
    "    model_ca = SSE_Cross(model_params)\n",
    "    model_ca.to(device)\n",
    "    criterion_ca = nn.CrossEntropyLoss()\n",
    "    optimizer_ca = optim.Adam(model_ca.parameters(), lr=1e-4)\n",
    "    scheduler_ca = ReduceLROnPlateau(optimizer_ca, mode='min', patience=5, factor=0.1, verbose=True)\n",
    "    ca_params = {'n_epochs': 50,\n",
    "                'criterion': criterion_ca,\n",
    "                'optimizer': optimizer_ca,\n",
    "                'scheduler': scheduler_ca,\n",
    "                'model_name': f'model_ca_0{i}',\n",
    "                'device': device}\n",
    "    train_loss_ca, valid_loss_ca, test_loss_ca, valid_metrics_ca, test_metrics_ca = train_model(model_ca, ca_params, train_loader, valid_loader, test_loader)\n",
    "   \n",
    "    with open(sys.path[-1]+f\"/Training Results/train_loss_ca_0{i}.pkl\", 'wb') as f:\n",
    "        pickle.dump(train_loss_ca, f)\n",
    "    with open(sys.path[-1]+f\"/Training Results/valid_loss_ca_0{i}.pkl\", 'wb') as f:\n",
    "        pickle.dump(valid_loss_ca, f)\n",
    "    with open(sys.path[-1]+f\"/Training Results/test_loss_ca_0{i}.pkl\", 'wb') as f:\n",
    "        pickle.dump(test_loss_ca, f)\n",
    "    with open(sys.path[-1]+f\"/Training Results/valid_metrics_ca_0{i}.pkl\", 'wb') as f:\n",
    "        pickle.dump(valid_metrics_ca, f)\n",
    "    with open(sys.path[-1]+f\"/Training Results/test_metrics_ca_0{i}.pkl\", 'wb') as f:\n",
    "        pickle.dump(test_metrics_ca, f)"
   ],
   "metadata": {
    "colab": {
     "base_uri": "https://localhost:8080/"
    },
    "id": "8s8RHhxeCvRZ",
    "executionInfo": {
     "status": "ok",
     "timestamp": 1678216016792,
     "user_tz": 0,
     "elapsed": 2640048,
     "user": {
      "displayName": "Ryan Li",
      "userId": "13344582354412591551"
     }
    },
    "outputId": "3513b599-356f-4343-cfec-04785e92c597"
   },
   "execution_count": null,
   "outputs": [
    {
     "output_type": "stream",
     "name": "stderr",
     "text": [
      "100%|██████████| 188/188 [00:10<00:00, 17.92it/s]\n",
      "100%|██████████| 6/6 [00:00<00:00,  7.18it/s]\n",
      "100%|██████████| 6/6 [00:00<00:00,  7.14it/s]\n"
     ]
    },
    {
     "output_type": "stream",
     "name": "stdout",
     "text": [
      "Saved model at epoch 1 with validation unweighted accuracy of 31.95%\n",
      "\n",
      "\n",
      "--------------------------------------------------\n",
      "Epoch  1\n",
      "Training Loss: 0.0543, Validation Loss: 0.0131\n",
      "Validation Results: \n",
      "Weighted Accuracy: 0.2484, Unweighted Accuracy: 0.3195\n",
      "Weighted F1-Score: 0.2680, Unweighted F1-Score: 0.2115,\n",
      "Test Results: \n",
      "Weighted Accuracy: 0.2503, Unweighted Accuracy: 0.3503\n",
      "Weighted F1-Score: 0.2891, Unweighted F1-Score: 0.2183,\n",
      "--------------------------------------------------\n",
      "\n",
      "\n"
     ]
    },
    {
     "output_type": "stream",
     "name": "stderr",
     "text": [
      "100%|██████████| 188/188 [00:09<00:00, 19.19it/s]\n",
      "100%|██████████| 6/6 [00:00<00:00,  6.94it/s]\n",
      "100%|██████████| 6/6 [00:00<00:00,  6.96it/s]\n"
     ]
    },
    {
     "output_type": "stream",
     "name": "stdout",
     "text": [
      "Saved model at epoch 2 with validation unweighted accuracy of 42.38%\n",
      "\n",
      "\n",
      "--------------------------------------------------\n",
      "Epoch  2\n",
      "Training Loss: 0.0465, Validation Loss: 0.0114\n",
      "Validation Results: \n",
      "Weighted Accuracy: 0.3427, Unweighted Accuracy: 0.4238\n",
      "Weighted F1-Score: 0.4067, Unweighted F1-Score: 0.3384,\n",
      "Test Results: \n",
      "Weighted Accuracy: 0.3467, Unweighted Accuracy: 0.4465\n",
      "Weighted F1-Score: 0.4267, Unweighted F1-Score: 0.3440,\n",
      "--------------------------------------------------\n",
      "\n",
      "\n"
     ]
    },
    {
     "output_type": "stream",
     "name": "stderr",
     "text": [
      "100%|██████████| 188/188 [00:09<00:00, 19.52it/s]\n",
      "100%|██████████| 6/6 [00:00<00:00,  7.22it/s]\n",
      "100%|██████████| 6/6 [00:00<00:00,  6.92it/s]\n"
     ]
    },
    {
     "output_type": "stream",
     "name": "stdout",
     "text": [
      "Saved model at epoch 3 with validation unweighted accuracy of 44.79%\n",
      "\n",
      "\n",
      "--------------------------------------------------\n",
      "Epoch  3\n",
      "Training Loss: 0.0418, Validation Loss: 0.0110\n",
      "Validation Results: \n",
      "Weighted Accuracy: 0.3799, Unweighted Accuracy: 0.4479\n",
      "Weighted F1-Score: 0.4350, Unweighted F1-Score: 0.3697,\n",
      "Test Results: \n",
      "Weighted Accuracy: 0.3835, Unweighted Accuracy: 0.4679\n",
      "Weighted F1-Score: 0.4532, Unweighted F1-Score: 0.3767,\n",
      "--------------------------------------------------\n",
      "\n",
      "\n"
     ]
    },
    {
     "output_type": "stream",
     "name": "stderr",
     "text": [
      "100%|██████████| 188/188 [00:09<00:00, 19.24it/s]\n",
      "100%|██████████| 6/6 [00:00<00:00,  7.04it/s]\n",
      "100%|██████████| 6/6 [00:00<00:00,  7.07it/s]\n"
     ]
    },
    {
     "output_type": "stream",
     "name": "stdout",
     "text": [
      "Saved model at epoch 4 with validation unweighted accuracy of 47.33%\n",
      "\n",
      "\n",
      "--------------------------------------------------\n",
      "Epoch  4\n",
      "Training Loss: 0.0395, Validation Loss: 0.0107\n",
      "Validation Results: \n",
      "Weighted Accuracy: 0.4095, Unweighted Accuracy: 0.4733\n",
      "Weighted F1-Score: 0.4600, Unweighted F1-Score: 0.3899,\n",
      "Test Results: \n",
      "Weighted Accuracy: 0.4302, Unweighted Accuracy: 0.4947\n",
      "Weighted F1-Score: 0.4775, Unweighted F1-Score: 0.4305,\n",
      "--------------------------------------------------\n",
      "\n",
      "\n"
     ]
    },
    {
     "output_type": "stream",
     "name": "stderr",
     "text": [
      "100%|██████████| 188/188 [00:09<00:00, 19.12it/s]\n",
      "100%|██████████| 6/6 [00:00<00:00,  6.90it/s]\n",
      "100%|██████████| 6/6 [00:00<00:00,  6.80it/s]\n"
     ]
    },
    {
     "output_type": "stream",
     "name": "stdout",
     "text": [
      "Saved model at epoch 5 with validation unweighted accuracy of 47.73%\n",
      "\n",
      "\n",
      "--------------------------------------------------\n",
      "Epoch  5\n",
      "Training Loss: 0.0356, Validation Loss: 0.0106\n",
      "Validation Results: \n",
      "Weighted Accuracy: 0.4038, Unweighted Accuracy: 0.4773\n",
      "Weighted F1-Score: 0.4603, Unweighted F1-Score: 0.3969,\n",
      "Test Results: \n",
      "Weighted Accuracy: 0.4231, Unweighted Accuracy: 0.4746\n",
      "Weighted F1-Score: 0.4518, Unweighted F1-Score: 0.4231,\n",
      "--------------------------------------------------\n",
      "\n",
      "\n"
     ]
    },
    {
     "output_type": "stream",
     "name": "stderr",
     "text": [
      "100%|██████████| 188/188 [00:09<00:00, 19.07it/s]\n",
      "100%|██████████| 6/6 [00:00<00:00,  6.95it/s]\n",
      "100%|██████████| 6/6 [00:00<00:00,  6.87it/s]\n"
     ]
    },
    {
     "output_type": "stream",
     "name": "stdout",
     "text": [
      "Saved model at epoch 6 with validation unweighted accuracy of 50.13%\n",
      "\n",
      "\n",
      "--------------------------------------------------\n",
      "Epoch  6\n",
      "Training Loss: 0.0338, Validation Loss: 0.0104\n",
      "Validation Results: \n",
      "Weighted Accuracy: 0.4231, Unweighted Accuracy: 0.5013\n",
      "Weighted F1-Score: 0.4917, Unweighted F1-Score: 0.4238,\n",
      "Test Results: \n",
      "Weighted Accuracy: 0.4655, Unweighted Accuracy: 0.5134\n",
      "Weighted F1-Score: 0.5035, Unweighted F1-Score: 0.4781,\n",
      "--------------------------------------------------\n",
      "\n",
      "\n"
     ]
    },
    {
     "output_type": "stream",
     "name": "stderr",
     "text": [
      "100%|██████████| 188/188 [00:09<00:00, 19.11it/s]\n",
      "100%|██████████| 6/6 [00:00<00:00,  6.88it/s]\n",
      "100%|██████████| 6/6 [00:00<00:00,  6.78it/s]\n"
     ]
    },
    {
     "output_type": "stream",
     "name": "stdout",
     "text": [
      "\n",
      "\n",
      "--------------------------------------------------\n",
      "Epoch  7\n",
      "Training Loss: 0.0315, Validation Loss: 0.0108\n",
      "Validation Results: \n",
      "Weighted Accuracy: 0.4254, Unweighted Accuracy: 0.4920\n",
      "Weighted F1-Score: 0.4884, Unweighted F1-Score: 0.4334,\n",
      "Test Results: \n",
      "Weighted Accuracy: 0.4555, Unweighted Accuracy: 0.5201\n",
      "Weighted F1-Score: 0.5175, Unweighted F1-Score: 0.4798,\n",
      "--------------------------------------------------\n",
      "\n",
      "\n"
     ]
    },
    {
     "output_type": "stream",
     "name": "stderr",
     "text": [
      "100%|██████████| 188/188 [00:09<00:00, 19.31it/s]\n",
      "100%|██████████| 6/6 [00:00<00:00,  6.95it/s]\n",
      "100%|██████████| 6/6 [00:00<00:00,  6.83it/s]\n"
     ]
    },
    {
     "output_type": "stream",
     "name": "stdout",
     "text": [
      "\n",
      "\n",
      "--------------------------------------------------\n",
      "Epoch  8\n",
      "Training Loss: 0.0292, Validation Loss: 0.0113\n",
      "Validation Results: \n",
      "Weighted Accuracy: 0.4225, Unweighted Accuracy: 0.4746\n",
      "Weighted F1-Score: 0.4548, Unweighted F1-Score: 0.3958,\n",
      "Test Results: \n",
      "Weighted Accuracy: 0.4722, Unweighted Accuracy: 0.5094\n",
      "Weighted F1-Score: 0.4872, Unweighted F1-Score: 0.4560,\n",
      "--------------------------------------------------\n",
      "\n",
      "\n"
     ]
    },
    {
     "output_type": "stream",
     "name": "stderr",
     "text": [
      "100%|██████████| 188/188 [00:09<00:00, 19.44it/s]\n",
      "100%|██████████| 6/6 [00:00<00:00,  6.90it/s]\n",
      "100%|██████████| 6/6 [00:00<00:00,  6.98it/s]\n"
     ]
    },
    {
     "output_type": "stream",
     "name": "stdout",
     "text": [
      "\n",
      "\n",
      "--------------------------------------------------\n",
      "Epoch  9\n",
      "Training Loss: 0.0276, Validation Loss: 0.0122\n",
      "Validation Results: \n",
      "Weighted Accuracy: 0.4078, Unweighted Accuracy: 0.4652\n",
      "Weighted F1-Score: 0.4567, Unweighted F1-Score: 0.4162,\n",
      "Test Results: \n",
      "Weighted Accuracy: 0.4493, Unweighted Accuracy: 0.5040\n",
      "Weighted F1-Score: 0.4925, Unweighted F1-Score: 0.4701,\n",
      "--------------------------------------------------\n",
      "\n",
      "\n"
     ]
    },
    {
     "output_type": "stream",
     "name": "stderr",
     "text": [
      "100%|██████████| 188/188 [00:09<00:00, 19.29it/s]\n",
      "100%|██████████| 6/6 [00:00<00:00,  7.09it/s]\n",
      "100%|██████████| 6/6 [00:00<00:00,  7.09it/s]\n"
     ]
    },
    {
     "output_type": "stream",
     "name": "stdout",
     "text": [
      "\n",
      "\n",
      "--------------------------------------------------\n",
      "Epoch  10\n",
      "Training Loss: 0.0255, Validation Loss: 0.0118\n",
      "Validation Results: \n",
      "Weighted Accuracy: 0.4520, Unweighted Accuracy: 0.4866\n",
      "Weighted F1-Score: 0.4829, Unweighted F1-Score: 0.4323,\n",
      "Test Results: \n",
      "Weighted Accuracy: 0.5141, Unweighted Accuracy: 0.5120\n",
      "Weighted F1-Score: 0.5025, Unweighted F1-Score: 0.5147,\n",
      "--------------------------------------------------\n",
      "\n",
      "\n"
     ]
    },
    {
     "output_type": "stream",
     "name": "stderr",
     "text": [
      "100%|██████████| 188/188 [00:09<00:00, 19.13it/s]\n",
      "100%|██████████| 6/6 [00:00<00:00,  6.99it/s]\n",
      "100%|██████████| 6/6 [00:00<00:00,  6.90it/s]\n"
     ]
    },
    {
     "output_type": "stream",
     "name": "stdout",
     "text": [
      "\n",
      "\n",
      "--------------------------------------------------\n",
      "Epoch  11\n",
      "Training Loss: 0.0231, Validation Loss: 0.0116\n",
      "Validation Results: \n",
      "Weighted Accuracy: 0.4818, Unweighted Accuracy: 0.4933\n",
      "Weighted F1-Score: 0.4918, Unweighted F1-Score: 0.4641,\n",
      "Test Results: \n",
      "Weighted Accuracy: 0.5197, Unweighted Accuracy: 0.5281\n",
      "Weighted F1-Score: 0.5250, Unweighted F1-Score: 0.5110,\n",
      "--------------------------------------------------\n",
      "\n",
      "\n"
     ]
    },
    {
     "output_type": "stream",
     "name": "stderr",
     "text": [
      "100%|██████████| 188/188 [00:09<00:00, 19.16it/s]\n",
      "100%|██████████| 6/6 [00:00<00:00,  6.95it/s]\n",
      "100%|██████████| 6/6 [00:00<00:00,  6.99it/s]\n"
     ]
    },
    {
     "output_type": "stream",
     "name": "stdout",
     "text": [
      "Epoch 00012: reducing learning rate of group 0 to 1.0000e-05.\n",
      "\n",
      "\n",
      "--------------------------------------------------\n",
      "Epoch  12\n",
      "Training Loss: 0.0205, Validation Loss: 0.0123\n",
      "Validation Results: \n",
      "Weighted Accuracy: 0.4428, Unweighted Accuracy: 0.4893\n",
      "Weighted F1-Score: 0.4832, Unweighted F1-Score: 0.4281,\n",
      "Test Results: \n",
      "Weighted Accuracy: 0.4956, Unweighted Accuracy: 0.5160\n",
      "Weighted F1-Score: 0.5113, Unweighted F1-Score: 0.4954,\n",
      "--------------------------------------------------\n",
      "\n",
      "\n"
     ]
    },
    {
     "output_type": "stream",
     "name": "stderr",
     "text": [
      "100%|██████████| 188/188 [00:09<00:00, 19.02it/s]\n",
      "100%|██████████| 6/6 [00:00<00:00,  7.01it/s]\n",
      "100%|██████████| 6/6 [00:00<00:00,  6.87it/s]\n"
     ]
    },
    {
     "output_type": "stream",
     "name": "stdout",
     "text": [
      "\n",
      "\n",
      "--------------------------------------------------\n",
      "Epoch  13\n",
      "Training Loss: 0.0154, Validation Loss: 0.0122\n",
      "Validation Results: \n",
      "Weighted Accuracy: 0.4506, Unweighted Accuracy: 0.4973\n",
      "Weighted F1-Score: 0.4958, Unweighted F1-Score: 0.4464,\n",
      "Test Results: \n",
      "Weighted Accuracy: 0.5059, Unweighted Accuracy: 0.5414\n",
      "Weighted F1-Score: 0.5409, Unweighted F1-Score: 0.5183,\n",
      "--------------------------------------------------\n",
      "\n",
      "\n"
     ]
    },
    {
     "output_type": "stream",
     "name": "stderr",
     "text": [
      "100%|██████████| 188/188 [00:09<00:00, 19.26it/s]\n",
      "100%|██████████| 6/6 [00:00<00:00,  7.06it/s]\n",
      "100%|██████████| 6/6 [00:00<00:00,  6.94it/s]\n"
     ]
    },
    {
     "output_type": "stream",
     "name": "stdout",
     "text": [
      "Saved model at epoch 14 with validation unweighted accuracy of 50.53%\n",
      "\n",
      "\n",
      "--------------------------------------------------\n",
      "Epoch  14\n",
      "Training Loss: 0.0141, Validation Loss: 0.0124\n",
      "Validation Results: \n",
      "Weighted Accuracy: 0.4587, Unweighted Accuracy: 0.5053\n",
      "Weighted F1-Score: 0.5048, Unweighted F1-Score: 0.4552,\n",
      "Test Results: \n",
      "Weighted Accuracy: 0.5020, Unweighted Accuracy: 0.5374\n",
      "Weighted F1-Score: 0.5371, Unweighted F1-Score: 0.5122,\n",
      "--------------------------------------------------\n",
      "\n",
      "\n"
     ]
    },
    {
     "output_type": "stream",
     "name": "stderr",
     "text": [
      "100%|██████████| 188/188 [00:09<00:00, 19.19it/s]\n",
      "100%|██████████| 6/6 [00:00<00:00,  7.00it/s]\n",
      "100%|██████████| 6/6 [00:00<00:00,  6.82it/s]\n"
     ]
    },
    {
     "output_type": "stream",
     "name": "stdout",
     "text": [
      "\n",
      "\n",
      "--------------------------------------------------\n",
      "Epoch  15\n",
      "Training Loss: 0.0135, Validation Loss: 0.0126\n",
      "Validation Results: \n",
      "Weighted Accuracy: 0.4440, Unweighted Accuracy: 0.4906\n",
      "Weighted F1-Score: 0.4889, Unweighted F1-Score: 0.4396,\n",
      "Test Results: \n",
      "Weighted Accuracy: 0.5024, Unweighted Accuracy: 0.5401\n",
      "Weighted F1-Score: 0.5393, Unweighted F1-Score: 0.5108,\n",
      "--------------------------------------------------\n",
      "\n",
      "\n"
     ]
    },
    {
     "output_type": "stream",
     "name": "stderr",
     "text": [
      "100%|██████████| 188/188 [00:09<00:00, 19.22it/s]\n",
      "100%|██████████| 6/6 [00:00<00:00,  7.06it/s]\n",
      "100%|██████████| 6/6 [00:00<00:00,  6.92it/s]\n"
     ]
    },
    {
     "output_type": "stream",
     "name": "stdout",
     "text": [
      "\n",
      "\n",
      "--------------------------------------------------\n",
      "Epoch  16\n",
      "Training Loss: 0.0130, Validation Loss: 0.0128\n",
      "Validation Results: \n",
      "Weighted Accuracy: 0.4391, Unweighted Accuracy: 0.4906\n",
      "Weighted F1-Score: 0.4881, Unweighted F1-Score: 0.4358,\n",
      "Test Results: \n",
      "Weighted Accuracy: 0.5034, Unweighted Accuracy: 0.5428\n",
      "Weighted F1-Score: 0.5412, Unweighted F1-Score: 0.5159,\n",
      "--------------------------------------------------\n",
      "\n",
      "\n"
     ]
    },
    {
     "output_type": "stream",
     "name": "stderr",
     "text": [
      "100%|██████████| 188/188 [00:09<00:00, 19.31it/s]\n",
      "100%|██████████| 6/6 [00:00<00:00,  6.95it/s]\n",
      "100%|██████████| 6/6 [00:00<00:00,  6.86it/s]\n"
     ]
    },
    {
     "output_type": "stream",
     "name": "stdout",
     "text": [
      "\n",
      "\n",
      "--------------------------------------------------\n",
      "Epoch  17\n",
      "Training Loss: 0.0125, Validation Loss: 0.0131\n",
      "Validation Results: \n",
      "Weighted Accuracy: 0.4456, Unweighted Accuracy: 0.4866\n",
      "Weighted F1-Score: 0.4868, Unweighted F1-Score: 0.4408,\n",
      "Test Results: \n",
      "Weighted Accuracy: 0.5056, Unweighted Accuracy: 0.5401\n",
      "Weighted F1-Score: 0.5395, Unweighted F1-Score: 0.5111,\n",
      "--------------------------------------------------\n",
      "\n",
      "\n"
     ]
    },
    {
     "output_type": "stream",
     "name": "stderr",
     "text": [
      "100%|██████████| 188/188 [00:09<00:00, 19.33it/s]\n",
      "100%|██████████| 6/6 [00:00<00:00,  6.96it/s]\n",
      "100%|██████████| 6/6 [00:00<00:00,  6.93it/s]\n"
     ]
    },
    {
     "output_type": "stream",
     "name": "stdout",
     "text": [
      "Epoch 00018: reducing learning rate of group 0 to 1.0000e-06.\n",
      "\n",
      "\n",
      "--------------------------------------------------\n",
      "Epoch  18\n",
      "Training Loss: 0.0120, Validation Loss: 0.0132\n",
      "Validation Results: \n",
      "Weighted Accuracy: 0.4366, Unweighted Accuracy: 0.4893\n",
      "Weighted F1-Score: 0.4865, Unweighted F1-Score: 0.4339,\n",
      "Test Results: \n",
      "Weighted Accuracy: 0.4958, Unweighted Accuracy: 0.5348\n",
      "Weighted F1-Score: 0.5327, Unweighted F1-Score: 0.5090,\n",
      "--------------------------------------------------\n",
      "\n",
      "\n"
     ]
    },
    {
     "output_type": "stream",
     "name": "stderr",
     "text": [
      "100%|██████████| 188/188 [00:09<00:00, 19.32it/s]\n",
      "100%|██████████| 6/6 [00:00<00:00,  6.94it/s]\n",
      "100%|██████████| 6/6 [00:00<00:00,  6.88it/s]\n"
     ]
    },
    {
     "output_type": "stream",
     "name": "stdout",
     "text": [
      "\n",
      "\n",
      "--------------------------------------------------\n",
      "Epoch  19\n",
      "Training Loss: 0.0114, Validation Loss: 0.0132\n",
      "Validation Results: \n",
      "Weighted Accuracy: 0.4392, Unweighted Accuracy: 0.4880\n",
      "Weighted F1-Score: 0.4863, Unweighted F1-Score: 0.4362,\n",
      "Test Results: \n",
      "Weighted Accuracy: 0.5021, Unweighted Accuracy: 0.5388\n",
      "Weighted F1-Score: 0.5377, Unweighted F1-Score: 0.5101,\n",
      "--------------------------------------------------\n",
      "\n",
      "\n"
     ]
    },
    {
     "output_type": "stream",
     "name": "stderr",
     "text": [
      "100%|██████████| 188/188 [00:09<00:00, 19.06it/s]\n",
      "100%|██████████| 6/6 [00:00<00:00,  6.95it/s]\n",
      "100%|██████████| 6/6 [00:00<00:00,  6.99it/s]\n"
     ]
    },
    {
     "output_type": "stream",
     "name": "stdout",
     "text": [
      "\n",
      "\n",
      "--------------------------------------------------\n",
      "Epoch  20\n",
      "Training Loss: 0.0113, Validation Loss: 0.0133\n",
      "Validation Results: \n",
      "Weighted Accuracy: 0.4405, Unweighted Accuracy: 0.4880\n",
      "Weighted F1-Score: 0.4868, Unweighted F1-Score: 0.4377,\n",
      "Test Results: \n",
      "Weighted Accuracy: 0.5015, Unweighted Accuracy: 0.5374\n",
      "Weighted F1-Score: 0.5363, Unweighted F1-Score: 0.5125,\n",
      "--------------------------------------------------\n",
      "\n",
      "\n"
     ]
    },
    {
     "output_type": "stream",
     "name": "stderr",
     "text": [
      "100%|██████████| 188/188 [00:09<00:00, 19.29it/s]\n",
      "100%|██████████| 6/6 [00:00<00:00,  6.98it/s]\n",
      "100%|██████████| 6/6 [00:00<00:00,  6.81it/s]\n"
     ]
    },
    {
     "output_type": "stream",
     "name": "stdout",
     "text": [
      "\n",
      "\n",
      "--------------------------------------------------\n",
      "Epoch  21\n",
      "Training Loss: 0.0112, Validation Loss: 0.0134\n",
      "Validation Results: \n",
      "Weighted Accuracy: 0.4419, Unweighted Accuracy: 0.4893\n",
      "Weighted F1-Score: 0.4884, Unweighted F1-Score: 0.4385,\n",
      "Test Results: \n",
      "Weighted Accuracy: 0.5012, Unweighted Accuracy: 0.5374\n",
      "Weighted F1-Score: 0.5364, Unweighted F1-Score: 0.5116,\n",
      "--------------------------------------------------\n",
      "\n",
      "\n"
     ]
    },
    {
     "output_type": "stream",
     "name": "stderr",
     "text": [
      "100%|██████████| 188/188 [00:09<00:00, 19.09it/s]\n",
      "100%|██████████| 6/6 [00:00<00:00,  6.86it/s]\n",
      "100%|██████████| 6/6 [00:00<00:00,  6.84it/s]\n"
     ]
    },
    {
     "output_type": "stream",
     "name": "stdout",
     "text": [
      "\n",
      "\n",
      "--------------------------------------------------\n",
      "Epoch  22\n",
      "Training Loss: 0.0112, Validation Loss: 0.0134\n",
      "Validation Results: \n",
      "Weighted Accuracy: 0.4414, Unweighted Accuracy: 0.4893\n",
      "Weighted F1-Score: 0.4881, Unweighted F1-Score: 0.4387,\n",
      "Test Results: \n",
      "Weighted Accuracy: 0.5021, Unweighted Accuracy: 0.5374\n",
      "Weighted F1-Score: 0.5365, Unweighted F1-Score: 0.5132,\n",
      "--------------------------------------------------\n",
      "\n",
      "\n"
     ]
    },
    {
     "output_type": "stream",
     "name": "stderr",
     "text": [
      "100%|██████████| 188/188 [00:09<00:00, 19.18it/s]\n",
      "100%|██████████| 6/6 [00:00<00:00,  6.87it/s]\n",
      "100%|██████████| 6/6 [00:00<00:00,  6.79it/s]\n"
     ]
    },
    {
     "output_type": "stream",
     "name": "stdout",
     "text": [
      "\n",
      "\n",
      "--------------------------------------------------\n",
      "Epoch  23\n",
      "Training Loss: 0.0112, Validation Loss: 0.0134\n",
      "Validation Results: \n",
      "Weighted Accuracy: 0.4416, Unweighted Accuracy: 0.4893\n",
      "Weighted F1-Score: 0.4881, Unweighted F1-Score: 0.4390,\n",
      "Test Results: \n",
      "Weighted Accuracy: 0.5020, Unweighted Accuracy: 0.5374\n",
      "Weighted F1-Score: 0.5366, Unweighted F1-Score: 0.5132,\n",
      "--------------------------------------------------\n",
      "\n",
      "\n",
      "Early stopped. No improvement in validation loss for 10 consecutive epoches.\n"
     ]
    },
    {
     "output_type": "stream",
     "name": "stderr",
     "text": [
      "100%|██████████| 188/188 [00:09<00:00, 19.88it/s]\n",
      "100%|██████████| 6/6 [00:00<00:00,  6.98it/s]\n",
      "100%|██████████| 6/6 [00:00<00:00,  6.91it/s]\n"
     ]
    },
    {
     "output_type": "stream",
     "name": "stdout",
     "text": [
      "Saved model at epoch 1 with validation unweighted accuracy of 35.03%\n",
      "\n",
      "\n",
      "--------------------------------------------------\n",
      "Epoch  1\n",
      "Training Loss: 0.0547, Validation Loss: 0.0133\n",
      "Validation Results: \n",
      "Weighted Accuracy: 0.2613, Unweighted Accuracy: 0.3503\n",
      "Weighted F1-Score: 0.3041, Unweighted F1-Score: 0.2351,\n",
      "Test Results: \n",
      "Weighted Accuracy: 0.2650, Unweighted Accuracy: 0.3623\n",
      "Weighted F1-Score: 0.3173, Unweighted F1-Score: 0.2392,\n",
      "--------------------------------------------------\n",
      "\n",
      "\n"
     ]
    },
    {
     "output_type": "stream",
     "name": "stderr",
     "text": [
      "100%|██████████| 188/188 [00:09<00:00, 19.85it/s]\n",
      "100%|██████████| 6/6 [00:00<00:00,  6.97it/s]\n",
      "100%|██████████| 6/6 [00:00<00:00,  6.89it/s]\n"
     ]
    },
    {
     "output_type": "stream",
     "name": "stdout",
     "text": [
      "Saved model at epoch 2 with validation unweighted accuracy of 39.84%\n",
      "\n",
      "\n",
      "--------------------------------------------------\n",
      "Epoch  2\n",
      "Training Loss: 0.0468, Validation Loss: 0.0119\n",
      "Validation Results: \n",
      "Weighted Accuracy: 0.3264, Unweighted Accuracy: 0.3984\n",
      "Weighted F1-Score: 0.3688, Unweighted F1-Score: 0.2915,\n",
      "Test Results: \n",
      "Weighted Accuracy: 0.3273, Unweighted Accuracy: 0.4198\n",
      "Weighted F1-Score: 0.3893, Unweighted F1-Score: 0.3048,\n",
      "--------------------------------------------------\n",
      "\n",
      "\n"
     ]
    },
    {
     "output_type": "stream",
     "name": "stderr",
     "text": [
      "100%|██████████| 188/188 [00:09<00:00, 20.01it/s]\n",
      "100%|██████████| 6/6 [00:00<00:00,  6.92it/s]\n",
      "100%|██████████| 6/6 [00:00<00:00,  6.90it/s]\n"
     ]
    },
    {
     "output_type": "stream",
     "name": "stdout",
     "text": [
      "Saved model at epoch 3 with validation unweighted accuracy of 46.12%\n",
      "\n",
      "\n",
      "--------------------------------------------------\n",
      "Epoch  3\n",
      "Training Loss: 0.0422, Validation Loss: 0.0111\n",
      "Validation Results: \n",
      "Weighted Accuracy: 0.3765, Unweighted Accuracy: 0.4612\n",
      "Weighted F1-Score: 0.4440, Unweighted F1-Score: 0.3684,\n",
      "Test Results: \n",
      "Weighted Accuracy: 0.3860, Unweighted Accuracy: 0.4439\n",
      "Weighted F1-Score: 0.4207, Unweighted F1-Score: 0.3837,\n",
      "--------------------------------------------------\n",
      "\n",
      "\n"
     ]
    },
    {
     "output_type": "stream",
     "name": "stderr",
     "text": [
      "100%|██████████| 188/188 [00:09<00:00, 19.65it/s]\n",
      "100%|██████████| 6/6 [00:00<00:00,  7.04it/s]\n",
      "100%|██████████| 6/6 [00:00<00:00,  6.88it/s]\n"
     ]
    },
    {
     "output_type": "stream",
     "name": "stdout",
     "text": [
      "Saved model at epoch 4 with validation unweighted accuracy of 47.99%\n",
      "\n",
      "\n",
      "--------------------------------------------------\n",
      "Epoch  4\n",
      "Training Loss: 0.0399, Validation Loss: 0.0108\n",
      "Validation Results: \n",
      "Weighted Accuracy: 0.4110, Unweighted Accuracy: 0.4799\n",
      "Weighted F1-Score: 0.4751, Unweighted F1-Score: 0.4092,\n",
      "Test Results: \n",
      "Weighted Accuracy: 0.4182, Unweighted Accuracy: 0.4706\n",
      "Weighted F1-Score: 0.4622, Unweighted F1-Score: 0.4306,\n",
      "--------------------------------------------------\n",
      "\n",
      "\n"
     ]
    },
    {
     "output_type": "stream",
     "name": "stderr",
     "text": [
      "100%|██████████| 188/188 [00:09<00:00, 19.85it/s]\n",
      "100%|██████████| 6/6 [00:00<00:00,  7.12it/s]\n",
      "100%|██████████| 6/6 [00:00<00:00,  7.03it/s]\n"
     ]
    },
    {
     "output_type": "stream",
     "name": "stdout",
     "text": [
      "\n",
      "\n",
      "--------------------------------------------------\n",
      "Epoch  5\n",
      "Training Loss: 0.0376, Validation Loss: 0.0108\n",
      "Validation Results: \n",
      "Weighted Accuracy: 0.4234, Unweighted Accuracy: 0.4786\n",
      "Weighted F1-Score: 0.4690, Unweighted F1-Score: 0.4087,\n",
      "Test Results: \n",
      "Weighted Accuracy: 0.4506, Unweighted Accuracy: 0.4880\n",
      "Weighted F1-Score: 0.4764, Unweighted F1-Score: 0.4441,\n",
      "--------------------------------------------------\n",
      "\n",
      "\n"
     ]
    },
    {
     "output_type": "stream",
     "name": "stderr",
     "text": [
      "100%|██████████| 188/188 [00:09<00:00, 19.87it/s]\n",
      "100%|██████████| 6/6 [00:00<00:00,  7.11it/s]\n",
      "100%|██████████| 6/6 [00:00<00:00,  6.98it/s]\n"
     ]
    },
    {
     "output_type": "stream",
     "name": "stdout",
     "text": [
      "\n",
      "\n",
      "--------------------------------------------------\n",
      "Epoch  6\n",
      "Training Loss: 0.0355, Validation Loss: 0.0111\n",
      "Validation Results: \n",
      "Weighted Accuracy: 0.4279, Unweighted Accuracy: 0.4773\n",
      "Weighted F1-Score: 0.4762, Unweighted F1-Score: 0.4195,\n",
      "Test Results: \n",
      "Weighted Accuracy: 0.4619, Unweighted Accuracy: 0.4906\n",
      "Weighted F1-Score: 0.4877, Unweighted F1-Score: 0.4742,\n",
      "--------------------------------------------------\n",
      "\n",
      "\n"
     ]
    },
    {
     "output_type": "stream",
     "name": "stderr",
     "text": [
      "100%|██████████| 188/188 [00:09<00:00, 19.59it/s]\n",
      "100%|██████████| 6/6 [00:00<00:00,  7.16it/s]\n",
      "100%|██████████| 6/6 [00:00<00:00,  7.01it/s]\n"
     ]
    },
    {
     "output_type": "stream",
     "name": "stdout",
     "text": [
      "Saved model at epoch 7 with validation unweighted accuracy of 48.26%\n",
      "\n",
      "\n",
      "--------------------------------------------------\n",
      "Epoch  7\n",
      "Training Loss: 0.0336, Validation Loss: 0.0109\n",
      "Validation Results: \n",
      "Weighted Accuracy: 0.4602, Unweighted Accuracy: 0.4826\n",
      "Weighted F1-Score: 0.4817, Unweighted F1-Score: 0.4415,\n",
      "Test Results: \n",
      "Weighted Accuracy: 0.4847, Unweighted Accuracy: 0.5094\n",
      "Weighted F1-Score: 0.5078, Unweighted F1-Score: 0.4943,\n",
      "--------------------------------------------------\n",
      "\n",
      "\n"
     ]
    },
    {
     "output_type": "stream",
     "name": "stderr",
     "text": [
      "100%|██████████| 188/188 [00:09<00:00, 19.79it/s]\n",
      "100%|██████████| 6/6 [00:00<00:00,  7.19it/s]\n",
      "100%|██████████| 6/6 [00:00<00:00,  6.96it/s]\n"
     ]
    },
    {
     "output_type": "stream",
     "name": "stdout",
     "text": [
      "\n",
      "\n",
      "--------------------------------------------------\n",
      "Epoch  8\n",
      "Training Loss: 0.0317, Validation Loss: 0.0109\n",
      "Validation Results: \n",
      "Weighted Accuracy: 0.4402, Unweighted Accuracy: 0.4773\n",
      "Weighted F1-Score: 0.4776, Unweighted F1-Score: 0.4337,\n",
      "Test Results: \n",
      "Weighted Accuracy: 0.4898, Unweighted Accuracy: 0.5214\n",
      "Weighted F1-Score: 0.5191, Unweighted F1-Score: 0.4960,\n",
      "--------------------------------------------------\n",
      "\n",
      "\n"
     ]
    },
    {
     "output_type": "stream",
     "name": "stderr",
     "text": [
      "100%|██████████| 188/188 [00:09<00:00, 19.78it/s]\n",
      "100%|██████████| 6/6 [00:00<00:00,  6.95it/s]\n",
      "100%|██████████| 6/6 [00:00<00:00,  7.12it/s]\n"
     ]
    },
    {
     "output_type": "stream",
     "name": "stdout",
     "text": [
      "Saved model at epoch 9 with validation unweighted accuracy of 48.53%\n",
      "\n",
      "\n",
      "--------------------------------------------------\n",
      "Epoch  9\n",
      "Training Loss: 0.0296, Validation Loss: 0.0116\n",
      "Validation Results: \n",
      "Weighted Accuracy: 0.4087, Unweighted Accuracy: 0.4853\n",
      "Weighted F1-Score: 0.4727, Unweighted F1-Score: 0.4137,\n",
      "Test Results: \n",
      "Weighted Accuracy: 0.4188, Unweighted Accuracy: 0.4920\n",
      "Weighted F1-Score: 0.4805, Unweighted F1-Score: 0.4407,\n",
      "--------------------------------------------------\n",
      "\n",
      "\n"
     ]
    },
    {
     "output_type": "stream",
     "name": "stderr",
     "text": [
      "100%|██████████| 188/188 [00:09<00:00, 19.63it/s]\n",
      "100%|██████████| 6/6 [00:00<00:00,  7.07it/s]\n",
      "100%|██████████| 6/6 [00:00<00:00,  6.85it/s]\n"
     ]
    },
    {
     "output_type": "stream",
     "name": "stdout",
     "text": [
      "\n",
      "\n",
      "--------------------------------------------------\n",
      "Epoch  10\n",
      "Training Loss: 0.0271, Validation Loss: 0.0115\n",
      "Validation Results: \n",
      "Weighted Accuracy: 0.4107, Unweighted Accuracy: 0.4639\n",
      "Weighted F1-Score: 0.4611, Unweighted F1-Score: 0.4116,\n",
      "Test Results: \n",
      "Weighted Accuracy: 0.4629, Unweighted Accuracy: 0.5147\n",
      "Weighted F1-Score: 0.5057, Unweighted F1-Score: 0.4771,\n",
      "--------------------------------------------------\n",
      "\n",
      "\n"
     ]
    },
    {
     "output_type": "stream",
     "name": "stderr",
     "text": [
      "100%|██████████| 188/188 [00:09<00:00, 19.84it/s]\n",
      "100%|██████████| 6/6 [00:00<00:00,  7.05it/s]\n",
      "100%|██████████| 6/6 [00:00<00:00,  6.97it/s]\n"
     ]
    },
    {
     "output_type": "stream",
     "name": "stdout",
     "text": [
      "Epoch 00011: reducing learning rate of group 0 to 1.0000e-05.\n",
      "Saved model at epoch 11 with validation unweighted accuracy of 49.33%\n",
      "\n",
      "\n",
      "--------------------------------------------------\n",
      "Epoch  11\n",
      "Training Loss: 0.0243, Validation Loss: 0.0118\n",
      "Validation Results: \n",
      "Weighted Accuracy: 0.4727, Unweighted Accuracy: 0.4933\n",
      "Weighted F1-Score: 0.4967, Unweighted F1-Score: 0.4648,\n",
      "Test Results: \n",
      "Weighted Accuracy: 0.4803, Unweighted Accuracy: 0.5027\n",
      "Weighted F1-Score: 0.5055, Unweighted F1-Score: 0.4938,\n",
      "--------------------------------------------------\n",
      "\n",
      "\n"
     ]
    },
    {
     "output_type": "stream",
     "name": "stderr",
     "text": [
      "100%|██████████| 188/188 [00:09<00:00, 19.76it/s]\n",
      "100%|██████████| 6/6 [00:00<00:00,  7.04it/s]\n",
      "100%|██████████| 6/6 [00:00<00:00,  6.99it/s]\n"
     ]
    },
    {
     "output_type": "stream",
     "name": "stdout",
     "text": [
      "Saved model at epoch 12 with validation unweighted accuracy of 50.13%\n",
      "\n",
      "\n",
      "--------------------------------------------------\n",
      "Epoch  12\n",
      "Training Loss: 0.0194, Validation Loss: 0.0118\n",
      "Validation Results: \n",
      "Weighted Accuracy: 0.4661, Unweighted Accuracy: 0.5013\n",
      "Weighted F1-Score: 0.4991, Unweighted F1-Score: 0.4622,\n",
      "Test Results: \n",
      "Weighted Accuracy: 0.4821, Unweighted Accuracy: 0.5187\n",
      "Weighted F1-Score: 0.5179, Unweighted F1-Score: 0.5028,\n",
      "--------------------------------------------------\n",
      "\n",
      "\n"
     ]
    },
    {
     "output_type": "stream",
     "name": "stderr",
     "text": [
      "100%|██████████| 188/188 [00:09<00:00, 19.75it/s]\n",
      "100%|██████████| 6/6 [00:00<00:00,  7.02it/s]\n",
      "100%|██████████| 6/6 [00:00<00:00,  6.87it/s]\n"
     ]
    },
    {
     "output_type": "stream",
     "name": "stdout",
     "text": [
      "\n",
      "\n",
      "--------------------------------------------------\n",
      "Epoch  13\n",
      "Training Loss: 0.0183, Validation Loss: 0.0122\n",
      "Validation Results: \n",
      "Weighted Accuracy: 0.4705, Unweighted Accuracy: 0.4973\n",
      "Weighted F1-Score: 0.4987, Unweighted F1-Score: 0.4682,\n",
      "Test Results: \n",
      "Weighted Accuracy: 0.4915, Unweighted Accuracy: 0.5267\n",
      "Weighted F1-Score: 0.5272, Unweighted F1-Score: 0.5116,\n",
      "--------------------------------------------------\n",
      "\n",
      "\n"
     ]
    },
    {
     "output_type": "stream",
     "name": "stderr",
     "text": [
      "100%|██████████| 188/188 [00:09<00:00, 19.98it/s]\n",
      "100%|██████████| 6/6 [00:00<00:00,  7.03it/s]\n",
      "100%|██████████| 6/6 [00:00<00:00,  6.89it/s]\n"
     ]
    },
    {
     "output_type": "stream",
     "name": "stdout",
     "text": [
      "\n",
      "\n",
      "--------------------------------------------------\n",
      "Epoch  14\n",
      "Training Loss: 0.0178, Validation Loss: 0.0122\n",
      "Validation Results: \n",
      "Weighted Accuracy: 0.4661, Unweighted Accuracy: 0.4947\n",
      "Weighted F1-Score: 0.4950, Unweighted F1-Score: 0.4627,\n",
      "Test Results: \n",
      "Weighted Accuracy: 0.4822, Unweighted Accuracy: 0.5134\n",
      "Weighted F1-Score: 0.5147, Unweighted F1-Score: 0.5015,\n",
      "--------------------------------------------------\n",
      "\n",
      "\n"
     ]
    },
    {
     "output_type": "stream",
     "name": "stderr",
     "text": [
      "100%|██████████| 188/188 [00:09<00:00, 19.35it/s]\n",
      "100%|██████████| 6/6 [00:00<00:00,  6.98it/s]\n",
      "100%|██████████| 6/6 [00:00<00:00,  6.78it/s]\n"
     ]
    },
    {
     "output_type": "stream",
     "name": "stdout",
     "text": [
      "\n",
      "\n",
      "--------------------------------------------------\n",
      "Epoch  15\n",
      "Training Loss: 0.0172, Validation Loss: 0.0124\n",
      "Validation Results: \n",
      "Weighted Accuracy: 0.4595, Unweighted Accuracy: 0.4906\n",
      "Weighted F1-Score: 0.4895, Unweighted F1-Score: 0.4549,\n",
      "Test Results: \n",
      "Weighted Accuracy: 0.4873, Unweighted Accuracy: 0.5227\n",
      "Weighted F1-Score: 0.5222, Unweighted F1-Score: 0.5068,\n",
      "--------------------------------------------------\n",
      "\n",
      "\n"
     ]
    },
    {
     "output_type": "stream",
     "name": "stderr",
     "text": [
      "100%|██████████| 188/188 [00:09<00:00, 19.89it/s]\n",
      "100%|██████████| 6/6 [00:00<00:00,  7.22it/s]\n",
      "100%|██████████| 6/6 [00:00<00:00,  6.93it/s]\n"
     ]
    },
    {
     "output_type": "stream",
     "name": "stdout",
     "text": [
      "\n",
      "\n",
      "--------------------------------------------------\n",
      "Epoch  16\n",
      "Training Loss: 0.0167, Validation Loss: 0.0125\n",
      "Validation Results: \n",
      "Weighted Accuracy: 0.4526, Unweighted Accuracy: 0.4826\n",
      "Weighted F1-Score: 0.4798, Unweighted F1-Score: 0.4469,\n",
      "Test Results: \n",
      "Weighted Accuracy: 0.4809, Unweighted Accuracy: 0.5147\n",
      "Weighted F1-Score: 0.5141, Unweighted F1-Score: 0.4986,\n",
      "--------------------------------------------------\n",
      "\n",
      "\n"
     ]
    },
    {
     "output_type": "stream",
     "name": "stderr",
     "text": [
      "100%|██████████| 188/188 [00:09<00:00, 19.83it/s]\n",
      "100%|██████████| 6/6 [00:00<00:00,  7.02it/s]\n",
      "100%|██████████| 6/6 [00:00<00:00,  6.96it/s]\n"
     ]
    },
    {
     "output_type": "stream",
     "name": "stdout",
     "text": [
      "Epoch 00017: reducing learning rate of group 0 to 1.0000e-06.\n",
      "\n",
      "\n",
      "--------------------------------------------------\n",
      "Epoch  17\n",
      "Training Loss: 0.0162, Validation Loss: 0.0128\n",
      "Validation Results: \n",
      "Weighted Accuracy: 0.4587, Unweighted Accuracy: 0.4866\n",
      "Weighted F1-Score: 0.4867, Unweighted F1-Score: 0.4531,\n",
      "Test Results: \n",
      "Weighted Accuracy: 0.4901, Unweighted Accuracy: 0.5227\n",
      "Weighted F1-Score: 0.5228, Unweighted F1-Score: 0.5082,\n",
      "--------------------------------------------------\n",
      "\n",
      "\n"
     ]
    },
    {
     "output_type": "stream",
     "name": "stderr",
     "text": [
      "100%|██████████| 188/188 [00:09<00:00, 19.60it/s]\n",
      "100%|██████████| 6/6 [00:00<00:00,  7.08it/s]\n",
      "100%|██████████| 6/6 [00:00<00:00,  7.10it/s]\n"
     ]
    },
    {
     "output_type": "stream",
     "name": "stdout",
     "text": [
      "\n",
      "\n",
      "--------------------------------------------------\n",
      "Epoch  18\n",
      "Training Loss: 0.0156, Validation Loss: 0.0128\n",
      "Validation Results: \n",
      "Weighted Accuracy: 0.4638, Unweighted Accuracy: 0.4920\n",
      "Weighted F1-Score: 0.4916, Unweighted F1-Score: 0.4586,\n",
      "Test Results: \n",
      "Weighted Accuracy: 0.4906, Unweighted Accuracy: 0.5241\n",
      "Weighted F1-Score: 0.5237, Unweighted F1-Score: 0.5086,\n",
      "--------------------------------------------------\n",
      "\n",
      "\n"
     ]
    },
    {
     "output_type": "stream",
     "name": "stderr",
     "text": [
      "100%|██████████| 188/188 [00:09<00:00, 19.68it/s]\n",
      "100%|██████████| 6/6 [00:00<00:00,  7.13it/s]\n",
      "100%|██████████| 6/6 [00:00<00:00,  6.93it/s]\n"
     ]
    },
    {
     "output_type": "stream",
     "name": "stdout",
     "text": [
      "\n",
      "\n",
      "--------------------------------------------------\n",
      "Epoch  19\n",
      "Training Loss: 0.0155, Validation Loss: 0.0128\n",
      "Validation Results: \n",
      "Weighted Accuracy: 0.4654, Unweighted Accuracy: 0.4947\n",
      "Weighted F1-Score: 0.4940, Unweighted F1-Score: 0.4602,\n",
      "Test Results: \n",
      "Weighted Accuracy: 0.4879, Unweighted Accuracy: 0.5201\n",
      "Weighted F1-Score: 0.5202, Unweighted F1-Score: 0.5063,\n",
      "--------------------------------------------------\n",
      "\n",
      "\n"
     ]
    },
    {
     "output_type": "stream",
     "name": "stderr",
     "text": [
      "100%|██████████| 188/188 [00:09<00:00, 19.50it/s]\n",
      "100%|██████████| 6/6 [00:00<00:00,  7.01it/s]\n",
      "100%|██████████| 6/6 [00:00<00:00,  7.02it/s]\n"
     ]
    },
    {
     "output_type": "stream",
     "name": "stdout",
     "text": [
      "\n",
      "\n",
      "--------------------------------------------------\n",
      "Epoch  20\n",
      "Training Loss: 0.0154, Validation Loss: 0.0128\n",
      "Validation Results: \n",
      "Weighted Accuracy: 0.4646, Unweighted Accuracy: 0.4933\n",
      "Weighted F1-Score: 0.4927, Unweighted F1-Score: 0.4592,\n",
      "Test Results: \n",
      "Weighted Accuracy: 0.4869, Unweighted Accuracy: 0.5201\n",
      "Weighted F1-Score: 0.5199, Unweighted F1-Score: 0.5048,\n",
      "--------------------------------------------------\n",
      "\n",
      "\n"
     ]
    },
    {
     "output_type": "stream",
     "name": "stderr",
     "text": [
      "100%|██████████| 188/188 [00:09<00:00, 19.46it/s]\n",
      "100%|██████████| 6/6 [00:00<00:00,  7.03it/s]\n",
      "100%|██████████| 6/6 [00:00<00:00,  6.90it/s]\n"
     ]
    },
    {
     "output_type": "stream",
     "name": "stdout",
     "text": [
      "\n",
      "\n",
      "--------------------------------------------------\n",
      "Epoch  21\n",
      "Training Loss: 0.0154, Validation Loss: 0.0128\n",
      "Validation Results: \n",
      "Weighted Accuracy: 0.4588, Unweighted Accuracy: 0.4866\n",
      "Weighted F1-Score: 0.4859, Unweighted F1-Score: 0.4532,\n",
      "Test Results: \n",
      "Weighted Accuracy: 0.4887, Unweighted Accuracy: 0.5227\n",
      "Weighted F1-Score: 0.5226, Unweighted F1-Score: 0.5071,\n",
      "--------------------------------------------------\n",
      "\n",
      "\n"
     ]
    },
    {
     "output_type": "stream",
     "name": "stderr",
     "text": [
      "100%|██████████| 188/188 [00:09<00:00, 19.66it/s]\n",
      "100%|██████████| 6/6 [00:00<00:00,  6.91it/s]\n",
      "100%|██████████| 6/6 [00:00<00:00,  6.90it/s]\n"
     ]
    },
    {
     "output_type": "stream",
     "name": "stdout",
     "text": [
      "\n",
      "\n",
      "--------------------------------------------------\n",
      "Epoch  22\n",
      "Training Loss: 0.0153, Validation Loss: 0.0129\n",
      "Validation Results: \n",
      "Weighted Accuracy: 0.4644, Unweighted Accuracy: 0.4933\n",
      "Weighted F1-Score: 0.4925, Unweighted F1-Score: 0.4590,\n",
      "Test Results: \n",
      "Weighted Accuracy: 0.4871, Unweighted Accuracy: 0.5201\n",
      "Weighted F1-Score: 0.5202, Unweighted F1-Score: 0.5051,\n",
      "--------------------------------------------------\n",
      "\n",
      "\n"
     ]
    },
    {
     "output_type": "stream",
     "name": "stderr",
     "text": [
      "100%|██████████| 188/188 [00:09<00:00, 19.80it/s]\n",
      "100%|██████████| 6/6 [00:00<00:00,  7.15it/s]\n",
      "100%|██████████| 6/6 [00:00<00:00,  6.88it/s]\n"
     ]
    },
    {
     "output_type": "stream",
     "name": "stdout",
     "text": [
      "Epoch 00023: reducing learning rate of group 0 to 1.0000e-07.\n",
      "\n",
      "\n",
      "--------------------------------------------------\n",
      "Epoch  23\n",
      "Training Loss: 0.0153, Validation Loss: 0.0129\n",
      "Validation Results: \n",
      "Weighted Accuracy: 0.4603, Unweighted Accuracy: 0.4866\n",
      "Weighted F1-Score: 0.4863, Unweighted F1-Score: 0.4549,\n",
      "Test Results: \n",
      "Weighted Accuracy: 0.4891, Unweighted Accuracy: 0.5227\n",
      "Weighted F1-Score: 0.5225, Unweighted F1-Score: 0.5069,\n",
      "--------------------------------------------------\n",
      "\n",
      "\n"
     ]
    },
    {
     "output_type": "stream",
     "name": "stderr",
     "text": [
      "100%|██████████| 188/188 [00:09<00:00, 20.01it/s]\n",
      "100%|██████████| 6/6 [00:00<00:00,  7.04it/s]\n",
      "100%|██████████| 6/6 [00:00<00:00,  6.90it/s]\n"
     ]
    },
    {
     "output_type": "stream",
     "name": "stdout",
     "text": [
      "\n",
      "\n",
      "--------------------------------------------------\n",
      "Epoch  24\n",
      "Training Loss: 0.0152, Validation Loss: 0.0129\n",
      "Validation Results: \n",
      "Weighted Accuracy: 0.4611, Unweighted Accuracy: 0.4880\n",
      "Weighted F1-Score: 0.4875, Unweighted F1-Score: 0.4557,\n",
      "Test Results: \n",
      "Weighted Accuracy: 0.4892, Unweighted Accuracy: 0.5227\n",
      "Weighted F1-Score: 0.5227, Unweighted F1-Score: 0.5071,\n",
      "--------------------------------------------------\n",
      "\n",
      "\n",
      "Early stopped. No improvement in validation loss for 10 consecutive epoches.\n"
     ]
    },
    {
     "output_type": "stream",
     "name": "stderr",
     "text": [
      "100%|██████████| 188/188 [00:10<00:00, 17.66it/s]\n",
      "100%|██████████| 6/6 [00:00<00:00,  6.87it/s]\n",
      "100%|██████████| 6/6 [00:00<00:00,  6.83it/s]\n"
     ]
    },
    {
     "output_type": "stream",
     "name": "stdout",
     "text": [
      "Saved model at epoch 1 with validation unweighted accuracy of 37.70%\n",
      "\n",
      "\n",
      "--------------------------------------------------\n",
      "Epoch  1\n",
      "Training Loss: 0.0548, Validation Loss: 0.0129\n",
      "Validation Results: \n",
      "Weighted Accuracy: 0.2696, Unweighted Accuracy: 0.3770\n",
      "Weighted F1-Score: 0.3370, Unweighted F1-Score: 0.2526,\n",
      "Test Results: \n",
      "Weighted Accuracy: 0.2879, Unweighted Accuracy: 0.3797\n",
      "Weighted F1-Score: 0.3470, Unweighted F1-Score: 0.2686,\n",
      "--------------------------------------------------\n",
      "\n",
      "\n"
     ]
    },
    {
     "output_type": "stream",
     "name": "stderr",
     "text": [
      "100%|██████████| 188/188 [00:09<00:00, 19.28it/s]\n",
      "100%|██████████| 6/6 [00:00<00:00,  6.94it/s]\n",
      "100%|██████████| 6/6 [00:00<00:00,  6.96it/s]\n"
     ]
    },
    {
     "output_type": "stream",
     "name": "stdout",
     "text": [
      "Saved model at epoch 2 with validation unweighted accuracy of 45.99%\n",
      "\n",
      "\n",
      "--------------------------------------------------\n",
      "Epoch  2\n",
      "Training Loss: 0.0469, Validation Loss: 0.0113\n",
      "Validation Results: \n",
      "Weighted Accuracy: 0.3735, Unweighted Accuracy: 0.4599\n",
      "Weighted F1-Score: 0.4476, Unweighted F1-Score: 0.3748,\n",
      "Test Results: \n",
      "Weighted Accuracy: 0.3691, Unweighted Accuracy: 0.4492\n",
      "Weighted F1-Score: 0.4354, Unweighted F1-Score: 0.3631,\n",
      "--------------------------------------------------\n",
      "\n",
      "\n"
     ]
    },
    {
     "output_type": "stream",
     "name": "stderr",
     "text": [
      "100%|██████████| 188/188 [00:09<00:00, 18.96it/s]\n",
      "100%|██████████| 6/6 [00:00<00:00,  6.83it/s]\n",
      "100%|██████████| 6/6 [00:00<00:00,  6.76it/s]\n"
     ]
    },
    {
     "output_type": "stream",
     "name": "stdout",
     "text": [
      "Saved model at epoch 3 with validation unweighted accuracy of 48.80%\n",
      "\n",
      "\n",
      "--------------------------------------------------\n",
      "Epoch  3\n",
      "Training Loss: 0.0420, Validation Loss: 0.0107\n",
      "Validation Results: \n",
      "Weighted Accuracy: 0.3765, Unweighted Accuracy: 0.4880\n",
      "Weighted F1-Score: 0.4719, Unweighted F1-Score: 0.3752,\n",
      "Test Results: \n",
      "Weighted Accuracy: 0.3788, Unweighted Accuracy: 0.4639\n",
      "Weighted F1-Score: 0.4448, Unweighted F1-Score: 0.3818,\n",
      "--------------------------------------------------\n",
      "\n",
      "\n"
     ]
    },
    {
     "output_type": "stream",
     "name": "stderr",
     "text": [
      "100%|██████████| 188/188 [00:09<00:00, 18.96it/s]\n",
      "100%|██████████| 6/6 [00:00<00:00,  6.92it/s]\n",
      "100%|██████████| 6/6 [00:00<00:00,  6.79it/s]\n"
     ]
    },
    {
     "output_type": "stream",
     "name": "stdout",
     "text": [
      "Saved model at epoch 4 with validation unweighted accuracy of 49.47%\n",
      "\n",
      "\n",
      "--------------------------------------------------\n",
      "Epoch  4\n",
      "Training Loss: 0.0386, Validation Loss: 0.0103\n",
      "Validation Results: \n",
      "Weighted Accuracy: 0.3978, Unweighted Accuracy: 0.4947\n",
      "Weighted F1-Score: 0.4825, Unweighted F1-Score: 0.4064,\n",
      "Test Results: \n",
      "Weighted Accuracy: 0.4062, Unweighted Accuracy: 0.4559\n",
      "Weighted F1-Score: 0.4470, Unweighted F1-Score: 0.4111,\n",
      "--------------------------------------------------\n",
      "\n",
      "\n"
     ]
    },
    {
     "output_type": "stream",
     "name": "stderr",
     "text": [
      "100%|██████████| 188/188 [00:09<00:00, 19.05it/s]\n",
      "100%|██████████| 6/6 [00:00<00:00,  7.07it/s]\n",
      "100%|██████████| 6/6 [00:00<00:00,  6.97it/s]\n"
     ]
    },
    {
     "output_type": "stream",
     "name": "stdout",
     "text": [
      "Saved model at epoch 5 with validation unweighted accuracy of 50.80%\n",
      "\n",
      "\n",
      "--------------------------------------------------\n",
      "Epoch  5\n",
      "Training Loss: 0.0360, Validation Loss: 0.0105\n",
      "Validation Results: \n",
      "Weighted Accuracy: 0.3853, Unweighted Accuracy: 0.5080\n",
      "Weighted F1-Score: 0.4950, Unweighted F1-Score: 0.3976,\n",
      "Test Results: \n",
      "Weighted Accuracy: 0.4004, Unweighted Accuracy: 0.4773\n",
      "Weighted F1-Score: 0.4582, Unweighted F1-Score: 0.4093,\n",
      "--------------------------------------------------\n",
      "\n",
      "\n"
     ]
    },
    {
     "output_type": "stream",
     "name": "stderr",
     "text": [
      "100%|██████████| 188/188 [00:09<00:00, 19.04it/s]\n",
      "100%|██████████| 6/6 [00:00<00:00,  7.01it/s]\n",
      "100%|██████████| 6/6 [00:00<00:00,  6.89it/s]\n"
     ]
    },
    {
     "output_type": "stream",
     "name": "stdout",
     "text": [
      "\n",
      "\n",
      "--------------------------------------------------\n",
      "Epoch  6\n",
      "Training Loss: 0.0333, Validation Loss: 0.0104\n",
      "Validation Results: \n",
      "Weighted Accuracy: 0.3973, Unweighted Accuracy: 0.4987\n",
      "Weighted F1-Score: 0.4846, Unweighted F1-Score: 0.3984,\n",
      "Test Results: \n",
      "Weighted Accuracy: 0.4184, Unweighted Accuracy: 0.4866\n",
      "Weighted F1-Score: 0.4692, Unweighted F1-Score: 0.4263,\n",
      "--------------------------------------------------\n",
      "\n",
      "\n"
     ]
    },
    {
     "output_type": "stream",
     "name": "stderr",
     "text": [
      "100%|██████████| 188/188 [00:09<00:00, 19.28it/s]\n",
      "100%|██████████| 6/6 [00:00<00:00,  6.84it/s]\n",
      "100%|██████████| 6/6 [00:00<00:00,  6.77it/s]\n"
     ]
    },
    {
     "output_type": "stream",
     "name": "stdout",
     "text": [
      "Saved model at epoch 7 with validation unweighted accuracy of 53.48%\n",
      "\n",
      "\n",
      "--------------------------------------------------\n",
      "Epoch  7\n",
      "Training Loss: 0.0307, Validation Loss: 0.0102\n",
      "Validation Results: \n",
      "Weighted Accuracy: 0.4513, Unweighted Accuracy: 0.5348\n",
      "Weighted F1-Score: 0.5280, Unweighted F1-Score: 0.4725,\n",
      "Test Results: \n",
      "Weighted Accuracy: 0.4739, Unweighted Accuracy: 0.5000\n",
      "Weighted F1-Score: 0.4952, Unweighted F1-Score: 0.4839,\n",
      "--------------------------------------------------\n",
      "\n",
      "\n"
     ]
    },
    {
     "output_type": "stream",
     "name": "stderr",
     "text": [
      "100%|██████████| 188/188 [00:09<00:00, 19.14it/s]\n",
      "100%|██████████| 6/6 [00:00<00:00,  6.79it/s]\n",
      "100%|██████████| 6/6 [00:00<00:00,  6.80it/s]\n"
     ]
    },
    {
     "output_type": "stream",
     "name": "stdout",
     "text": [
      "\n",
      "\n",
      "--------------------------------------------------\n",
      "Epoch  8\n",
      "Training Loss: 0.0289, Validation Loss: 0.0102\n",
      "Validation Results: \n",
      "Weighted Accuracy: 0.4455, Unweighted Accuracy: 0.5227\n",
      "Weighted F1-Score: 0.5180, Unweighted F1-Score: 0.4523,\n",
      "Test Results: \n",
      "Weighted Accuracy: 0.4419, Unweighted Accuracy: 0.4853\n",
      "Weighted F1-Score: 0.4811, Unweighted F1-Score: 0.4554,\n",
      "--------------------------------------------------\n",
      "\n",
      "\n"
     ]
    },
    {
     "output_type": "stream",
     "name": "stderr",
     "text": [
      "100%|██████████| 188/188 [00:09<00:00, 19.05it/s]\n",
      "100%|██████████| 6/6 [00:00<00:00,  6.79it/s]\n",
      "100%|██████████| 6/6 [00:00<00:00,  6.68it/s]\n"
     ]
    },
    {
     "output_type": "stream",
     "name": "stdout",
     "text": [
      "\n",
      "\n",
      "--------------------------------------------------\n",
      "Epoch  9\n",
      "Training Loss: 0.0266, Validation Loss: 0.0111\n",
      "Validation Results: \n",
      "Weighted Accuracy: 0.4492, Unweighted Accuracy: 0.5307\n",
      "Weighted F1-Score: 0.5283, Unweighted F1-Score: 0.4637,\n",
      "Test Results: \n",
      "Weighted Accuracy: 0.4433, Unweighted Accuracy: 0.4786\n",
      "Weighted F1-Score: 0.4712, Unweighted F1-Score: 0.4497,\n",
      "--------------------------------------------------\n",
      "\n",
      "\n"
     ]
    },
    {
     "output_type": "stream",
     "name": "stderr",
     "text": [
      "100%|██████████| 188/188 [00:09<00:00, 19.15it/s]\n",
      "100%|██████████| 6/6 [00:00<00:00,  6.77it/s]\n",
      "100%|██████████| 6/6 [00:00<00:00,  6.78it/s]\n"
     ]
    },
    {
     "output_type": "stream",
     "name": "stdout",
     "text": [
      "\n",
      "\n",
      "--------------------------------------------------\n",
      "Epoch  10\n",
      "Training Loss: 0.0245, Validation Loss: 0.0109\n",
      "Validation Results: \n",
      "Weighted Accuracy: 0.5052, Unweighted Accuracy: 0.5241\n",
      "Weighted F1-Score: 0.5223, Unweighted F1-Score: 0.5041,\n",
      "Test Results: \n",
      "Weighted Accuracy: 0.4681, Unweighted Accuracy: 0.4933\n",
      "Weighted F1-Score: 0.4851, Unweighted F1-Score: 0.4648,\n",
      "--------------------------------------------------\n",
      "\n",
      "\n"
     ]
    },
    {
     "output_type": "stream",
     "name": "stderr",
     "text": [
      "100%|██████████| 188/188 [00:09<00:00, 19.21it/s]\n",
      "100%|██████████| 6/6 [00:00<00:00,  7.00it/s]\n",
      "100%|██████████| 6/6 [00:00<00:00,  6.76it/s]\n"
     ]
    },
    {
     "output_type": "stream",
     "name": "stdout",
     "text": [
      "\n",
      "\n",
      "--------------------------------------------------\n",
      "Epoch  11\n",
      "Training Loss: 0.0219, Validation Loss: 0.0119\n",
      "Validation Results: \n",
      "Weighted Accuracy: 0.4648, Unweighted Accuracy: 0.5027\n",
      "Weighted F1-Score: 0.4997, Unweighted F1-Score: 0.4707,\n",
      "Test Results: \n",
      "Weighted Accuracy: 0.4352, Unweighted Accuracy: 0.4666\n",
      "Weighted F1-Score: 0.4640, Unweighted F1-Score: 0.4398,\n",
      "--------------------------------------------------\n",
      "\n",
      "\n"
     ]
    },
    {
     "output_type": "stream",
     "name": "stderr",
     "text": [
      "100%|██████████| 188/188 [00:09<00:00, 19.09it/s]\n",
      "100%|██████████| 6/6 [00:00<00:00,  6.96it/s]\n",
      "100%|██████████| 6/6 [00:00<00:00,  6.71it/s]\n"
     ]
    },
    {
     "output_type": "stream",
     "name": "stdout",
     "text": [
      "\n",
      "\n",
      "--------------------------------------------------\n",
      "Epoch  12\n",
      "Training Loss: 0.0195, Validation Loss: 0.0115\n",
      "Validation Results: \n",
      "Weighted Accuracy: 0.4986, Unweighted Accuracy: 0.5267\n",
      "Weighted F1-Score: 0.5268, Unweighted F1-Score: 0.4920,\n",
      "Test Results: \n",
      "Weighted Accuracy: 0.4898, Unweighted Accuracy: 0.5013\n",
      "Weighted F1-Score: 0.4966, Unweighted F1-Score: 0.4745,\n",
      "--------------------------------------------------\n",
      "\n",
      "\n"
     ]
    },
    {
     "output_type": "stream",
     "name": "stderr",
     "text": [
      "100%|██████████| 188/188 [00:09<00:00, 19.07it/s]\n",
      "100%|██████████| 6/6 [00:00<00:00,  6.98it/s]\n",
      "100%|██████████| 6/6 [00:00<00:00,  6.83it/s]\n"
     ]
    },
    {
     "output_type": "stream",
     "name": "stdout",
     "text": [
      "Epoch 00013: reducing learning rate of group 0 to 1.0000e-05.\n",
      "\n",
      "\n",
      "--------------------------------------------------\n",
      "Epoch  13\n",
      "Training Loss: 0.0170, Validation Loss: 0.0130\n",
      "Validation Results: \n",
      "Weighted Accuracy: 0.4417, Unweighted Accuracy: 0.4920\n",
      "Weighted F1-Score: 0.4917, Unweighted F1-Score: 0.4512,\n",
      "Test Results: \n",
      "Weighted Accuracy: 0.4630, Unweighted Accuracy: 0.4826\n",
      "Weighted F1-Score: 0.4791, Unweighted F1-Score: 0.4729,\n",
      "--------------------------------------------------\n",
      "\n",
      "\n"
     ]
    },
    {
     "output_type": "stream",
     "name": "stderr",
     "text": [
      "100%|██████████| 188/188 [00:09<00:00, 18.93it/s]\n",
      "100%|██████████| 6/6 [00:00<00:00,  6.97it/s]\n",
      "100%|██████████| 6/6 [00:00<00:00,  6.88it/s]\n"
     ]
    },
    {
     "output_type": "stream",
     "name": "stdout",
     "text": [
      "\n",
      "\n",
      "--------------------------------------------------\n",
      "Epoch  14\n",
      "Training Loss: 0.0117, Validation Loss: 0.0130\n",
      "Validation Results: \n",
      "Weighted Accuracy: 0.4904, Unweighted Accuracy: 0.5107\n",
      "Weighted F1-Score: 0.5098, Unweighted F1-Score: 0.4917,\n",
      "Test Results: \n",
      "Weighted Accuracy: 0.4775, Unweighted Accuracy: 0.4893\n",
      "Weighted F1-Score: 0.4860, Unweighted F1-Score: 0.4768,\n",
      "--------------------------------------------------\n",
      "\n",
      "\n"
     ]
    },
    {
     "output_type": "stream",
     "name": "stderr",
     "text": [
      "100%|██████████| 188/188 [00:09<00:00, 19.18it/s]\n",
      "100%|██████████| 6/6 [00:00<00:00,  6.96it/s]\n",
      "100%|██████████| 6/6 [00:00<00:00,  6.78it/s]\n"
     ]
    },
    {
     "output_type": "stream",
     "name": "stdout",
     "text": [
      "\n",
      "\n",
      "--------------------------------------------------\n",
      "Epoch  15\n",
      "Training Loss: 0.0106, Validation Loss: 0.0134\n",
      "Validation Results: \n",
      "Weighted Accuracy: 0.4786, Unweighted Accuracy: 0.5094\n",
      "Weighted F1-Score: 0.5088, Unweighted F1-Score: 0.4811,\n",
      "Test Results: \n",
      "Weighted Accuracy: 0.4793, Unweighted Accuracy: 0.4893\n",
      "Weighted F1-Score: 0.4866, Unweighted F1-Score: 0.4785,\n",
      "--------------------------------------------------\n",
      "\n",
      "\n"
     ]
    },
    {
     "output_type": "stream",
     "name": "stderr",
     "text": [
      "100%|██████████| 188/188 [00:09<00:00, 19.24it/s]\n",
      "100%|██████████| 6/6 [00:00<00:00,  6.89it/s]\n",
      "100%|██████████| 6/6 [00:00<00:00,  6.79it/s]\n"
     ]
    },
    {
     "output_type": "stream",
     "name": "stdout",
     "text": [
      "\n",
      "\n",
      "--------------------------------------------------\n",
      "Epoch  16\n",
      "Training Loss: 0.0100, Validation Loss: 0.0135\n",
      "Validation Results: \n",
      "Weighted Accuracy: 0.4764, Unweighted Accuracy: 0.5067\n",
      "Weighted F1-Score: 0.5065, Unweighted F1-Score: 0.4778,\n",
      "Test Results: \n",
      "Weighted Accuracy: 0.4848, Unweighted Accuracy: 0.4853\n",
      "Weighted F1-Score: 0.4822, Unweighted F1-Score: 0.4776,\n",
      "--------------------------------------------------\n",
      "\n",
      "\n"
     ]
    },
    {
     "output_type": "stream",
     "name": "stderr",
     "text": [
      "100%|██████████| 188/188 [00:09<00:00, 19.05it/s]\n",
      "100%|██████████| 6/6 [00:00<00:00,  6.98it/s]\n",
      "100%|██████████| 6/6 [00:00<00:00,  6.91it/s]\n"
     ]
    },
    {
     "output_type": "stream",
     "name": "stdout",
     "text": [
      "\n",
      "\n",
      "--------------------------------------------------\n",
      "Epoch  17\n",
      "Training Loss: 0.0096, Validation Loss: 0.0139\n",
      "Validation Results: \n",
      "Weighted Accuracy: 0.4769, Unweighted Accuracy: 0.5053\n",
      "Weighted F1-Score: 0.5060, Unweighted F1-Score: 0.4758,\n",
      "Test Results: \n",
      "Weighted Accuracy: 0.4609, Unweighted Accuracy: 0.4746\n",
      "Weighted F1-Score: 0.4740, Unweighted F1-Score: 0.4633,\n",
      "--------------------------------------------------\n",
      "\n",
      "\n"
     ]
    },
    {
     "output_type": "stream",
     "name": "stderr",
     "text": [
      "100%|██████████| 188/188 [00:09<00:00, 19.02it/s]\n",
      "100%|██████████| 6/6 [00:00<00:00,  6.88it/s]\n",
      "100%|██████████| 6/6 [00:00<00:00,  6.79it/s]\n"
     ]
    },
    {
     "output_type": "stream",
     "name": "stdout",
     "text": [
      "\n",
      "\n",
      "--------------------------------------------------\n",
      "Epoch  18\n",
      "Training Loss: 0.0091, Validation Loss: 0.0141\n",
      "Validation Results: \n",
      "Weighted Accuracy: 0.4785, Unweighted Accuracy: 0.5120\n",
      "Weighted F1-Score: 0.5109, Unweighted F1-Score: 0.4884,\n",
      "Test Results: \n",
      "Weighted Accuracy: 0.4533, Unweighted Accuracy: 0.4786\n",
      "Weighted F1-Score: 0.4759, Unweighted F1-Score: 0.4578,\n",
      "--------------------------------------------------\n",
      "\n",
      "\n"
     ]
    },
    {
     "output_type": "stream",
     "name": "stderr",
     "text": [
      "100%|██████████| 188/188 [00:09<00:00, 19.31it/s]\n",
      "100%|██████████| 6/6 [00:00<00:00,  7.00it/s]\n",
      "100%|██████████| 6/6 [00:00<00:00,  6.86it/s]\n"
     ]
    },
    {
     "output_type": "stream",
     "name": "stdout",
     "text": [
      "Epoch 00019: reducing learning rate of group 0 to 1.0000e-06.\n",
      "\n",
      "\n",
      "--------------------------------------------------\n",
      "Epoch  19\n",
      "Training Loss: 0.0087, Validation Loss: 0.0143\n",
      "Validation Results: \n",
      "Weighted Accuracy: 0.4757, Unweighted Accuracy: 0.5053\n",
      "Weighted F1-Score: 0.5057, Unweighted F1-Score: 0.4718,\n",
      "Test Results: \n",
      "Weighted Accuracy: 0.4845, Unweighted Accuracy: 0.4826\n",
      "Weighted F1-Score: 0.4807, Unweighted F1-Score: 0.4774,\n",
      "--------------------------------------------------\n",
      "\n",
      "\n"
     ]
    },
    {
     "output_type": "stream",
     "name": "stderr",
     "text": [
      "100%|██████████| 188/188 [00:09<00:00, 19.11it/s]\n",
      "100%|██████████| 6/6 [00:00<00:00,  6.95it/s]\n",
      "100%|██████████| 6/6 [00:00<00:00,  6.78it/s]\n"
     ]
    },
    {
     "output_type": "stream",
     "name": "stdout",
     "text": [
      "\n",
      "\n",
      "--------------------------------------------------\n",
      "Epoch  20\n",
      "Training Loss: 0.0081, Validation Loss: 0.0143\n",
      "Validation Results: \n",
      "Weighted Accuracy: 0.4726, Unweighted Accuracy: 0.5013\n",
      "Weighted F1-Score: 0.5017, Unweighted F1-Score: 0.4700,\n",
      "Test Results: \n",
      "Weighted Accuracy: 0.4735, Unweighted Accuracy: 0.4799\n",
      "Weighted F1-Score: 0.4777, Unweighted F1-Score: 0.4704,\n",
      "--------------------------------------------------\n",
      "\n",
      "\n"
     ]
    },
    {
     "output_type": "stream",
     "name": "stderr",
     "text": [
      "100%|██████████| 188/188 [00:09<00:00, 19.33it/s]\n",
      "100%|██████████| 6/6 [00:00<00:00,  6.88it/s]\n",
      "100%|██████████| 6/6 [00:00<00:00,  6.79it/s]\n"
     ]
    },
    {
     "output_type": "stream",
     "name": "stdout",
     "text": [
      "\n",
      "\n",
      "--------------------------------------------------\n",
      "Epoch  21\n",
      "Training Loss: 0.0081, Validation Loss: 0.0144\n",
      "Validation Results: \n",
      "Weighted Accuracy: 0.4733, Unweighted Accuracy: 0.5027\n",
      "Weighted F1-Score: 0.5030, Unweighted F1-Score: 0.4702,\n",
      "Test Results: \n",
      "Weighted Accuracy: 0.4776, Unweighted Accuracy: 0.4840\n",
      "Weighted F1-Score: 0.4819, Unweighted F1-Score: 0.4744,\n",
      "--------------------------------------------------\n",
      "\n",
      "\n"
     ]
    },
    {
     "output_type": "stream",
     "name": "stderr",
     "text": [
      "100%|██████████| 188/188 [00:09<00:00, 19.03it/s]\n",
      "100%|██████████| 6/6 [00:00<00:00,  6.87it/s]\n",
      "100%|██████████| 6/6 [00:00<00:00,  6.85it/s]\n"
     ]
    },
    {
     "output_type": "stream",
     "name": "stdout",
     "text": [
      "\n",
      "\n",
      "--------------------------------------------------\n",
      "Epoch  22\n",
      "Training Loss: 0.0080, Validation Loss: 0.0144\n",
      "Validation Results: \n",
      "Weighted Accuracy: 0.4726, Unweighted Accuracy: 0.5013\n",
      "Weighted F1-Score: 0.5018, Unweighted F1-Score: 0.4696,\n",
      "Test Results: \n",
      "Weighted Accuracy: 0.4648, Unweighted Accuracy: 0.4799\n",
      "Weighted F1-Score: 0.4779, Unweighted F1-Score: 0.4649,\n",
      "--------------------------------------------------\n",
      "\n",
      "\n",
      "Early stopped. No improvement in validation loss for 10 consecutive epoches.\n"
     ]
    },
    {
     "output_type": "stream",
     "name": "stderr",
     "text": [
      "100%|██████████| 188/188 [00:09<00:00, 19.46it/s]\n",
      "100%|██████████| 6/6 [00:00<00:00,  7.05it/s]\n",
      "100%|██████████| 6/6 [00:00<00:00,  6.42it/s]\n"
     ]
    },
    {
     "output_type": "stream",
     "name": "stdout",
     "text": [
      "Saved model at epoch 1 with validation unweighted accuracy of 33.16%\n",
      "\n",
      "\n",
      "--------------------------------------------------\n",
      "Epoch  1\n",
      "Training Loss: 0.0550, Validation Loss: 0.0129\n",
      "Validation Results: \n",
      "Weighted Accuracy: 0.2106, Unweighted Accuracy: 0.3316\n",
      "Weighted F1-Score: 0.2565, Unweighted F1-Score: 0.1769,\n",
      "Test Results: \n",
      "Weighted Accuracy: 0.2351, Unweighted Accuracy: 0.3289\n",
      "Weighted F1-Score: 0.2625, Unweighted F1-Score: 0.1942,\n",
      "--------------------------------------------------\n",
      "\n",
      "\n"
     ]
    },
    {
     "output_type": "stream",
     "name": "stderr",
     "text": [
      "100%|██████████| 188/188 [00:09<00:00, 19.73it/s]\n",
      "100%|██████████| 6/6 [00:00<00:00,  6.97it/s]\n",
      "100%|██████████| 6/6 [00:00<00:00,  6.79it/s]\n"
     ]
    },
    {
     "output_type": "stream",
     "name": "stdout",
     "text": [
      "Saved model at epoch 2 with validation unweighted accuracy of 43.18%\n",
      "\n",
      "\n",
      "--------------------------------------------------\n",
      "Epoch  2\n",
      "Training Loss: 0.0475, Validation Loss: 0.0116\n",
      "Validation Results: \n",
      "Weighted Accuracy: 0.3440, Unweighted Accuracy: 0.4318\n",
      "Weighted F1-Score: 0.4119, Unweighted F1-Score: 0.3243,\n",
      "Test Results: \n",
      "Weighted Accuracy: 0.3279, Unweighted Accuracy: 0.4144\n",
      "Weighted F1-Score: 0.3929, Unweighted F1-Score: 0.3139,\n",
      "--------------------------------------------------\n",
      "\n",
      "\n"
     ]
    },
    {
     "output_type": "stream",
     "name": "stderr",
     "text": [
      "100%|██████████| 188/188 [00:09<00:00, 19.61it/s]\n",
      "100%|██████████| 6/6 [00:00<00:00,  6.93it/s]\n",
      "100%|██████████| 6/6 [00:00<00:00,  6.96it/s]\n"
     ]
    },
    {
     "output_type": "stream",
     "name": "stdout",
     "text": [
      "Saved model at epoch 3 with validation unweighted accuracy of 47.19%\n",
      "\n",
      "\n",
      "--------------------------------------------------\n",
      "Epoch  3\n",
      "Training Loss: 0.0427, Validation Loss: 0.0109\n",
      "Validation Results: \n",
      "Weighted Accuracy: 0.3760, Unweighted Accuracy: 0.4719\n",
      "Weighted F1-Score: 0.4592, Unweighted F1-Score: 0.3784,\n",
      "Test Results: \n",
      "Weighted Accuracy: 0.3409, Unweighted Accuracy: 0.4385\n",
      "Weighted F1-Score: 0.4165, Unweighted F1-Score: 0.3319,\n",
      "--------------------------------------------------\n",
      "\n",
      "\n"
     ]
    },
    {
     "output_type": "stream",
     "name": "stderr",
     "text": [
      "100%|██████████| 188/188 [00:09<00:00, 19.37it/s]\n",
      "100%|██████████| 6/6 [00:00<00:00,  6.89it/s]\n",
      "100%|██████████| 6/6 [00:00<00:00,  6.92it/s]\n"
     ]
    },
    {
     "output_type": "stream",
     "name": "stdout",
     "text": [
      "Saved model at epoch 4 with validation unweighted accuracy of 50.40%\n",
      "\n",
      "\n",
      "--------------------------------------------------\n",
      "Epoch  4\n",
      "Training Loss: 0.0401, Validation Loss: 0.0105\n",
      "Validation Results: \n",
      "Weighted Accuracy: 0.3988, Unweighted Accuracy: 0.5040\n",
      "Weighted F1-Score: 0.4825, Unweighted F1-Score: 0.3834,\n",
      "Test Results: \n",
      "Weighted Accuracy: 0.4422, Unweighted Accuracy: 0.5000\n",
      "Weighted F1-Score: 0.4773, Unweighted F1-Score: 0.4368,\n",
      "--------------------------------------------------\n",
      "\n",
      "\n"
     ]
    },
    {
     "output_type": "stream",
     "name": "stderr",
     "text": [
      "100%|██████████| 188/188 [00:09<00:00, 19.75it/s]\n",
      "100%|██████████| 6/6 [00:00<00:00,  6.95it/s]\n",
      "100%|██████████| 6/6 [00:00<00:00,  7.03it/s]\n"
     ]
    },
    {
     "output_type": "stream",
     "name": "stdout",
     "text": [
      "Saved model at epoch 5 with validation unweighted accuracy of 51.87%\n",
      "\n",
      "\n",
      "--------------------------------------------------\n",
      "Epoch  5\n",
      "Training Loss: 0.0380, Validation Loss: 0.0104\n",
      "Validation Results: \n",
      "Weighted Accuracy: 0.4590, Unweighted Accuracy: 0.5187\n",
      "Weighted F1-Score: 0.5141, Unweighted F1-Score: 0.4579,\n",
      "Test Results: \n",
      "Weighted Accuracy: 0.4583, Unweighted Accuracy: 0.4773\n",
      "Weighted F1-Score: 0.4746, Unweighted F1-Score: 0.4630,\n",
      "--------------------------------------------------\n",
      "\n",
      "\n"
     ]
    },
    {
     "output_type": "stream",
     "name": "stderr",
     "text": [
      "100%|██████████| 188/188 [00:09<00:00, 19.56it/s]\n",
      "100%|██████████| 6/6 [00:00<00:00,  6.95it/s]\n",
      "100%|██████████| 6/6 [00:00<00:00,  6.80it/s]\n"
     ]
    },
    {
     "output_type": "stream",
     "name": "stdout",
     "text": [
      "\n",
      "\n",
      "--------------------------------------------------\n",
      "Epoch  6\n",
      "Training Loss: 0.0359, Validation Loss: 0.0106\n",
      "Validation Results: \n",
      "Weighted Accuracy: 0.4067, Unweighted Accuracy: 0.5067\n",
      "Weighted F1-Score: 0.4876, Unweighted F1-Score: 0.4175,\n",
      "Test Results: \n",
      "Weighted Accuracy: 0.4063, Unweighted Accuracy: 0.4733\n",
      "Weighted F1-Score: 0.4483, Unweighted F1-Score: 0.4162,\n",
      "--------------------------------------------------\n",
      "\n",
      "\n"
     ]
    },
    {
     "output_type": "stream",
     "name": "stderr",
     "text": [
      "100%|██████████| 188/188 [00:09<00:00, 19.43it/s]\n",
      "100%|██████████| 6/6 [00:00<00:00,  6.95it/s]\n",
      "100%|██████████| 6/6 [00:00<00:00,  6.73it/s]\n"
     ]
    },
    {
     "output_type": "stream",
     "name": "stdout",
     "text": [
      "Saved model at epoch 7 with validation unweighted accuracy of 52.94%\n",
      "\n",
      "\n",
      "--------------------------------------------------\n",
      "Epoch  7\n",
      "Training Loss: 0.0339, Validation Loss: 0.0105\n",
      "Validation Results: \n",
      "Weighted Accuracy: 0.4560, Unweighted Accuracy: 0.5294\n",
      "Weighted F1-Score: 0.5273, Unweighted F1-Score: 0.4650,\n",
      "Test Results: \n",
      "Weighted Accuracy: 0.4307, Unweighted Accuracy: 0.4773\n",
      "Weighted F1-Score: 0.4774, Unweighted F1-Score: 0.4475,\n",
      "--------------------------------------------------\n",
      "\n",
      "\n"
     ]
    },
    {
     "output_type": "stream",
     "name": "stderr",
     "text": [
      "100%|██████████| 188/188 [00:09<00:00, 19.90it/s]\n",
      "100%|██████████| 6/6 [00:00<00:00,  6.94it/s]\n",
      "100%|██████████| 6/6 [00:00<00:00,  6.83it/s]\n"
     ]
    },
    {
     "output_type": "stream",
     "name": "stdout",
     "text": [
      "Saved model at epoch 8 with validation unweighted accuracy of 54.01%\n",
      "\n",
      "\n",
      "--------------------------------------------------\n",
      "Epoch  8\n",
      "Training Loss: 0.0318, Validation Loss: 0.0104\n",
      "Validation Results: \n",
      "Weighted Accuracy: 0.4790, Unweighted Accuracy: 0.5401\n",
      "Weighted F1-Score: 0.5352, Unweighted F1-Score: 0.4834,\n",
      "Test Results: \n",
      "Weighted Accuracy: 0.4716, Unweighted Accuracy: 0.4960\n",
      "Weighted F1-Score: 0.4889, Unweighted F1-Score: 0.4626,\n",
      "--------------------------------------------------\n",
      "\n",
      "\n"
     ]
    },
    {
     "output_type": "stream",
     "name": "stderr",
     "text": [
      "100%|██████████| 188/188 [00:09<00:00, 19.36it/s]\n",
      "100%|██████████| 6/6 [00:00<00:00,  6.90it/s]\n",
      "100%|██████████| 6/6 [00:00<00:00,  6.81it/s]\n"
     ]
    },
    {
     "output_type": "stream",
     "name": "stdout",
     "text": [
      "\n",
      "\n",
      "--------------------------------------------------\n",
      "Epoch  9\n",
      "Training Loss: 0.0294, Validation Loss: 0.0108\n",
      "Validation Results: \n",
      "Weighted Accuracy: 0.4309, Unweighted Accuracy: 0.5094\n",
      "Weighted F1-Score: 0.4976, Unweighted F1-Score: 0.4492,\n",
      "Test Results: \n",
      "Weighted Accuracy: 0.4400, Unweighted Accuracy: 0.4719\n",
      "Weighted F1-Score: 0.4700, Unweighted F1-Score: 0.4497,\n",
      "--------------------------------------------------\n",
      "\n",
      "\n"
     ]
    },
    {
     "output_type": "stream",
     "name": "stderr",
     "text": [
      "100%|██████████| 188/188 [00:09<00:00, 19.51it/s]\n",
      "100%|██████████| 6/6 [00:00<00:00,  6.91it/s]\n",
      "100%|██████████| 6/6 [00:00<00:00,  6.97it/s]\n"
     ]
    },
    {
     "output_type": "stream",
     "name": "stdout",
     "text": [
      "\n",
      "\n",
      "--------------------------------------------------\n",
      "Epoch  10\n",
      "Training Loss: 0.0275, Validation Loss: 0.0107\n",
      "Validation Results: \n",
      "Weighted Accuracy: 0.4277, Unweighted Accuracy: 0.5120\n",
      "Weighted F1-Score: 0.5071, Unweighted F1-Score: 0.4418,\n",
      "Test Results: \n",
      "Weighted Accuracy: 0.4397, Unweighted Accuracy: 0.4880\n",
      "Weighted F1-Score: 0.4857, Unweighted F1-Score: 0.4505,\n",
      "--------------------------------------------------\n",
      "\n",
      "\n"
     ]
    },
    {
     "output_type": "stream",
     "name": "stderr",
     "text": [
      "100%|██████████| 188/188 [00:09<00:00, 19.50it/s]\n",
      "100%|██████████| 6/6 [00:00<00:00,  7.11it/s]\n",
      "100%|██████████| 6/6 [00:00<00:00,  6.87it/s]\n"
     ]
    },
    {
     "output_type": "stream",
     "name": "stdout",
     "text": [
      "Epoch 00011: reducing learning rate of group 0 to 1.0000e-05.\n",
      "\n",
      "\n",
      "--------------------------------------------------\n",
      "Epoch  11\n",
      "Training Loss: 0.0256, Validation Loss: 0.0110\n",
      "Validation Results: \n",
      "Weighted Accuracy: 0.4758, Unweighted Accuracy: 0.5281\n",
      "Weighted F1-Score: 0.5265, Unweighted F1-Score: 0.4849,\n",
      "Test Results: \n",
      "Weighted Accuracy: 0.4949, Unweighted Accuracy: 0.5013\n",
      "Weighted F1-Score: 0.4979, Unweighted F1-Score: 0.4888,\n",
      "--------------------------------------------------\n",
      "\n",
      "\n"
     ]
    },
    {
     "output_type": "stream",
     "name": "stderr",
     "text": [
      "100%|██████████| 188/188 [00:09<00:00, 19.56it/s]\n",
      "100%|██████████| 6/6 [00:00<00:00,  7.03it/s]\n",
      "100%|██████████| 6/6 [00:00<00:00,  6.91it/s]\n"
     ]
    },
    {
     "output_type": "stream",
     "name": "stdout",
     "text": [
      "Saved model at epoch 12 with validation unweighted accuracy of 54.41%\n",
      "\n",
      "\n",
      "--------------------------------------------------\n",
      "Epoch  12\n",
      "Training Loss: 0.0199, Validation Loss: 0.0112\n",
      "Validation Results: \n",
      "Weighted Accuracy: 0.5034, Unweighted Accuracy: 0.5441\n",
      "Weighted F1-Score: 0.5423, Unweighted F1-Score: 0.5176,\n",
      "Test Results: \n",
      "Weighted Accuracy: 0.4915, Unweighted Accuracy: 0.5013\n",
      "Weighted F1-Score: 0.5002, Unweighted F1-Score: 0.4958,\n",
      "--------------------------------------------------\n",
      "\n",
      "\n"
     ]
    },
    {
     "output_type": "stream",
     "name": "stderr",
     "text": [
      "100%|██████████| 188/188 [00:09<00:00, 19.60it/s]\n",
      "100%|██████████| 6/6 [00:00<00:00,  6.99it/s]\n",
      "100%|██████████| 6/6 [00:00<00:00,  6.94it/s]\n"
     ]
    },
    {
     "output_type": "stream",
     "name": "stdout",
     "text": [
      "\n",
      "\n",
      "--------------------------------------------------\n",
      "Epoch  13\n",
      "Training Loss: 0.0189, Validation Loss: 0.0113\n",
      "Validation Results: \n",
      "Weighted Accuracy: 0.4870, Unweighted Accuracy: 0.5294\n",
      "Weighted F1-Score: 0.5269, Unweighted F1-Score: 0.5012,\n",
      "Test Results: \n",
      "Weighted Accuracy: 0.5049, Unweighted Accuracy: 0.5107\n",
      "Weighted F1-Score: 0.5113, Unweighted F1-Score: 0.5100,\n",
      "--------------------------------------------------\n",
      "\n",
      "\n"
     ]
    },
    {
     "output_type": "stream",
     "name": "stderr",
     "text": [
      "100%|██████████| 188/188 [00:09<00:00, 19.75it/s]\n",
      "100%|██████████| 6/6 [00:00<00:00,  6.84it/s]\n",
      "100%|██████████| 6/6 [00:00<00:00,  7.00it/s]\n"
     ]
    },
    {
     "output_type": "stream",
     "name": "stdout",
     "text": [
      "\n",
      "\n",
      "--------------------------------------------------\n",
      "Epoch  14\n",
      "Training Loss: 0.0183, Validation Loss: 0.0116\n",
      "Validation Results: \n",
      "Weighted Accuracy: 0.4935, Unweighted Accuracy: 0.5321\n",
      "Weighted F1-Score: 0.5309, Unweighted F1-Score: 0.5059,\n",
      "Test Results: \n",
      "Weighted Accuracy: 0.4958, Unweighted Accuracy: 0.5107\n",
      "Weighted F1-Score: 0.5100, Unweighted F1-Score: 0.5020,\n",
      "--------------------------------------------------\n",
      "\n",
      "\n"
     ]
    },
    {
     "output_type": "stream",
     "name": "stderr",
     "text": [
      "100%|██████████| 188/188 [00:09<00:00, 19.76it/s]\n",
      "100%|██████████| 6/6 [00:00<00:00,  7.19it/s]\n",
      "100%|██████████| 6/6 [00:00<00:00,  6.88it/s]\n"
     ]
    },
    {
     "output_type": "stream",
     "name": "stdout",
     "text": [
      "\n",
      "\n",
      "--------------------------------------------------\n",
      "Epoch  15\n",
      "Training Loss: 0.0178, Validation Loss: 0.0118\n",
      "Validation Results: \n",
      "Weighted Accuracy: 0.4846, Unweighted Accuracy: 0.5254\n",
      "Weighted F1-Score: 0.5225, Unweighted F1-Score: 0.4928,\n",
      "Test Results: \n",
      "Weighted Accuracy: 0.4947, Unweighted Accuracy: 0.5053\n",
      "Weighted F1-Score: 0.5049, Unweighted F1-Score: 0.4971,\n",
      "--------------------------------------------------\n",
      "\n",
      "\n"
     ]
    },
    {
     "output_type": "stream",
     "name": "stderr",
     "text": [
      "100%|██████████| 188/188 [00:09<00:00, 19.61it/s]\n",
      "100%|██████████| 6/6 [00:00<00:00,  6.90it/s]\n",
      "100%|██████████| 6/6 [00:00<00:00,  6.90it/s]\n"
     ]
    },
    {
     "output_type": "stream",
     "name": "stdout",
     "text": [
      "\n",
      "\n",
      "--------------------------------------------------\n",
      "Epoch  16\n",
      "Training Loss: 0.0172, Validation Loss: 0.0119\n",
      "Validation Results: \n",
      "Weighted Accuracy: 0.4873, Unweighted Accuracy: 0.5267\n",
      "Weighted F1-Score: 0.5247, Unweighted F1-Score: 0.4959,\n",
      "Test Results: \n",
      "Weighted Accuracy: 0.5075, Unweighted Accuracy: 0.5160\n",
      "Weighted F1-Score: 0.5158, Unweighted F1-Score: 0.5068,\n",
      "--------------------------------------------------\n",
      "\n",
      "\n"
     ]
    },
    {
     "output_type": "stream",
     "name": "stderr",
     "text": [
      "100%|██████████| 188/188 [00:09<00:00, 19.43it/s]\n",
      "100%|██████████| 6/6 [00:00<00:00,  6.91it/s]\n",
      "100%|██████████| 6/6 [00:00<00:00,  6.94it/s]\n"
     ]
    },
    {
     "output_type": "stream",
     "name": "stdout",
     "text": [
      "Epoch 00017: reducing learning rate of group 0 to 1.0000e-06.\n",
      "\n",
      "\n",
      "--------------------------------------------------\n",
      "Epoch  17\n",
      "Training Loss: 0.0167, Validation Loss: 0.0121\n",
      "Validation Results: \n",
      "Weighted Accuracy: 0.4904, Unweighted Accuracy: 0.5307\n",
      "Weighted F1-Score: 0.5286, Unweighted F1-Score: 0.4985,\n",
      "Test Results: \n",
      "Weighted Accuracy: 0.4919, Unweighted Accuracy: 0.5053\n",
      "Weighted F1-Score: 0.5052, Unweighted F1-Score: 0.4949,\n",
      "--------------------------------------------------\n",
      "\n",
      "\n"
     ]
    },
    {
     "output_type": "stream",
     "name": "stderr",
     "text": [
      "100%|██████████| 188/188 [00:09<00:00, 19.94it/s]\n",
      "100%|██████████| 6/6 [00:00<00:00,  6.94it/s]\n",
      "100%|██████████| 6/6 [00:00<00:00,  6.96it/s]\n"
     ]
    },
    {
     "output_type": "stream",
     "name": "stdout",
     "text": [
      "\n",
      "\n",
      "--------------------------------------------------\n",
      "Epoch  18\n",
      "Training Loss: 0.0160, Validation Loss: 0.0121\n",
      "Validation Results: \n",
      "Weighted Accuracy: 0.4892, Unweighted Accuracy: 0.5307\n",
      "Weighted F1-Score: 0.5286, Unweighted F1-Score: 0.4979,\n",
      "Test Results: \n",
      "Weighted Accuracy: 0.4931, Unweighted Accuracy: 0.5080\n",
      "Weighted F1-Score: 0.5079, Unweighted F1-Score: 0.4968,\n",
      "--------------------------------------------------\n",
      "\n",
      "\n"
     ]
    },
    {
     "output_type": "stream",
     "name": "stderr",
     "text": [
      "100%|██████████| 188/188 [00:09<00:00, 19.50it/s]\n",
      "100%|██████████| 6/6 [00:00<00:00,  6.96it/s]\n",
      "100%|██████████| 6/6 [00:00<00:00,  6.79it/s]\n"
     ]
    },
    {
     "output_type": "stream",
     "name": "stdout",
     "text": [
      "\n",
      "\n",
      "--------------------------------------------------\n",
      "Epoch  19\n",
      "Training Loss: 0.0160, Validation Loss: 0.0121\n",
      "Validation Results: \n",
      "Weighted Accuracy: 0.4892, Unweighted Accuracy: 0.5307\n",
      "Weighted F1-Score: 0.5286, Unweighted F1-Score: 0.4979,\n",
      "Test Results: \n",
      "Weighted Accuracy: 0.4909, Unweighted Accuracy: 0.5053\n",
      "Weighted F1-Score: 0.5055, Unweighted F1-Score: 0.4950,\n",
      "--------------------------------------------------\n",
      "\n",
      "\n"
     ]
    },
    {
     "output_type": "stream",
     "name": "stderr",
     "text": [
      "100%|██████████| 188/188 [00:09<00:00, 19.50it/s]\n",
      "100%|██████████| 6/6 [00:00<00:00,  6.88it/s]\n",
      "100%|██████████| 6/6 [00:00<00:00,  6.85it/s]\n"
     ]
    },
    {
     "output_type": "stream",
     "name": "stdout",
     "text": [
      "\n",
      "\n",
      "--------------------------------------------------\n",
      "Epoch  20\n",
      "Training Loss: 0.0160, Validation Loss: 0.0121\n",
      "Validation Results: \n",
      "Weighted Accuracy: 0.4904, Unweighted Accuracy: 0.5321\n",
      "Weighted F1-Score: 0.5300, Unweighted F1-Score: 0.4990,\n",
      "Test Results: \n",
      "Weighted Accuracy: 0.4946, Unweighted Accuracy: 0.5094\n",
      "Weighted F1-Score: 0.5094, Unweighted F1-Score: 0.4982,\n",
      "--------------------------------------------------\n",
      "\n",
      "\n"
     ]
    },
    {
     "output_type": "stream",
     "name": "stderr",
     "text": [
      "100%|██████████| 188/188 [00:09<00:00, 19.96it/s]\n",
      "100%|██████████| 6/6 [00:00<00:00,  7.08it/s]\n",
      "100%|██████████| 6/6 [00:00<00:00,  6.88it/s]\n"
     ]
    },
    {
     "output_type": "stream",
     "name": "stdout",
     "text": [
      "\n",
      "\n",
      "--------------------------------------------------\n",
      "Epoch  21\n",
      "Training Loss: 0.0159, Validation Loss: 0.0121\n",
      "Validation Results: \n",
      "Weighted Accuracy: 0.4877, Unweighted Accuracy: 0.5307\n",
      "Weighted F1-Score: 0.5283, Unweighted F1-Score: 0.4964,\n",
      "Test Results: \n",
      "Weighted Accuracy: 0.4930, Unweighted Accuracy: 0.5080\n",
      "Weighted F1-Score: 0.5080, Unweighted F1-Score: 0.4969,\n",
      "--------------------------------------------------\n",
      "\n",
      "\n"
     ]
    },
    {
     "output_type": "stream",
     "name": "stderr",
     "text": [
      "100%|██████████| 188/188 [00:09<00:00, 19.62it/s]\n",
      "100%|██████████| 6/6 [00:00<00:00,  7.09it/s]\n",
      "100%|██████████| 6/6 [00:00<00:00,  6.85it/s]\n"
     ]
    },
    {
     "output_type": "stream",
     "name": "stdout",
     "text": [
      "\n",
      "\n",
      "--------------------------------------------------\n",
      "Epoch  22\n",
      "Training Loss: 0.0158, Validation Loss: 0.0122\n",
      "Validation Results: \n",
      "Weighted Accuracy: 0.4897, Unweighted Accuracy: 0.5307\n",
      "Weighted F1-Score: 0.5287, Unweighted F1-Score: 0.4984,\n",
      "Test Results: \n",
      "Weighted Accuracy: 0.4960, Unweighted Accuracy: 0.5120\n",
      "Weighted F1-Score: 0.5120, Unweighted F1-Score: 0.4998,\n",
      "--------------------------------------------------\n",
      "\n",
      "\n"
     ]
    },
    {
     "output_type": "stream",
     "name": "stderr",
     "text": [
      "100%|██████████| 188/188 [00:09<00:00, 19.53it/s]\n",
      "100%|██████████| 6/6 [00:00<00:00,  7.15it/s]\n",
      "100%|██████████| 6/6 [00:00<00:00,  6.97it/s]\n"
     ]
    },
    {
     "output_type": "stream",
     "name": "stdout",
     "text": [
      "Epoch 00023: reducing learning rate of group 0 to 1.0000e-07.\n",
      "\n",
      "\n",
      "--------------------------------------------------\n",
      "Epoch  23\n",
      "Training Loss: 0.0159, Validation Loss: 0.0122\n",
      "Validation Results: \n",
      "Weighted Accuracy: 0.4882, Unweighted Accuracy: 0.5294\n",
      "Weighted F1-Score: 0.5273, Unweighted F1-Score: 0.4965,\n",
      "Test Results: \n",
      "Weighted Accuracy: 0.4974, Unweighted Accuracy: 0.5120\n",
      "Weighted F1-Score: 0.5119, Unweighted F1-Score: 0.5008,\n",
      "--------------------------------------------------\n",
      "\n",
      "\n"
     ]
    },
    {
     "output_type": "stream",
     "name": "stderr",
     "text": [
      "100%|██████████| 188/188 [00:09<00:00, 19.70it/s]\n",
      "100%|██████████| 6/6 [00:00<00:00,  6.97it/s]\n",
      "100%|██████████| 6/6 [00:00<00:00,  6.87it/s]\n"
     ]
    },
    {
     "output_type": "stream",
     "name": "stdout",
     "text": [
      "\n",
      "\n",
      "--------------------------------------------------\n",
      "Epoch  24\n",
      "Training Loss: 0.0157, Validation Loss: 0.0122\n",
      "Validation Results: \n",
      "Weighted Accuracy: 0.4882, Unweighted Accuracy: 0.5294\n",
      "Weighted F1-Score: 0.5274, Unweighted F1-Score: 0.4966,\n",
      "Test Results: \n",
      "Weighted Accuracy: 0.4980, Unweighted Accuracy: 0.5120\n",
      "Weighted F1-Score: 0.5122, Unweighted F1-Score: 0.5016,\n",
      "--------------------------------------------------\n",
      "\n",
      "\n"
     ]
    },
    {
     "output_type": "stream",
     "name": "stderr",
     "text": [
      "100%|██████████| 188/188 [00:09<00:00, 19.67it/s]\n",
      "100%|██████████| 6/6 [00:00<00:00,  7.12it/s]\n",
      "100%|██████████| 6/6 [00:00<00:00,  6.88it/s]\n"
     ]
    },
    {
     "output_type": "stream",
     "name": "stdout",
     "text": [
      "\n",
      "\n",
      "--------------------------------------------------\n",
      "Epoch  25\n",
      "Training Loss: 0.0157, Validation Loss: 0.0122\n",
      "Validation Results: \n",
      "Weighted Accuracy: 0.4882, Unweighted Accuracy: 0.5294\n",
      "Weighted F1-Score: 0.5274, Unweighted F1-Score: 0.4966,\n",
      "Test Results: \n",
      "Weighted Accuracy: 0.4978, Unweighted Accuracy: 0.5120\n",
      "Weighted F1-Score: 0.5123, Unweighted F1-Score: 0.5014,\n",
      "--------------------------------------------------\n",
      "\n",
      "\n"
     ]
    },
    {
     "output_type": "stream",
     "name": "stderr",
     "text": [
      "100%|██████████| 188/188 [00:09<00:00, 19.54it/s]\n",
      "100%|██████████| 6/6 [00:00<00:00,  7.08it/s]\n",
      "100%|██████████| 6/6 [00:00<00:00,  6.88it/s]\n"
     ]
    },
    {
     "output_type": "stream",
     "name": "stdout",
     "text": [
      "\n",
      "\n",
      "--------------------------------------------------\n",
      "Epoch  26\n",
      "Training Loss: 0.0157, Validation Loss: 0.0122\n",
      "Validation Results: \n",
      "Weighted Accuracy: 0.4882, Unweighted Accuracy: 0.5294\n",
      "Weighted F1-Score: 0.5274, Unweighted F1-Score: 0.4966,\n",
      "Test Results: \n",
      "Weighted Accuracy: 0.4966, Unweighted Accuracy: 0.5107\n",
      "Weighted F1-Score: 0.5109, Unweighted F1-Score: 0.5000,\n",
      "--------------------------------------------------\n",
      "\n",
      "\n"
     ]
    },
    {
     "output_type": "stream",
     "name": "stderr",
     "text": [
      "100%|██████████| 188/188 [00:09<00:00, 19.57it/s]\n",
      "100%|██████████| 6/6 [00:00<00:00,  6.86it/s]\n",
      "100%|██████████| 6/6 [00:00<00:00,  6.75it/s]\n"
     ]
    },
    {
     "output_type": "stream",
     "name": "stdout",
     "text": [
      "\n",
      "\n",
      "--------------------------------------------------\n",
      "Epoch  27\n",
      "Training Loss: 0.0157, Validation Loss: 0.0122\n",
      "Validation Results: \n",
      "Weighted Accuracy: 0.4890, Unweighted Accuracy: 0.5307\n",
      "Weighted F1-Score: 0.5287, Unweighted F1-Score: 0.4975,\n",
      "Test Results: \n",
      "Weighted Accuracy: 0.4943, Unweighted Accuracy: 0.5094\n",
      "Weighted F1-Score: 0.5094, Unweighted F1-Score: 0.4976,\n",
      "--------------------------------------------------\n",
      "\n",
      "\n"
     ]
    },
    {
     "output_type": "stream",
     "name": "stderr",
     "text": [
      "100%|██████████| 188/188 [00:09<00:00, 20.03it/s]\n",
      "100%|██████████| 6/6 [00:00<00:00,  7.02it/s]\n",
      "100%|██████████| 6/6 [00:00<00:00,  6.91it/s]\n"
     ]
    },
    {
     "output_type": "stream",
     "name": "stdout",
     "text": [
      "\n",
      "\n",
      "--------------------------------------------------\n",
      "Epoch  28\n",
      "Training Loss: 0.0157, Validation Loss: 0.0122\n",
      "Validation Results: \n",
      "Weighted Accuracy: 0.4890, Unweighted Accuracy: 0.5307\n",
      "Weighted F1-Score: 0.5287, Unweighted F1-Score: 0.4975,\n",
      "Test Results: \n",
      "Weighted Accuracy: 0.4943, Unweighted Accuracy: 0.5094\n",
      "Weighted F1-Score: 0.5094, Unweighted F1-Score: 0.4977,\n",
      "--------------------------------------------------\n",
      "\n",
      "\n"
     ]
    },
    {
     "output_type": "stream",
     "name": "stderr",
     "text": [
      "100%|██████████| 188/188 [00:09<00:00, 19.86it/s]\n",
      "100%|██████████| 6/6 [00:00<00:00,  7.10it/s]\n",
      "100%|██████████| 6/6 [00:00<00:00,  7.00it/s]\n"
     ]
    },
    {
     "output_type": "stream",
     "name": "stdout",
     "text": [
      "Epoch 00029: reducing learning rate of group 0 to 1.0000e-08.\n",
      "\n",
      "\n",
      "--------------------------------------------------\n",
      "Epoch  29\n",
      "Training Loss: 0.0157, Validation Loss: 0.0122\n",
      "Validation Results: \n",
      "Weighted Accuracy: 0.4875, Unweighted Accuracy: 0.5307\n",
      "Weighted F1-Score: 0.5283, Unweighted F1-Score: 0.4958,\n",
      "Test Results: \n",
      "Weighted Accuracy: 0.4931, Unweighted Accuracy: 0.5080\n",
      "Weighted F1-Score: 0.5080, Unweighted F1-Score: 0.4966,\n",
      "--------------------------------------------------\n",
      "\n",
      "\n"
     ]
    },
    {
     "output_type": "stream",
     "name": "stderr",
     "text": [
      "100%|██████████| 188/188 [00:09<00:00, 19.71it/s]\n",
      "100%|██████████| 6/6 [00:00<00:00,  6.96it/s]\n",
      "100%|██████████| 6/6 [00:00<00:00,  6.84it/s]\n"
     ]
    },
    {
     "output_type": "stream",
     "name": "stdout",
     "text": [
      "\n",
      "\n",
      "--------------------------------------------------\n",
      "Epoch  30\n",
      "Training Loss: 0.0157, Validation Loss: 0.0122\n",
      "Validation Results: \n",
      "Weighted Accuracy: 0.4875, Unweighted Accuracy: 0.5307\n",
      "Weighted F1-Score: 0.5283, Unweighted F1-Score: 0.4958,\n",
      "Test Results: \n",
      "Weighted Accuracy: 0.4931, Unweighted Accuracy: 0.5080\n",
      "Weighted F1-Score: 0.5080, Unweighted F1-Score: 0.4966,\n",
      "--------------------------------------------------\n",
      "\n",
      "\n"
     ]
    },
    {
     "output_type": "stream",
     "name": "stderr",
     "text": [
      "100%|██████████| 188/188 [00:09<00:00, 19.73it/s]\n",
      "100%|██████████| 6/6 [00:00<00:00,  6.90it/s]\n",
      "100%|██████████| 6/6 [00:00<00:00,  6.82it/s]\n"
     ]
    },
    {
     "output_type": "stream",
     "name": "stdout",
     "text": [
      "\n",
      "\n",
      "--------------------------------------------------\n",
      "Epoch  31\n",
      "Training Loss: 0.0157, Validation Loss: 0.0122\n",
      "Validation Results: \n",
      "Weighted Accuracy: 0.4875, Unweighted Accuracy: 0.5307\n",
      "Weighted F1-Score: 0.5283, Unweighted F1-Score: 0.4958,\n",
      "Test Results: \n",
      "Weighted Accuracy: 0.4931, Unweighted Accuracy: 0.5080\n",
      "Weighted F1-Score: 0.5080, Unweighted F1-Score: 0.4966,\n",
      "--------------------------------------------------\n",
      "\n",
      "\n"
     ]
    },
    {
     "output_type": "stream",
     "name": "stderr",
     "text": [
      "100%|██████████| 188/188 [00:09<00:00, 20.14it/s]\n",
      "100%|██████████| 6/6 [00:00<00:00,  7.16it/s]\n",
      "100%|██████████| 6/6 [00:00<00:00,  6.90it/s]\n"
     ]
    },
    {
     "output_type": "stream",
     "name": "stdout",
     "text": [
      "\n",
      "\n",
      "--------------------------------------------------\n",
      "Epoch  32\n",
      "Training Loss: 0.0157, Validation Loss: 0.0122\n",
      "Validation Results: \n",
      "Weighted Accuracy: 0.4875, Unweighted Accuracy: 0.5307\n",
      "Weighted F1-Score: 0.5283, Unweighted F1-Score: 0.4958,\n",
      "Test Results: \n",
      "Weighted Accuracy: 0.4931, Unweighted Accuracy: 0.5080\n",
      "Weighted F1-Score: 0.5080, Unweighted F1-Score: 0.4966,\n",
      "--------------------------------------------------\n",
      "\n",
      "\n"
     ]
    },
    {
     "output_type": "stream",
     "name": "stderr",
     "text": [
      "100%|██████████| 188/188 [00:09<00:00, 19.76it/s]\n",
      "100%|██████████| 6/6 [00:00<00:00,  6.97it/s]\n",
      "100%|██████████| 6/6 [00:00<00:00,  6.97it/s]\n"
     ]
    },
    {
     "output_type": "stream",
     "name": "stdout",
     "text": [
      "\n",
      "\n",
      "--------------------------------------------------\n",
      "Epoch  33\n",
      "Training Loss: 0.0157, Validation Loss: 0.0122\n",
      "Validation Results: \n",
      "Weighted Accuracy: 0.4875, Unweighted Accuracy: 0.5307\n",
      "Weighted F1-Score: 0.5283, Unweighted F1-Score: 0.4958,\n",
      "Test Results: \n",
      "Weighted Accuracy: 0.4931, Unweighted Accuracy: 0.5080\n",
      "Weighted F1-Score: 0.5080, Unweighted F1-Score: 0.4966,\n",
      "--------------------------------------------------\n",
      "\n",
      "\n"
     ]
    },
    {
     "output_type": "stream",
     "name": "stderr",
     "text": [
      "100%|██████████| 188/188 [00:09<00:00, 19.56it/s]\n",
      "100%|██████████| 6/6 [00:00<00:00,  6.93it/s]\n",
      "100%|██████████| 6/6 [00:00<00:00,  6.82it/s]\n"
     ]
    },
    {
     "output_type": "stream",
     "name": "stdout",
     "text": [
      "\n",
      "\n",
      "--------------------------------------------------\n",
      "Epoch  34\n",
      "Training Loss: 0.0157, Validation Loss: 0.0122\n",
      "Validation Results: \n",
      "Weighted Accuracy: 0.4875, Unweighted Accuracy: 0.5307\n",
      "Weighted F1-Score: 0.5283, Unweighted F1-Score: 0.4958,\n",
      "Test Results: \n",
      "Weighted Accuracy: 0.4931, Unweighted Accuracy: 0.5080\n",
      "Weighted F1-Score: 0.5080, Unweighted F1-Score: 0.4966,\n",
      "--------------------------------------------------\n",
      "\n",
      "\n",
      "Early stopped. No improvement in validation loss for 10 consecutive epoches.\n"
     ]
    },
    {
     "output_type": "stream",
     "name": "stderr",
     "text": [
      "100%|██████████| 188/188 [00:10<00:00, 17.54it/s]\n",
      "100%|██████████| 6/6 [00:00<00:00,  6.94it/s]\n",
      "100%|██████████| 6/6 [00:00<00:00,  6.78it/s]\n"
     ]
    },
    {
     "output_type": "stream",
     "name": "stdout",
     "text": [
      "Saved model at epoch 1 with validation unweighted accuracy of 37.43%\n",
      "\n",
      "\n",
      "--------------------------------------------------\n",
      "Epoch  1\n",
      "Training Loss: 0.0546, Validation Loss: 0.0128\n",
      "Validation Results: \n",
      "Weighted Accuracy: 0.2490, Unweighted Accuracy: 0.3743\n",
      "Weighted F1-Score: 0.3167, Unweighted F1-Score: 0.2310,\n",
      "Test Results: \n",
      "Weighted Accuracy: 0.2392, Unweighted Accuracy: 0.3529\n",
      "Weighted F1-Score: 0.3035, Unweighted F1-Score: 0.2211,\n",
      "--------------------------------------------------\n",
      "\n",
      "\n"
     ]
    },
    {
     "output_type": "stream",
     "name": "stderr",
     "text": [
      "100%|██████████| 188/188 [00:09<00:00, 19.14it/s]\n",
      "100%|██████████| 6/6 [00:00<00:00,  6.91it/s]\n",
      "100%|██████████| 6/6 [00:00<00:00,  6.83it/s]\n"
     ]
    },
    {
     "output_type": "stream",
     "name": "stdout",
     "text": [
      "Saved model at epoch 2 with validation unweighted accuracy of 44.52%\n",
      "\n",
      "\n",
      "--------------------------------------------------\n",
      "Epoch  2\n",
      "Training Loss: 0.0463, Validation Loss: 0.0116\n",
      "Validation Results: \n",
      "Weighted Accuracy: 0.3432, Unweighted Accuracy: 0.4452\n",
      "Weighted F1-Score: 0.4197, Unweighted F1-Score: 0.3303,\n",
      "Test Results: \n",
      "Weighted Accuracy: 0.3525, Unweighted Accuracy: 0.4639\n",
      "Weighted F1-Score: 0.4457, Unweighted F1-Score: 0.3457,\n",
      "--------------------------------------------------\n",
      "\n",
      "\n"
     ]
    },
    {
     "output_type": "stream",
     "name": "stderr",
     "text": [
      "100%|██████████| 188/188 [00:09<00:00, 19.33it/s]\n",
      "100%|██████████| 6/6 [00:00<00:00,  6.96it/s]\n",
      "100%|██████████| 6/6 [00:00<00:00,  6.76it/s]\n"
     ]
    },
    {
     "output_type": "stream",
     "name": "stdout",
     "text": [
      "Saved model at epoch 3 with validation unweighted accuracy of 46.93%\n",
      "\n",
      "\n",
      "--------------------------------------------------\n",
      "Epoch  3\n",
      "Training Loss: 0.0418, Validation Loss: 0.0112\n",
      "Validation Results: \n",
      "Weighted Accuracy: 0.3706, Unweighted Accuracy: 0.4693\n",
      "Weighted F1-Score: 0.4536, Unweighted F1-Score: 0.3730,\n",
      "Test Results: \n",
      "Weighted Accuracy: 0.3779, Unweighted Accuracy: 0.4773\n",
      "Weighted F1-Score: 0.4644, Unweighted F1-Score: 0.3858,\n",
      "--------------------------------------------------\n",
      "\n",
      "\n"
     ]
    },
    {
     "output_type": "stream",
     "name": "stderr",
     "text": [
      "100%|██████████| 188/188 [00:09<00:00, 19.33it/s]\n",
      "100%|██████████| 6/6 [00:00<00:00,  6.76it/s]\n",
      "100%|██████████| 6/6 [00:00<00:00,  6.79it/s]\n"
     ]
    },
    {
     "output_type": "stream",
     "name": "stdout",
     "text": [
      "\n",
      "\n",
      "--------------------------------------------------\n",
      "Epoch  4\n",
      "Training Loss: 0.0385, Validation Loss: 0.0112\n",
      "Validation Results: \n",
      "Weighted Accuracy: 0.3734, Unweighted Accuracy: 0.4693\n",
      "Weighted F1-Score: 0.4457, Unweighted F1-Score: 0.3569,\n",
      "Test Results: \n",
      "Weighted Accuracy: 0.4164, Unweighted Accuracy: 0.5107\n",
      "Weighted F1-Score: 0.4922, Unweighted F1-Score: 0.4200,\n",
      "--------------------------------------------------\n",
      "\n",
      "\n"
     ]
    },
    {
     "output_type": "stream",
     "name": "stderr",
     "text": [
      "100%|██████████| 188/188 [00:09<00:00, 19.31it/s]\n",
      "100%|██████████| 6/6 [00:00<00:00,  7.21it/s]\n",
      "100%|██████████| 6/6 [00:00<00:00,  6.78it/s]\n"
     ]
    },
    {
     "output_type": "stream",
     "name": "stdout",
     "text": [
      "\n",
      "\n",
      "--------------------------------------------------\n",
      "Epoch  5\n",
      "Training Loss: 0.0357, Validation Loss: 0.0111\n",
      "Validation Results: \n",
      "Weighted Accuracy: 0.3774, Unweighted Accuracy: 0.4679\n",
      "Weighted F1-Score: 0.4600, Unweighted F1-Score: 0.3822,\n",
      "Test Results: \n",
      "Weighted Accuracy: 0.4067, Unweighted Accuracy: 0.4799\n",
      "Weighted F1-Score: 0.4749, Unweighted F1-Score: 0.4222,\n",
      "--------------------------------------------------\n",
      "\n",
      "\n"
     ]
    },
    {
     "output_type": "stream",
     "name": "stderr",
     "text": [
      "100%|██████████| 188/188 [00:09<00:00, 19.08it/s]\n",
      "100%|██████████| 6/6 [00:00<00:00,  6.89it/s]\n",
      "100%|██████████| 6/6 [00:00<00:00,  6.95it/s]\n"
     ]
    },
    {
     "output_type": "stream",
     "name": "stdout",
     "text": [
      "Saved model at epoch 6 with validation unweighted accuracy of 48.13%\n",
      "\n",
      "\n",
      "--------------------------------------------------\n",
      "Epoch  6\n",
      "Training Loss: 0.0333, Validation Loss: 0.0115\n",
      "Validation Results: \n",
      "Weighted Accuracy: 0.3939, Unweighted Accuracy: 0.4813\n",
      "Weighted F1-Score: 0.4642, Unweighted F1-Score: 0.3827,\n",
      "Test Results: \n",
      "Weighted Accuracy: 0.4324, Unweighted Accuracy: 0.4960\n",
      "Weighted F1-Score: 0.4874, Unweighted F1-Score: 0.4452,\n",
      "--------------------------------------------------\n",
      "\n",
      "\n"
     ]
    },
    {
     "output_type": "stream",
     "name": "stderr",
     "text": [
      "100%|██████████| 188/188 [00:09<00:00, 19.07it/s]\n",
      "100%|██████████| 6/6 [00:00<00:00,  6.95it/s]\n",
      "100%|██████████| 6/6 [00:00<00:00,  7.02it/s]\n"
     ]
    },
    {
     "output_type": "stream",
     "name": "stdout",
     "text": [
      "\n",
      "\n",
      "--------------------------------------------------\n",
      "Epoch  7\n",
      "Training Loss: 0.0310, Validation Loss: 0.0121\n",
      "Validation Results: \n",
      "Weighted Accuracy: 0.3957, Unweighted Accuracy: 0.4626\n",
      "Weighted F1-Score: 0.4531, Unweighted F1-Score: 0.3886,\n",
      "Test Results: \n",
      "Weighted Accuracy: 0.4313, Unweighted Accuracy: 0.4813\n",
      "Weighted F1-Score: 0.4761, Unweighted F1-Score: 0.4465,\n",
      "--------------------------------------------------\n",
      "\n",
      "\n"
     ]
    },
    {
     "output_type": "stream",
     "name": "stderr",
     "text": [
      "100%|██████████| 188/188 [00:09<00:00, 19.35it/s]\n",
      "100%|██████████| 6/6 [00:00<00:00,  6.94it/s]\n",
      "100%|██████████| 6/6 [00:00<00:00,  6.77it/s]\n"
     ]
    },
    {
     "output_type": "stream",
     "name": "stdout",
     "text": [
      "\n",
      "\n",
      "--------------------------------------------------\n",
      "Epoch  8\n",
      "Training Loss: 0.0289, Validation Loss: 0.0123\n",
      "Validation Results: \n",
      "Weighted Accuracy: 0.3820, Unweighted Accuracy: 0.4532\n",
      "Weighted F1-Score: 0.4464, Unweighted F1-Score: 0.3730,\n",
      "Test Results: \n",
      "Weighted Accuracy: 0.4712, Unweighted Accuracy: 0.5067\n",
      "Weighted F1-Score: 0.5049, Unweighted F1-Score: 0.4925,\n",
      "--------------------------------------------------\n",
      "\n",
      "\n"
     ]
    },
    {
     "output_type": "stream",
     "name": "stderr",
     "text": [
      "100%|██████████| 188/188 [00:09<00:00, 19.16it/s]\n",
      "100%|██████████| 6/6 [00:00<00:00,  7.04it/s]\n",
      "100%|██████████| 6/6 [00:00<00:00,  6.78it/s]\n"
     ]
    },
    {
     "output_type": "stream",
     "name": "stdout",
     "text": [
      "\n",
      "\n",
      "--------------------------------------------------\n",
      "Epoch  9\n",
      "Training Loss: 0.0272, Validation Loss: 0.0124\n",
      "Validation Results: \n",
      "Weighted Accuracy: 0.3902, Unweighted Accuracy: 0.4813\n",
      "Weighted F1-Score: 0.4734, Unweighted F1-Score: 0.3984,\n",
      "Test Results: \n",
      "Weighted Accuracy: 0.4420, Unweighted Accuracy: 0.5053\n",
      "Weighted F1-Score: 0.5047, Unweighted F1-Score: 0.4707,\n",
      "--------------------------------------------------\n",
      "\n",
      "\n"
     ]
    },
    {
     "output_type": "stream",
     "name": "stderr",
     "text": [
      "100%|██████████| 188/188 [00:09<00:00, 18.95it/s]\n",
      "100%|██████████| 6/6 [00:00<00:00,  6.94it/s]\n",
      "100%|██████████| 6/6 [00:00<00:00,  6.92it/s]\n"
     ]
    },
    {
     "output_type": "stream",
     "name": "stdout",
     "text": [
      "Saved model at epoch 10 with validation unweighted accuracy of 49.06%\n",
      "\n",
      "\n",
      "--------------------------------------------------\n",
      "Epoch  10\n",
      "Training Loss: 0.0246, Validation Loss: 0.0127\n",
      "Validation Results: \n",
      "Weighted Accuracy: 0.4083, Unweighted Accuracy: 0.4906\n",
      "Weighted F1-Score: 0.4820, Unweighted F1-Score: 0.4061,\n",
      "Test Results: \n",
      "Weighted Accuracy: 0.4534, Unweighted Accuracy: 0.5174\n",
      "Weighted F1-Score: 0.5090, Unweighted F1-Score: 0.4710,\n",
      "--------------------------------------------------\n",
      "\n",
      "\n"
     ]
    },
    {
     "output_type": "stream",
     "name": "stderr",
     "text": [
      "100%|██████████| 188/188 [00:09<00:00, 19.12it/s]\n",
      "100%|██████████| 6/6 [00:00<00:00,  7.02it/s]\n",
      "100%|██████████| 6/6 [00:00<00:00,  6.90it/s]\n"
     ]
    },
    {
     "output_type": "stream",
     "name": "stdout",
     "text": [
      "Epoch 00011: reducing learning rate of group 0 to 1.0000e-05.\n",
      "\n",
      "\n",
      "--------------------------------------------------\n",
      "Epoch  11\n",
      "Training Loss: 0.0228, Validation Loss: 0.0130\n",
      "Validation Results: \n",
      "Weighted Accuracy: 0.3947, Unweighted Accuracy: 0.4612\n",
      "Weighted F1-Score: 0.4583, Unweighted F1-Score: 0.3891,\n",
      "Test Results: \n",
      "Weighted Accuracy: 0.4798, Unweighted Accuracy: 0.5013\n",
      "Weighted F1-Score: 0.5024, Unweighted F1-Score: 0.4907,\n",
      "--------------------------------------------------\n",
      "\n",
      "\n"
     ]
    },
    {
     "output_type": "stream",
     "name": "stderr",
     "text": [
      "100%|██████████| 188/188 [00:09<00:00, 19.20it/s]\n",
      "100%|██████████| 6/6 [00:00<00:00,  6.97it/s]\n",
      "100%|██████████| 6/6 [00:00<00:00,  6.88it/s]\n"
     ]
    },
    {
     "output_type": "stream",
     "name": "stdout",
     "text": [
      "\n",
      "\n",
      "--------------------------------------------------\n",
      "Epoch  12\n",
      "Training Loss: 0.0175, Validation Loss: 0.0133\n",
      "Validation Results: \n",
      "Weighted Accuracy: 0.3876, Unweighted Accuracy: 0.4666\n",
      "Weighted F1-Score: 0.4632, Unweighted F1-Score: 0.3884,\n",
      "Test Results: \n",
      "Weighted Accuracy: 0.4767, Unweighted Accuracy: 0.4987\n",
      "Weighted F1-Score: 0.4988, Unweighted F1-Score: 0.4957,\n",
      "--------------------------------------------------\n",
      "\n",
      "\n"
     ]
    },
    {
     "output_type": "stream",
     "name": "stderr",
     "text": [
      "100%|██████████| 188/188 [00:09<00:00, 19.09it/s]\n",
      "100%|██████████| 6/6 [00:00<00:00,  6.79it/s]\n",
      "100%|██████████| 6/6 [00:00<00:00,  7.05it/s]\n"
     ]
    },
    {
     "output_type": "stream",
     "name": "stdout",
     "text": [
      "\n",
      "\n",
      "--------------------------------------------------\n",
      "Epoch  13\n",
      "Training Loss: 0.0162, Validation Loss: 0.0137\n",
      "Validation Results: \n",
      "Weighted Accuracy: 0.3865, Unweighted Accuracy: 0.4693\n",
      "Weighted F1-Score: 0.4653, Unweighted F1-Score: 0.3876,\n",
      "Test Results: \n",
      "Weighted Accuracy: 0.4773, Unweighted Accuracy: 0.4973\n",
      "Weighted F1-Score: 0.4991, Unweighted F1-Score: 0.4961,\n",
      "--------------------------------------------------\n",
      "\n",
      "\n"
     ]
    },
    {
     "output_type": "stream",
     "name": "stderr",
     "text": [
      "100%|██████████| 188/188 [00:09<00:00, 19.13it/s]\n",
      "100%|██████████| 6/6 [00:00<00:00,  7.00it/s]\n",
      "100%|██████████| 6/6 [00:00<00:00,  6.97it/s]\n"
     ]
    },
    {
     "output_type": "stream",
     "name": "stdout",
     "text": [
      "\n",
      "\n",
      "--------------------------------------------------\n",
      "Epoch  14\n",
      "Training Loss: 0.0157, Validation Loss: 0.0137\n",
      "Validation Results: \n",
      "Weighted Accuracy: 0.4038, Unweighted Accuracy: 0.4759\n",
      "Weighted F1-Score: 0.4726, Unweighted F1-Score: 0.4050,\n",
      "Test Results: \n",
      "Weighted Accuracy: 0.4852, Unweighted Accuracy: 0.5027\n",
      "Weighted F1-Score: 0.5053, Unweighted F1-Score: 0.5034,\n",
      "--------------------------------------------------\n",
      "\n",
      "\n"
     ]
    },
    {
     "output_type": "stream",
     "name": "stderr",
     "text": [
      "100%|██████████| 188/188 [00:09<00:00, 19.15it/s]\n",
      "100%|██████████| 6/6 [00:00<00:00,  6.96it/s]\n",
      "100%|██████████| 6/6 [00:00<00:00,  6.84it/s]\n"
     ]
    },
    {
     "output_type": "stream",
     "name": "stdout",
     "text": [
      "\n",
      "\n",
      "--------------------------------------------------\n",
      "Epoch  15\n",
      "Training Loss: 0.0151, Validation Loss: 0.0141\n",
      "Validation Results: \n",
      "Weighted Accuracy: 0.3912, Unweighted Accuracy: 0.4666\n",
      "Weighted F1-Score: 0.4634, Unweighted F1-Score: 0.3904,\n",
      "Test Results: \n",
      "Weighted Accuracy: 0.4879, Unweighted Accuracy: 0.5013\n",
      "Weighted F1-Score: 0.5039, Unweighted F1-Score: 0.5031,\n",
      "--------------------------------------------------\n",
      "\n",
      "\n",
      "Early stopped. No improvement in validation loss for 10 consecutive epoches.\n"
     ]
    },
    {
     "output_type": "stream",
     "name": "stderr",
     "text": [
      "100%|██████████| 188/188 [00:09<00:00, 19.48it/s]\n",
      "100%|██████████| 6/6 [00:00<00:00,  6.91it/s]\n",
      "100%|██████████| 6/6 [00:00<00:00,  6.93it/s]\n"
     ]
    },
    {
     "output_type": "stream",
     "name": "stdout",
     "text": [
      "Saved model at epoch 1 with validation unweighted accuracy of 38.37%\n",
      "\n",
      "\n",
      "--------------------------------------------------\n",
      "Epoch  1\n",
      "Training Loss: 0.0551, Validation Loss: 0.0129\n",
      "Validation Results: \n",
      "Weighted Accuracy: 0.2694, Unweighted Accuracy: 0.3837\n",
      "Weighted F1-Score: 0.3191, Unweighted F1-Score: 0.2311,\n",
      "Test Results: \n",
      "Weighted Accuracy: 0.2534, Unweighted Accuracy: 0.3636\n",
      "Weighted F1-Score: 0.3081, Unweighted F1-Score: 0.2212,\n",
      "--------------------------------------------------\n",
      "\n",
      "\n"
     ]
    },
    {
     "output_type": "stream",
     "name": "stderr",
     "text": [
      "100%|██████████| 188/188 [00:09<00:00, 19.45it/s]\n",
      "100%|██████████| 6/6 [00:00<00:00,  6.91it/s]\n",
      "100%|██████████| 6/6 [00:00<00:00,  6.94it/s]\n"
     ]
    },
    {
     "output_type": "stream",
     "name": "stdout",
     "text": [
      "Saved model at epoch 2 with validation unweighted accuracy of 43.05%\n",
      "\n",
      "\n",
      "--------------------------------------------------\n",
      "Epoch  2\n",
      "Training Loss: 0.0470, Validation Loss: 0.0117\n",
      "Validation Results: \n",
      "Weighted Accuracy: 0.3403, Unweighted Accuracy: 0.4305\n",
      "Weighted F1-Score: 0.4056, Unweighted F1-Score: 0.3209,\n",
      "Test Results: \n",
      "Weighted Accuracy: 0.3514, Unweighted Accuracy: 0.4519\n",
      "Weighted F1-Score: 0.4335, Unweighted F1-Score: 0.3400,\n",
      "--------------------------------------------------\n",
      "\n",
      "\n"
     ]
    },
    {
     "output_type": "stream",
     "name": "stderr",
     "text": [
      "100%|██████████| 188/188 [00:09<00:00, 19.67it/s]\n",
      "100%|██████████| 6/6 [00:00<00:00,  7.18it/s]\n",
      "100%|██████████| 6/6 [00:00<00:00,  6.96it/s]\n"
     ]
    },
    {
     "output_type": "stream",
     "name": "stdout",
     "text": [
      "\n",
      "\n",
      "--------------------------------------------------\n",
      "Epoch  3\n",
      "Training Loss: 0.0425, Validation Loss: 0.0117\n",
      "Validation Results: \n",
      "Weighted Accuracy: 0.3382, Unweighted Accuracy: 0.4305\n",
      "Weighted F1-Score: 0.4046, Unweighted F1-Score: 0.3202,\n",
      "Test Results: \n",
      "Weighted Accuracy: 0.3581, Unweighted Accuracy: 0.4666\n",
      "Weighted F1-Score: 0.4453, Unweighted F1-Score: 0.3472,\n",
      "--------------------------------------------------\n",
      "\n",
      "\n"
     ]
    },
    {
     "output_type": "stream",
     "name": "stderr",
     "text": [
      "100%|██████████| 188/188 [00:09<00:00, 19.59it/s]\n",
      "100%|██████████| 6/6 [00:00<00:00,  6.99it/s]\n",
      "100%|██████████| 6/6 [00:00<00:00,  6.89it/s]\n"
     ]
    },
    {
     "output_type": "stream",
     "name": "stdout",
     "text": [
      "Saved model at epoch 4 with validation unweighted accuracy of 45.99%\n",
      "\n",
      "\n",
      "--------------------------------------------------\n",
      "Epoch  4\n",
      "Training Loss: 0.0392, Validation Loss: 0.0115\n",
      "Validation Results: \n",
      "Weighted Accuracy: 0.3668, Unweighted Accuracy: 0.4599\n",
      "Weighted F1-Score: 0.4382, Unweighted F1-Score: 0.3568,\n",
      "Test Results: \n",
      "Weighted Accuracy: 0.4057, Unweighted Accuracy: 0.4987\n",
      "Weighted F1-Score: 0.4860, Unweighted F1-Score: 0.4122,\n",
      "--------------------------------------------------\n",
      "\n",
      "\n"
     ]
    },
    {
     "output_type": "stream",
     "name": "stderr",
     "text": [
      "100%|██████████| 188/188 [00:09<00:00, 19.99it/s]\n",
      "100%|██████████| 6/6 [00:00<00:00,  7.00it/s]\n",
      "100%|██████████| 6/6 [00:00<00:00,  6.90it/s]\n"
     ]
    },
    {
     "output_type": "stream",
     "name": "stdout",
     "text": [
      "\n",
      "\n",
      "--------------------------------------------------\n",
      "Epoch  5\n",
      "Training Loss: 0.0369, Validation Loss: 0.0113\n",
      "Validation Results: \n",
      "Weighted Accuracy: 0.3717, Unweighted Accuracy: 0.4412\n",
      "Weighted F1-Score: 0.4245, Unweighted F1-Score: 0.3586,\n",
      "Test Results: \n",
      "Weighted Accuracy: 0.4270, Unweighted Accuracy: 0.4933\n",
      "Weighted F1-Score: 0.4827, Unweighted F1-Score: 0.4378,\n",
      "--------------------------------------------------\n",
      "\n",
      "\n"
     ]
    },
    {
     "output_type": "stream",
     "name": "stderr",
     "text": [
      "100%|██████████| 188/188 [00:09<00:00, 19.60it/s]\n",
      "100%|██████████| 6/6 [00:00<00:00,  7.01it/s]\n",
      "100%|██████████| 6/6 [00:00<00:00,  6.96it/s]\n"
     ]
    },
    {
     "output_type": "stream",
     "name": "stdout",
     "text": [
      "Saved model at epoch 6 with validation unweighted accuracy of 46.52%\n",
      "\n",
      "\n",
      "--------------------------------------------------\n",
      "Epoch  6\n",
      "Training Loss: 0.0347, Validation Loss: 0.0115\n",
      "Validation Results: \n",
      "Weighted Accuracy: 0.3893, Unweighted Accuracy: 0.4652\n",
      "Weighted F1-Score: 0.4556, Unweighted F1-Score: 0.3775,\n",
      "Test Results: \n",
      "Weighted Accuracy: 0.4273, Unweighted Accuracy: 0.4853\n",
      "Weighted F1-Score: 0.4831, Unweighted F1-Score: 0.4420,\n",
      "--------------------------------------------------\n",
      "\n",
      "\n"
     ]
    },
    {
     "output_type": "stream",
     "name": "stderr",
     "text": [
      "100%|██████████| 188/188 [00:09<00:00, 19.98it/s]\n",
      "100%|██████████| 6/6 [00:00<00:00,  7.00it/s]\n",
      "100%|██████████| 6/6 [00:00<00:00,  6.84it/s]\n"
     ]
    },
    {
     "output_type": "stream",
     "name": "stdout",
     "text": [
      "Saved model at epoch 7 with validation unweighted accuracy of 48.13%\n",
      "\n",
      "\n",
      "--------------------------------------------------\n",
      "Epoch  7\n",
      "Training Loss: 0.0321, Validation Loss: 0.0109\n",
      "Validation Results: \n",
      "Weighted Accuracy: 0.4084, Unweighted Accuracy: 0.4813\n",
      "Weighted F1-Score: 0.4810, Unweighted F1-Score: 0.4053,\n",
      "Test Results: \n",
      "Weighted Accuracy: 0.4896, Unweighted Accuracy: 0.5080\n",
      "Weighted F1-Score: 0.5106, Unweighted F1-Score: 0.4936,\n",
      "--------------------------------------------------\n",
      "\n",
      "\n"
     ]
    },
    {
     "output_type": "stream",
     "name": "stderr",
     "text": [
      "100%|██████████| 188/188 [00:09<00:00, 19.64it/s]\n",
      "100%|██████████| 6/6 [00:00<00:00,  6.98it/s]\n",
      "100%|██████████| 6/6 [00:00<00:00,  6.90it/s]\n"
     ]
    },
    {
     "output_type": "stream",
     "name": "stdout",
     "text": [
      "\n",
      "\n",
      "--------------------------------------------------\n",
      "Epoch  8\n",
      "Training Loss: 0.0300, Validation Loss: 0.0115\n",
      "Validation Results: \n",
      "Weighted Accuracy: 0.4060, Unweighted Accuracy: 0.4492\n",
      "Weighted F1-Score: 0.4460, Unweighted F1-Score: 0.3867,\n",
      "Test Results: \n",
      "Weighted Accuracy: 0.4809, Unweighted Accuracy: 0.4866\n",
      "Weighted F1-Score: 0.4852, Unweighted F1-Score: 0.4795,\n",
      "--------------------------------------------------\n",
      "\n",
      "\n"
     ]
    },
    {
     "output_type": "stream",
     "name": "stderr",
     "text": [
      "100%|██████████| 188/188 [00:09<00:00, 19.86it/s]\n",
      "100%|██████████| 6/6 [00:00<00:00,  6.93it/s]\n",
      "100%|██████████| 6/6 [00:00<00:00,  6.90it/s]\n"
     ]
    },
    {
     "output_type": "stream",
     "name": "stdout",
     "text": [
      "Saved model at epoch 9 with validation unweighted accuracy of 49.20%\n",
      "\n",
      "\n",
      "--------------------------------------------------\n",
      "Epoch  9\n",
      "Training Loss: 0.0278, Validation Loss: 0.0119\n",
      "Validation Results: \n",
      "Weighted Accuracy: 0.4116, Unweighted Accuracy: 0.4920\n",
      "Weighted F1-Score: 0.4866, Unweighted F1-Score: 0.4104,\n",
      "Test Results: \n",
      "Weighted Accuracy: 0.4676, Unweighted Accuracy: 0.5000\n",
      "Weighted F1-Score: 0.5001, Unweighted F1-Score: 0.4852,\n",
      "--------------------------------------------------\n",
      "\n",
      "\n"
     ]
    },
    {
     "output_type": "stream",
     "name": "stderr",
     "text": [
      "100%|██████████| 188/188 [00:09<00:00, 19.71it/s]\n",
      "100%|██████████| 6/6 [00:00<00:00,  6.96it/s]\n",
      "100%|██████████| 6/6 [00:00<00:00,  7.03it/s]\n"
     ]
    },
    {
     "output_type": "stream",
     "name": "stdout",
     "text": [
      "Saved model at epoch 10 with validation unweighted accuracy of 49.47%\n",
      "\n",
      "\n",
      "--------------------------------------------------\n",
      "Epoch  10\n",
      "Training Loss: 0.0255, Validation Loss: 0.0118\n",
      "Validation Results: \n",
      "Weighted Accuracy: 0.4105, Unweighted Accuracy: 0.4947\n",
      "Weighted F1-Score: 0.4896, Unweighted F1-Score: 0.4114,\n",
      "Test Results: \n",
      "Weighted Accuracy: 0.4484, Unweighted Accuracy: 0.4826\n",
      "Weighted F1-Score: 0.4853, Unweighted F1-Score: 0.4639,\n",
      "--------------------------------------------------\n",
      "\n",
      "\n"
     ]
    },
    {
     "output_type": "stream",
     "name": "stderr",
     "text": [
      "100%|██████████| 188/188 [00:09<00:00, 19.71it/s]\n",
      "100%|██████████| 6/6 [00:00<00:00,  7.20it/s]\n",
      "100%|██████████| 6/6 [00:00<00:00,  6.96it/s]\n"
     ]
    },
    {
     "output_type": "stream",
     "name": "stdout",
     "text": [
      "Saved model at epoch 11 with validation unweighted accuracy of 49.87%\n",
      "\n",
      "\n",
      "--------------------------------------------------\n",
      "Epoch  11\n",
      "Training Loss: 0.0230, Validation Loss: 0.0120\n",
      "Validation Results: \n",
      "Weighted Accuracy: 0.4239, Unweighted Accuracy: 0.4987\n",
      "Weighted F1-Score: 0.4905, Unweighted F1-Score: 0.4266,\n",
      "Test Results: \n",
      "Weighted Accuracy: 0.4612, Unweighted Accuracy: 0.5053\n",
      "Weighted F1-Score: 0.4997, Unweighted F1-Score: 0.4719,\n",
      "--------------------------------------------------\n",
      "\n",
      "\n"
     ]
    },
    {
     "output_type": "stream",
     "name": "stderr",
     "text": [
      "100%|██████████| 188/188 [00:09<00:00, 19.59it/s]\n",
      "100%|██████████| 6/6 [00:00<00:00,  7.16it/s]\n",
      "100%|██████████| 6/6 [00:00<00:00,  6.85it/s]\n"
     ]
    },
    {
     "output_type": "stream",
     "name": "stdout",
     "text": [
      "\n",
      "\n",
      "--------------------------------------------------\n",
      "Epoch  12\n",
      "Training Loss: 0.0205, Validation Loss: 0.0133\n",
      "Validation Results: \n",
      "Weighted Accuracy: 0.3915, Unweighted Accuracy: 0.4947\n",
      "Weighted F1-Score: 0.4830, Unweighted F1-Score: 0.4000,\n",
      "Test Results: \n",
      "Weighted Accuracy: 0.4259, Unweighted Accuracy: 0.5027\n",
      "Weighted F1-Score: 0.5019, Unweighted F1-Score: 0.4509,\n",
      "--------------------------------------------------\n",
      "\n",
      "\n"
     ]
    },
    {
     "output_type": "stream",
     "name": "stderr",
     "text": [
      "100%|██████████| 188/188 [00:09<00:00, 19.66it/s]\n",
      "100%|██████████| 6/6 [00:00<00:00,  7.09it/s]\n",
      "100%|██████████| 6/6 [00:00<00:00,  6.99it/s]\n"
     ]
    },
    {
     "output_type": "stream",
     "name": "stdout",
     "text": [
      "Epoch 00013: reducing learning rate of group 0 to 1.0000e-05.\n",
      "\n",
      "\n",
      "--------------------------------------------------\n",
      "Epoch  13\n",
      "Training Loss: 0.0178, Validation Loss: 0.0141\n",
      "Validation Results: \n",
      "Weighted Accuracy: 0.4060, Unweighted Accuracy: 0.4719\n",
      "Weighted F1-Score: 0.4698, Unweighted F1-Score: 0.3979,\n",
      "Test Results: \n",
      "Weighted Accuracy: 0.4608, Unweighted Accuracy: 0.4840\n",
      "Weighted F1-Score: 0.4858, Unweighted F1-Score: 0.4619,\n",
      "--------------------------------------------------\n",
      "\n",
      "\n"
     ]
    },
    {
     "output_type": "stream",
     "name": "stderr",
     "text": [
      "100%|██████████| 188/188 [00:09<00:00, 19.72it/s]\n",
      "100%|██████████| 6/6 [00:00<00:00,  7.01it/s]\n",
      "100%|██████████| 6/6 [00:00<00:00,  6.97it/s]\n"
     ]
    },
    {
     "output_type": "stream",
     "name": "stdout",
     "text": [
      "Saved model at epoch 14 with validation unweighted accuracy of 50.27%\n",
      "\n",
      "\n",
      "--------------------------------------------------\n",
      "Epoch  14\n",
      "Training Loss: 0.0123, Validation Loss: 0.0140\n",
      "Validation Results: \n",
      "Weighted Accuracy: 0.4307, Unweighted Accuracy: 0.5027\n",
      "Weighted F1-Score: 0.4990, Unweighted F1-Score: 0.4336,\n",
      "Test Results: \n",
      "Weighted Accuracy: 0.4620, Unweighted Accuracy: 0.5053\n",
      "Weighted F1-Score: 0.5074, Unweighted F1-Score: 0.4768,\n",
      "--------------------------------------------------\n",
      "\n",
      "\n"
     ]
    },
    {
     "output_type": "stream",
     "name": "stderr",
     "text": [
      "100%|██████████| 188/188 [00:09<00:00, 20.01it/s]\n",
      "100%|██████████| 6/6 [00:00<00:00,  6.99it/s]\n",
      "100%|██████████| 6/6 [00:00<00:00,  7.04it/s]\n"
     ]
    },
    {
     "output_type": "stream",
     "name": "stdout",
     "text": [
      "\n",
      "\n",
      "--------------------------------------------------\n",
      "Epoch  15\n",
      "Training Loss: 0.0112, Validation Loss: 0.0143\n",
      "Validation Results: \n",
      "Weighted Accuracy: 0.4344, Unweighted Accuracy: 0.5013\n",
      "Weighted F1-Score: 0.4990, Unweighted F1-Score: 0.4358,\n",
      "Test Results: \n",
      "Weighted Accuracy: 0.4491, Unweighted Accuracy: 0.4987\n",
      "Weighted F1-Score: 0.4997, Unweighted F1-Score: 0.4609,\n",
      "--------------------------------------------------\n",
      "\n",
      "\n"
     ]
    },
    {
     "output_type": "stream",
     "name": "stderr",
     "text": [
      "100%|██████████| 188/188 [00:09<00:00, 19.73it/s]\n",
      "100%|██████████| 6/6 [00:00<00:00,  7.03it/s]\n",
      "100%|██████████| 6/6 [00:00<00:00,  7.11it/s]\n"
     ]
    },
    {
     "output_type": "stream",
     "name": "stdout",
     "text": [
      "\n",
      "\n",
      "--------------------------------------------------\n",
      "Epoch  16\n",
      "Training Loss: 0.0106, Validation Loss: 0.0145\n",
      "Validation Results: \n",
      "Weighted Accuracy: 0.4317, Unweighted Accuracy: 0.5000\n",
      "Weighted F1-Score: 0.4968, Unweighted F1-Score: 0.4333,\n",
      "Test Results: \n",
      "Weighted Accuracy: 0.4502, Unweighted Accuracy: 0.4960\n",
      "Weighted F1-Score: 0.4981, Unweighted F1-Score: 0.4610,\n",
      "--------------------------------------------------\n",
      "\n",
      "\n"
     ]
    },
    {
     "output_type": "stream",
     "name": "stderr",
     "text": [
      "100%|██████████| 188/188 [00:09<00:00, 20.05it/s]\n",
      "100%|██████████| 6/6 [00:00<00:00,  6.84it/s]\n",
      "100%|██████████| 6/6 [00:00<00:00,  6.83it/s]\n"
     ]
    },
    {
     "output_type": "stream",
     "name": "stdout",
     "text": [
      "\n",
      "\n",
      "--------------------------------------------------\n",
      "Epoch  17\n",
      "Training Loss: 0.0102, Validation Loss: 0.0149\n",
      "Validation Results: \n",
      "Weighted Accuracy: 0.4330, Unweighted Accuracy: 0.4960\n",
      "Weighted F1-Score: 0.4930, Unweighted F1-Score: 0.4346,\n",
      "Test Results: \n",
      "Weighted Accuracy: 0.4569, Unweighted Accuracy: 0.4973\n",
      "Weighted F1-Score: 0.4990, Unweighted F1-Score: 0.4648,\n",
      "--------------------------------------------------\n",
      "\n",
      "\n"
     ]
    },
    {
     "output_type": "stream",
     "name": "stderr",
     "text": [
      "100%|██████████| 188/188 [00:09<00:00, 19.99it/s]\n",
      "100%|██████████| 6/6 [00:00<00:00,  7.03it/s]\n",
      "100%|██████████| 6/6 [00:00<00:00,  6.89it/s]\n"
     ]
    },
    {
     "output_type": "stream",
     "name": "stdout",
     "text": [
      "\n",
      "\n",
      "--------------------------------------------------\n",
      "Epoch  18\n",
      "Training Loss: 0.0097, Validation Loss: 0.0151\n",
      "Validation Results: \n",
      "Weighted Accuracy: 0.4316, Unweighted Accuracy: 0.4987\n",
      "Weighted F1-Score: 0.4957, Unweighted F1-Score: 0.4341,\n",
      "Test Results: \n",
      "Weighted Accuracy: 0.4462, Unweighted Accuracy: 0.4933\n",
      "Weighted F1-Score: 0.4952, Unweighted F1-Score: 0.4565,\n",
      "--------------------------------------------------\n",
      "\n",
      "\n"
     ]
    },
    {
     "output_type": "stream",
     "name": "stderr",
     "text": [
      "100%|██████████| 188/188 [00:09<00:00, 19.92it/s]\n",
      "100%|██████████| 6/6 [00:00<00:00,  7.10it/s]\n",
      "100%|██████████| 6/6 [00:00<00:00,  6.83it/s]\n"
     ]
    },
    {
     "output_type": "stream",
     "name": "stdout",
     "text": [
      "Epoch 00019: reducing learning rate of group 0 to 1.0000e-06.\n",
      "\n",
      "\n",
      "--------------------------------------------------\n",
      "Epoch  19\n",
      "Training Loss: 0.0093, Validation Loss: 0.0152\n",
      "Validation Results: \n",
      "Weighted Accuracy: 0.4320, Unweighted Accuracy: 0.4947\n",
      "Weighted F1-Score: 0.4926, Unweighted F1-Score: 0.4327,\n",
      "Test Results: \n",
      "Weighted Accuracy: 0.4538, Unweighted Accuracy: 0.4893\n",
      "Weighted F1-Score: 0.4916, Unweighted F1-Score: 0.4599,\n",
      "--------------------------------------------------\n",
      "\n",
      "\n"
     ]
    },
    {
     "output_type": "stream",
     "name": "stderr",
     "text": [
      "100%|██████████| 188/188 [00:09<00:00, 19.43it/s]\n",
      "100%|██████████| 6/6 [00:00<00:00,  7.16it/s]\n",
      "100%|██████████| 6/6 [00:00<00:00,  7.11it/s]\n"
     ]
    },
    {
     "output_type": "stream",
     "name": "stdout",
     "text": [
      "\n",
      "\n",
      "--------------------------------------------------\n",
      "Epoch  20\n",
      "Training Loss: 0.0086, Validation Loss: 0.0153\n",
      "Validation Results: \n",
      "Weighted Accuracy: 0.4292, Unweighted Accuracy: 0.4947\n",
      "Weighted F1-Score: 0.4923, Unweighted F1-Score: 0.4309,\n",
      "Test Results: \n",
      "Weighted Accuracy: 0.4506, Unweighted Accuracy: 0.4933\n",
      "Weighted F1-Score: 0.4947, Unweighted F1-Score: 0.4589,\n",
      "--------------------------------------------------\n",
      "\n",
      "\n"
     ]
    },
    {
     "output_type": "stream",
     "name": "stderr",
     "text": [
      "100%|██████████| 188/188 [00:09<00:00, 19.85it/s]\n",
      "100%|██████████| 6/6 [00:00<00:00,  6.88it/s]\n",
      "100%|██████████| 6/6 [00:00<00:00,  6.96it/s]\n"
     ]
    },
    {
     "output_type": "stream",
     "name": "stdout",
     "text": [
      "\n",
      "\n",
      "--------------------------------------------------\n",
      "Epoch  21\n",
      "Training Loss: 0.0086, Validation Loss: 0.0153\n",
      "Validation Results: \n",
      "Weighted Accuracy: 0.4299, Unweighted Accuracy: 0.4960\n",
      "Weighted F1-Score: 0.4937, Unweighted F1-Score: 0.4317,\n",
      "Test Results: \n",
      "Weighted Accuracy: 0.4447, Unweighted Accuracy: 0.4880\n",
      "Weighted F1-Score: 0.4895, Unweighted F1-Score: 0.4537,\n",
      "--------------------------------------------------\n",
      "\n",
      "\n"
     ]
    },
    {
     "output_type": "stream",
     "name": "stderr",
     "text": [
      "100%|██████████| 188/188 [00:09<00:00, 19.76it/s]\n",
      "100%|██████████| 6/6 [00:00<00:00,  7.07it/s]\n",
      "100%|██████████| 6/6 [00:00<00:00,  6.89it/s]\n"
     ]
    },
    {
     "output_type": "stream",
     "name": "stdout",
     "text": [
      "\n",
      "\n",
      "--------------------------------------------------\n",
      "Epoch  22\n",
      "Training Loss: 0.0085, Validation Loss: 0.0154\n",
      "Validation Results: \n",
      "Weighted Accuracy: 0.4292, Unweighted Accuracy: 0.4947\n",
      "Weighted F1-Score: 0.4923, Unweighted F1-Score: 0.4310,\n",
      "Test Results: \n",
      "Weighted Accuracy: 0.4470, Unweighted Accuracy: 0.4920\n",
      "Weighted F1-Score: 0.4934, Unweighted F1-Score: 0.4560,\n",
      "--------------------------------------------------\n",
      "\n",
      "\n"
     ]
    },
    {
     "output_type": "stream",
     "name": "stderr",
     "text": [
      "100%|██████████| 188/188 [00:09<00:00, 19.59it/s]\n",
      "100%|██████████| 6/6 [00:00<00:00,  7.11it/s]\n",
      "100%|██████████| 6/6 [00:00<00:00,  7.09it/s]\n"
     ]
    },
    {
     "output_type": "stream",
     "name": "stdout",
     "text": [
      "\n",
      "\n",
      "--------------------------------------------------\n",
      "Epoch  23\n",
      "Training Loss: 0.0085, Validation Loss: 0.0154\n",
      "Validation Results: \n",
      "Weighted Accuracy: 0.4299, Unweighted Accuracy: 0.4960\n",
      "Weighted F1-Score: 0.4937, Unweighted F1-Score: 0.4319,\n",
      "Test Results: \n",
      "Weighted Accuracy: 0.4440, Unweighted Accuracy: 0.4866\n",
      "Weighted F1-Score: 0.4882, Unweighted F1-Score: 0.4530,\n",
      "--------------------------------------------------\n",
      "\n",
      "\n"
     ]
    },
    {
     "output_type": "stream",
     "name": "stderr",
     "text": [
      "100%|██████████| 188/188 [00:09<00:00, 19.76it/s]\n",
      "100%|██████████| 6/6 [00:00<00:00,  7.01it/s]\n",
      "100%|██████████| 6/6 [00:00<00:00,  7.07it/s]\n"
     ]
    },
    {
     "output_type": "stream",
     "name": "stdout",
     "text": [
      "\n",
      "\n",
      "--------------------------------------------------\n",
      "Epoch  24\n",
      "Training Loss: 0.0085, Validation Loss: 0.0154\n",
      "Validation Results: \n",
      "Weighted Accuracy: 0.4307, Unweighted Accuracy: 0.4973\n",
      "Weighted F1-Score: 0.4949, Unweighted F1-Score: 0.4328,\n",
      "Test Results: \n",
      "Weighted Accuracy: 0.4489, Unweighted Accuracy: 0.4906\n",
      "Weighted F1-Score: 0.4923, Unweighted F1-Score: 0.4572,\n",
      "--------------------------------------------------\n",
      "\n",
      "\n",
      "Early stopped. No improvement in validation loss for 10 consecutive epoches.\n"
     ]
    },
    {
     "output_type": "stream",
     "name": "stderr",
     "text": [
      "100%|██████████| 188/188 [00:10<00:00, 17.34it/s]\n",
      "100%|██████████| 6/6 [00:00<00:00,  6.75it/s]\n",
      "100%|██████████| 6/6 [00:00<00:00,  6.75it/s]\n"
     ]
    },
    {
     "output_type": "stream",
     "name": "stdout",
     "text": [
      "Saved model at epoch 1 with validation unweighted accuracy of 30.88%\n",
      "\n",
      "\n",
      "--------------------------------------------------\n",
      "Epoch  1\n",
      "Training Loss: 0.0547, Validation Loss: 0.0136\n",
      "Validation Results: \n",
      "Weighted Accuracy: 0.2382, Unweighted Accuracy: 0.3088\n",
      "Weighted F1-Score: 0.2537, Unweighted F1-Score: 0.1931,\n",
      "Test Results: \n",
      "Weighted Accuracy: 0.2536, Unweighted Accuracy: 0.3088\n",
      "Weighted F1-Score: 0.2533, Unweighted F1-Score: 0.1913,\n",
      "--------------------------------------------------\n",
      "\n",
      "\n"
     ]
    },
    {
     "output_type": "stream",
     "name": "stderr",
     "text": [
      "100%|██████████| 188/188 [00:09<00:00, 19.21it/s]\n",
      "100%|██████████| 6/6 [00:00<00:00,  6.91it/s]\n",
      "100%|██████████| 6/6 [00:00<00:00,  6.74it/s]\n"
     ]
    },
    {
     "output_type": "stream",
     "name": "stdout",
     "text": [
      "Saved model at epoch 2 with validation unweighted accuracy of 42.51%\n",
      "\n",
      "\n",
      "--------------------------------------------------\n",
      "Epoch  2\n",
      "Training Loss: 0.0466, Validation Loss: 0.0120\n",
      "Validation Results: \n",
      "Weighted Accuracy: 0.3058, Unweighted Accuracy: 0.4251\n",
      "Weighted F1-Score: 0.3940, Unweighted F1-Score: 0.3093,\n",
      "Test Results: \n",
      "Weighted Accuracy: 0.2865, Unweighted Accuracy: 0.4171\n",
      "Weighted F1-Score: 0.3770, Unweighted F1-Score: 0.2817,\n",
      "--------------------------------------------------\n",
      "\n",
      "\n"
     ]
    },
    {
     "output_type": "stream",
     "name": "stderr",
     "text": [
      "100%|██████████| 188/188 [00:09<00:00, 19.29it/s]\n",
      "100%|██████████| 6/6 [00:00<00:00,  6.45it/s]\n",
      "100%|██████████| 6/6 [00:00<00:00,  6.77it/s]\n"
     ]
    },
    {
     "output_type": "stream",
     "name": "stdout",
     "text": [
      "Saved model at epoch 3 with validation unweighted accuracy of 44.39%\n",
      "\n",
      "\n",
      "--------------------------------------------------\n",
      "Epoch  3\n",
      "Training Loss: 0.0418, Validation Loss: 0.0117\n",
      "Validation Results: \n",
      "Weighted Accuracy: 0.3945, Unweighted Accuracy: 0.4439\n",
      "Weighted F1-Score: 0.4199, Unweighted F1-Score: 0.3748,\n",
      "Test Results: \n",
      "Weighted Accuracy: 0.3939, Unweighted Accuracy: 0.4545\n",
      "Weighted F1-Score: 0.4355, Unweighted F1-Score: 0.3631,\n",
      "--------------------------------------------------\n",
      "\n",
      "\n"
     ]
    },
    {
     "output_type": "stream",
     "name": "stderr",
     "text": [
      "100%|██████████| 188/188 [00:09<00:00, 18.95it/s]\n",
      "100%|██████████| 6/6 [00:00<00:00,  6.94it/s]\n",
      "100%|██████████| 6/6 [00:00<00:00,  6.75it/s]\n"
     ]
    },
    {
     "output_type": "stream",
     "name": "stdout",
     "text": [
      "Saved model at epoch 4 with validation unweighted accuracy of 47.59%\n",
      "\n",
      "\n",
      "--------------------------------------------------\n",
      "Epoch  4\n",
      "Training Loss: 0.0387, Validation Loss: 0.0108\n",
      "Validation Results: \n",
      "Weighted Accuracy: 0.4298, Unweighted Accuracy: 0.4759\n",
      "Weighted F1-Score: 0.4669, Unweighted F1-Score: 0.4366,\n",
      "Test Results: \n",
      "Weighted Accuracy: 0.4238, Unweighted Accuracy: 0.4479\n",
      "Weighted F1-Score: 0.4389, Unweighted F1-Score: 0.4058,\n",
      "--------------------------------------------------\n",
      "\n",
      "\n"
     ]
    },
    {
     "output_type": "stream",
     "name": "stderr",
     "text": [
      "100%|██████████| 188/188 [00:09<00:00, 19.07it/s]\n",
      "100%|██████████| 6/6 [00:00<00:00,  6.96it/s]\n",
      "100%|██████████| 6/6 [00:00<00:00,  6.78it/s]\n"
     ]
    },
    {
     "output_type": "stream",
     "name": "stdout",
     "text": [
      "Saved model at epoch 5 with validation unweighted accuracy of 49.47%\n",
      "\n",
      "\n",
      "--------------------------------------------------\n",
      "Epoch  5\n",
      "Training Loss: 0.0364, Validation Loss: 0.0107\n",
      "Validation Results: \n",
      "Weighted Accuracy: 0.4506, Unweighted Accuracy: 0.4947\n",
      "Weighted F1-Score: 0.4820, Unweighted F1-Score: 0.4465,\n",
      "Test Results: \n",
      "Weighted Accuracy: 0.4291, Unweighted Accuracy: 0.4679\n",
      "Weighted F1-Score: 0.4607, Unweighted F1-Score: 0.4001,\n",
      "--------------------------------------------------\n",
      "\n",
      "\n"
     ]
    },
    {
     "output_type": "stream",
     "name": "stderr",
     "text": [
      "100%|██████████| 188/188 [00:09<00:00, 19.02it/s]\n",
      "100%|██████████| 6/6 [00:00<00:00,  6.93it/s]\n",
      "100%|██████████| 6/6 [00:00<00:00,  6.78it/s]\n"
     ]
    },
    {
     "output_type": "stream",
     "name": "stdout",
     "text": [
      "\n",
      "\n",
      "--------------------------------------------------\n",
      "Epoch  6\n",
      "Training Loss: 0.0339, Validation Loss: 0.0106\n",
      "Validation Results: \n",
      "Weighted Accuracy: 0.4444, Unweighted Accuracy: 0.4880\n",
      "Weighted F1-Score: 0.4828, Unweighted F1-Score: 0.4456,\n",
      "Test Results: \n",
      "Weighted Accuracy: 0.4861, Unweighted Accuracy: 0.4920\n",
      "Weighted F1-Score: 0.4917, Unweighted F1-Score: 0.4623,\n",
      "--------------------------------------------------\n",
      "\n",
      "\n"
     ]
    },
    {
     "output_type": "stream",
     "name": "stderr",
     "text": [
      "100%|██████████| 188/188 [00:09<00:00, 19.22it/s]\n",
      "100%|██████████| 6/6 [00:00<00:00,  6.99it/s]\n",
      "100%|██████████| 6/6 [00:00<00:00,  6.84it/s]\n"
     ]
    },
    {
     "output_type": "stream",
     "name": "stdout",
     "text": [
      "Saved model at epoch 7 with validation unweighted accuracy of 50.27%\n",
      "\n",
      "\n",
      "--------------------------------------------------\n",
      "Epoch  7\n",
      "Training Loss: 0.0320, Validation Loss: 0.0106\n",
      "Validation Results: \n",
      "Weighted Accuracy: 0.4806, Unweighted Accuracy: 0.5027\n",
      "Weighted F1-Score: 0.4962, Unweighted F1-Score: 0.4807,\n",
      "Test Results: \n",
      "Weighted Accuracy: 0.4908, Unweighted Accuracy: 0.4947\n",
      "Weighted F1-Score: 0.4897, Unweighted F1-Score: 0.4595,\n",
      "--------------------------------------------------\n",
      "\n",
      "\n"
     ]
    },
    {
     "output_type": "stream",
     "name": "stderr",
     "text": [
      "100%|██████████| 188/188 [00:09<00:00, 19.17it/s]\n",
      "100%|██████████| 6/6 [00:00<00:00,  6.91it/s]\n",
      "100%|██████████| 6/6 [00:00<00:00,  6.95it/s]\n"
     ]
    },
    {
     "output_type": "stream",
     "name": "stdout",
     "text": [
      "Saved model at epoch 8 with validation unweighted accuracy of 50.53%\n",
      "\n",
      "\n",
      "--------------------------------------------------\n",
      "Epoch  8\n",
      "Training Loss: 0.0296, Validation Loss: 0.0106\n",
      "Validation Results: \n",
      "Weighted Accuracy: 0.4622, Unweighted Accuracy: 0.5053\n",
      "Weighted F1-Score: 0.5013, Unweighted F1-Score: 0.4778,\n",
      "Test Results: \n",
      "Weighted Accuracy: 0.5020, Unweighted Accuracy: 0.5241\n",
      "Weighted F1-Score: 0.5228, Unweighted F1-Score: 0.4794,\n",
      "--------------------------------------------------\n",
      "\n",
      "\n"
     ]
    },
    {
     "output_type": "stream",
     "name": "stderr",
     "text": [
      "100%|██████████| 188/188 [00:09<00:00, 19.11it/s]\n",
      "100%|██████████| 6/6 [00:00<00:00,  6.87it/s]\n",
      "100%|██████████| 6/6 [00:00<00:00,  7.01it/s]\n"
     ]
    },
    {
     "output_type": "stream",
     "name": "stdout",
     "text": [
      "\n",
      "\n",
      "--------------------------------------------------\n",
      "Epoch  9\n",
      "Training Loss: 0.0274, Validation Loss: 0.0111\n",
      "Validation Results: \n",
      "Weighted Accuracy: 0.4350, Unweighted Accuracy: 0.4973\n",
      "Weighted F1-Score: 0.4946, Unweighted F1-Score: 0.4432,\n",
      "Test Results: \n",
      "Weighted Accuracy: 0.4898, Unweighted Accuracy: 0.5227\n",
      "Weighted F1-Score: 0.5222, Unweighted F1-Score: 0.4859,\n",
      "--------------------------------------------------\n",
      "\n",
      "\n"
     ]
    },
    {
     "output_type": "stream",
     "name": "stderr",
     "text": [
      "100%|██████████| 188/188 [00:09<00:00, 19.14it/s]\n",
      "100%|██████████| 6/6 [00:00<00:00,  7.02it/s]\n",
      "100%|██████████| 6/6 [00:00<00:00,  6.81it/s]\n"
     ]
    },
    {
     "output_type": "stream",
     "name": "stdout",
     "text": [
      "\n",
      "\n",
      "--------------------------------------------------\n",
      "Epoch  10\n",
      "Training Loss: 0.0250, Validation Loss: 0.0113\n",
      "Validation Results: \n",
      "Weighted Accuracy: 0.4362, Unweighted Accuracy: 0.4906\n",
      "Weighted F1-Score: 0.4861, Unweighted F1-Score: 0.4369,\n",
      "Test Results: \n",
      "Weighted Accuracy: 0.4895, Unweighted Accuracy: 0.5214\n",
      "Weighted F1-Score: 0.5216, Unweighted F1-Score: 0.4801,\n",
      "--------------------------------------------------\n",
      "\n",
      "\n"
     ]
    },
    {
     "output_type": "stream",
     "name": "stderr",
     "text": [
      "100%|██████████| 188/188 [00:09<00:00, 19.03it/s]\n",
      "100%|██████████| 6/6 [00:00<00:00,  6.94it/s]\n",
      "100%|██████████| 6/6 [00:00<00:00,  6.84it/s]\n"
     ]
    },
    {
     "output_type": "stream",
     "name": "stdout",
     "text": [
      "\n",
      "\n",
      "--------------------------------------------------\n",
      "Epoch  11\n",
      "Training Loss: 0.0227, Validation Loss: 0.0122\n",
      "Validation Results: \n",
      "Weighted Accuracy: 0.4280, Unweighted Accuracy: 0.5040\n",
      "Weighted F1-Score: 0.4940, Unweighted F1-Score: 0.4380,\n",
      "Test Results: \n",
      "Weighted Accuracy: 0.4894, Unweighted Accuracy: 0.5294\n",
      "Weighted F1-Score: 0.5260, Unweighted F1-Score: 0.4857,\n",
      "--------------------------------------------------\n",
      "\n",
      "\n"
     ]
    },
    {
     "output_type": "stream",
     "name": "stderr",
     "text": [
      "100%|██████████| 188/188 [00:09<00:00, 19.04it/s]\n",
      "100%|██████████| 6/6 [00:00<00:00,  7.13it/s]\n",
      "100%|██████████| 6/6 [00:00<00:00,  6.91it/s]\n"
     ]
    },
    {
     "output_type": "stream",
     "name": "stdout",
     "text": [
      "\n",
      "\n",
      "--------------------------------------------------\n",
      "Epoch  12\n",
      "Training Loss: 0.0205, Validation Loss: 0.0126\n",
      "Validation Results: \n",
      "Weighted Accuracy: 0.4500, Unweighted Accuracy: 0.5027\n",
      "Weighted F1-Score: 0.4984, Unweighted F1-Score: 0.4580,\n",
      "Test Results: \n",
      "Weighted Accuracy: 0.4952, Unweighted Accuracy: 0.5147\n",
      "Weighted F1-Score: 0.5115, Unweighted F1-Score: 0.4874,\n",
      "--------------------------------------------------\n",
      "\n",
      "\n"
     ]
    },
    {
     "output_type": "stream",
     "name": "stderr",
     "text": [
      "100%|██████████| 188/188 [00:09<00:00, 18.99it/s]\n",
      "100%|██████████| 6/6 [00:00<00:00,  7.01it/s]\n",
      "100%|██████████| 6/6 [00:00<00:00,  6.85it/s]\n"
     ]
    },
    {
     "output_type": "stream",
     "name": "stdout",
     "text": [
      "Epoch 00013: reducing learning rate of group 0 to 1.0000e-05.\n",
      "\n",
      "\n",
      "--------------------------------------------------\n",
      "Epoch  13\n",
      "Training Loss: 0.0174, Validation Loss: 0.0130\n",
      "Validation Results: \n",
      "Weighted Accuracy: 0.4326, Unweighted Accuracy: 0.4933\n",
      "Weighted F1-Score: 0.4909, Unweighted F1-Score: 0.4405,\n",
      "Test Results: \n",
      "Weighted Accuracy: 0.4735, Unweighted Accuracy: 0.5000\n",
      "Weighted F1-Score: 0.5001, Unweighted F1-Score: 0.4655,\n",
      "--------------------------------------------------\n",
      "\n",
      "\n"
     ]
    },
    {
     "output_type": "stream",
     "name": "stderr",
     "text": [
      "100%|██████████| 188/188 [00:09<00:00, 18.97it/s]\n",
      "100%|██████████| 6/6 [00:00<00:00,  6.87it/s]\n",
      "100%|██████████| 6/6 [00:00<00:00,  6.65it/s]\n"
     ]
    },
    {
     "output_type": "stream",
     "name": "stdout",
     "text": [
      "Saved model at epoch 14 with validation unweighted accuracy of 50.94%\n",
      "\n",
      "\n",
      "--------------------------------------------------\n",
      "Epoch  14\n",
      "Training Loss: 0.0125, Validation Loss: 0.0132\n",
      "Validation Results: \n",
      "Weighted Accuracy: 0.4620, Unweighted Accuracy: 0.5094\n",
      "Weighted F1-Score: 0.5081, Unweighted F1-Score: 0.4770,\n",
      "Test Results: \n",
      "Weighted Accuracy: 0.5079, Unweighted Accuracy: 0.5187\n",
      "Weighted F1-Score: 0.5202, Unweighted F1-Score: 0.4907,\n",
      "--------------------------------------------------\n",
      "\n",
      "\n"
     ]
    },
    {
     "output_type": "stream",
     "name": "stderr",
     "text": [
      "100%|██████████| 188/188 [00:09<00:00, 19.34it/s]\n",
      "100%|██████████| 6/6 [00:00<00:00,  6.86it/s]\n",
      "100%|██████████| 6/6 [00:00<00:00,  6.78it/s]\n"
     ]
    },
    {
     "output_type": "stream",
     "name": "stdout",
     "text": [
      "\n",
      "\n",
      "--------------------------------------------------\n",
      "Epoch  15\n",
      "Training Loss: 0.0114, Validation Loss: 0.0135\n",
      "Validation Results: \n",
      "Weighted Accuracy: 0.4420, Unweighted Accuracy: 0.4987\n",
      "Weighted F1-Score: 0.4956, Unweighted F1-Score: 0.4561,\n",
      "Test Results: \n",
      "Weighted Accuracy: 0.4778, Unweighted Accuracy: 0.5160\n",
      "Weighted F1-Score: 0.5166, Unweighted F1-Score: 0.4725,\n",
      "--------------------------------------------------\n",
      "\n",
      "\n"
     ]
    },
    {
     "output_type": "stream",
     "name": "stderr",
     "text": [
      "100%|██████████| 188/188 [00:09<00:00, 18.89it/s]\n",
      "100%|██████████| 6/6 [00:00<00:00,  6.85it/s]\n",
      "100%|██████████| 6/6 [00:00<00:00,  6.74it/s]\n"
     ]
    },
    {
     "output_type": "stream",
     "name": "stdout",
     "text": [
      "\n",
      "\n",
      "--------------------------------------------------\n",
      "Epoch  16\n",
      "Training Loss: 0.0107, Validation Loss: 0.0138\n",
      "Validation Results: \n",
      "Weighted Accuracy: 0.4386, Unweighted Accuracy: 0.4947\n",
      "Weighted F1-Score: 0.4923, Unweighted F1-Score: 0.4538,\n",
      "Test Results: \n",
      "Weighted Accuracy: 0.4818, Unweighted Accuracy: 0.5201\n",
      "Weighted F1-Score: 0.5200, Unweighted F1-Score: 0.4773,\n",
      "--------------------------------------------------\n",
      "\n",
      "\n"
     ]
    },
    {
     "output_type": "stream",
     "name": "stderr",
     "text": [
      "100%|██████████| 188/188 [00:09<00:00, 19.18it/s]\n",
      "100%|██████████| 6/6 [00:00<00:00,  6.83it/s]\n",
      "100%|██████████| 6/6 [00:00<00:00,  6.76it/s]\n"
     ]
    },
    {
     "output_type": "stream",
     "name": "stdout",
     "text": [
      "\n",
      "\n",
      "--------------------------------------------------\n",
      "Epoch  17\n",
      "Training Loss: 0.0102, Validation Loss: 0.0142\n",
      "Validation Results: \n",
      "Weighted Accuracy: 0.4458, Unweighted Accuracy: 0.4973\n",
      "Weighted F1-Score: 0.4951, Unweighted F1-Score: 0.4578,\n",
      "Test Results: \n",
      "Weighted Accuracy: 0.4649, Unweighted Accuracy: 0.5053\n",
      "Weighted F1-Score: 0.5066, Unweighted F1-Score: 0.4633,\n",
      "--------------------------------------------------\n",
      "\n",
      "\n",
      "Early stopped. No improvement in validation loss for 10 consecutive epoches.\n"
     ]
    },
    {
     "output_type": "stream",
     "name": "stderr",
     "text": [
      "100%|██████████| 188/188 [00:09<00:00, 19.64it/s]\n",
      "100%|██████████| 6/6 [00:00<00:00,  6.91it/s]\n",
      "100%|██████████| 6/6 [00:00<00:00,  6.90it/s]\n"
     ]
    },
    {
     "output_type": "stream",
     "name": "stdout",
     "text": [
      "Saved model at epoch 1 with validation unweighted accuracy of 37.83%\n",
      "\n",
      "\n",
      "--------------------------------------------------\n",
      "Epoch  1\n",
      "Training Loss: 0.0549, Validation Loss: 0.0130\n",
      "Validation Results: \n",
      "Weighted Accuracy: 0.2904, Unweighted Accuracy: 0.3783\n",
      "Weighted F1-Score: 0.3424, Unweighted F1-Score: 0.2698,\n",
      "Test Results: \n",
      "Weighted Accuracy: 0.2918, Unweighted Accuracy: 0.3783\n",
      "Weighted F1-Score: 0.3409, Unweighted F1-Score: 0.2667,\n",
      "--------------------------------------------------\n",
      "\n",
      "\n"
     ]
    },
    {
     "output_type": "stream",
     "name": "stderr",
     "text": [
      "100%|██████████| 188/188 [00:09<00:00, 19.53it/s]\n",
      "100%|██████████| 6/6 [00:00<00:00,  7.01it/s]\n",
      "100%|██████████| 6/6 [00:00<00:00,  6.87it/s]\n"
     ]
    },
    {
     "output_type": "stream",
     "name": "stdout",
     "text": [
      "Saved model at epoch 2 with validation unweighted accuracy of 42.91%\n",
      "\n",
      "\n",
      "--------------------------------------------------\n",
      "Epoch  2\n",
      "Training Loss: 0.0465, Validation Loss: 0.0120\n",
      "Validation Results: \n",
      "Weighted Accuracy: 0.3334, Unweighted Accuracy: 0.4291\n",
      "Weighted F1-Score: 0.4053, Unweighted F1-Score: 0.3171,\n",
      "Test Results: \n",
      "Weighted Accuracy: 0.3255, Unweighted Accuracy: 0.4198\n",
      "Weighted F1-Score: 0.4012, Unweighted F1-Score: 0.3137,\n",
      "--------------------------------------------------\n",
      "\n",
      "\n"
     ]
    },
    {
     "output_type": "stream",
     "name": "stderr",
     "text": [
      "100%|██████████| 188/188 [00:09<00:00, 19.72it/s]\n",
      "100%|██████████| 6/6 [00:00<00:00,  6.91it/s]\n",
      "100%|██████████| 6/6 [00:00<00:00,  6.79it/s]\n"
     ]
    },
    {
     "output_type": "stream",
     "name": "stdout",
     "text": [
      "Saved model at epoch 3 with validation unweighted accuracy of 45.45%\n",
      "\n",
      "\n",
      "--------------------------------------------------\n",
      "Epoch  3\n",
      "Training Loss: 0.0422, Validation Loss: 0.0115\n",
      "Validation Results: \n",
      "Weighted Accuracy: 0.3785, Unweighted Accuracy: 0.4545\n",
      "Weighted F1-Score: 0.4396, Unweighted F1-Score: 0.3766,\n",
      "Test Results: \n",
      "Weighted Accuracy: 0.3820, Unweighted Accuracy: 0.4626\n",
      "Weighted F1-Score: 0.4489, Unweighted F1-Score: 0.3641,\n",
      "--------------------------------------------------\n",
      "\n",
      "\n"
     ]
    },
    {
     "output_type": "stream",
     "name": "stderr",
     "text": [
      "100%|██████████| 188/188 [00:09<00:00, 20.02it/s]\n",
      "100%|██████████| 6/6 [00:00<00:00,  7.11it/s]\n",
      "100%|██████████| 6/6 [00:00<00:00,  6.84it/s]\n"
     ]
    },
    {
     "output_type": "stream",
     "name": "stdout",
     "text": [
      "Saved model at epoch 4 with validation unweighted accuracy of 47.86%\n",
      "\n",
      "\n",
      "--------------------------------------------------\n",
      "Epoch  4\n",
      "Training Loss: 0.0395, Validation Loss: 0.0113\n",
      "Validation Results: \n",
      "Weighted Accuracy: 0.4344, Unweighted Accuracy: 0.4786\n",
      "Weighted F1-Score: 0.4737, Unweighted F1-Score: 0.4383,\n",
      "Test Results: \n",
      "Weighted Accuracy: 0.4086, Unweighted Accuracy: 0.4666\n",
      "Weighted F1-Score: 0.4564, Unweighted F1-Score: 0.3916,\n",
      "--------------------------------------------------\n",
      "\n",
      "\n"
     ]
    },
    {
     "output_type": "stream",
     "name": "stderr",
     "text": [
      "100%|██████████| 188/188 [00:09<00:00, 19.74it/s]\n",
      "100%|██████████| 6/6 [00:00<00:00,  6.98it/s]\n",
      "100%|██████████| 6/6 [00:00<00:00,  6.89it/s]\n"
     ]
    },
    {
     "output_type": "stream",
     "name": "stdout",
     "text": [
      "\n",
      "\n",
      "--------------------------------------------------\n",
      "Epoch  5\n",
      "Training Loss: 0.0373, Validation Loss: 0.0110\n",
      "Validation Results: \n",
      "Weighted Accuracy: 0.4149, Unweighted Accuracy: 0.4746\n",
      "Weighted F1-Score: 0.4626, Unweighted F1-Score: 0.4265,\n",
      "Test Results: \n",
      "Weighted Accuracy: 0.4121, Unweighted Accuracy: 0.4893\n",
      "Weighted F1-Score: 0.4772, Unweighted F1-Score: 0.4029,\n",
      "--------------------------------------------------\n",
      "\n",
      "\n"
     ]
    },
    {
     "output_type": "stream",
     "name": "stderr",
     "text": [
      "100%|██████████| 188/188 [00:09<00:00, 19.56it/s]\n",
      "100%|██████████| 6/6 [00:00<00:00,  6.98it/s]\n",
      "100%|██████████| 6/6 [00:00<00:00,  6.89it/s]\n"
     ]
    },
    {
     "output_type": "stream",
     "name": "stdout",
     "text": [
      "\n",
      "\n",
      "--------------------------------------------------\n",
      "Epoch  6\n",
      "Training Loss: 0.0350, Validation Loss: 0.0113\n",
      "Validation Results: \n",
      "Weighted Accuracy: 0.4188, Unweighted Accuracy: 0.4773\n",
      "Weighted F1-Score: 0.4590, Unweighted F1-Score: 0.4170,\n",
      "Test Results: \n",
      "Weighted Accuracy: 0.4418, Unweighted Accuracy: 0.4893\n",
      "Weighted F1-Score: 0.4768, Unweighted F1-Score: 0.4257,\n",
      "--------------------------------------------------\n",
      "\n",
      "\n"
     ]
    },
    {
     "output_type": "stream",
     "name": "stderr",
     "text": [
      "100%|██████████| 188/188 [00:09<00:00, 19.64it/s]\n",
      "100%|██████████| 6/6 [00:00<00:00,  6.96it/s]\n",
      "100%|██████████| 6/6 [00:00<00:00,  6.82it/s]\n"
     ]
    },
    {
     "output_type": "stream",
     "name": "stdout",
     "text": [
      "Saved model at epoch 7 with validation unweighted accuracy of 50.27%\n",
      "\n",
      "\n",
      "--------------------------------------------------\n",
      "Epoch  7\n",
      "Training Loss: 0.0334, Validation Loss: 0.0109\n",
      "Validation Results: \n",
      "Weighted Accuracy: 0.4324, Unweighted Accuracy: 0.5027\n",
      "Weighted F1-Score: 0.4931, Unweighted F1-Score: 0.4345,\n",
      "Test Results: \n",
      "Weighted Accuracy: 0.4257, Unweighted Accuracy: 0.5134\n",
      "Weighted F1-Score: 0.5078, Unweighted F1-Score: 0.4227,\n",
      "--------------------------------------------------\n",
      "\n",
      "\n"
     ]
    },
    {
     "output_type": "stream",
     "name": "stderr",
     "text": [
      "100%|██████████| 188/188 [00:09<00:00, 19.74it/s]\n",
      "100%|██████████| 6/6 [00:00<00:00,  7.14it/s]\n",
      "100%|██████████| 6/6 [00:00<00:00,  6.85it/s]\n"
     ]
    },
    {
     "output_type": "stream",
     "name": "stdout",
     "text": [
      "\n",
      "\n",
      "--------------------------------------------------\n",
      "Epoch  8\n",
      "Training Loss: 0.0313, Validation Loss: 0.0116\n",
      "Validation Results: \n",
      "Weighted Accuracy: 0.4245, Unweighted Accuracy: 0.4773\n",
      "Weighted F1-Score: 0.4646, Unweighted F1-Score: 0.4142,\n",
      "Test Results: \n",
      "Weighted Accuracy: 0.4830, Unweighted Accuracy: 0.5067\n",
      "Weighted F1-Score: 0.5021, Unweighted F1-Score: 0.4788,\n",
      "--------------------------------------------------\n",
      "\n",
      "\n"
     ]
    },
    {
     "output_type": "stream",
     "name": "stderr",
     "text": [
      "100%|██████████| 188/188 [00:09<00:00, 19.67it/s]\n",
      "100%|██████████| 6/6 [00:00<00:00,  6.95it/s]\n",
      "100%|██████████| 6/6 [00:00<00:00,  6.80it/s]\n"
     ]
    },
    {
     "output_type": "stream",
     "name": "stdout",
     "text": [
      "Saved model at epoch 9 with validation unweighted accuracy of 51.74%\n",
      "\n",
      "\n",
      "--------------------------------------------------\n",
      "Epoch  9\n",
      "Training Loss: 0.0289, Validation Loss: 0.0108\n",
      "Validation Results: \n",
      "Weighted Accuracy: 0.4941, Unweighted Accuracy: 0.5174\n",
      "Weighted F1-Score: 0.5125, Unweighted F1-Score: 0.4918,\n",
      "Test Results: \n",
      "Weighted Accuracy: 0.5128, Unweighted Accuracy: 0.5201\n",
      "Weighted F1-Score: 0.5191, Unweighted F1-Score: 0.4808,\n",
      "--------------------------------------------------\n",
      "\n",
      "\n"
     ]
    },
    {
     "output_type": "stream",
     "name": "stderr",
     "text": [
      "100%|██████████| 188/188 [00:09<00:00, 19.73it/s]\n",
      "100%|██████████| 6/6 [00:00<00:00,  7.01it/s]\n",
      "100%|██████████| 6/6 [00:00<00:00,  6.75it/s]\n"
     ]
    },
    {
     "output_type": "stream",
     "name": "stdout",
     "text": [
      "\n",
      "\n",
      "--------------------------------------------------\n",
      "Epoch  10\n",
      "Training Loss: 0.0270, Validation Loss: 0.0113\n",
      "Validation Results: \n",
      "Weighted Accuracy: 0.4512, Unweighted Accuracy: 0.5107\n",
      "Weighted F1-Score: 0.5086, Unweighted F1-Score: 0.4627,\n",
      "Test Results: \n",
      "Weighted Accuracy: 0.4694, Unweighted Accuracy: 0.5147\n",
      "Weighted F1-Score: 0.5137, Unweighted F1-Score: 0.4671,\n",
      "--------------------------------------------------\n",
      "\n",
      "\n"
     ]
    },
    {
     "output_type": "stream",
     "name": "stderr",
     "text": [
      "100%|██████████| 188/188 [00:09<00:00, 19.61it/s]\n",
      "100%|██████████| 6/6 [00:00<00:00,  7.03it/s]\n",
      "100%|██████████| 6/6 [00:00<00:00,  6.88it/s]\n"
     ]
    },
    {
     "output_type": "stream",
     "name": "stdout",
     "text": [
      "\n",
      "\n",
      "--------------------------------------------------\n",
      "Epoch  11\n",
      "Training Loss: 0.0250, Validation Loss: 0.0118\n",
      "Validation Results: \n",
      "Weighted Accuracy: 0.4453, Unweighted Accuracy: 0.5160\n",
      "Weighted F1-Score: 0.5141, Unweighted F1-Score: 0.4599,\n",
      "Test Results: \n",
      "Weighted Accuracy: 0.4826, Unweighted Accuracy: 0.5214\n",
      "Weighted F1-Score: 0.5219, Unweighted F1-Score: 0.4796,\n",
      "--------------------------------------------------\n",
      "\n",
      "\n"
     ]
    },
    {
     "output_type": "stream",
     "name": "stderr",
     "text": [
      "100%|██████████| 188/188 [00:09<00:00, 20.12it/s]\n",
      "100%|██████████| 6/6 [00:00<00:00,  7.07it/s]\n",
      "100%|██████████| 6/6 [00:00<00:00,  6.98it/s]\n"
     ]
    },
    {
     "output_type": "stream",
     "name": "stdout",
     "text": [
      "\n",
      "\n",
      "--------------------------------------------------\n",
      "Epoch  12\n",
      "Training Loss: 0.0226, Validation Loss: 0.0120\n",
      "Validation Results: \n",
      "Weighted Accuracy: 0.4489, Unweighted Accuracy: 0.5160\n",
      "Weighted F1-Score: 0.5095, Unweighted F1-Score: 0.4553,\n",
      "Test Results: \n",
      "Weighted Accuracy: 0.4721, Unweighted Accuracy: 0.5040\n",
      "Weighted F1-Score: 0.5029, Unweighted F1-Score: 0.4661,\n",
      "--------------------------------------------------\n",
      "\n",
      "\n"
     ]
    },
    {
     "output_type": "stream",
     "name": "stderr",
     "text": [
      "100%|██████████| 188/188 [00:09<00:00, 20.01it/s]\n",
      "100%|██████████| 6/6 [00:00<00:00,  6.95it/s]\n",
      "100%|██████████| 6/6 [00:00<00:00,  6.91it/s]\n"
     ]
    },
    {
     "output_type": "stream",
     "name": "stdout",
     "text": [
      "\n",
      "\n",
      "--------------------------------------------------\n",
      "Epoch  13\n",
      "Training Loss: 0.0198, Validation Loss: 0.0124\n",
      "Validation Results: \n",
      "Weighted Accuracy: 0.4978, Unweighted Accuracy: 0.5107\n",
      "Weighted F1-Score: 0.5113, Unweighted F1-Score: 0.5023,\n",
      "Test Results: \n",
      "Weighted Accuracy: 0.4501, Unweighted Accuracy: 0.4840\n",
      "Weighted F1-Score: 0.4882, Unweighted F1-Score: 0.4339,\n",
      "--------------------------------------------------\n",
      "\n",
      "\n"
     ]
    },
    {
     "output_type": "stream",
     "name": "stderr",
     "text": [
      "100%|██████████| 188/188 [00:09<00:00, 19.70it/s]\n",
      "100%|██████████| 6/6 [00:00<00:00,  7.01it/s]\n",
      "100%|██████████| 6/6 [00:00<00:00,  6.84it/s]\n"
     ]
    },
    {
     "output_type": "stream",
     "name": "stdout",
     "text": [
      "\n",
      "\n",
      "--------------------------------------------------\n",
      "Epoch  14\n",
      "Training Loss: 0.0173, Validation Loss: 0.0136\n",
      "Validation Results: \n",
      "Weighted Accuracy: 0.4807, Unweighted Accuracy: 0.4893\n",
      "Weighted F1-Score: 0.4810, Unweighted F1-Score: 0.4518,\n",
      "Test Results: \n",
      "Weighted Accuracy: 0.5355, Unweighted Accuracy: 0.5013\n",
      "Weighted F1-Score: 0.4995, Unweighted F1-Score: 0.4721,\n",
      "--------------------------------------------------\n",
      "\n",
      "\n"
     ]
    },
    {
     "output_type": "stream",
     "name": "stderr",
     "text": [
      "100%|██████████| 188/188 [00:09<00:00, 19.89it/s]\n",
      "100%|██████████| 6/6 [00:00<00:00,  6.91it/s]\n",
      "100%|██████████| 6/6 [00:00<00:00,  6.81it/s]\n"
     ]
    },
    {
     "output_type": "stream",
     "name": "stdout",
     "text": [
      "Epoch 00015: reducing learning rate of group 0 to 1.0000e-05.\n",
      "\n",
      "\n",
      "--------------------------------------------------\n",
      "Epoch  15\n",
      "Training Loss: 0.0149, Validation Loss: 0.0141\n",
      "Validation Results: \n",
      "Weighted Accuracy: 0.4608, Unweighted Accuracy: 0.4933\n",
      "Weighted F1-Score: 0.4913, Unweighted F1-Score: 0.4590,\n",
      "Test Results: \n",
      "Weighted Accuracy: 0.4746, Unweighted Accuracy: 0.5000\n",
      "Weighted F1-Score: 0.4992, Unweighted F1-Score: 0.4559,\n",
      "--------------------------------------------------\n",
      "\n",
      "\n"
     ]
    },
    {
     "output_type": "stream",
     "name": "stderr",
     "text": [
      "100%|██████████| 188/188 [00:09<00:00, 19.45it/s]\n",
      "100%|██████████| 6/6 [00:00<00:00,  6.94it/s]\n",
      "100%|██████████| 6/6 [00:00<00:00,  6.86it/s]\n"
     ]
    },
    {
     "output_type": "stream",
     "name": "stdout",
     "text": [
      "\n",
      "\n",
      "--------------------------------------------------\n",
      "Epoch  16\n",
      "Training Loss: 0.0095, Validation Loss: 0.0142\n",
      "Validation Results: \n",
      "Weighted Accuracy: 0.4540, Unweighted Accuracy: 0.5053\n",
      "Weighted F1-Score: 0.5047, Unweighted F1-Score: 0.4594,\n",
      "Test Results: \n",
      "Weighted Accuracy: 0.4773, Unweighted Accuracy: 0.5107\n",
      "Weighted F1-Score: 0.5127, Unweighted F1-Score: 0.4634,\n",
      "--------------------------------------------------\n",
      "\n",
      "\n"
     ]
    },
    {
     "output_type": "stream",
     "name": "stderr",
     "text": [
      "100%|██████████| 188/188 [00:09<00:00, 19.71it/s]\n",
      "100%|██████████| 6/6 [00:00<00:00,  7.04it/s]\n",
      "100%|██████████| 6/6 [00:00<00:00,  6.88it/s]\n"
     ]
    },
    {
     "output_type": "stream",
     "name": "stdout",
     "text": [
      "\n",
      "\n",
      "--------------------------------------------------\n",
      "Epoch  17\n",
      "Training Loss: 0.0084, Validation Loss: 0.0148\n",
      "Validation Results: \n",
      "Weighted Accuracy: 0.4594, Unweighted Accuracy: 0.5174\n",
      "Weighted F1-Score: 0.5150, Unweighted F1-Score: 0.4688,\n",
      "Test Results: \n",
      "Weighted Accuracy: 0.4737, Unweighted Accuracy: 0.5094\n",
      "Weighted F1-Score: 0.5104, Unweighted F1-Score: 0.4684,\n",
      "--------------------------------------------------\n",
      "\n",
      "\n"
     ]
    },
    {
     "output_type": "stream",
     "name": "stderr",
     "text": [
      "100%|██████████| 188/188 [00:09<00:00, 19.99it/s]\n",
      "100%|██████████| 6/6 [00:00<00:00,  7.07it/s]\n",
      "100%|██████████| 6/6 [00:00<00:00,  6.90it/s]\n"
     ]
    },
    {
     "output_type": "stream",
     "name": "stdout",
     "text": [
      "\n",
      "\n",
      "--------------------------------------------------\n",
      "Epoch  18\n",
      "Training Loss: 0.0078, Validation Loss: 0.0149\n",
      "Validation Results: \n",
      "Weighted Accuracy: 0.4513, Unweighted Accuracy: 0.5174\n",
      "Weighted F1-Score: 0.5145, Unweighted F1-Score: 0.4586,\n",
      "Test Results: \n",
      "Weighted Accuracy: 0.4740, Unweighted Accuracy: 0.5094\n",
      "Weighted F1-Score: 0.5103, Unweighted F1-Score: 0.4637,\n",
      "--------------------------------------------------\n",
      "\n",
      "\n"
     ]
    },
    {
     "output_type": "stream",
     "name": "stderr",
     "text": [
      "100%|██████████| 188/188 [00:09<00:00, 19.59it/s]\n",
      "100%|██████████| 6/6 [00:00<00:00,  7.00it/s]\n",
      "100%|██████████| 6/6 [00:00<00:00,  7.02it/s]\n"
     ]
    },
    {
     "output_type": "stream",
     "name": "stdout",
     "text": [
      "\n",
      "\n",
      "--------------------------------------------------\n",
      "Epoch  19\n",
      "Training Loss: 0.0073, Validation Loss: 0.0151\n",
      "Validation Results: \n",
      "Weighted Accuracy: 0.4423, Unweighted Accuracy: 0.5000\n",
      "Weighted F1-Score: 0.4986, Unweighted F1-Score: 0.4518,\n",
      "Test Results: \n",
      "Weighted Accuracy: 0.4712, Unweighted Accuracy: 0.5080\n",
      "Weighted F1-Score: 0.5097, Unweighted F1-Score: 0.4636,\n",
      "--------------------------------------------------\n",
      "\n",
      "\n",
      "Early stopped. No improvement in validation loss for 10 consecutive epoches.\n"
     ]
    },
    {
     "output_type": "stream",
     "name": "stderr",
     "text": [
      "100%|██████████| 188/188 [00:10<00:00, 18.02it/s]\n",
      "100%|██████████| 6/6 [00:00<00:00,  6.93it/s]\n",
      "100%|██████████| 6/6 [00:00<00:00,  6.70it/s]\n"
     ]
    },
    {
     "output_type": "stream",
     "name": "stdout",
     "text": [
      "Saved model at epoch 1 with validation unweighted accuracy of 40.11%\n",
      "\n",
      "\n",
      "--------------------------------------------------\n",
      "Epoch  1\n",
      "Training Loss: 0.0545, Validation Loss: 0.0126\n",
      "Validation Results: \n",
      "Weighted Accuracy: 0.2996, Unweighted Accuracy: 0.4011\n",
      "Weighted F1-Score: 0.3771, Unweighted F1-Score: 0.2923,\n",
      "Test Results: \n",
      "Weighted Accuracy: 0.2862, Unweighted Accuracy: 0.3797\n",
      "Weighted F1-Score: 0.3579, Unweighted F1-Score: 0.2729,\n",
      "--------------------------------------------------\n",
      "\n",
      "\n"
     ]
    },
    {
     "output_type": "stream",
     "name": "stderr",
     "text": [
      "100%|██████████| 188/188 [00:09<00:00, 19.23it/s]\n",
      "100%|██████████| 6/6 [00:00<00:00,  6.90it/s]\n",
      "100%|██████████| 6/6 [00:00<00:00,  6.80it/s]\n"
     ]
    },
    {
     "output_type": "stream",
     "name": "stdout",
     "text": [
      "Saved model at epoch 2 with validation unweighted accuracy of 41.44%\n",
      "\n",
      "\n",
      "--------------------------------------------------\n",
      "Epoch  2\n",
      "Training Loss: 0.0466, Validation Loss: 0.0123\n",
      "Validation Results: \n",
      "Weighted Accuracy: 0.3367, Unweighted Accuracy: 0.4144\n",
      "Weighted F1-Score: 0.3932, Unweighted F1-Score: 0.3051,\n",
      "Test Results: \n",
      "Weighted Accuracy: 0.3319, Unweighted Accuracy: 0.4225\n",
      "Weighted F1-Score: 0.4094, Unweighted F1-Score: 0.3077,\n",
      "--------------------------------------------------\n",
      "\n",
      "\n"
     ]
    },
    {
     "output_type": "stream",
     "name": "stderr",
     "text": [
      "100%|██████████| 188/188 [00:09<00:00, 19.25it/s]\n",
      "100%|██████████| 6/6 [00:00<00:00,  6.92it/s]\n",
      "100%|██████████| 6/6 [00:00<00:00,  6.75it/s]\n"
     ]
    },
    {
     "output_type": "stream",
     "name": "stdout",
     "text": [
      "Saved model at epoch 3 with validation unweighted accuracy of 48.93%\n",
      "\n",
      "\n",
      "--------------------------------------------------\n",
      "Epoch  3\n",
      "Training Loss: 0.0418, Validation Loss: 0.0108\n",
      "Validation Results: \n",
      "Weighted Accuracy: 0.3886, Unweighted Accuracy: 0.4893\n",
      "Weighted F1-Score: 0.4658, Unweighted F1-Score: 0.3686,\n",
      "Test Results: \n",
      "Weighted Accuracy: 0.3695, Unweighted Accuracy: 0.4652\n",
      "Weighted F1-Score: 0.4476, Unweighted F1-Score: 0.3515,\n",
      "--------------------------------------------------\n",
      "\n",
      "\n"
     ]
    },
    {
     "output_type": "stream",
     "name": "stderr",
     "text": [
      "100%|██████████| 188/188 [00:09<00:00, 18.99it/s]\n",
      "100%|██████████| 6/6 [00:00<00:00,  6.88it/s]\n",
      "100%|██████████| 6/6 [00:00<00:00,  6.93it/s]\n"
     ]
    },
    {
     "output_type": "stream",
     "name": "stdout",
     "text": [
      "\n",
      "\n",
      "--------------------------------------------------\n",
      "Epoch  4\n",
      "Training Loss: 0.0388, Validation Loss: 0.0109\n",
      "Validation Results: \n",
      "Weighted Accuracy: 0.4238, Unweighted Accuracy: 0.4706\n",
      "Weighted F1-Score: 0.4395, Unweighted F1-Score: 0.3974,\n",
      "Test Results: \n",
      "Weighted Accuracy: 0.4277, Unweighted Accuracy: 0.4666\n",
      "Weighted F1-Score: 0.4377, Unweighted F1-Score: 0.3863,\n",
      "--------------------------------------------------\n",
      "\n",
      "\n"
     ]
    },
    {
     "output_type": "stream",
     "name": "stderr",
     "text": [
      "100%|██████████| 188/188 [00:09<00:00, 18.95it/s]\n",
      "100%|██████████| 6/6 [00:00<00:00,  6.91it/s]\n",
      "100%|██████████| 6/6 [00:00<00:00,  6.78it/s]\n"
     ]
    },
    {
     "output_type": "stream",
     "name": "stdout",
     "text": [
      "Saved model at epoch 5 with validation unweighted accuracy of 52.81%\n",
      "\n",
      "\n",
      "--------------------------------------------------\n",
      "Epoch  5\n",
      "Training Loss: 0.0356, Validation Loss: 0.0102\n",
      "Validation Results: \n",
      "Weighted Accuracy: 0.4694, Unweighted Accuracy: 0.5281\n",
      "Weighted F1-Score: 0.5247, Unweighted F1-Score: 0.4836,\n",
      "Test Results: \n",
      "Weighted Accuracy: 0.4644, Unweighted Accuracy: 0.5134\n",
      "Weighted F1-Score: 0.5106, Unweighted F1-Score: 0.4557,\n",
      "--------------------------------------------------\n",
      "\n",
      "\n"
     ]
    },
    {
     "output_type": "stream",
     "name": "stderr",
     "text": [
      "100%|██████████| 188/188 [00:09<00:00, 19.13it/s]\n",
      "100%|██████████| 6/6 [00:00<00:00,  6.92it/s]\n",
      "100%|██████████| 6/6 [00:00<00:00,  6.86it/s]\n"
     ]
    },
    {
     "output_type": "stream",
     "name": "stdout",
     "text": [
      "\n",
      "\n",
      "--------------------------------------------------\n",
      "Epoch  6\n",
      "Training Loss: 0.0332, Validation Loss: 0.0104\n",
      "Validation Results: \n",
      "Weighted Accuracy: 0.4602, Unweighted Accuracy: 0.5174\n",
      "Weighted F1-Score: 0.5142, Unweighted F1-Score: 0.4666,\n",
      "Test Results: \n",
      "Weighted Accuracy: 0.4705, Unweighted Accuracy: 0.5080\n",
      "Weighted F1-Score: 0.5049, Unweighted F1-Score: 0.4617,\n",
      "--------------------------------------------------\n",
      "\n",
      "\n"
     ]
    },
    {
     "output_type": "stream",
     "name": "stderr",
     "text": [
      "100%|██████████| 188/188 [00:09<00:00, 19.00it/s]\n",
      "100%|██████████| 6/6 [00:00<00:00,  6.91it/s]\n",
      "100%|██████████| 6/6 [00:00<00:00,  6.78it/s]\n"
     ]
    },
    {
     "output_type": "stream",
     "name": "stdout",
     "text": [
      "\n",
      "\n",
      "--------------------------------------------------\n",
      "Epoch  7\n",
      "Training Loss: 0.0310, Validation Loss: 0.0107\n",
      "Validation Results: \n",
      "Weighted Accuracy: 0.4434, Unweighted Accuracy: 0.5053\n",
      "Weighted F1-Score: 0.4973, Unweighted F1-Score: 0.4455,\n",
      "Test Results: \n",
      "Weighted Accuracy: 0.4107, Unweighted Accuracy: 0.4693\n",
      "Weighted F1-Score: 0.4662, Unweighted F1-Score: 0.4012,\n",
      "--------------------------------------------------\n",
      "\n",
      "\n"
     ]
    },
    {
     "output_type": "stream",
     "name": "stderr",
     "text": [
      "100%|██████████| 188/188 [00:09<00:00, 19.35it/s]\n",
      "100%|██████████| 6/6 [00:00<00:00,  6.90it/s]\n",
      "100%|██████████| 6/6 [00:00<00:00,  6.84it/s]\n"
     ]
    },
    {
     "output_type": "stream",
     "name": "stdout",
     "text": [
      "Saved model at epoch 8 with validation unweighted accuracy of 54.28%\n",
      "\n",
      "\n",
      "--------------------------------------------------\n",
      "Epoch  8\n",
      "Training Loss: 0.0289, Validation Loss: 0.0102\n",
      "Validation Results: \n",
      "Weighted Accuracy: 0.4751, Unweighted Accuracy: 0.5428\n",
      "Weighted F1-Score: 0.5394, Unweighted F1-Score: 0.4865,\n",
      "Test Results: \n",
      "Weighted Accuracy: 0.4924, Unweighted Accuracy: 0.5388\n",
      "Weighted F1-Score: 0.5360, Unweighted F1-Score: 0.4810,\n",
      "--------------------------------------------------\n",
      "\n",
      "\n"
     ]
    },
    {
     "output_type": "stream",
     "name": "stderr",
     "text": [
      "100%|██████████| 188/188 [00:09<00:00, 18.92it/s]\n",
      "100%|██████████| 6/6 [00:00<00:00,  6.93it/s]\n",
      "100%|██████████| 6/6 [00:00<00:00,  6.75it/s]\n"
     ]
    },
    {
     "output_type": "stream",
     "name": "stdout",
     "text": [
      "\n",
      "\n",
      "--------------------------------------------------\n",
      "Epoch  9\n",
      "Training Loss: 0.0264, Validation Loss: 0.0109\n",
      "Validation Results: \n",
      "Weighted Accuracy: 0.4740, Unweighted Accuracy: 0.5241\n",
      "Weighted F1-Score: 0.5175, Unweighted F1-Score: 0.4772,\n",
      "Test Results: \n",
      "Weighted Accuracy: 0.4808, Unweighted Accuracy: 0.5307\n",
      "Weighted F1-Score: 0.5224, Unweighted F1-Score: 0.4716,\n",
      "--------------------------------------------------\n",
      "\n",
      "\n"
     ]
    },
    {
     "output_type": "stream",
     "name": "stderr",
     "text": [
      "100%|██████████| 188/188 [00:09<00:00, 19.07it/s]\n",
      "100%|██████████| 6/6 [00:00<00:00,  6.82it/s]\n",
      "100%|██████████| 6/6 [00:00<00:00,  6.93it/s]\n"
     ]
    },
    {
     "output_type": "stream",
     "name": "stdout",
     "text": [
      "\n",
      "\n",
      "--------------------------------------------------\n",
      "Epoch  10\n",
      "Training Loss: 0.0241, Validation Loss: 0.0116\n",
      "Validation Results: \n",
      "Weighted Accuracy: 0.4411, Unweighted Accuracy: 0.5027\n",
      "Weighted F1-Score: 0.4970, Unweighted F1-Score: 0.4581,\n",
      "Test Results: \n",
      "Weighted Accuracy: 0.4282, Unweighted Accuracy: 0.5040\n",
      "Weighted F1-Score: 0.5009, Unweighted F1-Score: 0.4410,\n",
      "--------------------------------------------------\n",
      "\n",
      "\n"
     ]
    },
    {
     "output_type": "stream",
     "name": "stderr",
     "text": [
      "100%|██████████| 188/188 [00:09<00:00, 19.23it/s]\n",
      "100%|██████████| 6/6 [00:00<00:00,  7.07it/s]\n",
      "100%|██████████| 6/6 [00:00<00:00,  6.92it/s]\n"
     ]
    },
    {
     "output_type": "stream",
     "name": "stdout",
     "text": [
      "Epoch 00011: reducing learning rate of group 0 to 1.0000e-05.\n",
      "\n",
      "\n",
      "--------------------------------------------------\n",
      "Epoch  11\n",
      "Training Loss: 0.0217, Validation Loss: 0.0120\n",
      "Validation Results: \n",
      "Weighted Accuracy: 0.4758, Unweighted Accuracy: 0.5201\n",
      "Weighted F1-Score: 0.5185, Unweighted F1-Score: 0.4748,\n",
      "Test Results: \n",
      "Weighted Accuracy: 0.4972, Unweighted Accuracy: 0.5040\n",
      "Weighted F1-Score: 0.5070, Unweighted F1-Score: 0.4688,\n",
      "--------------------------------------------------\n",
      "\n",
      "\n"
     ]
    },
    {
     "output_type": "stream",
     "name": "stderr",
     "text": [
      "100%|██████████| 188/188 [00:09<00:00, 19.07it/s]\n",
      "100%|██████████| 6/6 [00:00<00:00,  6.90it/s]\n",
      "100%|██████████| 6/6 [00:00<00:00,  6.82it/s]\n"
     ]
    },
    {
     "output_type": "stream",
     "name": "stdout",
     "text": [
      "\n",
      "\n",
      "--------------------------------------------------\n",
      "Epoch  12\n",
      "Training Loss: 0.0164, Validation Loss: 0.0120\n",
      "Validation Results: \n",
      "Weighted Accuracy: 0.4662, Unweighted Accuracy: 0.5334\n",
      "Weighted F1-Score: 0.5296, Unweighted F1-Score: 0.4778,\n",
      "Test Results: \n",
      "Weighted Accuracy: 0.4560, Unweighted Accuracy: 0.5160\n",
      "Weighted F1-Score: 0.5132, Unweighted F1-Score: 0.4498,\n",
      "--------------------------------------------------\n",
      "\n",
      "\n"
     ]
    },
    {
     "output_type": "stream",
     "name": "stderr",
     "text": [
      "100%|██████████| 188/188 [00:09<00:00, 19.11it/s]\n",
      "100%|██████████| 6/6 [00:00<00:00,  6.89it/s]\n",
      "100%|██████████| 6/6 [00:00<00:00,  6.77it/s]\n"
     ]
    },
    {
     "output_type": "stream",
     "name": "stdout",
     "text": [
      "\n",
      "\n",
      "--------------------------------------------------\n",
      "Epoch  13\n",
      "Training Loss: 0.0152, Validation Loss: 0.0122\n",
      "Validation Results: \n",
      "Weighted Accuracy: 0.4792, Unweighted Accuracy: 0.5388\n",
      "Weighted F1-Score: 0.5356, Unweighted F1-Score: 0.4861,\n",
      "Test Results: \n",
      "Weighted Accuracy: 0.4428, Unweighted Accuracy: 0.5134\n",
      "Weighted F1-Score: 0.5109, Unweighted F1-Score: 0.4389,\n",
      "--------------------------------------------------\n",
      "\n",
      "\n"
     ]
    },
    {
     "output_type": "stream",
     "name": "stderr",
     "text": [
      "100%|██████████| 188/188 [00:09<00:00, 19.16it/s]\n",
      "100%|██████████| 6/6 [00:00<00:00,  6.88it/s]\n",
      "100%|██████████| 6/6 [00:00<00:00,  6.82it/s]\n"
     ]
    },
    {
     "output_type": "stream",
     "name": "stdout",
     "text": [
      "\n",
      "\n",
      "--------------------------------------------------\n",
      "Epoch  14\n",
      "Training Loss: 0.0145, Validation Loss: 0.0125\n",
      "Validation Results: \n",
      "Weighted Accuracy: 0.4847, Unweighted Accuracy: 0.5401\n",
      "Weighted F1-Score: 0.5359, Unweighted F1-Score: 0.4904,\n",
      "Test Results: \n",
      "Weighted Accuracy: 0.4514, Unweighted Accuracy: 0.5187\n",
      "Weighted F1-Score: 0.5164, Unweighted F1-Score: 0.4445,\n",
      "--------------------------------------------------\n",
      "\n",
      "\n"
     ]
    },
    {
     "output_type": "stream",
     "name": "stderr",
     "text": [
      "100%|██████████| 188/188 [00:09<00:00, 19.32it/s]\n",
      "100%|██████████| 6/6 [00:00<00:00,  6.98it/s]\n",
      "100%|██████████| 6/6 [00:00<00:00,  6.75it/s]\n"
     ]
    },
    {
     "output_type": "stream",
     "name": "stdout",
     "text": [
      "\n",
      "\n",
      "--------------------------------------------------\n",
      "Epoch  15\n",
      "Training Loss: 0.0141, Validation Loss: 0.0126\n",
      "Validation Results: \n",
      "Weighted Accuracy: 0.4802, Unweighted Accuracy: 0.5374\n",
      "Weighted F1-Score: 0.5340, Unweighted F1-Score: 0.4885,\n",
      "Test Results: \n",
      "Weighted Accuracy: 0.4453, Unweighted Accuracy: 0.5134\n",
      "Weighted F1-Score: 0.5111, Unweighted F1-Score: 0.4401,\n",
      "--------------------------------------------------\n",
      "\n",
      "\n"
     ]
    },
    {
     "output_type": "stream",
     "name": "stderr",
     "text": [
      "100%|██████████| 188/188 [00:09<00:00, 18.92it/s]\n",
      "100%|██████████| 6/6 [00:00<00:00,  6.85it/s]\n",
      "100%|██████████| 6/6 [00:00<00:00,  6.76it/s]\n"
     ]
    },
    {
     "output_type": "stream",
     "name": "stdout",
     "text": [
      "\n",
      "\n",
      "--------------------------------------------------\n",
      "Epoch  16\n",
      "Training Loss: 0.0135, Validation Loss: 0.0128\n",
      "Validation Results: \n",
      "Weighted Accuracy: 0.4673, Unweighted Accuracy: 0.5254\n",
      "Weighted F1-Score: 0.5237, Unweighted F1-Score: 0.4785,\n",
      "Test Results: \n",
      "Weighted Accuracy: 0.4480, Unweighted Accuracy: 0.5201\n",
      "Weighted F1-Score: 0.5192, Unweighted F1-Score: 0.4481,\n",
      "--------------------------------------------------\n",
      "\n",
      "\n"
     ]
    },
    {
     "output_type": "stream",
     "name": "stderr",
     "text": [
      "100%|██████████| 188/188 [00:09<00:00, 19.37it/s]\n",
      "100%|██████████| 6/6 [00:00<00:00,  6.81it/s]\n",
      "100%|██████████| 6/6 [00:00<00:00,  6.73it/s]\n"
     ]
    },
    {
     "output_type": "stream",
     "name": "stdout",
     "text": [
      "Epoch 00017: reducing learning rate of group 0 to 1.0000e-06.\n",
      "\n",
      "\n",
      "--------------------------------------------------\n",
      "Epoch  17\n",
      "Training Loss: 0.0131, Validation Loss: 0.0131\n",
      "Validation Results: \n",
      "Weighted Accuracy: 0.4699, Unweighted Accuracy: 0.5267\n",
      "Weighted F1-Score: 0.5244, Unweighted F1-Score: 0.4799,\n",
      "Test Results: \n",
      "Weighted Accuracy: 0.4534, Unweighted Accuracy: 0.5227\n",
      "Weighted F1-Score: 0.5217, Unweighted F1-Score: 0.4513,\n",
      "--------------------------------------------------\n",
      "\n",
      "\n"
     ]
    },
    {
     "output_type": "stream",
     "name": "stderr",
     "text": [
      "100%|██████████| 188/188 [00:09<00:00, 19.54it/s]\n",
      "100%|██████████| 6/6 [00:00<00:00,  6.96it/s]\n",
      "100%|██████████| 6/6 [00:00<00:00,  6.80it/s]\n"
     ]
    },
    {
     "output_type": "stream",
     "name": "stdout",
     "text": [
      "\n",
      "\n",
      "--------------------------------------------------\n",
      "Epoch  18\n",
      "Training Loss: 0.0124, Validation Loss: 0.0131\n",
      "Validation Results: \n",
      "Weighted Accuracy: 0.4758, Unweighted Accuracy: 0.5334\n",
      "Weighted F1-Score: 0.5304, Unweighted F1-Score: 0.4857,\n",
      "Test Results: \n",
      "Weighted Accuracy: 0.4499, Unweighted Accuracy: 0.5174\n",
      "Weighted F1-Score: 0.5163, Unweighted F1-Score: 0.4470,\n",
      "--------------------------------------------------\n",
      "\n",
      "\n",
      "Early stopped. No improvement in validation loss for 10 consecutive epoches.\n"
     ]
    },
    {
     "output_type": "stream",
     "name": "stderr",
     "text": [
      "100%|██████████| 188/188 [00:09<00:00, 19.68it/s]\n",
      "100%|██████████| 6/6 [00:00<00:00,  6.92it/s]\n",
      "100%|██████████| 6/6 [00:00<00:00,  6.88it/s]\n"
     ]
    },
    {
     "output_type": "stream",
     "name": "stdout",
     "text": [
      "Saved model at epoch 1 with validation unweighted accuracy of 36.90%\n",
      "\n",
      "\n",
      "--------------------------------------------------\n",
      "Epoch  1\n",
      "Training Loss: 0.0549, Validation Loss: 0.0129\n",
      "Validation Results: \n",
      "Weighted Accuracy: 0.2664, Unweighted Accuracy: 0.3690\n",
      "Weighted F1-Score: 0.3176, Unweighted F1-Score: 0.2362,\n",
      "Test Results: \n",
      "Weighted Accuracy: 0.2568, Unweighted Accuracy: 0.3717\n",
      "Weighted F1-Score: 0.3279, Unweighted F1-Score: 0.2329,\n",
      "--------------------------------------------------\n",
      "\n",
      "\n"
     ]
    },
    {
     "output_type": "stream",
     "name": "stderr",
     "text": [
      "100%|██████████| 188/188 [00:09<00:00, 19.47it/s]\n",
      "100%|██████████| 6/6 [00:00<00:00,  6.96it/s]\n",
      "100%|██████████| 6/6 [00:00<00:00,  6.83it/s]\n"
     ]
    },
    {
     "output_type": "stream",
     "name": "stdout",
     "text": [
      "Saved model at epoch 2 with validation unweighted accuracy of 44.25%\n",
      "\n",
      "\n",
      "--------------------------------------------------\n",
      "Epoch  2\n",
      "Training Loss: 0.0467, Validation Loss: 0.0115\n",
      "Validation Results: \n",
      "Weighted Accuracy: 0.3173, Unweighted Accuracy: 0.4425\n",
      "Weighted F1-Score: 0.4040, Unweighted F1-Score: 0.3102,\n",
      "Test Results: \n",
      "Weighted Accuracy: 0.2933, Unweighted Accuracy: 0.4225\n",
      "Weighted F1-Score: 0.3857, Unweighted F1-Score: 0.2833,\n",
      "--------------------------------------------------\n",
      "\n",
      "\n"
     ]
    },
    {
     "output_type": "stream",
     "name": "stderr",
     "text": [
      "100%|██████████| 188/188 [00:09<00:00, 19.94it/s]\n",
      "100%|██████████| 6/6 [00:00<00:00,  6.97it/s]\n",
      "100%|██████████| 6/6 [00:00<00:00,  6.92it/s]\n"
     ]
    },
    {
     "output_type": "stream",
     "name": "stdout",
     "text": [
      "Saved model at epoch 3 with validation unweighted accuracy of 49.06%\n",
      "\n",
      "\n",
      "--------------------------------------------------\n",
      "Epoch  3\n",
      "Training Loss: 0.0425, Validation Loss: 0.0107\n",
      "Validation Results: \n",
      "Weighted Accuracy: 0.3876, Unweighted Accuracy: 0.4906\n",
      "Weighted F1-Score: 0.4702, Unweighted F1-Score: 0.3866,\n",
      "Test Results: \n",
      "Weighted Accuracy: 0.4015, Unweighted Accuracy: 0.4612\n",
      "Weighted F1-Score: 0.4446, Unweighted F1-Score: 0.3946,\n",
      "--------------------------------------------------\n",
      "\n",
      "\n"
     ]
    },
    {
     "output_type": "stream",
     "name": "stderr",
     "text": [
      "100%|██████████| 188/188 [00:09<00:00, 19.57it/s]\n",
      "100%|██████████| 6/6 [00:00<00:00,  7.07it/s]\n",
      "100%|██████████| 6/6 [00:00<00:00,  6.86it/s]\n"
     ]
    },
    {
     "output_type": "stream",
     "name": "stdout",
     "text": [
      "Saved model at epoch 4 with validation unweighted accuracy of 53.07%\n",
      "\n",
      "\n",
      "--------------------------------------------------\n",
      "Epoch  4\n",
      "Training Loss: 0.0396, Validation Loss: 0.0104\n",
      "Validation Results: \n",
      "Weighted Accuracy: 0.4440, Unweighted Accuracy: 0.5307\n",
      "Weighted F1-Score: 0.5235, Unweighted F1-Score: 0.4661,\n",
      "Test Results: \n",
      "Weighted Accuracy: 0.4247, Unweighted Accuracy: 0.4813\n",
      "Weighted F1-Score: 0.4736, Unweighted F1-Score: 0.4269,\n",
      "--------------------------------------------------\n",
      "\n",
      "\n"
     ]
    },
    {
     "output_type": "stream",
     "name": "stderr",
     "text": [
      "100%|██████████| 188/188 [00:09<00:00, 19.86it/s]\n",
      "100%|██████████| 6/6 [00:00<00:00,  7.05it/s]\n",
      "100%|██████████| 6/6 [00:00<00:00,  6.86it/s]\n"
     ]
    },
    {
     "output_type": "stream",
     "name": "stdout",
     "text": [
      "\n",
      "\n",
      "--------------------------------------------------\n",
      "Epoch  5\n",
      "Training Loss: 0.0369, Validation Loss: 0.0107\n",
      "Validation Results: \n",
      "Weighted Accuracy: 0.4388, Unweighted Accuracy: 0.5174\n",
      "Weighted F1-Score: 0.5004, Unweighted F1-Score: 0.4414,\n",
      "Test Results: \n",
      "Weighted Accuracy: 0.4144, Unweighted Accuracy: 0.4773\n",
      "Weighted F1-Score: 0.4582, Unweighted F1-Score: 0.4029,\n",
      "--------------------------------------------------\n",
      "\n",
      "\n"
     ]
    },
    {
     "output_type": "stream",
     "name": "stderr",
     "text": [
      "100%|██████████| 188/188 [00:09<00:00, 19.81it/s]\n",
      "100%|██████████| 6/6 [00:00<00:00,  7.06it/s]\n",
      "100%|██████████| 6/6 [00:00<00:00,  6.98it/s]\n"
     ]
    },
    {
     "output_type": "stream",
     "name": "stdout",
     "text": [
      "\n",
      "\n",
      "--------------------------------------------------\n",
      "Epoch  6\n",
      "Training Loss: 0.0351, Validation Loss: 0.0105\n",
      "Validation Results: \n",
      "Weighted Accuracy: 0.4594, Unweighted Accuracy: 0.4987\n",
      "Weighted F1-Score: 0.4940, Unweighted F1-Score: 0.4542,\n",
      "Test Results: \n",
      "Weighted Accuracy: 0.4814, Unweighted Accuracy: 0.4880\n",
      "Weighted F1-Score: 0.4822, Unweighted F1-Score: 0.4521,\n",
      "--------------------------------------------------\n",
      "\n",
      "\n"
     ]
    },
    {
     "output_type": "stream",
     "name": "stderr",
     "text": [
      "100%|██████████| 188/188 [00:09<00:00, 19.41it/s]\n",
      "100%|██████████| 6/6 [00:00<00:00,  7.14it/s]\n",
      "100%|██████████| 6/6 [00:00<00:00,  6.85it/s]\n"
     ]
    },
    {
     "output_type": "stream",
     "name": "stdout",
     "text": [
      "\n",
      "\n",
      "--------------------------------------------------\n",
      "Epoch  7\n",
      "Training Loss: 0.0327, Validation Loss: 0.0104\n",
      "Validation Results: \n",
      "Weighted Accuracy: 0.4453, Unweighted Accuracy: 0.5241\n",
      "Weighted F1-Score: 0.5196, Unweighted F1-Score: 0.4657,\n",
      "Test Results: \n",
      "Weighted Accuracy: 0.4330, Unweighted Accuracy: 0.5160\n",
      "Weighted F1-Score: 0.5078, Unweighted F1-Score: 0.4427,\n",
      "--------------------------------------------------\n",
      "\n",
      "\n"
     ]
    },
    {
     "output_type": "stream",
     "name": "stderr",
     "text": [
      "100%|██████████| 188/188 [00:09<00:00, 19.44it/s]\n",
      "100%|██████████| 6/6 [00:00<00:00,  6.95it/s]\n",
      "100%|██████████| 6/6 [00:00<00:00,  6.84it/s]\n"
     ]
    },
    {
     "output_type": "stream",
     "name": "stdout",
     "text": [
      "\n",
      "\n",
      "--------------------------------------------------\n",
      "Epoch  8\n",
      "Training Loss: 0.0308, Validation Loss: 0.0103\n",
      "Validation Results: \n",
      "Weighted Accuracy: 0.4762, Unweighted Accuracy: 0.5187\n",
      "Weighted F1-Score: 0.5172, Unweighted F1-Score: 0.4790,\n",
      "Test Results: \n",
      "Weighted Accuracy: 0.4504, Unweighted Accuracy: 0.5013\n",
      "Weighted F1-Score: 0.5013, Unweighted F1-Score: 0.4395,\n",
      "--------------------------------------------------\n",
      "\n",
      "\n"
     ]
    },
    {
     "output_type": "stream",
     "name": "stderr",
     "text": [
      "100%|██████████| 188/188 [00:09<00:00, 19.68it/s]\n",
      "100%|██████████| 6/6 [00:00<00:00,  7.00it/s]\n",
      "100%|██████████| 6/6 [00:00<00:00,  6.93it/s]\n"
     ]
    },
    {
     "output_type": "stream",
     "name": "stdout",
     "text": [
      "Saved model at epoch 9 with validation unweighted accuracy of 53.34%\n",
      "\n",
      "\n",
      "--------------------------------------------------\n",
      "Epoch  9\n",
      "Training Loss: 0.0290, Validation Loss: 0.0106\n",
      "Validation Results: \n",
      "Weighted Accuracy: 0.4758, Unweighted Accuracy: 0.5334\n",
      "Weighted F1-Score: 0.5272, Unweighted F1-Score: 0.4773,\n",
      "Test Results: \n",
      "Weighted Accuracy: 0.4434, Unweighted Accuracy: 0.5040\n",
      "Weighted F1-Score: 0.4991, Unweighted F1-Score: 0.4312,\n",
      "--------------------------------------------------\n",
      "\n",
      "\n"
     ]
    },
    {
     "output_type": "stream",
     "name": "stderr",
     "text": [
      "100%|██████████| 188/188 [00:09<00:00, 19.76it/s]\n",
      "100%|██████████| 6/6 [00:00<00:00,  7.01it/s]\n",
      "100%|██████████| 6/6 [00:00<00:00,  7.10it/s]\n"
     ]
    },
    {
     "output_type": "stream",
     "name": "stdout",
     "text": [
      "\n",
      "\n",
      "--------------------------------------------------\n",
      "Epoch  10\n",
      "Training Loss: 0.0266, Validation Loss: 0.0111\n",
      "Validation Results: \n",
      "Weighted Accuracy: 0.4451, Unweighted Accuracy: 0.5120\n",
      "Weighted F1-Score: 0.5078, Unweighted F1-Score: 0.4482,\n",
      "Test Results: \n",
      "Weighted Accuracy: 0.4391, Unweighted Accuracy: 0.4880\n",
      "Weighted F1-Score: 0.4886, Unweighted F1-Score: 0.4352,\n",
      "--------------------------------------------------\n",
      "\n",
      "\n"
     ]
    },
    {
     "output_type": "stream",
     "name": "stderr",
     "text": [
      "100%|██████████| 188/188 [00:09<00:00, 19.52it/s]\n",
      "100%|██████████| 6/6 [00:00<00:00,  7.02it/s]\n",
      "100%|██████████| 6/6 [00:00<00:00,  6.96it/s]\n"
     ]
    },
    {
     "output_type": "stream",
     "name": "stdout",
     "text": [
      "\n",
      "\n",
      "--------------------------------------------------\n",
      "Epoch  11\n",
      "Training Loss: 0.0242, Validation Loss: 0.0118\n",
      "Validation Results: \n",
      "Weighted Accuracy: 0.4512, Unweighted Accuracy: 0.5307\n",
      "Weighted F1-Score: 0.5270, Unweighted F1-Score: 0.4667,\n",
      "Test Results: \n",
      "Weighted Accuracy: 0.4166, Unweighted Accuracy: 0.4973\n",
      "Weighted F1-Score: 0.4937, Unweighted F1-Score: 0.4322,\n",
      "--------------------------------------------------\n",
      "\n",
      "\n"
     ]
    },
    {
     "output_type": "stream",
     "name": "stderr",
     "text": [
      "100%|██████████| 188/188 [00:09<00:00, 19.76it/s]\n",
      "100%|██████████| 6/6 [00:00<00:00,  6.93it/s]\n",
      "100%|██████████| 6/6 [00:00<00:00,  6.83it/s]\n"
     ]
    },
    {
     "output_type": "stream",
     "name": "stdout",
     "text": [
      "\n",
      "\n",
      "--------------------------------------------------\n",
      "Epoch  12\n",
      "Training Loss: 0.0220, Validation Loss: 0.0113\n",
      "Validation Results: \n",
      "Weighted Accuracy: 0.4603, Unweighted Accuracy: 0.5254\n",
      "Weighted F1-Score: 0.5224, Unweighted F1-Score: 0.4683,\n",
      "Test Results: \n",
      "Weighted Accuracy: 0.4345, Unweighted Accuracy: 0.5080\n",
      "Weighted F1-Score: 0.5057, Unweighted F1-Score: 0.4309,\n",
      "--------------------------------------------------\n",
      "\n",
      "\n"
     ]
    },
    {
     "output_type": "stream",
     "name": "stderr",
     "text": [
      "100%|██████████| 188/188 [00:09<00:00, 19.68it/s]\n",
      "100%|██████████| 6/6 [00:00<00:00,  6.92it/s]\n",
      "100%|██████████| 6/6 [00:00<00:00,  6.86it/s]\n"
     ]
    },
    {
     "output_type": "stream",
     "name": "stdout",
     "text": [
      "Saved model at epoch 13 with validation unweighted accuracy of 54.14%\n",
      "\n",
      "\n",
      "--------------------------------------------------\n",
      "Epoch  13\n",
      "Training Loss: 0.0197, Validation Loss: 0.0125\n",
      "Validation Results: \n",
      "Weighted Accuracy: 0.4816, Unweighted Accuracy: 0.5414\n",
      "Weighted F1-Score: 0.5410, Unweighted F1-Score: 0.4938,\n",
      "Test Results: \n",
      "Weighted Accuracy: 0.4346, Unweighted Accuracy: 0.4973\n",
      "Weighted F1-Score: 0.4981, Unweighted F1-Score: 0.4334,\n",
      "--------------------------------------------------\n",
      "\n",
      "\n"
     ]
    },
    {
     "output_type": "stream",
     "name": "stderr",
     "text": [
      "100%|██████████| 188/188 [00:09<00:00, 19.46it/s]\n",
      "100%|██████████| 6/6 [00:00<00:00,  6.92it/s]\n",
      "100%|██████████| 6/6 [00:00<00:00,  6.78it/s]\n"
     ]
    },
    {
     "output_type": "stream",
     "name": "stdout",
     "text": [
      "Epoch 00014: reducing learning rate of group 0 to 1.0000e-05.\n",
      "\n",
      "\n",
      "--------------------------------------------------\n",
      "Epoch  14\n",
      "Training Loss: 0.0171, Validation Loss: 0.0132\n",
      "Validation Results: \n",
      "Weighted Accuracy: 0.4776, Unweighted Accuracy: 0.5321\n",
      "Weighted F1-Score: 0.5318, Unweighted F1-Score: 0.4878,\n",
      "Test Results: \n",
      "Weighted Accuracy: 0.4186, Unweighted Accuracy: 0.4759\n",
      "Weighted F1-Score: 0.4750, Unweighted F1-Score: 0.4208,\n",
      "--------------------------------------------------\n",
      "\n",
      "\n"
     ]
    },
    {
     "output_type": "stream",
     "name": "stderr",
     "text": [
      "100%|██████████| 188/188 [00:09<00:00, 19.91it/s]\n",
      "100%|██████████| 6/6 [00:00<00:00,  6.91it/s]\n",
      "100%|██████████| 6/6 [00:00<00:00,  6.81it/s]\n"
     ]
    },
    {
     "output_type": "stream",
     "name": "stdout",
     "text": [
      "\n",
      "\n",
      "--------------------------------------------------\n",
      "Epoch  15\n",
      "Training Loss: 0.0115, Validation Loss: 0.0131\n",
      "Validation Results: \n",
      "Weighted Accuracy: 0.4779, Unweighted Accuracy: 0.5214\n",
      "Weighted F1-Score: 0.5212, Unweighted F1-Score: 0.4892,\n",
      "Test Results: \n",
      "Weighted Accuracy: 0.4253, Unweighted Accuracy: 0.4893\n",
      "Weighted F1-Score: 0.4895, Unweighted F1-Score: 0.4245,\n",
      "--------------------------------------------------\n",
      "\n",
      "\n"
     ]
    },
    {
     "output_type": "stream",
     "name": "stderr",
     "text": [
      "100%|██████████| 188/188 [00:09<00:00, 19.48it/s]\n",
      "100%|██████████| 6/6 [00:00<00:00,  7.07it/s]\n",
      "100%|██████████| 6/6 [00:00<00:00,  6.87it/s]\n"
     ]
    },
    {
     "output_type": "stream",
     "name": "stdout",
     "text": [
      "\n",
      "\n",
      "--------------------------------------------------\n",
      "Epoch  16\n",
      "Training Loss: 0.0106, Validation Loss: 0.0135\n",
      "Validation Results: \n",
      "Weighted Accuracy: 0.4830, Unweighted Accuracy: 0.5267\n",
      "Weighted F1-Score: 0.5263, Unweighted F1-Score: 0.4949,\n",
      "Test Results: \n",
      "Weighted Accuracy: 0.4310, Unweighted Accuracy: 0.4947\n",
      "Weighted F1-Score: 0.4941, Unweighted F1-Score: 0.4301,\n",
      "--------------------------------------------------\n",
      "\n",
      "\n"
     ]
    },
    {
     "output_type": "stream",
     "name": "stderr",
     "text": [
      "100%|██████████| 188/188 [00:09<00:00, 19.57it/s]\n",
      "100%|██████████| 6/6 [00:00<00:00,  7.15it/s]\n",
      "100%|██████████| 6/6 [00:00<00:00,  6.87it/s]\n"
     ]
    },
    {
     "output_type": "stream",
     "name": "stdout",
     "text": [
      "\n",
      "\n",
      "--------------------------------------------------\n",
      "Epoch  17\n",
      "Training Loss: 0.0100, Validation Loss: 0.0138\n",
      "Validation Results: \n",
      "Weighted Accuracy: 0.4820, Unweighted Accuracy: 0.5241\n",
      "Weighted F1-Score: 0.5235, Unweighted F1-Score: 0.4930,\n",
      "Test Results: \n",
      "Weighted Accuracy: 0.4355, Unweighted Accuracy: 0.5000\n",
      "Weighted F1-Score: 0.4994, Unweighted F1-Score: 0.4336,\n",
      "--------------------------------------------------\n",
      "\n",
      "\n"
     ]
    },
    {
     "output_type": "stream",
     "name": "stderr",
     "text": [
      "100%|██████████| 188/188 [00:09<00:00, 19.72it/s]\n",
      "100%|██████████| 6/6 [00:00<00:00,  6.99it/s]\n",
      "100%|██████████| 6/6 [00:00<00:00,  6.94it/s]\n"
     ]
    },
    {
     "output_type": "stream",
     "name": "stdout",
     "text": [
      "\n",
      "\n",
      "--------------------------------------------------\n",
      "Epoch  18\n",
      "Training Loss: 0.0095, Validation Loss: 0.0140\n",
      "Validation Results: \n",
      "Weighted Accuracy: 0.4764, Unweighted Accuracy: 0.5201\n",
      "Weighted F1-Score: 0.5200, Unweighted F1-Score: 0.4875,\n",
      "Test Results: \n",
      "Weighted Accuracy: 0.4307, Unweighted Accuracy: 0.4947\n",
      "Weighted F1-Score: 0.4953, Unweighted F1-Score: 0.4277,\n",
      "--------------------------------------------------\n",
      "\n",
      "\n"
     ]
    },
    {
     "output_type": "stream",
     "name": "stderr",
     "text": [
      "100%|██████████| 188/188 [00:09<00:00, 19.28it/s]\n",
      "100%|██████████| 6/6 [00:00<00:00,  7.05it/s]\n",
      "100%|██████████| 6/6 [00:00<00:00,  6.91it/s]\n"
     ]
    },
    {
     "output_type": "stream",
     "name": "stdout",
     "text": [
      "\n",
      "\n",
      "--------------------------------------------------\n",
      "Epoch  19\n",
      "Training Loss: 0.0091, Validation Loss: 0.0142\n",
      "Validation Results: \n",
      "Weighted Accuracy: 0.4846, Unweighted Accuracy: 0.5294\n",
      "Weighted F1-Score: 0.5291, Unweighted F1-Score: 0.4974,\n",
      "Test Results: \n",
      "Weighted Accuracy: 0.4238, Unweighted Accuracy: 0.4866\n",
      "Weighted F1-Score: 0.4862, Unweighted F1-Score: 0.4229,\n",
      "--------------------------------------------------\n",
      "\n",
      "\n"
     ]
    },
    {
     "output_type": "stream",
     "name": "stderr",
     "text": [
      "100%|██████████| 188/188 [00:09<00:00, 19.69it/s]\n",
      "100%|██████████| 6/6 [00:00<00:00,  6.91it/s]\n",
      "100%|██████████| 6/6 [00:00<00:00,  7.01it/s]\n"
     ]
    },
    {
     "output_type": "stream",
     "name": "stdout",
     "text": [
      "Epoch 00020: reducing learning rate of group 0 to 1.0000e-06.\n",
      "\n",
      "\n",
      "--------------------------------------------------\n",
      "Epoch  20\n",
      "Training Loss: 0.0087, Validation Loss: 0.0146\n",
      "Validation Results: \n",
      "Weighted Accuracy: 0.4819, Unweighted Accuracy: 0.5227\n",
      "Weighted F1-Score: 0.5229, Unweighted F1-Score: 0.4924,\n",
      "Test Results: \n",
      "Weighted Accuracy: 0.4293, Unweighted Accuracy: 0.4906\n",
      "Weighted F1-Score: 0.4907, Unweighted F1-Score: 0.4262,\n",
      "--------------------------------------------------\n",
      "\n",
      "\n"
     ]
    },
    {
     "output_type": "stream",
     "name": "stderr",
     "text": [
      "100%|██████████| 188/188 [00:09<00:00, 19.35it/s]\n",
      "100%|██████████| 6/6 [00:00<00:00,  7.11it/s]\n",
      "100%|██████████| 6/6 [00:00<00:00,  6.93it/s]\n"
     ]
    },
    {
     "output_type": "stream",
     "name": "stdout",
     "text": [
      "\n",
      "\n",
      "--------------------------------------------------\n",
      "Epoch  21\n",
      "Training Loss: 0.0081, Validation Loss: 0.0146\n",
      "Validation Results: \n",
      "Weighted Accuracy: 0.4844, Unweighted Accuracy: 0.5254\n",
      "Weighted F1-Score: 0.5254, Unweighted F1-Score: 0.4952,\n",
      "Test Results: \n",
      "Weighted Accuracy: 0.4216, Unweighted Accuracy: 0.4826\n",
      "Weighted F1-Score: 0.4822, Unweighted F1-Score: 0.4199,\n",
      "--------------------------------------------------\n",
      "\n",
      "\n"
     ]
    },
    {
     "output_type": "stream",
     "name": "stderr",
     "text": [
      "100%|██████████| 188/188 [00:09<00:00, 19.54it/s]\n",
      "100%|██████████| 6/6 [00:00<00:00,  7.00it/s]\n",
      "100%|██████████| 6/6 [00:00<00:00,  6.80it/s]\n"
     ]
    },
    {
     "output_type": "stream",
     "name": "stdout",
     "text": [
      "\n",
      "\n",
      "--------------------------------------------------\n",
      "Epoch  22\n",
      "Training Loss: 0.0081, Validation Loss: 0.0146\n",
      "Validation Results: \n",
      "Weighted Accuracy: 0.4843, Unweighted Accuracy: 0.5254\n",
      "Weighted F1-Score: 0.5253, Unweighted F1-Score: 0.4952,\n",
      "Test Results: \n",
      "Weighted Accuracy: 0.4238, Unweighted Accuracy: 0.4866\n",
      "Weighted F1-Score: 0.4862, Unweighted F1-Score: 0.4225,\n",
      "--------------------------------------------------\n",
      "\n",
      "\n"
     ]
    },
    {
     "output_type": "stream",
     "name": "stderr",
     "text": [
      "100%|██████████| 188/188 [00:09<00:00, 19.73it/s]\n",
      "100%|██████████| 6/6 [00:00<00:00,  7.04it/s]\n",
      "100%|██████████| 6/6 [00:00<00:00,  6.33it/s]\n"
     ]
    },
    {
     "output_type": "stream",
     "name": "stdout",
     "text": [
      "\n",
      "\n",
      "--------------------------------------------------\n",
      "Epoch  23\n",
      "Training Loss: 0.0080, Validation Loss: 0.0146\n",
      "Validation Results: \n",
      "Weighted Accuracy: 0.4844, Unweighted Accuracy: 0.5254\n",
      "Weighted F1-Score: 0.5255, Unweighted F1-Score: 0.4952,\n",
      "Test Results: \n",
      "Weighted Accuracy: 0.4223, Unweighted Accuracy: 0.4840\n",
      "Weighted F1-Score: 0.4836, Unweighted F1-Score: 0.4209,\n",
      "--------------------------------------------------\n",
      "\n",
      "\n"
     ]
    },
    {
     "output_type": "stream",
     "name": "stderr",
     "text": [
      "100%|██████████| 188/188 [00:09<00:00, 19.69it/s]\n",
      "100%|██████████| 6/6 [00:00<00:00,  7.11it/s]\n",
      "100%|██████████| 6/6 [00:00<00:00,  7.04it/s]\n"
     ]
    },
    {
     "output_type": "stream",
     "name": "stdout",
     "text": [
      "\n",
      "\n",
      "--------------------------------------------------\n",
      "Epoch  24\n",
      "Training Loss: 0.0080, Validation Loss: 0.0147\n",
      "Validation Results: \n",
      "Weighted Accuracy: 0.4832, Unweighted Accuracy: 0.5241\n",
      "Weighted F1-Score: 0.5242, Unweighted F1-Score: 0.4939,\n",
      "Test Results: \n",
      "Weighted Accuracy: 0.4218, Unweighted Accuracy: 0.4840\n",
      "Weighted F1-Score: 0.4837, Unweighted F1-Score: 0.4201,\n",
      "--------------------------------------------------\n",
      "\n",
      "\n"
     ]
    },
    {
     "output_type": "stream",
     "name": "stderr",
     "text": [
      "100%|██████████| 188/188 [00:09<00:00, 19.67it/s]\n",
      "100%|██████████| 6/6 [00:00<00:00,  7.05it/s]\n",
      "100%|██████████| 6/6 [00:00<00:00,  6.88it/s]\n"
     ]
    },
    {
     "output_type": "stream",
     "name": "stdout",
     "text": [
      "\n",
      "\n",
      "--------------------------------------------------\n",
      "Epoch  25\n",
      "Training Loss: 0.0079, Validation Loss: 0.0147\n",
      "Validation Results: \n",
      "Weighted Accuracy: 0.4835, Unweighted Accuracy: 0.5241\n",
      "Weighted F1-Score: 0.5240, Unweighted F1-Score: 0.4943,\n",
      "Test Results: \n",
      "Weighted Accuracy: 0.4220, Unweighted Accuracy: 0.4840\n",
      "Weighted F1-Score: 0.4836, Unweighted F1-Score: 0.4207,\n",
      "--------------------------------------------------\n",
      "\n",
      "\n"
     ]
    },
    {
     "output_type": "stream",
     "name": "stderr",
     "text": [
      "100%|██████████| 188/188 [00:09<00:00, 19.55it/s]\n",
      "100%|██████████| 6/6 [00:00<00:00,  6.92it/s]\n",
      "100%|██████████| 6/6 [00:00<00:00,  6.80it/s]\n"
     ]
    },
    {
     "output_type": "stream",
     "name": "stdout",
     "text": [
      "Epoch 00026: reducing learning rate of group 0 to 1.0000e-07.\n",
      "\n",
      "\n",
      "--------------------------------------------------\n",
      "Epoch  26\n",
      "Training Loss: 0.0079, Validation Loss: 0.0147\n",
      "Validation Results: \n",
      "Weighted Accuracy: 0.4828, Unweighted Accuracy: 0.5227\n",
      "Weighted F1-Score: 0.5227, Unweighted F1-Score: 0.4933,\n",
      "Test Results: \n",
      "Weighted Accuracy: 0.4211, Unweighted Accuracy: 0.4826\n",
      "Weighted F1-Score: 0.4824, Unweighted F1-Score: 0.4193,\n",
      "--------------------------------------------------\n",
      "\n",
      "\n"
     ]
    },
    {
     "output_type": "stream",
     "name": "stderr",
     "text": [
      "100%|██████████| 188/188 [00:09<00:00, 19.63it/s]\n",
      "100%|██████████| 6/6 [00:00<00:00,  7.00it/s]\n",
      "100%|██████████| 6/6 [00:00<00:00,  6.81it/s]\n"
     ]
    },
    {
     "output_type": "stream",
     "name": "stdout",
     "text": [
      "\n",
      "\n",
      "--------------------------------------------------\n",
      "Epoch  27\n",
      "Training Loss: 0.0079, Validation Loss: 0.0147\n",
      "Validation Results: \n",
      "Weighted Accuracy: 0.4835, Unweighted Accuracy: 0.5241\n",
      "Weighted F1-Score: 0.5240, Unweighted F1-Score: 0.4943,\n",
      "Test Results: \n",
      "Weighted Accuracy: 0.4211, Unweighted Accuracy: 0.4826\n",
      "Weighted F1-Score: 0.4823, Unweighted F1-Score: 0.4195,\n",
      "--------------------------------------------------\n",
      "\n",
      "\n"
     ]
    },
    {
     "output_type": "stream",
     "name": "stderr",
     "text": [
      "100%|██████████| 188/188 [00:09<00:00, 19.37it/s]\n",
      "100%|██████████| 6/6 [00:00<00:00,  6.92it/s]\n",
      "100%|██████████| 6/6 [00:00<00:00,  6.81it/s]\n"
     ]
    },
    {
     "output_type": "stream",
     "name": "stdout",
     "text": [
      "\n",
      "\n",
      "--------------------------------------------------\n",
      "Epoch  28\n",
      "Training Loss: 0.0079, Validation Loss: 0.0148\n",
      "Validation Results: \n",
      "Weighted Accuracy: 0.4835, Unweighted Accuracy: 0.5241\n",
      "Weighted F1-Score: 0.5240, Unweighted F1-Score: 0.4943,\n",
      "Test Results: \n",
      "Weighted Accuracy: 0.4218, Unweighted Accuracy: 0.4840\n",
      "Weighted F1-Score: 0.4837, Unweighted F1-Score: 0.4204,\n",
      "--------------------------------------------------\n",
      "\n",
      "\n"
     ]
    },
    {
     "output_type": "stream",
     "name": "stderr",
     "text": [
      "100%|██████████| 188/188 [00:09<00:00, 19.76it/s]\n",
      "100%|██████████| 6/6 [00:00<00:00,  7.00it/s]\n",
      "100%|██████████| 6/6 [00:00<00:00,  6.91it/s]\n"
     ]
    },
    {
     "output_type": "stream",
     "name": "stdout",
     "text": [
      "\n",
      "\n",
      "--------------------------------------------------\n",
      "Epoch  29\n",
      "Training Loss: 0.0079, Validation Loss: 0.0148\n",
      "Validation Results: \n",
      "Weighted Accuracy: 0.4851, Unweighted Accuracy: 0.5267\n",
      "Weighted F1-Score: 0.5268, Unweighted F1-Score: 0.4961,\n",
      "Test Results: \n",
      "Weighted Accuracy: 0.4218, Unweighted Accuracy: 0.4840\n",
      "Weighted F1-Score: 0.4836, Unweighted F1-Score: 0.4206,\n",
      "--------------------------------------------------\n",
      "\n",
      "\n"
     ]
    },
    {
     "output_type": "stream",
     "name": "stderr",
     "text": [
      "100%|██████████| 188/188 [00:09<00:00, 19.40it/s]\n",
      "100%|██████████| 6/6 [00:00<00:00,  7.13it/s]\n",
      "100%|██████████| 6/6 [00:00<00:00,  6.87it/s]\n"
     ]
    },
    {
     "output_type": "stream",
     "name": "stdout",
     "text": [
      "\n",
      "\n",
      "--------------------------------------------------\n",
      "Epoch  30\n",
      "Training Loss: 0.0078, Validation Loss: 0.0148\n",
      "Validation Results: \n",
      "Weighted Accuracy: 0.4851, Unweighted Accuracy: 0.5267\n",
      "Weighted F1-Score: 0.5268, Unweighted F1-Score: 0.4961,\n",
      "Test Results: \n",
      "Weighted Accuracy: 0.4218, Unweighted Accuracy: 0.4840\n",
      "Weighted F1-Score: 0.4837, Unweighted F1-Score: 0.4206,\n",
      "--------------------------------------------------\n",
      "\n",
      "\n"
     ]
    },
    {
     "output_type": "stream",
     "name": "stderr",
     "text": [
      "100%|██████████| 188/188 [00:09<00:00, 19.69it/s]\n",
      "100%|██████████| 6/6 [00:00<00:00,  7.05it/s]\n",
      "100%|██████████| 6/6 [00:00<00:00,  7.03it/s]\n"
     ]
    },
    {
     "output_type": "stream",
     "name": "stdout",
     "text": [
      "\n",
      "\n",
      "--------------------------------------------------\n",
      "Epoch  31\n",
      "Training Loss: 0.0078, Validation Loss: 0.0148\n",
      "Validation Results: \n",
      "Weighted Accuracy: 0.4851, Unweighted Accuracy: 0.5267\n",
      "Weighted F1-Score: 0.5268, Unweighted F1-Score: 0.4961,\n",
      "Test Results: \n",
      "Weighted Accuracy: 0.4218, Unweighted Accuracy: 0.4840\n",
      "Weighted F1-Score: 0.4837, Unweighted F1-Score: 0.4206,\n",
      "--------------------------------------------------\n",
      "\n",
      "\n",
      "Early stopped. No improvement in validation loss for 10 consecutive epoches.\n"
     ]
    }
   ]
  }
 ]
}
