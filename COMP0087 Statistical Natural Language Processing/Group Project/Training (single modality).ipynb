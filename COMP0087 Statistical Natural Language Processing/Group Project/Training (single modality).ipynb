{
 "nbformat": 4,
 "nbformat_minor": 0,
 "metadata": {
  "colab": {
   "provenance": [],
   "machine_shape": "hm",
   "mount_file_id": "1Mwr_l-6f9yBfsVLT77PbQD2RptRLZiNS",
   "authorship_tag": "ABX9TyP/fcMXcV8EniBvkRUAzn8c"
  },
  "kernelspec": {
   "name": "python3",
   "display_name": "Python 3"
  },
  "language_info": {
   "name": "python"
  },
  "accelerator": "GPU",
  "gpuClass": "premium"
 },
 "cells": [
  {
   "cell_type": "markdown",
   "source": [
    "# Training"
   ],
   "metadata": {
    "id": "kKj8QnHKK9kx"
   }
  },
  {
   "cell_type": "code",
   "source": [
    "pip install torchnet"
   ],
   "metadata": {
    "id": "oHen2Mb7zfoX"
   },
   "execution_count": null,
   "outputs": []
  },
  {
   "cell_type": "code",
   "execution_count": null,
   "metadata": {
    "id": "2b26L0SRK6vK"
   },
   "outputs": [],
   "source": [
    "import csv \n",
    "import pickle\n",
    "import numpy as np\n",
    "from tqdm import tqdm\n",
    "import matplotlib.pyplot as plt\n",
    "\n",
    "import torch\n",
    "import torch.optim as optim\n",
    "import torch.utils.data as data\n",
    "from torch.utils.data import DataLoader\n",
    "from torchnet.dataset import TensorDataset\n",
    "from torch.optim.lr_scheduler import ReduceLROnPlateau"
   ]
  },
  {
   "cell_type": "code",
   "source": [
    "import sys\n",
    "sys.path.append('/content/drive/MyDrive/Colab Notebooks/SNLP Group Project') "
   ],
   "metadata": {
    "id": "_IMBlHDWK_FD"
   },
   "execution_count": null,
   "outputs": []
  },
  {
   "cell_type": "code",
   "source": [
    "from models_text_audio import *"
   ],
   "metadata": {
    "id": "sMmCu9SDGRf9"
   },
   "execution_count": null,
   "outputs": []
  },
  {
   "cell_type": "markdown",
   "source": [
    "## Set Device"
   ],
   "metadata": {
    "id": "Hpblv7_3vte0"
   }
  },
  {
   "cell_type": "code",
   "source": [
    "# set device\n",
    "if torch.cuda.is_available():\n",
    "    device = torch.device(\"cuda\")\n",
    "    print(\"GPU is available.\")\n",
    "else:\n",
    "    device = torch.device(\"cpu\")\n",
    "    print(\"Using CPU.\")"
   ],
   "metadata": {
    "colab": {
     "base_uri": "https://localhost:8080/"
    },
    "id": "2_Iu0bIqvsOC",
    "executionInfo": {
     "status": "ok",
     "timestamp": 1678236018595,
     "user_tz": 0,
     "elapsed": 4,
     "user": {
      "displayName": "Ryan Li",
      "userId": "13344582354412591551"
     }
    },
    "outputId": "852b3c1c-9cbb-4274-e904-c0dc7d7e5468"
   },
   "execution_count": null,
   "outputs": [
    {
     "output_type": "stream",
     "name": "stdout",
     "text": [
      "GPU is available.\n"
     ]
    }
   ]
  },
  {
   "cell_type": "markdown",
   "source": [
    "## Load Text Features"
   ],
   "metadata": {
    "id": "75dGpb-Sv42l"
   }
  },
  {
   "cell_type": "code",
   "source": [
    "label_path = sys.path[-1]+\"/Data/Labels/labels.npy\"\n",
    "text_path = sys.path[-1]+\"/Data/Text Features/text_features.pt\"\n",
    "audio_path = sys.path[-1]+\"/Data/Audio Features/audio_features.pt\""
   ],
   "metadata": {
    "id": "b8BI9V1Evyh3"
   },
   "execution_count": null,
   "outputs": []
  },
  {
   "cell_type": "code",
   "source": [
    "labels = np.load(label_path)\n",
    "print('Labels loaded!')"
   ],
   "metadata": {
    "colab": {
     "base_uri": "https://localhost:8080/"
    },
    "id": "RmKkF8iw0XUc",
    "executionInfo": {
     "status": "ok",
     "timestamp": 1678236021132,
     "user_tz": 0,
     "elapsed": 2539,
     "user": {
      "displayName": "Ryan Li",
      "userId": "13344582354412591551"
     }
    },
    "outputId": "edd4169e-6f33-496f-eee9-502d06999132"
   },
   "execution_count": null,
   "outputs": [
    {
     "output_type": "stream",
     "name": "stdout",
     "text": [
      "Labels loaded!\n"
     ]
    }
   ]
  },
  {
   "cell_type": "code",
   "source": [
    "text_features = torch.load(text_path, map_location=torch.device('cpu'))\n",
    "print('Text features loaded!')"
   ],
   "metadata": {
    "id": "q0Jqal89FyzS"
   },
   "execution_count": null,
   "outputs": []
  },
  {
   "cell_type": "code",
   "source": [
    "audio_features = torch.load(audio_path, map_location=torch.device('cpu'))\n",
    "print('Audio features loaded!')"
   ],
   "metadata": {
    "id": "Bs3I3uzn0Vd5",
    "executionInfo": {
     "status": "ok",
     "timestamp": 1678236233696,
     "user_tz": 0,
     "elapsed": 212567,
     "user": {
      "displayName": "Ryan Li",
      "userId": "13344582354412591551"
     }
    },
    "colab": {
     "base_uri": "https://localhost:8080/"
    },
    "outputId": "feedd8b8-48fb-474d-98ac-37b943956b3c"
   },
   "execution_count": null,
   "outputs": [
    {
     "output_type": "stream",
     "name": "stdout",
     "text": [
      "Audio features loaded!\n"
     ]
    }
   ]
  },
  {
   "cell_type": "markdown",
   "source": [
    "## Datasets and Loaders"
   ],
   "metadata": {
    "id": "hTPc4ASNxIQK"
   }
  },
  {
   "cell_type": "code",
   "source": [
    "def train_test_split(dataset, valid_ratio, test_ratio, shuffle=True):\n",
    "    test_size = int(test_ratio*len(dataset))\n",
    "    valid_size = int(valid_ratio*len(dataset))\n",
    "    train_size = len(dataset) - valid_size - test_size\n",
    "    if shuffle:\n",
    "        train_set, valid_set, test_set = data.random_split(dataset, [train_size, valid_size, test_size])\n",
    "    else:\n",
    "        train_idx = np.arange(train_size)\n",
    "        valid_idx = np.arange(train_size, train_size+valid_size)\n",
    "        test_idx = np.arange(train_size+valid_size, len(dataset))\n",
    "        train_set = TensorDataset([torch.utils.data.Subset(dataset, train_idx)])\n",
    "        valid_set = TensorDataset([torch.utils.data.Subset(dataset, valid_idx)])\n",
    "        test_set = TensorDataset([torch.utils.data.Subset(dataset, test_idx)])\n",
    "    return train_set, valid_set, test_set"
   ],
   "metadata": {
    "id": "8MrWgMWawcB7"
   },
   "execution_count": null,
   "outputs": []
  },
  {
   "cell_type": "code",
   "source": [
    "fold_ids = {}\n",
    "for i in range(1, 6):\n",
    "    fold_path = sys.path[-1]+\"/Data/Folds/fold\" + f\"0{i}_id.txt\"\n",
    "    ids = []\n",
    "    with open(fold_path, 'r') as f:\n",
    "        for row in csv.reader(f, delimiter=' '):\n",
    "            for item in row:\n",
    "                if item.isdigit():\n",
    "                    ids.append(int(item))\n",
    "    fold_ids[f\"fold0{i}\"] = ids\n",
    "print('Fold ids loaded!')"
   ],
   "metadata": {
    "colab": {
     "base_uri": "https://localhost:8080/"
    },
    "id": "WEhTVkYZtROH",
    "executionInfo": {
     "status": "ok",
     "timestamp": 1678236239022,
     "user_tz": 0,
     "elapsed": 5343,
     "user": {
      "displayName": "Ryan Li",
      "userId": "13344582354412591551"
     }
    },
    "outputId": "d9032f97-c8c5-416c-c338-4359f3687f43"
   },
   "execution_count": null,
   "outputs": [
    {
     "output_type": "stream",
     "name": "stdout",
     "text": [
      "Fold ids loaded!\n"
     ]
    }
   ]
  },
  {
   "cell_type": "markdown",
   "source": [
    "## Training"
   ],
   "metadata": {
    "id": "MXWEfW3_3P46"
   }
  },
  {
   "cell_type": "code",
   "source": [
    "def save_model(model, name):\n",
    "    torch.save(model.state_dict(), name)\n",
    "\n",
    "def load_model(model, name):\n",
    "    weights = torch.load(name)\n",
    "    model.load_state_dict(weights)\n",
    "    return model"
   ],
   "metadata": {
    "id": "Cy5G7Uee8_4J"
   },
   "execution_count": null,
   "outputs": []
  },
  {
   "cell_type": "code",
   "source": [
    "from sklearn.metrics import f1_score, accuracy_score, confusion_matrix, classification_report\n",
    "\n",
    "def weighted_accuracy(list_y_true, list_y_pred):\n",
    "    assert (len(list_y_true) == len(list_y_pred))\n",
    "    y_true = np.array(list_y_true)\n",
    "    y_pred = np.array(list_y_pred)\n",
    "    uwa = accuracy_score(y_true=y_true, y_pred=y_pred)\n",
    "    return uwa\n",
    "\n",
    "def unweighted_accuracy(list_y_true, list_y_pred):\n",
    "    assert (len(list_y_true) == len(list_y_pred))\n",
    "    y_true = np.array(list_y_true)\n",
    "    y_pred = np.array(list_y_pred)\n",
    "    w = np.ones(y_true.shape[0])\n",
    "    for idx, i in enumerate(np.bincount(y_true)):\n",
    "        w[y_true == idx] = float(1 / i)\n",
    "    wa = accuracy_score(y_true=y_true, y_pred=y_pred, sample_weight=w)\n",
    "    return wa\n",
    "\n",
    "def weighted_f1(list_y_true, list_y_pred):\n",
    "    assert (len(list_y_true) == len(list_y_pred))\n",
    "    wf1 = f1_score(y_true=list_y_true, y_pred=list_y_pred, average='weighted')\n",
    "    return wf1\n",
    "\n",
    "def unweighted_f1(list_y_true, list_y_pred):\n",
    "    assert (len(list_y_true) == len(list_y_pred))\n",
    "    uwf1 = f1_score(y_true=list_y_true, y_pred=list_y_pred, average='macro')\n",
    "    return uwf1\n",
    "\n",
    "def evaluate_metrics(preds, labels):\n",
    "    labels = labels.cpu().numpy().tolist()\n",
    "    preds = torch.argmax(preds, dim=1).cpu().numpy().tolist()\n",
    "    wa = weighted_accuracy(labels, preds)\n",
    "    uwa = unweighted_accuracy(labels, preds)\n",
    "    wf1 = weighted_f1(labels, preds)\n",
    "    uwf1 = unweighted_f1(labels, preds)\n",
    "    cm = confusion_matrix(labels, preds)\n",
    "    return wa, uwa, wf1, uwf1, cm"
   ],
   "metadata": {
    "id": "uGGMEbAm5DSg"
   },
   "execution_count": null,
   "outputs": []
  },
  {
   "cell_type": "code",
   "source": [
    "def train_model(model, params, train_loader, valid_loader, test_loader, report_loss=True):\n",
    "\n",
    "    device = params['device']\n",
    "    n_epochs = params['n_epochs']\n",
    "    criterion = params['criterion']\n",
    "    optimizer = params['optimizer']\n",
    "    scheduler = params['scheduler']\n",
    "\n",
    "    stop = 0\n",
    "    best_valid_uwa = 0\n",
    "\n",
    "    valid_metrics = {}\n",
    "    test_metrics = {}\n",
    "    train_loss, valid_loss, test_loss = [], [], []\n",
    "    valid_wa, valid_uwa, valid_wf1, valid_uwf1, valid_cm = [], [], [], [], []\n",
    "    test_wa, test_uwa, test_wf1, test_uwf1, test_cm = [], [], [], [], []\n",
    "\n",
    "    for epoch in range(n_epochs):\n",
    "\n",
    "        model.train()\n",
    "        train_loss_i, batch, total = 0, 0, 0\n",
    "        for data in tqdm(train_loader):\n",
    "            x_text, labels = data[0][0].to(device), data[0][1].to(device)\n",
    "            preds, _ = model(x_text)\n",
    "            loss = criterion(preds, labels)\n",
    "            optimizer.zero_grad()\n",
    "            loss.backward()\n",
    "            optimizer.step()\n",
    "            train_loss_i += loss.item()\n",
    "            batch += 1\n",
    "            total += labels.shape[0]\n",
    "            # if report_loss and batch%50==0:\n",
    "            #     print(\"Batch: {}, Training Loss: {:.4f}\".format(batch, train_loss_i/total))\n",
    "        train_loss_i /= len(train_loader.dataset)\n",
    "\n",
    "        valid_loss_i = 0.0\n",
    "        valid_preds, valid_labels= [], []\n",
    "        model.eval()\n",
    "        with torch.no_grad():\n",
    "            for data in tqdm(valid_loader):\n",
    "                x_text, labels = data[0][0].to(device), data[0][1].to(device)\n",
    "                preds, _ = model(x_text)\n",
    "                loss = criterion(preds, labels)\n",
    "                valid_loss_i += loss.item()\n",
    "                valid_preds.append(preds)\n",
    "                valid_labels.append(labels)\n",
    "        valid_loss_i /= len(valid_loader.dataset)\n",
    "        valid_preds = torch.cat(valid_preds)\n",
    "        valid_labels = torch.cat(valid_labels)\n",
    "\n",
    "        valid_wa_i, valid_uwa_i, valid_wf1_i, valid_uwf1_i, valid_cm_i = evaluate_metrics(valid_preds, valid_labels)\n",
    "\n",
    "        test_loss_i = 0.0\n",
    "        test_preds, test_labels= [], []\n",
    "        model.eval()\n",
    "        with torch.no_grad():\n",
    "            for data in tqdm(test_loader):\n",
    "                x_text, labels = data[0][0].to(device), data[0][1].to(device)\n",
    "                preds, _ = model(x_text)\n",
    "                loss = criterion(preds, labels)\n",
    "                test_loss_i += loss.item()\n",
    "                test_preds.append(preds)\n",
    "                test_labels.append(labels)\n",
    "        test_loss_i /= len(test_loader.dataset)\n",
    "        test_preds = torch.cat(test_preds)\n",
    "        test_labels = torch.cat(test_labels)\n",
    "\n",
    "        test_wa_i, test_uwa_i, test_wf1_i, test_uwf1_i, test_cm_i = evaluate_metrics(test_preds, test_labels)\n",
    "\n",
    "        scheduler.step(valid_loss_i)  # decay learning rate by validation loss\n",
    "\n",
    "        if valid_uwa_i > best_valid_uwa:\n",
    "            save_model(model, sys.path[-1]+'/Models/'+params['model_name']+'_audio.pt')\n",
    "            print(\"Saved model at epoch {} with validation unweighted accuracy of {:.2f}%\".format(epoch+1, 100*valid_uwa_i))\n",
    "            best_valid_uwa = valid_uwa_i\n",
    "\n",
    "        if report_loss:\n",
    "            print(\"\\n\")\n",
    "            print(\"-\" * 50)\n",
    "            print(\"Epoch \", epoch+1)\n",
    "            print(\"Training Loss: {:.4f}, Validation Loss: {:.4f}\".format(train_loss_i, valid_loss_i))\n",
    "            print('Validation Results: ')\n",
    "            print(\"Weighted Accuracy: {:.4f}, Unweighted Accuracy: {:.4f}\".format(valid_wa_i, valid_uwa_i))\n",
    "            print(\"Weighted F1-Score: {:.4f}, Unweighted F1-Score: {:.4f},\".format(valid_wf1_i, valid_uwf1_i))\n",
    "            print('Test Results: ')\n",
    "            print(\"Weighted Accuracy: {:.4f}, Unweighted Accuracy: {:.4f}\".format(test_wa_i, test_uwa_i))\n",
    "            print(\"Weighted F1-Score: {:.4f}, Unweighted F1-Score: {:.4f},\".format(test_wf1_i, test_uwf1_i))\n",
    "            print(\"-\" * 50)\n",
    "            print(\"\\n\")\n",
    "        \n",
    "        if len(valid_loss) > 0:  \n",
    "            if valid_loss_i < valid_loss[-1]:\n",
    "                stop = 0\n",
    "            else:\n",
    "                stop += 1\n",
    "                if stop >= 10:   # stop training when no improvement observed in 10 consecutive epoches\n",
    "                    print('Early stopped. No improvement in validation loss for 10 consecutive epoches.')\n",
    "                    break\n",
    "        \n",
    "        train_loss.append(train_loss_i)\n",
    "        valid_loss.append(valid_loss_i)\n",
    "        test_loss.append(test_loss_i)\n",
    "\n",
    "        valid_wa.append(valid_wa_i)\n",
    "        valid_uwa.append(valid_uwa_i)\n",
    "        valid_wf1.append(valid_wf1_i)\n",
    "        valid_uwf1.append(valid_uwf1_i)\n",
    "        valid_cm.append(valid_cm_i)\n",
    "\n",
    "        test_wa.append(test_wa_i)\n",
    "        test_uwa.append(test_uwa_i)\n",
    "        test_wf1.append(test_wf1_i)\n",
    "        test_uwf1.append(test_uwf1_i)\n",
    "        test_cm.append(test_cm_i)\n",
    "\n",
    "    valid_metrics['wa'] = valid_wa\n",
    "    valid_metrics['uwa'] = valid_uwa\n",
    "    valid_metrics['wf1'] = valid_wf1\n",
    "    valid_metrics['uwf1'] = valid_uwf1\n",
    "    valid_metrics['cm'] = valid_cm\n",
    "\n",
    "    test_metrics['wa'] = test_wa\n",
    "    test_metrics['uwa'] = test_uwa\n",
    "    test_metrics['wf1'] = test_wf1\n",
    "    test_metrics['uwf1'] = test_uwf1\n",
    "    test_metrics['cm'] = test_cm\n",
    "\n",
    "    return train_loss, valid_loss, test_loss, valid_metrics, test_metrics"
   ],
   "metadata": {
    "id": "GAs5o7Bc9Na-"
   },
   "execution_count": null,
   "outputs": []
  },
  {
   "cell_type": "markdown",
   "source": [
    "## Model Parameters"
   ],
   "metadata": {
    "id": "uEq9w0IAsNMY"
   }
  },
  {
   "cell_type": "code",
   "source": [
    "model_params = {'txt_embed_size': 1024,\n",
    "                'embed_size': 768,\n",
    "                'txt_H': 4,\n",
    "                'aud_H': 6,\n",
    "                'ta_H': 6,\n",
    "                'at_H': 6,\n",
    "                'txt_dropout': 0.1,\n",
    "                'aud_dropout': 0.1,\n",
    "                'ta_dropout': 0.1,\n",
    "                'at_dropout': 0.1,\n",
    "                'output_dim': 7}"
   ],
   "metadata": {
    "id": "D2IqivsHTYv6"
   },
   "execution_count": null,
   "outputs": []
  },
  {
   "cell_type": "markdown",
   "source": [
    "## Loop Training"
   ],
   "metadata": {
    "id": "kbFTKyUIEZo_"
   }
  },
  {
   "cell_type": "code",
   "source": [
    "for i in range(1,6):\n",
    "\n",
    "    ids = fold_ids[f'fold0{i}']      \n",
    "\n",
    "    dataset = TensorDataset([audio_features[ids].float(), torch.tensor(labels)[ids].long()])\n",
    "    train_set, valid_set, test_set = train_test_split(dataset, valid_ratio=0.1, test_ratio=0.1, shuffle=False)\n",
    "    train_loader = DataLoader(train_set, batch_size=32, shuffle=True)\n",
    "    valid_loader = DataLoader(valid_set, batch_size=128, shuffle=False)\n",
    "    test_loader = DataLoader(test_set, batch_size=128, shuffle=False)\n",
    "\n",
    "    model_sa = SSE_Audio(model_params)\n",
    "    model_sa.to(device)\n",
    "    criterion_sa = nn.CrossEntropyLoss()\n",
    "    optimizer_sa = optim.Adam(model_sa.parameters(), lr=1e-4)\n",
    "    scheduler_sa = ReduceLROnPlateau(optimizer_sa, mode='min', patience=5, factor=0.1, verbose=True)\n",
    "    sa_params = {'n_epochs': 50,\n",
    "                 'criterion': criterion_sa,\n",
    "                 'optimizer': optimizer_sa,\n",
    "                 'scheduler': scheduler_sa,\n",
    "                 'model_name': f'model_audio_0{i}',\n",
    "                 'device': device}\n",
    "    train_loss_sa, valid_loss_sa, test_loss_sa, valid_metrics_sa, test_metrics_sa = train_model(model_sa, sa_params, train_loader, valid_loader, test_loader)\n",
    "    \n",
    "    with open(sys.path[-1]+f\"/Training Results Audio/train_loss_sa_0{i}.pkl\", 'wb') as f:\n",
    "        pickle.dump(train_loss_sa, f)\n",
    "    with open(sys.path[-1]+f\"/Training Results Audio/valid_loss_sa_0{i}.pkl\", 'wb') as f:\n",
    "        pickle.dump(valid_loss_sa, f)\n",
    "    with open(sys.path[-1]+f\"/Training Results Audio/test_loss_sa_0{i}.pkl\", 'wb') as f:\n",
    "        pickle.dump(test_loss_sa, f)\n",
    "    with open(sys.path[-1]+f\"/Training Results Audio/valid_metrics_sa_0{i}.pkl\", 'wb') as f:\n",
    "        pickle.dump(valid_metrics_sa, f)\n",
    "    with open(sys.path[-1]+f\"/Training Results Audio/test_metrics_sa_0{i}.pkl\", 'wb') as f:\n",
    "        pickle.dump(test_metrics_sa, f)\n",
    "\n",
    "    model_sa = SSE_Text(model_params)\n",
    "    model_sa.to(device)\n",
    "    criterion_sa = nn.CrossEntropyLoss()\n",
    "    optimizer_sa = optim.Adam(model_sa.parameters(), lr=1e-4)\n",
    "    scheduler_sa = ReduceLROnPlateau(optimizer_sa, mode='min', patience=5, factor=0.1, verbose=True)\n",
    "    sa_params = {'n_epochs': 50,\n",
    "                 'criterion': criterion_sa,\n",
    "                 'optimizer': optimizer_sa,\n",
    "                 'scheduler': scheduler_sa,\n",
    "                 'model_name': f'model_text_0{i}',\n",
    "                 'device': device}\n",
    "    train_loss_sa, valid_loss_sa, test_loss_sa, valid_metrics_sa, test_metrics_sa = train_model(model_sa, sa_params, train_loader, valid_loader, test_loader)\n",
    "    with open(sys.path[-1]+f\"/Training Results Text New/train_loss_sa_0{i}.pkl\", 'wb') as f:\n",
    "        pickle.dump(train_loss_sa, f)\n",
    "    with open(sys.path[-1]+f\"/Training Results Text New/valid_loss_sa_0{i}.pkl\", 'wb') as f:\n",
    "        pickle.dump(valid_loss_sa, f)\n",
    "    with open(sys.path[-1]+f\"/Training Results Text New/test_loss_sa_0{i}.pkl\", 'wb') as f:\n",
    "        pickle.dump(test_loss_sa, f)\n",
    "    with open(sys.path[-1]+f\"/Training Results Text New/valid_metrics_sa_0{i}.pkl\", 'wb') as f:\n",
    "        pickle.dump(valid_metrics_sa, f)\n",
    "    with open(sys.path[-1]+f\"/Training Results Text New/test_metrics_sa_0{i}.pkl\", 'wb') as f:\n",
    "        pickle.dump(test_metrics_sa, f)\n",
    "\n",
    "    model_sa = SSE_Text_CLS(model_params)\n",
    "    model_sa.to(device)\n",
    "    criterion_sa = nn.CrossEntropyLoss()\n",
    "    optimizer_sa = optim.Adam(model_sa.parameters(), lr=1e-4)\n",
    "    scheduler_sa = ReduceLROnPlateau(optimizer_sa, mode='min', patience=5, factor=0.1, verbose=True)\n",
    "    sa_params = {'n_epochs': 50,\n",
    "                 'criterion': criterion_sa,\n",
    "                 'optimizer': optimizer_sa,\n",
    "                 'scheduler': scheduler_sa,\n",
    "                 'model_name': f'model_text_cls_0{i}',\n",
    "                 'device': device}\n",
    "    train_loss_sa, valid_loss_sa, test_loss_sa, valid_metrics_sa, test_metrics_sa = train_model(model_sa, sa_params, train_loader, valid_loader, test_loader)\n",
    "    with open(sys.path[-1]+f\"/Training Results Text CLS/train_loss_sa_0{i}.pkl\", 'wb') as f:\n",
    "        pickle.dump(train_loss_sa, f)\n",
    "    with open(sys.path[-1]+f\"/Training Results Text CLS/valid_loss_sa_0{i}.pkl\", 'wb') as f:\n",
    "        pickle.dump(valid_loss_sa, f)\n",
    "    with open(sys.path[-1]+f\"/Training Results Text CLS/test_loss_sa_0{i}.pkl\", 'wb') as f:\n",
    "        pickle.dump(test_loss_sa, f)\n",
    "    with open(sys.path[-1]+f\"/Training Results Text CLS/valid_metrics_sa_0{i}.pkl\", 'wb') as f:\n",
    "        pickle.dump(valid_metrics_sa, f)\n",
    "    with open(sys.path[-1]+f\"/Training Results Text CLS/test_metrics_sa_0{i}.pkl\", 'wb') as f:\n",
    "        pickle.dump(test_metrics_sa, f)"
   ],
   "metadata": {
    "colab": {
     "base_uri": "https://localhost:8080/"
    },
    "id": "8s8RHhxeCvRZ",
    "outputId": "f9e082ce-8d67-4a88-9861-2805155f138e",
    "executionInfo": {
     "status": "ok",
     "timestamp": 1678237423636,
     "user_tz": 0,
     "elapsed": 1183040,
     "user": {
      "displayName": "Ryan Li",
      "userId": "13344582354412591551"
     }
    }
   },
   "execution_count": null,
   "outputs": [
    {
     "output_type": "stream",
     "name": "stderr",
     "text": [
      "100%|██████████| 188/188 [00:10<00:00, 17.97it/s]\n",
      "100%|██████████| 6/6 [00:00<00:00,  9.46it/s]\n",
      "100%|██████████| 6/6 [00:00<00:00,  9.36it/s]\n"
     ]
    },
    {
     "output_type": "stream",
     "name": "stdout",
     "text": [
      "Saved model at epoch 1 with validation unweighted accuracy of 22.46%\n",
      "\n",
      "\n",
      "--------------------------------------------------\n",
      "Epoch  1\n",
      "Training Loss: 0.0563, Validation Loss: 0.0144\n",
      "Validation Results: \n",
      "Weighted Accuracy: 0.1429, Unweighted Accuracy: 0.2246\n",
      "Weighted F1-Score: 0.0824, Unweighted F1-Score: 0.0524,\n",
      "Test Results: \n",
      "Weighted Accuracy: 0.1429, Unweighted Accuracy: 0.2433\n",
      "Weighted F1-Score: 0.0952, Unweighted F1-Score: 0.0559,\n",
      "--------------------------------------------------\n",
      "\n",
      "\n"
     ]
    },
    {
     "output_type": "stream",
     "name": "stderr",
     "text": [
      "100%|██████████| 188/188 [00:07<00:00, 25.12it/s]\n",
      "100%|██████████| 6/6 [00:00<00:00,  9.65it/s]\n",
      "100%|██████████| 6/6 [00:00<00:00,  9.53it/s]\n"
     ]
    },
    {
     "output_type": "stream",
     "name": "stdout",
     "text": [
      "\n",
      "\n",
      "--------------------------------------------------\n",
      "Epoch  2\n",
      "Training Loss: 0.0560, Validation Loss: 0.0143\n",
      "Validation Results: \n",
      "Weighted Accuracy: 0.1401, Unweighted Accuracy: 0.2246\n",
      "Weighted F1-Score: 0.1411, Unweighted F1-Score: 0.0880,\n",
      "Test Results: \n",
      "Weighted Accuracy: 0.1453, Unweighted Accuracy: 0.2299\n",
      "Weighted F1-Score: 0.1433, Unweighted F1-Score: 0.0902,\n",
      "--------------------------------------------------\n",
      "\n",
      "\n"
     ]
    },
    {
     "output_type": "stream",
     "name": "stderr",
     "text": [
      "100%|██████████| 188/188 [00:07<00:00, 25.24it/s]\n",
      "100%|██████████| 6/6 [00:00<00:00,  9.73it/s]\n",
      "100%|██████████| 6/6 [00:00<00:00,  9.56it/s]\n"
     ]
    },
    {
     "output_type": "stream",
     "name": "stdout",
     "text": [
      "\n",
      "\n",
      "--------------------------------------------------\n",
      "Epoch  3\n",
      "Training Loss: 0.0560, Validation Loss: 0.0143\n",
      "Validation Results: \n",
      "Weighted Accuracy: 0.1404, Unweighted Accuracy: 0.2246\n",
      "Weighted F1-Score: 0.1401, Unweighted F1-Score: 0.0875,\n",
      "Test Results: \n",
      "Weighted Accuracy: 0.1426, Unweighted Accuracy: 0.2273\n",
      "Weighted F1-Score: 0.1408, Unweighted F1-Score: 0.0885,\n",
      "--------------------------------------------------\n",
      "\n",
      "\n"
     ]
    },
    {
     "output_type": "stream",
     "name": "stderr",
     "text": [
      "100%|██████████| 188/188 [00:07<00:00, 25.55it/s]\n",
      "100%|██████████| 6/6 [00:00<00:00,  9.44it/s]\n",
      "100%|██████████| 6/6 [00:00<00:00,  9.25it/s]\n"
     ]
    },
    {
     "output_type": "stream",
     "name": "stdout",
     "text": [
      "\n",
      "\n",
      "--------------------------------------------------\n",
      "Epoch  4\n",
      "Training Loss: 0.0560, Validation Loss: 0.0143\n",
      "Validation Results: \n",
      "Weighted Accuracy: 0.1351, Unweighted Accuracy: 0.2193\n",
      "Weighted F1-Score: 0.1270, Unweighted F1-Score: 0.0788,\n",
      "Test Results: \n",
      "Weighted Accuracy: 0.1478, Unweighted Accuracy: 0.2233\n",
      "Weighted F1-Score: 0.1329, Unweighted F1-Score: 0.0849,\n",
      "--------------------------------------------------\n",
      "\n",
      "\n"
     ]
    },
    {
     "output_type": "stream",
     "name": "stderr",
     "text": [
      "100%|██████████| 188/188 [00:07<00:00, 25.19it/s]\n",
      "100%|██████████| 6/6 [00:00<00:00,  9.59it/s]\n",
      "100%|██████████| 6/6 [00:00<00:00,  9.26it/s]\n"
     ]
    },
    {
     "output_type": "stream",
     "name": "stdout",
     "text": [
      "Saved model at epoch 5 with validation unweighted accuracy of 23.26%\n",
      "\n",
      "\n",
      "--------------------------------------------------\n",
      "Epoch  5\n",
      "Training Loss: 0.0560, Validation Loss: 0.0143\n",
      "Validation Results: \n",
      "Weighted Accuracy: 0.1464, Unweighted Accuracy: 0.2326\n",
      "Weighted F1-Score: 0.1383, Unweighted F1-Score: 0.0865,\n",
      "Test Results: \n",
      "Weighted Accuracy: 0.1489, Unweighted Accuracy: 0.2433\n",
      "Weighted F1-Score: 0.1433, Unweighted F1-Score: 0.0894,\n",
      "--------------------------------------------------\n",
      "\n",
      "\n"
     ]
    },
    {
     "output_type": "stream",
     "name": "stderr",
     "text": [
      "100%|██████████| 188/188 [00:07<00:00, 25.17it/s]\n",
      "100%|██████████| 6/6 [00:00<00:00,  9.26it/s]\n",
      "100%|██████████| 6/6 [00:00<00:00,  9.32it/s]\n"
     ]
    },
    {
     "output_type": "stream",
     "name": "stdout",
     "text": [
      "\n",
      "\n",
      "--------------------------------------------------\n",
      "Epoch  6\n",
      "Training Loss: 0.0558, Validation Loss: 0.0145\n",
      "Validation Results: \n",
      "Weighted Accuracy: 0.1400, Unweighted Accuracy: 0.2286\n",
      "Weighted F1-Score: 0.1116, Unweighted F1-Score: 0.0689,\n",
      "Test Results: \n",
      "Weighted Accuracy: 0.1511, Unweighted Accuracy: 0.2219\n",
      "Weighted F1-Score: 0.1037, Unweighted F1-Score: 0.0683,\n",
      "--------------------------------------------------\n",
      "\n",
      "\n"
     ]
    },
    {
     "output_type": "stream",
     "name": "stderr",
     "text": [
      "100%|██████████| 188/188 [00:07<00:00, 25.35it/s]\n",
      "100%|██████████| 6/6 [00:00<00:00,  9.47it/s]\n",
      "100%|██████████| 6/6 [00:00<00:00,  9.34it/s]\n"
     ]
    },
    {
     "output_type": "stream",
     "name": "stdout",
     "text": [
      "\n",
      "\n",
      "--------------------------------------------------\n",
      "Epoch  7\n",
      "Training Loss: 0.0558, Validation Loss: 0.0144\n",
      "Validation Results: \n",
      "Weighted Accuracy: 0.1406, Unweighted Accuracy: 0.2219\n",
      "Weighted F1-Score: 0.1088, Unweighted F1-Score: 0.0685,\n",
      "Test Results: \n",
      "Weighted Accuracy: 0.1432, Unweighted Accuracy: 0.2406\n",
      "Weighted F1-Score: 0.1197, Unweighted F1-Score: 0.0730,\n",
      "--------------------------------------------------\n",
      "\n",
      "\n"
     ]
    },
    {
     "output_type": "stream",
     "name": "stderr",
     "text": [
      "100%|██████████| 188/188 [00:07<00:00, 25.01it/s]\n",
      "100%|██████████| 6/6 [00:00<00:00,  9.39it/s]\n",
      "100%|██████████| 6/6 [00:00<00:00,  9.42it/s]\n"
     ]
    },
    {
     "output_type": "stream",
     "name": "stdout",
     "text": [
      "\n",
      "\n",
      "--------------------------------------------------\n",
      "Epoch  8\n",
      "Training Loss: 0.0558, Validation Loss: 0.0143\n",
      "Validation Results: \n",
      "Weighted Accuracy: 0.1418, Unweighted Accuracy: 0.2246\n",
      "Weighted F1-Score: 0.1254, Unweighted F1-Score: 0.0786,\n",
      "Test Results: \n",
      "Weighted Accuracy: 0.1531, Unweighted Accuracy: 0.2527\n",
      "Weighted F1-Score: 0.1443, Unweighted F1-Score: 0.0899,\n",
      "--------------------------------------------------\n",
      "\n",
      "\n"
     ]
    },
    {
     "output_type": "stream",
     "name": "stderr",
     "text": [
      "100%|██████████| 188/188 [00:07<00:00, 25.03it/s]\n",
      "100%|██████████| 6/6 [00:00<00:00,  9.82it/s]\n",
      "100%|██████████| 6/6 [00:00<00:00,  9.67it/s]\n"
     ]
    },
    {
     "output_type": "stream",
     "name": "stdout",
     "text": [
      "\n",
      "\n",
      "--------------------------------------------------\n",
      "Epoch  9\n",
      "Training Loss: 0.0557, Validation Loss: 0.0143\n",
      "Validation Results: \n",
      "Weighted Accuracy: 0.1437, Unweighted Accuracy: 0.2299\n",
      "Weighted F1-Score: 0.1439, Unweighted F1-Score: 0.0898,\n",
      "Test Results: \n",
      "Weighted Accuracy: 0.1521, Unweighted Accuracy: 0.2406\n",
      "Weighted F1-Score: 0.1494, Unweighted F1-Score: 0.0947,\n",
      "--------------------------------------------------\n",
      "\n",
      "\n"
     ]
    },
    {
     "output_type": "stream",
     "name": "stderr",
     "text": [
      "100%|██████████| 188/188 [00:07<00:00, 24.99it/s]\n",
      "100%|██████████| 6/6 [00:00<00:00,  9.69it/s]\n",
      "100%|██████████| 6/6 [00:00<00:00,  9.39it/s]\n"
     ]
    },
    {
     "output_type": "stream",
     "name": "stdout",
     "text": [
      "Saved model at epoch 10 with validation unweighted accuracy of 24.33%\n",
      "\n",
      "\n",
      "--------------------------------------------------\n",
      "Epoch  10\n",
      "Training Loss: 0.0557, Validation Loss: 0.0143\n",
      "Validation Results: \n",
      "Weighted Accuracy: 0.1530, Unweighted Accuracy: 0.2433\n",
      "Weighted F1-Score: 0.1599, Unweighted F1-Score: 0.1011,\n",
      "Test Results: \n",
      "Weighted Accuracy: 0.1487, Unweighted Accuracy: 0.2393\n",
      "Weighted F1-Score: 0.1485, Unweighted F1-Score: 0.0931,\n",
      "--------------------------------------------------\n",
      "\n",
      "\n"
     ]
    },
    {
     "output_type": "stream",
     "name": "stderr",
     "text": [
      "100%|██████████| 188/188 [00:07<00:00, 25.56it/s]\n",
      "100%|██████████| 6/6 [00:00<00:00,  9.44it/s]\n",
      "100%|██████████| 6/6 [00:00<00:00,  9.25it/s]\n"
     ]
    },
    {
     "output_type": "stream",
     "name": "stdout",
     "text": [
      "\n",
      "\n",
      "--------------------------------------------------\n",
      "Epoch  11\n",
      "Training Loss: 0.0556, Validation Loss: 0.0144\n",
      "Validation Results: \n",
      "Weighted Accuracy: 0.1447, Unweighted Accuracy: 0.2313\n",
      "Weighted F1-Score: 0.1496, Unweighted F1-Score: 0.0950,\n",
      "Test Results: \n",
      "Weighted Accuracy: 0.1559, Unweighted Accuracy: 0.2420\n",
      "Weighted F1-Score: 0.1511, Unweighted F1-Score: 0.0958,\n",
      "--------------------------------------------------\n",
      "\n",
      "\n"
     ]
    },
    {
     "output_type": "stream",
     "name": "stderr",
     "text": [
      "100%|██████████| 188/188 [00:07<00:00, 24.90it/s]\n",
      "100%|██████████| 6/6 [00:00<00:00,  9.71it/s]\n",
      "100%|██████████| 6/6 [00:00<00:00,  9.41it/s]\n"
     ]
    },
    {
     "output_type": "stream",
     "name": "stdout",
     "text": [
      "\n",
      "\n",
      "--------------------------------------------------\n",
      "Epoch  12\n",
      "Training Loss: 0.0554, Validation Loss: 0.0144\n",
      "Validation Results: \n",
      "Weighted Accuracy: 0.1519, Unweighted Accuracy: 0.2406\n",
      "Weighted F1-Score: 0.1488, Unweighted F1-Score: 0.0944,\n",
      "Test Results: \n",
      "Weighted Accuracy: 0.1489, Unweighted Accuracy: 0.2420\n",
      "Weighted F1-Score: 0.1468, Unweighted F1-Score: 0.0923,\n",
      "--------------------------------------------------\n",
      "\n",
      "\n"
     ]
    },
    {
     "output_type": "stream",
     "name": "stderr",
     "text": [
      "100%|██████████| 188/188 [00:07<00:00, 25.07it/s]\n",
      "100%|██████████| 6/6 [00:00<00:00,  9.88it/s]\n",
      "100%|██████████| 6/6 [00:00<00:00,  9.49it/s]\n"
     ]
    },
    {
     "output_type": "stream",
     "name": "stdout",
     "text": [
      "\n",
      "\n",
      "--------------------------------------------------\n",
      "Epoch  13\n",
      "Training Loss: 0.0553, Validation Loss: 0.0145\n",
      "Validation Results: \n",
      "Weighted Accuracy: 0.1453, Unweighted Accuracy: 0.2313\n",
      "Weighted F1-Score: 0.1523, Unweighted F1-Score: 0.0978,\n",
      "Test Results: \n",
      "Weighted Accuracy: 0.1565, Unweighted Accuracy: 0.2433\n",
      "Weighted F1-Score: 0.1546, Unweighted F1-Score: 0.0979,\n",
      "--------------------------------------------------\n",
      "\n",
      "\n"
     ]
    },
    {
     "output_type": "stream",
     "name": "stderr",
     "text": [
      "100%|██████████| 188/188 [00:07<00:00, 25.06it/s]\n",
      "100%|██████████| 6/6 [00:00<00:00,  9.40it/s]\n",
      "100%|██████████| 6/6 [00:00<00:00,  9.29it/s]\n"
     ]
    },
    {
     "output_type": "stream",
     "name": "stdout",
     "text": [
      "\n",
      "\n",
      "--------------------------------------------------\n",
      "Epoch  14\n",
      "Training Loss: 0.0550, Validation Loss: 0.0144\n",
      "Validation Results: \n",
      "Weighted Accuracy: 0.1447, Unweighted Accuracy: 0.2286\n",
      "Weighted F1-Score: 0.1603, Unweighted F1-Score: 0.1032,\n",
      "Test Results: \n",
      "Weighted Accuracy: 0.1581, Unweighted Accuracy: 0.2473\n",
      "Weighted F1-Score: 0.1654, Unweighted F1-Score: 0.1078,\n",
      "--------------------------------------------------\n",
      "\n",
      "\n"
     ]
    },
    {
     "output_type": "stream",
     "name": "stderr",
     "text": [
      "100%|██████████| 188/188 [00:07<00:00, 24.80it/s]\n",
      "100%|██████████| 6/6 [00:00<00:00,  9.42it/s]\n",
      "100%|██████████| 6/6 [00:00<00:00,  9.49it/s]\n"
     ]
    },
    {
     "output_type": "stream",
     "name": "stdout",
     "text": [
      "Epoch 00015: reducing learning rate of group 0 to 1.0000e-05.\n",
      "\n",
      "\n",
      "--------------------------------------------------\n",
      "Epoch  15\n",
      "Training Loss: 0.0548, Validation Loss: 0.0145\n",
      "Validation Results: \n",
      "Weighted Accuracy: 0.1482, Unweighted Accuracy: 0.2286\n",
      "Weighted F1-Score: 0.1666, Unweighted F1-Score: 0.1128,\n",
      "Test Results: \n",
      "Weighted Accuracy: 0.1509, Unweighted Accuracy: 0.2326\n",
      "Weighted F1-Score: 0.1630, Unweighted F1-Score: 0.1083,\n",
      "--------------------------------------------------\n",
      "\n",
      "\n"
     ]
    },
    {
     "output_type": "stream",
     "name": "stderr",
     "text": [
      "100%|██████████| 188/188 [00:07<00:00, 25.13it/s]\n",
      "100%|██████████| 6/6 [00:00<00:00,  9.49it/s]\n",
      "100%|██████████| 6/6 [00:00<00:00,  9.30it/s]\n"
     ]
    },
    {
     "output_type": "stream",
     "name": "stdout",
     "text": [
      "\n",
      "\n",
      "--------------------------------------------------\n",
      "Epoch  16\n",
      "Training Loss: 0.0540, Validation Loss: 0.0144\n",
      "Validation Results: \n",
      "Weighted Accuracy: 0.1586, Unweighted Accuracy: 0.2433\n",
      "Weighted F1-Score: 0.1789, Unweighted F1-Score: 0.1218,\n",
      "Test Results: \n",
      "Weighted Accuracy: 0.1500, Unweighted Accuracy: 0.2366\n",
      "Weighted F1-Score: 0.1620, Unweighted F1-Score: 0.1069,\n",
      "--------------------------------------------------\n",
      "\n",
      "\n"
     ]
    },
    {
     "output_type": "stream",
     "name": "stderr",
     "text": [
      "100%|██████████| 188/188 [00:07<00:00, 25.16it/s]\n",
      "100%|██████████| 6/6 [00:00<00:00,  9.45it/s]\n",
      "100%|██████████| 6/6 [00:00<00:00,  9.13it/s]\n"
     ]
    },
    {
     "output_type": "stream",
     "name": "stdout",
     "text": [
      "\n",
      "\n",
      "--------------------------------------------------\n",
      "Epoch  17\n",
      "Training Loss: 0.0537, Validation Loss: 0.0145\n",
      "Validation Results: \n",
      "Weighted Accuracy: 0.1548, Unweighted Accuracy: 0.2353\n",
      "Weighted F1-Score: 0.1710, Unweighted F1-Score: 0.1177,\n",
      "Test Results: \n",
      "Weighted Accuracy: 0.1445, Unweighted Accuracy: 0.2299\n",
      "Weighted F1-Score: 0.1561, Unweighted F1-Score: 0.1032,\n",
      "--------------------------------------------------\n",
      "\n",
      "\n"
     ]
    },
    {
     "output_type": "stream",
     "name": "stderr",
     "text": [
      "100%|██████████| 188/188 [00:07<00:00, 25.14it/s]\n",
      "100%|██████████| 6/6 [00:00<00:00,  9.48it/s]\n",
      "100%|██████████| 6/6 [00:00<00:00,  9.41it/s]\n"
     ]
    },
    {
     "output_type": "stream",
     "name": "stdout",
     "text": [
      "Saved model at epoch 18 with validation unweighted accuracy of 24.73%\n",
      "\n",
      "\n",
      "--------------------------------------------------\n",
      "Epoch  18\n",
      "Training Loss: 0.0536, Validation Loss: 0.0145\n",
      "Validation Results: \n",
      "Weighted Accuracy: 0.1629, Unweighted Accuracy: 0.2473\n",
      "Weighted F1-Score: 0.1896, Unweighted F1-Score: 0.1309,\n",
      "Test Results: \n",
      "Weighted Accuracy: 0.1421, Unweighted Accuracy: 0.2246\n",
      "Weighted F1-Score: 0.1542, Unweighted F1-Score: 0.1012,\n",
      "--------------------------------------------------\n",
      "\n",
      "\n"
     ]
    },
    {
     "output_type": "stream",
     "name": "stderr",
     "text": [
      "100%|██████████| 188/188 [00:07<00:00, 24.94it/s]\n",
      "100%|██████████| 6/6 [00:00<00:00,  9.44it/s]\n",
      "100%|██████████| 6/6 [00:00<00:00,  9.35it/s]\n"
     ]
    },
    {
     "output_type": "stream",
     "name": "stdout",
     "text": [
      "\n",
      "\n",
      "--------------------------------------------------\n",
      "Epoch  19\n",
      "Training Loss: 0.0534, Validation Loss: 0.0145\n",
      "Validation Results: \n",
      "Weighted Accuracy: 0.1613, Unweighted Accuracy: 0.2433\n",
      "Weighted F1-Score: 0.1829, Unweighted F1-Score: 0.1272,\n",
      "Test Results: \n",
      "Weighted Accuracy: 0.1484, Unweighted Accuracy: 0.2366\n",
      "Weighted F1-Score: 0.1603, Unweighted F1-Score: 0.1059,\n",
      "--------------------------------------------------\n",
      "\n",
      "\n"
     ]
    },
    {
     "output_type": "stream",
     "name": "stderr",
     "text": [
      "100%|██████████| 188/188 [00:07<00:00, 24.69it/s]\n",
      "100%|██████████| 6/6 [00:00<00:00,  9.73it/s]\n",
      "100%|██████████| 6/6 [00:00<00:00,  9.48it/s]\n"
     ]
    },
    {
     "output_type": "stream",
     "name": "stdout",
     "text": [
      "\n",
      "\n",
      "--------------------------------------------------\n",
      "Epoch  20\n",
      "Training Loss: 0.0534, Validation Loss: 0.0145\n",
      "Validation Results: \n",
      "Weighted Accuracy: 0.1583, Unweighted Accuracy: 0.2380\n",
      "Weighted F1-Score: 0.1830, Unweighted F1-Score: 0.1273,\n",
      "Test Results: \n",
      "Weighted Accuracy: 0.1493, Unweighted Accuracy: 0.2340\n",
      "Weighted F1-Score: 0.1683, Unweighted F1-Score: 0.1132,\n",
      "--------------------------------------------------\n",
      "\n",
      "\n"
     ]
    },
    {
     "output_type": "stream",
     "name": "stderr",
     "text": [
      "100%|██████████| 188/188 [00:07<00:00, 24.88it/s]\n",
      "100%|██████████| 6/6 [00:00<00:00,  9.38it/s]\n",
      "100%|██████████| 6/6 [00:00<00:00,  9.35it/s]\n"
     ]
    },
    {
     "output_type": "stream",
     "name": "stdout",
     "text": [
      "Epoch 00021: reducing learning rate of group 0 to 1.0000e-06.\n",
      "\n",
      "\n",
      "--------------------------------------------------\n",
      "Epoch  21\n",
      "Training Loss: 0.0533, Validation Loss: 0.0145\n",
      "Validation Results: \n",
      "Weighted Accuracy: 0.1596, Unweighted Accuracy: 0.2366\n",
      "Weighted F1-Score: 0.1884, Unweighted F1-Score: 0.1334,\n",
      "Test Results: \n",
      "Weighted Accuracy: 0.1518, Unweighted Accuracy: 0.2353\n",
      "Weighted F1-Score: 0.1752, Unweighted F1-Score: 0.1195,\n",
      "--------------------------------------------------\n",
      "\n",
      "\n"
     ]
    },
    {
     "output_type": "stream",
     "name": "stderr",
     "text": [
      "100%|██████████| 188/188 [00:07<00:00, 24.99it/s]\n",
      "100%|██████████| 6/6 [00:00<00:00,  9.46it/s]\n",
      "100%|██████████| 6/6 [00:00<00:00,  9.25it/s]\n"
     ]
    },
    {
     "output_type": "stream",
     "name": "stdout",
     "text": [
      "\n",
      "\n",
      "--------------------------------------------------\n",
      "Epoch  22\n",
      "Training Loss: 0.0531, Validation Loss: 0.0145\n",
      "Validation Results: \n",
      "Weighted Accuracy: 0.1605, Unweighted Accuracy: 0.2393\n",
      "Weighted F1-Score: 0.1898, Unweighted F1-Score: 0.1335,\n",
      "Test Results: \n",
      "Weighted Accuracy: 0.1512, Unweighted Accuracy: 0.2353\n",
      "Weighted F1-Score: 0.1723, Unweighted F1-Score: 0.1168,\n",
      "--------------------------------------------------\n",
      "\n",
      "\n"
     ]
    },
    {
     "output_type": "stream",
     "name": "stderr",
     "text": [
      "100%|██████████| 188/188 [00:07<00:00, 24.70it/s]\n",
      "100%|██████████| 6/6 [00:00<00:00,  9.58it/s]\n",
      "100%|██████████| 6/6 [00:00<00:00,  9.35it/s]\n"
     ]
    },
    {
     "output_type": "stream",
     "name": "stdout",
     "text": [
      "\n",
      "\n",
      "--------------------------------------------------\n",
      "Epoch  23\n",
      "Training Loss: 0.0531, Validation Loss: 0.0145\n",
      "Validation Results: \n",
      "Weighted Accuracy: 0.1614, Unweighted Accuracy: 0.2420\n",
      "Weighted F1-Score: 0.1910, Unweighted F1-Score: 0.1334,\n",
      "Test Results: \n",
      "Weighted Accuracy: 0.1496, Unweighted Accuracy: 0.2326\n",
      "Weighted F1-Score: 0.1704, Unweighted F1-Score: 0.1157,\n",
      "--------------------------------------------------\n",
      "\n",
      "\n"
     ]
    },
    {
     "output_type": "stream",
     "name": "stderr",
     "text": [
      "100%|██████████| 188/188 [00:07<00:00, 24.90it/s]\n",
      "100%|██████████| 6/6 [00:00<00:00,  9.40it/s]\n",
      "100%|██████████| 6/6 [00:00<00:00,  9.22it/s]\n"
     ]
    },
    {
     "output_type": "stream",
     "name": "stdout",
     "text": [
      "\n",
      "\n",
      "--------------------------------------------------\n",
      "Epoch  24\n",
      "Training Loss: 0.0530, Validation Loss: 0.0145\n",
      "Validation Results: \n",
      "Weighted Accuracy: 0.1636, Unweighted Accuracy: 0.2460\n",
      "Weighted F1-Score: 0.1933, Unweighted F1-Score: 0.1346,\n",
      "Test Results: \n",
      "Weighted Accuracy: 0.1483, Unweighted Accuracy: 0.2313\n",
      "Weighted F1-Score: 0.1676, Unweighted F1-Score: 0.1131,\n",
      "--------------------------------------------------\n",
      "\n",
      "\n"
     ]
    },
    {
     "output_type": "stream",
     "name": "stderr",
     "text": [
      "100%|██████████| 188/188 [00:07<00:00, 25.42it/s]\n",
      "100%|██████████| 6/6 [00:00<00:00,  9.69it/s]\n",
      "100%|██████████| 6/6 [00:00<00:00,  9.35it/s]\n"
     ]
    },
    {
     "output_type": "stream",
     "name": "stdout",
     "text": [
      "\n",
      "\n",
      "--------------------------------------------------\n",
      "Epoch  25\n",
      "Training Loss: 0.0530, Validation Loss: 0.0146\n",
      "Validation Results: \n",
      "Weighted Accuracy: 0.1621, Unweighted Accuracy: 0.2433\n",
      "Weighted F1-Score: 0.1897, Unweighted F1-Score: 0.1326,\n",
      "Test Results: \n",
      "Weighted Accuracy: 0.1520, Unweighted Accuracy: 0.2366\n",
      "Weighted F1-Score: 0.1723, Unweighted F1-Score: 0.1170,\n",
      "--------------------------------------------------\n",
      "\n",
      "\n"
     ]
    },
    {
     "output_type": "stream",
     "name": "stderr",
     "text": [
      "100%|██████████| 188/188 [00:07<00:00, 25.15it/s]\n",
      "100%|██████████| 6/6 [00:00<00:00,  9.46it/s]\n",
      "100%|██████████| 6/6 [00:00<00:00,  9.40it/s]\n"
     ]
    },
    {
     "output_type": "stream",
     "name": "stdout",
     "text": [
      "\n",
      "\n",
      "--------------------------------------------------\n",
      "Epoch  26\n",
      "Training Loss: 0.0531, Validation Loss: 0.0146\n",
      "Validation Results: \n",
      "Weighted Accuracy: 0.1637, Unweighted Accuracy: 0.2460\n",
      "Weighted F1-Score: 0.1928, Unweighted F1-Score: 0.1344,\n",
      "Test Results: \n",
      "Weighted Accuracy: 0.1504, Unweighted Accuracy: 0.2340\n",
      "Weighted F1-Score: 0.1707, Unweighted F1-Score: 0.1160,\n",
      "--------------------------------------------------\n",
      "\n",
      "\n"
     ]
    },
    {
     "output_type": "stream",
     "name": "stderr",
     "text": [
      "100%|██████████| 188/188 [00:07<00:00, 24.93it/s]\n",
      "100%|██████████| 6/6 [00:00<00:00,  9.39it/s]\n",
      "100%|██████████| 6/6 [00:00<00:00,  9.66it/s]\n"
     ]
    },
    {
     "output_type": "stream",
     "name": "stdout",
     "text": [
      "Epoch 00027: reducing learning rate of group 0 to 1.0000e-07.\n",
      "\n",
      "\n",
      "--------------------------------------------------\n",
      "Epoch  27\n",
      "Training Loss: 0.0530, Validation Loss: 0.0146\n",
      "Validation Results: \n",
      "Weighted Accuracy: 0.1645, Unweighted Accuracy: 0.2473\n",
      "Weighted F1-Score: 0.1941, Unweighted F1-Score: 0.1352,\n",
      "Test Results: \n",
      "Weighted Accuracy: 0.1504, Unweighted Accuracy: 0.2340\n",
      "Weighted F1-Score: 0.1708, Unweighted F1-Score: 0.1160,\n",
      "--------------------------------------------------\n",
      "\n",
      "\n"
     ]
    },
    {
     "output_type": "stream",
     "name": "stderr",
     "text": [
      "100%|██████████| 188/188 [00:07<00:00, 25.17it/s]\n",
      "100%|██████████| 6/6 [00:00<00:00,  9.58it/s]\n",
      "100%|██████████| 6/6 [00:00<00:00,  9.27it/s]\n"
     ]
    },
    {
     "output_type": "stream",
     "name": "stdout",
     "text": [
      "\n",
      "\n",
      "--------------------------------------------------\n",
      "Epoch  28\n",
      "Training Loss: 0.0531, Validation Loss: 0.0146\n",
      "Validation Results: \n",
      "Weighted Accuracy: 0.1645, Unweighted Accuracy: 0.2473\n",
      "Weighted F1-Score: 0.1942, Unweighted F1-Score: 0.1352,\n",
      "Test Results: \n",
      "Weighted Accuracy: 0.1504, Unweighted Accuracy: 0.2340\n",
      "Weighted F1-Score: 0.1708, Unweighted F1-Score: 0.1160,\n",
      "--------------------------------------------------\n",
      "\n",
      "\n"
     ]
    },
    {
     "output_type": "stream",
     "name": "stderr",
     "text": [
      "100%|██████████| 188/188 [00:07<00:00, 24.79it/s]\n",
      "100%|██████████| 6/6 [00:00<00:00,  9.34it/s]\n",
      "100%|██████████| 6/6 [00:00<00:00,  9.28it/s]\n"
     ]
    },
    {
     "output_type": "stream",
     "name": "stdout",
     "text": [
      "\n",
      "\n",
      "--------------------------------------------------\n",
      "Epoch  29\n",
      "Training Loss: 0.0530, Validation Loss: 0.0146\n",
      "Validation Results: \n",
      "Weighted Accuracy: 0.1645, Unweighted Accuracy: 0.2473\n",
      "Weighted F1-Score: 0.1942, Unweighted F1-Score: 0.1352,\n",
      "Test Results: \n",
      "Weighted Accuracy: 0.1504, Unweighted Accuracy: 0.2340\n",
      "Weighted F1-Score: 0.1708, Unweighted F1-Score: 0.1160,\n",
      "--------------------------------------------------\n",
      "\n",
      "\n"
     ]
    },
    {
     "output_type": "stream",
     "name": "stderr",
     "text": [
      "100%|██████████| 188/188 [00:07<00:00, 24.91it/s]\n",
      "100%|██████████| 6/6 [00:00<00:00,  9.39it/s]\n",
      "100%|██████████| 6/6 [00:00<00:00,  9.29it/s]\n"
     ]
    },
    {
     "output_type": "stream",
     "name": "stdout",
     "text": [
      "\n",
      "\n",
      "--------------------------------------------------\n",
      "Epoch  30\n",
      "Training Loss: 0.0530, Validation Loss: 0.0146\n",
      "Validation Results: \n",
      "Weighted Accuracy: 0.1637, Unweighted Accuracy: 0.2460\n",
      "Weighted F1-Score: 0.1929, Unweighted F1-Score: 0.1344,\n",
      "Test Results: \n",
      "Weighted Accuracy: 0.1504, Unweighted Accuracy: 0.2340\n",
      "Weighted F1-Score: 0.1708, Unweighted F1-Score: 0.1160,\n",
      "--------------------------------------------------\n",
      "\n",
      "\n"
     ]
    },
    {
     "output_type": "stream",
     "name": "stderr",
     "text": [
      "100%|██████████| 188/188 [00:07<00:00, 23.72it/s]\n",
      "100%|██████████| 6/6 [00:00<00:00,  9.79it/s]\n",
      "100%|██████████| 6/6 [00:00<00:00,  9.54it/s]\n"
     ]
    },
    {
     "output_type": "stream",
     "name": "stdout",
     "text": [
      "Saved model at epoch 1 with validation unweighted accuracy of 22.59%\n",
      "\n",
      "\n",
      "--------------------------------------------------\n",
      "Epoch  1\n",
      "Training Loss: 0.0563, Validation Loss: 0.0143\n",
      "Validation Results: \n",
      "Weighted Accuracy: 0.1429, Unweighted Accuracy: 0.2259\n",
      "Weighted F1-Score: 0.0833, Unweighted F1-Score: 0.0527,\n",
      "Test Results: \n",
      "Weighted Accuracy: 0.1429, Unweighted Accuracy: 0.2487\n",
      "Weighted F1-Score: 0.0990, Unweighted F1-Score: 0.0569,\n",
      "--------------------------------------------------\n",
      "\n",
      "\n"
     ]
    },
    {
     "output_type": "stream",
     "name": "stderr",
     "text": [
      "100%|██████████| 188/188 [00:07<00:00, 25.10it/s]\n",
      "100%|██████████| 6/6 [00:00<00:00,  9.44it/s]\n",
      "100%|██████████| 6/6 [00:00<00:00,  9.29it/s]\n"
     ]
    },
    {
     "output_type": "stream",
     "name": "stdout",
     "text": [
      "\n",
      "\n",
      "--------------------------------------------------\n",
      "Epoch  2\n",
      "Training Loss: 0.0561, Validation Loss: 0.0142\n",
      "Validation Results: \n",
      "Weighted Accuracy: 0.1409, Unweighted Accuracy: 0.2233\n",
      "Weighted F1-Score: 0.0901, Unweighted F1-Score: 0.0565,\n",
      "Test Results: \n",
      "Weighted Accuracy: 0.1425, Unweighted Accuracy: 0.2460\n",
      "Weighted F1-Score: 0.1095, Unweighted F1-Score: 0.0648,\n",
      "--------------------------------------------------\n",
      "\n",
      "\n"
     ]
    },
    {
     "output_type": "stream",
     "name": "stderr",
     "text": [
      "100%|██████████| 188/188 [00:07<00:00, 24.95it/s]\n",
      "100%|██████████| 6/6 [00:00<00:00,  9.69it/s]\n",
      "100%|██████████| 6/6 [00:00<00:00,  9.27it/s]\n"
     ]
    },
    {
     "output_type": "stream",
     "name": "stdout",
     "text": [
      "\n",
      "\n",
      "--------------------------------------------------\n",
      "Epoch  3\n",
      "Training Loss: 0.0560, Validation Loss: 0.0142\n",
      "Validation Results: \n",
      "Weighted Accuracy: 0.1394, Unweighted Accuracy: 0.2206\n",
      "Weighted F1-Score: 0.0841, Unweighted F1-Score: 0.0530,\n",
      "Test Results: \n",
      "Weighted Accuracy: 0.1431, Unweighted Accuracy: 0.2487\n",
      "Weighted F1-Score: 0.1018, Unweighted F1-Score: 0.0589,\n",
      "--------------------------------------------------\n",
      "\n",
      "\n"
     ]
    },
    {
     "output_type": "stream",
     "name": "stderr",
     "text": [
      "100%|██████████| 188/188 [00:07<00:00, 24.82it/s]\n",
      "100%|██████████| 6/6 [00:00<00:00,  9.84it/s]\n",
      "100%|██████████| 6/6 [00:00<00:00,  9.68it/s]\n"
     ]
    },
    {
     "output_type": "stream",
     "name": "stdout",
     "text": [
      "Saved model at epoch 4 with validation unweighted accuracy of 25.40%\n",
      "\n",
      "\n",
      "--------------------------------------------------\n",
      "Epoch  4\n",
      "Training Loss: 0.0559, Validation Loss: 0.0143\n",
      "Validation Results: \n",
      "Weighted Accuracy: 0.1517, Unweighted Accuracy: 0.2540\n",
      "Weighted F1-Score: 0.1648, Unweighted F1-Score: 0.0981,\n",
      "Test Results: \n",
      "Weighted Accuracy: 0.1500, Unweighted Accuracy: 0.2353\n",
      "Weighted F1-Score: 0.1442, Unweighted F1-Score: 0.0917,\n",
      "--------------------------------------------------\n",
      "\n",
      "\n"
     ]
    },
    {
     "output_type": "stream",
     "name": "stderr",
     "text": [
      "100%|██████████| 188/188 [00:07<00:00, 25.11it/s]\n",
      "100%|██████████| 6/6 [00:00<00:00,  9.60it/s]\n",
      "100%|██████████| 6/6 [00:00<00:00,  9.30it/s]\n"
     ]
    },
    {
     "output_type": "stream",
     "name": "stdout",
     "text": [
      "\n",
      "\n",
      "--------------------------------------------------\n",
      "Epoch  5\n",
      "Training Loss: 0.0559, Validation Loss: 0.0142\n",
      "Validation Results: \n",
      "Weighted Accuracy: 0.1458, Unweighted Accuracy: 0.2406\n",
      "Weighted F1-Score: 0.1523, Unweighted F1-Score: 0.0911,\n",
      "Test Results: \n",
      "Weighted Accuracy: 0.1456, Unweighted Accuracy: 0.2353\n",
      "Weighted F1-Score: 0.1388, Unweighted F1-Score: 0.0875,\n",
      "--------------------------------------------------\n",
      "\n",
      "\n"
     ]
    },
    {
     "output_type": "stream",
     "name": "stderr",
     "text": [
      "100%|██████████| 188/188 [00:07<00:00, 25.19it/s]\n",
      "100%|██████████| 6/6 [00:00<00:00,  9.79it/s]\n",
      "100%|██████████| 6/6 [00:00<00:00,  9.44it/s]\n"
     ]
    },
    {
     "output_type": "stream",
     "name": "stdout",
     "text": [
      "\n",
      "\n",
      "--------------------------------------------------\n",
      "Epoch  6\n",
      "Training Loss: 0.0558, Validation Loss: 0.0142\n",
      "Validation Results: \n",
      "Weighted Accuracy: 0.1384, Unweighted Accuracy: 0.2206\n",
      "Weighted F1-Score: 0.1036, Unweighted F1-Score: 0.0639,\n",
      "Test Results: \n",
      "Weighted Accuracy: 0.1464, Unweighted Accuracy: 0.2500\n",
      "Weighted F1-Score: 0.1222, Unweighted F1-Score: 0.0742,\n",
      "--------------------------------------------------\n",
      "\n",
      "\n"
     ]
    },
    {
     "output_type": "stream",
     "name": "stderr",
     "text": [
      "100%|██████████| 188/188 [00:07<00:00, 25.10it/s]\n",
      "100%|██████████| 6/6 [00:00<00:00,  9.50it/s]\n",
      "100%|██████████| 6/6 [00:00<00:00,  9.31it/s]\n"
     ]
    },
    {
     "output_type": "stream",
     "name": "stdout",
     "text": [
      "\n",
      "\n",
      "--------------------------------------------------\n",
      "Epoch  7\n",
      "Training Loss: 0.0558, Validation Loss: 0.0143\n",
      "Validation Results: \n",
      "Weighted Accuracy: 0.1382, Unweighted Accuracy: 0.2166\n",
      "Weighted F1-Score: 0.1371, Unweighted F1-Score: 0.0875,\n",
      "Test Results: \n",
      "Weighted Accuracy: 0.1478, Unweighted Accuracy: 0.2420\n",
      "Weighted F1-Score: 0.1475, Unweighted F1-Score: 0.0952,\n",
      "--------------------------------------------------\n",
      "\n",
      "\n"
     ]
    },
    {
     "output_type": "stream",
     "name": "stderr",
     "text": [
      "100%|██████████| 188/188 [00:07<00:00, 25.21it/s]\n",
      "100%|██████████| 6/6 [00:00<00:00,  9.56it/s]\n",
      "100%|██████████| 6/6 [00:00<00:00,  9.30it/s]\n"
     ]
    },
    {
     "output_type": "stream",
     "name": "stdout",
     "text": [
      "\n",
      "\n",
      "--------------------------------------------------\n",
      "Epoch  8\n",
      "Training Loss: 0.0558, Validation Loss: 0.0142\n",
      "Validation Results: \n",
      "Weighted Accuracy: 0.1362, Unweighted Accuracy: 0.2193\n",
      "Weighted F1-Score: 0.1198, Unweighted F1-Score: 0.0728,\n",
      "Test Results: \n",
      "Weighted Accuracy: 0.1440, Unweighted Accuracy: 0.2406\n",
      "Weighted F1-Score: 0.1310, Unweighted F1-Score: 0.0813,\n",
      "--------------------------------------------------\n",
      "\n",
      "\n"
     ]
    },
    {
     "output_type": "stream",
     "name": "stderr",
     "text": [
      "100%|██████████| 188/188 [00:07<00:00, 25.07it/s]\n",
      "100%|██████████| 6/6 [00:00<00:00,  9.66it/s]\n",
      "100%|██████████| 6/6 [00:00<00:00,  9.41it/s]\n"
     ]
    },
    {
     "output_type": "stream",
     "name": "stdout",
     "text": [
      "\n",
      "\n",
      "--------------------------------------------------\n",
      "Epoch  9\n",
      "Training Loss: 0.0556, Validation Loss: 0.0143\n",
      "Validation Results: \n",
      "Weighted Accuracy: 0.1461, Unweighted Accuracy: 0.2326\n",
      "Weighted F1-Score: 0.1067, Unweighted F1-Score: 0.0658,\n",
      "Test Results: \n",
      "Weighted Accuracy: 0.1412, Unweighted Accuracy: 0.2433\n",
      "Weighted F1-Score: 0.1103, Unweighted F1-Score: 0.0656,\n",
      "--------------------------------------------------\n",
      "\n",
      "\n"
     ]
    },
    {
     "output_type": "stream",
     "name": "stderr",
     "text": [
      "100%|██████████| 188/188 [00:07<00:00, 25.03it/s]\n",
      "100%|██████████| 6/6 [00:00<00:00,  9.58it/s]\n",
      "100%|██████████| 6/6 [00:00<00:00,  9.42it/s]\n"
     ]
    },
    {
     "output_type": "stream",
     "name": "stdout",
     "text": [
      "\n",
      "\n",
      "--------------------------------------------------\n",
      "Epoch  10\n",
      "Training Loss: 0.0556, Validation Loss: 0.0142\n",
      "Validation Results: \n",
      "Weighted Accuracy: 0.1440, Unweighted Accuracy: 0.2313\n",
      "Weighted F1-Score: 0.1311, Unweighted F1-Score: 0.0807,\n",
      "Test Results: \n",
      "Weighted Accuracy: 0.1476, Unweighted Accuracy: 0.2473\n",
      "Weighted F1-Score: 0.1336, Unweighted F1-Score: 0.0828,\n",
      "--------------------------------------------------\n",
      "\n",
      "\n"
     ]
    },
    {
     "output_type": "stream",
     "name": "stderr",
     "text": [
      "100%|██████████| 188/188 [00:07<00:00, 24.78it/s]\n",
      "100%|██████████| 6/6 [00:00<00:00,  9.82it/s]\n",
      "100%|██████████| 6/6 [00:00<00:00,  9.61it/s]\n"
     ]
    },
    {
     "output_type": "stream",
     "name": "stdout",
     "text": [
      "Epoch 00011: reducing learning rate of group 0 to 1.0000e-05.\n",
      "\n",
      "\n",
      "--------------------------------------------------\n",
      "Epoch  11\n",
      "Training Loss: 0.0555, Validation Loss: 0.0142\n",
      "Validation Results: \n",
      "Weighted Accuracy: 0.1405, Unweighted Accuracy: 0.2233\n",
      "Weighted F1-Score: 0.0977, Unweighted F1-Score: 0.0606,\n",
      "Test Results: \n",
      "Weighted Accuracy: 0.1389, Unweighted Accuracy: 0.2393\n",
      "Weighted F1-Score: 0.1086, Unweighted F1-Score: 0.0647,\n",
      "--------------------------------------------------\n",
      "\n",
      "\n"
     ]
    },
    {
     "output_type": "stream",
     "name": "stderr",
     "text": [
      "100%|██████████| 188/188 [00:07<00:00, 24.93it/s]\n",
      "100%|██████████| 6/6 [00:00<00:00,  9.35it/s]\n",
      "100%|██████████| 6/6 [00:00<00:00,  9.33it/s]\n"
     ]
    },
    {
     "output_type": "stream",
     "name": "stdout",
     "text": [
      "\n",
      "\n",
      "--------------------------------------------------\n",
      "Epoch  12\n",
      "Training Loss: 0.0551, Validation Loss: 0.0142\n",
      "Validation Results: \n",
      "Weighted Accuracy: 0.1418, Unweighted Accuracy: 0.2299\n",
      "Weighted F1-Score: 0.1348, Unweighted F1-Score: 0.0813,\n",
      "Test Results: \n",
      "Weighted Accuracy: 0.1398, Unweighted Accuracy: 0.2313\n",
      "Weighted F1-Score: 0.1299, Unweighted F1-Score: 0.0808,\n",
      "--------------------------------------------------\n",
      "\n",
      "\n"
     ]
    },
    {
     "output_type": "stream",
     "name": "stderr",
     "text": [
      "100%|██████████| 188/188 [00:07<00:00, 24.78it/s]\n",
      "100%|██████████| 6/6 [00:00<00:00,  9.40it/s]\n",
      "100%|██████████| 6/6 [00:00<00:00,  9.29it/s]\n"
     ]
    },
    {
     "output_type": "stream",
     "name": "stdout",
     "text": [
      "\n",
      "\n",
      "--------------------------------------------------\n",
      "Epoch  13\n",
      "Training Loss: 0.0550, Validation Loss: 0.0142\n",
      "Validation Results: \n",
      "Weighted Accuracy: 0.1390, Unweighted Accuracy: 0.2299\n",
      "Weighted F1-Score: 0.1472, Unweighted F1-Score: 0.0880,\n",
      "Test Results: \n",
      "Weighted Accuracy: 0.1330, Unweighted Accuracy: 0.2139\n",
      "Weighted F1-Score: 0.1285, Unweighted F1-Score: 0.0806,\n",
      "--------------------------------------------------\n",
      "\n",
      "\n"
     ]
    },
    {
     "output_type": "stream",
     "name": "stderr",
     "text": [
      "100%|██████████| 188/188 [00:07<00:00, 25.04it/s]\n",
      "100%|██████████| 6/6 [00:00<00:00,  9.39it/s]\n",
      "100%|██████████| 6/6 [00:00<00:00,  9.15it/s]\n"
     ]
    },
    {
     "output_type": "stream",
     "name": "stdout",
     "text": [
      "\n",
      "\n",
      "--------------------------------------------------\n",
      "Epoch  14\n",
      "Training Loss: 0.0549, Validation Loss: 0.0142\n",
      "Validation Results: \n",
      "Weighted Accuracy: 0.1405, Unweighted Accuracy: 0.2273\n",
      "Weighted F1-Score: 0.1310, Unweighted F1-Score: 0.0792,\n",
      "Test Results: \n",
      "Weighted Accuracy: 0.1418, Unweighted Accuracy: 0.2353\n",
      "Weighted F1-Score: 0.1324, Unweighted F1-Score: 0.0829,\n",
      "--------------------------------------------------\n",
      "\n",
      "\n"
     ]
    },
    {
     "output_type": "stream",
     "name": "stderr",
     "text": [
      "100%|██████████| 188/188 [00:07<00:00, 25.40it/s]\n",
      "100%|██████████| 6/6 [00:00<00:00,  9.46it/s]\n",
      "100%|██████████| 6/6 [00:00<00:00,  9.15it/s]\n"
     ]
    },
    {
     "output_type": "stream",
     "name": "stdout",
     "text": [
      "\n",
      "\n",
      "--------------------------------------------------\n",
      "Epoch  15\n",
      "Training Loss: 0.0548, Validation Loss: 0.0142\n",
      "Validation Results: \n",
      "Weighted Accuracy: 0.1460, Unweighted Accuracy: 0.2340\n",
      "Weighted F1-Score: 0.1542, Unweighted F1-Score: 0.0990,\n",
      "Test Results: \n",
      "Weighted Accuracy: 0.1352, Unweighted Accuracy: 0.2206\n",
      "Weighted F1-Score: 0.1325, Unweighted F1-Score: 0.0837,\n",
      "--------------------------------------------------\n",
      "\n",
      "\n"
     ]
    },
    {
     "output_type": "stream",
     "name": "stderr",
     "text": [
      "100%|██████████| 188/188 [00:07<00:00, 25.00it/s]\n",
      "100%|██████████| 6/6 [00:00<00:00,  9.87it/s]\n",
      "100%|██████████| 6/6 [00:00<00:00,  9.40it/s]\n"
     ]
    },
    {
     "output_type": "stream",
     "name": "stdout",
     "text": [
      "\n",
      "\n",
      "--------------------------------------------------\n",
      "Epoch  16\n",
      "Training Loss: 0.0547, Validation Loss: 0.0142\n",
      "Validation Results: \n",
      "Weighted Accuracy: 0.1429, Unweighted Accuracy: 0.2299\n",
      "Weighted F1-Score: 0.1537, Unweighted F1-Score: 0.0986,\n",
      "Test Results: \n",
      "Weighted Accuracy: 0.1350, Unweighted Accuracy: 0.2152\n",
      "Weighted F1-Score: 0.1359, Unweighted F1-Score: 0.0896,\n",
      "--------------------------------------------------\n",
      "\n",
      "\n"
     ]
    },
    {
     "output_type": "stream",
     "name": "stderr",
     "text": [
      "100%|██████████| 188/188 [00:07<00:00, 25.16it/s]\n",
      "100%|██████████| 6/6 [00:00<00:00,  9.36it/s]\n",
      "100%|██████████| 6/6 [00:00<00:00,  9.30it/s]\n"
     ]
    },
    {
     "output_type": "stream",
     "name": "stdout",
     "text": [
      "Epoch 00017: reducing learning rate of group 0 to 1.0000e-06.\n",
      "\n",
      "\n",
      "--------------------------------------------------\n",
      "Epoch  17\n",
      "Training Loss: 0.0547, Validation Loss: 0.0142\n",
      "Validation Results: \n",
      "Weighted Accuracy: 0.1442, Unweighted Accuracy: 0.2313\n",
      "Weighted F1-Score: 0.1532, Unweighted F1-Score: 0.0984,\n",
      "Test Results: \n",
      "Weighted Accuracy: 0.1370, Unweighted Accuracy: 0.2219\n",
      "Weighted F1-Score: 0.1368, Unweighted F1-Score: 0.0873,\n",
      "--------------------------------------------------\n",
      "\n",
      "\n"
     ]
    },
    {
     "output_type": "stream",
     "name": "stderr",
     "text": [
      "100%|██████████| 188/188 [00:07<00:00, 25.08it/s]\n",
      "100%|██████████| 6/6 [00:00<00:00,  9.52it/s]\n",
      "100%|██████████| 6/6 [00:00<00:00,  9.67it/s]\n"
     ]
    },
    {
     "output_type": "stream",
     "name": "stdout",
     "text": [
      "\n",
      "\n",
      "--------------------------------------------------\n",
      "Epoch  18\n",
      "Training Loss: 0.0546, Validation Loss: 0.0142\n",
      "Validation Results: \n",
      "Weighted Accuracy: 0.1446, Unweighted Accuracy: 0.2313\n",
      "Weighted F1-Score: 0.1552, Unweighted F1-Score: 0.1003,\n",
      "Test Results: \n",
      "Weighted Accuracy: 0.1386, Unweighted Accuracy: 0.2219\n",
      "Weighted F1-Score: 0.1390, Unweighted F1-Score: 0.0916,\n",
      "--------------------------------------------------\n",
      "\n",
      "\n"
     ]
    },
    {
     "output_type": "stream",
     "name": "stderr",
     "text": [
      "100%|██████████| 188/188 [00:07<00:00, 25.05it/s]\n",
      "100%|██████████| 6/6 [00:00<00:00,  9.65it/s]\n",
      "100%|██████████| 6/6 [00:00<00:00,  9.61it/s]\n"
     ]
    },
    {
     "output_type": "stream",
     "name": "stdout",
     "text": [
      "\n",
      "\n",
      "--------------------------------------------------\n",
      "Epoch  19\n",
      "Training Loss: 0.0546, Validation Loss: 0.0142\n",
      "Validation Results: \n",
      "Weighted Accuracy: 0.1447, Unweighted Accuracy: 0.2313\n",
      "Weighted F1-Score: 0.1548, Unweighted F1-Score: 0.1001,\n",
      "Test Results: \n",
      "Weighted Accuracy: 0.1376, Unweighted Accuracy: 0.2206\n",
      "Weighted F1-Score: 0.1379, Unweighted F1-Score: 0.0909,\n",
      "--------------------------------------------------\n",
      "\n",
      "\n"
     ]
    },
    {
     "output_type": "stream",
     "name": "stderr",
     "text": [
      "100%|██████████| 188/188 [00:07<00:00, 25.16it/s]\n",
      "100%|██████████| 6/6 [00:00<00:00,  9.41it/s]\n",
      "100%|██████████| 6/6 [00:00<00:00,  9.70it/s]\n"
     ]
    },
    {
     "output_type": "stream",
     "name": "stdout",
     "text": [
      "\n",
      "\n",
      "--------------------------------------------------\n",
      "Epoch  20\n",
      "Training Loss: 0.0546, Validation Loss: 0.0142\n",
      "Validation Results: \n",
      "Weighted Accuracy: 0.1470, Unweighted Accuracy: 0.2340\n",
      "Weighted F1-Score: 0.1584, Unweighted F1-Score: 0.1035,\n",
      "Test Results: \n",
      "Weighted Accuracy: 0.1391, Unweighted Accuracy: 0.2233\n",
      "Weighted F1-Score: 0.1393, Unweighted F1-Score: 0.0917,\n",
      "--------------------------------------------------\n",
      "\n",
      "\n"
     ]
    },
    {
     "output_type": "stream",
     "name": "stderr",
     "text": [
      "100%|██████████| 188/188 [00:07<00:00, 25.45it/s]\n",
      "100%|██████████| 6/6 [00:00<00:00,  9.44it/s]\n",
      "100%|██████████| 6/6 [00:00<00:00,  9.21it/s]\n"
     ]
    },
    {
     "output_type": "stream",
     "name": "stdout",
     "text": [
      "\n",
      "\n",
      "--------------------------------------------------\n",
      "Epoch  21\n",
      "Training Loss: 0.0545, Validation Loss: 0.0142\n",
      "Validation Results: \n",
      "Weighted Accuracy: 0.1456, Unweighted Accuracy: 0.2326\n",
      "Weighted F1-Score: 0.1556, Unweighted F1-Score: 0.1006,\n",
      "Test Results: \n",
      "Weighted Accuracy: 0.1394, Unweighted Accuracy: 0.2233\n",
      "Weighted F1-Score: 0.1397, Unweighted F1-Score: 0.0920,\n",
      "--------------------------------------------------\n",
      "\n",
      "\n"
     ]
    },
    {
     "output_type": "stream",
     "name": "stderr",
     "text": [
      "100%|██████████| 188/188 [00:07<00:00, 25.08it/s]\n",
      "100%|██████████| 6/6 [00:00<00:00,  9.64it/s]\n",
      "100%|██████████| 6/6 [00:00<00:00,  9.58it/s]\n"
     ]
    },
    {
     "output_type": "stream",
     "name": "stdout",
     "text": [
      "\n",
      "\n",
      "--------------------------------------------------\n",
      "Epoch  22\n",
      "Training Loss: 0.0545, Validation Loss: 0.0142\n",
      "Validation Results: \n",
      "Weighted Accuracy: 0.1463, Unweighted Accuracy: 0.2340\n",
      "Weighted F1-Score: 0.1568, Unweighted F1-Score: 0.1013,\n",
      "Test Results: \n",
      "Weighted Accuracy: 0.1394, Unweighted Accuracy: 0.2233\n",
      "Weighted F1-Score: 0.1396, Unweighted F1-Score: 0.0920,\n",
      "--------------------------------------------------\n",
      "\n",
      "\n"
     ]
    },
    {
     "output_type": "stream",
     "name": "stderr",
     "text": [
      "100%|██████████| 188/188 [00:07<00:00, 24.91it/s]\n",
      "100%|██████████| 6/6 [00:00<00:00,  9.68it/s]\n",
      "100%|██████████| 6/6 [00:00<00:00,  9.60it/s]\n"
     ]
    },
    {
     "output_type": "stream",
     "name": "stdout",
     "text": [
      "Epoch 00023: reducing learning rate of group 0 to 1.0000e-07.\n",
      "\n",
      "\n",
      "--------------------------------------------------\n",
      "Epoch  23\n",
      "Training Loss: 0.0545, Validation Loss: 0.0142\n",
      "Validation Results: \n",
      "Weighted Accuracy: 0.1456, Unweighted Accuracy: 0.2326\n",
      "Weighted F1-Score: 0.1558, Unweighted F1-Score: 0.1007,\n",
      "Test Results: \n",
      "Weighted Accuracy: 0.1384, Unweighted Accuracy: 0.2219\n",
      "Weighted F1-Score: 0.1385, Unweighted F1-Score: 0.0912,\n",
      "--------------------------------------------------\n",
      "\n",
      "\n"
     ]
    },
    {
     "output_type": "stream",
     "name": "stderr",
     "text": [
      "100%|██████████| 188/188 [00:07<00:00, 25.07it/s]\n",
      "100%|██████████| 6/6 [00:00<00:00,  9.40it/s]\n",
      "100%|██████████| 6/6 [00:00<00:00,  9.34it/s]\n"
     ]
    },
    {
     "output_type": "stream",
     "name": "stdout",
     "text": [
      "\n",
      "\n",
      "--------------------------------------------------\n",
      "Epoch  24\n",
      "Training Loss: 0.0545, Validation Loss: 0.0142\n",
      "Validation Results: \n",
      "Weighted Accuracy: 0.1456, Unweighted Accuracy: 0.2326\n",
      "Weighted F1-Score: 0.1558, Unweighted F1-Score: 0.1007,\n",
      "Test Results: \n",
      "Weighted Accuracy: 0.1394, Unweighted Accuracy: 0.2233\n",
      "Weighted F1-Score: 0.1395, Unweighted F1-Score: 0.0920,\n",
      "--------------------------------------------------\n",
      "\n",
      "\n"
     ]
    },
    {
     "output_type": "stream",
     "name": "stderr",
     "text": [
      "100%|██████████| 188/188 [00:07<00:00, 25.18it/s]\n",
      "100%|██████████| 6/6 [00:00<00:00,  9.42it/s]\n",
      "100%|██████████| 6/6 [00:00<00:00,  9.46it/s]\n"
     ]
    },
    {
     "output_type": "stream",
     "name": "stdout",
     "text": [
      "\n",
      "\n",
      "--------------------------------------------------\n",
      "Epoch  25\n",
      "Training Loss: 0.0545, Validation Loss: 0.0142\n",
      "Validation Results: \n",
      "Weighted Accuracy: 0.1456, Unweighted Accuracy: 0.2326\n",
      "Weighted F1-Score: 0.1558, Unweighted F1-Score: 0.1007,\n",
      "Test Results: \n",
      "Weighted Accuracy: 0.1394, Unweighted Accuracy: 0.2233\n",
      "Weighted F1-Score: 0.1396, Unweighted F1-Score: 0.0920,\n",
      "--------------------------------------------------\n",
      "\n",
      "\n",
      "Early stopped. No improvement in validation loss for 10 consecutive epoches.\n"
     ]
    },
    {
     "output_type": "stream",
     "name": "stderr",
     "text": [
      "100%|██████████| 188/188 [00:07<00:00, 23.55it/s]\n",
      "100%|██████████| 6/6 [00:00<00:00,  9.70it/s]\n",
      "100%|██████████| 6/6 [00:00<00:00,  9.38it/s]\n"
     ]
    },
    {
     "output_type": "stream",
     "name": "stdout",
     "text": [
      "Saved model at epoch 1 with validation unweighted accuracy of 24.60%\n",
      "\n",
      "\n",
      "--------------------------------------------------\n",
      "Epoch  1\n",
      "Training Loss: 0.0564, Validation Loss: 0.0143\n",
      "Validation Results: \n",
      "Weighted Accuracy: 0.1439, Unweighted Accuracy: 0.2460\n",
      "Weighted F1-Score: 0.1550, Unweighted F1-Score: 0.0902,\n",
      "Test Results: \n",
      "Weighted Accuracy: 0.1434, Unweighted Accuracy: 0.2273\n",
      "Weighted F1-Score: 0.1380, Unweighted F1-Score: 0.0857,\n",
      "--------------------------------------------------\n",
      "\n",
      "\n"
     ]
    },
    {
     "output_type": "stream",
     "name": "stderr",
     "text": [
      "100%|██████████| 188/188 [00:07<00:00, 24.98it/s]\n",
      "100%|██████████| 6/6 [00:00<00:00,  9.70it/s]\n",
      "100%|██████████| 6/6 [00:00<00:00,  9.33it/s]\n"
     ]
    },
    {
     "output_type": "stream",
     "name": "stdout",
     "text": [
      "Saved model at epoch 2 with validation unweighted accuracy of 25.00%\n",
      "\n",
      "\n",
      "--------------------------------------------------\n",
      "Epoch  2\n",
      "Training Loss: 0.0561, Validation Loss: 0.0143\n",
      "Validation Results: \n",
      "Weighted Accuracy: 0.1429, Unweighted Accuracy: 0.2500\n",
      "Weighted F1-Score: 0.1000, Unweighted F1-Score: 0.0571,\n",
      "Test Results: \n",
      "Weighted Accuracy: 0.1429, Unweighted Accuracy: 0.2420\n",
      "Weighted F1-Score: 0.0943, Unweighted F1-Score: 0.0557,\n",
      "--------------------------------------------------\n",
      "\n",
      "\n"
     ]
    },
    {
     "output_type": "stream",
     "name": "stderr",
     "text": [
      "100%|██████████| 188/188 [00:07<00:00, 25.08it/s]\n",
      "100%|██████████| 6/6 [00:00<00:00,  9.26it/s]\n",
      "100%|██████████| 6/6 [00:00<00:00,  9.28it/s]\n"
     ]
    },
    {
     "output_type": "stream",
     "name": "stdout",
     "text": [
      "\n",
      "\n",
      "--------------------------------------------------\n",
      "Epoch  3\n",
      "Training Loss: 0.0560, Validation Loss: 0.0143\n",
      "Validation Results: \n",
      "Weighted Accuracy: 0.1429, Unweighted Accuracy: 0.2500\n",
      "Weighted F1-Score: 0.1000, Unweighted F1-Score: 0.0571,\n",
      "Test Results: \n",
      "Weighted Accuracy: 0.1429, Unweighted Accuracy: 0.2420\n",
      "Weighted F1-Score: 0.0944, Unweighted F1-Score: 0.0557,\n",
      "--------------------------------------------------\n",
      "\n",
      "\n"
     ]
    },
    {
     "output_type": "stream",
     "name": "stderr",
     "text": [
      "100%|██████████| 188/188 [00:07<00:00, 24.99it/s]\n",
      "100%|██████████| 6/6 [00:00<00:00,  9.51it/s]\n",
      "100%|██████████| 6/6 [00:00<00:00,  9.43it/s]\n"
     ]
    },
    {
     "output_type": "stream",
     "name": "stdout",
     "text": [
      "\n",
      "\n",
      "--------------------------------------------------\n",
      "Epoch  4\n",
      "Training Loss: 0.0560, Validation Loss: 0.0143\n",
      "Validation Results: \n",
      "Weighted Accuracy: 0.1432, Unweighted Accuracy: 0.2487\n",
      "Weighted F1-Score: 0.1532, Unweighted F1-Score: 0.0887,\n",
      "Test Results: \n",
      "Weighted Accuracy: 0.1469, Unweighted Accuracy: 0.2433\n",
      "Weighted F1-Score: 0.1449, Unweighted F1-Score: 0.0887,\n",
      "--------------------------------------------------\n",
      "\n",
      "\n"
     ]
    },
    {
     "output_type": "stream",
     "name": "stderr",
     "text": [
      "100%|██████████| 188/188 [00:07<00:00, 24.93it/s]\n",
      "100%|██████████| 6/6 [00:00<00:00,  9.41it/s]\n",
      "100%|██████████| 6/6 [00:00<00:00,  9.06it/s]\n"
     ]
    },
    {
     "output_type": "stream",
     "name": "stdout",
     "text": [
      "\n",
      "\n",
      "--------------------------------------------------\n",
      "Epoch  5\n",
      "Training Loss: 0.0559, Validation Loss: 0.0144\n",
      "Validation Results: \n",
      "Weighted Accuracy: 0.1420, Unweighted Accuracy: 0.2420\n",
      "Weighted F1-Score: 0.1414, Unweighted F1-Score: 0.0825,\n",
      "Test Results: \n",
      "Weighted Accuracy: 0.1398, Unweighted Accuracy: 0.2193\n",
      "Weighted F1-Score: 0.1206, Unweighted F1-Score: 0.0755,\n",
      "--------------------------------------------------\n",
      "\n",
      "\n"
     ]
    },
    {
     "output_type": "stream",
     "name": "stderr",
     "text": [
      "100%|██████████| 188/188 [00:07<00:00, 24.89it/s]\n",
      "100%|██████████| 6/6 [00:00<00:00,  9.54it/s]\n",
      "100%|██████████| 6/6 [00:00<00:00,  9.50it/s]\n"
     ]
    },
    {
     "output_type": "stream",
     "name": "stdout",
     "text": [
      "\n",
      "\n",
      "--------------------------------------------------\n",
      "Epoch  6\n",
      "Training Loss: 0.0559, Validation Loss: 0.0144\n",
      "Validation Results: \n",
      "Weighted Accuracy: 0.1386, Unweighted Accuracy: 0.2380\n",
      "Weighted F1-Score: 0.1558, Unweighted F1-Score: 0.0906,\n",
      "Test Results: \n",
      "Weighted Accuracy: 0.1432, Unweighted Accuracy: 0.2286\n",
      "Weighted F1-Score: 0.1419, Unweighted F1-Score: 0.0880,\n",
      "--------------------------------------------------\n",
      "\n",
      "\n"
     ]
    },
    {
     "output_type": "stream",
     "name": "stderr",
     "text": [
      "100%|██████████| 188/188 [00:07<00:00, 25.16it/s]\n",
      "100%|██████████| 6/6 [00:00<00:00,  9.44it/s]\n",
      "100%|██████████| 6/6 [00:00<00:00,  9.33it/s]\n"
     ]
    },
    {
     "output_type": "stream",
     "name": "stdout",
     "text": [
      "Epoch 00007: reducing learning rate of group 0 to 1.0000e-05.\n",
      "\n",
      "\n",
      "--------------------------------------------------\n",
      "Epoch  7\n",
      "Training Loss: 0.0557, Validation Loss: 0.0145\n",
      "Validation Results: \n",
      "Weighted Accuracy: 0.1401, Unweighted Accuracy: 0.2447\n",
      "Weighted F1-Score: 0.1202, Unweighted F1-Score: 0.0691,\n",
      "Test Results: \n",
      "Weighted Accuracy: 0.1364, Unweighted Accuracy: 0.2299\n",
      "Weighted F1-Score: 0.1068, Unweighted F1-Score: 0.0640,\n",
      "--------------------------------------------------\n",
      "\n",
      "\n"
     ]
    },
    {
     "output_type": "stream",
     "name": "stderr",
     "text": [
      "100%|██████████| 188/188 [00:07<00:00, 24.82it/s]\n",
      "100%|██████████| 6/6 [00:00<00:00,  9.83it/s]\n",
      "100%|██████████| 6/6 [00:00<00:00,  9.62it/s]\n"
     ]
    },
    {
     "output_type": "stream",
     "name": "stdout",
     "text": [
      "\n",
      "\n",
      "--------------------------------------------------\n",
      "Epoch  8\n",
      "Training Loss: 0.0556, Validation Loss: 0.0144\n",
      "Validation Results: \n",
      "Weighted Accuracy: 0.1414, Unweighted Accuracy: 0.2460\n",
      "Weighted F1-Score: 0.1450, Unweighted F1-Score: 0.0838,\n",
      "Test Results: \n",
      "Weighted Accuracy: 0.1456, Unweighted Accuracy: 0.2420\n",
      "Weighted F1-Score: 0.1411, Unweighted F1-Score: 0.0863,\n",
      "--------------------------------------------------\n",
      "\n",
      "\n"
     ]
    },
    {
     "output_type": "stream",
     "name": "stderr",
     "text": [
      "100%|██████████| 188/188 [00:07<00:00, 25.00it/s]\n",
      "100%|██████████| 6/6 [00:00<00:00,  9.53it/s]\n",
      "100%|██████████| 6/6 [00:00<00:00,  9.38it/s]\n"
     ]
    },
    {
     "output_type": "stream",
     "name": "stdout",
     "text": [
      "\n",
      "\n",
      "--------------------------------------------------\n",
      "Epoch  9\n",
      "Training Loss: 0.0555, Validation Loss: 0.0144\n",
      "Validation Results: \n",
      "Weighted Accuracy: 0.1427, Unweighted Accuracy: 0.2473\n",
      "Weighted F1-Score: 0.1578, Unweighted F1-Score: 0.0915,\n",
      "Test Results: \n",
      "Weighted Accuracy: 0.1423, Unweighted Accuracy: 0.2340\n",
      "Weighted F1-Score: 0.1440, Unweighted F1-Score: 0.0884,\n",
      "--------------------------------------------------\n",
      "\n",
      "\n"
     ]
    },
    {
     "output_type": "stream",
     "name": "stderr",
     "text": [
      "100%|██████████| 188/188 [00:07<00:00, 24.85it/s]\n",
      "100%|██████████| 6/6 [00:00<00:00,  9.29it/s]\n",
      "100%|██████████| 6/6 [00:00<00:00,  9.28it/s]\n"
     ]
    },
    {
     "output_type": "stream",
     "name": "stdout",
     "text": [
      "Saved model at epoch 10 with validation unweighted accuracy of 25.53%\n",
      "\n",
      "\n",
      "--------------------------------------------------\n",
      "Epoch  10\n",
      "Training Loss: 0.0555, Validation Loss: 0.0144\n",
      "Validation Results: \n",
      "Weighted Accuracy: 0.1471, Unweighted Accuracy: 0.2553\n",
      "Weighted F1-Score: 0.1599, Unweighted F1-Score: 0.0926,\n",
      "Test Results: \n",
      "Weighted Accuracy: 0.1475, Unweighted Accuracy: 0.2433\n",
      "Weighted F1-Score: 0.1481, Unweighted F1-Score: 0.0909,\n",
      "--------------------------------------------------\n",
      "\n",
      "\n"
     ]
    },
    {
     "output_type": "stream",
     "name": "stderr",
     "text": [
      "100%|██████████| 188/188 [00:07<00:00, 24.97it/s]\n",
      "100%|██████████| 6/6 [00:00<00:00,  9.74it/s]\n",
      "100%|██████████| 6/6 [00:00<00:00,  9.38it/s]\n"
     ]
    },
    {
     "output_type": "stream",
     "name": "stdout",
     "text": [
      "\n",
      "\n",
      "--------------------------------------------------\n",
      "Epoch  11\n",
      "Training Loss: 0.0554, Validation Loss: 0.0144\n",
      "Validation Results: \n",
      "Weighted Accuracy: 0.1360, Unweighted Accuracy: 0.2353\n",
      "Weighted F1-Score: 0.1521, Unweighted F1-Score: 0.0882,\n",
      "Test Results: \n",
      "Weighted Accuracy: 0.1440, Unweighted Accuracy: 0.2353\n",
      "Weighted F1-Score: 0.1475, Unweighted F1-Score: 0.0907,\n",
      "--------------------------------------------------\n",
      "\n",
      "\n"
     ]
    },
    {
     "output_type": "stream",
     "name": "stderr",
     "text": [
      "100%|██████████| 188/188 [00:07<00:00, 25.24it/s]\n",
      "100%|██████████| 6/6 [00:00<00:00,  9.51it/s]\n",
      "100%|██████████| 6/6 [00:00<00:00,  9.42it/s]\n"
     ]
    },
    {
     "output_type": "stream",
     "name": "stdout",
     "text": [
      "\n",
      "\n",
      "--------------------------------------------------\n",
      "Epoch  12\n",
      "Training Loss: 0.0554, Validation Loss: 0.0144\n",
      "Validation Results: \n",
      "Weighted Accuracy: 0.1380, Unweighted Accuracy: 0.2380\n",
      "Weighted F1-Score: 0.1566, Unweighted F1-Score: 0.0909,\n",
      "Test Results: \n",
      "Weighted Accuracy: 0.1420, Unweighted Accuracy: 0.2299\n",
      "Weighted F1-Score: 0.1455, Unweighted F1-Score: 0.0898,\n",
      "--------------------------------------------------\n",
      "\n",
      "\n"
     ]
    },
    {
     "output_type": "stream",
     "name": "stderr",
     "text": [
      "100%|██████████| 188/188 [00:07<00:00, 25.24it/s]\n",
      "100%|██████████| 6/6 [00:00<00:00,  9.65it/s]\n",
      "100%|██████████| 6/6 [00:00<00:00,  9.26it/s]\n"
     ]
    },
    {
     "output_type": "stream",
     "name": "stdout",
     "text": [
      "Epoch 00013: reducing learning rate of group 0 to 1.0000e-06.\n",
      "\n",
      "\n",
      "--------------------------------------------------\n",
      "Epoch  13\n",
      "Training Loss: 0.0554, Validation Loss: 0.0144\n",
      "Validation Results: \n",
      "Weighted Accuracy: 0.1390, Unweighted Accuracy: 0.2406\n",
      "Weighted F1-Score: 0.1553, Unweighted F1-Score: 0.0900,\n",
      "Test Results: \n",
      "Weighted Accuracy: 0.1441, Unweighted Accuracy: 0.2366\n",
      "Weighted F1-Score: 0.1466, Unweighted F1-Score: 0.0901,\n",
      "--------------------------------------------------\n",
      "\n",
      "\n"
     ]
    },
    {
     "output_type": "stream",
     "name": "stderr",
     "text": [
      "100%|██████████| 188/188 [00:07<00:00, 25.05it/s]\n",
      "100%|██████████| 6/6 [00:00<00:00,  9.50it/s]\n",
      "100%|██████████| 6/6 [00:00<00:00,  9.32it/s]\n"
     ]
    },
    {
     "output_type": "stream",
     "name": "stdout",
     "text": [
      "\n",
      "\n",
      "--------------------------------------------------\n",
      "Epoch  14\n",
      "Training Loss: 0.0553, Validation Loss: 0.0144\n",
      "Validation Results: \n",
      "Weighted Accuracy: 0.1382, Unweighted Accuracy: 0.2393\n",
      "Weighted F1-Score: 0.1539, Unweighted F1-Score: 0.0892,\n",
      "Test Results: \n",
      "Weighted Accuracy: 0.1451, Unweighted Accuracy: 0.2380\n",
      "Weighted F1-Score: 0.1476, Unweighted F1-Score: 0.0907,\n",
      "--------------------------------------------------\n",
      "\n",
      "\n"
     ]
    },
    {
     "output_type": "stream",
     "name": "stderr",
     "text": [
      "100%|██████████| 188/188 [00:07<00:00, 25.31it/s]\n",
      "100%|██████████| 6/6 [00:00<00:00,  9.60it/s]\n",
      "100%|██████████| 6/6 [00:00<00:00,  9.51it/s]\n"
     ]
    },
    {
     "output_type": "stream",
     "name": "stdout",
     "text": [
      "\n",
      "\n",
      "--------------------------------------------------\n",
      "Epoch  15\n",
      "Training Loss: 0.0553, Validation Loss: 0.0144\n",
      "Validation Results: \n",
      "Weighted Accuracy: 0.1382, Unweighted Accuracy: 0.2393\n",
      "Weighted F1-Score: 0.1539, Unweighted F1-Score: 0.0892,\n",
      "Test Results: \n",
      "Weighted Accuracy: 0.1443, Unweighted Accuracy: 0.2366\n",
      "Weighted F1-Score: 0.1469, Unweighted F1-Score: 0.0902,\n",
      "--------------------------------------------------\n",
      "\n",
      "\n"
     ]
    },
    {
     "output_type": "stream",
     "name": "stderr",
     "text": [
      "100%|██████████| 188/188 [00:07<00:00, 24.72it/s]\n",
      "100%|██████████| 6/6 [00:00<00:00,  9.51it/s]\n",
      "100%|██████████| 6/6 [00:00<00:00,  9.31it/s]\n"
     ]
    },
    {
     "output_type": "stream",
     "name": "stdout",
     "text": [
      "\n",
      "\n",
      "--------------------------------------------------\n",
      "Epoch  16\n",
      "Training Loss: 0.0554, Validation Loss: 0.0144\n",
      "Validation Results: \n",
      "Weighted Accuracy: 0.1382, Unweighted Accuracy: 0.2393\n",
      "Weighted F1-Score: 0.1539, Unweighted F1-Score: 0.0892,\n",
      "Test Results: \n",
      "Weighted Accuracy: 0.1435, Unweighted Accuracy: 0.2353\n",
      "Weighted F1-Score: 0.1461, Unweighted F1-Score: 0.0898,\n",
      "--------------------------------------------------\n",
      "\n",
      "\n"
     ]
    },
    {
     "output_type": "stream",
     "name": "stderr",
     "text": [
      "100%|██████████| 188/188 [00:07<00:00, 25.13it/s]\n",
      "100%|██████████| 6/6 [00:00<00:00,  9.37it/s]\n",
      "100%|██████████| 6/6 [00:00<00:00,  9.44it/s]\n"
     ]
    },
    {
     "output_type": "stream",
     "name": "stdout",
     "text": [
      "\n",
      "\n",
      "--------------------------------------------------\n",
      "Epoch  17\n",
      "Training Loss: 0.0553, Validation Loss: 0.0144\n",
      "Validation Results: \n",
      "Weighted Accuracy: 0.1383, Unweighted Accuracy: 0.2393\n",
      "Weighted F1-Score: 0.1544, Unweighted F1-Score: 0.0895,\n",
      "Test Results: \n",
      "Weighted Accuracy: 0.1414, Unweighted Accuracy: 0.2313\n",
      "Weighted F1-Score: 0.1445, Unweighted F1-Score: 0.0889,\n",
      "--------------------------------------------------\n",
      "\n",
      "\n"
     ]
    },
    {
     "output_type": "stream",
     "name": "stderr",
     "text": [
      "100%|██████████| 188/188 [00:07<00:00, 24.78it/s]\n",
      "100%|██████████| 6/6 [00:00<00:00,  9.41it/s]\n",
      "100%|██████████| 6/6 [00:00<00:00,  9.29it/s]\n"
     ]
    },
    {
     "output_type": "stream",
     "name": "stdout",
     "text": [
      "\n",
      "\n",
      "--------------------------------------------------\n",
      "Epoch  18\n",
      "Training Loss: 0.0553, Validation Loss: 0.0144\n",
      "Validation Results: \n",
      "Weighted Accuracy: 0.1383, Unweighted Accuracy: 0.2393\n",
      "Weighted F1-Score: 0.1547, Unweighted F1-Score: 0.0897,\n",
      "Test Results: \n",
      "Weighted Accuracy: 0.1432, Unweighted Accuracy: 0.2340\n",
      "Weighted F1-Score: 0.1466, Unweighted F1-Score: 0.0903,\n",
      "--------------------------------------------------\n",
      "\n",
      "\n"
     ]
    },
    {
     "output_type": "stream",
     "name": "stderr",
     "text": [
      "100%|██████████| 188/188 [00:07<00:00, 24.94it/s]\n",
      "100%|██████████| 6/6 [00:00<00:00,  9.60it/s]\n",
      "100%|██████████| 6/6 [00:00<00:00,  9.32it/s]\n"
     ]
    },
    {
     "output_type": "stream",
     "name": "stdout",
     "text": [
      "Epoch 00019: reducing learning rate of group 0 to 1.0000e-07.\n",
      "\n",
      "\n",
      "--------------------------------------------------\n",
      "Epoch  19\n",
      "Training Loss: 0.0553, Validation Loss: 0.0144\n",
      "Validation Results: \n",
      "Weighted Accuracy: 0.1383, Unweighted Accuracy: 0.2393\n",
      "Weighted F1-Score: 0.1546, Unweighted F1-Score: 0.0897,\n",
      "Test Results: \n",
      "Weighted Accuracy: 0.1432, Unweighted Accuracy: 0.2340\n",
      "Weighted F1-Score: 0.1466, Unweighted F1-Score: 0.0902,\n",
      "--------------------------------------------------\n",
      "\n",
      "\n"
     ]
    },
    {
     "output_type": "stream",
     "name": "stderr",
     "text": [
      "100%|██████████| 188/188 [00:07<00:00, 24.75it/s]\n",
      "100%|██████████| 6/6 [00:00<00:00,  9.45it/s]\n",
      "100%|██████████| 6/6 [00:00<00:00,  9.24it/s]\n"
     ]
    },
    {
     "output_type": "stream",
     "name": "stdout",
     "text": [
      "\n",
      "\n",
      "--------------------------------------------------\n",
      "Epoch  20\n",
      "Training Loss: 0.0553, Validation Loss: 0.0144\n",
      "Validation Results: \n",
      "Weighted Accuracy: 0.1383, Unweighted Accuracy: 0.2393\n",
      "Weighted F1-Score: 0.1546, Unweighted F1-Score: 0.0897,\n",
      "Test Results: \n",
      "Weighted Accuracy: 0.1432, Unweighted Accuracy: 0.2340\n",
      "Weighted F1-Score: 0.1466, Unweighted F1-Score: 0.0902,\n",
      "--------------------------------------------------\n",
      "\n",
      "\n"
     ]
    },
    {
     "output_type": "stream",
     "name": "stderr",
     "text": [
      "100%|██████████| 188/188 [00:07<00:00, 25.22it/s]\n",
      "100%|██████████| 6/6 [00:00<00:00,  9.40it/s]\n",
      "100%|██████████| 6/6 [00:00<00:00,  9.27it/s]\n"
     ]
    },
    {
     "output_type": "stream",
     "name": "stdout",
     "text": [
      "\n",
      "\n",
      "--------------------------------------------------\n",
      "Epoch  21\n",
      "Training Loss: 0.0553, Validation Loss: 0.0144\n",
      "Validation Results: \n",
      "Weighted Accuracy: 0.1383, Unweighted Accuracy: 0.2393\n",
      "Weighted F1-Score: 0.1547, Unweighted F1-Score: 0.0897,\n",
      "Test Results: \n",
      "Weighted Accuracy: 0.1432, Unweighted Accuracy: 0.2340\n",
      "Weighted F1-Score: 0.1466, Unweighted F1-Score: 0.0902,\n",
      "--------------------------------------------------\n",
      "\n",
      "\n"
     ]
    },
    {
     "output_type": "stream",
     "name": "stderr",
     "text": [
      "100%|██████████| 188/188 [00:07<00:00, 25.06it/s]\n",
      "100%|██████████| 6/6 [00:00<00:00,  9.77it/s]\n",
      "100%|██████████| 6/6 [00:00<00:00,  9.50it/s]\n"
     ]
    },
    {
     "output_type": "stream",
     "name": "stdout",
     "text": [
      "\n",
      "\n",
      "--------------------------------------------------\n",
      "Epoch  22\n",
      "Training Loss: 0.0553, Validation Loss: 0.0144\n",
      "Validation Results: \n",
      "Weighted Accuracy: 0.1383, Unweighted Accuracy: 0.2393\n",
      "Weighted F1-Score: 0.1546, Unweighted F1-Score: 0.0897,\n",
      "Test Results: \n",
      "Weighted Accuracy: 0.1432, Unweighted Accuracy: 0.2340\n",
      "Weighted F1-Score: 0.1466, Unweighted F1-Score: 0.0902,\n",
      "--------------------------------------------------\n",
      "\n",
      "\n"
     ]
    },
    {
     "output_type": "stream",
     "name": "stderr",
     "text": [
      "100%|██████████| 188/188 [00:07<00:00, 25.13it/s]\n",
      "100%|██████████| 6/6 [00:00<00:00,  9.76it/s]\n",
      "100%|██████████| 6/6 [00:00<00:00,  9.29it/s]\n"
     ]
    },
    {
     "output_type": "stream",
     "name": "stdout",
     "text": [
      "\n",
      "\n",
      "--------------------------------------------------\n",
      "Epoch  23\n",
      "Training Loss: 0.0553, Validation Loss: 0.0144\n",
      "Validation Results: \n",
      "Weighted Accuracy: 0.1383, Unweighted Accuracy: 0.2393\n",
      "Weighted F1-Score: 0.1546, Unweighted F1-Score: 0.0897,\n",
      "Test Results: \n",
      "Weighted Accuracy: 0.1432, Unweighted Accuracy: 0.2340\n",
      "Weighted F1-Score: 0.1466, Unweighted F1-Score: 0.0902,\n",
      "--------------------------------------------------\n",
      "\n",
      "\n"
     ]
    },
    {
     "output_type": "stream",
     "name": "stderr",
     "text": [
      "100%|██████████| 188/188 [00:07<00:00, 24.75it/s]\n",
      "100%|██████████| 6/6 [00:00<00:00,  9.37it/s]\n",
      "100%|██████████| 6/6 [00:00<00:00,  9.29it/s]\n"
     ]
    },
    {
     "output_type": "stream",
     "name": "stdout",
     "text": [
      "\n",
      "\n",
      "--------------------------------------------------\n",
      "Epoch  24\n",
      "Training Loss: 0.0553, Validation Loss: 0.0144\n",
      "Validation Results: \n",
      "Weighted Accuracy: 0.1383, Unweighted Accuracy: 0.2393\n",
      "Weighted F1-Score: 0.1546, Unweighted F1-Score: 0.0897,\n",
      "Test Results: \n",
      "Weighted Accuracy: 0.1432, Unweighted Accuracy: 0.2340\n",
      "Weighted F1-Score: 0.1466, Unweighted F1-Score: 0.0902,\n",
      "--------------------------------------------------\n",
      "\n",
      "\n"
     ]
    },
    {
     "output_type": "stream",
     "name": "stderr",
     "text": [
      "100%|██████████| 188/188 [00:07<00:00, 24.98it/s]\n",
      "100%|██████████| 6/6 [00:00<00:00,  9.51it/s]\n",
      "100%|██████████| 6/6 [00:00<00:00,  9.36it/s]\n"
     ]
    },
    {
     "output_type": "stream",
     "name": "stdout",
     "text": [
      "Epoch 00025: reducing learning rate of group 0 to 1.0000e-08.\n",
      "\n",
      "\n",
      "--------------------------------------------------\n",
      "Epoch  25\n",
      "Training Loss: 0.0553, Validation Loss: 0.0144\n",
      "Validation Results: \n",
      "Weighted Accuracy: 0.1383, Unweighted Accuracy: 0.2393\n",
      "Weighted F1-Score: 0.1546, Unweighted F1-Score: 0.0897,\n",
      "Test Results: \n",
      "Weighted Accuracy: 0.1432, Unweighted Accuracy: 0.2340\n",
      "Weighted F1-Score: 0.1466, Unweighted F1-Score: 0.0902,\n",
      "--------------------------------------------------\n",
      "\n",
      "\n"
     ]
    },
    {
     "output_type": "stream",
     "name": "stderr",
     "text": [
      "100%|██████████| 188/188 [00:07<00:00, 24.80it/s]\n",
      "100%|██████████| 6/6 [00:00<00:00,  9.63it/s]\n",
      "100%|██████████| 6/6 [00:00<00:00,  9.58it/s]\n"
     ]
    },
    {
     "output_type": "stream",
     "name": "stdout",
     "text": [
      "\n",
      "\n",
      "--------------------------------------------------\n",
      "Epoch  26\n",
      "Training Loss: 0.0553, Validation Loss: 0.0144\n",
      "Validation Results: \n",
      "Weighted Accuracy: 0.1383, Unweighted Accuracy: 0.2393\n",
      "Weighted F1-Score: 0.1546, Unweighted F1-Score: 0.0897,\n",
      "Test Results: \n",
      "Weighted Accuracy: 0.1432, Unweighted Accuracy: 0.2340\n",
      "Weighted F1-Score: 0.1466, Unweighted F1-Score: 0.0902,\n",
      "--------------------------------------------------\n",
      "\n",
      "\n"
     ]
    },
    {
     "output_type": "stream",
     "name": "stderr",
     "text": [
      "100%|██████████| 188/188 [00:07<00:00, 25.07it/s]\n",
      "100%|██████████| 6/6 [00:00<00:00,  9.40it/s]\n",
      "100%|██████████| 6/6 [00:00<00:00,  9.37it/s]\n"
     ]
    },
    {
     "output_type": "stream",
     "name": "stdout",
     "text": [
      "\n",
      "\n",
      "--------------------------------------------------\n",
      "Epoch  27\n",
      "Training Loss: 0.0553, Validation Loss: 0.0144\n",
      "Validation Results: \n",
      "Weighted Accuracy: 0.1383, Unweighted Accuracy: 0.2393\n",
      "Weighted F1-Score: 0.1546, Unweighted F1-Score: 0.0897,\n",
      "Test Results: \n",
      "Weighted Accuracy: 0.1432, Unweighted Accuracy: 0.2340\n",
      "Weighted F1-Score: 0.1466, Unweighted F1-Score: 0.0902,\n",
      "--------------------------------------------------\n",
      "\n",
      "\n"
     ]
    },
    {
     "output_type": "stream",
     "name": "stderr",
     "text": [
      "100%|██████████| 188/188 [00:07<00:00, 25.14it/s]\n",
      "100%|██████████| 6/6 [00:00<00:00,  9.60it/s]\n",
      "100%|██████████| 6/6 [00:00<00:00,  9.39it/s]\n"
     ]
    },
    {
     "output_type": "stream",
     "name": "stdout",
     "text": [
      "\n",
      "\n",
      "--------------------------------------------------\n",
      "Epoch  28\n",
      "Training Loss: 0.0553, Validation Loss: 0.0144\n",
      "Validation Results: \n",
      "Weighted Accuracy: 0.1383, Unweighted Accuracy: 0.2393\n",
      "Weighted F1-Score: 0.1546, Unweighted F1-Score: 0.0897,\n",
      "Test Results: \n",
      "Weighted Accuracy: 0.1432, Unweighted Accuracy: 0.2340\n",
      "Weighted F1-Score: 0.1466, Unweighted F1-Score: 0.0902,\n",
      "--------------------------------------------------\n",
      "\n",
      "\n"
     ]
    },
    {
     "output_type": "stream",
     "name": "stderr",
     "text": [
      "100%|██████████| 188/188 [00:07<00:00, 24.96it/s]\n",
      "100%|██████████| 6/6 [00:00<00:00,  9.32it/s]\n",
      "100%|██████████| 6/6 [00:00<00:00,  9.38it/s]\n"
     ]
    },
    {
     "output_type": "stream",
     "name": "stdout",
     "text": [
      "\n",
      "\n",
      "--------------------------------------------------\n",
      "Epoch  29\n",
      "Training Loss: 0.0553, Validation Loss: 0.0144\n",
      "Validation Results: \n",
      "Weighted Accuracy: 0.1383, Unweighted Accuracy: 0.2393\n",
      "Weighted F1-Score: 0.1546, Unweighted F1-Score: 0.0897,\n",
      "Test Results: \n",
      "Weighted Accuracy: 0.1432, Unweighted Accuracy: 0.2340\n",
      "Weighted F1-Score: 0.1466, Unweighted F1-Score: 0.0902,\n",
      "--------------------------------------------------\n",
      "\n",
      "\n"
     ]
    },
    {
     "output_type": "stream",
     "name": "stderr",
     "text": [
      "100%|██████████| 188/188 [00:07<00:00, 24.93it/s]\n",
      "100%|██████████| 6/6 [00:00<00:00,  9.70it/s]\n",
      "100%|██████████| 6/6 [00:00<00:00,  9.62it/s]\n"
     ]
    },
    {
     "output_type": "stream",
     "name": "stdout",
     "text": [
      "\n",
      "\n",
      "--------------------------------------------------\n",
      "Epoch  30\n",
      "Training Loss: 0.0553, Validation Loss: 0.0144\n",
      "Validation Results: \n",
      "Weighted Accuracy: 0.1383, Unweighted Accuracy: 0.2393\n",
      "Weighted F1-Score: 0.1546, Unweighted F1-Score: 0.0897,\n",
      "Test Results: \n",
      "Weighted Accuracy: 0.1432, Unweighted Accuracy: 0.2340\n",
      "Weighted F1-Score: 0.1466, Unweighted F1-Score: 0.0902,\n",
      "--------------------------------------------------\n",
      "\n",
      "\n"
     ]
    },
    {
     "output_type": "stream",
     "name": "stderr",
     "text": [
      "100%|██████████| 188/188 [00:08<00:00, 23.39it/s]\n",
      "100%|██████████| 6/6 [00:00<00:00,  9.40it/s]\n",
      "100%|██████████| 6/6 [00:00<00:00,  9.27it/s]\n"
     ]
    },
    {
     "output_type": "stream",
     "name": "stdout",
     "text": [
      "Saved model at epoch 1 with validation unweighted accuracy of 23.53%\n",
      "\n",
      "\n",
      "--------------------------------------------------\n",
      "Epoch  1\n",
      "Training Loss: 0.0564, Validation Loss: 0.0144\n",
      "Validation Results: \n",
      "Weighted Accuracy: 0.1394, Unweighted Accuracy: 0.2353\n",
      "Weighted F1-Score: 0.1506, Unweighted F1-Score: 0.0896,\n",
      "Test Results: \n",
      "Weighted Accuracy: 0.1538, Unweighted Accuracy: 0.2741\n",
      "Weighted F1-Score: 0.1768, Unweighted F1-Score: 0.1003,\n",
      "--------------------------------------------------\n",
      "\n",
      "\n"
     ]
    },
    {
     "output_type": "stream",
     "name": "stderr",
     "text": [
      "100%|██████████| 188/188 [00:07<00:00, 25.36it/s]\n",
      "100%|██████████| 6/6 [00:00<00:00,  9.43it/s]\n",
      "100%|██████████| 6/6 [00:00<00:00,  9.40it/s]\n"
     ]
    },
    {
     "output_type": "stream",
     "name": "stdout",
     "text": [
      "Saved model at epoch 2 with validation unweighted accuracy of 24.73%\n",
      "\n",
      "\n",
      "--------------------------------------------------\n",
      "Epoch  2\n",
      "Training Loss: 0.0561, Validation Loss: 0.0144\n",
      "Validation Results: \n",
      "Weighted Accuracy: 0.1429, Unweighted Accuracy: 0.2473\n",
      "Weighted F1-Score: 0.0981, Unweighted F1-Score: 0.0567,\n",
      "Test Results: \n",
      "Weighted Accuracy: 0.1429, Unweighted Accuracy: 0.2754\n",
      "Weighted F1-Score: 0.1189, Unweighted F1-Score: 0.0617,\n",
      "--------------------------------------------------\n",
      "\n",
      "\n"
     ]
    },
    {
     "output_type": "stream",
     "name": "stderr",
     "text": [
      "100%|██████████| 188/188 [00:07<00:00, 25.33it/s]\n",
      "100%|██████████| 6/6 [00:00<00:00,  9.71it/s]\n",
      "100%|██████████| 6/6 [00:00<00:00,  9.64it/s]\n"
     ]
    },
    {
     "output_type": "stream",
     "name": "stdout",
     "text": [
      "Saved model at epoch 3 with validation unweighted accuracy of 24.87%\n",
      "\n",
      "\n",
      "--------------------------------------------------\n",
      "Epoch  3\n",
      "Training Loss: 0.0560, Validation Loss: 0.0144\n",
      "Validation Results: \n",
      "Weighted Accuracy: 0.1472, Unweighted Accuracy: 0.2487\n",
      "Weighted F1-Score: 0.1590, Unweighted F1-Score: 0.0947,\n",
      "Test Results: \n",
      "Weighted Accuracy: 0.1501, Unweighted Accuracy: 0.2687\n",
      "Weighted F1-Score: 0.1719, Unweighted F1-Score: 0.0975,\n",
      "--------------------------------------------------\n",
      "\n",
      "\n"
     ]
    },
    {
     "output_type": "stream",
     "name": "stderr",
     "text": [
      "100%|██████████| 188/188 [00:07<00:00, 25.20it/s]\n",
      "100%|██████████| 6/6 [00:00<00:00,  9.50it/s]\n",
      "100%|██████████| 6/6 [00:00<00:00,  9.39it/s]\n"
     ]
    },
    {
     "output_type": "stream",
     "name": "stdout",
     "text": [
      "\n",
      "\n",
      "--------------------------------------------------\n",
      "Epoch  4\n",
      "Training Loss: 0.0560, Validation Loss: 0.0144\n",
      "Validation Results: \n",
      "Weighted Accuracy: 0.1420, Unweighted Accuracy: 0.2433\n",
      "Weighted F1-Score: 0.1377, Unweighted F1-Score: 0.0813,\n",
      "Test Results: \n",
      "Weighted Accuracy: 0.1503, Unweighted Accuracy: 0.2781\n",
      "Weighted F1-Score: 0.1643, Unweighted F1-Score: 0.0920,\n",
      "--------------------------------------------------\n",
      "\n",
      "\n"
     ]
    },
    {
     "output_type": "stream",
     "name": "stderr",
     "text": [
      "100%|██████████| 188/188 [00:07<00:00, 24.89it/s]\n",
      "100%|██████████| 6/6 [00:00<00:00,  9.33it/s]\n",
      "100%|██████████| 6/6 [00:00<00:00,  9.60it/s]\n"
     ]
    },
    {
     "output_type": "stream",
     "name": "stdout",
     "text": [
      "\n",
      "\n",
      "--------------------------------------------------\n",
      "Epoch  5\n",
      "Training Loss: 0.0559, Validation Loss: 0.0144\n",
      "Validation Results: \n",
      "Weighted Accuracy: 0.1391, Unweighted Accuracy: 0.2340\n",
      "Weighted F1-Score: 0.1510, Unweighted F1-Score: 0.0901,\n",
      "Test Results: \n",
      "Weighted Accuracy: 0.1509, Unweighted Accuracy: 0.2674\n",
      "Weighted F1-Score: 0.1740, Unweighted F1-Score: 0.0989,\n",
      "--------------------------------------------------\n",
      "\n",
      "\n"
     ]
    },
    {
     "output_type": "stream",
     "name": "stderr",
     "text": [
      "100%|██████████| 188/188 [00:07<00:00, 25.22it/s]\n",
      "100%|██████████| 6/6 [00:00<00:00,  9.61it/s]\n",
      "100%|██████████| 6/6 [00:00<00:00,  9.37it/s]\n"
     ]
    },
    {
     "output_type": "stream",
     "name": "stdout",
     "text": [
      "\n",
      "\n",
      "--------------------------------------------------\n",
      "Epoch  6\n",
      "Training Loss: 0.0559, Validation Loss: 0.0144\n",
      "Validation Results: \n",
      "Weighted Accuracy: 0.1475, Unweighted Accuracy: 0.2460\n",
      "Weighted F1-Score: 0.1586, Unweighted F1-Score: 0.0948,\n",
      "Test Results: \n",
      "Weighted Accuracy: 0.1558, Unweighted Accuracy: 0.2660\n",
      "Weighted F1-Score: 0.1781, Unweighted F1-Score: 0.1024,\n",
      "--------------------------------------------------\n",
      "\n",
      "\n"
     ]
    },
    {
     "output_type": "stream",
     "name": "stderr",
     "text": [
      "100%|██████████| 188/188 [00:07<00:00, 24.92it/s]\n",
      "100%|██████████| 6/6 [00:00<00:00,  9.61it/s]\n",
      "100%|██████████| 6/6 [00:00<00:00,  9.37it/s]\n"
     ]
    },
    {
     "output_type": "stream",
     "name": "stdout",
     "text": [
      "Epoch 00007: reducing learning rate of group 0 to 1.0000e-05.\n",
      "\n",
      "\n",
      "--------------------------------------------------\n",
      "Epoch  7\n",
      "Training Loss: 0.0559, Validation Loss: 0.0144\n",
      "Validation Results: \n",
      "Weighted Accuracy: 0.1398, Unweighted Accuracy: 0.2420\n",
      "Weighted F1-Score: 0.0996, Unweighted F1-Score: 0.0576,\n",
      "Test Results: \n",
      "Weighted Accuracy: 0.1452, Unweighted Accuracy: 0.2781\n",
      "Weighted F1-Score: 0.1312, Unweighted F1-Score: 0.0699,\n",
      "--------------------------------------------------\n",
      "\n",
      "\n"
     ]
    },
    {
     "output_type": "stream",
     "name": "stderr",
     "text": [
      "100%|██████████| 188/188 [00:07<00:00, 24.70it/s]\n",
      "100%|██████████| 6/6 [00:00<00:00,  9.53it/s]\n",
      "100%|██████████| 6/6 [00:00<00:00,  9.36it/s]\n"
     ]
    },
    {
     "output_type": "stream",
     "name": "stdout",
     "text": [
      "Saved model at epoch 8 with validation unweighted accuracy of 25.27%\n",
      "\n",
      "\n",
      "--------------------------------------------------\n",
      "Epoch  8\n",
      "Training Loss: 0.0557, Validation Loss: 0.0144\n",
      "Validation Results: \n",
      "Weighted Accuracy: 0.1489, Unweighted Accuracy: 0.2527\n",
      "Weighted F1-Score: 0.1583, Unweighted F1-Score: 0.0941,\n",
      "Test Results: \n",
      "Weighted Accuracy: 0.1476, Unweighted Accuracy: 0.2674\n",
      "Weighted F1-Score: 0.1675, Unweighted F1-Score: 0.0945,\n",
      "--------------------------------------------------\n",
      "\n",
      "\n"
     ]
    },
    {
     "output_type": "stream",
     "name": "stderr",
     "text": [
      "100%|██████████| 188/188 [00:07<00:00, 25.14it/s]\n",
      "100%|██████████| 6/6 [00:00<00:00,  9.35it/s]\n",
      "100%|██████████| 6/6 [00:00<00:00,  9.27it/s]\n"
     ]
    },
    {
     "output_type": "stream",
     "name": "stdout",
     "text": [
      "\n",
      "\n",
      "--------------------------------------------------\n",
      "Epoch  9\n",
      "Training Loss: 0.0556, Validation Loss: 0.0144\n",
      "Validation Results: \n",
      "Weighted Accuracy: 0.1491, Unweighted Accuracy: 0.2527\n",
      "Weighted F1-Score: 0.1594, Unweighted F1-Score: 0.0948,\n",
      "Test Results: \n",
      "Weighted Accuracy: 0.1460, Unweighted Accuracy: 0.2647\n",
      "Weighted F1-Score: 0.1656, Unweighted F1-Score: 0.0933,\n",
      "--------------------------------------------------\n",
      "\n",
      "\n"
     ]
    },
    {
     "output_type": "stream",
     "name": "stderr",
     "text": [
      "100%|██████████| 188/188 [00:07<00:00, 24.93it/s]\n",
      "100%|██████████| 6/6 [00:00<00:00,  9.67it/s]\n",
      "100%|██████████| 6/6 [00:00<00:00,  9.26it/s]\n"
     ]
    },
    {
     "output_type": "stream",
     "name": "stdout",
     "text": [
      "\n",
      "\n",
      "--------------------------------------------------\n",
      "Epoch  10\n",
      "Training Loss: 0.0555, Validation Loss: 0.0144\n",
      "Validation Results: \n",
      "Weighted Accuracy: 0.1436, Unweighted Accuracy: 0.2447\n",
      "Weighted F1-Score: 0.1483, Unweighted F1-Score: 0.0879,\n",
      "Test Results: \n",
      "Weighted Accuracy: 0.1468, Unweighted Accuracy: 0.2687\n",
      "Weighted F1-Score: 0.1639, Unweighted F1-Score: 0.0921,\n",
      "--------------------------------------------------\n",
      "\n",
      "\n"
     ]
    },
    {
     "output_type": "stream",
     "name": "stderr",
     "text": [
      "100%|██████████| 188/188 [00:07<00:00, 25.21it/s]\n",
      "100%|██████████| 6/6 [00:00<00:00,  9.69it/s]\n",
      "100%|██████████| 6/6 [00:00<00:00,  9.51it/s]\n"
     ]
    },
    {
     "output_type": "stream",
     "name": "stdout",
     "text": [
      "\n",
      "\n",
      "--------------------------------------------------\n",
      "Epoch  11\n",
      "Training Loss: 0.0556, Validation Loss: 0.0144\n",
      "Validation Results: \n",
      "Weighted Accuracy: 0.1435, Unweighted Accuracy: 0.2447\n",
      "Weighted F1-Score: 0.1465, Unweighted F1-Score: 0.0868,\n",
      "Test Results: \n",
      "Weighted Accuracy: 0.1432, Unweighted Accuracy: 0.2634\n",
      "Weighted F1-Score: 0.1587, Unweighted F1-Score: 0.0888,\n",
      "--------------------------------------------------\n",
      "\n",
      "\n"
     ]
    },
    {
     "output_type": "stream",
     "name": "stderr",
     "text": [
      "100%|██████████| 188/188 [00:07<00:00, 25.19it/s]\n",
      "100%|██████████| 6/6 [00:00<00:00,  9.44it/s]\n",
      "100%|██████████| 6/6 [00:00<00:00,  9.30it/s]\n"
     ]
    },
    {
     "output_type": "stream",
     "name": "stdout",
     "text": [
      "\n",
      "\n",
      "--------------------------------------------------\n",
      "Epoch  12\n",
      "Training Loss: 0.0555, Validation Loss: 0.0144\n",
      "Validation Results: \n",
      "Weighted Accuracy: 0.1455, Unweighted Accuracy: 0.2473\n",
      "Weighted F1-Score: 0.1529, Unweighted F1-Score: 0.0908,\n",
      "Test Results: \n",
      "Weighted Accuracy: 0.1461, Unweighted Accuracy: 0.2660\n",
      "Weighted F1-Score: 0.1648, Unweighted F1-Score: 0.0927,\n",
      "--------------------------------------------------\n",
      "\n",
      "\n"
     ]
    },
    {
     "output_type": "stream",
     "name": "stderr",
     "text": [
      "100%|██████████| 188/188 [00:07<00:00, 25.10it/s]\n",
      "100%|██████████| 6/6 [00:00<00:00,  9.65it/s]\n",
      "100%|██████████| 6/6 [00:00<00:00,  9.32it/s]\n"
     ]
    },
    {
     "output_type": "stream",
     "name": "stdout",
     "text": [
      "Epoch 00013: reducing learning rate of group 0 to 1.0000e-06.\n",
      "\n",
      "\n",
      "--------------------------------------------------\n",
      "Epoch  13\n",
      "Training Loss: 0.0555, Validation Loss: 0.0144\n",
      "Validation Results: \n",
      "Weighted Accuracy: 0.1449, Unweighted Accuracy: 0.2447\n",
      "Weighted F1-Score: 0.1568, Unweighted F1-Score: 0.0941,\n",
      "Test Results: \n",
      "Weighted Accuracy: 0.1493, Unweighted Accuracy: 0.2687\n",
      "Weighted F1-Score: 0.1713, Unweighted F1-Score: 0.0978,\n",
      "--------------------------------------------------\n",
      "\n",
      "\n"
     ]
    },
    {
     "output_type": "stream",
     "name": "stderr",
     "text": [
      "100%|██████████| 188/188 [00:07<00:00, 24.75it/s]\n",
      "100%|██████████| 6/6 [00:00<00:00,  9.41it/s]\n",
      "100%|██████████| 6/6 [00:00<00:00,  9.35it/s]\n"
     ]
    },
    {
     "output_type": "stream",
     "name": "stdout",
     "text": [
      "\n",
      "\n",
      "--------------------------------------------------\n",
      "Epoch  14\n",
      "Training Loss: 0.0554, Validation Loss: 0.0144\n",
      "Validation Results: \n",
      "Weighted Accuracy: 0.1465, Unweighted Accuracy: 0.2473\n",
      "Weighted F1-Score: 0.1590, Unweighted F1-Score: 0.0955,\n",
      "Test Results: \n",
      "Weighted Accuracy: 0.1479, Unweighted Accuracy: 0.2660\n",
      "Weighted F1-Score: 0.1699, Unweighted F1-Score: 0.0970,\n",
      "--------------------------------------------------\n",
      "\n",
      "\n"
     ]
    },
    {
     "output_type": "stream",
     "name": "stderr",
     "text": [
      "100%|██████████| 188/188 [00:07<00:00, 25.24it/s]\n",
      "100%|██████████| 6/6 [00:00<00:00,  9.75it/s]\n",
      "100%|██████████| 6/6 [00:00<00:00,  9.34it/s]\n"
     ]
    },
    {
     "output_type": "stream",
     "name": "stdout",
     "text": [
      "\n",
      "\n",
      "--------------------------------------------------\n",
      "Epoch  15\n",
      "Training Loss: 0.0554, Validation Loss: 0.0144\n",
      "Validation Results: \n",
      "Weighted Accuracy: 0.1474, Unweighted Accuracy: 0.2487\n",
      "Weighted F1-Score: 0.1601, Unweighted F1-Score: 0.0961,\n",
      "Test Results: \n",
      "Weighted Accuracy: 0.1488, Unweighted Accuracy: 0.2674\n",
      "Weighted F1-Score: 0.1710, Unweighted F1-Score: 0.0977,\n",
      "--------------------------------------------------\n",
      "\n",
      "\n"
     ]
    },
    {
     "output_type": "stream",
     "name": "stderr",
     "text": [
      "100%|██████████| 188/188 [00:07<00:00, 25.10it/s]\n",
      "100%|██████████| 6/6 [00:00<00:00,  9.47it/s]\n",
      "100%|██████████| 6/6 [00:00<00:00,  9.31it/s]\n"
     ]
    },
    {
     "output_type": "stream",
     "name": "stdout",
     "text": [
      "\n",
      "\n",
      "--------------------------------------------------\n",
      "Epoch  16\n",
      "Training Loss: 0.0554, Validation Loss: 0.0144\n",
      "Validation Results: \n",
      "Weighted Accuracy: 0.1476, Unweighted Accuracy: 0.2487\n",
      "Weighted F1-Score: 0.1613, Unweighted F1-Score: 0.0969,\n",
      "Test Results: \n",
      "Weighted Accuracy: 0.1481, Unweighted Accuracy: 0.2660\n",
      "Weighted F1-Score: 0.1704, Unweighted F1-Score: 0.0972,\n",
      "--------------------------------------------------\n",
      "\n",
      "\n"
     ]
    },
    {
     "output_type": "stream",
     "name": "stderr",
     "text": [
      "100%|██████████| 188/188 [00:07<00:00, 25.34it/s]\n",
      "100%|██████████| 6/6 [00:00<00:00,  9.53it/s]\n",
      "100%|██████████| 6/6 [00:00<00:00,  9.41it/s]\n"
     ]
    },
    {
     "output_type": "stream",
     "name": "stdout",
     "text": [
      "\n",
      "\n",
      "--------------------------------------------------\n",
      "Epoch  17\n",
      "Training Loss: 0.0554, Validation Loss: 0.0144\n",
      "Validation Results: \n",
      "Weighted Accuracy: 0.1476, Unweighted Accuracy: 0.2487\n",
      "Weighted F1-Score: 0.1612, Unweighted F1-Score: 0.0969,\n",
      "Test Results: \n",
      "Weighted Accuracy: 0.1467, Unweighted Accuracy: 0.2634\n",
      "Weighted F1-Score: 0.1691, Unweighted F1-Score: 0.0965,\n",
      "--------------------------------------------------\n",
      "\n",
      "\n"
     ]
    },
    {
     "output_type": "stream",
     "name": "stderr",
     "text": [
      "100%|██████████| 188/188 [00:07<00:00, 25.00it/s]\n",
      "100%|██████████| 6/6 [00:00<00:00,  9.83it/s]\n",
      "100%|██████████| 6/6 [00:00<00:00,  9.39it/s]\n"
     ]
    },
    {
     "output_type": "stream",
     "name": "stdout",
     "text": [
      "\n",
      "\n",
      "--------------------------------------------------\n",
      "Epoch  18\n",
      "Training Loss: 0.0554, Validation Loss: 0.0144\n",
      "Validation Results: \n",
      "Weighted Accuracy: 0.1484, Unweighted Accuracy: 0.2500\n",
      "Weighted F1-Score: 0.1623, Unweighted F1-Score: 0.0975,\n",
      "Test Results: \n",
      "Weighted Accuracy: 0.1460, Unweighted Accuracy: 0.2620\n",
      "Weighted F1-Score: 0.1683, Unweighted F1-Score: 0.0961,\n",
      "--------------------------------------------------\n",
      "\n",
      "\n"
     ]
    },
    {
     "output_type": "stream",
     "name": "stderr",
     "text": [
      "100%|██████████| 188/188 [00:07<00:00, 25.29it/s]\n",
      "100%|██████████| 6/6 [00:00<00:00,  9.54it/s]\n",
      "100%|██████████| 6/6 [00:00<00:00,  9.65it/s]\n"
     ]
    },
    {
     "output_type": "stream",
     "name": "stdout",
     "text": [
      "Epoch 00019: reducing learning rate of group 0 to 1.0000e-07.\n",
      "\n",
      "\n",
      "--------------------------------------------------\n",
      "Epoch  19\n",
      "Training Loss: 0.0554, Validation Loss: 0.0144\n",
      "Validation Results: \n",
      "Weighted Accuracy: 0.1484, Unweighted Accuracy: 0.2500\n",
      "Weighted F1-Score: 0.1622, Unweighted F1-Score: 0.0975,\n",
      "Test Results: \n",
      "Weighted Accuracy: 0.1460, Unweighted Accuracy: 0.2620\n",
      "Weighted F1-Score: 0.1683, Unweighted F1-Score: 0.0961,\n",
      "--------------------------------------------------\n",
      "\n",
      "\n"
     ]
    },
    {
     "output_type": "stream",
     "name": "stderr",
     "text": [
      "100%|██████████| 188/188 [00:07<00:00, 25.42it/s]\n",
      "100%|██████████| 6/6 [00:00<00:00,  9.90it/s]\n",
      "100%|██████████| 6/6 [00:00<00:00,  9.52it/s]\n"
     ]
    },
    {
     "output_type": "stream",
     "name": "stdout",
     "text": [
      "\n",
      "\n",
      "--------------------------------------------------\n",
      "Epoch  20\n",
      "Training Loss: 0.0554, Validation Loss: 0.0144\n",
      "Validation Results: \n",
      "Weighted Accuracy: 0.1484, Unweighted Accuracy: 0.2500\n",
      "Weighted F1-Score: 0.1622, Unweighted F1-Score: 0.0975,\n",
      "Test Results: \n",
      "Weighted Accuracy: 0.1460, Unweighted Accuracy: 0.2620\n",
      "Weighted F1-Score: 0.1684, Unweighted F1-Score: 0.0961,\n",
      "--------------------------------------------------\n",
      "\n",
      "\n"
     ]
    },
    {
     "output_type": "stream",
     "name": "stderr",
     "text": [
      "100%|██████████| 188/188 [00:07<00:00, 25.26it/s]\n",
      "100%|██████████| 6/6 [00:00<00:00,  9.80it/s]\n",
      "100%|██████████| 6/6 [00:00<00:00,  9.62it/s]\n"
     ]
    },
    {
     "output_type": "stream",
     "name": "stdout",
     "text": [
      "\n",
      "\n",
      "--------------------------------------------------\n",
      "Epoch  21\n",
      "Training Loss: 0.0554, Validation Loss: 0.0144\n",
      "Validation Results: \n",
      "Weighted Accuracy: 0.1484, Unweighted Accuracy: 0.2500\n",
      "Weighted F1-Score: 0.1622, Unweighted F1-Score: 0.0975,\n",
      "Test Results: \n",
      "Weighted Accuracy: 0.1460, Unweighted Accuracy: 0.2620\n",
      "Weighted F1-Score: 0.1684, Unweighted F1-Score: 0.0961,\n",
      "--------------------------------------------------\n",
      "\n",
      "\n"
     ]
    },
    {
     "output_type": "stream",
     "name": "stderr",
     "text": [
      "100%|██████████| 188/188 [00:07<00:00, 24.84it/s]\n",
      "100%|██████████| 6/6 [00:00<00:00,  9.55it/s]\n",
      "100%|██████████| 6/6 [00:00<00:00,  9.51it/s]\n"
     ]
    },
    {
     "output_type": "stream",
     "name": "stdout",
     "text": [
      "\n",
      "\n",
      "--------------------------------------------------\n",
      "Epoch  22\n",
      "Training Loss: 0.0554, Validation Loss: 0.0144\n",
      "Validation Results: \n",
      "Weighted Accuracy: 0.1484, Unweighted Accuracy: 0.2500\n",
      "Weighted F1-Score: 0.1623, Unweighted F1-Score: 0.0975,\n",
      "Test Results: \n",
      "Weighted Accuracy: 0.1460, Unweighted Accuracy: 0.2620\n",
      "Weighted F1-Score: 0.1683, Unweighted F1-Score: 0.0961,\n",
      "--------------------------------------------------\n",
      "\n",
      "\n"
     ]
    },
    {
     "output_type": "stream",
     "name": "stderr",
     "text": [
      "100%|██████████| 188/188 [00:07<00:00, 24.91it/s]\n",
      "100%|██████████| 6/6 [00:00<00:00,  9.55it/s]\n",
      "100%|██████████| 6/6 [00:00<00:00,  9.37it/s]\n"
     ]
    },
    {
     "output_type": "stream",
     "name": "stdout",
     "text": [
      "\n",
      "\n",
      "--------------------------------------------------\n",
      "Epoch  23\n",
      "Training Loss: 0.0553, Validation Loss: 0.0144\n",
      "Validation Results: \n",
      "Weighted Accuracy: 0.1484, Unweighted Accuracy: 0.2500\n",
      "Weighted F1-Score: 0.1623, Unweighted F1-Score: 0.0975,\n",
      "Test Results: \n",
      "Weighted Accuracy: 0.1460, Unweighted Accuracy: 0.2620\n",
      "Weighted F1-Score: 0.1683, Unweighted F1-Score: 0.0961,\n",
      "--------------------------------------------------\n",
      "\n",
      "\n"
     ]
    },
    {
     "output_type": "stream",
     "name": "stderr",
     "text": [
      "100%|██████████| 188/188 [00:07<00:00, 25.07it/s]\n",
      "100%|██████████| 6/6 [00:00<00:00,  9.72it/s]\n",
      "100%|██████████| 6/6 [00:00<00:00,  9.36it/s]\n"
     ]
    },
    {
     "output_type": "stream",
     "name": "stdout",
     "text": [
      "\n",
      "\n",
      "--------------------------------------------------\n",
      "Epoch  24\n",
      "Training Loss: 0.0554, Validation Loss: 0.0144\n",
      "Validation Results: \n",
      "Weighted Accuracy: 0.1484, Unweighted Accuracy: 0.2500\n",
      "Weighted F1-Score: 0.1623, Unweighted F1-Score: 0.0975,\n",
      "Test Results: \n",
      "Weighted Accuracy: 0.1460, Unweighted Accuracy: 0.2620\n",
      "Weighted F1-Score: 0.1683, Unweighted F1-Score: 0.0961,\n",
      "--------------------------------------------------\n",
      "\n",
      "\n",
      "Early stopped. No improvement in validation loss for 10 consecutive epoches.\n"
     ]
    },
    {
     "output_type": "stream",
     "name": "stderr",
     "text": [
      "100%|██████████| 188/188 [00:08<00:00, 23.42it/s]\n",
      "100%|██████████| 6/6 [00:00<00:00,  9.60it/s]\n",
      "100%|██████████| 6/6 [00:00<00:00,  9.30it/s]\n"
     ]
    },
    {
     "output_type": "stream",
     "name": "stdout",
     "text": [
      "Saved model at epoch 1 with validation unweighted accuracy of 25.00%\n",
      "\n",
      "\n",
      "--------------------------------------------------\n",
      "Epoch  1\n",
      "Training Loss: 0.0565, Validation Loss: 0.0143\n",
      "Validation Results: \n",
      "Weighted Accuracy: 0.1429, Unweighted Accuracy: 0.2500\n",
      "Weighted F1-Score: 0.1000, Unweighted F1-Score: 0.0571,\n",
      "Test Results: \n",
      "Weighted Accuracy: 0.1429, Unweighted Accuracy: 0.2112\n",
      "Weighted F1-Score: 0.0737, Unweighted F1-Score: 0.0498,\n",
      "--------------------------------------------------\n",
      "\n",
      "\n"
     ]
    },
    {
     "output_type": "stream",
     "name": "stderr",
     "text": [
      "100%|██████████| 188/188 [00:07<00:00, 25.16it/s]\n",
      "100%|██████████| 6/6 [00:00<00:00,  9.43it/s]\n",
      "100%|██████████| 6/6 [00:00<00:00,  9.25it/s]\n"
     ]
    },
    {
     "output_type": "stream",
     "name": "stdout",
     "text": [
      "Saved model at epoch 2 with validation unweighted accuracy of 25.53%\n",
      "\n",
      "\n",
      "--------------------------------------------------\n",
      "Epoch  2\n",
      "Training Loss: 0.0562, Validation Loss: 0.0143\n",
      "Validation Results: \n",
      "Weighted Accuracy: 0.1486, Unweighted Accuracy: 0.2553\n",
      "Weighted F1-Score: 0.1464, Unweighted F1-Score: 0.0868,\n",
      "Test Results: \n",
      "Weighted Accuracy: 0.1446, Unweighted Accuracy: 0.2246\n",
      "Weighted F1-Score: 0.1300, Unweighted F1-Score: 0.0786,\n",
      "--------------------------------------------------\n",
      "\n",
      "\n"
     ]
    },
    {
     "output_type": "stream",
     "name": "stderr",
     "text": [
      "100%|██████████| 188/188 [00:07<00:00, 24.98it/s]\n",
      "100%|██████████| 6/6 [00:00<00:00,  9.25it/s]\n",
      "100%|██████████| 6/6 [00:00<00:00,  9.20it/s]\n"
     ]
    },
    {
     "output_type": "stream",
     "name": "stdout",
     "text": [
      "\n",
      "\n",
      "--------------------------------------------------\n",
      "Epoch  3\n",
      "Training Loss: 0.0561, Validation Loss: 0.0143\n",
      "Validation Results: \n",
      "Weighted Accuracy: 0.1429, Unweighted Accuracy: 0.2500\n",
      "Weighted F1-Score: 0.1001, Unweighted F1-Score: 0.0572,\n",
      "Test Results: \n",
      "Weighted Accuracy: 0.1429, Unweighted Accuracy: 0.2112\n",
      "Weighted F1-Score: 0.0737, Unweighted F1-Score: 0.0498,\n",
      "--------------------------------------------------\n",
      "\n",
      "\n"
     ]
    },
    {
     "output_type": "stream",
     "name": "stderr",
     "text": [
      "100%|██████████| 188/188 [00:07<00:00, 24.90it/s]\n",
      "100%|██████████| 6/6 [00:00<00:00,  9.81it/s]\n",
      "100%|██████████| 6/6 [00:00<00:00,  9.50it/s]\n"
     ]
    },
    {
     "output_type": "stream",
     "name": "stdout",
     "text": [
      "\n",
      "\n",
      "--------------------------------------------------\n",
      "Epoch  4\n",
      "Training Loss: 0.0560, Validation Loss: 0.0143\n",
      "Validation Results: \n",
      "Weighted Accuracy: 0.1428, Unweighted Accuracy: 0.2246\n",
      "Weighted F1-Score: 0.0849, Unweighted F1-Score: 0.0539,\n",
      "Test Results: \n",
      "Weighted Accuracy: 0.1429, Unweighted Accuracy: 0.2767\n",
      "Weighted F1-Score: 0.1206, Unweighted F1-Score: 0.0623,\n",
      "--------------------------------------------------\n",
      "\n",
      "\n"
     ]
    },
    {
     "output_type": "stream",
     "name": "stderr",
     "text": [
      "100%|██████████| 188/188 [00:07<00:00, 25.30it/s]\n",
      "100%|██████████| 6/6 [00:00<00:00,  9.40it/s]\n",
      "100%|██████████| 6/6 [00:00<00:00,  9.28it/s]\n"
     ]
    },
    {
     "output_type": "stream",
     "name": "stdout",
     "text": [
      "\n",
      "\n",
      "--------------------------------------------------\n",
      "Epoch  5\n",
      "Training Loss: 0.0561, Validation Loss: 0.0143\n",
      "Validation Results: \n",
      "Weighted Accuracy: 0.1500, Unweighted Accuracy: 0.2473\n",
      "Weighted F1-Score: 0.1589, Unweighted F1-Score: 0.0957,\n",
      "Test Results: \n",
      "Weighted Accuracy: 0.1570, Unweighted Accuracy: 0.2714\n",
      "Weighted F1-Score: 0.1786, Unweighted F1-Score: 0.1029,\n",
      "--------------------------------------------------\n",
      "\n",
      "\n"
     ]
    },
    {
     "output_type": "stream",
     "name": "stderr",
     "text": [
      "100%|██████████| 188/188 [00:07<00:00, 25.06it/s]\n",
      "100%|██████████| 6/6 [00:00<00:00,  9.44it/s]\n",
      "100%|██████████| 6/6 [00:00<00:00,  9.25it/s]\n"
     ]
    },
    {
     "output_type": "stream",
     "name": "stdout",
     "text": [
      "\n",
      "\n",
      "--------------------------------------------------\n",
      "Epoch  6\n",
      "Training Loss: 0.0560, Validation Loss: 0.0143\n",
      "Validation Results: \n",
      "Weighted Accuracy: 0.1429, Unweighted Accuracy: 0.2246\n",
      "Weighted F1-Score: 0.0828, Unweighted F1-Score: 0.0527,\n",
      "Test Results: \n",
      "Weighted Accuracy: 0.1429, Unweighted Accuracy: 0.2767\n",
      "Weighted F1-Score: 0.1205, Unweighted F1-Score: 0.0622,\n",
      "--------------------------------------------------\n",
      "\n",
      "\n"
     ]
    },
    {
     "output_type": "stream",
     "name": "stderr",
     "text": [
      "100%|██████████| 188/188 [00:07<00:00, 25.31it/s]\n",
      "100%|██████████| 6/6 [00:00<00:00,  9.42it/s]\n",
      "100%|██████████| 6/6 [00:00<00:00,  9.23it/s]\n"
     ]
    },
    {
     "output_type": "stream",
     "name": "stdout",
     "text": [
      "Epoch 00007: reducing learning rate of group 0 to 1.0000e-05.\n",
      "\n",
      "\n",
      "--------------------------------------------------\n",
      "Epoch  7\n",
      "Training Loss: 0.0560, Validation Loss: 0.0143\n",
      "Validation Results: \n",
      "Weighted Accuracy: 0.1435, Unweighted Accuracy: 0.2259\n",
      "Weighted F1-Score: 0.0879, Unweighted F1-Score: 0.0556,\n",
      "Test Results: \n",
      "Weighted Accuracy: 0.1431, Unweighted Accuracy: 0.2767\n",
      "Weighted F1-Score: 0.1227, Unweighted F1-Score: 0.0638,\n",
      "--------------------------------------------------\n",
      "\n",
      "\n"
     ]
    },
    {
     "output_type": "stream",
     "name": "stderr",
     "text": [
      "100%|██████████| 188/188 [00:07<00:00, 24.80it/s]\n",
      "100%|██████████| 6/6 [00:00<00:00,  9.50it/s]\n",
      "100%|██████████| 6/6 [00:00<00:00,  9.36it/s]\n"
     ]
    },
    {
     "output_type": "stream",
     "name": "stdout",
     "text": [
      "\n",
      "\n",
      "--------------------------------------------------\n",
      "Epoch  8\n",
      "Training Loss: 0.0558, Validation Loss: 0.0143\n",
      "Validation Results: \n",
      "Weighted Accuracy: 0.1406, Unweighted Accuracy: 0.2219\n",
      "Weighted F1-Score: 0.0950, Unweighted F1-Score: 0.0596,\n",
      "Test Results: \n",
      "Weighted Accuracy: 0.1421, Unweighted Accuracy: 0.2741\n",
      "Weighted F1-Score: 0.1271, Unweighted F1-Score: 0.0667,\n",
      "--------------------------------------------------\n",
      "\n",
      "\n"
     ]
    },
    {
     "output_type": "stream",
     "name": "stderr",
     "text": [
      "100%|██████████| 188/188 [00:07<00:00, 25.00it/s]\n",
      "100%|██████████| 6/6 [00:00<00:00,  9.41it/s]\n",
      "100%|██████████| 6/6 [00:00<00:00,  9.26it/s]\n"
     ]
    },
    {
     "output_type": "stream",
     "name": "stdout",
     "text": [
      "\n",
      "\n",
      "--------------------------------------------------\n",
      "Epoch  9\n",
      "Training Loss: 0.0557, Validation Loss: 0.0143\n",
      "Validation Results: \n",
      "Weighted Accuracy: 0.1426, Unweighted Accuracy: 0.2286\n",
      "Weighted F1-Score: 0.1300, Unweighted F1-Score: 0.0794,\n",
      "Test Results: \n",
      "Weighted Accuracy: 0.1386, Unweighted Accuracy: 0.2594\n",
      "Weighted F1-Score: 0.1474, Unweighted F1-Score: 0.0815,\n",
      "--------------------------------------------------\n",
      "\n",
      "\n"
     ]
    },
    {
     "output_type": "stream",
     "name": "stderr",
     "text": [
      "100%|██████████| 188/188 [00:07<00:00, 25.32it/s]\n",
      "100%|██████████| 6/6 [00:00<00:00,  9.70it/s]\n",
      "100%|██████████| 6/6 [00:00<00:00,  9.09it/s]\n"
     ]
    },
    {
     "output_type": "stream",
     "name": "stdout",
     "text": [
      "\n",
      "\n",
      "--------------------------------------------------\n",
      "Epoch  10\n",
      "Training Loss: 0.0556, Validation Loss: 0.0143\n",
      "Validation Results: \n",
      "Weighted Accuracy: 0.1460, Unweighted Accuracy: 0.2406\n",
      "Weighted F1-Score: 0.1546, Unweighted F1-Score: 0.0931,\n",
      "Test Results: \n",
      "Weighted Accuracy: 0.1522, Unweighted Accuracy: 0.2634\n",
      "Weighted F1-Score: 0.1731, Unweighted F1-Score: 0.0998,\n",
      "--------------------------------------------------\n",
      "\n",
      "\n"
     ]
    },
    {
     "output_type": "stream",
     "name": "stderr",
     "text": [
      "100%|██████████| 188/188 [00:07<00:00, 25.01it/s]\n",
      "100%|██████████| 6/6 [00:00<00:00,  9.46it/s]\n",
      "100%|██████████| 6/6 [00:00<00:00,  9.24it/s]\n"
     ]
    },
    {
     "output_type": "stream",
     "name": "stdout",
     "text": [
      "\n",
      "\n",
      "--------------------------------------------------\n",
      "Epoch  11\n",
      "Training Loss: 0.0557, Validation Loss: 0.0143\n",
      "Validation Results: \n",
      "Weighted Accuracy: 0.1410, Unweighted Accuracy: 0.2259\n",
      "Weighted F1-Score: 0.1278, Unweighted F1-Score: 0.0781,\n",
      "Test Results: \n",
      "Weighted Accuracy: 0.1384, Unweighted Accuracy: 0.2594\n",
      "Weighted F1-Score: 0.1464, Unweighted F1-Score: 0.0809,\n",
      "--------------------------------------------------\n",
      "\n",
      "\n"
     ]
    },
    {
     "output_type": "stream",
     "name": "stderr",
     "text": [
      "100%|██████████| 188/188 [00:07<00:00, 24.78it/s]\n",
      "100%|██████████| 6/6 [00:00<00:00,  9.66it/s]\n",
      "100%|██████████| 6/6 [00:00<00:00,  9.64it/s]\n"
     ]
    },
    {
     "output_type": "stream",
     "name": "stdout",
     "text": [
      "\n",
      "\n",
      "--------------------------------------------------\n",
      "Epoch  12\n",
      "Training Loss: 0.0556, Validation Loss: 0.0143\n",
      "Validation Results: \n",
      "Weighted Accuracy: 0.1497, Unweighted Accuracy: 0.2420\n",
      "Weighted F1-Score: 0.1477, Unweighted F1-Score: 0.0896,\n",
      "Test Results: \n",
      "Weighted Accuracy: 0.1434, Unweighted Accuracy: 0.2634\n",
      "Weighted F1-Score: 0.1593, Unweighted F1-Score: 0.0895,\n",
      "--------------------------------------------------\n",
      "\n",
      "\n"
     ]
    },
    {
     "output_type": "stream",
     "name": "stderr",
     "text": [
      "100%|██████████| 188/188 [00:07<00:00, 24.74it/s]\n",
      "100%|██████████| 6/6 [00:00<00:00,  9.40it/s]\n",
      "100%|██████████| 6/6 [00:00<00:00,  9.30it/s]\n"
     ]
    },
    {
     "output_type": "stream",
     "name": "stdout",
     "text": [
      "Epoch 00013: reducing learning rate of group 0 to 1.0000e-06.\n",
      "\n",
      "\n",
      "--------------------------------------------------\n",
      "Epoch  13\n",
      "Training Loss: 0.0556, Validation Loss: 0.0143\n",
      "Validation Results: \n",
      "Weighted Accuracy: 0.1476, Unweighted Accuracy: 0.2420\n",
      "Weighted F1-Score: 0.1543, Unweighted F1-Score: 0.0931,\n",
      "Test Results: \n",
      "Weighted Accuracy: 0.1529, Unweighted Accuracy: 0.2701\n",
      "Weighted F1-Score: 0.1747, Unweighted F1-Score: 0.0999,\n",
      "--------------------------------------------------\n",
      "\n",
      "\n"
     ]
    },
    {
     "output_type": "stream",
     "name": "stderr",
     "text": [
      "100%|██████████| 188/188 [00:07<00:00, 25.05it/s]\n",
      "100%|██████████| 6/6 [00:00<00:00,  9.72it/s]\n",
      "100%|██████████| 6/6 [00:00<00:00,  9.41it/s]\n"
     ]
    },
    {
     "output_type": "stream",
     "name": "stdout",
     "text": [
      "\n",
      "\n",
      "--------------------------------------------------\n",
      "Epoch  14\n",
      "Training Loss: 0.0555, Validation Loss: 0.0143\n",
      "Validation Results: \n",
      "Weighted Accuracy: 0.1440, Unweighted Accuracy: 0.2353\n",
      "Weighted F1-Score: 0.1494, Unweighted F1-Score: 0.0902,\n",
      "Test Results: \n",
      "Weighted Accuracy: 0.1523, Unweighted Accuracy: 0.2714\n",
      "Weighted F1-Score: 0.1738, Unweighted F1-Score: 0.0990,\n",
      "--------------------------------------------------\n",
      "\n",
      "\n"
     ]
    },
    {
     "output_type": "stream",
     "name": "stderr",
     "text": [
      "100%|██████████| 188/188 [00:07<00:00, 24.97it/s]\n",
      "100%|██████████| 6/6 [00:00<00:00,  9.66it/s]\n",
      "100%|██████████| 6/6 [00:00<00:00,  9.29it/s]\n"
     ]
    },
    {
     "output_type": "stream",
     "name": "stdout",
     "text": [
      "\n",
      "\n",
      "--------------------------------------------------\n",
      "Epoch  15\n",
      "Training Loss: 0.0555, Validation Loss: 0.0143\n",
      "Validation Results: \n",
      "Weighted Accuracy: 0.1459, Unweighted Accuracy: 0.2380\n",
      "Weighted F1-Score: 0.1505, Unweighted F1-Score: 0.0909,\n",
      "Test Results: \n",
      "Weighted Accuracy: 0.1489, Unweighted Accuracy: 0.2674\n",
      "Weighted F1-Score: 0.1694, Unweighted F1-Score: 0.0962,\n",
      "--------------------------------------------------\n",
      "\n",
      "\n"
     ]
    },
    {
     "output_type": "stream",
     "name": "stderr",
     "text": [
      "100%|██████████| 188/188 [00:07<00:00, 24.93it/s]\n",
      "100%|██████████| 6/6 [00:00<00:00,  9.34it/s]\n",
      "100%|██████████| 6/6 [00:00<00:00,  9.27it/s]\n"
     ]
    },
    {
     "output_type": "stream",
     "name": "stdout",
     "text": [
      "\n",
      "\n",
      "--------------------------------------------------\n",
      "Epoch  16\n",
      "Training Loss: 0.0556, Validation Loss: 0.0143\n",
      "Validation Results: \n",
      "Weighted Accuracy: 0.1442, Unweighted Accuracy: 0.2353\n",
      "Weighted F1-Score: 0.1490, Unweighted F1-Score: 0.0900,\n",
      "Test Results: \n",
      "Weighted Accuracy: 0.1489, Unweighted Accuracy: 0.2674\n",
      "Weighted F1-Score: 0.1694, Unweighted F1-Score: 0.0962,\n",
      "--------------------------------------------------\n",
      "\n",
      "\n"
     ]
    },
    {
     "output_type": "stream",
     "name": "stderr",
     "text": [
      "100%|██████████| 188/188 [00:07<00:00, 25.21it/s]\n",
      "100%|██████████| 6/6 [00:00<00:00,  9.42it/s]\n",
      "100%|██████████| 6/6 [00:00<00:00,  9.45it/s]\n"
     ]
    },
    {
     "output_type": "stream",
     "name": "stdout",
     "text": [
      "\n",
      "\n",
      "--------------------------------------------------\n",
      "Epoch  17\n",
      "Training Loss: 0.0555, Validation Loss: 0.0143\n",
      "Validation Results: \n",
      "Weighted Accuracy: 0.1477, Unweighted Accuracy: 0.2406\n",
      "Weighted F1-Score: 0.1516, Unweighted F1-Score: 0.0916,\n",
      "Test Results: \n",
      "Weighted Accuracy: 0.1478, Unweighted Accuracy: 0.2660\n",
      "Weighted F1-Score: 0.1679, Unweighted F1-Score: 0.0952,\n",
      "--------------------------------------------------\n",
      "\n",
      "\n"
     ]
    },
    {
     "output_type": "stream",
     "name": "stderr",
     "text": [
      "100%|██████████| 188/188 [00:07<00:00, 25.00it/s]\n",
      "100%|██████████| 6/6 [00:00<00:00,  9.63it/s]\n",
      "100%|██████████| 6/6 [00:00<00:00,  9.66it/s]\n"
     ]
    },
    {
     "output_type": "stream",
     "name": "stdout",
     "text": [
      "\n",
      "\n",
      "--------------------------------------------------\n",
      "Epoch  18\n",
      "Training Loss: 0.0555, Validation Loss: 0.0143\n",
      "Validation Results: \n",
      "Weighted Accuracy: 0.1511, Unweighted Accuracy: 0.2460\n",
      "Weighted F1-Score: 0.1548, Unweighted F1-Score: 0.0935,\n",
      "Test Results: \n",
      "Weighted Accuracy: 0.1476, Unweighted Accuracy: 0.2660\n",
      "Weighted F1-Score: 0.1675, Unweighted F1-Score: 0.0949,\n",
      "--------------------------------------------------\n",
      "\n",
      "\n"
     ]
    },
    {
     "output_type": "stream",
     "name": "stderr",
     "text": [
      "100%|██████████| 188/188 [00:07<00:00, 25.16it/s]\n",
      "100%|██████████| 6/6 [00:00<00:00,  9.60it/s]\n",
      "100%|██████████| 6/6 [00:00<00:00,  9.51it/s]\n"
     ]
    },
    {
     "output_type": "stream",
     "name": "stdout",
     "text": [
      "Epoch 00019: reducing learning rate of group 0 to 1.0000e-07.\n",
      "\n",
      "\n",
      "--------------------------------------------------\n",
      "Epoch  19\n",
      "Training Loss: 0.0555, Validation Loss: 0.0143\n",
      "Validation Results: \n",
      "Weighted Accuracy: 0.1490, Unweighted Accuracy: 0.2420\n",
      "Weighted F1-Score: 0.1506, Unweighted F1-Score: 0.0912,\n",
      "Test Results: \n",
      "Weighted Accuracy: 0.1449, Unweighted Accuracy: 0.2620\n",
      "Weighted F1-Score: 0.1640, Unweighted F1-Score: 0.0927,\n",
      "--------------------------------------------------\n",
      "\n",
      "\n"
     ]
    },
    {
     "output_type": "stream",
     "name": "stderr",
     "text": [
      "100%|██████████| 188/188 [00:07<00:00, 25.00it/s]\n",
      "100%|██████████| 6/6 [00:00<00:00,  9.43it/s]\n",
      "100%|██████████| 6/6 [00:00<00:00,  9.28it/s]\n"
     ]
    },
    {
     "output_type": "stream",
     "name": "stdout",
     "text": [
      "\n",
      "\n",
      "--------------------------------------------------\n",
      "Epoch  20\n",
      "Training Loss: 0.0555, Validation Loss: 0.0143\n",
      "Validation Results: \n",
      "Weighted Accuracy: 0.1490, Unweighted Accuracy: 0.2420\n",
      "Weighted F1-Score: 0.1506, Unweighted F1-Score: 0.0912,\n",
      "Test Results: \n",
      "Weighted Accuracy: 0.1449, Unweighted Accuracy: 0.2620\n",
      "Weighted F1-Score: 0.1640, Unweighted F1-Score: 0.0927,\n",
      "--------------------------------------------------\n",
      "\n",
      "\n"
     ]
    },
    {
     "output_type": "stream",
     "name": "stderr",
     "text": [
      "100%|██████████| 188/188 [00:07<00:00, 24.94it/s]\n",
      "100%|██████████| 6/6 [00:00<00:00,  9.43it/s]\n",
      "100%|██████████| 6/6 [00:00<00:00,  9.29it/s]\n"
     ]
    },
    {
     "output_type": "stream",
     "name": "stdout",
     "text": [
      "\n",
      "\n",
      "--------------------------------------------------\n",
      "Epoch  21\n",
      "Training Loss: 0.0555, Validation Loss: 0.0143\n",
      "Validation Results: \n",
      "Weighted Accuracy: 0.1490, Unweighted Accuracy: 0.2420\n",
      "Weighted F1-Score: 0.1506, Unweighted F1-Score: 0.0912,\n",
      "Test Results: \n",
      "Weighted Accuracy: 0.1449, Unweighted Accuracy: 0.2620\n",
      "Weighted F1-Score: 0.1640, Unweighted F1-Score: 0.0927,\n",
      "--------------------------------------------------\n",
      "\n",
      "\n"
     ]
    },
    {
     "output_type": "stream",
     "name": "stderr",
     "text": [
      "100%|██████████| 188/188 [00:07<00:00, 25.05it/s]\n",
      "100%|██████████| 6/6 [00:00<00:00,  9.76it/s]\n",
      "100%|██████████| 6/6 [00:00<00:00,  9.58it/s]\n"
     ]
    },
    {
     "output_type": "stream",
     "name": "stdout",
     "text": [
      "\n",
      "\n",
      "--------------------------------------------------\n",
      "Epoch  22\n",
      "Training Loss: 0.0555, Validation Loss: 0.0143\n",
      "Validation Results: \n",
      "Weighted Accuracy: 0.1505, Unweighted Accuracy: 0.2447\n",
      "Weighted F1-Score: 0.1530, Unweighted F1-Score: 0.0925,\n",
      "Test Results: \n",
      "Weighted Accuracy: 0.1449, Unweighted Accuracy: 0.2620\n",
      "Weighted F1-Score: 0.1640, Unweighted F1-Score: 0.0927,\n",
      "--------------------------------------------------\n",
      "\n",
      "\n"
     ]
    },
    {
     "output_type": "stream",
     "name": "stderr",
     "text": [
      "100%|██████████| 188/188 [00:07<00:00, 24.91it/s]\n",
      "100%|██████████| 6/6 [00:00<00:00,  9.30it/s]\n",
      "100%|██████████| 6/6 [00:00<00:00,  9.31it/s]"
     ]
    },
    {
     "output_type": "stream",
     "name": "stdout",
     "text": [
      "\n",
      "\n",
      "--------------------------------------------------\n",
      "Epoch  23\n",
      "Training Loss: 0.0555, Validation Loss: 0.0143\n",
      "Validation Results: \n",
      "Weighted Accuracy: 0.1505, Unweighted Accuracy: 0.2447\n",
      "Weighted F1-Score: 0.1530, Unweighted F1-Score: 0.0925,\n",
      "Test Results: \n",
      "Weighted Accuracy: 0.1449, Unweighted Accuracy: 0.2620\n",
      "Weighted F1-Score: 0.1640, Unweighted F1-Score: 0.0927,\n",
      "--------------------------------------------------\n",
      "\n",
      "\n",
      "Early stopped. No improvement in validation loss for 10 consecutive epoches.\n"
     ]
    },
    {
     "output_type": "stream",
     "name": "stderr",
     "text": [
      "\n"
     ]
    }
   ]
  }
 ]
}
