{
 "nbformat": 4,
 "nbformat_minor": 0,
 "metadata": {
  "colab": {
   "provenance": [],
   "machine_shape": "hm",
   "mount_file_id": "1MJXpDef8sbKLld8rarbkVJlRFTajHBLP",
   "authorship_tag": "ABX9TyP9zxA6/dZypAcs0hKfMN3m"
  },
  "kernelspec": {
   "name": "python3",
   "display_name": "Python 3"
  },
  "language_info": {
   "name": "python"
  },
  "accelerator": "GPU",
  "gpuClass": "premium"
 },
 "cells": [
  {
   "cell_type": "markdown",
   "source": [
    "## Training"
   ],
   "metadata": {
    "id": "kKj8QnHKK9kx"
   }
  },
  {
   "cell_type": "code",
   "source": [
    "pip install torchnet"
   ],
   "metadata": {
    "id": "oHen2Mb7zfoX"
   },
   "execution_count": null,
   "outputs": []
  },
  {
   "cell_type": "code",
   "execution_count": null,
   "metadata": {
    "id": "2b26L0SRK6vK"
   },
   "outputs": [],
   "source": [
    "import csv \n",
    "import pickle\n",
    "import numpy as np\n",
    "from tqdm import tqdm\n",
    "import matplotlib.pyplot as plt\n",
    "\n",
    "import torch\n",
    "import torch.optim as optim\n",
    "import torch.utils.data as data\n",
    "from torch.utils.data import DataLoader\n",
    "from torchnet.dataset import TensorDataset\n",
    "from torch.optim.lr_scheduler import ReduceLROnPlateau"
   ]
  },
  {
   "cell_type": "code",
   "source": [
    "import sys\n",
    "sys.path.append('/content/drive/MyDrive/Colab Notebooks/SNLP Group Project') "
   ],
   "metadata": {
    "id": "_IMBlHDWK_FD"
   },
   "execution_count": null,
   "outputs": []
  },
  {
   "cell_type": "code",
   "source": [
    "from models_noSP import *"
   ],
   "metadata": {
    "id": "sMmCu9SDGRf9"
   },
   "execution_count": null,
   "outputs": []
  },
  {
   "cell_type": "markdown",
   "source": [
    "## Set Device"
   ],
   "metadata": {
    "id": "Hpblv7_3vte0"
   }
  },
  {
   "cell_type": "code",
   "source": [
    "# set device\n",
    "if torch.cuda.is_available():\n",
    "    device = torch.device(\"cuda\")\n",
    "    print(\"GPU is available.\")\n",
    "else:\n",
    "    device = torch.device(\"cpu\")\n",
    "    print(\"Using CPU.\")"
   ],
   "metadata": {
    "id": "2_Iu0bIqvsOC",
    "executionInfo": {
     "status": "ok",
     "timestamp": 1678315579717,
     "user_tz": 0,
     "elapsed": 6,
     "user": {
      "displayName": "Ryan Li",
      "userId": "13344582354412591551"
     }
    },
    "colab": {
     "base_uri": "https://localhost:8080/"
    },
    "outputId": "b0ddb1e7-3b03-4ecb-f0d1-b0926a861e0d"
   },
   "execution_count": null,
   "outputs": [
    {
     "output_type": "stream",
     "name": "stdout",
     "text": [
      "GPU is available.\n"
     ]
    }
   ]
  },
  {
   "cell_type": "markdown",
   "source": [
    "## Load Text Features"
   ],
   "metadata": {
    "id": "75dGpb-Sv42l"
   }
  },
  {
   "cell_type": "code",
   "source": [
    "label_path = sys.path[-1]+\"/Data/Labels/labels.npy\"\n",
    "text_path = sys.path[-1]+\"/Data/Text Features/text_features.pt\"\n",
    "audio_path = sys.path[-1]+\"/Data/Audio Features/audio_features.pt\""
   ],
   "metadata": {
    "id": "b8BI9V1Evyh3"
   },
   "execution_count": null,
   "outputs": []
  },
  {
   "cell_type": "code",
   "source": [
    "labels = np.load(label_path)\n",
    "print('Labels loaded!')"
   ],
   "metadata": {
    "id": "RmKkF8iw0XUc",
    "executionInfo": {
     "status": "ok",
     "timestamp": 1678315580127,
     "user_tz": 0,
     "elapsed": 414,
     "user": {
      "displayName": "Ryan Li",
      "userId": "13344582354412591551"
     }
    },
    "colab": {
     "base_uri": "https://localhost:8080/"
    },
    "outputId": "6724d669-fd4d-4c0c-bb6d-845cb5d53bd6"
   },
   "execution_count": null,
   "outputs": [
    {
     "output_type": "stream",
     "name": "stdout",
     "text": [
      "Labels loaded!\n"
     ]
    }
   ]
  },
  {
   "cell_type": "code",
   "source": [
    "text_features = torch.load(text_path, map_location=torch.device('cpu'))\n",
    "print('Text features loaded!')"
   ],
   "metadata": {
    "id": "eS09SGcA0THT",
    "executionInfo": {
     "status": "ok",
     "timestamp": 1678315616051,
     "user_tz": 0,
     "elapsed": 35925,
     "user": {
      "displayName": "Ryan Li",
      "userId": "13344582354412591551"
     }
    },
    "colab": {
     "base_uri": "https://localhost:8080/"
    },
    "outputId": "1f8eeec7-621a-42ba-b178-b3f7476126e1"
   },
   "execution_count": null,
   "outputs": [
    {
     "output_type": "stream",
     "name": "stdout",
     "text": [
      "Text features loaded!\n"
     ]
    }
   ]
  },
  {
   "cell_type": "code",
   "source": [
    "audio_features = torch.load(audio_path, map_location=torch.device('cpu'))\n",
    "print('Audio features loaded!')"
   ],
   "metadata": {
    "id": "Bs3I3uzn0Vd5",
    "executionInfo": {
     "status": "ok",
     "timestamp": 1678315713568,
     "user_tz": 0,
     "elapsed": 97521,
     "user": {
      "displayName": "Ryan Li",
      "userId": "13344582354412591551"
     }
    },
    "colab": {
     "base_uri": "https://localhost:8080/"
    },
    "outputId": "0adc3626-3a1c-4083-947c-e8c7369cfbd3"
   },
   "execution_count": null,
   "outputs": [
    {
     "output_type": "stream",
     "name": "stdout",
     "text": [
      "Audio features loaded!\n"
     ]
    }
   ]
  },
  {
   "cell_type": "markdown",
   "source": [
    "## Datasets and Loaders"
   ],
   "metadata": {
    "id": "hTPc4ASNxIQK"
   }
  },
  {
   "cell_type": "code",
   "source": [
    "def train_test_split(dataset, valid_ratio, test_ratio, shuffle=True):\n",
    "    test_size = int(test_ratio*len(dataset))\n",
    "    valid_size = int(valid_ratio*len(dataset))\n",
    "    train_size = len(dataset) - valid_size - test_size\n",
    "    if shuffle:\n",
    "        train_set, valid_set, test_set = data.random_split(dataset, [train_size, valid_size, test_size])\n",
    "    else:\n",
    "        train_idx = np.arange(train_size)\n",
    "        valid_idx = np.arange(train_size, train_size+valid_size)\n",
    "        test_idx = np.arange(train_size+valid_size, len(dataset))\n",
    "        train_set = TensorDataset([torch.utils.data.Subset(dataset, train_idx)])\n",
    "        valid_set = TensorDataset([torch.utils.data.Subset(dataset, valid_idx)])\n",
    "        test_set = TensorDataset([torch.utils.data.Subset(dataset, test_idx)])\n",
    "    return train_set, valid_set, test_set"
   ],
   "metadata": {
    "id": "8MrWgMWawcB7"
   },
   "execution_count": null,
   "outputs": []
  },
  {
   "cell_type": "code",
   "source": [
    "fold_ids = {}\n",
    "for i in range(1, 6):\n",
    "    fold_path = sys.path[-1]+\"/Data/Folds/fold\" + f\"0{i}_id.txt\"\n",
    "    ids = []\n",
    "    with open(fold_path, 'r') as f:\n",
    "        for row in csv.reader(f, delimiter=' '):\n",
    "            for item in row:\n",
    "                if item.isdigit():\n",
    "                    ids.append(int(item))\n",
    "    fold_ids[f\"fold0{i}\"] = ids\n",
    "print('Fold ids loaded!')"
   ],
   "metadata": {
    "id": "WEhTVkYZtROH",
    "executionInfo": {
     "status": "ok",
     "timestamp": 1678315715658,
     "user_tz": 0,
     "elapsed": 1514,
     "user": {
      "displayName": "Ryan Li",
      "userId": "13344582354412591551"
     }
    },
    "colab": {
     "base_uri": "https://localhost:8080/"
    },
    "outputId": "a5e23445-9aa3-48fb-af6d-108cc9cd327a"
   },
   "execution_count": null,
   "outputs": [
    {
     "output_type": "stream",
     "name": "stdout",
     "text": [
      "Fold ids loaded!\n"
     ]
    }
   ]
  },
  {
   "cell_type": "markdown",
   "source": [
    "## Training"
   ],
   "metadata": {
    "id": "MXWEfW3_3P46"
   }
  },
  {
   "cell_type": "code",
   "source": [
    "def save_model(model, name):\n",
    "    torch.save(model.state_dict(), name)\n",
    "\n",
    "def load_model(model, name):\n",
    "    weights = torch.load(name)\n",
    "    model.load_state_dict(weights)\n",
    "    return model"
   ],
   "metadata": {
    "id": "Cy5G7Uee8_4J"
   },
   "execution_count": null,
   "outputs": []
  },
  {
   "cell_type": "code",
   "source": [
    "from sklearn.metrics import f1_score, accuracy_score, confusion_matrix, classification_report\n",
    "\n",
    "def weighted_accuracy(list_y_true, list_y_pred):\n",
    "    assert (len(list_y_true) == len(list_y_pred))\n",
    "    y_true = np.array(list_y_true)\n",
    "    y_pred = np.array(list_y_pred)\n",
    "    uwa = accuracy_score(y_true=y_true, y_pred=y_pred)\n",
    "    return uwa\n",
    "\n",
    "def unweighted_accuracy(list_y_true, list_y_pred):\n",
    "    assert (len(list_y_true) == len(list_y_pred))\n",
    "    y_true = np.array(list_y_true)\n",
    "    y_pred = np.array(list_y_pred)\n",
    "    w = np.ones(y_true.shape[0])\n",
    "    for idx, i in enumerate(np.bincount(y_true)):\n",
    "        w[y_true == idx] = float(1 / i)\n",
    "    wa = accuracy_score(y_true=y_true, y_pred=y_pred, sample_weight=w)\n",
    "    return wa\n",
    "\n",
    "def weighted_f1(list_y_true, list_y_pred):\n",
    "    assert (len(list_y_true) == len(list_y_pred))\n",
    "    wf1 = f1_score(y_true=list_y_true, y_pred=list_y_pred, average='weighted')\n",
    "    return wf1\n",
    "\n",
    "def unweighted_f1(list_y_true, list_y_pred):\n",
    "    assert (len(list_y_true) == len(list_y_pred))\n",
    "    uwf1 = f1_score(y_true=list_y_true, y_pred=list_y_pred, average='macro')\n",
    "    return uwf1\n",
    "\n",
    "def evaluate_metrics(preds, labels):\n",
    "    labels = labels.cpu().numpy().tolist()\n",
    "    preds = torch.argmax(preds, dim=1).cpu().numpy().tolist()\n",
    "    wa = weighted_accuracy(labels, preds)\n",
    "    uwa = unweighted_accuracy(labels, preds)\n",
    "    wf1 = weighted_f1(labels, preds)\n",
    "    uwf1 = unweighted_f1(labels, preds)\n",
    "    cm = confusion_matrix(labels, preds)\n",
    "    return wa, uwa, wf1, uwf1, cm"
   ],
   "metadata": {
    "id": "uGGMEbAm5DSg"
   },
   "execution_count": null,
   "outputs": []
  },
  {
   "cell_type": "code",
   "source": [
    "def train_model(model, params, train_loader, valid_loader, test_loader, report_loss=True):\n",
    "\n",
    "    device = params['device']\n",
    "    n_epochs = params['n_epochs']\n",
    "    criterion = params['criterion']\n",
    "    optimizer = params['optimizer']\n",
    "    scheduler = params['scheduler']\n",
    "\n",
    "    stop = 0\n",
    "    best_valid_uwa = 0\n",
    "\n",
    "    valid_metrics = {}\n",
    "    test_metrics = {}\n",
    "    train_loss, valid_loss, test_loss = [], [], []\n",
    "    valid_wa, valid_uwa, valid_wf1, valid_uwf1, valid_cm = [], [], [], [], []\n",
    "    test_wa, test_uwa, test_wf1, test_uwf1, test_cm = [], [], [], [], []\n",
    "\n",
    "    for epoch in range(n_epochs):\n",
    "\n",
    "        model.train()\n",
    "        train_loss_i, batch, total = 0, 0, 0\n",
    "        for data in tqdm(train_loader):\n",
    "            x_text, x_audio, labels = data[0][0].to(device), data[0][1].to(device), data[0][2].to(device)\n",
    "            preds, _ = model(x_text, x_audio)\n",
    "            loss = criterion(preds, labels)\n",
    "            optimizer.zero_grad()\n",
    "            loss.backward()\n",
    "            optimizer.step()\n",
    "            train_loss_i += loss.item()\n",
    "            batch += 1\n",
    "            total += labels.shape[0]\n",
    "            # if report_loss and batch%50==0:\n",
    "            #     print(\"Batch: {}, Training Loss: {:.4f}\".format(batch, train_loss_i/total))\n",
    "        train_loss_i /= len(train_loader.dataset)\n",
    "\n",
    "        valid_loss_i = 0.0\n",
    "        valid_preds, valid_labels= [], []\n",
    "        model.eval()\n",
    "        with torch.no_grad():\n",
    "            for data in tqdm(valid_loader):\n",
    "                x_text, x_audio, labels = data[0][0].to(device), data[0][1].to(device), data[0][2].to(device)\n",
    "                preds, _ = model(x_text, x_audio)\n",
    "                loss = criterion(preds, labels)\n",
    "                valid_loss_i += loss.item()\n",
    "                valid_preds.append(preds)\n",
    "                valid_labels.append(labels)\n",
    "        valid_loss_i /= len(valid_loader.dataset)\n",
    "        valid_preds = torch.cat(valid_preds)\n",
    "        valid_labels = torch.cat(valid_labels)\n",
    "\n",
    "        valid_wa_i, valid_uwa_i, valid_wf1_i, valid_uwf1_i, valid_cm_i = evaluate_metrics(valid_preds, valid_labels)\n",
    "\n",
    "        test_loss_i = 0.0\n",
    "        test_preds, test_labels= [], []\n",
    "        model.eval()\n",
    "        with torch.no_grad():\n",
    "            for data in tqdm(test_loader):\n",
    "                x_text, x_audio, labels = data[0][0].to(device), data[0][1].to(device), data[0][2].to(device)\n",
    "                preds, _ = model(x_text, x_audio)\n",
    "                loss = criterion(preds, labels)\n",
    "                test_loss_i += loss.item()\n",
    "                test_preds.append(preds)\n",
    "                test_labels.append(labels)\n",
    "        test_loss_i /= len(test_loader.dataset)\n",
    "        test_preds = torch.cat(test_preds)\n",
    "        test_labels = torch.cat(test_labels)\n",
    "\n",
    "        test_wa_i, test_uwa_i, test_wf1_i, test_uwf1_i, test_cm_i = evaluate_metrics(test_preds, test_labels)\n",
    "\n",
    "        scheduler.step(valid_loss_i)  # decay learning rate by validation loss\n",
    "\n",
    "        if valid_uwa_i > best_valid_uwa:\n",
    "            save_model(model, sys.path[-1]+'/Models/'+params['model_name']+'_noSP.pt')\n",
    "            print(\"Saved model at epoch {} with validation unweighted accuracy of {:.2f}%\".format(epoch+1, 100*valid_uwa_i))\n",
    "            best_valid_uwa = valid_uwa_i\n",
    "\n",
    "        if report_loss:\n",
    "            print(\"\\n\")\n",
    "            print(\"-\" * 50)\n",
    "            print(\"Epoch \", epoch+1)\n",
    "            print(\"Training Loss: {:.4f}, Validation Loss: {:.4f}\".format(train_loss_i, valid_loss_i))\n",
    "            print('Validation Results: ')\n",
    "            print(\"Weighted Accuracy: {:.4f}, Unweighted Accuracy: {:.4f}\".format(valid_wa_i, valid_uwa_i))\n",
    "            print(\"Weighted F1-Score: {:.4f}, Unweighted F1-Score: {:.4f},\".format(valid_wf1_i, valid_uwf1_i))\n",
    "            print('Test Results: ')\n",
    "            print(\"Weighted Accuracy: {:.4f}, Unweighted Accuracy: {:.4f}\".format(test_wa_i, test_uwa_i))\n",
    "            print(\"Weighted F1-Score: {:.4f}, Unweighted F1-Score: {:.4f},\".format(test_wf1_i, test_uwf1_i))\n",
    "            print(\"-\" * 50)\n",
    "            print(\"\\n\")\n",
    "        \n",
    "        if len(valid_loss) > 0:  \n",
    "            if valid_loss_i < valid_loss[-1]:\n",
    "                stop = 0\n",
    "            else:\n",
    "                stop += 1\n",
    "                if stop >= 10:   # stop training when no improvement observed in 10 consecutive epoches\n",
    "                    print('Early stopped. No improvement in validation loss for 10 consecutive epoches.')\n",
    "                    break\n",
    "        \n",
    "        train_loss.append(train_loss_i)\n",
    "        valid_loss.append(valid_loss_i)\n",
    "        test_loss.append(test_loss_i)\n",
    "\n",
    "        valid_wa.append(valid_wa_i)\n",
    "        valid_uwa.append(valid_uwa_i)\n",
    "        valid_wf1.append(valid_wf1_i)\n",
    "        valid_uwf1.append(valid_uwf1_i)\n",
    "        valid_cm.append(valid_cm_i)\n",
    "\n",
    "        test_wa.append(test_wa_i)\n",
    "        test_uwa.append(test_uwa_i)\n",
    "        test_wf1.append(test_wf1_i)\n",
    "        test_uwf1.append(test_uwf1_i)\n",
    "        test_cm.append(test_cm_i)\n",
    "\n",
    "    valid_metrics['wa'] = valid_wa\n",
    "    valid_metrics['uwa'] = valid_uwa\n",
    "    valid_metrics['wf1'] = valid_wf1\n",
    "    valid_metrics['uwf1'] = valid_uwf1\n",
    "    valid_metrics['cm'] = valid_cm\n",
    "\n",
    "    test_metrics['wa'] = test_wa\n",
    "    test_metrics['uwa'] = test_uwa\n",
    "    test_metrics['wf1'] = test_wf1\n",
    "    test_metrics['uwf1'] = test_uwf1\n",
    "    test_metrics['cm'] = test_cm\n",
    "\n",
    "    return train_loss, valid_loss, test_loss, valid_metrics, test_metrics"
   ],
   "metadata": {
    "id": "GAs5o7Bc9Na-"
   },
   "execution_count": null,
   "outputs": []
  },
  {
   "cell_type": "markdown",
   "source": [
    "## Model Parameters"
   ],
   "metadata": {
    "id": "uEq9w0IAsNMY"
   }
  },
  {
   "cell_type": "code",
   "source": [
    "model_params = {'txt_embed_size': 1024,\n",
    "                'embed_size': 768,\n",
    "                'txt_H': 6,\n",
    "                'aud_H': 6,\n",
    "                'ta_H': 6,\n",
    "                'at_H': 6,\n",
    "                'txt_dropout': 0.1,\n",
    "                'aud_dropout': 0.1,\n",
    "                'ta_dropout': 0.1,\n",
    "                'at_dropout': 0.1,\n",
    "                'output_dim': 7}"
   ],
   "metadata": {
    "id": "D2IqivsHTYv6"
   },
   "execution_count": null,
   "outputs": []
  },
  {
   "cell_type": "markdown",
   "source": [
    "## Loop Training"
   ],
   "metadata": {
    "id": "kbFTKyUIEZo_"
   }
  },
  {
   "cell_type": "code",
   "source": [
    "for i in range(1,6):\n",
    "\n",
    "    ids = fold_ids[f'fold0{i}']      \n",
    "\n",
    "    dataset = TensorDataset([text_features[ids].float(), audio_features[ids].float(), torch.tensor(labels)[ids].long()])\n",
    "    train_set, valid_set, test_set = train_test_split(dataset, valid_ratio=0.1, test_ratio=0.1, shuffle=False)\n",
    "    train_loader = DataLoader(train_set, batch_size=32, shuffle=True)\n",
    "    valid_loader = DataLoader(valid_set, batch_size=128, shuffle=False)\n",
    "    test_loader = DataLoader(test_set, batch_size=128, shuffle=False)\n",
    "\n",
    "    model_sa = SSE_Self(model_params)\n",
    "    model_sa.to(device)\n",
    "    criterion_sa = nn.CrossEntropyLoss()\n",
    "    optimizer_sa = optim.Adam(model_sa.parameters(), lr=1e-4)\n",
    "    scheduler_sa = ReduceLROnPlateau(optimizer_sa, mode='min', patience=5, factor=0.1, verbose=True)\n",
    "    sa_params = {'n_epochs': 50,\n",
    "                 'criterion': criterion_sa,\n",
    "                 'optimizer': optimizer_sa,\n",
    "                 'scheduler': scheduler_sa,\n",
    "                 'model_name': f'model_sa_0{i}',\n",
    "                 'device': device}\n",
    "    train_loss_sa, valid_loss_sa, test_loss_sa, valid_metrics_sa, test_metrics_sa = train_model(model_sa, sa_params, train_loader, valid_loader, test_loader)\n",
    "    \n",
    "    with open(sys.path[-1]+f\"/Training Results noSP/train_loss_sa_0{i}.pkl\", 'wb') as f:\n",
    "        pickle.dump(train_loss_sa, f)\n",
    "    with open(sys.path[-1]+f\"/Training Results noSP/valid_loss_sa_0{i}.pkl\", 'wb') as f:\n",
    "        pickle.dump(valid_loss_sa, f)\n",
    "    with open(sys.path[-1]+f\"/Training Results noSP/test_loss_sa_0{i}.pkl\", 'wb') as f:\n",
    "        pickle.dump(test_loss_sa, f)\n",
    "    with open(sys.path[-1]+f\"/Training Results noSP/valid_metrics_sa_0{i}.pkl\", 'wb') as f:\n",
    "        pickle.dump(valid_metrics_sa, f)\n",
    "    with open(sys.path[-1]+f\"/Training Results noSP/test_metrics_sa_0{i}.pkl\", 'wb') as f:\n",
    "        pickle.dump(test_metrics_sa, f)\n",
    "\n",
    "    model_ca = SSE_Cross(model_params)\n",
    "    model_ca.to(device)\n",
    "    criterion_ca = nn.CrossEntropyLoss()\n",
    "    optimizer_ca = optim.Adam(model_ca.parameters(), lr=1e-4)\n",
    "    scheduler_ca = ReduceLROnPlateau(optimizer_ca, mode='min', patience=5, factor=0.1, verbose=True)\n",
    "    ca_params = {'n_epochs': 50,\n",
    "                'criterion': criterion_ca,\n",
    "                'optimizer': optimizer_ca,\n",
    "                'scheduler': scheduler_ca,\n",
    "                'model_name': f'model_ca_0{i}',\n",
    "                'device': device}\n",
    "    train_loss_ca, valid_loss_ca, test_loss_ca, valid_metrics_ca, test_metrics_ca = train_model(model_ca, ca_params, train_loader, valid_loader, test_loader)\n",
    "    \n",
    "    with open(sys.path[-1]+f\"/Training Results noSP/train_loss_ca_0{i}.pkl\", 'wb') as f:\n",
    "        pickle.dump(train_loss_ca, f)\n",
    "    with open(sys.path[-1]+f\"/Training Results noSP/valid_loss_ca_0{i}.pkl\", 'wb') as f:\n",
    "        pickle.dump(valid_loss_ca, f)\n",
    "    with open(sys.path[-1]+f\"/Training Results noSP/test_loss_ca_0{i}.pkl\", 'wb') as f:\n",
    "        pickle.dump(test_loss_ca, f)\n",
    "    with open(sys.path[-1]+f\"/Training Results noSP/valid_metrics_ca_0{i}.pkl\", 'wb') as f:\n",
    "        pickle.dump(valid_metrics_ca, f)\n",
    "    with open(sys.path[-1]+f\"/Training Results noSP/test_metrics_ca_0{i}.pkl\", 'wb') as f:\n",
    "        pickle.dump(test_metrics_ca, f)"
   ],
   "metadata": {
    "colab": {
     "base_uri": "https://localhost:8080/"
    },
    "id": "8s8RHhxeCvRZ",
    "executionInfo": {
     "status": "ok",
     "timestamp": 1678318861403,
     "user_tz": 0,
     "elapsed": 3144968,
     "user": {
      "displayName": "Ryan Li",
      "userId": "13344582354412591551"
     }
    },
    "outputId": "cd0e0419-9c92-4226-d2a2-5d5b842e31f3"
   },
   "execution_count": null,
   "outputs": [
    {
     "output_type": "stream",
     "name": "stderr",
     "text": [
      "100%|██████████| 188/188 [00:12<00:00, 15.01it/s]\n",
      "100%|██████████| 6/6 [00:00<00:00,  7.10it/s]\n",
      "100%|██████████| 6/6 [00:00<00:00,  7.22it/s]\n"
     ]
    },
    {
     "output_type": "stream",
     "name": "stdout",
     "text": [
      "Saved model at epoch 1 with validation unweighted accuracy of 35.16%\n",
      "\n",
      "\n",
      "--------------------------------------------------\n",
      "Epoch  1\n",
      "Training Loss: 0.0542, Validation Loss: 0.0127\n",
      "Validation Results: \n",
      "Weighted Accuracy: 0.2439, Unweighted Accuracy: 0.3516\n",
      "Weighted F1-Score: 0.3077, Unweighted F1-Score: 0.2207,\n",
      "Test Results: \n",
      "Weighted Accuracy: 0.2604, Unweighted Accuracy: 0.3583\n",
      "Weighted F1-Score: 0.3060, Unweighted F1-Score: 0.2313,\n",
      "--------------------------------------------------\n",
      "\n",
      "\n"
     ]
    },
    {
     "output_type": "stream",
     "name": "stderr",
     "text": [
      "100%|██████████| 188/188 [00:09<00:00, 19.78it/s]\n",
      "100%|██████████| 6/6 [00:00<00:00,  7.08it/s]\n",
      "100%|██████████| 6/6 [00:00<00:00,  7.13it/s]\n"
     ]
    },
    {
     "output_type": "stream",
     "name": "stdout",
     "text": [
      "Saved model at epoch 2 with validation unweighted accuracy of 42.51%\n",
      "\n",
      "\n",
      "--------------------------------------------------\n",
      "Epoch  2\n",
      "Training Loss: 0.0469, Validation Loss: 0.0117\n",
      "Validation Results: \n",
      "Weighted Accuracy: 0.3332, Unweighted Accuracy: 0.4251\n",
      "Weighted F1-Score: 0.4013, Unweighted F1-Score: 0.3149,\n",
      "Test Results: \n",
      "Weighted Accuracy: 0.3457, Unweighted Accuracy: 0.4439\n",
      "Weighted F1-Score: 0.4165, Unweighted F1-Score: 0.3277,\n",
      "--------------------------------------------------\n",
      "\n",
      "\n"
     ]
    },
    {
     "output_type": "stream",
     "name": "stderr",
     "text": [
      "100%|██████████| 188/188 [00:09<00:00, 19.95it/s]\n",
      "100%|██████████| 6/6 [00:00<00:00,  7.08it/s]\n",
      "100%|██████████| 6/6 [00:00<00:00,  6.99it/s]\n"
     ]
    },
    {
     "output_type": "stream",
     "name": "stdout",
     "text": [
      "Saved model at epoch 3 with validation unweighted accuracy of 44.92%\n",
      "\n",
      "\n",
      "--------------------------------------------------\n",
      "Epoch  3\n",
      "Training Loss: 0.0420, Validation Loss: 0.0112\n",
      "Validation Results: \n",
      "Weighted Accuracy: 0.3691, Unweighted Accuracy: 0.4492\n",
      "Weighted F1-Score: 0.4399, Unweighted F1-Score: 0.3763,\n",
      "Test Results: \n",
      "Weighted Accuracy: 0.3837, Unweighted Accuracy: 0.4706\n",
      "Weighted F1-Score: 0.4495, Unweighted F1-Score: 0.3851,\n",
      "--------------------------------------------------\n",
      "\n",
      "\n"
     ]
    },
    {
     "output_type": "stream",
     "name": "stderr",
     "text": [
      "100%|██████████| 188/188 [00:09<00:00, 19.59it/s]\n",
      "100%|██████████| 6/6 [00:00<00:00,  7.11it/s]\n",
      "100%|██████████| 6/6 [00:00<00:00,  6.94it/s]\n"
     ]
    },
    {
     "output_type": "stream",
     "name": "stdout",
     "text": [
      "Saved model at epoch 4 with validation unweighted accuracy of 47.33%\n",
      "\n",
      "\n",
      "--------------------------------------------------\n",
      "Epoch  4\n",
      "Training Loss: 0.0393, Validation Loss: 0.0107\n",
      "Validation Results: \n",
      "Weighted Accuracy: 0.3915, Unweighted Accuracy: 0.4733\n",
      "Weighted F1-Score: 0.4592, Unweighted F1-Score: 0.3863,\n",
      "Test Results: \n",
      "Weighted Accuracy: 0.4272, Unweighted Accuracy: 0.4933\n",
      "Weighted F1-Score: 0.4770, Unweighted F1-Score: 0.4322,\n",
      "--------------------------------------------------\n",
      "\n",
      "\n"
     ]
    },
    {
     "output_type": "stream",
     "name": "stderr",
     "text": [
      "100%|██████████| 188/188 [00:09<00:00, 19.75it/s]\n",
      "100%|██████████| 6/6 [00:00<00:00,  7.12it/s]\n",
      "100%|██████████| 6/6 [00:00<00:00,  7.14it/s]\n"
     ]
    },
    {
     "output_type": "stream",
     "name": "stdout",
     "text": [
      "Saved model at epoch 5 with validation unweighted accuracy of 49.33%\n",
      "\n",
      "\n",
      "--------------------------------------------------\n",
      "Epoch  5\n",
      "Training Loss: 0.0369, Validation Loss: 0.0108\n",
      "Validation Results: \n",
      "Weighted Accuracy: 0.4327, Unweighted Accuracy: 0.4933\n",
      "Weighted F1-Score: 0.4872, Unweighted F1-Score: 0.4339,\n",
      "Test Results: \n",
      "Weighted Accuracy: 0.4457, Unweighted Accuracy: 0.5120\n",
      "Weighted F1-Score: 0.5051, Unweighted F1-Score: 0.4602,\n",
      "--------------------------------------------------\n",
      "\n",
      "\n"
     ]
    },
    {
     "output_type": "stream",
     "name": "stderr",
     "text": [
      "100%|██████████| 188/188 [00:09<00:00, 19.67it/s]\n",
      "100%|██████████| 6/6 [00:00<00:00,  7.22it/s]\n",
      "100%|██████████| 6/6 [00:00<00:00,  6.98it/s]\n"
     ]
    },
    {
     "output_type": "stream",
     "name": "stdout",
     "text": [
      "\n",
      "\n",
      "--------------------------------------------------\n",
      "Epoch  6\n",
      "Training Loss: 0.0346, Validation Loss: 0.0112\n",
      "Validation Results: \n",
      "Weighted Accuracy: 0.4091, Unweighted Accuracy: 0.4706\n",
      "Weighted F1-Score: 0.4692, Unweighted F1-Score: 0.4132,\n",
      "Test Results: \n",
      "Weighted Accuracy: 0.4504, Unweighted Accuracy: 0.4947\n",
      "Weighted F1-Score: 0.4967, Unweighted F1-Score: 0.4642,\n",
      "--------------------------------------------------\n",
      "\n",
      "\n"
     ]
    },
    {
     "output_type": "stream",
     "name": "stderr",
     "text": [
      "100%|██████████| 188/188 [00:09<00:00, 19.84it/s]\n",
      "100%|██████████| 6/6 [00:00<00:00,  7.08it/s]\n",
      "100%|██████████| 6/6 [00:00<00:00,  7.08it/s]\n"
     ]
    },
    {
     "output_type": "stream",
     "name": "stdout",
     "text": [
      "\n",
      "\n",
      "--------------------------------------------------\n",
      "Epoch  7\n",
      "Training Loss: 0.0327, Validation Loss: 0.0113\n",
      "Validation Results: \n",
      "Weighted Accuracy: 0.4233, Unweighted Accuracy: 0.4666\n",
      "Weighted F1-Score: 0.4614, Unweighted F1-Score: 0.4180,\n",
      "Test Results: \n",
      "Weighted Accuracy: 0.4552, Unweighted Accuracy: 0.4933\n",
      "Weighted F1-Score: 0.4872, Unweighted F1-Score: 0.4626,\n",
      "--------------------------------------------------\n",
      "\n",
      "\n"
     ]
    },
    {
     "output_type": "stream",
     "name": "stderr",
     "text": [
      "100%|██████████| 188/188 [00:09<00:00, 19.74it/s]\n",
      "100%|██████████| 6/6 [00:00<00:00,  7.04it/s]\n",
      "100%|██████████| 6/6 [00:00<00:00,  7.11it/s]\n"
     ]
    },
    {
     "output_type": "stream",
     "name": "stdout",
     "text": [
      "\n",
      "\n",
      "--------------------------------------------------\n",
      "Epoch  8\n",
      "Training Loss: 0.0306, Validation Loss: 0.0117\n",
      "Validation Results: \n",
      "Weighted Accuracy: 0.3989, Unweighted Accuracy: 0.4706\n",
      "Weighted F1-Score: 0.4562, Unweighted F1-Score: 0.3994,\n",
      "Test Results: \n",
      "Weighted Accuracy: 0.4553, Unweighted Accuracy: 0.4786\n",
      "Weighted F1-Score: 0.4703, Unweighted F1-Score: 0.4605,\n",
      "--------------------------------------------------\n",
      "\n",
      "\n"
     ]
    },
    {
     "output_type": "stream",
     "name": "stderr",
     "text": [
      "100%|██████████| 188/188 [00:09<00:00, 19.68it/s]\n",
      "100%|██████████| 6/6 [00:00<00:00,  7.00it/s]\n",
      "100%|██████████| 6/6 [00:00<00:00,  6.94it/s]\n"
     ]
    },
    {
     "output_type": "stream",
     "name": "stdout",
     "text": [
      "\n",
      "\n",
      "--------------------------------------------------\n",
      "Epoch  9\n",
      "Training Loss: 0.0288, Validation Loss: 0.0119\n",
      "Validation Results: \n",
      "Weighted Accuracy: 0.4227, Unweighted Accuracy: 0.4813\n",
      "Weighted F1-Score: 0.4733, Unweighted F1-Score: 0.4256,\n",
      "Test Results: \n",
      "Weighted Accuracy: 0.4531, Unweighted Accuracy: 0.4906\n",
      "Weighted F1-Score: 0.4785, Unweighted F1-Score: 0.4536,\n",
      "--------------------------------------------------\n",
      "\n",
      "\n"
     ]
    },
    {
     "output_type": "stream",
     "name": "stderr",
     "text": [
      "100%|██████████| 188/188 [00:09<00:00, 19.75it/s]\n",
      "100%|██████████| 6/6 [00:00<00:00,  7.09it/s]\n",
      "100%|██████████| 6/6 [00:00<00:00,  7.13it/s]\n"
     ]
    },
    {
     "output_type": "stream",
     "name": "stdout",
     "text": [
      "Epoch 00010: reducing learning rate of group 0 to 1.0000e-05.\n",
      "\n",
      "\n",
      "--------------------------------------------------\n",
      "Epoch  10\n",
      "Training Loss: 0.0272, Validation Loss: 0.0120\n",
      "Validation Results: \n",
      "Weighted Accuracy: 0.3976, Unweighted Accuracy: 0.4532\n",
      "Weighted F1-Score: 0.4515, Unweighted F1-Score: 0.3991,\n",
      "Test Results: \n",
      "Weighted Accuracy: 0.4713, Unweighted Accuracy: 0.5027\n",
      "Weighted F1-Score: 0.5048, Unweighted F1-Score: 0.4844,\n",
      "--------------------------------------------------\n",
      "\n",
      "\n"
     ]
    },
    {
     "output_type": "stream",
     "name": "stderr",
     "text": [
      "100%|██████████| 188/188 [00:09<00:00, 19.48it/s]\n",
      "100%|██████████| 6/6 [00:00<00:00,  7.13it/s]\n",
      "100%|██████████| 6/6 [00:00<00:00,  7.15it/s]\n"
     ]
    },
    {
     "output_type": "stream",
     "name": "stdout",
     "text": [
      "\n",
      "\n",
      "--------------------------------------------------\n",
      "Epoch  11\n",
      "Training Loss: 0.0231, Validation Loss: 0.0116\n",
      "Validation Results: \n",
      "Weighted Accuracy: 0.4215, Unweighted Accuracy: 0.4906\n",
      "Weighted F1-Score: 0.4877, Unweighted F1-Score: 0.4263,\n",
      "Test Results: \n",
      "Weighted Accuracy: 0.5084, Unweighted Accuracy: 0.5334\n",
      "Weighted F1-Score: 0.5311, Unweighted F1-Score: 0.5219,\n",
      "--------------------------------------------------\n",
      "\n",
      "\n"
     ]
    },
    {
     "output_type": "stream",
     "name": "stderr",
     "text": [
      "100%|██████████| 188/188 [00:09<00:00, 19.68it/s]\n",
      "100%|██████████| 6/6 [00:00<00:00,  7.12it/s]\n",
      "100%|██████████| 6/6 [00:00<00:00,  7.11it/s]\n"
     ]
    },
    {
     "output_type": "stream",
     "name": "stdout",
     "text": [
      "\n",
      "\n",
      "--------------------------------------------------\n",
      "Epoch  12\n",
      "Training Loss: 0.0223, Validation Loss: 0.0116\n",
      "Validation Results: \n",
      "Weighted Accuracy: 0.4341, Unweighted Accuracy: 0.4866\n",
      "Weighted F1-Score: 0.4850, Unweighted F1-Score: 0.4401,\n",
      "Test Results: \n",
      "Weighted Accuracy: 0.5063, Unweighted Accuracy: 0.5294\n",
      "Weighted F1-Score: 0.5285, Unweighted F1-Score: 0.5207,\n",
      "--------------------------------------------------\n",
      "\n",
      "\n"
     ]
    },
    {
     "output_type": "stream",
     "name": "stderr",
     "text": [
      "100%|██████████| 188/188 [00:09<00:00, 19.47it/s]\n",
      "100%|██████████| 6/6 [00:00<00:00,  7.02it/s]\n",
      "100%|██████████| 6/6 [00:00<00:00,  7.14it/s]\n"
     ]
    },
    {
     "output_type": "stream",
     "name": "stdout",
     "text": [
      "Saved model at epoch 13 with validation unweighted accuracy of 50.13%\n",
      "\n",
      "\n",
      "--------------------------------------------------\n",
      "Epoch  13\n",
      "Training Loss: 0.0218, Validation Loss: 0.0117\n",
      "Validation Results: \n",
      "Weighted Accuracy: 0.4674, Unweighted Accuracy: 0.5013\n",
      "Weighted F1-Score: 0.5014, Unweighted F1-Score: 0.4657,\n",
      "Test Results: \n",
      "Weighted Accuracy: 0.5084, Unweighted Accuracy: 0.5267\n",
      "Weighted F1-Score: 0.5256, Unweighted F1-Score: 0.5185,\n",
      "--------------------------------------------------\n",
      "\n",
      "\n"
     ]
    },
    {
     "output_type": "stream",
     "name": "stderr",
     "text": [
      "100%|██████████| 188/188 [00:09<00:00, 19.88it/s]\n",
      "100%|██████████| 6/6 [00:00<00:00,  7.09it/s]\n",
      "100%|██████████| 6/6 [00:00<00:00,  7.19it/s]\n"
     ]
    },
    {
     "output_type": "stream",
     "name": "stdout",
     "text": [
      "\n",
      "\n",
      "--------------------------------------------------\n",
      "Epoch  14\n",
      "Training Loss: 0.0214, Validation Loss: 0.0118\n",
      "Validation Results: \n",
      "Weighted Accuracy: 0.4489, Unweighted Accuracy: 0.4813\n",
      "Weighted F1-Score: 0.4788, Unweighted F1-Score: 0.4467,\n",
      "Test Results: \n",
      "Weighted Accuracy: 0.4790, Unweighted Accuracy: 0.5147\n",
      "Weighted F1-Score: 0.5137, Unweighted F1-Score: 0.4943,\n",
      "--------------------------------------------------\n",
      "\n",
      "\n"
     ]
    },
    {
     "output_type": "stream",
     "name": "stderr",
     "text": [
      "100%|██████████| 188/188 [00:09<00:00, 19.51it/s]\n",
      "100%|██████████| 6/6 [00:00<00:00,  7.02it/s]\n",
      "100%|██████████| 6/6 [00:00<00:00,  6.99it/s]\n"
     ]
    },
    {
     "output_type": "stream",
     "name": "stdout",
     "text": [
      "\n",
      "\n",
      "--------------------------------------------------\n",
      "Epoch  15\n",
      "Training Loss: 0.0210, Validation Loss: 0.0119\n",
      "Validation Results: \n",
      "Weighted Accuracy: 0.4587, Unweighted Accuracy: 0.4893\n",
      "Weighted F1-Score: 0.4872, Unweighted F1-Score: 0.4544,\n",
      "Test Results: \n",
      "Weighted Accuracy: 0.4846, Unweighted Accuracy: 0.5174\n",
      "Weighted F1-Score: 0.5170, Unweighted F1-Score: 0.4975,\n",
      "--------------------------------------------------\n",
      "\n",
      "\n"
     ]
    },
    {
     "output_type": "stream",
     "name": "stderr",
     "text": [
      "100%|██████████| 188/188 [00:09<00:00, 19.55it/s]\n",
      "100%|██████████| 6/6 [00:00<00:00,  7.12it/s]\n",
      "100%|██████████| 6/6 [00:00<00:00,  7.01it/s]\n"
     ]
    },
    {
     "output_type": "stream",
     "name": "stdout",
     "text": [
      "Epoch 00016: reducing learning rate of group 0 to 1.0000e-06.\n",
      "\n",
      "\n",
      "--------------------------------------------------\n",
      "Epoch  16\n",
      "Training Loss: 0.0207, Validation Loss: 0.0120\n",
      "Validation Results: \n",
      "Weighted Accuracy: 0.4542, Unweighted Accuracy: 0.4866\n",
      "Weighted F1-Score: 0.4844, Unweighted F1-Score: 0.4573,\n",
      "Test Results: \n",
      "Weighted Accuracy: 0.4808, Unweighted Accuracy: 0.5174\n",
      "Weighted F1-Score: 0.5157, Unweighted F1-Score: 0.4950,\n",
      "--------------------------------------------------\n",
      "\n",
      "\n"
     ]
    },
    {
     "output_type": "stream",
     "name": "stderr",
     "text": [
      "100%|██████████| 188/188 [00:09<00:00, 19.47it/s]\n",
      "100%|██████████| 6/6 [00:00<00:00,  7.05it/s]\n",
      "100%|██████████| 6/6 [00:00<00:00,  6.88it/s]\n"
     ]
    },
    {
     "output_type": "stream",
     "name": "stdout",
     "text": [
      "\n",
      "\n",
      "--------------------------------------------------\n",
      "Epoch  17\n",
      "Training Loss: 0.0202, Validation Loss: 0.0120\n",
      "Validation Results: \n",
      "Weighted Accuracy: 0.4564, Unweighted Accuracy: 0.4906\n",
      "Weighted F1-Score: 0.4890, Unweighted F1-Score: 0.4578,\n",
      "Test Results: \n",
      "Weighted Accuracy: 0.4815, Unweighted Accuracy: 0.5160\n",
      "Weighted F1-Score: 0.5148, Unweighted F1-Score: 0.4958,\n",
      "--------------------------------------------------\n",
      "\n",
      "\n"
     ]
    },
    {
     "output_type": "stream",
     "name": "stderr",
     "text": [
      "100%|██████████| 188/188 [00:09<00:00, 19.75it/s]\n",
      "100%|██████████| 6/6 [00:00<00:00,  7.02it/s]\n",
      "100%|██████████| 6/6 [00:00<00:00,  7.08it/s]\n"
     ]
    },
    {
     "output_type": "stream",
     "name": "stdout",
     "text": [
      "\n",
      "\n",
      "--------------------------------------------------\n",
      "Epoch  18\n",
      "Training Loss: 0.0201, Validation Loss: 0.0120\n",
      "Validation Results: \n",
      "Weighted Accuracy: 0.4588, Unweighted Accuracy: 0.4920\n",
      "Weighted F1-Score: 0.4908, Unweighted F1-Score: 0.4604,\n",
      "Test Results: \n",
      "Weighted Accuracy: 0.4815, Unweighted Accuracy: 0.5160\n",
      "Weighted F1-Score: 0.5147, Unweighted F1-Score: 0.4959,\n",
      "--------------------------------------------------\n",
      "\n",
      "\n"
     ]
    },
    {
     "output_type": "stream",
     "name": "stderr",
     "text": [
      "100%|██████████| 188/188 [00:09<00:00, 19.65it/s]\n",
      "100%|██████████| 6/6 [00:00<00:00,  7.00it/s]\n",
      "100%|██████████| 6/6 [00:00<00:00,  7.12it/s]\n"
     ]
    },
    {
     "output_type": "stream",
     "name": "stdout",
     "text": [
      "\n",
      "\n",
      "--------------------------------------------------\n",
      "Epoch  19\n",
      "Training Loss: 0.0200, Validation Loss: 0.0120\n",
      "Validation Results: \n",
      "Weighted Accuracy: 0.4588, Unweighted Accuracy: 0.4920\n",
      "Weighted F1-Score: 0.4907, Unweighted F1-Score: 0.4604,\n",
      "Test Results: \n",
      "Weighted Accuracy: 0.4828, Unweighted Accuracy: 0.5174\n",
      "Weighted F1-Score: 0.5160, Unweighted F1-Score: 0.4966,\n",
      "--------------------------------------------------\n",
      "\n",
      "\n"
     ]
    },
    {
     "output_type": "stream",
     "name": "stderr",
     "text": [
      "100%|██████████| 188/188 [00:09<00:00, 19.48it/s]\n",
      "100%|██████████| 6/6 [00:00<00:00,  7.02it/s]\n",
      "100%|██████████| 6/6 [00:00<00:00,  6.98it/s]\n"
     ]
    },
    {
     "output_type": "stream",
     "name": "stdout",
     "text": [
      "\n",
      "\n",
      "--------------------------------------------------\n",
      "Epoch  20\n",
      "Training Loss: 0.0200, Validation Loss: 0.0120\n",
      "Validation Results: \n",
      "Weighted Accuracy: 0.4588, Unweighted Accuracy: 0.4920\n",
      "Weighted F1-Score: 0.4908, Unweighted F1-Score: 0.4605,\n",
      "Test Results: \n",
      "Weighted Accuracy: 0.4818, Unweighted Accuracy: 0.5160\n",
      "Weighted F1-Score: 0.5148, Unweighted F1-Score: 0.4954,\n",
      "--------------------------------------------------\n",
      "\n",
      "\n"
     ]
    },
    {
     "output_type": "stream",
     "name": "stderr",
     "text": [
      "100%|██████████| 188/188 [00:09<00:00, 19.33it/s]\n",
      "100%|██████████| 6/6 [00:00<00:00,  7.21it/s]\n",
      "100%|██████████| 6/6 [00:00<00:00,  7.16it/s]\n"
     ]
    },
    {
     "output_type": "stream",
     "name": "stdout",
     "text": [
      "\n",
      "\n",
      "--------------------------------------------------\n",
      "Epoch  21\n",
      "Training Loss: 0.0200, Validation Loss: 0.0120\n",
      "Validation Results: \n",
      "Weighted Accuracy: 0.4588, Unweighted Accuracy: 0.4920\n",
      "Weighted F1-Score: 0.4908, Unweighted F1-Score: 0.4607,\n",
      "Test Results: \n",
      "Weighted Accuracy: 0.5037, Unweighted Accuracy: 0.5214\n",
      "Weighted F1-Score: 0.5204, Unweighted F1-Score: 0.5154,\n",
      "--------------------------------------------------\n",
      "\n",
      "\n"
     ]
    },
    {
     "output_type": "stream",
     "name": "stderr",
     "text": [
      "100%|██████████| 188/188 [00:09<00:00, 19.54it/s]\n",
      "100%|██████████| 6/6 [00:00<00:00,  7.16it/s]\n",
      "100%|██████████| 6/6 [00:00<00:00,  7.16it/s]\n"
     ]
    },
    {
     "output_type": "stream",
     "name": "stdout",
     "text": [
      "Epoch 00022: reducing learning rate of group 0 to 1.0000e-07.\n",
      "\n",
      "\n",
      "--------------------------------------------------\n",
      "Epoch  22\n",
      "Training Loss: 0.0199, Validation Loss: 0.0120\n",
      "Validation Results: \n",
      "Weighted Accuracy: 0.4588, Unweighted Accuracy: 0.4920\n",
      "Weighted F1-Score: 0.4907, Unweighted F1-Score: 0.4602,\n",
      "Test Results: \n",
      "Weighted Accuracy: 0.4996, Unweighted Accuracy: 0.5174\n",
      "Weighted F1-Score: 0.5163, Unweighted F1-Score: 0.5109,\n",
      "--------------------------------------------------\n",
      "\n",
      "\n"
     ]
    },
    {
     "output_type": "stream",
     "name": "stderr",
     "text": [
      "100%|██████████| 188/188 [00:09<00:00, 19.66it/s]\n",
      "100%|██████████| 6/6 [00:00<00:00,  7.07it/s]\n",
      "100%|██████████| 6/6 [00:00<00:00,  7.14it/s]\n"
     ]
    },
    {
     "output_type": "stream",
     "name": "stdout",
     "text": [
      "\n",
      "\n",
      "--------------------------------------------------\n",
      "Epoch  23\n",
      "Training Loss: 0.0199, Validation Loss: 0.0120\n",
      "Validation Results: \n",
      "Weighted Accuracy: 0.4588, Unweighted Accuracy: 0.4920\n",
      "Weighted F1-Score: 0.4907, Unweighted F1-Score: 0.4602,\n",
      "Test Results: \n",
      "Weighted Accuracy: 0.4996, Unweighted Accuracy: 0.5174\n",
      "Weighted F1-Score: 0.5163, Unweighted F1-Score: 0.5109,\n",
      "--------------------------------------------------\n",
      "\n",
      "\n"
     ]
    },
    {
     "output_type": "stream",
     "name": "stderr",
     "text": [
      "100%|██████████| 188/188 [00:09<00:00, 19.59it/s]\n",
      "100%|██████████| 6/6 [00:00<00:00,  7.22it/s]\n",
      "100%|██████████| 6/6 [00:00<00:00,  6.90it/s]\n"
     ]
    },
    {
     "output_type": "stream",
     "name": "stdout",
     "text": [
      "\n",
      "\n",
      "--------------------------------------------------\n",
      "Epoch  24\n",
      "Training Loss: 0.0198, Validation Loss: 0.0120\n",
      "Validation Results: \n",
      "Weighted Accuracy: 0.4588, Unweighted Accuracy: 0.4920\n",
      "Weighted F1-Score: 0.4907, Unweighted F1-Score: 0.4603,\n",
      "Test Results: \n",
      "Weighted Accuracy: 0.4996, Unweighted Accuracy: 0.5174\n",
      "Weighted F1-Score: 0.5162, Unweighted F1-Score: 0.5107,\n",
      "--------------------------------------------------\n",
      "\n",
      "\n"
     ]
    },
    {
     "output_type": "stream",
     "name": "stderr",
     "text": [
      "100%|██████████| 188/188 [00:09<00:00, 19.45it/s]\n",
      "100%|██████████| 6/6 [00:00<00:00,  7.14it/s]\n",
      "100%|██████████| 6/6 [00:00<00:00,  7.06it/s]\n"
     ]
    },
    {
     "output_type": "stream",
     "name": "stdout",
     "text": [
      "\n",
      "\n",
      "--------------------------------------------------\n",
      "Epoch  25\n",
      "Training Loss: 0.0199, Validation Loss: 0.0120\n",
      "Validation Results: \n",
      "Weighted Accuracy: 0.4588, Unweighted Accuracy: 0.4920\n",
      "Weighted F1-Score: 0.4907, Unweighted F1-Score: 0.4602,\n",
      "Test Results: \n",
      "Weighted Accuracy: 0.4996, Unweighted Accuracy: 0.5174\n",
      "Weighted F1-Score: 0.5162, Unweighted F1-Score: 0.5107,\n",
      "--------------------------------------------------\n",
      "\n",
      "\n"
     ]
    },
    {
     "output_type": "stream",
     "name": "stderr",
     "text": [
      "100%|██████████| 188/188 [00:09<00:00, 19.84it/s]\n",
      "100%|██████████| 6/6 [00:00<00:00,  7.04it/s]\n",
      "100%|██████████| 6/6 [00:00<00:00,  6.94it/s]\n"
     ]
    },
    {
     "output_type": "stream",
     "name": "stdout",
     "text": [
      "\n",
      "\n",
      "--------------------------------------------------\n",
      "Epoch  26\n",
      "Training Loss: 0.0199, Validation Loss: 0.0120\n",
      "Validation Results: \n",
      "Weighted Accuracy: 0.4588, Unweighted Accuracy: 0.4920\n",
      "Weighted F1-Score: 0.4907, Unweighted F1-Score: 0.4603,\n",
      "Test Results: \n",
      "Weighted Accuracy: 0.4996, Unweighted Accuracy: 0.5174\n",
      "Weighted F1-Score: 0.5162, Unweighted F1-Score: 0.5107,\n",
      "--------------------------------------------------\n",
      "\n",
      "\n"
     ]
    },
    {
     "output_type": "stream",
     "name": "stderr",
     "text": [
      "100%|██████████| 188/188 [00:09<00:00, 19.51it/s]\n",
      "100%|██████████| 6/6 [00:00<00:00,  7.00it/s]\n",
      "100%|██████████| 6/6 [00:00<00:00,  6.85it/s]\n"
     ]
    },
    {
     "output_type": "stream",
     "name": "stdout",
     "text": [
      "\n",
      "\n",
      "--------------------------------------------------\n",
      "Epoch  27\n",
      "Training Loss: 0.0199, Validation Loss: 0.0120\n",
      "Validation Results: \n",
      "Weighted Accuracy: 0.4588, Unweighted Accuracy: 0.4920\n",
      "Weighted F1-Score: 0.4907, Unweighted F1-Score: 0.4603,\n",
      "Test Results: \n",
      "Weighted Accuracy: 0.4996, Unweighted Accuracy: 0.5174\n",
      "Weighted F1-Score: 0.5162, Unweighted F1-Score: 0.5107,\n",
      "--------------------------------------------------\n",
      "\n",
      "\n",
      "Early stopped. No improvement in validation loss for 10 consecutive epoches.\n"
     ]
    },
    {
     "output_type": "stream",
     "name": "stderr",
     "text": [
      "100%|██████████| 188/188 [00:09<00:00, 20.71it/s]\n",
      "100%|██████████| 6/6 [00:00<00:00,  7.22it/s]\n",
      "100%|██████████| 6/6 [00:00<00:00,  7.07it/s]\n"
     ]
    },
    {
     "output_type": "stream",
     "name": "stdout",
     "text": [
      "Saved model at epoch 1 with validation unweighted accuracy of 31.82%\n",
      "\n",
      "\n",
      "--------------------------------------------------\n",
      "Epoch  1\n",
      "Training Loss: 0.0549, Validation Loss: 0.0133\n",
      "Validation Results: \n",
      "Weighted Accuracy: 0.2150, Unweighted Accuracy: 0.3182\n",
      "Weighted F1-Score: 0.2607, Unweighted F1-Score: 0.1886,\n",
      "Test Results: \n",
      "Weighted Accuracy: 0.1949, Unweighted Accuracy: 0.2981\n",
      "Weighted F1-Score: 0.2218, Unweighted F1-Score: 0.1610,\n",
      "--------------------------------------------------\n",
      "\n",
      "\n"
     ]
    },
    {
     "output_type": "stream",
     "name": "stderr",
     "text": [
      "100%|██████████| 188/188 [00:09<00:00, 20.67it/s]\n",
      "100%|██████████| 6/6 [00:00<00:00,  7.38it/s]\n",
      "100%|██████████| 6/6 [00:00<00:00,  7.09it/s]\n"
     ]
    },
    {
     "output_type": "stream",
     "name": "stdout",
     "text": [
      "Saved model at epoch 2 with validation unweighted accuracy of 39.57%\n",
      "\n",
      "\n",
      "--------------------------------------------------\n",
      "Epoch  2\n",
      "Training Loss: 0.0475, Validation Loss: 0.0118\n",
      "Validation Results: \n",
      "Weighted Accuracy: 0.3154, Unweighted Accuracy: 0.3957\n",
      "Weighted F1-Score: 0.3569, Unweighted F1-Score: 0.2807,\n",
      "Test Results: \n",
      "Weighted Accuracy: 0.3072, Unweighted Accuracy: 0.4091\n",
      "Weighted F1-Score: 0.3718, Unweighted F1-Score: 0.2860,\n",
      "--------------------------------------------------\n",
      "\n",
      "\n"
     ]
    },
    {
     "output_type": "stream",
     "name": "stderr",
     "text": [
      "100%|██████████| 188/188 [00:09<00:00, 20.82it/s]\n",
      "100%|██████████| 6/6 [00:00<00:00,  6.83it/s]\n",
      "100%|██████████| 6/6 [00:00<00:00,  7.22it/s]\n"
     ]
    },
    {
     "output_type": "stream",
     "name": "stdout",
     "text": [
      "Saved model at epoch 3 with validation unweighted accuracy of 43.58%\n",
      "\n",
      "\n",
      "--------------------------------------------------\n",
      "Epoch  3\n",
      "Training Loss: 0.0431, Validation Loss: 0.0111\n",
      "Validation Results: \n",
      "Weighted Accuracy: 0.3659, Unweighted Accuracy: 0.4358\n",
      "Weighted F1-Score: 0.4148, Unweighted F1-Score: 0.3532,\n",
      "Test Results: \n",
      "Weighted Accuracy: 0.3687, Unweighted Accuracy: 0.4439\n",
      "Weighted F1-Score: 0.4227, Unweighted F1-Score: 0.3656,\n",
      "--------------------------------------------------\n",
      "\n",
      "\n"
     ]
    },
    {
     "output_type": "stream",
     "name": "stderr",
     "text": [
      "100%|██████████| 188/188 [00:09<00:00, 20.48it/s]\n",
      "100%|██████████| 6/6 [00:00<00:00,  7.37it/s]\n",
      "100%|██████████| 6/6 [00:00<00:00,  7.23it/s]\n"
     ]
    },
    {
     "output_type": "stream",
     "name": "stdout",
     "text": [
      "Saved model at epoch 4 with validation unweighted accuracy of 46.12%\n",
      "\n",
      "\n",
      "--------------------------------------------------\n",
      "Epoch  4\n",
      "Training Loss: 0.0403, Validation Loss: 0.0108\n",
      "Validation Results: \n",
      "Weighted Accuracy: 0.4023, Unweighted Accuracy: 0.4612\n",
      "Weighted F1-Score: 0.4519, Unweighted F1-Score: 0.3904,\n",
      "Test Results: \n",
      "Weighted Accuracy: 0.4168, Unweighted Accuracy: 0.4759\n",
      "Weighted F1-Score: 0.4676, Unweighted F1-Score: 0.4257,\n",
      "--------------------------------------------------\n",
      "\n",
      "\n"
     ]
    },
    {
     "output_type": "stream",
     "name": "stderr",
     "text": [
      "100%|██████████| 188/188 [00:09<00:00, 20.52it/s]\n",
      "100%|██████████| 6/6 [00:00<00:00,  7.32it/s]\n",
      "100%|██████████| 6/6 [00:00<00:00,  7.18it/s]\n"
     ]
    },
    {
     "output_type": "stream",
     "name": "stdout",
     "text": [
      "Saved model at epoch 5 with validation unweighted accuracy of 47.33%\n",
      "\n",
      "\n",
      "--------------------------------------------------\n",
      "Epoch  5\n",
      "Training Loss: 0.0381, Validation Loss: 0.0108\n",
      "Validation Results: \n",
      "Weighted Accuracy: 0.3883, Unweighted Accuracy: 0.4733\n",
      "Weighted F1-Score: 0.4579, Unweighted F1-Score: 0.3839,\n",
      "Test Results: \n",
      "Weighted Accuracy: 0.4157, Unweighted Accuracy: 0.4693\n",
      "Weighted F1-Score: 0.4464, Unweighted F1-Score: 0.4112,\n",
      "--------------------------------------------------\n",
      "\n",
      "\n"
     ]
    },
    {
     "output_type": "stream",
     "name": "stderr",
     "text": [
      "100%|██████████| 188/188 [00:09<00:00, 20.62it/s]\n",
      "100%|██████████| 6/6 [00:00<00:00,  7.26it/s]\n",
      "100%|██████████| 6/6 [00:00<00:00,  7.25it/s]\n"
     ]
    },
    {
     "output_type": "stream",
     "name": "stdout",
     "text": [
      "\n",
      "\n",
      "--------------------------------------------------\n",
      "Epoch  6\n",
      "Training Loss: 0.0362, Validation Loss: 0.0114\n",
      "Validation Results: \n",
      "Weighted Accuracy: 0.3913, Unweighted Accuracy: 0.4064\n",
      "Weighted F1-Score: 0.3837, Unweighted F1-Score: 0.3542,\n",
      "Test Results: \n",
      "Weighted Accuracy: 0.4332, Unweighted Accuracy: 0.4639\n",
      "Weighted F1-Score: 0.4426, Unweighted F1-Score: 0.4176,\n",
      "--------------------------------------------------\n",
      "\n",
      "\n"
     ]
    },
    {
     "output_type": "stream",
     "name": "stderr",
     "text": [
      "100%|██████████| 188/188 [00:09<00:00, 20.43it/s]\n",
      "100%|██████████| 6/6 [00:00<00:00,  7.48it/s]\n",
      "100%|██████████| 6/6 [00:00<00:00,  7.37it/s]\n"
     ]
    },
    {
     "output_type": "stream",
     "name": "stdout",
     "text": [
      "Saved model at epoch 7 with validation unweighted accuracy of 48.13%\n",
      "\n",
      "\n",
      "--------------------------------------------------\n",
      "Epoch  7\n",
      "Training Loss: 0.0343, Validation Loss: 0.0105\n",
      "Validation Results: \n",
      "Weighted Accuracy: 0.4202, Unweighted Accuracy: 0.4813\n",
      "Weighted F1-Score: 0.4687, Unweighted F1-Score: 0.4207,\n",
      "Test Results: \n",
      "Weighted Accuracy: 0.4488, Unweighted Accuracy: 0.5067\n",
      "Weighted F1-Score: 0.4973, Unweighted F1-Score: 0.4578,\n",
      "--------------------------------------------------\n",
      "\n",
      "\n"
     ]
    },
    {
     "output_type": "stream",
     "name": "stderr",
     "text": [
      "100%|██████████| 188/188 [00:09<00:00, 20.59it/s]\n",
      "100%|██████████| 6/6 [00:00<00:00,  7.32it/s]\n",
      "100%|██████████| 6/6 [00:00<00:00,  7.10it/s]\n"
     ]
    },
    {
     "output_type": "stream",
     "name": "stdout",
     "text": [
      "\n",
      "\n",
      "--------------------------------------------------\n",
      "Epoch  8\n",
      "Training Loss: 0.0325, Validation Loss: 0.0114\n",
      "Validation Results: \n",
      "Weighted Accuracy: 0.4309, Unweighted Accuracy: 0.4586\n",
      "Weighted F1-Score: 0.4280, Unweighted F1-Score: 0.3998,\n",
      "Test Results: \n",
      "Weighted Accuracy: 0.4150, Unweighted Accuracy: 0.4733\n",
      "Weighted F1-Score: 0.4434, Unweighted F1-Score: 0.4115,\n",
      "--------------------------------------------------\n",
      "\n",
      "\n"
     ]
    },
    {
     "output_type": "stream",
     "name": "stderr",
     "text": [
      "100%|██████████| 188/188 [00:09<00:00, 20.58it/s]\n",
      "100%|██████████| 6/6 [00:00<00:00,  7.18it/s]\n",
      "100%|██████████| 6/6 [00:00<00:00,  7.06it/s]\n"
     ]
    },
    {
     "output_type": "stream",
     "name": "stdout",
     "text": [
      "\n",
      "\n",
      "--------------------------------------------------\n",
      "Epoch  9\n",
      "Training Loss: 0.0312, Validation Loss: 0.0110\n",
      "Validation Results: \n",
      "Weighted Accuracy: 0.4344, Unweighted Accuracy: 0.4733\n",
      "Weighted F1-Score: 0.4638, Unweighted F1-Score: 0.4292,\n",
      "Test Results: \n",
      "Weighted Accuracy: 0.4567, Unweighted Accuracy: 0.4906\n",
      "Weighted F1-Score: 0.4873, Unweighted F1-Score: 0.4597,\n",
      "--------------------------------------------------\n",
      "\n",
      "\n"
     ]
    },
    {
     "output_type": "stream",
     "name": "stderr",
     "text": [
      "100%|██████████| 188/188 [00:09<00:00, 20.25it/s]\n",
      "100%|██████████| 6/6 [00:00<00:00,  7.24it/s]\n",
      "100%|██████████| 6/6 [00:00<00:00,  7.19it/s]\n"
     ]
    },
    {
     "output_type": "stream",
     "name": "stdout",
     "text": [
      "\n",
      "\n",
      "--------------------------------------------------\n",
      "Epoch  10\n",
      "Training Loss: 0.0290, Validation Loss: 0.0112\n",
      "Validation Results: \n",
      "Weighted Accuracy: 0.4274, Unweighted Accuracy: 0.4666\n",
      "Weighted F1-Score: 0.4638, Unweighted F1-Score: 0.4303,\n",
      "Test Results: \n",
      "Weighted Accuracy: 0.4377, Unweighted Accuracy: 0.4960\n",
      "Weighted F1-Score: 0.4883, Unweighted F1-Score: 0.4532,\n",
      "--------------------------------------------------\n",
      "\n",
      "\n"
     ]
    },
    {
     "output_type": "stream",
     "name": "stderr",
     "text": [
      "100%|██████████| 188/188 [00:09<00:00, 20.61it/s]\n",
      "100%|██████████| 6/6 [00:00<00:00,  7.36it/s]\n",
      "100%|██████████| 6/6 [00:00<00:00,  7.15it/s]\n"
     ]
    },
    {
     "output_type": "stream",
     "name": "stdout",
     "text": [
      "\n",
      "\n",
      "--------------------------------------------------\n",
      "Epoch  11\n",
      "Training Loss: 0.0279, Validation Loss: 0.0113\n",
      "Validation Results: \n",
      "Weighted Accuracy: 0.4340, Unweighted Accuracy: 0.4666\n",
      "Weighted F1-Score: 0.4663, Unweighted F1-Score: 0.4237,\n",
      "Test Results: \n",
      "Weighted Accuracy: 0.4777, Unweighted Accuracy: 0.5000\n",
      "Weighted F1-Score: 0.4999, Unweighted F1-Score: 0.4800,\n",
      "--------------------------------------------------\n",
      "\n",
      "\n"
     ]
    },
    {
     "output_type": "stream",
     "name": "stderr",
     "text": [
      "100%|██████████| 188/188 [00:09<00:00, 20.60it/s]\n",
      "100%|██████████| 6/6 [00:00<00:00,  7.35it/s]\n",
      "100%|██████████| 6/6 [00:00<00:00,  7.29it/s]\n"
     ]
    },
    {
     "output_type": "stream",
     "name": "stdout",
     "text": [
      "\n",
      "\n",
      "--------------------------------------------------\n",
      "Epoch  12\n",
      "Training Loss: 0.0260, Validation Loss: 0.0121\n",
      "Validation Results: \n",
      "Weighted Accuracy: 0.4317, Unweighted Accuracy: 0.4599\n",
      "Weighted F1-Score: 0.4617, Unweighted F1-Score: 0.4274,\n",
      "Test Results: \n",
      "Weighted Accuracy: 0.4326, Unweighted Accuracy: 0.4826\n",
      "Weighted F1-Score: 0.4790, Unweighted F1-Score: 0.4403,\n",
      "--------------------------------------------------\n",
      "\n",
      "\n"
     ]
    },
    {
     "output_type": "stream",
     "name": "stderr",
     "text": [
      "100%|██████████| 188/188 [00:09<00:00, 20.45it/s]\n",
      "100%|██████████| 6/6 [00:00<00:00,  7.26it/s]\n",
      "100%|██████████| 6/6 [00:00<00:00,  7.10it/s]\n"
     ]
    },
    {
     "output_type": "stream",
     "name": "stdout",
     "text": [
      "Epoch 00013: reducing learning rate of group 0 to 1.0000e-05.\n",
      "\n",
      "\n",
      "--------------------------------------------------\n",
      "Epoch  13\n",
      "Training Loss: 0.0242, Validation Loss: 0.0122\n",
      "Validation Results: \n",
      "Weighted Accuracy: 0.4187, Unweighted Accuracy: 0.4733\n",
      "Weighted F1-Score: 0.4719, Unweighted F1-Score: 0.4199,\n",
      "Test Results: \n",
      "Weighted Accuracy: 0.4616, Unweighted Accuracy: 0.5080\n",
      "Weighted F1-Score: 0.5064, Unweighted F1-Score: 0.4747,\n",
      "--------------------------------------------------\n",
      "\n",
      "\n"
     ]
    },
    {
     "output_type": "stream",
     "name": "stderr",
     "text": [
      "100%|██████████| 188/188 [00:09<00:00, 20.45it/s]\n",
      "100%|██████████| 6/6 [00:00<00:00,  7.21it/s]\n",
      "100%|██████████| 6/6 [00:00<00:00,  7.29it/s]\n"
     ]
    },
    {
     "output_type": "stream",
     "name": "stdout",
     "text": [
      "\n",
      "\n",
      "--------------------------------------------------\n",
      "Epoch  14\n",
      "Training Loss: 0.0203, Validation Loss: 0.0122\n",
      "Validation Results: \n",
      "Weighted Accuracy: 0.4376, Unweighted Accuracy: 0.4786\n",
      "Weighted F1-Score: 0.4795, Unweighted F1-Score: 0.4349,\n",
      "Test Results: \n",
      "Weighted Accuracy: 0.4561, Unweighted Accuracy: 0.5080\n",
      "Weighted F1-Score: 0.5065, Unweighted F1-Score: 0.4703,\n",
      "--------------------------------------------------\n",
      "\n",
      "\n"
     ]
    },
    {
     "output_type": "stream",
     "name": "stderr",
     "text": [
      "100%|██████████| 188/188 [00:09<00:00, 20.61it/s]\n",
      "100%|██████████| 6/6 [00:00<00:00,  7.24it/s]\n",
      "100%|██████████| 6/6 [00:00<00:00,  7.13it/s]\n"
     ]
    },
    {
     "output_type": "stream",
     "name": "stdout",
     "text": [
      "\n",
      "\n",
      "--------------------------------------------------\n",
      "Epoch  15\n",
      "Training Loss: 0.0196, Validation Loss: 0.0123\n",
      "Validation Results: \n",
      "Weighted Accuracy: 0.4273, Unweighted Accuracy: 0.4733\n",
      "Weighted F1-Score: 0.4728, Unweighted F1-Score: 0.4262,\n",
      "Test Results: \n",
      "Weighted Accuracy: 0.4642, Unweighted Accuracy: 0.5147\n",
      "Weighted F1-Score: 0.5129, Unweighted F1-Score: 0.4765,\n",
      "--------------------------------------------------\n",
      "\n",
      "\n"
     ]
    },
    {
     "output_type": "stream",
     "name": "stderr",
     "text": [
      "100%|██████████| 188/188 [00:09<00:00, 20.63it/s]\n",
      "100%|██████████| 6/6 [00:00<00:00,  7.14it/s]\n",
      "100%|██████████| 6/6 [00:00<00:00,  7.29it/s]\n"
     ]
    },
    {
     "output_type": "stream",
     "name": "stdout",
     "text": [
      "\n",
      "\n",
      "--------------------------------------------------\n",
      "Epoch  16\n",
      "Training Loss: 0.0193, Validation Loss: 0.0123\n",
      "Validation Results: \n",
      "Weighted Accuracy: 0.4333, Unweighted Accuracy: 0.4759\n",
      "Weighted F1-Score: 0.4761, Unweighted F1-Score: 0.4324,\n",
      "Test Results: \n",
      "Weighted Accuracy: 0.4560, Unweighted Accuracy: 0.5067\n",
      "Weighted F1-Score: 0.5042, Unweighted F1-Score: 0.4676,\n",
      "--------------------------------------------------\n",
      "\n",
      "\n"
     ]
    },
    {
     "output_type": "stream",
     "name": "stderr",
     "text": [
      "100%|██████████| 188/188 [00:09<00:00, 20.71it/s]\n",
      "100%|██████████| 6/6 [00:00<00:00,  7.15it/s]\n",
      "100%|██████████| 6/6 [00:00<00:00,  7.05it/s]\n"
     ]
    },
    {
     "output_type": "stream",
     "name": "stdout",
     "text": [
      "\n",
      "\n",
      "--------------------------------------------------\n",
      "Epoch  17\n",
      "Training Loss: 0.0189, Validation Loss: 0.0126\n",
      "Validation Results: \n",
      "Weighted Accuracy: 0.4032, Unweighted Accuracy: 0.4639\n",
      "Weighted F1-Score: 0.4630, Unweighted F1-Score: 0.4029,\n",
      "Test Results: \n",
      "Weighted Accuracy: 0.4586, Unweighted Accuracy: 0.5053\n",
      "Weighted F1-Score: 0.5038, Unweighted F1-Score: 0.4697,\n",
      "--------------------------------------------------\n",
      "\n",
      "\n"
     ]
    },
    {
     "output_type": "stream",
     "name": "stderr",
     "text": [
      "100%|██████████| 188/188 [00:09<00:00, 20.33it/s]\n",
      "100%|██████████| 6/6 [00:00<00:00,  7.23it/s]\n",
      "100%|██████████| 6/6 [00:00<00:00,  7.09it/s]\n"
     ]
    },
    {
     "output_type": "stream",
     "name": "stdout",
     "text": [
      "\n",
      "\n",
      "--------------------------------------------------\n",
      "Epoch  18\n",
      "Training Loss: 0.0186, Validation Loss: 0.0127\n",
      "Validation Results: \n",
      "Weighted Accuracy: 0.4352, Unweighted Accuracy: 0.4719\n",
      "Weighted F1-Score: 0.4733, Unweighted F1-Score: 0.4320,\n",
      "Test Results: \n",
      "Weighted Accuracy: 0.4585, Unweighted Accuracy: 0.5107\n",
      "Weighted F1-Score: 0.5089, Unweighted F1-Score: 0.4728,\n",
      "--------------------------------------------------\n",
      "\n",
      "\n"
     ]
    },
    {
     "output_type": "stream",
     "name": "stderr",
     "text": [
      "100%|██████████| 188/188 [00:09<00:00, 20.40it/s]\n",
      "100%|██████████| 6/6 [00:00<00:00,  7.15it/s]\n",
      "100%|██████████| 6/6 [00:00<00:00,  7.33it/s]\n"
     ]
    },
    {
     "output_type": "stream",
     "name": "stdout",
     "text": [
      "Epoch 00019: reducing learning rate of group 0 to 1.0000e-06.\n",
      "\n",
      "\n",
      "--------------------------------------------------\n",
      "Epoch  19\n",
      "Training Loss: 0.0183, Validation Loss: 0.0128\n",
      "Validation Results: \n",
      "Weighted Accuracy: 0.4343, Unweighted Accuracy: 0.4773\n",
      "Weighted F1-Score: 0.4783, Unweighted F1-Score: 0.4335,\n",
      "Test Results: \n",
      "Weighted Accuracy: 0.4601, Unweighted Accuracy: 0.5094\n",
      "Weighted F1-Score: 0.5080, Unweighted F1-Score: 0.4734,\n",
      "--------------------------------------------------\n",
      "\n",
      "\n",
      "Early stopped. No improvement in validation loss for 10 consecutive epoches.\n"
     ]
    },
    {
     "output_type": "stream",
     "name": "stderr",
     "text": [
      "100%|██████████| 188/188 [00:10<00:00, 18.36it/s]\n",
      "100%|██████████| 6/6 [00:00<00:00,  7.08it/s]\n",
      "100%|██████████| 6/6 [00:00<00:00,  6.87it/s]\n"
     ]
    },
    {
     "output_type": "stream",
     "name": "stdout",
     "text": [
      "Saved model at epoch 1 with validation unweighted accuracy of 36.63%\n",
      "\n",
      "\n",
      "--------------------------------------------------\n",
      "Epoch  1\n",
      "Training Loss: 0.0542, Validation Loss: 0.0126\n",
      "Validation Results: \n",
      "Weighted Accuracy: 0.2447, Unweighted Accuracy: 0.3663\n",
      "Weighted F1-Score: 0.3092, Unweighted F1-Score: 0.2241,\n",
      "Test Results: \n",
      "Weighted Accuracy: 0.2640, Unweighted Accuracy: 0.3636\n",
      "Weighted F1-Score: 0.3076, Unweighted F1-Score: 0.2311,\n",
      "--------------------------------------------------\n",
      "\n",
      "\n"
     ]
    },
    {
     "output_type": "stream",
     "name": "stderr",
     "text": [
      "100%|██████████| 188/188 [00:09<00:00, 19.47it/s]\n",
      "100%|██████████| 6/6 [00:00<00:00,  7.16it/s]\n",
      "100%|██████████| 6/6 [00:00<00:00,  6.92it/s]\n"
     ]
    },
    {
     "output_type": "stream",
     "name": "stdout",
     "text": [
      "Saved model at epoch 2 with validation unweighted accuracy of 45.45%\n",
      "\n",
      "\n",
      "--------------------------------------------------\n",
      "Epoch  2\n",
      "Training Loss: 0.0465, Validation Loss: 0.0115\n",
      "Validation Results: \n",
      "Weighted Accuracy: 0.3467, Unweighted Accuracy: 0.4545\n",
      "Weighted F1-Score: 0.4240, Unweighted F1-Score: 0.3259,\n",
      "Test Results: \n",
      "Weighted Accuracy: 0.3444, Unweighted Accuracy: 0.4492\n",
      "Weighted F1-Score: 0.4173, Unweighted F1-Score: 0.3269,\n",
      "--------------------------------------------------\n",
      "\n",
      "\n"
     ]
    },
    {
     "output_type": "stream",
     "name": "stderr",
     "text": [
      "100%|██████████| 188/188 [00:09<00:00, 19.57it/s]\n",
      "100%|██████████| 6/6 [00:00<00:00,  7.31it/s]\n",
      "100%|██████████| 6/6 [00:00<00:00,  7.16it/s]\n"
     ]
    },
    {
     "output_type": "stream",
     "name": "stdout",
     "text": [
      "Saved model at epoch 3 with validation unweighted accuracy of 49.33%\n",
      "\n",
      "\n",
      "--------------------------------------------------\n",
      "Epoch  3\n",
      "Training Loss: 0.0420, Validation Loss: 0.0109\n",
      "Validation Results: \n",
      "Weighted Accuracy: 0.3807, Unweighted Accuracy: 0.4933\n",
      "Weighted F1-Score: 0.4779, Unweighted F1-Score: 0.3842,\n",
      "Test Results: \n",
      "Weighted Accuracy: 0.3734, Unweighted Accuracy: 0.4652\n",
      "Weighted F1-Score: 0.4413, Unweighted F1-Score: 0.3755,\n",
      "--------------------------------------------------\n",
      "\n",
      "\n"
     ]
    },
    {
     "output_type": "stream",
     "name": "stderr",
     "text": [
      "100%|██████████| 188/188 [00:09<00:00, 19.48it/s]\n",
      "100%|██████████| 6/6 [00:00<00:00,  7.08it/s]\n",
      "100%|██████████| 6/6 [00:00<00:00,  7.23it/s]\n"
     ]
    },
    {
     "output_type": "stream",
     "name": "stdout",
     "text": [
      "Saved model at epoch 4 with validation unweighted accuracy of 49.47%\n",
      "\n",
      "\n",
      "--------------------------------------------------\n",
      "Epoch  4\n",
      "Training Loss: 0.0391, Validation Loss: 0.0107\n",
      "Validation Results: \n",
      "Weighted Accuracy: 0.3925, Unweighted Accuracy: 0.4947\n",
      "Weighted F1-Score: 0.4811, Unweighted F1-Score: 0.3932,\n",
      "Test Results: \n",
      "Weighted Accuracy: 0.4066, Unweighted Accuracy: 0.4666\n",
      "Weighted F1-Score: 0.4524, Unweighted F1-Score: 0.4107,\n",
      "--------------------------------------------------\n",
      "\n",
      "\n"
     ]
    },
    {
     "output_type": "stream",
     "name": "stderr",
     "text": [
      "100%|██████████| 188/188 [00:09<00:00, 19.59it/s]\n",
      "100%|██████████| 6/6 [00:00<00:00,  7.20it/s]\n",
      "100%|██████████| 6/6 [00:00<00:00,  7.19it/s]\n"
     ]
    },
    {
     "output_type": "stream",
     "name": "stdout",
     "text": [
      "Saved model at epoch 5 with validation unweighted accuracy of 50.67%\n",
      "\n",
      "\n",
      "--------------------------------------------------\n",
      "Epoch  5\n",
      "Training Loss: 0.0368, Validation Loss: 0.0109\n",
      "Validation Results: \n",
      "Weighted Accuracy: 0.4200, Unweighted Accuracy: 0.5067\n",
      "Weighted F1-Score: 0.5010, Unweighted F1-Score: 0.4167,\n",
      "Test Results: \n",
      "Weighted Accuracy: 0.4593, Unweighted Accuracy: 0.4666\n",
      "Weighted F1-Score: 0.4582, Unweighted F1-Score: 0.4512,\n",
      "--------------------------------------------------\n",
      "\n",
      "\n"
     ]
    },
    {
     "output_type": "stream",
     "name": "stderr",
     "text": [
      "100%|██████████| 188/188 [00:09<00:00, 19.62it/s]\n",
      "100%|██████████| 6/6 [00:00<00:00,  7.09it/s]\n",
      "100%|██████████| 6/6 [00:00<00:00,  7.07it/s]\n"
     ]
    },
    {
     "output_type": "stream",
     "name": "stdout",
     "text": [
      "\n",
      "\n",
      "--------------------------------------------------\n",
      "Epoch  6\n",
      "Training Loss: 0.0350, Validation Loss: 0.0104\n",
      "Validation Results: \n",
      "Weighted Accuracy: 0.4163, Unweighted Accuracy: 0.5067\n",
      "Weighted F1-Score: 0.4986, Unweighted F1-Score: 0.4234,\n",
      "Test Results: \n",
      "Weighted Accuracy: 0.4316, Unweighted Accuracy: 0.4799\n",
      "Weighted F1-Score: 0.4780, Unweighted F1-Score: 0.4442,\n",
      "--------------------------------------------------\n",
      "\n",
      "\n"
     ]
    },
    {
     "output_type": "stream",
     "name": "stderr",
     "text": [
      "100%|██████████| 188/188 [00:09<00:00, 19.71it/s]\n",
      "100%|██████████| 6/6 [00:00<00:00,  7.27it/s]\n",
      "100%|██████████| 6/6 [00:00<00:00,  7.21it/s]\n"
     ]
    },
    {
     "output_type": "stream",
     "name": "stdout",
     "text": [
      "\n",
      "\n",
      "--------------------------------------------------\n",
      "Epoch  7\n",
      "Training Loss: 0.0325, Validation Loss: 0.0109\n",
      "Validation Results: \n",
      "Weighted Accuracy: 0.4168, Unweighted Accuracy: 0.5000\n",
      "Weighted F1-Score: 0.4910, Unweighted F1-Score: 0.4080,\n",
      "Test Results: \n",
      "Weighted Accuracy: 0.4452, Unweighted Accuracy: 0.4799\n",
      "Weighted F1-Score: 0.4730, Unweighted F1-Score: 0.4499,\n",
      "--------------------------------------------------\n",
      "\n",
      "\n"
     ]
    },
    {
     "output_type": "stream",
     "name": "stderr",
     "text": [
      "100%|██████████| 188/188 [00:09<00:00, 19.58it/s]\n",
      "100%|██████████| 6/6 [00:00<00:00,  7.23it/s]\n",
      "100%|██████████| 6/6 [00:00<00:00,  7.05it/s]\n"
     ]
    },
    {
     "output_type": "stream",
     "name": "stdout",
     "text": [
      "Saved model at epoch 8 with validation unweighted accuracy of 51.07%\n",
      "\n",
      "\n",
      "--------------------------------------------------\n",
      "Epoch  8\n",
      "Training Loss: 0.0310, Validation Loss: 0.0110\n",
      "Validation Results: \n",
      "Weighted Accuracy: 0.4108, Unweighted Accuracy: 0.5107\n",
      "Weighted F1-Score: 0.5006, Unweighted F1-Score: 0.4168,\n",
      "Test Results: \n",
      "Weighted Accuracy: 0.4382, Unweighted Accuracy: 0.4906\n",
      "Weighted F1-Score: 0.4796, Unweighted F1-Score: 0.4540,\n",
      "--------------------------------------------------\n",
      "\n",
      "\n"
     ]
    },
    {
     "output_type": "stream",
     "name": "stderr",
     "text": [
      "100%|██████████| 188/188 [00:09<00:00, 19.59it/s]\n",
      "100%|██████████| 6/6 [00:00<00:00,  7.03it/s]\n",
      "100%|██████████| 6/6 [00:00<00:00,  7.06it/s]\n"
     ]
    },
    {
     "output_type": "stream",
     "name": "stdout",
     "text": [
      "\n",
      "\n",
      "--------------------------------------------------\n",
      "Epoch  9\n",
      "Training Loss: 0.0295, Validation Loss: 0.0117\n",
      "Validation Results: \n",
      "Weighted Accuracy: 0.4184, Unweighted Accuracy: 0.4987\n",
      "Weighted F1-Score: 0.4960, Unweighted F1-Score: 0.4120,\n",
      "Test Results: \n",
      "Weighted Accuracy: 0.4282, Unweighted Accuracy: 0.4799\n",
      "Weighted F1-Score: 0.4789, Unweighted F1-Score: 0.4410,\n",
      "--------------------------------------------------\n",
      "\n",
      "\n"
     ]
    },
    {
     "output_type": "stream",
     "name": "stderr",
     "text": [
      "100%|██████████| 188/188 [00:09<00:00, 19.64it/s]\n",
      "100%|██████████| 6/6 [00:00<00:00,  7.16it/s]\n",
      "100%|██████████| 6/6 [00:00<00:00,  7.10it/s]\n"
     ]
    },
    {
     "output_type": "stream",
     "name": "stdout",
     "text": [
      "\n",
      "\n",
      "--------------------------------------------------\n",
      "Epoch  10\n",
      "Training Loss: 0.0275, Validation Loss: 0.0114\n",
      "Validation Results: \n",
      "Weighted Accuracy: 0.4346, Unweighted Accuracy: 0.5067\n",
      "Weighted F1-Score: 0.5034, Unweighted F1-Score: 0.4461,\n",
      "Test Results: \n",
      "Weighted Accuracy: 0.4704, Unweighted Accuracy: 0.4973\n",
      "Weighted F1-Score: 0.5000, Unweighted F1-Score: 0.4807,\n",
      "--------------------------------------------------\n",
      "\n",
      "\n"
     ]
    },
    {
     "output_type": "stream",
     "name": "stderr",
     "text": [
      "100%|██████████| 188/188 [00:09<00:00, 19.56it/s]\n",
      "100%|██████████| 6/6 [00:00<00:00,  7.14it/s]\n",
      "100%|██████████| 6/6 [00:00<00:00,  7.14it/s]\n"
     ]
    },
    {
     "output_type": "stream",
     "name": "stdout",
     "text": [
      "Saved model at epoch 11 with validation unweighted accuracy of 52.67%\n",
      "\n",
      "\n",
      "--------------------------------------------------\n",
      "Epoch  11\n",
      "Training Loss: 0.0259, Validation Loss: 0.0119\n",
      "Validation Results: \n",
      "Weighted Accuracy: 0.4572, Unweighted Accuracy: 0.5267\n",
      "Weighted F1-Score: 0.5223, Unweighted F1-Score: 0.4627,\n",
      "Test Results: \n",
      "Weighted Accuracy: 0.4514, Unweighted Accuracy: 0.5080\n",
      "Weighted F1-Score: 0.5008, Unweighted F1-Score: 0.4667,\n",
      "--------------------------------------------------\n",
      "\n",
      "\n"
     ]
    },
    {
     "output_type": "stream",
     "name": "stderr",
     "text": [
      "100%|██████████| 188/188 [00:09<00:00, 19.49it/s]\n",
      "100%|██████████| 6/6 [00:00<00:00,  6.98it/s]\n",
      "100%|██████████| 6/6 [00:00<00:00,  6.90it/s]\n"
     ]
    },
    {
     "output_type": "stream",
     "name": "stdout",
     "text": [
      "Epoch 00012: reducing learning rate of group 0 to 1.0000e-05.\n",
      "Saved model at epoch 12 with validation unweighted accuracy of 53.07%\n",
      "\n",
      "\n",
      "--------------------------------------------------\n",
      "Epoch  12\n",
      "Training Loss: 0.0245, Validation Loss: 0.0118\n",
      "Validation Results: \n",
      "Weighted Accuracy: 0.4414, Unweighted Accuracy: 0.5307\n",
      "Weighted F1-Score: 0.5265, Unweighted F1-Score: 0.4647,\n",
      "Test Results: \n",
      "Weighted Accuracy: 0.4396, Unweighted Accuracy: 0.4987\n",
      "Weighted F1-Score: 0.4919, Unweighted F1-Score: 0.4612,\n",
      "--------------------------------------------------\n",
      "\n",
      "\n"
     ]
    },
    {
     "output_type": "stream",
     "name": "stderr",
     "text": [
      "100%|██████████| 188/188 [00:09<00:00, 19.76it/s]\n",
      "100%|██████████| 6/6 [00:00<00:00,  7.15it/s]\n",
      "100%|██████████| 6/6 [00:00<00:00,  6.96it/s]\n"
     ]
    },
    {
     "output_type": "stream",
     "name": "stdout",
     "text": [
      "\n",
      "\n",
      "--------------------------------------------------\n",
      "Epoch  13\n",
      "Training Loss: 0.0204, Validation Loss: 0.0118\n",
      "Validation Results: \n",
      "Weighted Accuracy: 0.4665, Unweighted Accuracy: 0.5294\n",
      "Weighted F1-Score: 0.5286, Unweighted F1-Score: 0.4737,\n",
      "Test Results: \n",
      "Weighted Accuracy: 0.4764, Unweighted Accuracy: 0.5013\n",
      "Weighted F1-Score: 0.4987, Unweighted F1-Score: 0.4845,\n",
      "--------------------------------------------------\n",
      "\n",
      "\n"
     ]
    },
    {
     "output_type": "stream",
     "name": "stderr",
     "text": [
      "100%|██████████| 188/188 [00:09<00:00, 19.59it/s]\n",
      "100%|██████████| 6/6 [00:00<00:00,  7.15it/s]\n",
      "100%|██████████| 6/6 [00:00<00:00,  7.00it/s]\n"
     ]
    },
    {
     "output_type": "stream",
     "name": "stdout",
     "text": [
      "\n",
      "\n",
      "--------------------------------------------------\n",
      "Epoch  14\n",
      "Training Loss: 0.0196, Validation Loss: 0.0120\n",
      "Validation Results: \n",
      "Weighted Accuracy: 0.4641, Unweighted Accuracy: 0.5267\n",
      "Weighted F1-Score: 0.5267, Unweighted F1-Score: 0.4718,\n",
      "Test Results: \n",
      "Weighted Accuracy: 0.4787, Unweighted Accuracy: 0.5040\n",
      "Weighted F1-Score: 0.5014, Unweighted F1-Score: 0.4854,\n",
      "--------------------------------------------------\n",
      "\n",
      "\n"
     ]
    },
    {
     "output_type": "stream",
     "name": "stderr",
     "text": [
      "100%|██████████| 188/188 [00:09<00:00, 19.36it/s]\n",
      "100%|██████████| 6/6 [00:00<00:00,  7.11it/s]\n",
      "100%|██████████| 6/6 [00:00<00:00,  7.11it/s]\n"
     ]
    },
    {
     "output_type": "stream",
     "name": "stdout",
     "text": [
      "\n",
      "\n",
      "--------------------------------------------------\n",
      "Epoch  15\n",
      "Training Loss: 0.0190, Validation Loss: 0.0120\n",
      "Validation Results: \n",
      "Weighted Accuracy: 0.4441, Unweighted Accuracy: 0.5254\n",
      "Weighted F1-Score: 0.5243, Unweighted F1-Score: 0.4531,\n",
      "Test Results: \n",
      "Weighted Accuracy: 0.4933, Unweighted Accuracy: 0.5120\n",
      "Weighted F1-Score: 0.5095, Unweighted F1-Score: 0.4999,\n",
      "--------------------------------------------------\n",
      "\n",
      "\n"
     ]
    },
    {
     "output_type": "stream",
     "name": "stderr",
     "text": [
      "100%|██████████| 188/188 [00:09<00:00, 19.35it/s]\n",
      "100%|██████████| 6/6 [00:00<00:00,  7.13it/s]\n",
      "100%|██████████| 6/6 [00:00<00:00,  7.14it/s]\n"
     ]
    },
    {
     "output_type": "stream",
     "name": "stdout",
     "text": [
      "\n",
      "\n",
      "--------------------------------------------------\n",
      "Epoch  16\n",
      "Training Loss: 0.0186, Validation Loss: 0.0122\n",
      "Validation Results: \n",
      "Weighted Accuracy: 0.4562, Unweighted Accuracy: 0.5241\n",
      "Weighted F1-Score: 0.5226, Unweighted F1-Score: 0.4661,\n",
      "Test Results: \n",
      "Weighted Accuracy: 0.4846, Unweighted Accuracy: 0.5134\n",
      "Weighted F1-Score: 0.5094, Unweighted F1-Score: 0.4951,\n",
      "--------------------------------------------------\n",
      "\n",
      "\n"
     ]
    },
    {
     "output_type": "stream",
     "name": "stderr",
     "text": [
      "100%|██████████| 188/188 [00:09<00:00, 19.44it/s]\n",
      "100%|██████████| 6/6 [00:00<00:00,  7.19it/s]\n",
      "100%|██████████| 6/6 [00:00<00:00,  7.18it/s]\n"
     ]
    },
    {
     "output_type": "stream",
     "name": "stdout",
     "text": [
      "\n",
      "\n",
      "--------------------------------------------------\n",
      "Epoch  17\n",
      "Training Loss: 0.0183, Validation Loss: 0.0124\n",
      "Validation Results: \n",
      "Weighted Accuracy: 0.4416, Unweighted Accuracy: 0.5134\n",
      "Weighted F1-Score: 0.5131, Unweighted F1-Score: 0.4453,\n",
      "Test Results: \n",
      "Weighted Accuracy: 0.4830, Unweighted Accuracy: 0.5080\n",
      "Weighted F1-Score: 0.5061, Unweighted F1-Score: 0.4906,\n",
      "--------------------------------------------------\n",
      "\n",
      "\n"
     ]
    },
    {
     "output_type": "stream",
     "name": "stderr",
     "text": [
      "100%|██████████| 188/188 [00:09<00:00, 19.45it/s]\n",
      "100%|██████████| 6/6 [00:00<00:00,  7.28it/s]\n",
      "100%|██████████| 6/6 [00:00<00:00,  7.26it/s]\n"
     ]
    },
    {
     "output_type": "stream",
     "name": "stdout",
     "text": [
      "Epoch 00018: reducing learning rate of group 0 to 1.0000e-06.\n",
      "\n",
      "\n",
      "--------------------------------------------------\n",
      "Epoch  18\n",
      "Training Loss: 0.0180, Validation Loss: 0.0126\n",
      "Validation Results: \n",
      "Weighted Accuracy: 0.4437, Unweighted Accuracy: 0.5241\n",
      "Weighted F1-Score: 0.5219, Unweighted F1-Score: 0.4535,\n",
      "Test Results: \n",
      "Weighted Accuracy: 0.4937, Unweighted Accuracy: 0.5160\n",
      "Weighted F1-Score: 0.5120, Unweighted F1-Score: 0.5042,\n",
      "--------------------------------------------------\n",
      "\n",
      "\n"
     ]
    },
    {
     "output_type": "stream",
     "name": "stderr",
     "text": [
      "100%|██████████| 188/188 [00:09<00:00, 19.36it/s]\n",
      "100%|██████████| 6/6 [00:00<00:00,  7.14it/s]\n",
      "100%|██████████| 6/6 [00:00<00:00,  7.16it/s]\n"
     ]
    },
    {
     "output_type": "stream",
     "name": "stdout",
     "text": [
      "\n",
      "\n",
      "--------------------------------------------------\n",
      "Epoch  19\n",
      "Training Loss: 0.0175, Validation Loss: 0.0125\n",
      "Validation Results: \n",
      "Weighted Accuracy: 0.4436, Unweighted Accuracy: 0.5214\n",
      "Weighted F1-Score: 0.5201, Unweighted F1-Score: 0.4522,\n",
      "Test Results: \n",
      "Weighted Accuracy: 0.4843, Unweighted Accuracy: 0.5107\n",
      "Weighted F1-Score: 0.5083, Unweighted F1-Score: 0.4941,\n",
      "--------------------------------------------------\n",
      "\n",
      "\n"
     ]
    },
    {
     "output_type": "stream",
     "name": "stderr",
     "text": [
      "100%|██████████| 188/188 [00:09<00:00, 19.35it/s]\n",
      "100%|██████████| 6/6 [00:00<00:00,  6.97it/s]\n",
      "100%|██████████| 6/6 [00:00<00:00,  6.90it/s]\n"
     ]
    },
    {
     "output_type": "stream",
     "name": "stdout",
     "text": [
      "\n",
      "\n",
      "--------------------------------------------------\n",
      "Epoch  20\n",
      "Training Loss: 0.0174, Validation Loss: 0.0125\n",
      "Validation Results: \n",
      "Weighted Accuracy: 0.4363, Unweighted Accuracy: 0.5107\n",
      "Weighted F1-Score: 0.5096, Unweighted F1-Score: 0.4442,\n",
      "Test Results: \n",
      "Weighted Accuracy: 0.4864, Unweighted Accuracy: 0.5134\n",
      "Weighted F1-Score: 0.5109, Unweighted F1-Score: 0.4957,\n",
      "--------------------------------------------------\n",
      "\n",
      "\n"
     ]
    },
    {
     "output_type": "stream",
     "name": "stderr",
     "text": [
      "100%|██████████| 188/188 [00:09<00:00, 19.54it/s]\n",
      "100%|██████████| 6/6 [00:00<00:00,  7.23it/s]\n",
      "100%|██████████| 6/6 [00:00<00:00,  7.08it/s]\n"
     ]
    },
    {
     "output_type": "stream",
     "name": "stdout",
     "text": [
      "\n",
      "\n",
      "--------------------------------------------------\n",
      "Epoch  21\n",
      "Training Loss: 0.0174, Validation Loss: 0.0125\n",
      "Validation Results: \n",
      "Weighted Accuracy: 0.4531, Unweighted Accuracy: 0.5160\n",
      "Weighted F1-Score: 0.5154, Unweighted F1-Score: 0.4643,\n",
      "Test Results: \n",
      "Weighted Accuracy: 0.4960, Unweighted Accuracy: 0.5134\n",
      "Weighted F1-Score: 0.5107, Unweighted F1-Score: 0.5031,\n",
      "--------------------------------------------------\n",
      "\n",
      "\n"
     ]
    },
    {
     "output_type": "stream",
     "name": "stderr",
     "text": [
      "100%|██████████| 188/188 [00:09<00:00, 19.56it/s]\n",
      "100%|██████████| 6/6 [00:00<00:00,  6.98it/s]\n",
      "100%|██████████| 6/6 [00:00<00:00,  6.98it/s]\n"
     ]
    },
    {
     "output_type": "stream",
     "name": "stdout",
     "text": [
      "\n",
      "\n",
      "--------------------------------------------------\n",
      "Epoch  22\n",
      "Training Loss: 0.0173, Validation Loss: 0.0125\n",
      "Validation Results: \n",
      "Weighted Accuracy: 0.4371, Unweighted Accuracy: 0.5120\n",
      "Weighted F1-Score: 0.5111, Unweighted F1-Score: 0.4452,\n",
      "Test Results: \n",
      "Weighted Accuracy: 0.4980, Unweighted Accuracy: 0.5160\n",
      "Weighted F1-Score: 0.5135, Unweighted F1-Score: 0.5055,\n",
      "--------------------------------------------------\n",
      "\n",
      "\n"
     ]
    },
    {
     "output_type": "stream",
     "name": "stderr",
     "text": [
      "100%|██████████| 188/188 [00:09<00:00, 19.33it/s]\n",
      "100%|██████████| 6/6 [00:00<00:00,  7.04it/s]\n",
      "100%|██████████| 6/6 [00:00<00:00,  7.04it/s]\n"
     ]
    },
    {
     "output_type": "stream",
     "name": "stdout",
     "text": [
      "\n",
      "\n",
      "--------------------------------------------------\n",
      "Epoch  23\n",
      "Training Loss: 0.0173, Validation Loss: 0.0125\n",
      "Validation Results: \n",
      "Weighted Accuracy: 0.4385, Unweighted Accuracy: 0.5134\n",
      "Weighted F1-Score: 0.5122, Unweighted F1-Score: 0.4459,\n",
      "Test Results: \n",
      "Weighted Accuracy: 0.4858, Unweighted Accuracy: 0.5120\n",
      "Weighted F1-Score: 0.5096, Unweighted F1-Score: 0.4947,\n",
      "--------------------------------------------------\n",
      "\n",
      "\n"
     ]
    },
    {
     "output_type": "stream",
     "name": "stderr",
     "text": [
      "100%|██████████| 188/188 [00:09<00:00, 19.55it/s]\n",
      "100%|██████████| 6/6 [00:00<00:00,  6.90it/s]\n",
      "100%|██████████| 6/6 [00:00<00:00,  7.15it/s]\n"
     ]
    },
    {
     "output_type": "stream",
     "name": "stdout",
     "text": [
      "Epoch 00024: reducing learning rate of group 0 to 1.0000e-07.\n",
      "\n",
      "\n",
      "--------------------------------------------------\n",
      "Epoch  24\n",
      "Training Loss: 0.0173, Validation Loss: 0.0125\n",
      "Validation Results: \n",
      "Weighted Accuracy: 0.4542, Unweighted Accuracy: 0.5187\n",
      "Weighted F1-Score: 0.5181, Unweighted F1-Score: 0.4664,\n",
      "Test Results: \n",
      "Weighted Accuracy: 0.4928, Unweighted Accuracy: 0.5107\n",
      "Weighted F1-Score: 0.5083, Unweighted F1-Score: 0.5008,\n",
      "--------------------------------------------------\n",
      "\n",
      "\n"
     ]
    },
    {
     "output_type": "stream",
     "name": "stderr",
     "text": [
      "100%|██████████| 188/188 [00:09<00:00, 19.85it/s]\n",
      "100%|██████████| 6/6 [00:00<00:00,  6.98it/s]\n",
      "100%|██████████| 6/6 [00:00<00:00,  6.93it/s]\n"
     ]
    },
    {
     "output_type": "stream",
     "name": "stdout",
     "text": [
      "\n",
      "\n",
      "--------------------------------------------------\n",
      "Epoch  25\n",
      "Training Loss: 0.0172, Validation Loss: 0.0125\n",
      "Validation Results: \n",
      "Weighted Accuracy: 0.4533, Unweighted Accuracy: 0.5174\n",
      "Weighted F1-Score: 0.5169, Unweighted F1-Score: 0.4655,\n",
      "Test Results: \n",
      "Weighted Accuracy: 0.4942, Unweighted Accuracy: 0.5120\n",
      "Weighted F1-Score: 0.5095, Unweighted F1-Score: 0.5020,\n",
      "--------------------------------------------------\n",
      "\n",
      "\n"
     ]
    },
    {
     "output_type": "stream",
     "name": "stderr",
     "text": [
      "100%|██████████| 188/188 [00:09<00:00, 19.49it/s]\n",
      "100%|██████████| 6/6 [00:00<00:00,  7.06it/s]\n",
      "100%|██████████| 6/6 [00:00<00:00,  6.92it/s]\n"
     ]
    },
    {
     "output_type": "stream",
     "name": "stdout",
     "text": [
      "\n",
      "\n",
      "--------------------------------------------------\n",
      "Epoch  26\n",
      "Training Loss: 0.0172, Validation Loss: 0.0125\n",
      "Validation Results: \n",
      "Weighted Accuracy: 0.4533, Unweighted Accuracy: 0.5174\n",
      "Weighted F1-Score: 0.5169, Unweighted F1-Score: 0.4655,\n",
      "Test Results: \n",
      "Weighted Accuracy: 0.4942, Unweighted Accuracy: 0.5120\n",
      "Weighted F1-Score: 0.5095, Unweighted F1-Score: 0.5019,\n",
      "--------------------------------------------------\n",
      "\n",
      "\n"
     ]
    },
    {
     "output_type": "stream",
     "name": "stderr",
     "text": [
      "100%|██████████| 188/188 [00:09<00:00, 19.70it/s]\n",
      "100%|██████████| 6/6 [00:00<00:00,  7.30it/s]\n",
      "100%|██████████| 6/6 [00:00<00:00,  7.15it/s]\n"
     ]
    },
    {
     "output_type": "stream",
     "name": "stdout",
     "text": [
      "\n",
      "\n",
      "--------------------------------------------------\n",
      "Epoch  27\n",
      "Training Loss: 0.0172, Validation Loss: 0.0125\n",
      "Validation Results: \n",
      "Weighted Accuracy: 0.4533, Unweighted Accuracy: 0.5174\n",
      "Weighted F1-Score: 0.5169, Unweighted F1-Score: 0.4655,\n",
      "Test Results: \n",
      "Weighted Accuracy: 0.4942, Unweighted Accuracy: 0.5120\n",
      "Weighted F1-Score: 0.5095, Unweighted F1-Score: 0.5018,\n",
      "--------------------------------------------------\n",
      "\n",
      "\n"
     ]
    },
    {
     "output_type": "stream",
     "name": "stderr",
     "text": [
      "100%|██████████| 188/188 [00:09<00:00, 19.44it/s]\n",
      "100%|██████████| 6/6 [00:00<00:00,  7.28it/s]\n",
      "100%|██████████| 6/6 [00:00<00:00,  7.06it/s]\n"
     ]
    },
    {
     "output_type": "stream",
     "name": "stdout",
     "text": [
      "\n",
      "\n",
      "--------------------------------------------------\n",
      "Epoch  28\n",
      "Training Loss: 0.0172, Validation Loss: 0.0126\n",
      "Validation Results: \n",
      "Weighted Accuracy: 0.4526, Unweighted Accuracy: 0.5160\n",
      "Weighted F1-Score: 0.5155, Unweighted F1-Score: 0.4645,\n",
      "Test Results: \n",
      "Weighted Accuracy: 0.4954, Unweighted Accuracy: 0.5134\n",
      "Weighted F1-Score: 0.5108, Unweighted F1-Score: 0.5031,\n",
      "--------------------------------------------------\n",
      "\n",
      "\n"
     ]
    },
    {
     "output_type": "stream",
     "name": "stderr",
     "text": [
      "100%|██████████| 188/188 [00:09<00:00, 19.54it/s]\n",
      "100%|██████████| 6/6 [00:00<00:00,  7.13it/s]\n",
      "100%|██████████| 6/6 [00:00<00:00,  7.05it/s]\n"
     ]
    },
    {
     "output_type": "stream",
     "name": "stdout",
     "text": [
      "\n",
      "\n",
      "--------------------------------------------------\n",
      "Epoch  29\n",
      "Training Loss: 0.0172, Validation Loss: 0.0126\n",
      "Validation Results: \n",
      "Weighted Accuracy: 0.4533, Unweighted Accuracy: 0.5174\n",
      "Weighted F1-Score: 0.5169, Unweighted F1-Score: 0.4654,\n",
      "Test Results: \n",
      "Weighted Accuracy: 0.4954, Unweighted Accuracy: 0.5134\n",
      "Weighted F1-Score: 0.5109, Unweighted F1-Score: 0.5030,\n",
      "--------------------------------------------------\n",
      "\n",
      "\n"
     ]
    },
    {
     "output_type": "stream",
     "name": "stderr",
     "text": [
      "100%|██████████| 188/188 [00:09<00:00, 19.35it/s]\n",
      "100%|██████████| 6/6 [00:00<00:00,  7.19it/s]\n",
      "100%|██████████| 6/6 [00:00<00:00,  7.20it/s]\n"
     ]
    },
    {
     "output_type": "stream",
     "name": "stdout",
     "text": [
      "Epoch 00030: reducing learning rate of group 0 to 1.0000e-08.\n",
      "\n",
      "\n",
      "--------------------------------------------------\n",
      "Epoch  30\n",
      "Training Loss: 0.0172, Validation Loss: 0.0126\n",
      "Validation Results: \n",
      "Weighted Accuracy: 0.4518, Unweighted Accuracy: 0.5147\n",
      "Weighted F1-Score: 0.5142, Unweighted F1-Score: 0.4637,\n",
      "Test Results: \n",
      "Weighted Accuracy: 0.4942, Unweighted Accuracy: 0.5120\n",
      "Weighted F1-Score: 0.5095, Unweighted F1-Score: 0.5016,\n",
      "--------------------------------------------------\n",
      "\n",
      "\n",
      "Early stopped. No improvement in validation loss for 10 consecutive epoches.\n"
     ]
    },
    {
     "output_type": "stream",
     "name": "stderr",
     "text": [
      "100%|██████████| 188/188 [00:09<00:00, 20.34it/s]\n",
      "100%|██████████| 6/6 [00:00<00:00,  7.17it/s]\n",
      "100%|██████████| 6/6 [00:00<00:00,  7.10it/s]\n"
     ]
    },
    {
     "output_type": "stream",
     "name": "stdout",
     "text": [
      "Saved model at epoch 1 with validation unweighted accuracy of 33.69%\n",
      "\n",
      "\n",
      "--------------------------------------------------\n",
      "Epoch  1\n",
      "Training Loss: 0.0547, Validation Loss: 0.0129\n",
      "Validation Results: \n",
      "Weighted Accuracy: 0.2245, Unweighted Accuracy: 0.3369\n",
      "Weighted F1-Score: 0.2836, Unweighted F1-Score: 0.2062,\n",
      "Test Results: \n",
      "Weighted Accuracy: 0.2494, Unweighted Accuracy: 0.3382\n",
      "Weighted F1-Score: 0.2804, Unweighted F1-Score: 0.2120,\n",
      "--------------------------------------------------\n",
      "\n",
      "\n"
     ]
    },
    {
     "output_type": "stream",
     "name": "stderr",
     "text": [
      "100%|██████████| 188/188 [00:09<00:00, 20.56it/s]\n",
      "100%|██████████| 6/6 [00:00<00:00,  7.16it/s]\n",
      "100%|██████████| 6/6 [00:00<00:00,  7.37it/s]\n"
     ]
    },
    {
     "output_type": "stream",
     "name": "stdout",
     "text": [
      "Saved model at epoch 2 with validation unweighted accuracy of 42.78%\n",
      "\n",
      "\n",
      "--------------------------------------------------\n",
      "Epoch  2\n",
      "Training Loss: 0.0470, Validation Loss: 0.0119\n",
      "Validation Results: \n",
      "Weighted Accuracy: 0.3428, Unweighted Accuracy: 0.4278\n",
      "Weighted F1-Score: 0.4014, Unweighted F1-Score: 0.3109,\n",
      "Test Results: \n",
      "Weighted Accuracy: 0.3596, Unweighted Accuracy: 0.4412\n",
      "Weighted F1-Score: 0.4119, Unweighted F1-Score: 0.3266,\n",
      "--------------------------------------------------\n",
      "\n",
      "\n"
     ]
    },
    {
     "output_type": "stream",
     "name": "stderr",
     "text": [
      "100%|██████████| 188/188 [00:09<00:00, 20.53it/s]\n",
      "100%|██████████| 6/6 [00:00<00:00,  7.33it/s]\n",
      "100%|██████████| 6/6 [00:00<00:00,  7.30it/s]\n"
     ]
    },
    {
     "output_type": "stream",
     "name": "stdout",
     "text": [
      "Saved model at epoch 3 with validation unweighted accuracy of 49.06%\n",
      "\n",
      "\n",
      "--------------------------------------------------\n",
      "Epoch  3\n",
      "Training Loss: 0.0425, Validation Loss: 0.0109\n",
      "Validation Results: \n",
      "Weighted Accuracy: 0.3859, Unweighted Accuracy: 0.4906\n",
      "Weighted F1-Score: 0.4693, Unweighted F1-Score: 0.3662,\n",
      "Test Results: \n",
      "Weighted Accuracy: 0.3738, Unweighted Accuracy: 0.4706\n",
      "Weighted F1-Score: 0.4454, Unweighted F1-Score: 0.3531,\n",
      "--------------------------------------------------\n",
      "\n",
      "\n"
     ]
    },
    {
     "output_type": "stream",
     "name": "stderr",
     "text": [
      "100%|██████████| 188/188 [00:09<00:00, 20.38it/s]\n",
      "100%|██████████| 6/6 [00:00<00:00,  7.33it/s]\n",
      "100%|██████████| 6/6 [00:00<00:00,  7.25it/s]\n"
     ]
    },
    {
     "output_type": "stream",
     "name": "stdout",
     "text": [
      "\n",
      "\n",
      "--------------------------------------------------\n",
      "Epoch  4\n",
      "Training Loss: 0.0399, Validation Loss: 0.0109\n",
      "Validation Results: \n",
      "Weighted Accuracy: 0.3774, Unweighted Accuracy: 0.4786\n",
      "Weighted F1-Score: 0.4582, Unweighted F1-Score: 0.3627,\n",
      "Test Results: \n",
      "Weighted Accuracy: 0.3789, Unweighted Accuracy: 0.4425\n",
      "Weighted F1-Score: 0.4239, Unweighted F1-Score: 0.3717,\n",
      "--------------------------------------------------\n",
      "\n",
      "\n"
     ]
    },
    {
     "output_type": "stream",
     "name": "stderr",
     "text": [
      "100%|██████████| 188/188 [00:09<00:00, 20.62it/s]\n",
      "100%|██████████| 6/6 [00:00<00:00,  7.16it/s]\n",
      "100%|██████████| 6/6 [00:00<00:00,  7.19it/s]\n"
     ]
    },
    {
     "output_type": "stream",
     "name": "stdout",
     "text": [
      "Saved model at epoch 5 with validation unweighted accuracy of 50.80%\n",
      "\n",
      "\n",
      "--------------------------------------------------\n",
      "Epoch  5\n",
      "Training Loss: 0.0377, Validation Loss: 0.0107\n",
      "Validation Results: \n",
      "Weighted Accuracy: 0.4076, Unweighted Accuracy: 0.5080\n",
      "Weighted F1-Score: 0.4948, Unweighted F1-Score: 0.4108,\n",
      "Test Results: \n",
      "Weighted Accuracy: 0.4096, Unweighted Accuracy: 0.4679\n",
      "Weighted F1-Score: 0.4510, Unweighted F1-Score: 0.4120,\n",
      "--------------------------------------------------\n",
      "\n",
      "\n"
     ]
    },
    {
     "output_type": "stream",
     "name": "stderr",
     "text": [
      "100%|██████████| 188/188 [00:09<00:00, 20.34it/s]\n",
      "100%|██████████| 6/6 [00:00<00:00,  7.24it/s]\n",
      "100%|██████████| 6/6 [00:00<00:00,  7.07it/s]\n"
     ]
    },
    {
     "output_type": "stream",
     "name": "stdout",
     "text": [
      "Saved model at epoch 6 with validation unweighted accuracy of 52.27%\n",
      "\n",
      "\n",
      "--------------------------------------------------\n",
      "Epoch  6\n",
      "Training Loss: 0.0357, Validation Loss: 0.0105\n",
      "Validation Results: \n",
      "Weighted Accuracy: 0.4236, Unweighted Accuracy: 0.5227\n",
      "Weighted F1-Score: 0.5131, Unweighted F1-Score: 0.4323,\n",
      "Test Results: \n",
      "Weighted Accuracy: 0.4329, Unweighted Accuracy: 0.4706\n",
      "Weighted F1-Score: 0.4615, Unweighted F1-Score: 0.4386,\n",
      "--------------------------------------------------\n",
      "\n",
      "\n"
     ]
    },
    {
     "output_type": "stream",
     "name": "stderr",
     "text": [
      "100%|██████████| 188/188 [00:09<00:00, 20.68it/s]\n",
      "100%|██████████| 6/6 [00:00<00:00,  7.25it/s]\n",
      "100%|██████████| 6/6 [00:00<00:00,  7.10it/s]\n"
     ]
    },
    {
     "output_type": "stream",
     "name": "stdout",
     "text": [
      "\n",
      "\n",
      "--------------------------------------------------\n",
      "Epoch  7\n",
      "Training Loss: 0.0342, Validation Loss: 0.0106\n",
      "Validation Results: \n",
      "Weighted Accuracy: 0.4131, Unweighted Accuracy: 0.5227\n",
      "Weighted F1-Score: 0.5131, Unweighted F1-Score: 0.4187,\n",
      "Test Results: \n",
      "Weighted Accuracy: 0.4375, Unweighted Accuracy: 0.4759\n",
      "Weighted F1-Score: 0.4681, Unweighted F1-Score: 0.4489,\n",
      "--------------------------------------------------\n",
      "\n",
      "\n"
     ]
    },
    {
     "output_type": "stream",
     "name": "stderr",
     "text": [
      "100%|██████████| 188/188 [00:09<00:00, 20.55it/s]\n",
      "100%|██████████| 6/6 [00:00<00:00,  7.35it/s]\n",
      "100%|██████████| 6/6 [00:00<00:00,  7.40it/s]\n"
     ]
    },
    {
     "output_type": "stream",
     "name": "stdout",
     "text": [
      "\n",
      "\n",
      "--------------------------------------------------\n",
      "Epoch  8\n",
      "Training Loss: 0.0325, Validation Loss: 0.0106\n",
      "Validation Results: \n",
      "Weighted Accuracy: 0.4502, Unweighted Accuracy: 0.5187\n",
      "Weighted F1-Score: 0.5165, Unweighted F1-Score: 0.4538,\n",
      "Test Results: \n",
      "Weighted Accuracy: 0.4418, Unweighted Accuracy: 0.4572\n",
      "Weighted F1-Score: 0.4583, Unweighted F1-Score: 0.4523,\n",
      "--------------------------------------------------\n",
      "\n",
      "\n"
     ]
    },
    {
     "output_type": "stream",
     "name": "stderr",
     "text": [
      "100%|██████████| 188/188 [00:09<00:00, 20.46it/s]\n",
      "100%|██████████| 6/6 [00:00<00:00,  7.13it/s]\n",
      "100%|██████████| 6/6 [00:00<00:00,  7.14it/s]\n"
     ]
    },
    {
     "output_type": "stream",
     "name": "stdout",
     "text": [
      "\n",
      "\n",
      "--------------------------------------------------\n",
      "Epoch  9\n",
      "Training Loss: 0.0302, Validation Loss: 0.0113\n",
      "Validation Results: \n",
      "Weighted Accuracy: 0.4402, Unweighted Accuracy: 0.5147\n",
      "Weighted F1-Score: 0.5044, Unweighted F1-Score: 0.4351,\n",
      "Test Results: \n",
      "Weighted Accuracy: 0.4828, Unweighted Accuracy: 0.4920\n",
      "Weighted F1-Score: 0.4831, Unweighted F1-Score: 0.4776,\n",
      "--------------------------------------------------\n",
      "\n",
      "\n"
     ]
    },
    {
     "output_type": "stream",
     "name": "stderr",
     "text": [
      "100%|██████████| 188/188 [00:09<00:00, 20.49it/s]\n",
      "100%|██████████| 6/6 [00:00<00:00,  7.19it/s]\n",
      "100%|██████████| 6/6 [00:00<00:00,  7.11it/s]\n"
     ]
    },
    {
     "output_type": "stream",
     "name": "stdout",
     "text": [
      "Saved model at epoch 10 with validation unweighted accuracy of 52.67%\n",
      "\n",
      "\n",
      "--------------------------------------------------\n",
      "Epoch  10\n",
      "Training Loss: 0.0288, Validation Loss: 0.0111\n",
      "Validation Results: \n",
      "Weighted Accuracy: 0.4308, Unweighted Accuracy: 0.5267\n",
      "Weighted F1-Score: 0.5203, Unweighted F1-Score: 0.4361,\n",
      "Test Results: \n",
      "Weighted Accuracy: 0.4398, Unweighted Accuracy: 0.4920\n",
      "Weighted F1-Score: 0.4862, Unweighted F1-Score: 0.4571,\n",
      "--------------------------------------------------\n",
      "\n",
      "\n"
     ]
    },
    {
     "output_type": "stream",
     "name": "stderr",
     "text": [
      "100%|██████████| 188/188 [00:09<00:00, 20.57it/s]\n",
      "100%|██████████| 6/6 [00:00<00:00,  7.34it/s]\n",
      "100%|██████████| 6/6 [00:00<00:00,  7.25it/s]\n"
     ]
    },
    {
     "output_type": "stream",
     "name": "stdout",
     "text": [
      "Saved model at epoch 11 with validation unweighted accuracy of 53.34%\n",
      "\n",
      "\n",
      "--------------------------------------------------\n",
      "Epoch  11\n",
      "Training Loss: 0.0268, Validation Loss: 0.0113\n",
      "Validation Results: \n",
      "Weighted Accuracy: 0.5015, Unweighted Accuracy: 0.5334\n",
      "Weighted F1-Score: 0.5312, Unweighted F1-Score: 0.4945,\n",
      "Test Results: \n",
      "Weighted Accuracy: 0.4566, Unweighted Accuracy: 0.4866\n",
      "Weighted F1-Score: 0.4795, Unweighted F1-Score: 0.4528,\n",
      "--------------------------------------------------\n",
      "\n",
      "\n"
     ]
    },
    {
     "output_type": "stream",
     "name": "stderr",
     "text": [
      "100%|██████████| 188/188 [00:09<00:00, 20.61it/s]\n",
      "100%|██████████| 6/6 [00:00<00:00,  7.32it/s]\n",
      "100%|██████████| 6/6 [00:00<00:00,  7.12it/s]\n"
     ]
    },
    {
     "output_type": "stream",
     "name": "stdout",
     "text": [
      "Epoch 00012: reducing learning rate of group 0 to 1.0000e-05.\n",
      "\n",
      "\n",
      "--------------------------------------------------\n",
      "Epoch  12\n",
      "Training Loss: 0.0251, Validation Loss: 0.0118\n",
      "Validation Results: \n",
      "Weighted Accuracy: 0.4481, Unweighted Accuracy: 0.5267\n",
      "Weighted F1-Score: 0.5198, Unweighted F1-Score: 0.4624,\n",
      "Test Results: \n",
      "Weighted Accuracy: 0.4202, Unweighted Accuracy: 0.4813\n",
      "Weighted F1-Score: 0.4732, Unweighted F1-Score: 0.4357,\n",
      "--------------------------------------------------\n",
      "\n",
      "\n"
     ]
    },
    {
     "output_type": "stream",
     "name": "stderr",
     "text": [
      "100%|██████████| 188/188 [00:09<00:00, 20.43it/s]\n",
      "100%|██████████| 6/6 [00:00<00:00,  7.16it/s]\n",
      "100%|██████████| 6/6 [00:00<00:00,  7.06it/s]\n"
     ]
    },
    {
     "output_type": "stream",
     "name": "stdout",
     "text": [
      "\n",
      "\n",
      "--------------------------------------------------\n",
      "Epoch  13\n",
      "Training Loss: 0.0214, Validation Loss: 0.0116\n",
      "Validation Results: \n",
      "Weighted Accuracy: 0.4689, Unweighted Accuracy: 0.5321\n",
      "Weighted F1-Score: 0.5284, Unweighted F1-Score: 0.4790,\n",
      "Test Results: \n",
      "Weighted Accuracy: 0.4590, Unweighted Accuracy: 0.4947\n",
      "Weighted F1-Score: 0.4909, Unweighted F1-Score: 0.4691,\n",
      "--------------------------------------------------\n",
      "\n",
      "\n"
     ]
    },
    {
     "output_type": "stream",
     "name": "stderr",
     "text": [
      "100%|██████████| 188/188 [00:09<00:00, 20.46it/s]\n",
      "100%|██████████| 6/6 [00:00<00:00,  7.34it/s]\n",
      "100%|██████████| 6/6 [00:00<00:00,  6.96it/s]\n"
     ]
    },
    {
     "output_type": "stream",
     "name": "stdout",
     "text": [
      "Saved model at epoch 14 with validation unweighted accuracy of 53.61%\n",
      "\n",
      "\n",
      "--------------------------------------------------\n",
      "Epoch  14\n",
      "Training Loss: 0.0204, Validation Loss: 0.0115\n",
      "Validation Results: \n",
      "Weighted Accuracy: 0.4850, Unweighted Accuracy: 0.5361\n",
      "Weighted F1-Score: 0.5344, Unweighted F1-Score: 0.4922,\n",
      "Test Results: \n",
      "Weighted Accuracy: 0.4564, Unweighted Accuracy: 0.4893\n",
      "Weighted F1-Score: 0.4861, Unweighted F1-Score: 0.4656,\n",
      "--------------------------------------------------\n",
      "\n",
      "\n"
     ]
    },
    {
     "output_type": "stream",
     "name": "stderr",
     "text": [
      "100%|██████████| 188/188 [00:09<00:00, 20.64it/s]\n",
      "100%|██████████| 6/6 [00:00<00:00,  7.24it/s]\n",
      "100%|██████████| 6/6 [00:00<00:00,  7.35it/s]\n"
     ]
    },
    {
     "output_type": "stream",
     "name": "stdout",
     "text": [
      "Saved model at epoch 15 with validation unweighted accuracy of 54.01%\n",
      "\n",
      "\n",
      "--------------------------------------------------\n",
      "Epoch  15\n",
      "Training Loss: 0.0201, Validation Loss: 0.0117\n",
      "Validation Results: \n",
      "Weighted Accuracy: 0.5035, Unweighted Accuracy: 0.5401\n",
      "Weighted F1-Score: 0.5382, Unweighted F1-Score: 0.5118,\n",
      "Test Results: \n",
      "Weighted Accuracy: 0.4530, Unweighted Accuracy: 0.4920\n",
      "Weighted F1-Score: 0.4872, Unweighted F1-Score: 0.4636,\n",
      "--------------------------------------------------\n",
      "\n",
      "\n"
     ]
    },
    {
     "output_type": "stream",
     "name": "stderr",
     "text": [
      "100%|██████████| 188/188 [00:09<00:00, 20.62it/s]\n",
      "100%|██████████| 6/6 [00:00<00:00,  7.38it/s]\n",
      "100%|██████████| 6/6 [00:00<00:00,  7.22it/s]\n"
     ]
    },
    {
     "output_type": "stream",
     "name": "stdout",
     "text": [
      "\n",
      "\n",
      "--------------------------------------------------\n",
      "Epoch  16\n",
      "Training Loss: 0.0198, Validation Loss: 0.0117\n",
      "Validation Results: \n",
      "Weighted Accuracy: 0.5003, Unweighted Accuracy: 0.5334\n",
      "Weighted F1-Score: 0.5324, Unweighted F1-Score: 0.5030,\n",
      "Test Results: \n",
      "Weighted Accuracy: 0.4713, Unweighted Accuracy: 0.4973\n",
      "Weighted F1-Score: 0.4948, Unweighted F1-Score: 0.4769,\n",
      "--------------------------------------------------\n",
      "\n",
      "\n"
     ]
    },
    {
     "output_type": "stream",
     "name": "stderr",
     "text": [
      "100%|██████████| 188/188 [00:09<00:00, 20.45it/s]\n",
      "100%|██████████| 6/6 [00:00<00:00,  7.17it/s]\n",
      "100%|██████████| 6/6 [00:00<00:00,  7.13it/s]\n"
     ]
    },
    {
     "output_type": "stream",
     "name": "stdout",
     "text": [
      "\n",
      "\n",
      "--------------------------------------------------\n",
      "Epoch  17\n",
      "Training Loss: 0.0194, Validation Loss: 0.0118\n",
      "Validation Results: \n",
      "Weighted Accuracy: 0.5069, Unweighted Accuracy: 0.5374\n",
      "Weighted F1-Score: 0.5364, Unweighted F1-Score: 0.5106,\n",
      "Test Results: \n",
      "Weighted Accuracy: 0.4654, Unweighted Accuracy: 0.4947\n",
      "Weighted F1-Score: 0.4930, Unweighted F1-Score: 0.4722,\n",
      "--------------------------------------------------\n",
      "\n",
      "\n"
     ]
    },
    {
     "output_type": "stream",
     "name": "stderr",
     "text": [
      "100%|██████████| 188/188 [00:09<00:00, 20.38it/s]\n",
      "100%|██████████| 6/6 [00:00<00:00,  7.34it/s]\n",
      "100%|██████████| 6/6 [00:00<00:00,  7.12it/s]\n"
     ]
    },
    {
     "output_type": "stream",
     "name": "stdout",
     "text": [
      "Epoch 00018: reducing learning rate of group 0 to 1.0000e-06.\n",
      "\n",
      "\n",
      "--------------------------------------------------\n",
      "Epoch  18\n",
      "Training Loss: 0.0192, Validation Loss: 0.0120\n",
      "Validation Results: \n",
      "Weighted Accuracy: 0.5033, Unweighted Accuracy: 0.5388\n",
      "Weighted F1-Score: 0.5385, Unweighted F1-Score: 0.5051,\n",
      "Test Results: \n",
      "Weighted Accuracy: 0.4673, Unweighted Accuracy: 0.4920\n",
      "Weighted F1-Score: 0.4914, Unweighted F1-Score: 0.4767,\n",
      "--------------------------------------------------\n",
      "\n",
      "\n"
     ]
    },
    {
     "output_type": "stream",
     "name": "stderr",
     "text": [
      "100%|██████████| 188/188 [00:09<00:00, 20.76it/s]\n",
      "100%|██████████| 6/6 [00:00<00:00,  7.46it/s]\n",
      "100%|██████████| 6/6 [00:00<00:00,  7.34it/s]\n"
     ]
    },
    {
     "output_type": "stream",
     "name": "stdout",
     "text": [
      "\n",
      "\n",
      "--------------------------------------------------\n",
      "Epoch  19\n",
      "Training Loss: 0.0187, Validation Loss: 0.0119\n",
      "Validation Results: \n",
      "Weighted Accuracy: 0.5032, Unweighted Accuracy: 0.5348\n",
      "Weighted F1-Score: 0.5339, Unweighted F1-Score: 0.5071,\n",
      "Test Results: \n",
      "Weighted Accuracy: 0.4686, Unweighted Accuracy: 0.4947\n",
      "Weighted F1-Score: 0.4929, Unweighted F1-Score: 0.4771,\n",
      "--------------------------------------------------\n",
      "\n",
      "\n"
     ]
    },
    {
     "output_type": "stream",
     "name": "stderr",
     "text": [
      "100%|██████████| 188/188 [00:09<00:00, 20.63it/s]\n",
      "100%|██████████| 6/6 [00:00<00:00,  7.37it/s]\n",
      "100%|██████████| 6/6 [00:00<00:00,  7.13it/s]\n"
     ]
    },
    {
     "output_type": "stream",
     "name": "stdout",
     "text": [
      "\n",
      "\n",
      "--------------------------------------------------\n",
      "Epoch  20\n",
      "Training Loss: 0.0186, Validation Loss: 0.0120\n",
      "Validation Results: \n",
      "Weighted Accuracy: 0.5040, Unweighted Accuracy: 0.5361\n",
      "Weighted F1-Score: 0.5351, Unweighted F1-Score: 0.5080,\n",
      "Test Results: \n",
      "Weighted Accuracy: 0.4568, Unweighted Accuracy: 0.4906\n",
      "Weighted F1-Score: 0.4890, Unweighted F1-Score: 0.4670,\n",
      "--------------------------------------------------\n",
      "\n",
      "\n"
     ]
    },
    {
     "output_type": "stream",
     "name": "stderr",
     "text": [
      "100%|██████████| 188/188 [00:09<00:00, 20.27it/s]\n",
      "100%|██████████| 6/6 [00:00<00:00,  7.03it/s]\n",
      "100%|██████████| 6/6 [00:00<00:00,  7.16it/s]\n"
     ]
    },
    {
     "output_type": "stream",
     "name": "stdout",
     "text": [
      "\n",
      "\n",
      "--------------------------------------------------\n",
      "Epoch  21\n",
      "Training Loss: 0.0185, Validation Loss: 0.0120\n",
      "Validation Results: \n",
      "Weighted Accuracy: 0.5064, Unweighted Accuracy: 0.5388\n",
      "Weighted F1-Score: 0.5376, Unweighted F1-Score: 0.5139,\n",
      "Test Results: \n",
      "Weighted Accuracy: 0.4557, Unweighted Accuracy: 0.4906\n",
      "Weighted F1-Score: 0.4881, Unweighted F1-Score: 0.4656,\n",
      "--------------------------------------------------\n",
      "\n",
      "\n"
     ]
    },
    {
     "output_type": "stream",
     "name": "stderr",
     "text": [
      "100%|██████████| 188/188 [00:09<00:00, 20.48it/s]\n",
      "100%|██████████| 6/6 [00:00<00:00,  7.20it/s]\n",
      "100%|██████████| 6/6 [00:00<00:00,  7.16it/s]\n"
     ]
    },
    {
     "output_type": "stream",
     "name": "stdout",
     "text": [
      "\n",
      "\n",
      "--------------------------------------------------\n",
      "Epoch  22\n",
      "Training Loss: 0.0185, Validation Loss: 0.0120\n",
      "Validation Results: \n",
      "Weighted Accuracy: 0.5032, Unweighted Accuracy: 0.5348\n",
      "Weighted F1-Score: 0.5337, Unweighted F1-Score: 0.5071,\n",
      "Test Results: \n",
      "Weighted Accuracy: 0.4540, Unweighted Accuracy: 0.4893\n",
      "Weighted F1-Score: 0.4872, Unweighted F1-Score: 0.4639,\n",
      "--------------------------------------------------\n",
      "\n",
      "\n"
     ]
    },
    {
     "output_type": "stream",
     "name": "stderr",
     "text": [
      "100%|██████████| 188/188 [00:09<00:00, 20.46it/s]\n",
      "100%|██████████| 6/6 [00:00<00:00,  7.23it/s]\n",
      "100%|██████████| 6/6 [00:00<00:00,  7.14it/s]\n"
     ]
    },
    {
     "output_type": "stream",
     "name": "stdout",
     "text": [
      "\n",
      "\n",
      "--------------------------------------------------\n",
      "Epoch  23\n",
      "Training Loss: 0.0184, Validation Loss: 0.0120\n",
      "Validation Results: \n",
      "Weighted Accuracy: 0.5017, Unweighted Accuracy: 0.5321\n",
      "Weighted F1-Score: 0.5310, Unweighted F1-Score: 0.5049,\n",
      "Test Results: \n",
      "Weighted Accuracy: 0.4520, Unweighted Accuracy: 0.4853\n",
      "Weighted F1-Score: 0.4832, Unweighted F1-Score: 0.4616,\n",
      "--------------------------------------------------\n",
      "\n",
      "\n"
     ]
    },
    {
     "output_type": "stream",
     "name": "stderr",
     "text": [
      "100%|██████████| 188/188 [00:09<00:00, 20.54it/s]\n",
      "100%|██████████| 6/6 [00:00<00:00,  7.23it/s]\n",
      "100%|██████████| 6/6 [00:00<00:00,  7.16it/s]\n"
     ]
    },
    {
     "output_type": "stream",
     "name": "stdout",
     "text": [
      "Epoch 00024: reducing learning rate of group 0 to 1.0000e-07.\n",
      "\n",
      "\n",
      "--------------------------------------------------\n",
      "Epoch  24\n",
      "Training Loss: 0.0184, Validation Loss: 0.0120\n",
      "Validation Results: \n",
      "Weighted Accuracy: 0.5039, Unweighted Accuracy: 0.5348\n",
      "Weighted F1-Score: 0.5336, Unweighted F1-Score: 0.5078,\n",
      "Test Results: \n",
      "Weighted Accuracy: 0.4563, Unweighted Accuracy: 0.4920\n",
      "Weighted F1-Score: 0.4895, Unweighted F1-Score: 0.4661,\n",
      "--------------------------------------------------\n",
      "\n",
      "\n"
     ]
    },
    {
     "output_type": "stream",
     "name": "stderr",
     "text": [
      "100%|██████████| 188/188 [00:09<00:00, 20.45it/s]\n",
      "100%|██████████| 6/6 [00:00<00:00,  7.29it/s]\n",
      "100%|██████████| 6/6 [00:00<00:00,  7.24it/s]\n"
     ]
    },
    {
     "output_type": "stream",
     "name": "stdout",
     "text": [
      "\n",
      "\n",
      "--------------------------------------------------\n",
      "Epoch  25\n",
      "Training Loss: 0.0183, Validation Loss: 0.0120\n",
      "Validation Results: \n",
      "Weighted Accuracy: 0.5039, Unweighted Accuracy: 0.5348\n",
      "Weighted F1-Score: 0.5336, Unweighted F1-Score: 0.5078,\n",
      "Test Results: \n",
      "Weighted Accuracy: 0.4555, Unweighted Accuracy: 0.4906\n",
      "Weighted F1-Score: 0.4882, Unweighted F1-Score: 0.4652,\n",
      "--------------------------------------------------\n",
      "\n",
      "\n"
     ]
    },
    {
     "output_type": "stream",
     "name": "stderr",
     "text": [
      "100%|██████████| 188/188 [00:09<00:00, 20.52it/s]\n",
      "100%|██████████| 6/6 [00:00<00:00,  7.18it/s]\n",
      "100%|██████████| 6/6 [00:00<00:00,  7.25it/s]\n"
     ]
    },
    {
     "output_type": "stream",
     "name": "stdout",
     "text": [
      "\n",
      "\n",
      "--------------------------------------------------\n",
      "Epoch  26\n",
      "Training Loss: 0.0184, Validation Loss: 0.0120\n",
      "Validation Results: \n",
      "Weighted Accuracy: 0.5032, Unweighted Accuracy: 0.5348\n",
      "Weighted F1-Score: 0.5337, Unweighted F1-Score: 0.5069,\n",
      "Test Results: \n",
      "Weighted Accuracy: 0.4555, Unweighted Accuracy: 0.4906\n",
      "Weighted F1-Score: 0.4882, Unweighted F1-Score: 0.4652,\n",
      "--------------------------------------------------\n",
      "\n",
      "\n"
     ]
    },
    {
     "output_type": "stream",
     "name": "stderr",
     "text": [
      "100%|██████████| 188/188 [00:09<00:00, 20.42it/s]\n",
      "100%|██████████| 6/6 [00:00<00:00,  7.37it/s]\n",
      "100%|██████████| 6/6 [00:00<00:00,  7.17it/s]\n"
     ]
    },
    {
     "output_type": "stream",
     "name": "stdout",
     "text": [
      "\n",
      "\n",
      "--------------------------------------------------\n",
      "Epoch  27\n",
      "Training Loss: 0.0184, Validation Loss: 0.0120\n",
      "Validation Results: \n",
      "Weighted Accuracy: 0.5032, Unweighted Accuracy: 0.5348\n",
      "Weighted F1-Score: 0.5337, Unweighted F1-Score: 0.5069,\n",
      "Test Results: \n",
      "Weighted Accuracy: 0.4555, Unweighted Accuracy: 0.4906\n",
      "Weighted F1-Score: 0.4882, Unweighted F1-Score: 0.4652,\n",
      "--------------------------------------------------\n",
      "\n",
      "\n"
     ]
    },
    {
     "output_type": "stream",
     "name": "stderr",
     "text": [
      "100%|██████████| 188/188 [00:09<00:00, 20.69it/s]\n",
      "100%|██████████| 6/6 [00:00<00:00,  7.24it/s]\n",
      "100%|██████████| 6/6 [00:00<00:00,  7.12it/s]\n"
     ]
    },
    {
     "output_type": "stream",
     "name": "stdout",
     "text": [
      "\n",
      "\n",
      "--------------------------------------------------\n",
      "Epoch  28\n",
      "Training Loss: 0.0183, Validation Loss: 0.0120\n",
      "Validation Results: \n",
      "Weighted Accuracy: 0.5025, Unweighted Accuracy: 0.5334\n",
      "Weighted F1-Score: 0.5323, Unweighted F1-Score: 0.5061,\n",
      "Test Results: \n",
      "Weighted Accuracy: 0.4555, Unweighted Accuracy: 0.4906\n",
      "Weighted F1-Score: 0.4882, Unweighted F1-Score: 0.4652,\n",
      "--------------------------------------------------\n",
      "\n",
      "\n"
     ]
    },
    {
     "output_type": "stream",
     "name": "stderr",
     "text": [
      "100%|██████████| 188/188 [00:09<00:00, 20.33it/s]\n",
      "100%|██████████| 6/6 [00:00<00:00,  7.14it/s]\n",
      "100%|██████████| 6/6 [00:00<00:00,  7.29it/s]\n"
     ]
    },
    {
     "output_type": "stream",
     "name": "stdout",
     "text": [
      "\n",
      "\n",
      "--------------------------------------------------\n",
      "Epoch  29\n",
      "Training Loss: 0.0183, Validation Loss: 0.0120\n",
      "Validation Results: \n",
      "Weighted Accuracy: 0.5025, Unweighted Accuracy: 0.5334\n",
      "Weighted F1-Score: 0.5323, Unweighted F1-Score: 0.5061,\n",
      "Test Results: \n",
      "Weighted Accuracy: 0.4555, Unweighted Accuracy: 0.4906\n",
      "Weighted F1-Score: 0.4882, Unweighted F1-Score: 0.4652,\n",
      "--------------------------------------------------\n",
      "\n",
      "\n"
     ]
    },
    {
     "output_type": "stream",
     "name": "stderr",
     "text": [
      "100%|██████████| 188/188 [00:09<00:00, 20.67it/s]\n",
      "100%|██████████| 6/6 [00:00<00:00,  7.13it/s]\n",
      "100%|██████████| 6/6 [00:00<00:00,  7.04it/s]\n"
     ]
    },
    {
     "output_type": "stream",
     "name": "stdout",
     "text": [
      "Epoch 00030: reducing learning rate of group 0 to 1.0000e-08.\n",
      "\n",
      "\n",
      "--------------------------------------------------\n",
      "Epoch  30\n",
      "Training Loss: 0.0184, Validation Loss: 0.0120\n",
      "Validation Results: \n",
      "Weighted Accuracy: 0.5032, Unweighted Accuracy: 0.5348\n",
      "Weighted F1-Score: 0.5337, Unweighted F1-Score: 0.5069,\n",
      "Test Results: \n",
      "Weighted Accuracy: 0.4555, Unweighted Accuracy: 0.4906\n",
      "Weighted F1-Score: 0.4882, Unweighted F1-Score: 0.4652,\n",
      "--------------------------------------------------\n",
      "\n",
      "\n"
     ]
    },
    {
     "output_type": "stream",
     "name": "stderr",
     "text": [
      "100%|██████████| 188/188 [00:09<00:00, 20.68it/s]\n",
      "100%|██████████| 6/6 [00:00<00:00,  7.34it/s]\n",
      "100%|██████████| 6/6 [00:00<00:00,  7.05it/s]\n"
     ]
    },
    {
     "output_type": "stream",
     "name": "stdout",
     "text": [
      "\n",
      "\n",
      "--------------------------------------------------\n",
      "Epoch  31\n",
      "Training Loss: 0.0183, Validation Loss: 0.0120\n",
      "Validation Results: \n",
      "Weighted Accuracy: 0.5032, Unweighted Accuracy: 0.5348\n",
      "Weighted F1-Score: 0.5337, Unweighted F1-Score: 0.5069,\n",
      "Test Results: \n",
      "Weighted Accuracy: 0.4555, Unweighted Accuracy: 0.4906\n",
      "Weighted F1-Score: 0.4882, Unweighted F1-Score: 0.4652,\n",
      "--------------------------------------------------\n",
      "\n",
      "\n"
     ]
    },
    {
     "output_type": "stream",
     "name": "stderr",
     "text": [
      "100%|██████████| 188/188 [00:09<00:00, 20.61it/s]\n",
      "100%|██████████| 6/6 [00:00<00:00,  6.71it/s]\n",
      "100%|██████████| 6/6 [00:00<00:00,  7.23it/s]\n"
     ]
    },
    {
     "output_type": "stream",
     "name": "stdout",
     "text": [
      "\n",
      "\n",
      "--------------------------------------------------\n",
      "Epoch  32\n",
      "Training Loss: 0.0183, Validation Loss: 0.0120\n",
      "Validation Results: \n",
      "Weighted Accuracy: 0.5032, Unweighted Accuracy: 0.5348\n",
      "Weighted F1-Score: 0.5337, Unweighted F1-Score: 0.5069,\n",
      "Test Results: \n",
      "Weighted Accuracy: 0.4555, Unweighted Accuracy: 0.4906\n",
      "Weighted F1-Score: 0.4882, Unweighted F1-Score: 0.4652,\n",
      "--------------------------------------------------\n",
      "\n",
      "\n"
     ]
    },
    {
     "output_type": "stream",
     "name": "stderr",
     "text": [
      "100%|██████████| 188/188 [00:09<00:00, 20.41it/s]\n",
      "100%|██████████| 6/6 [00:00<00:00,  7.15it/s]\n",
      "100%|██████████| 6/6 [00:00<00:00,  7.14it/s]\n"
     ]
    },
    {
     "output_type": "stream",
     "name": "stdout",
     "text": [
      "\n",
      "\n",
      "--------------------------------------------------\n",
      "Epoch  33\n",
      "Training Loss: 0.0183, Validation Loss: 0.0120\n",
      "Validation Results: \n",
      "Weighted Accuracy: 0.5032, Unweighted Accuracy: 0.5348\n",
      "Weighted F1-Score: 0.5337, Unweighted F1-Score: 0.5069,\n",
      "Test Results: \n",
      "Weighted Accuracy: 0.4555, Unweighted Accuracy: 0.4906\n",
      "Weighted F1-Score: 0.4882, Unweighted F1-Score: 0.4652,\n",
      "--------------------------------------------------\n",
      "\n",
      "\n"
     ]
    },
    {
     "output_type": "stream",
     "name": "stderr",
     "text": [
      "100%|██████████| 188/188 [00:09<00:00, 20.51it/s]\n",
      "100%|██████████| 6/6 [00:00<00:00,  7.25it/s]\n",
      "100%|██████████| 6/6 [00:00<00:00,  7.25it/s]\n"
     ]
    },
    {
     "output_type": "stream",
     "name": "stdout",
     "text": [
      "\n",
      "\n",
      "--------------------------------------------------\n",
      "Epoch  34\n",
      "Training Loss: 0.0183, Validation Loss: 0.0120\n",
      "Validation Results: \n",
      "Weighted Accuracy: 0.5032, Unweighted Accuracy: 0.5348\n",
      "Weighted F1-Score: 0.5337, Unweighted F1-Score: 0.5069,\n",
      "Test Results: \n",
      "Weighted Accuracy: 0.4555, Unweighted Accuracy: 0.4906\n",
      "Weighted F1-Score: 0.4882, Unweighted F1-Score: 0.4652,\n",
      "--------------------------------------------------\n",
      "\n",
      "\n"
     ]
    },
    {
     "output_type": "stream",
     "name": "stderr",
     "text": [
      "100%|██████████| 188/188 [00:09<00:00, 20.26it/s]\n",
      "100%|██████████| 6/6 [00:00<00:00,  7.23it/s]\n",
      "100%|██████████| 6/6 [00:00<00:00,  7.16it/s]\n"
     ]
    },
    {
     "output_type": "stream",
     "name": "stdout",
     "text": [
      "\n",
      "\n",
      "--------------------------------------------------\n",
      "Epoch  35\n",
      "Training Loss: 0.0183, Validation Loss: 0.0120\n",
      "Validation Results: \n",
      "Weighted Accuracy: 0.5032, Unweighted Accuracy: 0.5348\n",
      "Weighted F1-Score: 0.5337, Unweighted F1-Score: 0.5069,\n",
      "Test Results: \n",
      "Weighted Accuracy: 0.4555, Unweighted Accuracy: 0.4906\n",
      "Weighted F1-Score: 0.4882, Unweighted F1-Score: 0.4652,\n",
      "--------------------------------------------------\n",
      "\n",
      "\n"
     ]
    },
    {
     "output_type": "stream",
     "name": "stderr",
     "text": [
      "100%|██████████| 188/188 [00:09<00:00, 20.36it/s]\n",
      "100%|██████████| 6/6 [00:00<00:00,  7.45it/s]\n",
      "100%|██████████| 6/6 [00:00<00:00,  7.29it/s]\n"
     ]
    },
    {
     "output_type": "stream",
     "name": "stdout",
     "text": [
      "\n",
      "\n",
      "--------------------------------------------------\n",
      "Epoch  36\n",
      "Training Loss: 0.0183, Validation Loss: 0.0120\n",
      "Validation Results: \n",
      "Weighted Accuracy: 0.5032, Unweighted Accuracy: 0.5348\n",
      "Weighted F1-Score: 0.5337, Unweighted F1-Score: 0.5069,\n",
      "Test Results: \n",
      "Weighted Accuracy: 0.4555, Unweighted Accuracy: 0.4906\n",
      "Weighted F1-Score: 0.4882, Unweighted F1-Score: 0.4652,\n",
      "--------------------------------------------------\n",
      "\n",
      "\n",
      "Early stopped. No improvement in validation loss for 10 consecutive epoches.\n"
     ]
    },
    {
     "output_type": "stream",
     "name": "stderr",
     "text": [
      "100%|██████████| 188/188 [00:10<00:00, 17.50it/s]\n",
      "100%|██████████| 6/6 [00:00<00:00,  6.78it/s]\n",
      "100%|██████████| 6/6 [00:00<00:00,  6.68it/s]\n"
     ]
    },
    {
     "output_type": "stream",
     "name": "stdout",
     "text": [
      "Saved model at epoch 1 with validation unweighted accuracy of 34.63%\n",
      "\n",
      "\n",
      "--------------------------------------------------\n",
      "Epoch  1\n",
      "Training Loss: 0.0544, Validation Loss: 0.0131\n",
      "Validation Results: \n",
      "Weighted Accuracy: 0.2517, Unweighted Accuracy: 0.3463\n",
      "Weighted F1-Score: 0.3032, Unweighted F1-Score: 0.2391,\n",
      "Test Results: \n",
      "Weighted Accuracy: 0.2481, Unweighted Accuracy: 0.3503\n",
      "Weighted F1-Score: 0.3066, Unweighted F1-Score: 0.2342,\n",
      "--------------------------------------------------\n",
      "\n",
      "\n"
     ]
    },
    {
     "output_type": "stream",
     "name": "stderr",
     "text": [
      "100%|██████████| 188/188 [00:09<00:00, 19.03it/s]\n",
      "100%|██████████| 6/6 [00:00<00:00,  6.74it/s]\n",
      "100%|██████████| 6/6 [00:00<00:00,  6.62it/s]\n"
     ]
    },
    {
     "output_type": "stream",
     "name": "stdout",
     "text": [
      "Saved model at epoch 2 with validation unweighted accuracy of 42.78%\n",
      "\n",
      "\n",
      "--------------------------------------------------\n",
      "Epoch  2\n",
      "Training Loss: 0.0467, Validation Loss: 0.0119\n",
      "Validation Results: \n",
      "Weighted Accuracy: 0.3265, Unweighted Accuracy: 0.4278\n",
      "Weighted F1-Score: 0.3992, Unweighted F1-Score: 0.3128,\n",
      "Test Results: \n",
      "Weighted Accuracy: 0.3364, Unweighted Accuracy: 0.4465\n",
      "Weighted F1-Score: 0.4232, Unweighted F1-Score: 0.3255,\n",
      "--------------------------------------------------\n",
      "\n",
      "\n"
     ]
    },
    {
     "output_type": "stream",
     "name": "stderr",
     "text": [
      "100%|██████████| 188/188 [00:09<00:00, 18.95it/s]\n",
      "100%|██████████| 6/6 [00:00<00:00,  6.85it/s]\n",
      "100%|██████████| 6/6 [00:00<00:00,  6.65it/s]\n"
     ]
    },
    {
     "output_type": "stream",
     "name": "stdout",
     "text": [
      "Saved model at epoch 3 with validation unweighted accuracy of 44.52%\n",
      "\n",
      "\n",
      "--------------------------------------------------\n",
      "Epoch  3\n",
      "Training Loss: 0.0421, Validation Loss: 0.0115\n",
      "Validation Results: \n",
      "Weighted Accuracy: 0.3429, Unweighted Accuracy: 0.4452\n",
      "Weighted F1-Score: 0.4273, Unweighted F1-Score: 0.3493,\n",
      "Test Results: \n",
      "Weighted Accuracy: 0.3454, Unweighted Accuracy: 0.4439\n",
      "Weighted F1-Score: 0.4292, Unweighted F1-Score: 0.3600,\n",
      "--------------------------------------------------\n",
      "\n",
      "\n"
     ]
    },
    {
     "output_type": "stream",
     "name": "stderr",
     "text": [
      "100%|██████████| 188/188 [00:09<00:00, 18.84it/s]\n",
      "100%|██████████| 6/6 [00:00<00:00,  6.98it/s]\n",
      "100%|██████████| 6/6 [00:00<00:00,  6.77it/s]\n"
     ]
    },
    {
     "output_type": "stream",
     "name": "stdout",
     "text": [
      "Saved model at epoch 4 with validation unweighted accuracy of 44.92%\n",
      "\n",
      "\n",
      "--------------------------------------------------\n",
      "Epoch  4\n",
      "Training Loss: 0.0392, Validation Loss: 0.0112\n",
      "Validation Results: \n",
      "Weighted Accuracy: 0.3509, Unweighted Accuracy: 0.4492\n",
      "Weighted F1-Score: 0.4193, Unweighted F1-Score: 0.3389,\n",
      "Test Results: \n",
      "Weighted Accuracy: 0.3826, Unweighted Accuracy: 0.4773\n",
      "Weighted F1-Score: 0.4461, Unweighted F1-Score: 0.3848,\n",
      "--------------------------------------------------\n",
      "\n",
      "\n"
     ]
    },
    {
     "output_type": "stream",
     "name": "stderr",
     "text": [
      "100%|██████████| 188/188 [00:09<00:00, 19.07it/s]\n",
      "100%|██████████| 6/6 [00:00<00:00,  7.00it/s]\n",
      "100%|██████████| 6/6 [00:00<00:00,  6.89it/s]\n"
     ]
    },
    {
     "output_type": "stream",
     "name": "stdout",
     "text": [
      "Saved model at epoch 5 with validation unweighted accuracy of 48.26%\n",
      "\n",
      "\n",
      "--------------------------------------------------\n",
      "Epoch  5\n",
      "Training Loss: 0.0363, Validation Loss: 0.0111\n",
      "Validation Results: \n",
      "Weighted Accuracy: 0.3986, Unweighted Accuracy: 0.4826\n",
      "Weighted F1-Score: 0.4725, Unweighted F1-Score: 0.3911,\n",
      "Test Results: \n",
      "Weighted Accuracy: 0.4139, Unweighted Accuracy: 0.4786\n",
      "Weighted F1-Score: 0.4721, Unweighted F1-Score: 0.4278,\n",
      "--------------------------------------------------\n",
      "\n",
      "\n"
     ]
    },
    {
     "output_type": "stream",
     "name": "stderr",
     "text": [
      "100%|██████████| 188/188 [00:09<00:00, 18.99it/s]\n",
      "100%|██████████| 6/6 [00:00<00:00,  6.89it/s]\n",
      "100%|██████████| 6/6 [00:00<00:00,  6.80it/s]\n"
     ]
    },
    {
     "output_type": "stream",
     "name": "stdout",
     "text": [
      "\n",
      "\n",
      "--------------------------------------------------\n",
      "Epoch  6\n",
      "Training Loss: 0.0342, Validation Loss: 0.0111\n",
      "Validation Results: \n",
      "Weighted Accuracy: 0.3980, Unweighted Accuracy: 0.4773\n",
      "Weighted F1-Score: 0.4712, Unweighted F1-Score: 0.4013,\n",
      "Test Results: \n",
      "Weighted Accuracy: 0.4459, Unweighted Accuracy: 0.4947\n",
      "Weighted F1-Score: 0.4945, Unweighted F1-Score: 0.4604,\n",
      "--------------------------------------------------\n",
      "\n",
      "\n"
     ]
    },
    {
     "output_type": "stream",
     "name": "stderr",
     "text": [
      "100%|██████████| 188/188 [00:09<00:00, 18.97it/s]\n",
      "100%|██████████| 6/6 [00:00<00:00,  6.88it/s]\n",
      "100%|██████████| 6/6 [00:00<00:00,  6.70it/s]\n"
     ]
    },
    {
     "output_type": "stream",
     "name": "stdout",
     "text": [
      "Saved model at epoch 7 with validation unweighted accuracy of 49.20%\n",
      "\n",
      "\n",
      "--------------------------------------------------\n",
      "Epoch  7\n",
      "Training Loss: 0.0321, Validation Loss: 0.0113\n",
      "Validation Results: \n",
      "Weighted Accuracy: 0.3952, Unweighted Accuracy: 0.4920\n",
      "Weighted F1-Score: 0.4807, Unweighted F1-Score: 0.3980,\n",
      "Test Results: \n",
      "Weighted Accuracy: 0.4356, Unweighted Accuracy: 0.4866\n",
      "Weighted F1-Score: 0.4848, Unweighted F1-Score: 0.4529,\n",
      "--------------------------------------------------\n",
      "\n",
      "\n"
     ]
    },
    {
     "output_type": "stream",
     "name": "stderr",
     "text": [
      "100%|██████████| 188/188 [00:09<00:00, 18.87it/s]\n",
      "100%|██████████| 6/6 [00:00<00:00,  6.67it/s]\n",
      "100%|██████████| 6/6 [00:00<00:00,  6.75it/s]\n"
     ]
    },
    {
     "output_type": "stream",
     "name": "stdout",
     "text": [
      "Saved model at epoch 8 with validation unweighted accuracy of 49.87%\n",
      "\n",
      "\n",
      "--------------------------------------------------\n",
      "Epoch  8\n",
      "Training Loss: 0.0303, Validation Loss: 0.0114\n",
      "Validation Results: \n",
      "Weighted Accuracy: 0.4042, Unweighted Accuracy: 0.4987\n",
      "Weighted F1-Score: 0.4849, Unweighted F1-Score: 0.3993,\n",
      "Test Results: \n",
      "Weighted Accuracy: 0.4707, Unweighted Accuracy: 0.5348\n",
      "Weighted F1-Score: 0.5272, Unweighted F1-Score: 0.4922,\n",
      "--------------------------------------------------\n",
      "\n",
      "\n"
     ]
    },
    {
     "output_type": "stream",
     "name": "stderr",
     "text": [
      "100%|██████████| 188/188 [00:09<00:00, 18.98it/s]\n",
      "100%|██████████| 6/6 [00:00<00:00,  6.82it/s]\n",
      "100%|██████████| 6/6 [00:00<00:00,  6.67it/s]\n"
     ]
    },
    {
     "output_type": "stream",
     "name": "stdout",
     "text": [
      "\n",
      "\n",
      "--------------------------------------------------\n",
      "Epoch  9\n",
      "Training Loss: 0.0285, Validation Loss: 0.0118\n",
      "Validation Results: \n",
      "Weighted Accuracy: 0.4061, Unweighted Accuracy: 0.4906\n",
      "Weighted F1-Score: 0.4838, Unweighted F1-Score: 0.4165,\n",
      "Test Results: \n",
      "Weighted Accuracy: 0.4537, Unweighted Accuracy: 0.5094\n",
      "Weighted F1-Score: 0.5084, Unweighted F1-Score: 0.4776,\n",
      "--------------------------------------------------\n",
      "\n",
      "\n"
     ]
    },
    {
     "output_type": "stream",
     "name": "stderr",
     "text": [
      "100%|██████████| 188/188 [00:09<00:00, 19.01it/s]\n",
      "100%|██████████| 6/6 [00:00<00:00,  6.88it/s]\n",
      "100%|██████████| 6/6 [00:00<00:00,  6.58it/s]\n"
     ]
    },
    {
     "output_type": "stream",
     "name": "stdout",
     "text": [
      "\n",
      "\n",
      "--------------------------------------------------\n",
      "Epoch  10\n",
      "Training Loss: 0.0275, Validation Loss: 0.0120\n",
      "Validation Results: \n",
      "Weighted Accuracy: 0.4136, Unweighted Accuracy: 0.4933\n",
      "Weighted F1-Score: 0.4891, Unweighted F1-Score: 0.4202,\n",
      "Test Results: \n",
      "Weighted Accuracy: 0.4568, Unweighted Accuracy: 0.4987\n",
      "Weighted F1-Score: 0.4997, Unweighted F1-Score: 0.4788,\n",
      "--------------------------------------------------\n",
      "\n",
      "\n"
     ]
    },
    {
     "output_type": "stream",
     "name": "stderr",
     "text": [
      "100%|██████████| 188/188 [00:10<00:00, 18.71it/s]\n",
      "100%|██████████| 6/6 [00:00<00:00,  6.76it/s]\n",
      "100%|██████████| 6/6 [00:00<00:00,  6.68it/s]\n"
     ]
    },
    {
     "output_type": "stream",
     "name": "stdout",
     "text": [
      "Epoch 00011: reducing learning rate of group 0 to 1.0000e-05.\n",
      "\n",
      "\n",
      "--------------------------------------------------\n",
      "Epoch  11\n",
      "Training Loss: 0.0256, Validation Loss: 0.0123\n",
      "Validation Results: \n",
      "Weighted Accuracy: 0.4175, Unweighted Accuracy: 0.4840\n",
      "Weighted F1-Score: 0.4823, Unweighted F1-Score: 0.4138,\n",
      "Test Results: \n",
      "Weighted Accuracy: 0.4874, Unweighted Accuracy: 0.5201\n",
      "Weighted F1-Score: 0.5205, Unweighted F1-Score: 0.4963,\n",
      "--------------------------------------------------\n",
      "\n",
      "\n"
     ]
    },
    {
     "output_type": "stream",
     "name": "stderr",
     "text": [
      "100%|██████████| 188/188 [00:09<00:00, 18.97it/s]\n",
      "100%|██████████| 6/6 [00:00<00:00,  6.73it/s]\n",
      "100%|██████████| 6/6 [00:00<00:00,  6.67it/s]\n"
     ]
    },
    {
     "output_type": "stream",
     "name": "stdout",
     "text": [
      "\n",
      "\n",
      "--------------------------------------------------\n",
      "Epoch  12\n",
      "Training Loss: 0.0214, Validation Loss: 0.0121\n",
      "Validation Results: \n",
      "Weighted Accuracy: 0.4145, Unweighted Accuracy: 0.4960\n",
      "Weighted F1-Score: 0.4916, Unweighted F1-Score: 0.4156,\n",
      "Test Results: \n",
      "Weighted Accuracy: 0.4820, Unweighted Accuracy: 0.5267\n",
      "Weighted F1-Score: 0.5249, Unweighted F1-Score: 0.5019,\n",
      "--------------------------------------------------\n",
      "\n",
      "\n"
     ]
    },
    {
     "output_type": "stream",
     "name": "stderr",
     "text": [
      "100%|██████████| 188/188 [00:09<00:00, 19.13it/s]\n",
      "100%|██████████| 6/6 [00:00<00:00,  6.83it/s]\n",
      "100%|██████████| 6/6 [00:00<00:00,  6.66it/s]\n"
     ]
    },
    {
     "output_type": "stream",
     "name": "stdout",
     "text": [
      "\n",
      "\n",
      "--------------------------------------------------\n",
      "Epoch  13\n",
      "Training Loss: 0.0207, Validation Loss: 0.0123\n",
      "Validation Results: \n",
      "Weighted Accuracy: 0.4104, Unweighted Accuracy: 0.4880\n",
      "Weighted F1-Score: 0.4825, Unweighted F1-Score: 0.4089,\n",
      "Test Results: \n",
      "Weighted Accuracy: 0.4718, Unweighted Accuracy: 0.5120\n",
      "Weighted F1-Score: 0.5124, Unweighted F1-Score: 0.4958,\n",
      "--------------------------------------------------\n",
      "\n",
      "\n"
     ]
    },
    {
     "output_type": "stream",
     "name": "stderr",
     "text": [
      "100%|██████████| 188/188 [00:09<00:00, 18.84it/s]\n",
      "100%|██████████| 6/6 [00:00<00:00,  6.83it/s]\n",
      "100%|██████████| 6/6 [00:00<00:00,  6.64it/s]\n"
     ]
    },
    {
     "output_type": "stream",
     "name": "stdout",
     "text": [
      "\n",
      "\n",
      "--------------------------------------------------\n",
      "Epoch  14\n",
      "Training Loss: 0.0202, Validation Loss: 0.0124\n",
      "Validation Results: \n",
      "Weighted Accuracy: 0.4132, Unweighted Accuracy: 0.4947\n",
      "Weighted F1-Score: 0.4896, Unweighted F1-Score: 0.4115,\n",
      "Test Results: \n",
      "Weighted Accuracy: 0.4732, Unweighted Accuracy: 0.5094\n",
      "Weighted F1-Score: 0.5105, Unweighted F1-Score: 0.4962,\n",
      "--------------------------------------------------\n",
      "\n",
      "\n"
     ]
    },
    {
     "output_type": "stream",
     "name": "stderr",
     "text": [
      "100%|██████████| 188/188 [00:09<00:00, 19.09it/s]\n",
      "100%|██████████| 6/6 [00:00<00:00,  6.88it/s]\n",
      "100%|██████████| 6/6 [00:00<00:00,  6.92it/s]\n"
     ]
    },
    {
     "output_type": "stream",
     "name": "stdout",
     "text": [
      "\n",
      "\n",
      "--------------------------------------------------\n",
      "Epoch  15\n",
      "Training Loss: 0.0199, Validation Loss: 0.0125\n",
      "Validation Results: \n",
      "Weighted Accuracy: 0.4124, Unweighted Accuracy: 0.4920\n",
      "Weighted F1-Score: 0.4873, Unweighted F1-Score: 0.4106,\n",
      "Test Results: \n",
      "Weighted Accuracy: 0.4745, Unweighted Accuracy: 0.5120\n",
      "Weighted F1-Score: 0.5134, Unweighted F1-Score: 0.4918,\n",
      "--------------------------------------------------\n",
      "\n",
      "\n"
     ]
    },
    {
     "output_type": "stream",
     "name": "stderr",
     "text": [
      "100%|██████████| 188/188 [00:09<00:00, 18.98it/s]\n",
      "100%|██████████| 6/6 [00:00<00:00,  7.03it/s]\n",
      "100%|██████████| 6/6 [00:00<00:00,  6.70it/s]\n"
     ]
    },
    {
     "output_type": "stream",
     "name": "stdout",
     "text": [
      "\n",
      "\n",
      "--------------------------------------------------\n",
      "Epoch  16\n",
      "Training Loss: 0.0195, Validation Loss: 0.0126\n",
      "Validation Results: \n",
      "Weighted Accuracy: 0.4145, Unweighted Accuracy: 0.4920\n",
      "Weighted F1-Score: 0.4873, Unweighted F1-Score: 0.4133,\n",
      "Test Results: \n",
      "Weighted Accuracy: 0.4761, Unweighted Accuracy: 0.5147\n",
      "Weighted F1-Score: 0.5144, Unweighted F1-Score: 0.4942,\n",
      "--------------------------------------------------\n",
      "\n",
      "\n"
     ]
    },
    {
     "output_type": "stream",
     "name": "stderr",
     "text": [
      "100%|██████████| 188/188 [00:09<00:00, 18.87it/s]\n",
      "100%|██████████| 6/6 [00:00<00:00,  7.01it/s]\n",
      "100%|██████████| 6/6 [00:00<00:00,  6.75it/s]\n"
     ]
    },
    {
     "output_type": "stream",
     "name": "stdout",
     "text": [
      "Epoch 00017: reducing learning rate of group 0 to 1.0000e-06.\n",
      "\n",
      "\n",
      "--------------------------------------------------\n",
      "Epoch  17\n",
      "Training Loss: 0.0192, Validation Loss: 0.0127\n",
      "Validation Results: \n",
      "Weighted Accuracy: 0.4102, Unweighted Accuracy: 0.4893\n",
      "Weighted F1-Score: 0.4852, Unweighted F1-Score: 0.4084,\n",
      "Test Results: \n",
      "Weighted Accuracy: 0.4787, Unweighted Accuracy: 0.5134\n",
      "Weighted F1-Score: 0.5151, Unweighted F1-Score: 0.4983,\n",
      "--------------------------------------------------\n",
      "\n",
      "\n"
     ]
    },
    {
     "output_type": "stream",
     "name": "stderr",
     "text": [
      "100%|██████████| 188/188 [00:09<00:00, 18.90it/s]\n",
      "100%|██████████| 6/6 [00:00<00:00,  6.95it/s]\n",
      "100%|██████████| 6/6 [00:00<00:00,  6.75it/s]\n"
     ]
    },
    {
     "output_type": "stream",
     "name": "stdout",
     "text": [
      "\n",
      "\n",
      "--------------------------------------------------\n",
      "Epoch  18\n",
      "Training Loss: 0.0187, Validation Loss: 0.0127\n",
      "Validation Results: \n",
      "Weighted Accuracy: 0.4145, Unweighted Accuracy: 0.4933\n",
      "Weighted F1-Score: 0.4885, Unweighted F1-Score: 0.4127,\n",
      "Test Results: \n",
      "Weighted Accuracy: 0.4765, Unweighted Accuracy: 0.5147\n",
      "Weighted F1-Score: 0.5152, Unweighted F1-Score: 0.4960,\n",
      "--------------------------------------------------\n",
      "\n",
      "\n"
     ]
    },
    {
     "output_type": "stream",
     "name": "stderr",
     "text": [
      "100%|██████████| 188/188 [00:09<00:00, 18.86it/s]\n",
      "100%|██████████| 6/6 [00:00<00:00,  6.92it/s]\n",
      "100%|██████████| 6/6 [00:00<00:00,  6.71it/s]\n"
     ]
    },
    {
     "output_type": "stream",
     "name": "stdout",
     "text": [
      "\n",
      "\n",
      "--------------------------------------------------\n",
      "Epoch  19\n",
      "Training Loss: 0.0187, Validation Loss: 0.0127\n",
      "Validation Results: \n",
      "Weighted Accuracy: 0.4141, Unweighted Accuracy: 0.4906\n",
      "Weighted F1-Score: 0.4863, Unweighted F1-Score: 0.4116,\n",
      "Test Results: \n",
      "Weighted Accuracy: 0.4755, Unweighted Accuracy: 0.5134\n",
      "Weighted F1-Score: 0.5137, Unweighted F1-Score: 0.4949,\n",
      "--------------------------------------------------\n",
      "\n",
      "\n"
     ]
    },
    {
     "output_type": "stream",
     "name": "stderr",
     "text": [
      "100%|██████████| 188/188 [00:09<00:00, 19.01it/s]\n",
      "100%|██████████| 6/6 [00:00<00:00,  6.72it/s]\n",
      "100%|██████████| 6/6 [00:00<00:00,  6.83it/s]\n"
     ]
    },
    {
     "output_type": "stream",
     "name": "stdout",
     "text": [
      "\n",
      "\n",
      "--------------------------------------------------\n",
      "Epoch  20\n",
      "Training Loss: 0.0186, Validation Loss: 0.0127\n",
      "Validation Results: \n",
      "Weighted Accuracy: 0.4157, Unweighted Accuracy: 0.4933\n",
      "Weighted F1-Score: 0.4888, Unweighted F1-Score: 0.4137,\n",
      "Test Results: \n",
      "Weighted Accuracy: 0.4754, Unweighted Accuracy: 0.5134\n",
      "Weighted F1-Score: 0.5139, Unweighted F1-Score: 0.4923,\n",
      "--------------------------------------------------\n",
      "\n",
      "\n"
     ]
    },
    {
     "output_type": "stream",
     "name": "stderr",
     "text": [
      "100%|██████████| 188/188 [00:09<00:00, 18.81it/s]\n",
      "100%|██████████| 6/6 [00:00<00:00,  6.93it/s]\n",
      "100%|██████████| 6/6 [00:00<00:00,  6.69it/s]\n"
     ]
    },
    {
     "output_type": "stream",
     "name": "stdout",
     "text": [
      "\n",
      "\n",
      "--------------------------------------------------\n",
      "Epoch  21\n",
      "Training Loss: 0.0186, Validation Loss: 0.0127\n",
      "Validation Results: \n",
      "Weighted Accuracy: 0.4141, Unweighted Accuracy: 0.4906\n",
      "Weighted F1-Score: 0.4862, Unweighted F1-Score: 0.4121,\n",
      "Test Results: \n",
      "Weighted Accuracy: 0.4732, Unweighted Accuracy: 0.5107\n",
      "Weighted F1-Score: 0.5114, Unweighted F1-Score: 0.4899,\n",
      "--------------------------------------------------\n",
      "\n",
      "\n"
     ]
    },
    {
     "output_type": "stream",
     "name": "stderr",
     "text": [
      "100%|██████████| 188/188 [00:09<00:00, 18.93it/s]\n",
      "100%|██████████| 6/6 [00:00<00:00,  6.93it/s]\n",
      "100%|██████████| 6/6 [00:00<00:00,  6.84it/s]\n"
     ]
    },
    {
     "output_type": "stream",
     "name": "stdout",
     "text": [
      "\n",
      "\n",
      "--------------------------------------------------\n",
      "Epoch  22\n",
      "Training Loss: 0.0185, Validation Loss: 0.0127\n",
      "Validation Results: \n",
      "Weighted Accuracy: 0.4141, Unweighted Accuracy: 0.4906\n",
      "Weighted F1-Score: 0.4863, Unweighted F1-Score: 0.4118,\n",
      "Test Results: \n",
      "Weighted Accuracy: 0.4741, Unweighted Accuracy: 0.5107\n",
      "Weighted F1-Score: 0.5111, Unweighted F1-Score: 0.4901,\n",
      "--------------------------------------------------\n",
      "\n",
      "\n"
     ]
    },
    {
     "output_type": "stream",
     "name": "stderr",
     "text": [
      "100%|██████████| 188/188 [00:09<00:00, 19.07it/s]\n",
      "100%|██████████| 6/6 [00:00<00:00,  6.80it/s]\n",
      "100%|██████████| 6/6 [00:00<00:00,  6.93it/s]\n"
     ]
    },
    {
     "output_type": "stream",
     "name": "stdout",
     "text": [
      "Epoch 00023: reducing learning rate of group 0 to 1.0000e-07.\n",
      "\n",
      "\n",
      "--------------------------------------------------\n",
      "Epoch  23\n",
      "Training Loss: 0.0185, Validation Loss: 0.0128\n",
      "Validation Results: \n",
      "Weighted Accuracy: 0.4128, Unweighted Accuracy: 0.4893\n",
      "Weighted F1-Score: 0.4849, Unweighted F1-Score: 0.4102,\n",
      "Test Results: \n",
      "Weighted Accuracy: 0.4736, Unweighted Accuracy: 0.5107\n",
      "Weighted F1-Score: 0.5114, Unweighted F1-Score: 0.4903,\n",
      "--------------------------------------------------\n",
      "\n",
      "\n"
     ]
    },
    {
     "output_type": "stream",
     "name": "stderr",
     "text": [
      "100%|██████████| 188/188 [00:10<00:00, 18.64it/s]\n",
      "100%|██████████| 6/6 [00:00<00:00,  6.93it/s]\n",
      "100%|██████████| 6/6 [00:00<00:00,  6.89it/s]\n"
     ]
    },
    {
     "output_type": "stream",
     "name": "stdout",
     "text": [
      "\n",
      "\n",
      "--------------------------------------------------\n",
      "Epoch  24\n",
      "Training Loss: 0.0185, Validation Loss: 0.0128\n",
      "Validation Results: \n",
      "Weighted Accuracy: 0.4128, Unweighted Accuracy: 0.4893\n",
      "Weighted F1-Score: 0.4849, Unweighted F1-Score: 0.4102,\n",
      "Test Results: \n",
      "Weighted Accuracy: 0.4736, Unweighted Accuracy: 0.5107\n",
      "Weighted F1-Score: 0.5113, Unweighted F1-Score: 0.4901,\n",
      "--------------------------------------------------\n",
      "\n",
      "\n"
     ]
    },
    {
     "output_type": "stream",
     "name": "stderr",
     "text": [
      "100%|██████████| 188/188 [00:09<00:00, 18.82it/s]\n",
      "100%|██████████| 6/6 [00:00<00:00,  6.88it/s]\n",
      "100%|██████████| 6/6 [00:00<00:00,  6.84it/s]\n"
     ]
    },
    {
     "output_type": "stream",
     "name": "stdout",
     "text": [
      "\n",
      "\n",
      "--------------------------------------------------\n",
      "Epoch  25\n",
      "Training Loss: 0.0185, Validation Loss: 0.0128\n",
      "Validation Results: \n",
      "Weighted Accuracy: 0.4128, Unweighted Accuracy: 0.4893\n",
      "Weighted F1-Score: 0.4849, Unweighted F1-Score: 0.4103,\n",
      "Test Results: \n",
      "Weighted Accuracy: 0.4736, Unweighted Accuracy: 0.5107\n",
      "Weighted F1-Score: 0.5113, Unweighted F1-Score: 0.4901,\n",
      "--------------------------------------------------\n",
      "\n",
      "\n"
     ]
    },
    {
     "output_type": "stream",
     "name": "stderr",
     "text": [
      "100%|██████████| 188/188 [00:09<00:00, 19.01it/s]\n",
      "100%|██████████| 6/6 [00:00<00:00,  6.85it/s]\n",
      "100%|██████████| 6/6 [00:00<00:00,  6.79it/s]\n"
     ]
    },
    {
     "output_type": "stream",
     "name": "stdout",
     "text": [
      "\n",
      "\n",
      "--------------------------------------------------\n",
      "Epoch  26\n",
      "Training Loss: 0.0185, Validation Loss: 0.0128\n",
      "Validation Results: \n",
      "Weighted Accuracy: 0.4128, Unweighted Accuracy: 0.4893\n",
      "Weighted F1-Score: 0.4849, Unweighted F1-Score: 0.4102,\n",
      "Test Results: \n",
      "Weighted Accuracy: 0.4736, Unweighted Accuracy: 0.5107\n",
      "Weighted F1-Score: 0.5113, Unweighted F1-Score: 0.4901,\n",
      "--------------------------------------------------\n",
      "\n",
      "\n"
     ]
    },
    {
     "output_type": "stream",
     "name": "stderr",
     "text": [
      "100%|██████████| 188/188 [00:09<00:00, 19.07it/s]\n",
      "100%|██████████| 6/6 [00:00<00:00,  6.88it/s]\n",
      "100%|██████████| 6/6 [00:00<00:00,  6.87it/s]\n"
     ]
    },
    {
     "output_type": "stream",
     "name": "stdout",
     "text": [
      "\n",
      "\n",
      "--------------------------------------------------\n",
      "Epoch  27\n",
      "Training Loss: 0.0184, Validation Loss: 0.0128\n",
      "Validation Results: \n",
      "Weighted Accuracy: 0.4135, Unweighted Accuracy: 0.4906\n",
      "Weighted F1-Score: 0.4861, Unweighted F1-Score: 0.4111,\n",
      "Test Results: \n",
      "Weighted Accuracy: 0.4736, Unweighted Accuracy: 0.5107\n",
      "Weighted F1-Score: 0.5113, Unweighted F1-Score: 0.4901,\n",
      "--------------------------------------------------\n",
      "\n",
      "\n"
     ]
    },
    {
     "output_type": "stream",
     "name": "stderr",
     "text": [
      "100%|██████████| 188/188 [00:09<00:00, 19.11it/s]\n",
      "100%|██████████| 6/6 [00:00<00:00,  6.82it/s]\n",
      "100%|██████████| 6/6 [00:00<00:00,  6.69it/s]\n"
     ]
    },
    {
     "output_type": "stream",
     "name": "stdout",
     "text": [
      "\n",
      "\n",
      "--------------------------------------------------\n",
      "Epoch  28\n",
      "Training Loss: 0.0184, Validation Loss: 0.0128\n",
      "Validation Results: \n",
      "Weighted Accuracy: 0.4128, Unweighted Accuracy: 0.4893\n",
      "Weighted F1-Score: 0.4848, Unweighted F1-Score: 0.4104,\n",
      "Test Results: \n",
      "Weighted Accuracy: 0.4736, Unweighted Accuracy: 0.5107\n",
      "Weighted F1-Score: 0.5113, Unweighted F1-Score: 0.4901,\n",
      "--------------------------------------------------\n",
      "\n",
      "\n",
      "Early stopped. No improvement in validation loss for 10 consecutive epoches.\n"
     ]
    },
    {
     "output_type": "stream",
     "name": "stderr",
     "text": [
      "100%|██████████| 188/188 [00:09<00:00, 20.01it/s]\n",
      "100%|██████████| 6/6 [00:00<00:00,  6.89it/s]\n",
      "100%|██████████| 6/6 [00:00<00:00,  6.77it/s]\n"
     ]
    },
    {
     "output_type": "stream",
     "name": "stdout",
     "text": [
      "Saved model at epoch 1 with validation unweighted accuracy of 36.63%\n",
      "\n",
      "\n",
      "--------------------------------------------------\n",
      "Epoch  1\n",
      "Training Loss: 0.0547, Validation Loss: 0.0129\n",
      "Validation Results: \n",
      "Weighted Accuracy: 0.2360, Unweighted Accuracy: 0.3663\n",
      "Weighted F1-Score: 0.2930, Unweighted F1-Score: 0.2051,\n",
      "Test Results: \n",
      "Weighted Accuracy: 0.2286, Unweighted Accuracy: 0.3449\n",
      "Weighted F1-Score: 0.2771, Unweighted F1-Score: 0.1950,\n",
      "--------------------------------------------------\n",
      "\n",
      "\n"
     ]
    },
    {
     "output_type": "stream",
     "name": "stderr",
     "text": [
      "100%|██████████| 188/188 [00:09<00:00, 19.69it/s]\n",
      "100%|██████████| 6/6 [00:00<00:00,  6.88it/s]\n",
      "100%|██████████| 6/6 [00:00<00:00,  6.79it/s]\n"
     ]
    },
    {
     "output_type": "stream",
     "name": "stdout",
     "text": [
      "Saved model at epoch 2 with validation unweighted accuracy of 41.58%\n",
      "\n",
      "\n",
      "--------------------------------------------------\n",
      "Epoch  2\n",
      "Training Loss: 0.0466, Validation Loss: 0.0119\n",
      "Validation Results: \n",
      "Weighted Accuracy: 0.3527, Unweighted Accuracy: 0.4158\n",
      "Weighted F1-Score: 0.3976, Unweighted F1-Score: 0.3298,\n",
      "Test Results: \n",
      "Weighted Accuracy: 0.3569, Unweighted Accuracy: 0.4439\n",
      "Weighted F1-Score: 0.4316, Unweighted F1-Score: 0.3443,\n",
      "--------------------------------------------------\n",
      "\n",
      "\n"
     ]
    },
    {
     "output_type": "stream",
     "name": "stderr",
     "text": [
      "100%|██████████| 188/188 [00:09<00:00, 19.95it/s]\n",
      "100%|██████████| 6/6 [00:00<00:00,  6.88it/s]\n",
      "100%|██████████| 6/6 [00:00<00:00,  6.76it/s]\n"
     ]
    },
    {
     "output_type": "stream",
     "name": "stdout",
     "text": [
      "Saved model at epoch 3 with validation unweighted accuracy of 43.45%\n",
      "\n",
      "\n",
      "--------------------------------------------------\n",
      "Epoch  3\n",
      "Training Loss: 0.0424, Validation Loss: 0.0114\n",
      "Validation Results: \n",
      "Weighted Accuracy: 0.3465, Unweighted Accuracy: 0.4345\n",
      "Weighted F1-Score: 0.4115, Unweighted F1-Score: 0.3358,\n",
      "Test Results: \n",
      "Weighted Accuracy: 0.3528, Unweighted Accuracy: 0.4572\n",
      "Weighted F1-Score: 0.4395, Unweighted F1-Score: 0.3457,\n",
      "--------------------------------------------------\n",
      "\n",
      "\n"
     ]
    },
    {
     "output_type": "stream",
     "name": "stderr",
     "text": [
      "100%|██████████| 188/188 [00:09<00:00, 19.86it/s]\n",
      "100%|██████████| 6/6 [00:00<00:00,  7.02it/s]\n",
      "100%|██████████| 6/6 [00:00<00:00,  7.00it/s]\n"
     ]
    },
    {
     "output_type": "stream",
     "name": "stdout",
     "text": [
      "Saved model at epoch 4 with validation unweighted accuracy of 45.19%\n",
      "\n",
      "\n",
      "--------------------------------------------------\n",
      "Epoch  4\n",
      "Training Loss: 0.0396, Validation Loss: 0.0113\n",
      "Validation Results: \n",
      "Weighted Accuracy: 0.3634, Unweighted Accuracy: 0.4519\n",
      "Weighted F1-Score: 0.4311, Unweighted F1-Score: 0.3555,\n",
      "Test Results: \n",
      "Weighted Accuracy: 0.3707, Unweighted Accuracy: 0.4719\n",
      "Weighted F1-Score: 0.4546, Unweighted F1-Score: 0.3674,\n",
      "--------------------------------------------------\n",
      "\n",
      "\n"
     ]
    },
    {
     "output_type": "stream",
     "name": "stderr",
     "text": [
      "100%|██████████| 188/188 [00:09<00:00, 19.55it/s]\n",
      "100%|██████████| 6/6 [00:00<00:00,  6.93it/s]\n",
      "100%|██████████| 6/6 [00:00<00:00,  7.07it/s]\n"
     ]
    },
    {
     "output_type": "stream",
     "name": "stdout",
     "text": [
      "Saved model at epoch 5 with validation unweighted accuracy of 45.45%\n",
      "\n",
      "\n",
      "--------------------------------------------------\n",
      "Epoch  5\n",
      "Training Loss: 0.0368, Validation Loss: 0.0112\n",
      "Validation Results: \n",
      "Weighted Accuracy: 0.3690, Unweighted Accuracy: 0.4545\n",
      "Weighted F1-Score: 0.4428, Unweighted F1-Score: 0.3672,\n",
      "Test Results: \n",
      "Weighted Accuracy: 0.4185, Unweighted Accuracy: 0.4933\n",
      "Weighted F1-Score: 0.4894, Unweighted F1-Score: 0.4375,\n",
      "--------------------------------------------------\n",
      "\n",
      "\n"
     ]
    },
    {
     "output_type": "stream",
     "name": "stderr",
     "text": [
      "100%|██████████| 188/188 [00:09<00:00, 19.67it/s]\n",
      "100%|██████████| 6/6 [00:00<00:00,  7.03it/s]\n",
      "100%|██████████| 6/6 [00:00<00:00,  6.89it/s]\n"
     ]
    },
    {
     "output_type": "stream",
     "name": "stdout",
     "text": [
      "Saved model at epoch 6 with validation unweighted accuracy of 47.19%\n",
      "\n",
      "\n",
      "--------------------------------------------------\n",
      "Epoch  6\n",
      "Training Loss: 0.0350, Validation Loss: 0.0113\n",
      "Validation Results: \n",
      "Weighted Accuracy: 0.3963, Unweighted Accuracy: 0.4719\n",
      "Weighted F1-Score: 0.4625, Unweighted F1-Score: 0.4010,\n",
      "Test Results: \n",
      "Weighted Accuracy: 0.4216, Unweighted Accuracy: 0.4933\n",
      "Weighted F1-Score: 0.4890, Unweighted F1-Score: 0.4432,\n",
      "--------------------------------------------------\n",
      "\n",
      "\n"
     ]
    },
    {
     "output_type": "stream",
     "name": "stderr",
     "text": [
      "100%|██████████| 188/188 [00:09<00:00, 19.81it/s]\n",
      "100%|██████████| 6/6 [00:00<00:00,  7.02it/s]\n",
      "100%|██████████| 6/6 [00:00<00:00,  6.87it/s]\n"
     ]
    },
    {
     "output_type": "stream",
     "name": "stdout",
     "text": [
      "Saved model at epoch 7 with validation unweighted accuracy of 48.26%\n",
      "\n",
      "\n",
      "--------------------------------------------------\n",
      "Epoch  7\n",
      "Training Loss: 0.0331, Validation Loss: 0.0112\n",
      "Validation Results: \n",
      "Weighted Accuracy: 0.3939, Unweighted Accuracy: 0.4826\n",
      "Weighted F1-Score: 0.4722, Unweighted F1-Score: 0.3948,\n",
      "Test Results: \n",
      "Weighted Accuracy: 0.4279, Unweighted Accuracy: 0.4960\n",
      "Weighted F1-Score: 0.4889, Unweighted F1-Score: 0.4486,\n",
      "--------------------------------------------------\n",
      "\n",
      "\n"
     ]
    },
    {
     "output_type": "stream",
     "name": "stderr",
     "text": [
      "100%|██████████| 188/188 [00:09<00:00, 19.97it/s]\n",
      "100%|██████████| 6/6 [00:00<00:00,  7.06it/s]\n",
      "100%|██████████| 6/6 [00:00<00:00,  6.96it/s]\n"
     ]
    },
    {
     "output_type": "stream",
     "name": "stdout",
     "text": [
      "\n",
      "\n",
      "--------------------------------------------------\n",
      "Epoch  8\n",
      "Training Loss: 0.0312, Validation Loss: 0.0118\n",
      "Validation Results: \n",
      "Weighted Accuracy: 0.3998, Unweighted Accuracy: 0.4773\n",
      "Weighted F1-Score: 0.4714, Unweighted F1-Score: 0.3998,\n",
      "Test Results: \n",
      "Weighted Accuracy: 0.4512, Unweighted Accuracy: 0.4973\n",
      "Weighted F1-Score: 0.4935, Unweighted F1-Score: 0.4634,\n",
      "--------------------------------------------------\n",
      "\n",
      "\n"
     ]
    },
    {
     "output_type": "stream",
     "name": "stderr",
     "text": [
      "100%|██████████| 188/188 [00:09<00:00, 19.74it/s]\n",
      "100%|██████████| 6/6 [00:00<00:00,  6.97it/s]\n",
      "100%|██████████| 6/6 [00:00<00:00,  6.84it/s]\n"
     ]
    },
    {
     "output_type": "stream",
     "name": "stdout",
     "text": [
      "\n",
      "\n",
      "--------------------------------------------------\n",
      "Epoch  9\n",
      "Training Loss: 0.0295, Validation Loss: 0.0120\n",
      "Validation Results: \n",
      "Weighted Accuracy: 0.3850, Unweighted Accuracy: 0.4412\n",
      "Weighted F1-Score: 0.4383, Unweighted F1-Score: 0.3718,\n",
      "Test Results: \n",
      "Weighted Accuracy: 0.4733, Unweighted Accuracy: 0.4853\n",
      "Weighted F1-Score: 0.4855, Unweighted F1-Score: 0.4697,\n",
      "--------------------------------------------------\n",
      "\n",
      "\n"
     ]
    },
    {
     "output_type": "stream",
     "name": "stderr",
     "text": [
      "100%|██████████| 188/188 [00:09<00:00, 20.12it/s]\n",
      "100%|██████████| 6/6 [00:00<00:00,  6.95it/s]\n",
      "100%|██████████| 6/6 [00:00<00:00,  6.92it/s]\n"
     ]
    },
    {
     "output_type": "stream",
     "name": "stdout",
     "text": [
      "Saved model at epoch 10 with validation unweighted accuracy of 49.73%\n",
      "\n",
      "\n",
      "--------------------------------------------------\n",
      "Epoch  10\n",
      "Training Loss: 0.0279, Validation Loss: 0.0119\n",
      "Validation Results: \n",
      "Weighted Accuracy: 0.4082, Unweighted Accuracy: 0.4973\n",
      "Weighted F1-Score: 0.4903, Unweighted F1-Score: 0.4068,\n",
      "Test Results: \n",
      "Weighted Accuracy: 0.4641, Unweighted Accuracy: 0.4893\n",
      "Weighted F1-Score: 0.4916, Unweighted F1-Score: 0.4734,\n",
      "--------------------------------------------------\n",
      "\n",
      "\n"
     ]
    },
    {
     "output_type": "stream",
     "name": "stderr",
     "text": [
      "100%|██████████| 188/188 [00:09<00:00, 19.73it/s]\n",
      "100%|██████████| 6/6 [00:00<00:00,  6.98it/s]\n",
      "100%|██████████| 6/6 [00:00<00:00,  7.07it/s]\n"
     ]
    },
    {
     "output_type": "stream",
     "name": "stdout",
     "text": [
      "\n",
      "\n",
      "--------------------------------------------------\n",
      "Epoch  11\n",
      "Training Loss: 0.0261, Validation Loss: 0.0124\n",
      "Validation Results: \n",
      "Weighted Accuracy: 0.4011, Unweighted Accuracy: 0.4933\n",
      "Weighted F1-Score: 0.4838, Unweighted F1-Score: 0.4087,\n",
      "Test Results: \n",
      "Weighted Accuracy: 0.4275, Unweighted Accuracy: 0.5094\n",
      "Weighted F1-Score: 0.5050, Unweighted F1-Score: 0.4451,\n",
      "--------------------------------------------------\n",
      "\n",
      "\n"
     ]
    },
    {
     "output_type": "stream",
     "name": "stderr",
     "text": [
      "100%|██████████| 188/188 [00:09<00:00, 20.09it/s]\n",
      "100%|██████████| 6/6 [00:00<00:00,  6.92it/s]\n",
      "100%|██████████| 6/6 [00:00<00:00,  6.81it/s]\n"
     ]
    },
    {
     "output_type": "stream",
     "name": "stdout",
     "text": [
      "\n",
      "\n",
      "--------------------------------------------------\n",
      "Epoch  12\n",
      "Training Loss: 0.0250, Validation Loss: 0.0135\n",
      "Validation Results: \n",
      "Weighted Accuracy: 0.3946, Unweighted Accuracy: 0.4559\n",
      "Weighted F1-Score: 0.4516, Unweighted F1-Score: 0.3812,\n",
      "Test Results: \n",
      "Weighted Accuracy: 0.4610, Unweighted Accuracy: 0.4826\n",
      "Weighted F1-Score: 0.4732, Unweighted F1-Score: 0.4586,\n",
      "--------------------------------------------------\n",
      "\n",
      "\n"
     ]
    },
    {
     "output_type": "stream",
     "name": "stderr",
     "text": [
      "100%|██████████| 188/188 [00:09<00:00, 19.89it/s]\n",
      "100%|██████████| 6/6 [00:00<00:00,  7.02it/s]\n",
      "100%|██████████| 6/6 [00:00<00:00,  6.85it/s]\n"
     ]
    },
    {
     "output_type": "stream",
     "name": "stdout",
     "text": [
      "Epoch 00013: reducing learning rate of group 0 to 1.0000e-05.\n",
      "\n",
      "\n",
      "--------------------------------------------------\n",
      "Epoch  13\n",
      "Training Loss: 0.0234, Validation Loss: 0.0129\n",
      "Validation Results: \n",
      "Weighted Accuracy: 0.3880, Unweighted Accuracy: 0.4880\n",
      "Weighted F1-Score: 0.4784, Unweighted F1-Score: 0.3965,\n",
      "Test Results: \n",
      "Weighted Accuracy: 0.4240, Unweighted Accuracy: 0.4799\n",
      "Weighted F1-Score: 0.4808, Unweighted F1-Score: 0.4413,\n",
      "--------------------------------------------------\n",
      "\n",
      "\n"
     ]
    },
    {
     "output_type": "stream",
     "name": "stderr",
     "text": [
      "100%|██████████| 188/188 [00:09<00:00, 20.16it/s]\n",
      "100%|██████████| 6/6 [00:00<00:00,  7.06it/s]\n",
      "100%|██████████| 6/6 [00:00<00:00,  6.84it/s]\n"
     ]
    },
    {
     "output_type": "stream",
     "name": "stdout",
     "text": [
      "\n",
      "\n",
      "--------------------------------------------------\n",
      "Epoch  14\n",
      "Training Loss: 0.0194, Validation Loss: 0.0128\n",
      "Validation Results: \n",
      "Weighted Accuracy: 0.4010, Unweighted Accuracy: 0.4960\n",
      "Weighted F1-Score: 0.4881, Unweighted F1-Score: 0.4034,\n",
      "Test Results: \n",
      "Weighted Accuracy: 0.4498, Unweighted Accuracy: 0.4947\n",
      "Weighted F1-Score: 0.4953, Unweighted F1-Score: 0.4655,\n",
      "--------------------------------------------------\n",
      "\n",
      "\n"
     ]
    },
    {
     "output_type": "stream",
     "name": "stderr",
     "text": [
      "100%|██████████| 188/188 [00:09<00:00, 19.90it/s]\n",
      "100%|██████████| 6/6 [00:00<00:00,  7.12it/s]\n",
      "100%|██████████| 6/6 [00:00<00:00,  6.89it/s]\n"
     ]
    },
    {
     "output_type": "stream",
     "name": "stdout",
     "text": [
      "\n",
      "\n",
      "--------------------------------------------------\n",
      "Epoch  15\n",
      "Training Loss: 0.0186, Validation Loss: 0.0130\n",
      "Validation Results: \n",
      "Weighted Accuracy: 0.4088, Unweighted Accuracy: 0.4947\n",
      "Weighted F1-Score: 0.4888, Unweighted F1-Score: 0.4082,\n",
      "Test Results: \n",
      "Weighted Accuracy: 0.4619, Unweighted Accuracy: 0.4973\n",
      "Weighted F1-Score: 0.5001, Unweighted F1-Score: 0.4744,\n",
      "--------------------------------------------------\n",
      "\n",
      "\n"
     ]
    },
    {
     "output_type": "stream",
     "name": "stderr",
     "text": [
      "100%|██████████| 188/188 [00:09<00:00, 19.90it/s]\n",
      "100%|██████████| 6/6 [00:00<00:00,  7.15it/s]\n",
      "100%|██████████| 6/6 [00:00<00:00,  6.98it/s]\n"
     ]
    },
    {
     "output_type": "stream",
     "name": "stdout",
     "text": [
      "Saved model at epoch 16 with validation unweighted accuracy of 50.53%\n",
      "\n",
      "\n",
      "--------------------------------------------------\n",
      "Epoch  16\n",
      "Training Loss: 0.0182, Validation Loss: 0.0131\n",
      "Validation Results: \n",
      "Weighted Accuracy: 0.4159, Unweighted Accuracy: 0.5053\n",
      "Weighted F1-Score: 0.4984, Unweighted F1-Score: 0.4161,\n",
      "Test Results: \n",
      "Weighted Accuracy: 0.4619, Unweighted Accuracy: 0.4987\n",
      "Weighted F1-Score: 0.5010, Unweighted F1-Score: 0.4752,\n",
      "--------------------------------------------------\n",
      "\n",
      "\n"
     ]
    },
    {
     "output_type": "stream",
     "name": "stderr",
     "text": [
      "100%|██████████| 188/188 [00:09<00:00, 19.98it/s]\n",
      "100%|██████████| 6/6 [00:00<00:00,  7.22it/s]\n",
      "100%|██████████| 6/6 [00:00<00:00,  6.94it/s]\n"
     ]
    },
    {
     "output_type": "stream",
     "name": "stdout",
     "text": [
      "\n",
      "\n",
      "--------------------------------------------------\n",
      "Epoch  17\n",
      "Training Loss: 0.0178, Validation Loss: 0.0132\n",
      "Validation Results: \n",
      "Weighted Accuracy: 0.4143, Unweighted Accuracy: 0.5040\n",
      "Weighted F1-Score: 0.4988, Unweighted F1-Score: 0.4147,\n",
      "Test Results: \n",
      "Weighted Accuracy: 0.4675, Unweighted Accuracy: 0.5053\n",
      "Weighted F1-Score: 0.5076, Unweighted F1-Score: 0.4824,\n",
      "--------------------------------------------------\n",
      "\n",
      "\n"
     ]
    },
    {
     "output_type": "stream",
     "name": "stderr",
     "text": [
      "100%|██████████| 188/188 [00:09<00:00, 19.79it/s]\n",
      "100%|██████████| 6/6 [00:00<00:00,  6.92it/s]\n",
      "100%|██████████| 6/6 [00:00<00:00,  6.91it/s]\n"
     ]
    },
    {
     "output_type": "stream",
     "name": "stdout",
     "text": [
      "\n",
      "\n",
      "--------------------------------------------------\n",
      "Epoch  18\n",
      "Training Loss: 0.0176, Validation Loss: 0.0134\n",
      "Validation Results: \n",
      "Weighted Accuracy: 0.4078, Unweighted Accuracy: 0.5040\n",
      "Weighted F1-Score: 0.4967, Unweighted F1-Score: 0.4114,\n",
      "Test Results: \n",
      "Weighted Accuracy: 0.4574, Unweighted Accuracy: 0.4947\n",
      "Weighted F1-Score: 0.4977, Unweighted F1-Score: 0.4754,\n",
      "--------------------------------------------------\n",
      "\n",
      "\n"
     ]
    },
    {
     "output_type": "stream",
     "name": "stderr",
     "text": [
      "100%|██████████| 188/188 [00:09<00:00, 19.65it/s]\n",
      "100%|██████████| 6/6 [00:00<00:00,  6.97it/s]\n",
      "100%|██████████| 6/6 [00:00<00:00,  6.94it/s]\n"
     ]
    },
    {
     "output_type": "stream",
     "name": "stdout",
     "text": [
      "Epoch 00019: reducing learning rate of group 0 to 1.0000e-06.\n",
      "\n",
      "\n",
      "--------------------------------------------------\n",
      "Epoch  19\n",
      "Training Loss: 0.0172, Validation Loss: 0.0136\n",
      "Validation Results: \n",
      "Weighted Accuracy: 0.4070, Unweighted Accuracy: 0.4933\n",
      "Weighted F1-Score: 0.4872, Unweighted F1-Score: 0.4063,\n",
      "Test Results: \n",
      "Weighted Accuracy: 0.4669, Unweighted Accuracy: 0.4987\n",
      "Weighted F1-Score: 0.5014, Unweighted F1-Score: 0.4786,\n",
      "--------------------------------------------------\n",
      "\n",
      "\n"
     ]
    },
    {
     "output_type": "stream",
     "name": "stderr",
     "text": [
      "100%|██████████| 188/188 [00:09<00:00, 19.75it/s]\n",
      "100%|██████████| 6/6 [00:00<00:00,  7.10it/s]\n",
      "100%|██████████| 6/6 [00:00<00:00,  7.02it/s]\n"
     ]
    },
    {
     "output_type": "stream",
     "name": "stdout",
     "text": [
      "\n",
      "\n",
      "--------------------------------------------------\n",
      "Epoch  20\n",
      "Training Loss: 0.0167, Validation Loss: 0.0135\n",
      "Validation Results: \n",
      "Weighted Accuracy: 0.4076, Unweighted Accuracy: 0.4960\n",
      "Weighted F1-Score: 0.4900, Unweighted F1-Score: 0.4078,\n",
      "Test Results: \n",
      "Weighted Accuracy: 0.4640, Unweighted Accuracy: 0.4973\n",
      "Weighted F1-Score: 0.5002, Unweighted F1-Score: 0.4772,\n",
      "--------------------------------------------------\n",
      "\n",
      "\n"
     ]
    },
    {
     "output_type": "stream",
     "name": "stderr",
     "text": [
      "100%|██████████| 188/188 [00:09<00:00, 19.79it/s]\n",
      "100%|██████████| 6/6 [00:00<00:00,  7.07it/s]\n",
      "100%|██████████| 6/6 [00:00<00:00,  7.01it/s]\n"
     ]
    },
    {
     "output_type": "stream",
     "name": "stdout",
     "text": [
      "\n",
      "\n",
      "--------------------------------------------------\n",
      "Epoch  21\n",
      "Training Loss: 0.0166, Validation Loss: 0.0135\n",
      "Validation Results: \n",
      "Weighted Accuracy: 0.4109, Unweighted Accuracy: 0.4987\n",
      "Weighted F1-Score: 0.4930, Unweighted F1-Score: 0.4112,\n",
      "Test Results: \n",
      "Weighted Accuracy: 0.4655, Unweighted Accuracy: 0.4987\n",
      "Weighted F1-Score: 0.5014, Unweighted F1-Score: 0.4783,\n",
      "--------------------------------------------------\n",
      "\n",
      "\n"
     ]
    },
    {
     "output_type": "stream",
     "name": "stderr",
     "text": [
      "100%|██████████| 188/188 [00:09<00:00, 19.59it/s]\n",
      "100%|██████████| 6/6 [00:00<00:00,  7.17it/s]\n",
      "100%|██████████| 6/6 [00:00<00:00,  6.97it/s]\n"
     ]
    },
    {
     "output_type": "stream",
     "name": "stdout",
     "text": [
      "\n",
      "\n",
      "--------------------------------------------------\n",
      "Epoch  22\n",
      "Training Loss: 0.0166, Validation Loss: 0.0135\n",
      "Validation Results: \n",
      "Weighted Accuracy: 0.4116, Unweighted Accuracy: 0.5000\n",
      "Weighted F1-Score: 0.4943, Unweighted F1-Score: 0.4121,\n",
      "Test Results: \n",
      "Weighted Accuracy: 0.4679, Unweighted Accuracy: 0.5027\n",
      "Weighted F1-Score: 0.5054, Unweighted F1-Score: 0.4808,\n",
      "--------------------------------------------------\n",
      "\n",
      "\n"
     ]
    },
    {
     "output_type": "stream",
     "name": "stderr",
     "text": [
      "100%|██████████| 188/188 [00:09<00:00, 20.28it/s]\n",
      "100%|██████████| 6/6 [00:00<00:00,  6.94it/s]\n",
      "100%|██████████| 6/6 [00:00<00:00,  6.84it/s]\n"
     ]
    },
    {
     "output_type": "stream",
     "name": "stdout",
     "text": [
      "\n",
      "\n",
      "--------------------------------------------------\n",
      "Epoch  23\n",
      "Training Loss: 0.0166, Validation Loss: 0.0136\n",
      "Validation Results: \n",
      "Weighted Accuracy: 0.4116, Unweighted Accuracy: 0.5000\n",
      "Weighted F1-Score: 0.4942, Unweighted F1-Score: 0.4121,\n",
      "Test Results: \n",
      "Weighted Accuracy: 0.4679, Unweighted Accuracy: 0.5027\n",
      "Weighted F1-Score: 0.5055, Unweighted F1-Score: 0.4811,\n",
      "--------------------------------------------------\n",
      "\n",
      "\n"
     ]
    },
    {
     "output_type": "stream",
     "name": "stderr",
     "text": [
      "100%|██████████| 188/188 [00:09<00:00, 19.67it/s]\n",
      "100%|██████████| 6/6 [00:00<00:00,  6.92it/s]\n",
      "100%|██████████| 6/6 [00:00<00:00,  6.79it/s]\n"
     ]
    },
    {
     "output_type": "stream",
     "name": "stdout",
     "text": [
      "\n",
      "\n",
      "--------------------------------------------------\n",
      "Epoch  24\n",
      "Training Loss: 0.0165, Validation Loss: 0.0136\n",
      "Validation Results: \n",
      "Weighted Accuracy: 0.4095, Unweighted Accuracy: 0.4973\n",
      "Weighted F1-Score: 0.4915, Unweighted F1-Score: 0.4101,\n",
      "Test Results: \n",
      "Weighted Accuracy: 0.4641, Unweighted Accuracy: 0.5000\n",
      "Weighted F1-Score: 0.5029, Unweighted F1-Score: 0.4777,\n",
      "--------------------------------------------------\n",
      "\n",
      "\n"
     ]
    },
    {
     "output_type": "stream",
     "name": "stderr",
     "text": [
      "100%|██████████| 188/188 [00:09<00:00, 20.18it/s]\n",
      "100%|██████████| 6/6 [00:00<00:00,  7.13it/s]\n",
      "100%|██████████| 6/6 [00:00<00:00,  6.85it/s]\n"
     ]
    },
    {
     "output_type": "stream",
     "name": "stdout",
     "text": [
      "Epoch 00025: reducing learning rate of group 0 to 1.0000e-07.\n",
      "\n",
      "\n",
      "--------------------------------------------------\n",
      "Epoch  25\n",
      "Training Loss: 0.0165, Validation Loss: 0.0136\n",
      "Validation Results: \n",
      "Weighted Accuracy: 0.4103, Unweighted Accuracy: 0.4987\n",
      "Weighted F1-Score: 0.4929, Unweighted F1-Score: 0.4106,\n",
      "Test Results: \n",
      "Weighted Accuracy: 0.4658, Unweighted Accuracy: 0.5000\n",
      "Weighted F1-Score: 0.5028, Unweighted F1-Score: 0.4791,\n",
      "--------------------------------------------------\n",
      "\n",
      "\n"
     ]
    },
    {
     "output_type": "stream",
     "name": "stderr",
     "text": [
      "100%|██████████| 188/188 [00:09<00:00, 20.02it/s]\n",
      "100%|██████████| 6/6 [00:00<00:00,  7.01it/s]\n",
      "100%|██████████| 6/6 [00:00<00:00,  7.09it/s]\n"
     ]
    },
    {
     "output_type": "stream",
     "name": "stdout",
     "text": [
      "\n",
      "\n",
      "--------------------------------------------------\n",
      "Epoch  26\n",
      "Training Loss: 0.0165, Validation Loss: 0.0136\n",
      "Validation Results: \n",
      "Weighted Accuracy: 0.4103, Unweighted Accuracy: 0.4987\n",
      "Weighted F1-Score: 0.4929, Unweighted F1-Score: 0.4106,\n",
      "Test Results: \n",
      "Weighted Accuracy: 0.4671, Unweighted Accuracy: 0.5013\n",
      "Weighted F1-Score: 0.5042, Unweighted F1-Score: 0.4803,\n",
      "--------------------------------------------------\n",
      "\n",
      "\n"
     ]
    },
    {
     "output_type": "stream",
     "name": "stderr",
     "text": [
      "100%|██████████| 188/188 [00:09<00:00, 19.74it/s]\n",
      "100%|██████████| 6/6 [00:00<00:00,  6.93it/s]\n",
      "100%|██████████| 6/6 [00:00<00:00,  7.04it/s]\n"
     ]
    },
    {
     "output_type": "stream",
     "name": "stdout",
     "text": [
      "\n",
      "\n",
      "--------------------------------------------------\n",
      "Epoch  27\n",
      "Training Loss: 0.0164, Validation Loss: 0.0136\n",
      "Validation Results: \n",
      "Weighted Accuracy: 0.4103, Unweighted Accuracy: 0.4987\n",
      "Weighted F1-Score: 0.4929, Unweighted F1-Score: 0.4106,\n",
      "Test Results: \n",
      "Weighted Accuracy: 0.4671, Unweighted Accuracy: 0.5013\n",
      "Weighted F1-Score: 0.5042, Unweighted F1-Score: 0.4803,\n",
      "--------------------------------------------------\n",
      "\n",
      "\n"
     ]
    },
    {
     "output_type": "stream",
     "name": "stderr",
     "text": [
      "100%|██████████| 188/188 [00:09<00:00, 19.93it/s]\n",
      "100%|██████████| 6/6 [00:00<00:00,  7.05it/s]\n",
      "100%|██████████| 6/6 [00:00<00:00,  6.99it/s]\n"
     ]
    },
    {
     "output_type": "stream",
     "name": "stdout",
     "text": [
      "\n",
      "\n",
      "--------------------------------------------------\n",
      "Epoch  28\n",
      "Training Loss: 0.0164, Validation Loss: 0.0136\n",
      "Validation Results: \n",
      "Weighted Accuracy: 0.4103, Unweighted Accuracy: 0.4987\n",
      "Weighted F1-Score: 0.4929, Unweighted F1-Score: 0.4106,\n",
      "Test Results: \n",
      "Weighted Accuracy: 0.4671, Unweighted Accuracy: 0.5013\n",
      "Weighted F1-Score: 0.5042, Unweighted F1-Score: 0.4803,\n",
      "--------------------------------------------------\n",
      "\n",
      "\n"
     ]
    },
    {
     "output_type": "stream",
     "name": "stderr",
     "text": [
      "100%|██████████| 188/188 [00:09<00:00, 19.76it/s]\n",
      "100%|██████████| 6/6 [00:00<00:00,  7.06it/s]\n",
      "100%|██████████| 6/6 [00:00<00:00,  6.98it/s]\n"
     ]
    },
    {
     "output_type": "stream",
     "name": "stdout",
     "text": [
      "\n",
      "\n",
      "--------------------------------------------------\n",
      "Epoch  29\n",
      "Training Loss: 0.0164, Validation Loss: 0.0136\n",
      "Validation Results: \n",
      "Weighted Accuracy: 0.4116, Unweighted Accuracy: 0.5000\n",
      "Weighted F1-Score: 0.4943, Unweighted F1-Score: 0.4121,\n",
      "Test Results: \n",
      "Weighted Accuracy: 0.4671, Unweighted Accuracy: 0.5013\n",
      "Weighted F1-Score: 0.5042, Unweighted F1-Score: 0.4803,\n",
      "--------------------------------------------------\n",
      "\n",
      "\n"
     ]
    },
    {
     "output_type": "stream",
     "name": "stderr",
     "text": [
      "100%|██████████| 188/188 [00:09<00:00, 19.96it/s]\n",
      "100%|██████████| 6/6 [00:00<00:00,  7.09it/s]\n",
      "100%|██████████| 6/6 [00:00<00:00,  7.07it/s]\n"
     ]
    },
    {
     "output_type": "stream",
     "name": "stdout",
     "text": [
      "\n",
      "\n",
      "--------------------------------------------------\n",
      "Epoch  30\n",
      "Training Loss: 0.0164, Validation Loss: 0.0136\n",
      "Validation Results: \n",
      "Weighted Accuracy: 0.4116, Unweighted Accuracy: 0.5000\n",
      "Weighted F1-Score: 0.4943, Unweighted F1-Score: 0.4121,\n",
      "Test Results: \n",
      "Weighted Accuracy: 0.4671, Unweighted Accuracy: 0.5013\n",
      "Weighted F1-Score: 0.5042, Unweighted F1-Score: 0.4803,\n",
      "--------------------------------------------------\n",
      "\n",
      "\n",
      "Early stopped. No improvement in validation loss for 10 consecutive epoches.\n"
     ]
    },
    {
     "output_type": "stream",
     "name": "stderr",
     "text": [
      "100%|██████████| 188/188 [00:10<00:00, 18.23it/s]\n",
      "100%|██████████| 6/6 [00:00<00:00,  7.13it/s]\n",
      "100%|██████████| 6/6 [00:00<00:00,  7.14it/s]\n"
     ]
    },
    {
     "output_type": "stream",
     "name": "stdout",
     "text": [
      "Saved model at epoch 1 with validation unweighted accuracy of 34.76%\n",
      "\n",
      "\n",
      "--------------------------------------------------\n",
      "Epoch  1\n",
      "Training Loss: 0.0547, Validation Loss: 0.0131\n",
      "Validation Results: \n",
      "Weighted Accuracy: 0.2393, Unweighted Accuracy: 0.3476\n",
      "Weighted F1-Score: 0.2992, Unweighted F1-Score: 0.2221,\n",
      "Test Results: \n",
      "Weighted Accuracy: 0.2456, Unweighted Accuracy: 0.3663\n",
      "Weighted F1-Score: 0.3089, Unweighted F1-Score: 0.2221,\n",
      "--------------------------------------------------\n",
      "\n",
      "\n"
     ]
    },
    {
     "output_type": "stream",
     "name": "stderr",
     "text": [
      "100%|██████████| 188/188 [00:09<00:00, 19.55it/s]\n",
      "100%|██████████| 6/6 [00:00<00:00,  7.01it/s]\n",
      "100%|██████████| 6/6 [00:00<00:00,  7.02it/s]\n"
     ]
    },
    {
     "output_type": "stream",
     "name": "stdout",
     "text": [
      "Saved model at epoch 2 with validation unweighted accuracy of 41.71%\n",
      "\n",
      "\n",
      "--------------------------------------------------\n",
      "Epoch  2\n",
      "Training Loss: 0.0468, Validation Loss: 0.0119\n",
      "Validation Results: \n",
      "Weighted Accuracy: 0.3053, Unweighted Accuracy: 0.4171\n",
      "Weighted F1-Score: 0.3864, Unweighted F1-Score: 0.2983,\n",
      "Test Results: \n",
      "Weighted Accuracy: 0.2960, Unweighted Accuracy: 0.4091\n",
      "Weighted F1-Score: 0.3675, Unweighted F1-Score: 0.2773,\n",
      "--------------------------------------------------\n",
      "\n",
      "\n"
     ]
    },
    {
     "output_type": "stream",
     "name": "stderr",
     "text": [
      "100%|██████████| 188/188 [00:09<00:00, 19.30it/s]\n",
      "100%|██████████| 6/6 [00:00<00:00,  7.05it/s]\n",
      "100%|██████████| 6/6 [00:00<00:00,  6.95it/s]\n"
     ]
    },
    {
     "output_type": "stream",
     "name": "stdout",
     "text": [
      "Saved model at epoch 3 with validation unweighted accuracy of 44.12%\n",
      "\n",
      "\n",
      "--------------------------------------------------\n",
      "Epoch  3\n",
      "Training Loss: 0.0424, Validation Loss: 0.0117\n",
      "Validation Results: \n",
      "Weighted Accuracy: 0.3599, Unweighted Accuracy: 0.4412\n",
      "Weighted F1-Score: 0.4132, Unweighted F1-Score: 0.3284,\n",
      "Test Results: \n",
      "Weighted Accuracy: 0.3673, Unweighted Accuracy: 0.4572\n",
      "Weighted F1-Score: 0.4359, Unweighted F1-Score: 0.3408,\n",
      "--------------------------------------------------\n",
      "\n",
      "\n"
     ]
    },
    {
     "output_type": "stream",
     "name": "stderr",
     "text": [
      "100%|██████████| 188/188 [00:09<00:00, 19.61it/s]\n",
      "100%|██████████| 6/6 [00:00<00:00,  7.16it/s]\n",
      "100%|██████████| 6/6 [00:00<00:00,  6.95it/s]\n"
     ]
    },
    {
     "output_type": "stream",
     "name": "stdout",
     "text": [
      "\n",
      "\n",
      "--------------------------------------------------\n",
      "Epoch  4\n",
      "Training Loss: 0.0395, Validation Loss: 0.0116\n",
      "Validation Results: \n",
      "Weighted Accuracy: 0.3558, Unweighted Accuracy: 0.4385\n",
      "Weighted F1-Score: 0.4218, Unweighted F1-Score: 0.3383,\n",
      "Test Results: \n",
      "Weighted Accuracy: 0.3812, Unweighted Accuracy: 0.4532\n",
      "Weighted F1-Score: 0.4433, Unweighted F1-Score: 0.3591,\n",
      "--------------------------------------------------\n",
      "\n",
      "\n"
     ]
    },
    {
     "output_type": "stream",
     "name": "stderr",
     "text": [
      "100%|██████████| 188/188 [00:09<00:00, 19.42it/s]\n",
      "100%|██████████| 6/6 [00:00<00:00,  7.23it/s]\n",
      "100%|██████████| 6/6 [00:00<00:00,  7.00it/s]\n"
     ]
    },
    {
     "output_type": "stream",
     "name": "stdout",
     "text": [
      "Saved model at epoch 5 with validation unweighted accuracy of 49.87%\n",
      "\n",
      "\n",
      "--------------------------------------------------\n",
      "Epoch  5\n",
      "Training Loss: 0.0370, Validation Loss: 0.0108\n",
      "Validation Results: \n",
      "Weighted Accuracy: 0.4174, Unweighted Accuracy: 0.4987\n",
      "Weighted F1-Score: 0.4818, Unweighted F1-Score: 0.4261,\n",
      "Test Results: \n",
      "Weighted Accuracy: 0.3969, Unweighted Accuracy: 0.4773\n",
      "Weighted F1-Score: 0.4598, Unweighted F1-Score: 0.3888,\n",
      "--------------------------------------------------\n",
      "\n",
      "\n"
     ]
    },
    {
     "output_type": "stream",
     "name": "stderr",
     "text": [
      "100%|██████████| 188/188 [00:09<00:00, 19.49it/s]\n",
      "100%|██████████| 6/6 [00:00<00:00,  6.95it/s]\n",
      "100%|██████████| 6/6 [00:00<00:00,  6.93it/s]\n"
     ]
    },
    {
     "output_type": "stream",
     "name": "stdout",
     "text": [
      "\n",
      "\n",
      "--------------------------------------------------\n",
      "Epoch  6\n",
      "Training Loss: 0.0352, Validation Loss: 0.0109\n",
      "Validation Results: \n",
      "Weighted Accuracy: 0.4332, Unweighted Accuracy: 0.4973\n",
      "Weighted F1-Score: 0.4796, Unweighted F1-Score: 0.4381,\n",
      "Test Results: \n",
      "Weighted Accuracy: 0.4298, Unweighted Accuracy: 0.5053\n",
      "Weighted F1-Score: 0.4911, Unweighted F1-Score: 0.4228,\n",
      "--------------------------------------------------\n",
      "\n",
      "\n"
     ]
    },
    {
     "output_type": "stream",
     "name": "stderr",
     "text": [
      "100%|██████████| 188/188 [00:09<00:00, 19.61it/s]\n",
      "100%|██████████| 6/6 [00:00<00:00,  6.98it/s]\n",
      "100%|██████████| 6/6 [00:00<00:00,  6.94it/s]\n"
     ]
    },
    {
     "output_type": "stream",
     "name": "stdout",
     "text": [
      "\n",
      "\n",
      "--------------------------------------------------\n",
      "Epoch  7\n",
      "Training Loss: 0.0331, Validation Loss: 0.0110\n",
      "Validation Results: \n",
      "Weighted Accuracy: 0.4391, Unweighted Accuracy: 0.4973\n",
      "Weighted F1-Score: 0.4862, Unweighted F1-Score: 0.4559,\n",
      "Test Results: \n",
      "Weighted Accuracy: 0.4381, Unweighted Accuracy: 0.4973\n",
      "Weighted F1-Score: 0.4854, Unweighted F1-Score: 0.4309,\n",
      "--------------------------------------------------\n",
      "\n",
      "\n"
     ]
    },
    {
     "output_type": "stream",
     "name": "stderr",
     "text": [
      "100%|██████████| 188/188 [00:09<00:00, 19.38it/s]\n",
      "100%|██████████| 6/6 [00:00<00:00,  7.04it/s]\n",
      "100%|██████████| 6/6 [00:00<00:00,  6.88it/s]\n"
     ]
    },
    {
     "output_type": "stream",
     "name": "stdout",
     "text": [
      "\n",
      "\n",
      "--------------------------------------------------\n",
      "Epoch  8\n",
      "Training Loss: 0.0316, Validation Loss: 0.0110\n",
      "Validation Results: \n",
      "Weighted Accuracy: 0.4480, Unweighted Accuracy: 0.4893\n",
      "Weighted F1-Score: 0.4780, Unweighted F1-Score: 0.4503,\n",
      "Test Results: \n",
      "Weighted Accuracy: 0.4294, Unweighted Accuracy: 0.4906\n",
      "Weighted F1-Score: 0.4859, Unweighted F1-Score: 0.4188,\n",
      "--------------------------------------------------\n",
      "\n",
      "\n"
     ]
    },
    {
     "output_type": "stream",
     "name": "stderr",
     "text": [
      "100%|██████████| 188/188 [00:09<00:00, 19.69it/s]\n",
      "100%|██████████| 6/6 [00:00<00:00,  7.01it/s]\n",
      "100%|██████████| 6/6 [00:00<00:00,  6.89it/s]\n"
     ]
    },
    {
     "output_type": "stream",
     "name": "stdout",
     "text": [
      "\n",
      "\n",
      "--------------------------------------------------\n",
      "Epoch  9\n",
      "Training Loss: 0.0299, Validation Loss: 0.0112\n",
      "Validation Results: \n",
      "Weighted Accuracy: 0.4498, Unweighted Accuracy: 0.4866\n",
      "Weighted F1-Score: 0.4751, Unweighted F1-Score: 0.4519,\n",
      "Test Results: \n",
      "Weighted Accuracy: 0.4734, Unweighted Accuracy: 0.5147\n",
      "Weighted F1-Score: 0.5121, Unweighted F1-Score: 0.4645,\n",
      "--------------------------------------------------\n",
      "\n",
      "\n"
     ]
    },
    {
     "output_type": "stream",
     "name": "stderr",
     "text": [
      "100%|██████████| 188/188 [00:09<00:00, 19.66it/s]\n",
      "100%|██████████| 6/6 [00:00<00:00,  7.02it/s]\n",
      "100%|██████████| 6/6 [00:00<00:00,  7.06it/s]\n"
     ]
    },
    {
     "output_type": "stream",
     "name": "stdout",
     "text": [
      "\n",
      "\n",
      "--------------------------------------------------\n",
      "Epoch  10\n",
      "Training Loss: 0.0285, Validation Loss: 0.0114\n",
      "Validation Results: \n",
      "Weighted Accuracy: 0.4303, Unweighted Accuracy: 0.4893\n",
      "Weighted F1-Score: 0.4838, Unweighted F1-Score: 0.4432,\n",
      "Test Results: \n",
      "Weighted Accuracy: 0.4343, Unweighted Accuracy: 0.4960\n",
      "Weighted F1-Score: 0.4894, Unweighted F1-Score: 0.4358,\n",
      "--------------------------------------------------\n",
      "\n",
      "\n"
     ]
    },
    {
     "output_type": "stream",
     "name": "stderr",
     "text": [
      "100%|██████████| 188/188 [00:09<00:00, 19.22it/s]\n",
      "100%|██████████| 6/6 [00:00<00:00,  7.26it/s]\n",
      "100%|██████████| 6/6 [00:00<00:00,  7.21it/s]\n"
     ]
    },
    {
     "output_type": "stream",
     "name": "stdout",
     "text": [
      "Epoch 00011: reducing learning rate of group 0 to 1.0000e-05.\n",
      "\n",
      "\n",
      "--------------------------------------------------\n",
      "Epoch  11\n",
      "Training Loss: 0.0272, Validation Loss: 0.0116\n",
      "Validation Results: \n",
      "Weighted Accuracy: 0.4433, Unweighted Accuracy: 0.4840\n",
      "Weighted F1-Score: 0.4734, Unweighted F1-Score: 0.4570,\n",
      "Test Results: \n",
      "Weighted Accuracy: 0.4701, Unweighted Accuracy: 0.5120\n",
      "Weighted F1-Score: 0.5087, Unweighted F1-Score: 0.4655,\n",
      "--------------------------------------------------\n",
      "\n",
      "\n"
     ]
    },
    {
     "output_type": "stream",
     "name": "stderr",
     "text": [
      "100%|██████████| 188/188 [00:09<00:00, 19.33it/s]\n",
      "100%|██████████| 6/6 [00:00<00:00,  7.07it/s]\n",
      "100%|██████████| 6/6 [00:00<00:00,  7.03it/s]\n"
     ]
    },
    {
     "output_type": "stream",
     "name": "stdout",
     "text": [
      "\n",
      "\n",
      "--------------------------------------------------\n",
      "Epoch  12\n",
      "Training Loss: 0.0229, Validation Loss: 0.0116\n",
      "Validation Results: \n",
      "Weighted Accuracy: 0.4609, Unweighted Accuracy: 0.4987\n",
      "Weighted F1-Score: 0.4933, Unweighted F1-Score: 0.4747,\n",
      "Test Results: \n",
      "Weighted Accuracy: 0.4807, Unweighted Accuracy: 0.5187\n",
      "Weighted F1-Score: 0.5176, Unweighted F1-Score: 0.4747,\n",
      "--------------------------------------------------\n",
      "\n",
      "\n"
     ]
    },
    {
     "output_type": "stream",
     "name": "stderr",
     "text": [
      "100%|██████████| 188/188 [00:09<00:00, 19.64it/s]\n",
      "100%|██████████| 6/6 [00:00<00:00,  7.24it/s]\n",
      "100%|██████████| 6/6 [00:00<00:00,  6.94it/s]\n"
     ]
    },
    {
     "output_type": "stream",
     "name": "stdout",
     "text": [
      "\n",
      "\n",
      "--------------------------------------------------\n",
      "Epoch  13\n",
      "Training Loss: 0.0222, Validation Loss: 0.0117\n",
      "Validation Results: \n",
      "Weighted Accuracy: 0.4450, Unweighted Accuracy: 0.4906\n",
      "Weighted F1-Score: 0.4847, Unweighted F1-Score: 0.4598,\n",
      "Test Results: \n",
      "Weighted Accuracy: 0.4563, Unweighted Accuracy: 0.5201\n",
      "Weighted F1-Score: 0.5195, Unweighted F1-Score: 0.4575,\n",
      "--------------------------------------------------\n",
      "\n",
      "\n"
     ]
    },
    {
     "output_type": "stream",
     "name": "stderr",
     "text": [
      "100%|██████████| 188/188 [00:09<00:00, 19.44it/s]\n",
      "100%|██████████| 6/6 [00:00<00:00,  7.18it/s]\n",
      "100%|██████████| 6/6 [00:00<00:00,  6.93it/s]\n"
     ]
    },
    {
     "output_type": "stream",
     "name": "stdout",
     "text": [
      "\n",
      "\n",
      "--------------------------------------------------\n",
      "Epoch  14\n",
      "Training Loss: 0.0217, Validation Loss: 0.0118\n",
      "Validation Results: \n",
      "Weighted Accuracy: 0.4433, Unweighted Accuracy: 0.4880\n",
      "Weighted F1-Score: 0.4825, Unweighted F1-Score: 0.4536,\n",
      "Test Results: \n",
      "Weighted Accuracy: 0.4604, Unweighted Accuracy: 0.5201\n",
      "Weighted F1-Score: 0.5185, Unweighted F1-Score: 0.4583,\n",
      "--------------------------------------------------\n",
      "\n",
      "\n"
     ]
    },
    {
     "output_type": "stream",
     "name": "stderr",
     "text": [
      "100%|██████████| 188/188 [00:09<00:00, 19.61it/s]\n",
      "100%|██████████| 6/6 [00:00<00:00,  7.14it/s]\n",
      "100%|██████████| 6/6 [00:00<00:00,  7.21it/s]\n"
     ]
    },
    {
     "output_type": "stream",
     "name": "stdout",
     "text": [
      "\n",
      "\n",
      "--------------------------------------------------\n",
      "Epoch  15\n",
      "Training Loss: 0.0214, Validation Loss: 0.0119\n",
      "Validation Results: \n",
      "Weighted Accuracy: 0.4392, Unweighted Accuracy: 0.4853\n",
      "Weighted F1-Score: 0.4809, Unweighted F1-Score: 0.4500,\n",
      "Test Results: \n",
      "Weighted Accuracy: 0.4575, Unweighted Accuracy: 0.5174\n",
      "Weighted F1-Score: 0.5168, Unweighted F1-Score: 0.4576,\n",
      "--------------------------------------------------\n",
      "\n",
      "\n"
     ]
    },
    {
     "output_type": "stream",
     "name": "stderr",
     "text": [
      "100%|██████████| 188/188 [00:09<00:00, 19.41it/s]\n",
      "100%|██████████| 6/6 [00:00<00:00,  6.94it/s]\n",
      "100%|██████████| 6/6 [00:00<00:00,  6.43it/s]\n"
     ]
    },
    {
     "output_type": "stream",
     "name": "stdout",
     "text": [
      "\n",
      "\n",
      "--------------------------------------------------\n",
      "Epoch  16\n",
      "Training Loss: 0.0210, Validation Loss: 0.0120\n",
      "Validation Results: \n",
      "Weighted Accuracy: 0.4442, Unweighted Accuracy: 0.4920\n",
      "Weighted F1-Score: 0.4863, Unweighted F1-Score: 0.4593,\n",
      "Test Results: \n",
      "Weighted Accuracy: 0.4618, Unweighted Accuracy: 0.5254\n",
      "Weighted F1-Score: 0.5234, Unweighted F1-Score: 0.4622,\n",
      "--------------------------------------------------\n",
      "\n",
      "\n"
     ]
    },
    {
     "output_type": "stream",
     "name": "stderr",
     "text": [
      "100%|██████████| 188/188 [00:09<00:00, 19.59it/s]\n",
      "100%|██████████| 6/6 [00:00<00:00,  7.06it/s]\n",
      "100%|██████████| 6/6 [00:00<00:00,  7.03it/s]\n"
     ]
    },
    {
     "output_type": "stream",
     "name": "stdout",
     "text": [
      "Epoch 00017: reducing learning rate of group 0 to 1.0000e-06.\n",
      "\n",
      "\n",
      "--------------------------------------------------\n",
      "Epoch  17\n",
      "Training Loss: 0.0206, Validation Loss: 0.0122\n",
      "Validation Results: \n",
      "Weighted Accuracy: 0.4384, Unweighted Accuracy: 0.4813\n",
      "Weighted F1-Score: 0.4758, Unweighted F1-Score: 0.4481,\n",
      "Test Results: \n",
      "Weighted Accuracy: 0.4573, Unweighted Accuracy: 0.5187\n",
      "Weighted F1-Score: 0.5181, Unweighted F1-Score: 0.4576,\n",
      "--------------------------------------------------\n",
      "\n",
      "\n"
     ]
    },
    {
     "output_type": "stream",
     "name": "stderr",
     "text": [
      "100%|██████████| 188/188 [00:09<00:00, 19.44it/s]\n",
      "100%|██████████| 6/6 [00:00<00:00,  7.10it/s]\n",
      "100%|██████████| 6/6 [00:00<00:00,  6.82it/s]\n"
     ]
    },
    {
     "output_type": "stream",
     "name": "stdout",
     "text": [
      "\n",
      "\n",
      "--------------------------------------------------\n",
      "Epoch  18\n",
      "Training Loss: 0.0202, Validation Loss: 0.0121\n",
      "Validation Results: \n",
      "Weighted Accuracy: 0.4430, Unweighted Accuracy: 0.4866\n",
      "Weighted F1-Score: 0.4810, Unweighted F1-Score: 0.4529,\n",
      "Test Results: \n",
      "Weighted Accuracy: 0.4582, Unweighted Accuracy: 0.5201\n",
      "Weighted F1-Score: 0.5191, Unweighted F1-Score: 0.4574,\n",
      "--------------------------------------------------\n",
      "\n",
      "\n"
     ]
    },
    {
     "output_type": "stream",
     "name": "stderr",
     "text": [
      "100%|██████████| 188/188 [00:09<00:00, 19.66it/s]\n",
      "100%|██████████| 6/6 [00:00<00:00,  7.02it/s]\n",
      "100%|██████████| 6/6 [00:00<00:00,  7.20it/s]\n"
     ]
    },
    {
     "output_type": "stream",
     "name": "stdout",
     "text": [
      "\n",
      "\n",
      "--------------------------------------------------\n",
      "Epoch  19\n",
      "Training Loss: 0.0200, Validation Loss: 0.0121\n",
      "Validation Results: \n",
      "Weighted Accuracy: 0.4423, Unweighted Accuracy: 0.4866\n",
      "Weighted F1-Score: 0.4812, Unweighted F1-Score: 0.4530,\n",
      "Test Results: \n",
      "Weighted Accuracy: 0.4592, Unweighted Accuracy: 0.5201\n",
      "Weighted F1-Score: 0.5190, Unweighted F1-Score: 0.4584,\n",
      "--------------------------------------------------\n",
      "\n",
      "\n"
     ]
    },
    {
     "output_type": "stream",
     "name": "stderr",
     "text": [
      "100%|██████████| 188/188 [00:09<00:00, 19.12it/s]\n",
      "100%|██████████| 6/6 [00:00<00:00,  6.99it/s]\n",
      "100%|██████████| 6/6 [00:00<00:00,  6.90it/s]\n"
     ]
    },
    {
     "output_type": "stream",
     "name": "stdout",
     "text": [
      "\n",
      "\n",
      "--------------------------------------------------\n",
      "Epoch  20\n",
      "Training Loss: 0.0200, Validation Loss: 0.0121\n",
      "Validation Results: \n",
      "Weighted Accuracy: 0.4422, Unweighted Accuracy: 0.4866\n",
      "Weighted F1-Score: 0.4812, Unweighted F1-Score: 0.4529,\n",
      "Test Results: \n",
      "Weighted Accuracy: 0.4622, Unweighted Accuracy: 0.5227\n",
      "Weighted F1-Score: 0.5213, Unweighted F1-Score: 0.4606,\n",
      "--------------------------------------------------\n",
      "\n",
      "\n"
     ]
    },
    {
     "output_type": "stream",
     "name": "stderr",
     "text": [
      "100%|██████████| 188/188 [00:09<00:00, 19.54it/s]\n",
      "100%|██████████| 6/6 [00:00<00:00,  7.04it/s]\n",
      "100%|██████████| 6/6 [00:00<00:00,  6.86it/s]\n"
     ]
    },
    {
     "output_type": "stream",
     "name": "stdout",
     "text": [
      "\n",
      "\n",
      "--------------------------------------------------\n",
      "Epoch  21\n",
      "Training Loss: 0.0199, Validation Loss: 0.0121\n",
      "Validation Results: \n",
      "Weighted Accuracy: 0.4430, Unweighted Accuracy: 0.4880\n",
      "Weighted F1-Score: 0.4825, Unweighted F1-Score: 0.4540,\n",
      "Test Results: \n",
      "Weighted Accuracy: 0.4588, Unweighted Accuracy: 0.5201\n",
      "Weighted F1-Score: 0.5188, Unweighted F1-Score: 0.4575,\n",
      "--------------------------------------------------\n",
      "\n",
      "\n"
     ]
    },
    {
     "output_type": "stream",
     "name": "stderr",
     "text": [
      "100%|██████████| 188/188 [00:09<00:00, 19.50it/s]\n",
      "100%|██████████| 6/6 [00:00<00:00,  6.97it/s]\n",
      "100%|██████████| 6/6 [00:00<00:00,  6.93it/s]\n"
     ]
    },
    {
     "output_type": "stream",
     "name": "stdout",
     "text": [
      "\n",
      "\n",
      "--------------------------------------------------\n",
      "Epoch  22\n",
      "Training Loss: 0.0199, Validation Loss: 0.0122\n",
      "Validation Results: \n",
      "Weighted Accuracy: 0.4436, Unweighted Accuracy: 0.4880\n",
      "Weighted F1-Score: 0.4825, Unweighted F1-Score: 0.4541,\n",
      "Test Results: \n",
      "Weighted Accuracy: 0.4609, Unweighted Accuracy: 0.5214\n",
      "Weighted F1-Score: 0.5201, Unweighted F1-Score: 0.4598,\n",
      "--------------------------------------------------\n",
      "\n",
      "\n"
     ]
    },
    {
     "output_type": "stream",
     "name": "stderr",
     "text": [
      "100%|██████████| 188/188 [00:09<00:00, 19.38it/s]\n",
      "100%|██████████| 6/6 [00:00<00:00,  6.98it/s]\n",
      "100%|██████████| 6/6 [00:00<00:00,  7.03it/s]\n"
     ]
    },
    {
     "output_type": "stream",
     "name": "stdout",
     "text": [
      "Epoch 00023: reducing learning rate of group 0 to 1.0000e-07.\n",
      "\n",
      "\n",
      "--------------------------------------------------\n",
      "Epoch  23\n",
      "Training Loss: 0.0199, Validation Loss: 0.0122\n",
      "Validation Results: \n",
      "Weighted Accuracy: 0.4415, Unweighted Accuracy: 0.4853\n",
      "Weighted F1-Score: 0.4798, Unweighted F1-Score: 0.4521,\n",
      "Test Results: \n",
      "Weighted Accuracy: 0.4609, Unweighted Accuracy: 0.5214\n",
      "Weighted F1-Score: 0.5202, Unweighted F1-Score: 0.4598,\n",
      "--------------------------------------------------\n",
      "\n",
      "\n"
     ]
    },
    {
     "output_type": "stream",
     "name": "stderr",
     "text": [
      "100%|██████████| 188/188 [00:09<00:00, 19.58it/s]\n",
      "100%|██████████| 6/6 [00:00<00:00,  7.19it/s]\n",
      "100%|██████████| 6/6 [00:00<00:00,  6.98it/s]\n"
     ]
    },
    {
     "output_type": "stream",
     "name": "stdout",
     "text": [
      "\n",
      "\n",
      "--------------------------------------------------\n",
      "Epoch  24\n",
      "Training Loss: 0.0199, Validation Loss: 0.0122\n",
      "Validation Results: \n",
      "Weighted Accuracy: 0.4415, Unweighted Accuracy: 0.4853\n",
      "Weighted F1-Score: 0.4798, Unweighted F1-Score: 0.4521,\n",
      "Test Results: \n",
      "Weighted Accuracy: 0.4609, Unweighted Accuracy: 0.5214\n",
      "Weighted F1-Score: 0.5202, Unweighted F1-Score: 0.4598,\n",
      "--------------------------------------------------\n",
      "\n",
      "\n"
     ]
    },
    {
     "output_type": "stream",
     "name": "stderr",
     "text": [
      "100%|██████████| 188/188 [00:09<00:00, 19.67it/s]\n",
      "100%|██████████| 6/6 [00:00<00:00,  7.22it/s]\n",
      "100%|██████████| 6/6 [00:00<00:00,  7.17it/s]\n"
     ]
    },
    {
     "output_type": "stream",
     "name": "stdout",
     "text": [
      "\n",
      "\n",
      "--------------------------------------------------\n",
      "Epoch  25\n",
      "Training Loss: 0.0198, Validation Loss: 0.0122\n",
      "Validation Results: \n",
      "Weighted Accuracy: 0.4415, Unweighted Accuracy: 0.4853\n",
      "Weighted F1-Score: 0.4798, Unweighted F1-Score: 0.4521,\n",
      "Test Results: \n",
      "Weighted Accuracy: 0.4609, Unweighted Accuracy: 0.5214\n",
      "Weighted F1-Score: 0.5202, Unweighted F1-Score: 0.4598,\n",
      "--------------------------------------------------\n",
      "\n",
      "\n"
     ]
    },
    {
     "output_type": "stream",
     "name": "stderr",
     "text": [
      "100%|██████████| 188/188 [00:09<00:00, 19.59it/s]\n",
      "100%|██████████| 6/6 [00:00<00:00,  7.16it/s]\n",
      "100%|██████████| 6/6 [00:00<00:00,  7.14it/s]\n"
     ]
    },
    {
     "output_type": "stream",
     "name": "stdout",
     "text": [
      "\n",
      "\n",
      "--------------------------------------------------\n",
      "Epoch  26\n",
      "Training Loss: 0.0198, Validation Loss: 0.0122\n",
      "Validation Results: \n",
      "Weighted Accuracy: 0.4415, Unweighted Accuracy: 0.4853\n",
      "Weighted F1-Score: 0.4798, Unweighted F1-Score: 0.4521,\n",
      "Test Results: \n",
      "Weighted Accuracy: 0.4609, Unweighted Accuracy: 0.5214\n",
      "Weighted F1-Score: 0.5202, Unweighted F1-Score: 0.4598,\n",
      "--------------------------------------------------\n",
      "\n",
      "\n"
     ]
    },
    {
     "output_type": "stream",
     "name": "stderr",
     "text": [
      "100%|██████████| 188/188 [00:09<00:00, 19.50it/s]\n",
      "100%|██████████| 6/6 [00:00<00:00,  7.22it/s]\n",
      "100%|██████████| 6/6 [00:00<00:00,  7.01it/s]\n"
     ]
    },
    {
     "output_type": "stream",
     "name": "stdout",
     "text": [
      "\n",
      "\n",
      "--------------------------------------------------\n",
      "Epoch  27\n",
      "Training Loss: 0.0198, Validation Loss: 0.0122\n",
      "Validation Results: \n",
      "Weighted Accuracy: 0.4415, Unweighted Accuracy: 0.4853\n",
      "Weighted F1-Score: 0.4798, Unweighted F1-Score: 0.4521,\n",
      "Test Results: \n",
      "Weighted Accuracy: 0.4609, Unweighted Accuracy: 0.5214\n",
      "Weighted F1-Score: 0.5202, Unweighted F1-Score: 0.4598,\n",
      "--------------------------------------------------\n",
      "\n",
      "\n"
     ]
    },
    {
     "output_type": "stream",
     "name": "stderr",
     "text": [
      "100%|██████████| 188/188 [00:09<00:00, 19.43it/s]\n",
      "100%|██████████| 6/6 [00:00<00:00,  7.07it/s]\n",
      "100%|██████████| 6/6 [00:00<00:00,  6.97it/s]\n"
     ]
    },
    {
     "output_type": "stream",
     "name": "stdout",
     "text": [
      "\n",
      "\n",
      "--------------------------------------------------\n",
      "Epoch  28\n",
      "Training Loss: 0.0198, Validation Loss: 0.0122\n",
      "Validation Results: \n",
      "Weighted Accuracy: 0.4415, Unweighted Accuracy: 0.4853\n",
      "Weighted F1-Score: 0.4798, Unweighted F1-Score: 0.4521,\n",
      "Test Results: \n",
      "Weighted Accuracy: 0.4609, Unweighted Accuracy: 0.5214\n",
      "Weighted F1-Score: 0.5201, Unweighted F1-Score: 0.4596,\n",
      "--------------------------------------------------\n",
      "\n",
      "\n",
      "Early stopped. No improvement in validation loss for 10 consecutive epoches.\n"
     ]
    },
    {
     "output_type": "stream",
     "name": "stderr",
     "text": [
      "100%|██████████| 188/188 [00:09<00:00, 20.32it/s]\n",
      "100%|██████████| 6/6 [00:00<00:00,  7.13it/s]\n",
      "100%|██████████| 6/6 [00:00<00:00,  7.05it/s]\n"
     ]
    },
    {
     "output_type": "stream",
     "name": "stdout",
     "text": [
      "Saved model at epoch 1 with validation unweighted accuracy of 34.63%\n",
      "\n",
      "\n",
      "--------------------------------------------------\n",
      "Epoch  1\n",
      "Training Loss: 0.0548, Validation Loss: 0.0131\n",
      "Validation Results: \n",
      "Weighted Accuracy: 0.2442, Unweighted Accuracy: 0.3463\n",
      "Weighted F1-Score: 0.2954, Unweighted F1-Score: 0.2173,\n",
      "Test Results: \n",
      "Weighted Accuracy: 0.2575, Unweighted Accuracy: 0.3556\n",
      "Weighted F1-Score: 0.3096, Unweighted F1-Score: 0.2307,\n",
      "--------------------------------------------------\n",
      "\n",
      "\n"
     ]
    },
    {
     "output_type": "stream",
     "name": "stderr",
     "text": [
      "100%|██████████| 188/188 [00:09<00:00, 20.24it/s]\n",
      "100%|██████████| 6/6 [00:00<00:00,  7.33it/s]\n",
      "100%|██████████| 6/6 [00:00<00:00,  7.14it/s]\n"
     ]
    },
    {
     "output_type": "stream",
     "name": "stdout",
     "text": [
      "Saved model at epoch 2 with validation unweighted accuracy of 42.38%\n",
      "\n",
      "\n",
      "--------------------------------------------------\n",
      "Epoch  2\n",
      "Training Loss: 0.0471, Validation Loss: 0.0119\n",
      "Validation Results: \n",
      "Weighted Accuracy: 0.3398, Unweighted Accuracy: 0.4238\n",
      "Weighted F1-Score: 0.4018, Unweighted F1-Score: 0.3167,\n",
      "Test Results: \n",
      "Weighted Accuracy: 0.3599, Unweighted Accuracy: 0.4519\n",
      "Weighted F1-Score: 0.4294, Unweighted F1-Score: 0.3345,\n",
      "--------------------------------------------------\n",
      "\n",
      "\n"
     ]
    },
    {
     "output_type": "stream",
     "name": "stderr",
     "text": [
      "100%|██████████| 188/188 [00:09<00:00, 20.22it/s]\n",
      "100%|██████████| 6/6 [00:00<00:00,  7.20it/s]\n",
      "100%|██████████| 6/6 [00:00<00:00,  7.23it/s]\n"
     ]
    },
    {
     "output_type": "stream",
     "name": "stdout",
     "text": [
      "Saved model at epoch 3 with validation unweighted accuracy of 43.85%\n",
      "\n",
      "\n",
      "--------------------------------------------------\n",
      "Epoch  3\n",
      "Training Loss: 0.0425, Validation Loss: 0.0117\n",
      "Validation Results: \n",
      "Weighted Accuracy: 0.3723, Unweighted Accuracy: 0.4385\n",
      "Weighted F1-Score: 0.4173, Unweighted F1-Score: 0.3486,\n",
      "Test Results: \n",
      "Weighted Accuracy: 0.3617, Unweighted Accuracy: 0.4385\n",
      "Weighted F1-Score: 0.4185, Unweighted F1-Score: 0.3384,\n",
      "--------------------------------------------------\n",
      "\n",
      "\n"
     ]
    },
    {
     "output_type": "stream",
     "name": "stderr",
     "text": [
      "100%|██████████| 188/188 [00:09<00:00, 20.55it/s]\n",
      "100%|██████████| 6/6 [00:00<00:00,  7.13it/s]\n",
      "100%|██████████| 6/6 [00:00<00:00,  7.05it/s]\n"
     ]
    },
    {
     "output_type": "stream",
     "name": "stdout",
     "text": [
      "Saved model at epoch 4 with validation unweighted accuracy of 45.72%\n",
      "\n",
      "\n",
      "--------------------------------------------------\n",
      "Epoch  4\n",
      "Training Loss: 0.0395, Validation Loss: 0.0110\n",
      "Validation Results: \n",
      "Weighted Accuracy: 0.3691, Unweighted Accuracy: 0.4572\n",
      "Weighted F1-Score: 0.4406, Unweighted F1-Score: 0.3707,\n",
      "Test Results: \n",
      "Weighted Accuracy: 0.3686, Unweighted Accuracy: 0.4639\n",
      "Weighted F1-Score: 0.4501, Unweighted F1-Score: 0.3636,\n",
      "--------------------------------------------------\n",
      "\n",
      "\n"
     ]
    },
    {
     "output_type": "stream",
     "name": "stderr",
     "text": [
      "100%|██████████| 188/188 [00:09<00:00, 20.44it/s]\n",
      "100%|██████████| 6/6 [00:00<00:00,  7.52it/s]\n",
      "100%|██████████| 6/6 [00:00<00:00,  7.12it/s]\n"
     ]
    },
    {
     "output_type": "stream",
     "name": "stdout",
     "text": [
      "\n",
      "\n",
      "--------------------------------------------------\n",
      "Epoch  5\n",
      "Training Loss: 0.0374, Validation Loss: 0.0111\n",
      "Validation Results: \n",
      "Weighted Accuracy: 0.4013, Unweighted Accuracy: 0.4572\n",
      "Weighted F1-Score: 0.4453, Unweighted F1-Score: 0.3956,\n",
      "Test Results: \n",
      "Weighted Accuracy: 0.3712, Unweighted Accuracy: 0.4398\n",
      "Weighted F1-Score: 0.4268, Unweighted F1-Score: 0.3589,\n",
      "--------------------------------------------------\n",
      "\n",
      "\n"
     ]
    },
    {
     "output_type": "stream",
     "name": "stderr",
     "text": [
      "100%|██████████| 188/188 [00:09<00:00, 20.13it/s]\n",
      "100%|██████████| 6/6 [00:00<00:00,  7.07it/s]\n",
      "100%|██████████| 6/6 [00:00<00:00,  7.16it/s]\n"
     ]
    },
    {
     "output_type": "stream",
     "name": "stdout",
     "text": [
      "Saved model at epoch 6 with validation unweighted accuracy of 48.40%\n",
      "\n",
      "\n",
      "--------------------------------------------------\n",
      "Epoch  6\n",
      "Training Loss: 0.0353, Validation Loss: 0.0110\n",
      "Validation Results: \n",
      "Weighted Accuracy: 0.4255, Unweighted Accuracy: 0.4840\n",
      "Weighted F1-Score: 0.4720, Unweighted F1-Score: 0.4232,\n",
      "Test Results: \n",
      "Weighted Accuracy: 0.4459, Unweighted Accuracy: 0.5000\n",
      "Weighted F1-Score: 0.4962, Unweighted F1-Score: 0.4378,\n",
      "--------------------------------------------------\n",
      "\n",
      "\n"
     ]
    },
    {
     "output_type": "stream",
     "name": "stderr",
     "text": [
      "100%|██████████| 188/188 [00:09<00:00, 20.37it/s]\n",
      "100%|██████████| 6/6 [00:00<00:00,  7.27it/s]\n",
      "100%|██████████| 6/6 [00:00<00:00,  7.26it/s]\n"
     ]
    },
    {
     "output_type": "stream",
     "name": "stdout",
     "text": [
      "Saved model at epoch 7 with validation unweighted accuracy of 49.47%\n",
      "\n",
      "\n",
      "--------------------------------------------------\n",
      "Epoch  7\n",
      "Training Loss: 0.0335, Validation Loss: 0.0108\n",
      "Validation Results: \n",
      "Weighted Accuracy: 0.4249, Unweighted Accuracy: 0.4947\n",
      "Weighted F1-Score: 0.4909, Unweighted F1-Score: 0.4411,\n",
      "Test Results: \n",
      "Weighted Accuracy: 0.4022, Unweighted Accuracy: 0.4947\n",
      "Weighted F1-Score: 0.4924, Unweighted F1-Score: 0.4083,\n",
      "--------------------------------------------------\n",
      "\n",
      "\n"
     ]
    },
    {
     "output_type": "stream",
     "name": "stderr",
     "text": [
      "100%|██████████| 188/188 [00:09<00:00, 20.14it/s]\n",
      "100%|██████████| 6/6 [00:00<00:00,  7.41it/s]\n",
      "100%|██████████| 6/6 [00:00<00:00,  7.24it/s]\n"
     ]
    },
    {
     "output_type": "stream",
     "name": "stdout",
     "text": [
      "\n",
      "\n",
      "--------------------------------------------------\n",
      "Epoch  8\n",
      "Training Loss: 0.0318, Validation Loss: 0.0116\n",
      "Validation Results: \n",
      "Weighted Accuracy: 0.4081, Unweighted Accuracy: 0.4706\n",
      "Weighted F1-Score: 0.4473, Unweighted F1-Score: 0.4174,\n",
      "Test Results: \n",
      "Weighted Accuracy: 0.4335, Unweighted Accuracy: 0.4652\n",
      "Weighted F1-Score: 0.4491, Unweighted F1-Score: 0.4279,\n",
      "--------------------------------------------------\n",
      "\n",
      "\n"
     ]
    },
    {
     "output_type": "stream",
     "name": "stderr",
     "text": [
      "100%|██████████| 188/188 [00:09<00:00, 20.17it/s]\n",
      "100%|██████████| 6/6 [00:00<00:00,  7.26it/s]\n",
      "100%|██████████| 6/6 [00:00<00:00,  7.18it/s]\n"
     ]
    },
    {
     "output_type": "stream",
     "name": "stdout",
     "text": [
      "\n",
      "\n",
      "--------------------------------------------------\n",
      "Epoch  9\n",
      "Training Loss: 0.0300, Validation Loss: 0.0113\n",
      "Validation Results: \n",
      "Weighted Accuracy: 0.4431, Unweighted Accuracy: 0.4759\n",
      "Weighted F1-Score: 0.4715, Unweighted F1-Score: 0.4552,\n",
      "Test Results: \n",
      "Weighted Accuracy: 0.4076, Unweighted Accuracy: 0.4880\n",
      "Weighted F1-Score: 0.4856, Unweighted F1-Score: 0.4048,\n",
      "--------------------------------------------------\n",
      "\n",
      "\n"
     ]
    },
    {
     "output_type": "stream",
     "name": "stderr",
     "text": [
      "100%|██████████| 188/188 [00:09<00:00, 20.23it/s]\n",
      "100%|██████████| 6/6 [00:00<00:00,  7.12it/s]\n",
      "100%|██████████| 6/6 [00:00<00:00,  7.17it/s]\n"
     ]
    },
    {
     "output_type": "stream",
     "name": "stdout",
     "text": [
      "\n",
      "\n",
      "--------------------------------------------------\n",
      "Epoch  10\n",
      "Training Loss: 0.0283, Validation Loss: 0.0115\n",
      "Validation Results: \n",
      "Weighted Accuracy: 0.4532, Unweighted Accuracy: 0.4733\n",
      "Weighted F1-Score: 0.4650, Unweighted F1-Score: 0.4559,\n",
      "Test Results: \n",
      "Weighted Accuracy: 0.4664, Unweighted Accuracy: 0.5040\n",
      "Weighted F1-Score: 0.5019, Unweighted F1-Score: 0.4508,\n",
      "--------------------------------------------------\n",
      "\n",
      "\n"
     ]
    },
    {
     "output_type": "stream",
     "name": "stderr",
     "text": [
      "100%|██████████| 188/188 [00:09<00:00, 20.32it/s]\n",
      "100%|██████████| 6/6 [00:00<00:00,  7.19it/s]\n",
      "100%|██████████| 6/6 [00:00<00:00,  7.13it/s]\n"
     ]
    },
    {
     "output_type": "stream",
     "name": "stdout",
     "text": [
      "\n",
      "\n",
      "--------------------------------------------------\n",
      "Epoch  11\n",
      "Training Loss: 0.0265, Validation Loss: 0.0123\n",
      "Validation Results: \n",
      "Weighted Accuracy: 0.4560, Unweighted Accuracy: 0.4719\n",
      "Weighted F1-Score: 0.4619, Unweighted F1-Score: 0.4528,\n",
      "Test Results: \n",
      "Weighted Accuracy: 0.4618, Unweighted Accuracy: 0.4813\n",
      "Weighted F1-Score: 0.4750, Unweighted F1-Score: 0.4458,\n",
      "--------------------------------------------------\n",
      "\n",
      "\n"
     ]
    },
    {
     "output_type": "stream",
     "name": "stderr",
     "text": [
      "100%|██████████| 188/188 [00:09<00:00, 20.54it/s]\n",
      "100%|██████████| 6/6 [00:00<00:00,  7.03it/s]\n",
      "100%|██████████| 6/6 [00:00<00:00,  7.06it/s]\n"
     ]
    },
    {
     "output_type": "stream",
     "name": "stdout",
     "text": [
      "\n",
      "\n",
      "--------------------------------------------------\n",
      "Epoch  12\n",
      "Training Loss: 0.0251, Validation Loss: 0.0123\n",
      "Validation Results: \n",
      "Weighted Accuracy: 0.4653, Unweighted Accuracy: 0.4679\n",
      "Weighted F1-Score: 0.4641, Unweighted F1-Score: 0.4500,\n",
      "Test Results: \n",
      "Weighted Accuracy: 0.4828, Unweighted Accuracy: 0.4920\n",
      "Weighted F1-Score: 0.4957, Unweighted F1-Score: 0.4486,\n",
      "--------------------------------------------------\n",
      "\n",
      "\n"
     ]
    },
    {
     "output_type": "stream",
     "name": "stderr",
     "text": [
      "100%|██████████| 188/188 [00:09<00:00, 20.53it/s]\n",
      "100%|██████████| 6/6 [00:00<00:00,  7.18it/s]\n",
      "100%|██████████| 6/6 [00:00<00:00,  6.99it/s]\n"
     ]
    },
    {
     "output_type": "stream",
     "name": "stdout",
     "text": [
      "Epoch 00013: reducing learning rate of group 0 to 1.0000e-05.\n",
      "\n",
      "\n",
      "--------------------------------------------------\n",
      "Epoch  13\n",
      "Training Loss: 0.0236, Validation Loss: 0.0120\n",
      "Validation Results: \n",
      "Weighted Accuracy: 0.4518, Unweighted Accuracy: 0.4826\n",
      "Weighted F1-Score: 0.4800, Unweighted F1-Score: 0.4602,\n",
      "Test Results: \n",
      "Weighted Accuracy: 0.4426, Unweighted Accuracy: 0.5027\n",
      "Weighted F1-Score: 0.5028, Unweighted F1-Score: 0.4421,\n",
      "--------------------------------------------------\n",
      "\n",
      "\n"
     ]
    },
    {
     "output_type": "stream",
     "name": "stderr",
     "text": [
      "100%|██████████| 188/188 [00:09<00:00, 20.54it/s]\n",
      "100%|██████████| 6/6 [00:00<00:00,  7.18it/s]\n",
      "100%|██████████| 6/6 [00:00<00:00,  7.12it/s]\n"
     ]
    },
    {
     "output_type": "stream",
     "name": "stdout",
     "text": [
      "\n",
      "\n",
      "--------------------------------------------------\n",
      "Epoch  14\n",
      "Training Loss: 0.0197, Validation Loss: 0.0122\n",
      "Validation Results: \n",
      "Weighted Accuracy: 0.4546, Unweighted Accuracy: 0.4840\n",
      "Weighted F1-Score: 0.4801, Unweighted F1-Score: 0.4625,\n",
      "Test Results: \n",
      "Weighted Accuracy: 0.4352, Unweighted Accuracy: 0.4947\n",
      "Weighted F1-Score: 0.4943, Unweighted F1-Score: 0.4356,\n",
      "--------------------------------------------------\n",
      "\n",
      "\n"
     ]
    },
    {
     "output_type": "stream",
     "name": "stderr",
     "text": [
      "100%|██████████| 188/188 [00:09<00:00, 20.45it/s]\n",
      "100%|██████████| 6/6 [00:00<00:00,  7.31it/s]\n",
      "100%|██████████| 6/6 [00:00<00:00,  7.20it/s]\n"
     ]
    },
    {
     "output_type": "stream",
     "name": "stdout",
     "text": [
      "\n",
      "\n",
      "--------------------------------------------------\n",
      "Epoch  15\n",
      "Training Loss: 0.0188, Validation Loss: 0.0123\n",
      "Validation Results: \n",
      "Weighted Accuracy: 0.4610, Unweighted Accuracy: 0.4866\n",
      "Weighted F1-Score: 0.4835, Unweighted F1-Score: 0.4732,\n",
      "Test Results: \n",
      "Weighted Accuracy: 0.4323, Unweighted Accuracy: 0.4933\n",
      "Weighted F1-Score: 0.4923, Unweighted F1-Score: 0.4332,\n",
      "--------------------------------------------------\n",
      "\n",
      "\n"
     ]
    },
    {
     "output_type": "stream",
     "name": "stderr",
     "text": [
      "100%|██████████| 188/188 [00:09<00:00, 20.46it/s]\n",
      "100%|██████████| 6/6 [00:00<00:00,  7.32it/s]\n",
      "100%|██████████| 6/6 [00:00<00:00,  7.16it/s]\n"
     ]
    },
    {
     "output_type": "stream",
     "name": "stdout",
     "text": [
      "\n",
      "\n",
      "--------------------------------------------------\n",
      "Epoch  16\n",
      "Training Loss: 0.0183, Validation Loss: 0.0125\n",
      "Validation Results: \n",
      "Weighted Accuracy: 0.4711, Unweighted Accuracy: 0.4880\n",
      "Weighted F1-Score: 0.4863, Unweighted F1-Score: 0.4780,\n",
      "Test Results: \n",
      "Weighted Accuracy: 0.4401, Unweighted Accuracy: 0.4987\n",
      "Weighted F1-Score: 0.4992, Unweighted F1-Score: 0.4388,\n",
      "--------------------------------------------------\n",
      "\n",
      "\n"
     ]
    },
    {
     "output_type": "stream",
     "name": "stderr",
     "text": [
      "100%|██████████| 188/188 [00:09<00:00, 20.34it/s]\n",
      "100%|██████████| 6/6 [00:00<00:00,  7.14it/s]\n",
      "100%|██████████| 6/6 [00:00<00:00,  7.15it/s]\n"
     ]
    },
    {
     "output_type": "stream",
     "name": "stdout",
     "text": [
      "\n",
      "\n",
      "--------------------------------------------------\n",
      "Epoch  17\n",
      "Training Loss: 0.0179, Validation Loss: 0.0127\n",
      "Validation Results: \n",
      "Weighted Accuracy: 0.4580, Unweighted Accuracy: 0.4773\n",
      "Weighted F1-Score: 0.4758, Unweighted F1-Score: 0.4661,\n",
      "Test Results: \n",
      "Weighted Accuracy: 0.4345, Unweighted Accuracy: 0.4933\n",
      "Weighted F1-Score: 0.4936, Unweighted F1-Score: 0.4351,\n",
      "--------------------------------------------------\n",
      "\n",
      "\n"
     ]
    },
    {
     "output_type": "stream",
     "name": "stderr",
     "text": [
      "100%|██████████| 188/188 [00:09<00:00, 20.55it/s]\n",
      "100%|██████████| 6/6 [00:00<00:00,  7.26it/s]\n",
      "100%|██████████| 6/6 [00:00<00:00,  7.05it/s]\n"
     ]
    },
    {
     "output_type": "stream",
     "name": "stdout",
     "text": [
      "\n",
      "\n",
      "--------------------------------------------------\n",
      "Epoch  18\n",
      "Training Loss: 0.0176, Validation Loss: 0.0128\n",
      "Validation Results: \n",
      "Weighted Accuracy: 0.4489, Unweighted Accuracy: 0.4733\n",
      "Weighted F1-Score: 0.4705, Unweighted F1-Score: 0.4610,\n",
      "Test Results: \n",
      "Weighted Accuracy: 0.4353, Unweighted Accuracy: 0.4960\n",
      "Weighted F1-Score: 0.4956, Unweighted F1-Score: 0.4362,\n",
      "--------------------------------------------------\n",
      "\n",
      "\n"
     ]
    },
    {
     "output_type": "stream",
     "name": "stderr",
     "text": [
      "100%|██████████| 188/188 [00:09<00:00, 20.33it/s]\n",
      "100%|██████████| 6/6 [00:00<00:00,  7.33it/s]\n",
      "100%|██████████| 6/6 [00:00<00:00,  7.19it/s]\n"
     ]
    },
    {
     "output_type": "stream",
     "name": "stdout",
     "text": [
      "Epoch 00019: reducing learning rate of group 0 to 1.0000e-06.\n",
      "\n",
      "\n",
      "--------------------------------------------------\n",
      "Epoch  19\n",
      "Training Loss: 0.0173, Validation Loss: 0.0129\n",
      "Validation Results: \n",
      "Weighted Accuracy: 0.4523, Unweighted Accuracy: 0.4733\n",
      "Weighted F1-Score: 0.4711, Unweighted F1-Score: 0.4618,\n",
      "Test Results: \n",
      "Weighted Accuracy: 0.4424, Unweighted Accuracy: 0.5040\n",
      "Weighted F1-Score: 0.5039, Unweighted F1-Score: 0.4425,\n",
      "--------------------------------------------------\n",
      "\n",
      "\n"
     ]
    },
    {
     "output_type": "stream",
     "name": "stderr",
     "text": [
      "100%|██████████| 188/188 [00:09<00:00, 20.48it/s]\n",
      "100%|██████████| 6/6 [00:00<00:00,  7.19it/s]\n",
      "100%|██████████| 6/6 [00:00<00:00,  7.31it/s]\n"
     ]
    },
    {
     "output_type": "stream",
     "name": "stdout",
     "text": [
      "\n",
      "\n",
      "--------------------------------------------------\n",
      "Epoch  20\n",
      "Training Loss: 0.0168, Validation Loss: 0.0129\n",
      "Validation Results: \n",
      "Weighted Accuracy: 0.4541, Unweighted Accuracy: 0.4733\n",
      "Weighted F1-Score: 0.4702, Unweighted F1-Score: 0.4616,\n",
      "Test Results: \n",
      "Weighted Accuracy: 0.4370, Unweighted Accuracy: 0.4960\n",
      "Weighted F1-Score: 0.4960, Unweighted F1-Score: 0.4370,\n",
      "--------------------------------------------------\n",
      "\n",
      "\n"
     ]
    },
    {
     "output_type": "stream",
     "name": "stderr",
     "text": [
      "100%|██████████| 188/188 [00:09<00:00, 20.46it/s]\n",
      "100%|██████████| 6/6 [00:00<00:00,  7.15it/s]\n",
      "100%|██████████| 6/6 [00:00<00:00,  7.01it/s]\n"
     ]
    },
    {
     "output_type": "stream",
     "name": "stdout",
     "text": [
      "\n",
      "\n",
      "--------------------------------------------------\n",
      "Epoch  21\n",
      "Training Loss: 0.0167, Validation Loss: 0.0130\n",
      "Validation Results: \n",
      "Weighted Accuracy: 0.4541, Unweighted Accuracy: 0.4733\n",
      "Weighted F1-Score: 0.4702, Unweighted F1-Score: 0.4614,\n",
      "Test Results: \n",
      "Weighted Accuracy: 0.4342, Unweighted Accuracy: 0.4920\n",
      "Weighted F1-Score: 0.4922, Unweighted F1-Score: 0.4344,\n",
      "--------------------------------------------------\n",
      "\n",
      "\n"
     ]
    },
    {
     "output_type": "stream",
     "name": "stderr",
     "text": [
      "100%|██████████| 188/188 [00:09<00:00, 20.59it/s]\n",
      "100%|██████████| 6/6 [00:00<00:00,  7.29it/s]\n",
      "100%|██████████| 6/6 [00:00<00:00,  7.13it/s]\n"
     ]
    },
    {
     "output_type": "stream",
     "name": "stdout",
     "text": [
      "\n",
      "\n",
      "--------------------------------------------------\n",
      "Epoch  22\n",
      "Training Loss: 0.0168, Validation Loss: 0.0130\n",
      "Validation Results: \n",
      "Weighted Accuracy: 0.4534, Unweighted Accuracy: 0.4719\n",
      "Weighted F1-Score: 0.4688, Unweighted F1-Score: 0.4604,\n",
      "Test Results: \n",
      "Weighted Accuracy: 0.4328, Unweighted Accuracy: 0.4893\n",
      "Weighted F1-Score: 0.4897, Unweighted F1-Score: 0.4325,\n",
      "--------------------------------------------------\n",
      "\n",
      "\n"
     ]
    },
    {
     "output_type": "stream",
     "name": "stderr",
     "text": [
      "100%|██████████| 188/188 [00:09<00:00, 20.28it/s]\n",
      "100%|██████████| 6/6 [00:00<00:00,  7.05it/s]\n",
      "100%|██████████| 6/6 [00:00<00:00,  7.12it/s]\n"
     ]
    },
    {
     "output_type": "stream",
     "name": "stdout",
     "text": [
      "\n",
      "\n",
      "--------------------------------------------------\n",
      "Epoch  23\n",
      "Training Loss: 0.0166, Validation Loss: 0.0130\n",
      "Validation Results: \n",
      "Weighted Accuracy: 0.4535, Unweighted Accuracy: 0.4733\n",
      "Weighted F1-Score: 0.4704, Unweighted F1-Score: 0.4614,\n",
      "Test Results: \n",
      "Weighted Accuracy: 0.4335, Unweighted Accuracy: 0.4906\n",
      "Weighted F1-Score: 0.4910, Unweighted F1-Score: 0.4333,\n",
      "--------------------------------------------------\n",
      "\n",
      "\n",
      "Early stopped. No improvement in validation loss for 10 consecutive epoches.\n"
     ]
    },
    {
     "output_type": "stream",
     "name": "stderr",
     "text": [
      "100%|██████████| 188/188 [00:10<00:00, 17.71it/s]\n",
      "100%|██████████| 6/6 [00:00<00:00,  6.87it/s]\n",
      "100%|██████████| 6/6 [00:00<00:00,  6.74it/s]\n"
     ]
    },
    {
     "output_type": "stream",
     "name": "stdout",
     "text": [
      "Saved model at epoch 1 with validation unweighted accuracy of 37.57%\n",
      "\n",
      "\n",
      "--------------------------------------------------\n",
      "Epoch  1\n",
      "Training Loss: 0.0549, Validation Loss: 0.0127\n",
      "Validation Results: \n",
      "Weighted Accuracy: 0.2699, Unweighted Accuracy: 0.3757\n",
      "Weighted F1-Score: 0.3408, Unweighted F1-Score: 0.2665,\n",
      "Test Results: \n",
      "Weighted Accuracy: 0.2645, Unweighted Accuracy: 0.3877\n",
      "Weighted F1-Score: 0.3446, Unweighted F1-Score: 0.2558,\n",
      "--------------------------------------------------\n",
      "\n",
      "\n"
     ]
    },
    {
     "output_type": "stream",
     "name": "stderr",
     "text": [
      "100%|██████████| 188/188 [00:09<00:00, 19.19it/s]\n",
      "100%|██████████| 6/6 [00:00<00:00,  6.92it/s]\n",
      "100%|██████████| 6/6 [00:00<00:00,  6.72it/s]\n"
     ]
    },
    {
     "output_type": "stream",
     "name": "stdout",
     "text": [
      "Saved model at epoch 2 with validation unweighted accuracy of 45.99%\n",
      "\n",
      "\n",
      "--------------------------------------------------\n",
      "Epoch  2\n",
      "Training Loss: 0.0475, Validation Loss: 0.0116\n",
      "Validation Results: \n",
      "Weighted Accuracy: 0.3584, Unweighted Accuracy: 0.4599\n",
      "Weighted F1-Score: 0.4331, Unweighted F1-Score: 0.3417,\n",
      "Test Results: \n",
      "Weighted Accuracy: 0.3567, Unweighted Accuracy: 0.4639\n",
      "Weighted F1-Score: 0.4445, Unweighted F1-Score: 0.3408,\n",
      "--------------------------------------------------\n",
      "\n",
      "\n"
     ]
    },
    {
     "output_type": "stream",
     "name": "stderr",
     "text": [
      "100%|██████████| 188/188 [00:09<00:00, 19.05it/s]\n",
      "100%|██████████| 6/6 [00:00<00:00,  6.91it/s]\n",
      "100%|██████████| 6/6 [00:00<00:00,  6.75it/s]\n"
     ]
    },
    {
     "output_type": "stream",
     "name": "stdout",
     "text": [
      "\n",
      "\n",
      "--------------------------------------------------\n",
      "Epoch  3\n",
      "Training Loss: 0.0425, Validation Loss: 0.0114\n",
      "Validation Results: \n",
      "Weighted Accuracy: 0.3779, Unweighted Accuracy: 0.4559\n",
      "Weighted F1-Score: 0.4318, Unweighted F1-Score: 0.3756,\n",
      "Test Results: \n",
      "Weighted Accuracy: 0.4022, Unweighted Accuracy: 0.4826\n",
      "Weighted F1-Score: 0.4611, Unweighted F1-Score: 0.3908,\n",
      "--------------------------------------------------\n",
      "\n",
      "\n"
     ]
    },
    {
     "output_type": "stream",
     "name": "stderr",
     "text": [
      "100%|██████████| 188/188 [00:09<00:00, 19.21it/s]\n",
      "100%|██████████| 6/6 [00:00<00:00,  6.97it/s]\n",
      "100%|██████████| 6/6 [00:00<00:00,  6.67it/s]\n"
     ]
    },
    {
     "output_type": "stream",
     "name": "stdout",
     "text": [
      "Saved model at epoch 4 with validation unweighted accuracy of 48.93%\n",
      "\n",
      "\n",
      "--------------------------------------------------\n",
      "Epoch  4\n",
      "Training Loss: 0.0392, Validation Loss: 0.0106\n",
      "Validation Results: \n",
      "Weighted Accuracy: 0.4243, Unweighted Accuracy: 0.4893\n",
      "Weighted F1-Score: 0.4833, Unweighted F1-Score: 0.4329,\n",
      "Test Results: \n",
      "Weighted Accuracy: 0.4354, Unweighted Accuracy: 0.5000\n",
      "Weighted F1-Score: 0.4933, Unweighted F1-Score: 0.4300,\n",
      "--------------------------------------------------\n",
      "\n",
      "\n"
     ]
    },
    {
     "output_type": "stream",
     "name": "stderr",
     "text": [
      "100%|██████████| 188/188 [00:09<00:00, 19.13it/s]\n",
      "100%|██████████| 6/6 [00:00<00:00,  6.90it/s]\n",
      "100%|██████████| 6/6 [00:00<00:00,  6.75it/s]\n"
     ]
    },
    {
     "output_type": "stream",
     "name": "stdout",
     "text": [
      "Saved model at epoch 5 with validation unweighted accuracy of 52.27%\n",
      "\n",
      "\n",
      "--------------------------------------------------\n",
      "Epoch  5\n",
      "Training Loss: 0.0369, Validation Loss: 0.0106\n",
      "Validation Results: \n",
      "Weighted Accuracy: 0.4642, Unweighted Accuracy: 0.5227\n",
      "Weighted F1-Score: 0.5129, Unweighted F1-Score: 0.4666,\n",
      "Test Results: \n",
      "Weighted Accuracy: 0.4433, Unweighted Accuracy: 0.4733\n",
      "Weighted F1-Score: 0.4641, Unweighted F1-Score: 0.4200,\n",
      "--------------------------------------------------\n",
      "\n",
      "\n"
     ]
    },
    {
     "output_type": "stream",
     "name": "stderr",
     "text": [
      "100%|██████████| 188/188 [00:09<00:00, 19.23it/s]\n",
      "100%|██████████| 6/6 [00:00<00:00,  6.99it/s]\n",
      "100%|██████████| 6/6 [00:00<00:00,  6.88it/s]\n"
     ]
    },
    {
     "output_type": "stream",
     "name": "stdout",
     "text": [
      "\n",
      "\n",
      "--------------------------------------------------\n",
      "Epoch  6\n",
      "Training Loss: 0.0344, Validation Loss: 0.0106\n",
      "Validation Results: \n",
      "Weighted Accuracy: 0.4180, Unweighted Accuracy: 0.5120\n",
      "Weighted F1-Score: 0.4990, Unweighted F1-Score: 0.4300,\n",
      "Test Results: \n",
      "Weighted Accuracy: 0.3994, Unweighted Accuracy: 0.4973\n",
      "Weighted F1-Score: 0.4847, Unweighted F1-Score: 0.4173,\n",
      "--------------------------------------------------\n",
      "\n",
      "\n"
     ]
    },
    {
     "output_type": "stream",
     "name": "stderr",
     "text": [
      "100%|██████████| 188/188 [00:09<00:00, 19.02it/s]\n",
      "100%|██████████| 6/6 [00:00<00:00,  6.91it/s]\n",
      "100%|██████████| 6/6 [00:00<00:00,  6.77it/s]\n"
     ]
    },
    {
     "output_type": "stream",
     "name": "stdout",
     "text": [
      "\n",
      "\n",
      "--------------------------------------------------\n",
      "Epoch  7\n",
      "Training Loss: 0.0327, Validation Loss: 0.0107\n",
      "Validation Results: \n",
      "Weighted Accuracy: 0.4794, Unweighted Accuracy: 0.5214\n",
      "Weighted F1-Score: 0.5188, Unweighted F1-Score: 0.4817,\n",
      "Test Results: \n",
      "Weighted Accuracy: 0.4741, Unweighted Accuracy: 0.4786\n",
      "Weighted F1-Score: 0.4763, Unweighted F1-Score: 0.4520,\n",
      "--------------------------------------------------\n",
      "\n",
      "\n"
     ]
    },
    {
     "output_type": "stream",
     "name": "stderr",
     "text": [
      "100%|██████████| 188/188 [00:09<00:00, 18.92it/s]\n",
      "100%|██████████| 6/6 [00:00<00:00,  6.88it/s]\n",
      "100%|██████████| 6/6 [00:00<00:00,  6.88it/s]\n"
     ]
    },
    {
     "output_type": "stream",
     "name": "stdout",
     "text": [
      "\n",
      "\n",
      "--------------------------------------------------\n",
      "Epoch  8\n",
      "Training Loss: 0.0306, Validation Loss: 0.0108\n",
      "Validation Results: \n",
      "Weighted Accuracy: 0.4874, Unweighted Accuracy: 0.5201\n",
      "Weighted F1-Score: 0.5198, Unweighted F1-Score: 0.4861,\n",
      "Test Results: \n",
      "Weighted Accuracy: 0.5048, Unweighted Accuracy: 0.5160\n",
      "Weighted F1-Score: 0.5151, Unweighted F1-Score: 0.4802,\n",
      "--------------------------------------------------\n",
      "\n",
      "\n"
     ]
    },
    {
     "output_type": "stream",
     "name": "stderr",
     "text": [
      "100%|██████████| 188/188 [00:09<00:00, 19.15it/s]\n",
      "100%|██████████| 6/6 [00:00<00:00,  6.82it/s]\n",
      "100%|██████████| 6/6 [00:00<00:00,  6.84it/s]\n"
     ]
    },
    {
     "output_type": "stream",
     "name": "stdout",
     "text": [
      "Saved model at epoch 9 with validation unweighted accuracy of 53.88%\n",
      "\n",
      "\n",
      "--------------------------------------------------\n",
      "Epoch  9\n",
      "Training Loss: 0.0294, Validation Loss: 0.0108\n",
      "Validation Results: \n",
      "Weighted Accuracy: 0.5086, Unweighted Accuracy: 0.5388\n",
      "Weighted F1-Score: 0.5383, Unweighted F1-Score: 0.5131,\n",
      "Test Results: \n",
      "Weighted Accuracy: 0.4911, Unweighted Accuracy: 0.5027\n",
      "Weighted F1-Score: 0.5021, Unweighted F1-Score: 0.4763,\n",
      "--------------------------------------------------\n",
      "\n",
      "\n"
     ]
    },
    {
     "output_type": "stream",
     "name": "stderr",
     "text": [
      "100%|██████████| 188/188 [00:09<00:00, 19.16it/s]\n",
      "100%|██████████| 6/6 [00:00<00:00,  6.91it/s]\n",
      "100%|██████████| 6/6 [00:00<00:00,  6.78it/s]\n"
     ]
    },
    {
     "output_type": "stream",
     "name": "stdout",
     "text": [
      "Saved model at epoch 10 with validation unweighted accuracy of 54.01%\n",
      "\n",
      "\n",
      "--------------------------------------------------\n",
      "Epoch  10\n",
      "Training Loss: 0.0277, Validation Loss: 0.0111\n",
      "Validation Results: \n",
      "Weighted Accuracy: 0.4808, Unweighted Accuracy: 0.5401\n",
      "Weighted F1-Score: 0.5350, Unweighted F1-Score: 0.4934,\n",
      "Test Results: \n",
      "Weighted Accuracy: 0.4324, Unweighted Accuracy: 0.4612\n",
      "Weighted F1-Score: 0.4545, Unweighted F1-Score: 0.4163,\n",
      "--------------------------------------------------\n",
      "\n",
      "\n"
     ]
    },
    {
     "output_type": "stream",
     "name": "stderr",
     "text": [
      "100%|██████████| 188/188 [00:09<00:00, 19.12it/s]\n",
      "100%|██████████| 6/6 [00:00<00:00,  6.97it/s]\n",
      "100%|██████████| 6/6 [00:00<00:00,  6.85it/s]\n"
     ]
    },
    {
     "output_type": "stream",
     "name": "stdout",
     "text": [
      "Epoch 00011: reducing learning rate of group 0 to 1.0000e-05.\n",
      "\n",
      "\n",
      "--------------------------------------------------\n",
      "Epoch  11\n",
      "Training Loss: 0.0258, Validation Loss: 0.0113\n",
      "Validation Results: \n",
      "Weighted Accuracy: 0.4841, Unweighted Accuracy: 0.5388\n",
      "Weighted F1-Score: 0.5350, Unweighted F1-Score: 0.4901,\n",
      "Test Results: \n",
      "Weighted Accuracy: 0.4803, Unweighted Accuracy: 0.5013\n",
      "Weighted F1-Score: 0.4975, Unweighted F1-Score: 0.4633,\n",
      "--------------------------------------------------\n",
      "\n",
      "\n"
     ]
    },
    {
     "output_type": "stream",
     "name": "stderr",
     "text": [
      "100%|██████████| 188/188 [00:09<00:00, 18.96it/s]\n",
      "100%|██████████| 6/6 [00:00<00:00,  6.93it/s]\n",
      "100%|██████████| 6/6 [00:00<00:00,  6.79it/s]\n"
     ]
    },
    {
     "output_type": "stream",
     "name": "stdout",
     "text": [
      "\n",
      "\n",
      "--------------------------------------------------\n",
      "Epoch  12\n",
      "Training Loss: 0.0218, Validation Loss: 0.0113\n",
      "Validation Results: \n",
      "Weighted Accuracy: 0.4855, Unweighted Accuracy: 0.5334\n",
      "Weighted F1-Score: 0.5321, Unweighted F1-Score: 0.4936,\n",
      "Test Results: \n",
      "Weighted Accuracy: 0.4827, Unweighted Accuracy: 0.5281\n",
      "Weighted F1-Score: 0.5257, Unweighted F1-Score: 0.4830,\n",
      "--------------------------------------------------\n",
      "\n",
      "\n"
     ]
    },
    {
     "output_type": "stream",
     "name": "stderr",
     "text": [
      "100%|██████████| 188/188 [00:09<00:00, 19.06it/s]\n",
      "100%|██████████| 6/6 [00:00<00:00,  7.03it/s]\n",
      "100%|██████████| 6/6 [00:00<00:00,  6.89it/s]\n"
     ]
    },
    {
     "output_type": "stream",
     "name": "stdout",
     "text": [
      "Saved model at epoch 13 with validation unweighted accuracy of 54.41%\n",
      "\n",
      "\n",
      "--------------------------------------------------\n",
      "Epoch  13\n",
      "Training Loss: 0.0210, Validation Loss: 0.0113\n",
      "Validation Results: \n",
      "Weighted Accuracy: 0.4869, Unweighted Accuracy: 0.5441\n",
      "Weighted F1-Score: 0.5424, Unweighted F1-Score: 0.5004,\n",
      "Test Results: \n",
      "Weighted Accuracy: 0.4996, Unweighted Accuracy: 0.5227\n",
      "Weighted F1-Score: 0.5206, Unweighted F1-Score: 0.4938,\n",
      "--------------------------------------------------\n",
      "\n",
      "\n"
     ]
    },
    {
     "output_type": "stream",
     "name": "stderr",
     "text": [
      "100%|██████████| 188/188 [00:09<00:00, 19.18it/s]\n",
      "100%|██████████| 6/6 [00:00<00:00,  6.82it/s]\n",
      "100%|██████████| 6/6 [00:00<00:00,  6.90it/s]\n"
     ]
    },
    {
     "output_type": "stream",
     "name": "stdout",
     "text": [
      "Saved model at epoch 14 with validation unweighted accuracy of 55.08%\n",
      "\n",
      "\n",
      "--------------------------------------------------\n",
      "Epoch  14\n",
      "Training Loss: 0.0205, Validation Loss: 0.0115\n",
      "Validation Results: \n",
      "Weighted Accuracy: 0.4932, Unweighted Accuracy: 0.5508\n",
      "Weighted F1-Score: 0.5495, Unweighted F1-Score: 0.5087,\n",
      "Test Results: \n",
      "Weighted Accuracy: 0.5050, Unweighted Accuracy: 0.5321\n",
      "Weighted F1-Score: 0.5307, Unweighted F1-Score: 0.5037,\n",
      "--------------------------------------------------\n",
      "\n",
      "\n"
     ]
    },
    {
     "output_type": "stream",
     "name": "stderr",
     "text": [
      "100%|██████████| 188/188 [00:09<00:00, 19.10it/s]\n",
      "100%|██████████| 6/6 [00:00<00:00,  7.14it/s]\n",
      "100%|██████████| 6/6 [00:00<00:00,  6.87it/s]\n"
     ]
    },
    {
     "output_type": "stream",
     "name": "stdout",
     "text": [
      "\n",
      "\n",
      "--------------------------------------------------\n",
      "Epoch  15\n",
      "Training Loss: 0.0201, Validation Loss: 0.0116\n",
      "Validation Results: \n",
      "Weighted Accuracy: 0.4765, Unweighted Accuracy: 0.5321\n",
      "Weighted F1-Score: 0.5296, Unweighted F1-Score: 0.4872,\n",
      "Test Results: \n",
      "Weighted Accuracy: 0.4696, Unweighted Accuracy: 0.5147\n",
      "Weighted F1-Score: 0.5117, Unweighted F1-Score: 0.4681,\n",
      "--------------------------------------------------\n",
      "\n",
      "\n"
     ]
    },
    {
     "output_type": "stream",
     "name": "stderr",
     "text": [
      "100%|██████████| 188/188 [00:09<00:00, 19.23it/s]\n",
      "100%|██████████| 6/6 [00:00<00:00,  6.88it/s]\n",
      "100%|██████████| 6/6 [00:00<00:00,  6.90it/s]\n"
     ]
    },
    {
     "output_type": "stream",
     "name": "stdout",
     "text": [
      "\n",
      "\n",
      "--------------------------------------------------\n",
      "Epoch  16\n",
      "Training Loss: 0.0198, Validation Loss: 0.0117\n",
      "Validation Results: \n",
      "Weighted Accuracy: 0.4875, Unweighted Accuracy: 0.5348\n",
      "Weighted F1-Score: 0.5331, Unweighted F1-Score: 0.4979,\n",
      "Test Results: \n",
      "Weighted Accuracy: 0.5013, Unweighted Accuracy: 0.5254\n",
      "Weighted F1-Score: 0.5222, Unweighted F1-Score: 0.4932,\n",
      "--------------------------------------------------\n",
      "\n",
      "\n"
     ]
    },
    {
     "output_type": "stream",
     "name": "stderr",
     "text": [
      "100%|██████████| 188/188 [00:09<00:00, 19.10it/s]\n",
      "100%|██████████| 6/6 [00:00<00:00,  6.91it/s]\n",
      "100%|██████████| 6/6 [00:00<00:00,  6.79it/s]\n"
     ]
    },
    {
     "output_type": "stream",
     "name": "stdout",
     "text": [
      "Epoch 00017: reducing learning rate of group 0 to 1.0000e-06.\n",
      "\n",
      "\n",
      "--------------------------------------------------\n",
      "Epoch  17\n",
      "Training Loss: 0.0195, Validation Loss: 0.0118\n",
      "Validation Results: \n",
      "Weighted Accuracy: 0.4803, Unweighted Accuracy: 0.5307\n",
      "Weighted F1-Score: 0.5297, Unweighted F1-Score: 0.4962,\n",
      "Test Results: \n",
      "Weighted Accuracy: 0.4943, Unweighted Accuracy: 0.5174\n",
      "Weighted F1-Score: 0.5160, Unweighted F1-Score: 0.4908,\n",
      "--------------------------------------------------\n",
      "\n",
      "\n"
     ]
    },
    {
     "output_type": "stream",
     "name": "stderr",
     "text": [
      "100%|██████████| 188/188 [00:09<00:00, 19.35it/s]\n",
      "100%|██████████| 6/6 [00:00<00:00,  6.80it/s]\n",
      "100%|██████████| 6/6 [00:00<00:00,  6.72it/s]\n"
     ]
    },
    {
     "output_type": "stream",
     "name": "stdout",
     "text": [
      "\n",
      "\n",
      "--------------------------------------------------\n",
      "Epoch  18\n",
      "Training Loss: 0.0189, Validation Loss: 0.0118\n",
      "Validation Results: \n",
      "Weighted Accuracy: 0.4704, Unweighted Accuracy: 0.5321\n",
      "Weighted F1-Score: 0.5299, Unweighted F1-Score: 0.4832,\n",
      "Test Results: \n",
      "Weighted Accuracy: 0.5003, Unweighted Accuracy: 0.5227\n",
      "Weighted F1-Score: 0.5214, Unweighted F1-Score: 0.4958,\n",
      "--------------------------------------------------\n",
      "\n",
      "\n"
     ]
    },
    {
     "output_type": "stream",
     "name": "stderr",
     "text": [
      "100%|██████████| 188/188 [00:09<00:00, 19.21it/s]\n",
      "100%|██████████| 6/6 [00:00<00:00,  6.96it/s]\n",
      "100%|██████████| 6/6 [00:00<00:00,  6.74it/s]\n"
     ]
    },
    {
     "output_type": "stream",
     "name": "stdout",
     "text": [
      "\n",
      "\n",
      "--------------------------------------------------\n",
      "Epoch  19\n",
      "Training Loss: 0.0189, Validation Loss: 0.0118\n",
      "Validation Results: \n",
      "Weighted Accuracy: 0.4714, Unweighted Accuracy: 0.5334\n",
      "Weighted F1-Score: 0.5312, Unweighted F1-Score: 0.4838,\n",
      "Test Results: \n",
      "Weighted Accuracy: 0.5047, Unweighted Accuracy: 0.5281\n",
      "Weighted F1-Score: 0.5264, Unweighted F1-Score: 0.5003,\n",
      "--------------------------------------------------\n",
      "\n",
      "\n"
     ]
    },
    {
     "output_type": "stream",
     "name": "stderr",
     "text": [
      "100%|██████████| 188/188 [00:09<00:00, 19.05it/s]\n",
      "100%|██████████| 6/6 [00:00<00:00,  6.84it/s]\n",
      "100%|██████████| 6/6 [00:00<00:00,  6.78it/s]\n"
     ]
    },
    {
     "output_type": "stream",
     "name": "stdout",
     "text": [
      "\n",
      "\n",
      "--------------------------------------------------\n",
      "Epoch  20\n",
      "Training Loss: 0.0188, Validation Loss: 0.0118\n",
      "Validation Results: \n",
      "Weighted Accuracy: 0.4691, Unweighted Accuracy: 0.5294\n",
      "Weighted F1-Score: 0.5272, Unweighted F1-Score: 0.4810,\n",
      "Test Results: \n",
      "Weighted Accuracy: 0.5020, Unweighted Accuracy: 0.5241\n",
      "Weighted F1-Score: 0.5226, Unweighted F1-Score: 0.4974,\n",
      "--------------------------------------------------\n",
      "\n",
      "\n"
     ]
    },
    {
     "output_type": "stream",
     "name": "stderr",
     "text": [
      "100%|██████████| 188/188 [00:09<00:00, 19.11it/s]\n",
      "100%|██████████| 6/6 [00:00<00:00,  6.83it/s]\n",
      "100%|██████████| 6/6 [00:00<00:00,  6.77it/s]\n"
     ]
    },
    {
     "output_type": "stream",
     "name": "stdout",
     "text": [
      "\n",
      "\n",
      "--------------------------------------------------\n",
      "Epoch  21\n",
      "Training Loss: 0.0189, Validation Loss: 0.0118\n",
      "Validation Results: \n",
      "Weighted Accuracy: 0.4710, Unweighted Accuracy: 0.5307\n",
      "Weighted F1-Score: 0.5288, Unweighted F1-Score: 0.4836,\n",
      "Test Results: \n",
      "Weighted Accuracy: 0.5015, Unweighted Accuracy: 0.5241\n",
      "Weighted F1-Score: 0.5227, Unweighted F1-Score: 0.4979,\n",
      "--------------------------------------------------\n",
      "\n",
      "\n"
     ]
    },
    {
     "output_type": "stream",
     "name": "stderr",
     "text": [
      "100%|██████████| 188/188 [00:09<00:00, 19.27it/s]\n",
      "100%|██████████| 6/6 [00:00<00:00,  6.89it/s]\n",
      "100%|██████████| 6/6 [00:00<00:00,  6.81it/s]\n"
     ]
    },
    {
     "output_type": "stream",
     "name": "stdout",
     "text": [
      "\n",
      "\n",
      "--------------------------------------------------\n",
      "Epoch  22\n",
      "Training Loss: 0.0189, Validation Loss: 0.0119\n",
      "Validation Results: \n",
      "Weighted Accuracy: 0.4717, Unweighted Accuracy: 0.5307\n",
      "Weighted F1-Score: 0.5288, Unweighted F1-Score: 0.4835,\n",
      "Test Results: \n",
      "Weighted Accuracy: 0.5043, Unweighted Accuracy: 0.5267\n",
      "Weighted F1-Score: 0.5252, Unweighted F1-Score: 0.5000,\n",
      "--------------------------------------------------\n",
      "\n",
      "\n"
     ]
    },
    {
     "output_type": "stream",
     "name": "stderr",
     "text": [
      "100%|██████████| 188/188 [00:09<00:00, 19.04it/s]\n",
      "100%|██████████| 6/6 [00:00<00:00,  6.81it/s]\n",
      "100%|██████████| 6/6 [00:00<00:00,  6.84it/s]\n"
     ]
    },
    {
     "output_type": "stream",
     "name": "stdout",
     "text": [
      "Epoch 00023: reducing learning rate of group 0 to 1.0000e-07.\n",
      "\n",
      "\n",
      "--------------------------------------------------\n",
      "Epoch  23\n",
      "Training Loss: 0.0187, Validation Loss: 0.0119\n",
      "Validation Results: \n",
      "Weighted Accuracy: 0.4732, Unweighted Accuracy: 0.5334\n",
      "Weighted F1-Score: 0.5314, Unweighted F1-Score: 0.4853,\n",
      "Test Results: \n",
      "Weighted Accuracy: 0.5035, Unweighted Accuracy: 0.5267\n",
      "Weighted F1-Score: 0.5250, Unweighted F1-Score: 0.4983,\n",
      "--------------------------------------------------\n",
      "\n",
      "\n"
     ]
    },
    {
     "output_type": "stream",
     "name": "stderr",
     "text": [
      "100%|██████████| 188/188 [00:09<00:00, 19.14it/s]\n",
      "100%|██████████| 6/6 [00:00<00:00,  6.95it/s]\n",
      "100%|██████████| 6/6 [00:00<00:00,  6.88it/s]\n"
     ]
    },
    {
     "output_type": "stream",
     "name": "stdout",
     "text": [
      "\n",
      "\n",
      "--------------------------------------------------\n",
      "Epoch  24\n",
      "Training Loss: 0.0187, Validation Loss: 0.0119\n",
      "Validation Results: \n",
      "Weighted Accuracy: 0.4732, Unweighted Accuracy: 0.5334\n",
      "Weighted F1-Score: 0.5314, Unweighted F1-Score: 0.4855,\n",
      "Test Results: \n",
      "Weighted Accuracy: 0.5035, Unweighted Accuracy: 0.5267\n",
      "Weighted F1-Score: 0.5250, Unweighted F1-Score: 0.4986,\n",
      "--------------------------------------------------\n",
      "\n",
      "\n"
     ]
    },
    {
     "output_type": "stream",
     "name": "stderr",
     "text": [
      "100%|██████████| 188/188 [00:09<00:00, 19.16it/s]\n",
      "100%|██████████| 6/6 [00:00<00:00,  6.91it/s]\n",
      "100%|██████████| 6/6 [00:00<00:00,  6.91it/s]\n"
     ]
    },
    {
     "output_type": "stream",
     "name": "stdout",
     "text": [
      "\n",
      "\n",
      "--------------------------------------------------\n",
      "Epoch  25\n",
      "Training Loss: 0.0187, Validation Loss: 0.0119\n",
      "Validation Results: \n",
      "Weighted Accuracy: 0.4732, Unweighted Accuracy: 0.5334\n",
      "Weighted F1-Score: 0.5314, Unweighted F1-Score: 0.4855,\n",
      "Test Results: \n",
      "Weighted Accuracy: 0.5035, Unweighted Accuracy: 0.5267\n",
      "Weighted F1-Score: 0.5250, Unweighted F1-Score: 0.4986,\n",
      "--------------------------------------------------\n",
      "\n",
      "\n"
     ]
    },
    {
     "output_type": "stream",
     "name": "stderr",
     "text": [
      "100%|██████████| 188/188 [00:09<00:00, 19.43it/s]\n",
      "100%|██████████| 6/6 [00:00<00:00,  6.95it/s]\n",
      "100%|██████████| 6/6 [00:00<00:00,  6.69it/s]\n"
     ]
    },
    {
     "output_type": "stream",
     "name": "stdout",
     "text": [
      "\n",
      "\n",
      "--------------------------------------------------\n",
      "Epoch  26\n",
      "Training Loss: 0.0187, Validation Loss: 0.0119\n",
      "Validation Results: \n",
      "Weighted Accuracy: 0.4732, Unweighted Accuracy: 0.5334\n",
      "Weighted F1-Score: 0.5314, Unweighted F1-Score: 0.4853,\n",
      "Test Results: \n",
      "Weighted Accuracy: 0.5026, Unweighted Accuracy: 0.5254\n",
      "Weighted F1-Score: 0.5237, Unweighted F1-Score: 0.4978,\n",
      "--------------------------------------------------\n",
      "\n",
      "\n"
     ]
    },
    {
     "output_type": "stream",
     "name": "stderr",
     "text": [
      "100%|██████████| 188/188 [00:09<00:00, 19.10it/s]\n",
      "100%|██████████| 6/6 [00:00<00:00,  7.05it/s]\n",
      "100%|██████████| 6/6 [00:00<00:00,  6.76it/s]\n"
     ]
    },
    {
     "output_type": "stream",
     "name": "stdout",
     "text": [
      "\n",
      "\n",
      "--------------------------------------------------\n",
      "Epoch  27\n",
      "Training Loss: 0.0187, Validation Loss: 0.0119\n",
      "Validation Results: \n",
      "Weighted Accuracy: 0.4732, Unweighted Accuracy: 0.5334\n",
      "Weighted F1-Score: 0.5314, Unweighted F1-Score: 0.4853,\n",
      "Test Results: \n",
      "Weighted Accuracy: 0.5026, Unweighted Accuracy: 0.5254\n",
      "Weighted F1-Score: 0.5237, Unweighted F1-Score: 0.4978,\n",
      "--------------------------------------------------\n",
      "\n",
      "\n"
     ]
    },
    {
     "output_type": "stream",
     "name": "stderr",
     "text": [
      "100%|██████████| 188/188 [00:09<00:00, 19.25it/s]\n",
      "100%|██████████| 6/6 [00:00<00:00,  6.86it/s]\n",
      "100%|██████████| 6/6 [00:00<00:00,  6.72it/s]\n"
     ]
    },
    {
     "output_type": "stream",
     "name": "stdout",
     "text": [
      "\n",
      "\n",
      "--------------------------------------------------\n",
      "Epoch  28\n",
      "Training Loss: 0.0187, Validation Loss: 0.0119\n",
      "Validation Results: \n",
      "Weighted Accuracy: 0.4732, Unweighted Accuracy: 0.5334\n",
      "Weighted F1-Score: 0.5314, Unweighted F1-Score: 0.4853,\n",
      "Test Results: \n",
      "Weighted Accuracy: 0.5026, Unweighted Accuracy: 0.5254\n",
      "Weighted F1-Score: 0.5237, Unweighted F1-Score: 0.4978,\n",
      "--------------------------------------------------\n",
      "\n",
      "\n",
      "Early stopped. No improvement in validation loss for 10 consecutive epoches.\n"
     ]
    },
    {
     "output_type": "stream",
     "name": "stderr",
     "text": [
      "100%|██████████| 188/188 [00:09<00:00, 20.04it/s]\n",
      "100%|██████████| 6/6 [00:00<00:00,  7.11it/s]\n",
      "100%|██████████| 6/6 [00:00<00:00,  7.09it/s]\n"
     ]
    },
    {
     "output_type": "stream",
     "name": "stdout",
     "text": [
      "Saved model at epoch 1 with validation unweighted accuracy of 38.10%\n",
      "\n",
      "\n",
      "--------------------------------------------------\n",
      "Epoch  1\n",
      "Training Loss: 0.0546, Validation Loss: 0.0131\n",
      "Validation Results: \n",
      "Weighted Accuracy: 0.2925, Unweighted Accuracy: 0.3810\n",
      "Weighted F1-Score: 0.3335, Unweighted F1-Score: 0.2548,\n",
      "Test Results: \n",
      "Weighted Accuracy: 0.2692, Unweighted Accuracy: 0.3783\n",
      "Weighted F1-Score: 0.3346, Unweighted F1-Score: 0.2392,\n",
      "--------------------------------------------------\n",
      "\n",
      "\n"
     ]
    },
    {
     "output_type": "stream",
     "name": "stderr",
     "text": [
      "100%|██████████| 188/188 [00:09<00:00, 19.83it/s]\n",
      "100%|██████████| 6/6 [00:00<00:00,  6.99it/s]\n",
      "100%|██████████| 6/6 [00:00<00:00,  6.92it/s]\n"
     ]
    },
    {
     "output_type": "stream",
     "name": "stdout",
     "text": [
      "Saved model at epoch 2 with validation unweighted accuracy of 44.65%\n",
      "\n",
      "\n",
      "--------------------------------------------------\n",
      "Epoch  2\n",
      "Training Loss: 0.0470, Validation Loss: 0.0116\n",
      "Validation Results: \n",
      "Weighted Accuracy: 0.3455, Unweighted Accuracy: 0.4465\n",
      "Weighted F1-Score: 0.4216, Unweighted F1-Score: 0.3365,\n",
      "Test Results: \n",
      "Weighted Accuracy: 0.3262, Unweighted Accuracy: 0.4358\n",
      "Weighted F1-Score: 0.4118, Unweighted F1-Score: 0.3191,\n",
      "--------------------------------------------------\n",
      "\n",
      "\n"
     ]
    },
    {
     "output_type": "stream",
     "name": "stderr",
     "text": [
      "100%|██████████| 188/188 [00:09<00:00, 20.39it/s]\n",
      "100%|██████████| 6/6 [00:00<00:00,  6.93it/s]\n",
      "100%|██████████| 6/6 [00:00<00:00,  6.89it/s]\n"
     ]
    },
    {
     "output_type": "stream",
     "name": "stdout",
     "text": [
      "Saved model at epoch 3 with validation unweighted accuracy of 45.45%\n",
      "\n",
      "\n",
      "--------------------------------------------------\n",
      "Epoch  3\n",
      "Training Loss: 0.0427, Validation Loss: 0.0111\n",
      "Validation Results: \n",
      "Weighted Accuracy: 0.3700, Unweighted Accuracy: 0.4545\n",
      "Weighted F1-Score: 0.4262, Unweighted F1-Score: 0.3614,\n",
      "Test Results: \n",
      "Weighted Accuracy: 0.3980, Unweighted Accuracy: 0.4412\n",
      "Weighted F1-Score: 0.4200, Unweighted F1-Score: 0.3850,\n",
      "--------------------------------------------------\n",
      "\n",
      "\n"
     ]
    },
    {
     "output_type": "stream",
     "name": "stderr",
     "text": [
      "100%|██████████| 188/188 [00:09<00:00, 20.32it/s]\n",
      "100%|██████████| 6/6 [00:00<00:00,  6.94it/s]\n",
      "100%|██████████| 6/6 [00:00<00:00,  6.83it/s]\n"
     ]
    },
    {
     "output_type": "stream",
     "name": "stdout",
     "text": [
      "Saved model at epoch 4 with validation unweighted accuracy of 48.26%\n",
      "\n",
      "\n",
      "--------------------------------------------------\n",
      "Epoch  4\n",
      "Training Loss: 0.0397, Validation Loss: 0.0106\n",
      "Validation Results: \n",
      "Weighted Accuracy: 0.4027, Unweighted Accuracy: 0.4826\n",
      "Weighted F1-Score: 0.4646, Unweighted F1-Score: 0.4062,\n",
      "Test Results: \n",
      "Weighted Accuracy: 0.3870, Unweighted Accuracy: 0.4693\n",
      "Weighted F1-Score: 0.4517, Unweighted F1-Score: 0.3927,\n",
      "--------------------------------------------------\n",
      "\n",
      "\n"
     ]
    },
    {
     "output_type": "stream",
     "name": "stderr",
     "text": [
      "100%|██████████| 188/188 [00:09<00:00, 20.33it/s]\n",
      "100%|██████████| 6/6 [00:00<00:00,  6.99it/s]\n",
      "100%|██████████| 6/6 [00:00<00:00,  6.90it/s]\n"
     ]
    },
    {
     "output_type": "stream",
     "name": "stdout",
     "text": [
      "Saved model at epoch 5 with validation unweighted accuracy of 50.00%\n",
      "\n",
      "\n",
      "--------------------------------------------------\n",
      "Epoch  5\n",
      "Training Loss: 0.0374, Validation Loss: 0.0103\n",
      "Validation Results: \n",
      "Weighted Accuracy: 0.4352, Unweighted Accuracy: 0.5000\n",
      "Weighted F1-Score: 0.4972, Unweighted F1-Score: 0.4490,\n",
      "Test Results: \n",
      "Weighted Accuracy: 0.4297, Unweighted Accuracy: 0.4813\n",
      "Weighted F1-Score: 0.4798, Unweighted F1-Score: 0.4371,\n",
      "--------------------------------------------------\n",
      "\n",
      "\n"
     ]
    },
    {
     "output_type": "stream",
     "name": "stderr",
     "text": [
      "100%|██████████| 188/188 [00:09<00:00, 20.22it/s]\n",
      "100%|██████████| 6/6 [00:00<00:00,  7.05it/s]\n",
      "100%|██████████| 6/6 [00:00<00:00,  6.99it/s]\n"
     ]
    },
    {
     "output_type": "stream",
     "name": "stdout",
     "text": [
      "Saved model at epoch 6 with validation unweighted accuracy of 52.27%\n",
      "\n",
      "\n",
      "--------------------------------------------------\n",
      "Epoch  6\n",
      "Training Loss: 0.0355, Validation Loss: 0.0103\n",
      "Validation Results: \n",
      "Weighted Accuracy: 0.4327, Unweighted Accuracy: 0.5227\n",
      "Weighted F1-Score: 0.5084, Unweighted F1-Score: 0.4413,\n",
      "Test Results: \n",
      "Weighted Accuracy: 0.4441, Unweighted Accuracy: 0.4840\n",
      "Weighted F1-Score: 0.4717, Unweighted F1-Score: 0.4364,\n",
      "--------------------------------------------------\n",
      "\n",
      "\n"
     ]
    },
    {
     "output_type": "stream",
     "name": "stderr",
     "text": [
      "100%|██████████| 188/188 [00:09<00:00, 20.18it/s]\n",
      "100%|██████████| 6/6 [00:00<00:00,  7.04it/s]\n",
      "100%|██████████| 6/6 [00:00<00:00,  6.92it/s]\n"
     ]
    },
    {
     "output_type": "stream",
     "name": "stdout",
     "text": [
      "Saved model at epoch 7 with validation unweighted accuracy of 53.07%\n",
      "\n",
      "\n",
      "--------------------------------------------------\n",
      "Epoch  7\n",
      "Training Loss: 0.0336, Validation Loss: 0.0104\n",
      "Validation Results: \n",
      "Weighted Accuracy: 0.4586, Unweighted Accuracy: 0.5307\n",
      "Weighted F1-Score: 0.5223, Unweighted F1-Score: 0.4760,\n",
      "Test Results: \n",
      "Weighted Accuracy: 0.4422, Unweighted Accuracy: 0.4973\n",
      "Weighted F1-Score: 0.4891, Unweighted F1-Score: 0.4342,\n",
      "--------------------------------------------------\n",
      "\n",
      "\n"
     ]
    },
    {
     "output_type": "stream",
     "name": "stderr",
     "text": [
      "100%|██████████| 188/188 [00:09<00:00, 20.09it/s]\n",
      "100%|██████████| 6/6 [00:00<00:00,  7.13it/s]\n",
      "100%|██████████| 6/6 [00:00<00:00,  7.02it/s]\n"
     ]
    },
    {
     "output_type": "stream",
     "name": "stdout",
     "text": [
      "\n",
      "\n",
      "--------------------------------------------------\n",
      "Epoch  8\n",
      "Training Loss: 0.0318, Validation Loss: 0.0107\n",
      "Validation Results: \n",
      "Weighted Accuracy: 0.4312, Unweighted Accuracy: 0.5053\n",
      "Weighted F1-Score: 0.4978, Unweighted F1-Score: 0.4288,\n",
      "Test Results: \n",
      "Weighted Accuracy: 0.4269, Unweighted Accuracy: 0.4799\n",
      "Weighted F1-Score: 0.4749, Unweighted F1-Score: 0.4309,\n",
      "--------------------------------------------------\n",
      "\n",
      "\n"
     ]
    },
    {
     "output_type": "stream",
     "name": "stderr",
     "text": [
      "100%|██████████| 188/188 [00:09<00:00, 20.28it/s]\n",
      "100%|██████████| 6/6 [00:00<00:00,  7.11it/s]\n",
      "100%|██████████| 6/6 [00:00<00:00,  6.91it/s]\n"
     ]
    },
    {
     "output_type": "stream",
     "name": "stdout",
     "text": [
      "\n",
      "\n",
      "--------------------------------------------------\n",
      "Epoch  9\n",
      "Training Loss: 0.0302, Validation Loss: 0.0108\n",
      "Validation Results: \n",
      "Weighted Accuracy: 0.4744, Unweighted Accuracy: 0.5147\n",
      "Weighted F1-Score: 0.5155, Unweighted F1-Score: 0.4853,\n",
      "Test Results: \n",
      "Weighted Accuracy: 0.4875, Unweighted Accuracy: 0.5201\n",
      "Weighted F1-Score: 0.5200, Unweighted F1-Score: 0.4813,\n",
      "--------------------------------------------------\n",
      "\n",
      "\n"
     ]
    },
    {
     "output_type": "stream",
     "name": "stderr",
     "text": [
      "100%|██████████| 188/188 [00:09<00:00, 20.30it/s]\n",
      "100%|██████████| 6/6 [00:00<00:00,  6.94it/s]\n",
      "100%|██████████| 6/6 [00:00<00:00,  7.06it/s]\n"
     ]
    },
    {
     "output_type": "stream",
     "name": "stdout",
     "text": [
      "\n",
      "\n",
      "--------------------------------------------------\n",
      "Epoch  10\n",
      "Training Loss: 0.0285, Validation Loss: 0.0109\n",
      "Validation Results: \n",
      "Weighted Accuracy: 0.4471, Unweighted Accuracy: 0.5067\n",
      "Weighted F1-Score: 0.5046, Unweighted F1-Score: 0.4555,\n",
      "Test Results: \n",
      "Weighted Accuracy: 0.4835, Unweighted Accuracy: 0.4973\n",
      "Weighted F1-Score: 0.4965, Unweighted F1-Score: 0.4711,\n",
      "--------------------------------------------------\n",
      "\n",
      "\n"
     ]
    },
    {
     "output_type": "stream",
     "name": "stderr",
     "text": [
      "100%|██████████| 188/188 [00:09<00:00, 20.39it/s]\n",
      "100%|██████████| 6/6 [00:00<00:00,  7.00it/s]\n",
      "100%|██████████| 6/6 [00:00<00:00,  6.87it/s]\n"
     ]
    },
    {
     "output_type": "stream",
     "name": "stdout",
     "text": [
      "\n",
      "\n",
      "--------------------------------------------------\n",
      "Epoch  11\n",
      "Training Loss: 0.0267, Validation Loss: 0.0116\n",
      "Validation Results: \n",
      "Weighted Accuracy: 0.4668, Unweighted Accuracy: 0.4987\n",
      "Weighted F1-Score: 0.4947, Unweighted F1-Score: 0.4657,\n",
      "Test Results: \n",
      "Weighted Accuracy: 0.4703, Unweighted Accuracy: 0.4840\n",
      "Weighted F1-Score: 0.4792, Unweighted F1-Score: 0.4394,\n",
      "--------------------------------------------------\n",
      "\n",
      "\n"
     ]
    },
    {
     "output_type": "stream",
     "name": "stderr",
     "text": [
      "100%|██████████| 188/188 [00:09<00:00, 19.97it/s]\n",
      "100%|██████████| 6/6 [00:00<00:00,  7.02it/s]\n",
      "100%|██████████| 6/6 [00:00<00:00,  6.98it/s]\n"
     ]
    },
    {
     "output_type": "stream",
     "name": "stdout",
     "text": [
      "Epoch 00012: reducing learning rate of group 0 to 1.0000e-05.\n",
      "\n",
      "\n",
      "--------------------------------------------------\n",
      "Epoch  12\n",
      "Training Loss: 0.0249, Validation Loss: 0.0119\n",
      "Validation Results: \n",
      "Weighted Accuracy: 0.4330, Unweighted Accuracy: 0.5013\n",
      "Weighted F1-Score: 0.4980, Unweighted F1-Score: 0.4400,\n",
      "Test Results: \n",
      "Weighted Accuracy: 0.4142, Unweighted Accuracy: 0.4679\n",
      "Weighted F1-Score: 0.4688, Unweighted F1-Score: 0.4175,\n",
      "--------------------------------------------------\n",
      "\n",
      "\n"
     ]
    },
    {
     "output_type": "stream",
     "name": "stderr",
     "text": [
      "100%|██████████| 188/188 [00:09<00:00, 20.53it/s]\n",
      "100%|██████████| 6/6 [00:00<00:00,  7.02it/s]\n",
      "100%|██████████| 6/6 [00:00<00:00,  6.77it/s]\n"
     ]
    },
    {
     "output_type": "stream",
     "name": "stdout",
     "text": [
      "\n",
      "\n",
      "--------------------------------------------------\n",
      "Epoch  13\n",
      "Training Loss: 0.0213, Validation Loss: 0.0116\n",
      "Validation Results: \n",
      "Weighted Accuracy: 0.4500, Unweighted Accuracy: 0.5134\n",
      "Weighted F1-Score: 0.5105, Unweighted F1-Score: 0.4568,\n",
      "Test Results: \n",
      "Weighted Accuracy: 0.4547, Unweighted Accuracy: 0.5107\n",
      "Weighted F1-Score: 0.5089, Unweighted F1-Score: 0.4535,\n",
      "--------------------------------------------------\n",
      "\n",
      "\n"
     ]
    },
    {
     "output_type": "stream",
     "name": "stderr",
     "text": [
      "100%|██████████| 188/188 [00:09<00:00, 19.88it/s]\n",
      "100%|██████████| 6/6 [00:00<00:00,  7.04it/s]\n",
      "100%|██████████| 6/6 [00:00<00:00,  6.88it/s]\n"
     ]
    },
    {
     "output_type": "stream",
     "name": "stdout",
     "text": [
      "\n",
      "\n",
      "--------------------------------------------------\n",
      "Epoch  14\n",
      "Training Loss: 0.0205, Validation Loss: 0.0117\n",
      "Validation Results: \n",
      "Weighted Accuracy: 0.4434, Unweighted Accuracy: 0.5107\n",
      "Weighted F1-Score: 0.5080, Unweighted F1-Score: 0.4532,\n",
      "Test Results: \n",
      "Weighted Accuracy: 0.4512, Unweighted Accuracy: 0.5160\n",
      "Weighted F1-Score: 0.5136, Unweighted F1-Score: 0.4522,\n",
      "--------------------------------------------------\n",
      "\n",
      "\n"
     ]
    },
    {
     "output_type": "stream",
     "name": "stderr",
     "text": [
      "100%|██████████| 188/188 [00:09<00:00, 20.29it/s]\n",
      "100%|██████████| 6/6 [00:00<00:00,  7.04it/s]\n",
      "100%|██████████| 6/6 [00:00<00:00,  6.35it/s]\n"
     ]
    },
    {
     "output_type": "stream",
     "name": "stdout",
     "text": [
      "\n",
      "\n",
      "--------------------------------------------------\n",
      "Epoch  15\n",
      "Training Loss: 0.0199, Validation Loss: 0.0118\n",
      "Validation Results: \n",
      "Weighted Accuracy: 0.4455, Unweighted Accuracy: 0.5134\n",
      "Weighted F1-Score: 0.5101, Unweighted F1-Score: 0.4536,\n",
      "Test Results: \n",
      "Weighted Accuracy: 0.4474, Unweighted Accuracy: 0.5147\n",
      "Weighted F1-Score: 0.5117, Unweighted F1-Score: 0.4475,\n",
      "--------------------------------------------------\n",
      "\n",
      "\n"
     ]
    },
    {
     "output_type": "stream",
     "name": "stderr",
     "text": [
      "100%|██████████| 188/188 [00:09<00:00, 20.27it/s]\n",
      "100%|██████████| 6/6 [00:00<00:00,  7.03it/s]\n",
      "100%|██████████| 6/6 [00:00<00:00,  6.97it/s]\n"
     ]
    },
    {
     "output_type": "stream",
     "name": "stdout",
     "text": [
      "\n",
      "\n",
      "--------------------------------------------------\n",
      "Epoch  16\n",
      "Training Loss: 0.0196, Validation Loss: 0.0119\n",
      "Validation Results: \n",
      "Weighted Accuracy: 0.4444, Unweighted Accuracy: 0.5080\n",
      "Weighted F1-Score: 0.5050, Unweighted F1-Score: 0.4511,\n",
      "Test Results: \n",
      "Weighted Accuracy: 0.4569, Unweighted Accuracy: 0.5147\n",
      "Weighted F1-Score: 0.5129, Unweighted F1-Score: 0.4564,\n",
      "--------------------------------------------------\n",
      "\n",
      "\n"
     ]
    },
    {
     "output_type": "stream",
     "name": "stderr",
     "text": [
      "100%|██████████| 188/188 [00:09<00:00, 20.25it/s]\n",
      "100%|██████████| 6/6 [00:00<00:00,  7.14it/s]\n",
      "100%|██████████| 6/6 [00:00<00:00,  7.13it/s]\n"
     ]
    },
    {
     "output_type": "stream",
     "name": "stdout",
     "text": [
      "\n",
      "\n",
      "--------------------------------------------------\n",
      "Epoch  17\n",
      "Training Loss: 0.0193, Validation Loss: 0.0121\n",
      "Validation Results: \n",
      "Weighted Accuracy: 0.4526, Unweighted Accuracy: 0.5120\n",
      "Weighted F1-Score: 0.5091, Unweighted F1-Score: 0.4604,\n",
      "Test Results: \n",
      "Weighted Accuracy: 0.4472, Unweighted Accuracy: 0.5053\n",
      "Weighted F1-Score: 0.5028, Unweighted F1-Score: 0.4455,\n",
      "--------------------------------------------------\n",
      "\n",
      "\n"
     ]
    },
    {
     "output_type": "stream",
     "name": "stderr",
     "text": [
      "100%|██████████| 188/188 [00:09<00:00, 20.14it/s]\n",
      "100%|██████████| 6/6 [00:00<00:00,  7.15it/s]\n",
      "100%|██████████| 6/6 [00:00<00:00,  7.15it/s]\n"
     ]
    },
    {
     "output_type": "stream",
     "name": "stdout",
     "text": [
      "Epoch 00018: reducing learning rate of group 0 to 1.0000e-06.\n",
      "\n",
      "\n",
      "--------------------------------------------------\n",
      "Epoch  18\n",
      "Training Loss: 0.0190, Validation Loss: 0.0121\n",
      "Validation Results: \n",
      "Weighted Accuracy: 0.4540, Unweighted Accuracy: 0.5160\n",
      "Weighted F1-Score: 0.5113, Unweighted F1-Score: 0.4589,\n",
      "Test Results: \n",
      "Weighted Accuracy: 0.4437, Unweighted Accuracy: 0.4947\n",
      "Weighted F1-Score: 0.4918, Unweighted F1-Score: 0.4376,\n",
      "--------------------------------------------------\n",
      "\n",
      "\n"
     ]
    },
    {
     "output_type": "stream",
     "name": "stderr",
     "text": [
      "100%|██████████| 188/188 [00:09<00:00, 20.33it/s]\n",
      "100%|██████████| 6/6 [00:00<00:00,  7.10it/s]\n",
      "100%|██████████| 6/6 [00:00<00:00,  6.83it/s]\n"
     ]
    },
    {
     "output_type": "stream",
     "name": "stdout",
     "text": [
      "\n",
      "\n",
      "--------------------------------------------------\n",
      "Epoch  19\n",
      "Training Loss: 0.0185, Validation Loss: 0.0121\n",
      "Validation Results: \n",
      "Weighted Accuracy: 0.4586, Unweighted Accuracy: 0.5134\n",
      "Weighted F1-Score: 0.5109, Unweighted F1-Score: 0.4686,\n",
      "Test Results: \n",
      "Weighted Accuracy: 0.4511, Unweighted Accuracy: 0.5094\n",
      "Weighted F1-Score: 0.5076, Unweighted F1-Score: 0.4484,\n",
      "--------------------------------------------------\n",
      "\n",
      "\n"
     ]
    },
    {
     "output_type": "stream",
     "name": "stderr",
     "text": [
      "100%|██████████| 188/188 [00:09<00:00, 20.53it/s]\n",
      "100%|██████████| 6/6 [00:00<00:00,  7.21it/s]\n",
      "100%|██████████| 6/6 [00:00<00:00,  7.10it/s]\n"
     ]
    },
    {
     "output_type": "stream",
     "name": "stdout",
     "text": [
      "\n",
      "\n",
      "--------------------------------------------------\n",
      "Epoch  20\n",
      "Training Loss: 0.0184, Validation Loss: 0.0121\n",
      "Validation Results: \n",
      "Weighted Accuracy: 0.4593, Unweighted Accuracy: 0.5147\n",
      "Weighted F1-Score: 0.5125, Unweighted F1-Score: 0.4720,\n",
      "Test Results: \n",
      "Weighted Accuracy: 0.4521, Unweighted Accuracy: 0.5120\n",
      "Weighted F1-Score: 0.5103, Unweighted F1-Score: 0.4513,\n",
      "--------------------------------------------------\n",
      "\n",
      "\n"
     ]
    },
    {
     "output_type": "stream",
     "name": "stderr",
     "text": [
      "100%|██████████| 188/188 [00:09<00:00, 20.28it/s]\n",
      "100%|██████████| 6/6 [00:00<00:00,  7.04it/s]\n",
      "100%|██████████| 6/6 [00:00<00:00,  6.85it/s]\n"
     ]
    },
    {
     "output_type": "stream",
     "name": "stdout",
     "text": [
      "\n",
      "\n",
      "--------------------------------------------------\n",
      "Epoch  21\n",
      "Training Loss: 0.0184, Validation Loss: 0.0121\n",
      "Validation Results: \n",
      "Weighted Accuracy: 0.4468, Unweighted Accuracy: 0.5134\n",
      "Weighted F1-Score: 0.5101, Unweighted F1-Score: 0.4536,\n",
      "Test Results: \n",
      "Weighted Accuracy: 0.4503, Unweighted Accuracy: 0.5120\n",
      "Weighted F1-Score: 0.5100, Unweighted F1-Score: 0.4496,\n",
      "--------------------------------------------------\n",
      "\n",
      "\n"
     ]
    },
    {
     "output_type": "stream",
     "name": "stderr",
     "text": [
      "100%|██████████| 188/188 [00:09<00:00, 20.38it/s]\n",
      "100%|██████████| 6/6 [00:00<00:00,  7.08it/s]\n",
      "100%|██████████| 6/6 [00:00<00:00,  6.90it/s]\n"
     ]
    },
    {
     "output_type": "stream",
     "name": "stdout",
     "text": [
      "\n",
      "\n",
      "--------------------------------------------------\n",
      "Epoch  22\n",
      "Training Loss: 0.0183, Validation Loss: 0.0121\n",
      "Validation Results: \n",
      "Weighted Accuracy: 0.4468, Unweighted Accuracy: 0.5134\n",
      "Weighted F1-Score: 0.5101, Unweighted F1-Score: 0.4535,\n",
      "Test Results: \n",
      "Weighted Accuracy: 0.4496, Unweighted Accuracy: 0.5107\n",
      "Weighted F1-Score: 0.5086, Unweighted F1-Score: 0.4483,\n",
      "--------------------------------------------------\n",
      "\n",
      "\n"
     ]
    },
    {
     "output_type": "stream",
     "name": "stderr",
     "text": [
      "100%|██████████| 188/188 [00:09<00:00, 20.20it/s]\n",
      "100%|██████████| 6/6 [00:00<00:00,  7.06it/s]\n",
      "100%|██████████| 6/6 [00:00<00:00,  6.92it/s]\n"
     ]
    },
    {
     "output_type": "stream",
     "name": "stdout",
     "text": [
      "\n",
      "\n",
      "--------------------------------------------------\n",
      "Epoch  23\n",
      "Training Loss: 0.0183, Validation Loss: 0.0122\n",
      "Validation Results: \n",
      "Weighted Accuracy: 0.4460, Unweighted Accuracy: 0.5120\n",
      "Weighted F1-Score: 0.5087, Unweighted F1-Score: 0.4524,\n",
      "Test Results: \n",
      "Weighted Accuracy: 0.4478, Unweighted Accuracy: 0.5107\n",
      "Weighted F1-Score: 0.5082, Unweighted F1-Score: 0.4465,\n",
      "--------------------------------------------------\n",
      "\n",
      "\n"
     ]
    },
    {
     "output_type": "stream",
     "name": "stderr",
     "text": [
      "100%|██████████| 188/188 [00:09<00:00, 20.05it/s]\n",
      "100%|██████████| 6/6 [00:00<00:00,  6.98it/s]\n",
      "100%|██████████| 6/6 [00:00<00:00,  6.89it/s]\n"
     ]
    },
    {
     "output_type": "stream",
     "name": "stdout",
     "text": [
      "Epoch 00024: reducing learning rate of group 0 to 1.0000e-07.\n",
      "\n",
      "\n",
      "--------------------------------------------------\n",
      "Epoch  24\n",
      "Training Loss: 0.0182, Validation Loss: 0.0122\n",
      "Validation Results: \n",
      "Weighted Accuracy: 0.4480, Unweighted Accuracy: 0.5147\n",
      "Weighted F1-Score: 0.5114, Unweighted F1-Score: 0.4541,\n",
      "Test Results: \n",
      "Weighted Accuracy: 0.4479, Unweighted Accuracy: 0.5080\n",
      "Weighted F1-Score: 0.5058, Unweighted F1-Score: 0.4458,\n",
      "--------------------------------------------------\n",
      "\n",
      "\n"
     ]
    },
    {
     "output_type": "stream",
     "name": "stderr",
     "text": [
      "100%|██████████| 188/188 [00:09<00:00, 20.40it/s]\n",
      "100%|██████████| 6/6 [00:00<00:00,  7.24it/s]\n",
      "100%|██████████| 6/6 [00:00<00:00,  6.90it/s]\n"
     ]
    },
    {
     "output_type": "stream",
     "name": "stdout",
     "text": [
      "\n",
      "\n",
      "--------------------------------------------------\n",
      "Epoch  25\n",
      "Training Loss: 0.0182, Validation Loss: 0.0122\n",
      "Validation Results: \n",
      "Weighted Accuracy: 0.4480, Unweighted Accuracy: 0.5147\n",
      "Weighted F1-Score: 0.5114, Unweighted F1-Score: 0.4542,\n",
      "Test Results: \n",
      "Weighted Accuracy: 0.4486, Unweighted Accuracy: 0.5094\n",
      "Weighted F1-Score: 0.5072, Unweighted F1-Score: 0.4466,\n",
      "--------------------------------------------------\n",
      "\n",
      "\n"
     ]
    },
    {
     "output_type": "stream",
     "name": "stderr",
     "text": [
      "100%|██████████| 188/188 [00:09<00:00, 20.19it/s]\n",
      "100%|██████████| 6/6 [00:00<00:00,  7.04it/s]\n",
      "100%|██████████| 6/6 [00:00<00:00,  6.86it/s]\n"
     ]
    },
    {
     "output_type": "stream",
     "name": "stdout",
     "text": [
      "\n",
      "\n",
      "--------------------------------------------------\n",
      "Epoch  26\n",
      "Training Loss: 0.0182, Validation Loss: 0.0122\n",
      "Validation Results: \n",
      "Weighted Accuracy: 0.4480, Unweighted Accuracy: 0.5147\n",
      "Weighted F1-Score: 0.5114, Unweighted F1-Score: 0.4542,\n",
      "Test Results: \n",
      "Weighted Accuracy: 0.4486, Unweighted Accuracy: 0.5094\n",
      "Weighted F1-Score: 0.5072, Unweighted F1-Score: 0.4466,\n",
      "--------------------------------------------------\n",
      "\n",
      "\n"
     ]
    },
    {
     "output_type": "stream",
     "name": "stderr",
     "text": [
      "100%|██████████| 188/188 [00:09<00:00, 20.15it/s]\n",
      "100%|██████████| 6/6 [00:00<00:00,  6.96it/s]\n",
      "100%|██████████| 6/6 [00:00<00:00,  7.08it/s]\n"
     ]
    },
    {
     "output_type": "stream",
     "name": "stdout",
     "text": [
      "\n",
      "\n",
      "--------------------------------------------------\n",
      "Epoch  27\n",
      "Training Loss: 0.0183, Validation Loss: 0.0122\n",
      "Validation Results: \n",
      "Weighted Accuracy: 0.4480, Unweighted Accuracy: 0.5147\n",
      "Weighted F1-Score: 0.5114, Unweighted F1-Score: 0.4542,\n",
      "Test Results: \n",
      "Weighted Accuracy: 0.4477, Unweighted Accuracy: 0.5080\n",
      "Weighted F1-Score: 0.5059, Unweighted F1-Score: 0.4460,\n",
      "--------------------------------------------------\n",
      "\n",
      "\n"
     ]
    },
    {
     "output_type": "stream",
     "name": "stderr",
     "text": [
      "100%|██████████| 188/188 [00:09<00:00, 20.26it/s]\n",
      "100%|██████████| 6/6 [00:00<00:00,  7.23it/s]\n",
      "100%|██████████| 6/6 [00:00<00:00,  7.12it/s]\n"
     ]
    },
    {
     "output_type": "stream",
     "name": "stdout",
     "text": [
      "\n",
      "\n",
      "--------------------------------------------------\n",
      "Epoch  28\n",
      "Training Loss: 0.0182, Validation Loss: 0.0122\n",
      "Validation Results: \n",
      "Weighted Accuracy: 0.4472, Unweighted Accuracy: 0.5134\n",
      "Weighted F1-Score: 0.5102, Unweighted F1-Score: 0.4536,\n",
      "Test Results: \n",
      "Weighted Accuracy: 0.4477, Unweighted Accuracy: 0.5080\n",
      "Weighted F1-Score: 0.5059, Unweighted F1-Score: 0.4460,\n",
      "--------------------------------------------------\n",
      "\n",
      "\n"
     ]
    },
    {
     "output_type": "stream",
     "name": "stderr",
     "text": [
      "100%|██████████| 188/188 [00:09<00:00, 19.98it/s]\n",
      "100%|██████████| 6/6 [00:00<00:00,  7.11it/s]\n",
      "100%|██████████| 6/6 [00:00<00:00,  7.07it/s]"
     ]
    },
    {
     "output_type": "stream",
     "name": "stdout",
     "text": [
      "\n",
      "\n",
      "--------------------------------------------------\n",
      "Epoch  29\n",
      "Training Loss: 0.0182, Validation Loss: 0.0122\n",
      "Validation Results: \n",
      "Weighted Accuracy: 0.4472, Unweighted Accuracy: 0.5134\n",
      "Weighted F1-Score: 0.5102, Unweighted F1-Score: 0.4536,\n",
      "Test Results: \n",
      "Weighted Accuracy: 0.4484, Unweighted Accuracy: 0.5094\n",
      "Weighted F1-Score: 0.5073, Unweighted F1-Score: 0.4469,\n",
      "--------------------------------------------------\n",
      "\n",
      "\n",
      "Early stopped. No improvement in validation loss for 10 consecutive epoches.\n"
     ]
    },
    {
     "output_type": "stream",
     "name": "stderr",
     "text": [
      "\n"
     ]
    }
   ]
  }
 ]
}
