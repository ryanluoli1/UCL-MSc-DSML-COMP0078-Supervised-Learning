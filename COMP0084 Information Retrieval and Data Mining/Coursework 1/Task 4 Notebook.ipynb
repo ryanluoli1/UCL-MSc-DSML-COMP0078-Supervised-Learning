{
 "cells": [
  {
   "cell_type": "markdown",
   "id": "253e1d1b",
   "metadata": {},
   "source": [
    "# Task 4"
   ]
  },
  {
   "cell_type": "code",
   "execution_count": 7,
   "id": "b549f97c",
   "metadata": {},
   "outputs": [],
   "source": [
    "import numpy as np\n",
    "import pandas as pd"
   ]
  },
  {
   "cell_type": "code",
   "execution_count": 8,
   "id": "dcbdae2f",
   "metadata": {},
   "outputs": [],
   "source": [
    "from task1 import *\n",
    "from task2 import *\n",
    "from task3 import *"
   ]
  },
  {
   "cell_type": "markdown",
   "id": "6a16e00e",
   "metadata": {},
   "source": [
    "## Prepare Data"
   ]
  },
  {
   "cell_type": "code",
   "execution_count": 9,
   "id": "a331ad07",
   "metadata": {},
   "outputs": [
    {
     "name": "stdout",
     "output_type": "stream",
     "text": [
      "vocabulary loaded!\n",
      "pid-to-passage mapped!\n"
     ]
    },
    {
     "name": "stderr",
     "output_type": "stream",
     "text": [
      "100%|██████████████████████████████████| 182469/182469 [03:26<00:00, 883.40it/s]\n"
     ]
    }
   ],
   "source": [
    "vocab = get_vocab()\n",
    "candidate_passages, pid_passage_dict = passage_to_id()\n",
    "inverted_index = get_inverted_index(vocab, pid_passage_dict)"
   ]
  },
  {
   "cell_type": "code",
   "execution_count": 10,
   "id": "c61409a8",
   "metadata": {},
   "outputs": [],
   "source": [
    "test_queries, qid_query_dict = query_to_id()"
   ]
  },
  {
   "cell_type": "markdown",
   "id": "2df91da6",
   "metadata": {},
   "source": [
    "## Query likelihood Language Models"
   ]
  },
  {
   "cell_type": "markdown",
   "id": "c8946d4b",
   "metadata": {},
   "source": [
    "Use **test-queries.tsv** and **candidate-passages-top1000.tsv** for this task. \n",
    "\n",
    "Implement the query likelihood language model with (a) **Laplace smoothing**, (b) **Lidstone correction** with ϵ = 0.1, and (c) **Dirichlet smoothing** with µ = 50, and retrieve **100 passages** from within the 1000 candidate passages for\n",
    "**each test query**. \n",
    "\n",
    "Store the respective outcomes in the files **laplace.csv, lidstone.csv, and dirichlet.csv**. In these files, the **column score** should report the **natural logarithm of the probability scores**."
   ]
  },
  {
   "cell_type": "code",
   "execution_count": 11,
   "id": "a3790bcb",
   "metadata": {},
   "outputs": [],
   "source": [
    "def implement_language_model(test_queries, qid_query_dict, pid_passage_dict, inverted_index, model_params, top=100):\n",
    "    \n",
    "    # initialization\n",
    "    df = pd.DataFrame()\n",
    "    qids, pids, scores = np.array([]), np.array([]), np.array([])\n",
    "    \n",
    "    # vocabulary size of passages\n",
    "    V = len(inverted_index)\n",
    "    \n",
    "    # total number of terms in passages\n",
    "    N = np.sum([len(passage) for pid, passage in pid_passage_dict.items()])\n",
    "    \n",
    "    for qid, query in tqdm(test_queries.values):\n",
    "        \n",
    "        query = qid_query_dict[qid]\n",
    "        qids_i, pids_i, scores_i = np.array([]), np.array([]), np.array([])\n",
    "        \n",
    "        for pid in candidate_passages[candidate_passages['qid']==qid]['pid']:\n",
    "            \n",
    "            passage = pid_passage_dict[pid]\n",
    "            \n",
    "            D = len(passage)    # passage length\n",
    "            \n",
    "            score = 0\n",
    "            for term in query:\n",
    "                # term frequency in passage and total occurance\n",
    "                m = inverted_index[term][pid][0] if term in passage else 0\n",
    "                # compute the score\n",
    "                if model_params['model'] == 'laplace':\n",
    "                    num = (m+1)\n",
    "                    dom = (D+V)\n",
    "                elif model_params['model'] == 'lidstone':\n",
    "                    num = (m+model_params['epsilon'])\n",
    "                    dom = (D+V*model_params['epsilon'])\n",
    "                elif model_params['model'] == 'dirichlet':\n",
    "                    # compute the background probability of the term\n",
    "                    if term in inverted_index:\n",
    "                        cqi = np.sum([v[0] for k,v in inverted_index[term].items()])\n",
    "                    else:\n",
    "                        cqi = 0\n",
    "                    p_term = cqi / N\n",
    "                    num = (m+model_params['mu']*p_term)\n",
    "                    dom = (D+model_params['mu'])\n",
    "                # check whether there exists a zero probability\n",
    "                if num/dom == 0:\n",
    "                    score = -float('inf')\n",
    "                    break\n",
    "                else:\n",
    "                    score += np.log(num/dom)\n",
    "                \n",
    "            qids_i = np.append(qids_i, qid)\n",
    "            pids_i = np.append(pids_i, pid)\n",
    "            scores_i = np.append(scores_i, score)\n",
    "            \n",
    "        descending_idx = np.argsort(scores_i)[::-1]\n",
    "        qids_i = qids_i[descending_idx]\n",
    "        pids_i = pids_i[descending_idx]\n",
    "        scores_i = scores_i[descending_idx]\n",
    "        \n",
    "        qids = np.append(qids, qids_i[:top])\n",
    "        pids = np.append(pids, pids_i[:top])\n",
    "        scores = np.append(scores, scores_i[:top])\n",
    "        \n",
    "    df['qid'] = qids\n",
    "    df['pid'] = pids\n",
    "    df['score'] = scores\n",
    "    \n",
    "    df['qid'] = df['qid'].astype(int)\n",
    "    df['pid'] = df['pid'].astype(int)\n",
    "        \n",
    "    return df"
   ]
  },
  {
   "cell_type": "code",
   "execution_count": 12,
   "id": "5faf1102",
   "metadata": {
    "scrolled": true
   },
   "outputs": [
    {
     "name": "stderr",
     "output_type": "stream",
     "text": [
      "100%|█████████████████████████████████████████| 200/200 [00:03<00:00, 65.11it/s]\n"
     ]
    },
    {
     "data": {
      "text/html": [
       "<div>\n",
       "<style scoped>\n",
       "    .dataframe tbody tr th:only-of-type {\n",
       "        vertical-align: middle;\n",
       "    }\n",
       "\n",
       "    .dataframe tbody tr th {\n",
       "        vertical-align: top;\n",
       "    }\n",
       "\n",
       "    .dataframe thead th {\n",
       "        text-align: right;\n",
       "    }\n",
       "</style>\n",
       "<table border=\"1\" class=\"dataframe\">\n",
       "  <thead>\n",
       "    <tr style=\"text-align: right;\">\n",
       "      <th></th>\n",
       "      <th>qid</th>\n",
       "      <th>pid</th>\n",
       "      <th>score</th>\n",
       "    </tr>\n",
       "  </thead>\n",
       "  <tbody>\n",
       "    <tr>\n",
       "      <th>0</th>\n",
       "      <td>1108939</td>\n",
       "      <td>3647358</td>\n",
       "      <td>-28.923688</td>\n",
       "    </tr>\n",
       "    <tr>\n",
       "      <th>1</th>\n",
       "      <td>1108939</td>\n",
       "      <td>3899060</td>\n",
       "      <td>-29.260348</td>\n",
       "    </tr>\n",
       "    <tr>\n",
       "      <th>2</th>\n",
       "      <td>1108939</td>\n",
       "      <td>7919347</td>\n",
       "      <td>-29.300231</td>\n",
       "    </tr>\n",
       "    <tr>\n",
       "      <th>3</th>\n",
       "      <td>1108939</td>\n",
       "      <td>242056</td>\n",
       "      <td>-29.364620</td>\n",
       "    </tr>\n",
       "    <tr>\n",
       "      <th>4</th>\n",
       "      <td>1108939</td>\n",
       "      <td>4390191</td>\n",
       "      <td>-29.432824</td>\n",
       "    </tr>\n",
       "  </tbody>\n",
       "</table>\n",
       "</div>"
      ],
      "text/plain": [
       "       qid      pid      score\n",
       "0  1108939  3647358 -28.923688\n",
       "1  1108939  3899060 -29.260348\n",
       "2  1108939  7919347 -29.300231\n",
       "3  1108939   242056 -29.364620\n",
       "4  1108939  4390191 -29.432824"
      ]
     },
     "execution_count": 12,
     "metadata": {},
     "output_type": "execute_result"
    }
   ],
   "source": [
    "model_params = {'model': 'laplace',\n",
    "                'epsilon': 0.1,\n",
    "                'mu': 50}\n",
    "\n",
    "df_laplace = implement_language_model(test_queries, qid_query_dict, pid_passage_dict, inverted_index, model_params, top=100)\n",
    "df_laplace.head()"
   ]
  },
  {
   "cell_type": "code",
   "execution_count": 13,
   "id": "ec655561",
   "metadata": {},
   "outputs": [
    {
     "data": {
      "text/plain": [
       "19290"
      ]
     },
     "execution_count": 13,
     "metadata": {},
     "output_type": "execute_result"
    }
   ],
   "source": [
    "len(df_laplace)"
   ]
  },
  {
   "cell_type": "code",
   "execution_count": 14,
   "id": "0853818a",
   "metadata": {},
   "outputs": [],
   "source": [
    "df_laplace.to_csv('laplace.csv', header=False, sep=',', index=False)"
   ]
  },
  {
   "cell_type": "code",
   "execution_count": 15,
   "id": "4e49d85e",
   "metadata": {
    "scrolled": true
   },
   "outputs": [
    {
     "name": "stderr",
     "output_type": "stream",
     "text": [
      "100%|█████████████████████████████████████████| 200/200 [00:03<00:00, 63.89it/s]\n"
     ]
    },
    {
     "data": {
      "text/html": [
       "<div>\n",
       "<style scoped>\n",
       "    .dataframe tbody tr th:only-of-type {\n",
       "        vertical-align: middle;\n",
       "    }\n",
       "\n",
       "    .dataframe tbody tr th {\n",
       "        vertical-align: top;\n",
       "    }\n",
       "\n",
       "    .dataframe thead th {\n",
       "        text-align: right;\n",
       "    }\n",
       "</style>\n",
       "<table border=\"1\" class=\"dataframe\">\n",
       "  <thead>\n",
       "    <tr style=\"text-align: right;\">\n",
       "      <th></th>\n",
       "      <th>qid</th>\n",
       "      <th>pid</th>\n",
       "      <th>score</th>\n",
       "    </tr>\n",
       "  </thead>\n",
       "  <tbody>\n",
       "    <tr>\n",
       "      <th>0</th>\n",
       "      <td>1108939</td>\n",
       "      <td>6707713</td>\n",
       "      <td>-23.400292</td>\n",
       "    </tr>\n",
       "    <tr>\n",
       "      <th>1</th>\n",
       "      <td>1108939</td>\n",
       "      <td>2068541</td>\n",
       "      <td>-23.472331</td>\n",
       "    </tr>\n",
       "    <tr>\n",
       "      <th>2</th>\n",
       "      <td>1108939</td>\n",
       "      <td>8596285</td>\n",
       "      <td>-23.507025</td>\n",
       "    </tr>\n",
       "    <tr>\n",
       "      <th>3</th>\n",
       "      <td>1108939</td>\n",
       "      <td>3130232</td>\n",
       "      <td>-23.687222</td>\n",
       "    </tr>\n",
       "    <tr>\n",
       "      <th>4</th>\n",
       "      <td>1108939</td>\n",
       "      <td>6758075</td>\n",
       "      <td>-24.080049</td>\n",
       "    </tr>\n",
       "  </tbody>\n",
       "</table>\n",
       "</div>"
      ],
      "text/plain": [
       "       qid      pid      score\n",
       "0  1108939  6707713 -23.400292\n",
       "1  1108939  2068541 -23.472331\n",
       "2  1108939  8596285 -23.507025\n",
       "3  1108939  3130232 -23.687222\n",
       "4  1108939  6758075 -24.080049"
      ]
     },
     "execution_count": 15,
     "metadata": {},
     "output_type": "execute_result"
    }
   ],
   "source": [
    "model_params = {'model': 'lidstone',\n",
    "                'epsilon': 0.1,\n",
    "                'mu': 50}\n",
    "\n",
    "df_lidstone = implement_language_model(test_queries, qid_query_dict, pid_passage_dict, inverted_index, model_params, top=100)\n",
    "df_lidstone.head()"
   ]
  },
  {
   "cell_type": "code",
   "execution_count": 16,
   "id": "7e732f02",
   "metadata": {},
   "outputs": [
    {
     "data": {
      "text/plain": [
       "19290"
      ]
     },
     "execution_count": 16,
     "metadata": {},
     "output_type": "execute_result"
    }
   ],
   "source": [
    "len(df_lidstone)"
   ]
  },
  {
   "cell_type": "code",
   "execution_count": 17,
   "id": "0e5c8ef3",
   "metadata": {},
   "outputs": [],
   "source": [
    "df_lidstone.to_csv('lidstone.csv', header=False, sep=',', index=False)"
   ]
  },
  {
   "cell_type": "code",
   "execution_count": 18,
   "id": "7b1c7b4a",
   "metadata": {
    "scrolled": true
   },
   "outputs": [
    {
     "name": "stderr",
     "output_type": "stream",
     "text": [
      "100%|█████████████████████████████████████████| 200/200 [03:21<00:00,  1.01s/it]\n"
     ]
    },
    {
     "data": {
      "text/html": [
       "<div>\n",
       "<style scoped>\n",
       "    .dataframe tbody tr th:only-of-type {\n",
       "        vertical-align: middle;\n",
       "    }\n",
       "\n",
       "    .dataframe tbody tr th {\n",
       "        vertical-align: top;\n",
       "    }\n",
       "\n",
       "    .dataframe thead th {\n",
       "        text-align: right;\n",
       "    }\n",
       "</style>\n",
       "<table border=\"1\" class=\"dataframe\">\n",
       "  <thead>\n",
       "    <tr style=\"text-align: right;\">\n",
       "      <th></th>\n",
       "      <th>qid</th>\n",
       "      <th>pid</th>\n",
       "      <th>score</th>\n",
       "    </tr>\n",
       "  </thead>\n",
       "  <tbody>\n",
       "    <tr>\n",
       "      <th>0</th>\n",
       "      <td>1108939</td>\n",
       "      <td>3130232</td>\n",
       "      <td>-10.433210</td>\n",
       "    </tr>\n",
       "    <tr>\n",
       "      <th>1</th>\n",
       "      <td>1108939</td>\n",
       "      <td>8596285</td>\n",
       "      <td>-10.449774</td>\n",
       "    </tr>\n",
       "    <tr>\n",
       "      <th>2</th>\n",
       "      <td>1108939</td>\n",
       "      <td>2068541</td>\n",
       "      <td>-10.489020</td>\n",
       "    </tr>\n",
       "    <tr>\n",
       "      <th>3</th>\n",
       "      <td>1108939</td>\n",
       "      <td>6707713</td>\n",
       "      <td>-10.515604</td>\n",
       "    </tr>\n",
       "    <tr>\n",
       "      <th>4</th>\n",
       "      <td>1108939</td>\n",
       "      <td>2846462</td>\n",
       "      <td>-10.796922</td>\n",
       "    </tr>\n",
       "  </tbody>\n",
       "</table>\n",
       "</div>"
      ],
      "text/plain": [
       "       qid      pid      score\n",
       "0  1108939  3130232 -10.433210\n",
       "1  1108939  8596285 -10.449774\n",
       "2  1108939  2068541 -10.489020\n",
       "3  1108939  6707713 -10.515604\n",
       "4  1108939  2846462 -10.796922"
      ]
     },
     "execution_count": 18,
     "metadata": {},
     "output_type": "execute_result"
    }
   ],
   "source": [
    "model_params = {'model': 'dirichlet',\n",
    "                'epsilon': 0.1,\n",
    "                'mu': 50}\n",
    "\n",
    "df_dirichlet = implement_language_model(test_queries, qid_query_dict, pid_passage_dict, inverted_index, model_params, top=100)\n",
    "df_dirichlet.head()"
   ]
  },
  {
   "cell_type": "code",
   "execution_count": 19,
   "id": "9385e8c5",
   "metadata": {},
   "outputs": [
    {
     "data": {
      "text/plain": [
       "19290"
      ]
     },
     "execution_count": 19,
     "metadata": {},
     "output_type": "execute_result"
    }
   ],
   "source": [
    "len(df_dirichlet)"
   ]
  },
  {
   "cell_type": "code",
   "execution_count": 20,
   "id": "83bc82bf",
   "metadata": {},
   "outputs": [],
   "source": [
    "df_dirichlet.to_csv('dirichlet.csv', header=False, sep=',', index=False)"
   ]
  },
  {
   "cell_type": "code",
   "execution_count": null,
   "id": "32bd4a77",
   "metadata": {},
   "outputs": [],
   "source": []
  }
 ],
 "metadata": {
  "kernelspec": {
   "display_name": "Python 3 (ipykernel)",
   "language": "python",
   "name": "python3"
  },
  "language_info": {
   "codemirror_mode": {
    "name": "ipython",
    "version": 3
   },
   "file_extension": ".py",
   "mimetype": "text/x-python",
   "name": "python",
   "nbconvert_exporter": "python",
   "pygments_lexer": "ipython3",
   "version": "3.9.13"
  }
 },
 "nbformat": 4,
 "nbformat_minor": 5
}
