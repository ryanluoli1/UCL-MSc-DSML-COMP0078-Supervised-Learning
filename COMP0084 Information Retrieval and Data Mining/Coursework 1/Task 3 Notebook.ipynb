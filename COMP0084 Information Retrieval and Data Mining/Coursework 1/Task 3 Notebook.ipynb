{
 "cells": [
  {
   "cell_type": "markdown",
   "id": "1f5ca7d6",
   "metadata": {},
   "source": [
    "## Task 3"
   ]
  },
  {
   "cell_type": "code",
   "execution_count": 1,
   "id": "db1a7abf",
   "metadata": {},
   "outputs": [],
   "source": [
    "import numpy as np\n",
    "import pandas as pd\n",
    "\n",
    "import pickle"
   ]
  },
  {
   "cell_type": "code",
   "execution_count": 2,
   "id": "185c0c57",
   "metadata": {},
   "outputs": [
    {
     "name": "stderr",
     "output_type": "stream",
     "text": [
      "[nltk_data] Downloading package punkt to /Users/ryanl/nltk_data...\n",
      "[nltk_data]   Package punkt is already up-to-date!\n",
      "[nltk_data] Downloading package wordnet to /Users/ryanl/nltk_data...\n",
      "[nltk_data]   Package wordnet is already up-to-date!\n",
      "[nltk_data] Downloading package omw-1.4 to /Users/ryanl/nltk_data...\n",
      "[nltk_data]   Package omw-1.4 is already up-to-date!\n",
      "[nltk_data] Downloading package stopwords to /Users/ryanl/nltk_data...\n",
      "[nltk_data]   Package stopwords is already up-to-date!\n"
     ]
    }
   ],
   "source": [
    "from task1 import *\n",
    "from task2 import *"
   ]
  },
  {
   "cell_type": "markdown",
   "id": "eeded330",
   "metadata": {},
   "source": [
    "## Prepare Data"
   ]
  },
  {
   "cell_type": "code",
   "execution_count": 3,
   "id": "9daf7630",
   "metadata": {},
   "outputs": [
    {
     "name": "stdout",
     "output_type": "stream",
     "text": [
      "vocabulary loaded!\n"
     ]
    }
   ],
   "source": [
    "vocab = get_vocab()"
   ]
  },
  {
   "cell_type": "code",
   "execution_count": 4,
   "id": "d5b1962a",
   "metadata": {},
   "outputs": [
    {
     "name": "stdout",
     "output_type": "stream",
     "text": [
      "pid-to-passage mapped!\n"
     ]
    }
   ],
   "source": [
    "candidate_passages, pid_passage_dict = passage_to_id()"
   ]
  },
  {
   "cell_type": "code",
   "execution_count": 5,
   "id": "9e0aab40",
   "metadata": {},
   "outputs": [
    {
     "data": {
      "text/html": [
       "<div>\n",
       "<style scoped>\n",
       "    .dataframe tbody tr th:only-of-type {\n",
       "        vertical-align: middle;\n",
       "    }\n",
       "\n",
       "    .dataframe tbody tr th {\n",
       "        vertical-align: top;\n",
       "    }\n",
       "\n",
       "    .dataframe thead th {\n",
       "        text-align: right;\n",
       "    }\n",
       "</style>\n",
       "<table border=\"1\" class=\"dataframe\">\n",
       "  <thead>\n",
       "    <tr style=\"text-align: right;\">\n",
       "      <th></th>\n",
       "      <th>qid</th>\n",
       "      <th>pid</th>\n",
       "      <th>query</th>\n",
       "      <th>passage</th>\n",
       "    </tr>\n",
       "  </thead>\n",
       "  <tbody>\n",
       "    <tr>\n",
       "      <th>0</th>\n",
       "      <td>494835</td>\n",
       "      <td>7130104</td>\n",
       "      <td>sensibilities, definition</td>\n",
       "      <td>This is the definition of RNA along with examp...</td>\n",
       "    </tr>\n",
       "    <tr>\n",
       "      <th>1</th>\n",
       "      <td>1128373</td>\n",
       "      <td>7130104</td>\n",
       "      <td>iur definition</td>\n",
       "      <td>This is the definition of RNA along with examp...</td>\n",
       "    </tr>\n",
       "    <tr>\n",
       "      <th>2</th>\n",
       "      <td>131843</td>\n",
       "      <td>7130104</td>\n",
       "      <td>definition of a sigmet</td>\n",
       "      <td>This is the definition of RNA along with examp...</td>\n",
       "    </tr>\n",
       "    <tr>\n",
       "      <th>3</th>\n",
       "      <td>20455</td>\n",
       "      <td>7130335</td>\n",
       "      <td>ar glasses definition</td>\n",
       "      <td>Best Answer: The AR designation comes from the...</td>\n",
       "    </tr>\n",
       "    <tr>\n",
       "      <th>4</th>\n",
       "      <td>719381</td>\n",
       "      <td>7130335</td>\n",
       "      <td>what is ar balance</td>\n",
       "      <td>Best Answer: The AR designation comes from the...</td>\n",
       "    </tr>\n",
       "  </tbody>\n",
       "</table>\n",
       "</div>"
      ],
      "text/plain": [
       "       qid      pid                      query  \\\n",
       "0   494835  7130104  sensibilities, definition   \n",
       "1  1128373  7130104             iur definition   \n",
       "2   131843  7130104     definition of a sigmet   \n",
       "3    20455  7130335      ar glasses definition   \n",
       "4   719381  7130335         what is ar balance   \n",
       "\n",
       "                                             passage  \n",
       "0  This is the definition of RNA along with examp...  \n",
       "1  This is the definition of RNA along with examp...  \n",
       "2  This is the definition of RNA along with examp...  \n",
       "3  Best Answer: The AR designation comes from the...  \n",
       "4  Best Answer: The AR designation comes from the...  "
      ]
     },
     "execution_count": 5,
     "metadata": {},
     "output_type": "execute_result"
    }
   ],
   "source": [
    "candidate_passages.head()"
   ]
  },
  {
   "cell_type": "code",
   "execution_count": 6,
   "id": "5652fb52",
   "metadata": {
    "scrolled": true
   },
   "outputs": [
    {
     "name": "stderr",
     "output_type": "stream",
     "text": [
      "100%|██████████████████████████████████| 182469/182469 [03:22<00:00, 900.62it/s]\n"
     ]
    }
   ],
   "source": [
    "inverted_index = get_inverted_index(vocab, pid_passage_dict)"
   ]
  },
  {
   "cell_type": "markdown",
   "id": "6f504ccb",
   "metadata": {},
   "source": [
    "## Passage TF-IDF"
   ]
  },
  {
   "cell_type": "markdown",
   "id": "49b83454",
   "metadata": {},
   "source": [
    "Extract the **TF-IDF** vector representations of the passages using the **inverted index** you have constructed. \n",
    "\n",
    "Using the **IDF** representation from the **corpus of the passages**, extract the **TF-IDF** representation of the **queries**. "
   ]
  },
  {
   "cell_type": "code",
   "execution_count": 7,
   "id": "e7c3653f",
   "metadata": {},
   "outputs": [],
   "source": [
    "def get_passage_tf_idf(pid_passage_dict, inverted_index):\n",
    "    \n",
    "    # initialization\n",
    "    passage_tf_idf = {}\n",
    "    N_doc = len(pid_passage_dict)\n",
    "    \n",
    "    for pid, passage in tqdm(pid_passage_dict.items()):\n",
    "        \n",
    "        pid_tf_idf = {}\n",
    "        \n",
    "        for term in passage:\n",
    "            \n",
    "            # term frequency \n",
    "            freq = inverted_index[term][pid][0]\n",
    "            tf = freq / len(passage)\n",
    "            \n",
    "            # inverse document frequency \n",
    "            n_term = len(inverted_index[term])\n",
    "            idf = np.log10(N_doc/n_term)\n",
    "            \n",
    "            # tf-idf of the current passage\n",
    "            pid_tf_idf[term] = [tf, idf, tf*idf]\n",
    "        \n",
    "        passage_tf_idf[pid] = pid_tf_idf\n",
    "    \n",
    "    return passage_tf_idf"
   ]
  },
  {
   "cell_type": "code",
   "execution_count": 8,
   "id": "1db8a11e",
   "metadata": {},
   "outputs": [
    {
     "name": "stderr",
     "output_type": "stream",
     "text": [
      "100%|████████████████████████████████| 182469/182469 [00:07<00:00, 24474.14it/s]\n"
     ]
    }
   ],
   "source": [
    "passage_tf_idf = get_passage_tf_idf(pid_passage_dict, inverted_index)"
   ]
  },
  {
   "cell_type": "markdown",
   "id": "a807373c",
   "metadata": {},
   "source": [
    "## Query TF-IDF"
   ]
  },
  {
   "cell_type": "code",
   "execution_count": 9,
   "id": "dc3d71e1",
   "metadata": {
    "scrolled": true
   },
   "outputs": [],
   "source": [
    "def query_to_id():\n",
    "    \n",
    "    # tokenize the queries and map to qid\n",
    "    test_queries = pd.read_csv('test-queries.tsv', sep='\\t', header=None, names=['qid','query'])\n",
    "    cleaned_test_queries = process_passage(test_queries['query'], remove_sw=True, lemma=True)\n",
    "    qid_query_dict = dict(zip(test_queries['qid'], cleaned_test_queries))\n",
    "    \n",
    "    return test_queries, qid_query_dict"
   ]
  },
  {
   "cell_type": "code",
   "execution_count": 10,
   "id": "f0b60028",
   "metadata": {},
   "outputs": [],
   "source": [
    "test_queries, qid_query_dict = query_to_id()"
   ]
  },
  {
   "cell_type": "code",
   "execution_count": 11,
   "id": "6f5cff42",
   "metadata": {},
   "outputs": [
    {
     "data": {
      "text/html": [
       "<div>\n",
       "<style scoped>\n",
       "    .dataframe tbody tr th:only-of-type {\n",
       "        vertical-align: middle;\n",
       "    }\n",
       "\n",
       "    .dataframe tbody tr th {\n",
       "        vertical-align: top;\n",
       "    }\n",
       "\n",
       "    .dataframe thead th {\n",
       "        text-align: right;\n",
       "    }\n",
       "</style>\n",
       "<table border=\"1\" class=\"dataframe\">\n",
       "  <thead>\n",
       "    <tr style=\"text-align: right;\">\n",
       "      <th></th>\n",
       "      <th>qid</th>\n",
       "      <th>query</th>\n",
       "    </tr>\n",
       "  </thead>\n",
       "  <tbody>\n",
       "    <tr>\n",
       "      <th>0</th>\n",
       "      <td>1108939</td>\n",
       "      <td>what slows down the flow of blood</td>\n",
       "    </tr>\n",
       "    <tr>\n",
       "      <th>1</th>\n",
       "      <td>1112389</td>\n",
       "      <td>what is the county for grand rapids, mn</td>\n",
       "    </tr>\n",
       "    <tr>\n",
       "      <th>2</th>\n",
       "      <td>792752</td>\n",
       "      <td>what is ruclip</td>\n",
       "    </tr>\n",
       "    <tr>\n",
       "      <th>3</th>\n",
       "      <td>1119729</td>\n",
       "      <td>what do you do when you have a nosebleed from ...</td>\n",
       "    </tr>\n",
       "    <tr>\n",
       "      <th>4</th>\n",
       "      <td>1105095</td>\n",
       "      <td>where is sugar lake lodge located</td>\n",
       "    </tr>\n",
       "  </tbody>\n",
       "</table>\n",
       "</div>"
      ],
      "text/plain": [
       "       qid                                              query\n",
       "0  1108939                  what slows down the flow of blood\n",
       "1  1112389            what is the county for grand rapids, mn\n",
       "2   792752                                     what is ruclip\n",
       "3  1119729  what do you do when you have a nosebleed from ...\n",
       "4  1105095                  where is sugar lake lodge located"
      ]
     },
     "execution_count": 11,
     "metadata": {},
     "output_type": "execute_result"
    }
   ],
   "source": [
    "test_queries.head()"
   ]
  },
  {
   "cell_type": "code",
   "execution_count": 12,
   "id": "652dbf8b",
   "metadata": {},
   "outputs": [],
   "source": [
    "terms = [v for k, v in qid_query_dict.items()]\n",
    "query_vocab = list(set([item for sublist in terms for item in sublist]))"
   ]
  },
  {
   "cell_type": "code",
   "execution_count": 13,
   "id": "27fd4965",
   "metadata": {},
   "outputs": [
    {
     "data": {
      "text/plain": [
       "530"
      ]
     },
     "execution_count": 13,
     "metadata": {},
     "output_type": "execute_result"
    }
   ],
   "source": [
    "len(query_vocab)"
   ]
  },
  {
   "cell_type": "code",
   "execution_count": 14,
   "id": "7de842a7",
   "metadata": {},
   "outputs": [
    {
     "name": "stderr",
     "output_type": "stream",
     "text": [
      "100%|██████████████████████████████████████| 200/200 [00:00<00:00, 88171.20it/s]\n"
     ]
    }
   ],
   "source": [
    "query_inverted_index = get_inverted_index(query_vocab, qid_query_dict)"
   ]
  },
  {
   "cell_type": "code",
   "execution_count": 15,
   "id": "c7f2ea84",
   "metadata": {},
   "outputs": [
    {
     "data": {
      "text/plain": [
       "530"
      ]
     },
     "execution_count": 15,
     "metadata": {},
     "output_type": "execute_result"
    }
   ],
   "source": [
    "len(query_inverted_index)"
   ]
  },
  {
   "cell_type": "code",
   "execution_count": 16,
   "id": "e8034506",
   "metadata": {},
   "outputs": [],
   "source": [
    "def get_query_tf_idf(qid_query_dict, query_inverted_index, vocab, query_vocab, inverted_index, passage_tf_idf):\n",
    "    \n",
    "    # initialization\n",
    "    query_tf_idf = {}\n",
    "    N_doc = len(qid_query_dict)\n",
    "    \n",
    "    for qid, query in tqdm(qid_query_dict.items()):\n",
    "        \n",
    "        qid_tf_idf = {}\n",
    "        \n",
    "        for term in query:\n",
    "            \n",
    "            # skip terms that are not found in passages\n",
    "            if term not in vocab:\n",
    "                continue\n",
    "            \n",
    "            if term not in query_vocab:\n",
    "                continue\n",
    "            \n",
    "            # term frequency \n",
    "            freq = query_inverted_index[term][qid][0]\n",
    "            tf = freq / len(query)\n",
    "            \n",
    "            # inverse document frequency \n",
    "            pid = list(inverted_index[term].keys())[0]\n",
    "            idf_passage = passage_tf_idf[pid][term][1]\n",
    "                \n",
    "            # tf-idf of the current query\n",
    "            qid_tf_idf[term] = [tf, idf_passage, tf*idf_passage]\n",
    "            \n",
    "        query_tf_idf[qid] = qid_tf_idf\n",
    "        \n",
    "    return query_tf_idf"
   ]
  },
  {
   "cell_type": "code",
   "execution_count": 17,
   "id": "6e27dbed",
   "metadata": {},
   "outputs": [
    {
     "name": "stderr",
     "output_type": "stream",
     "text": [
      "100%|███████████████████████████████████████| 200/200 [00:00<00:00, 5149.45it/s]\n"
     ]
    }
   ],
   "source": [
    "query_tf_idf = get_query_tf_idf(qid_query_dict, query_inverted_index, vocab, query_vocab, inverted_index, passage_tf_idf)"
   ]
  },
  {
   "cell_type": "code",
   "execution_count": 18,
   "id": "5560ac46",
   "metadata": {},
   "outputs": [
    {
     "data": {
      "text/plain": [
       "200"
      ]
     },
     "execution_count": 18,
     "metadata": {},
     "output_type": "execute_result"
    }
   ],
   "source": [
    "len(query_tf_idf)"
   ]
  },
  {
   "cell_type": "markdown",
   "id": "a2a87dd4",
   "metadata": {},
   "source": [
    "## Cosine Similarity"
   ]
  },
  {
   "cell_type": "code",
   "execution_count": 19,
   "id": "56e5f3dc",
   "metadata": {},
   "outputs": [],
   "source": [
    "def cosine_similarity(v_query, v_passage):\n",
    "    \n",
    "    \"\"\"\n",
    "    The input vectors are the TF-IDF representations.\n",
    "    \"\"\"\n",
    "    \n",
    "    # find common terms\n",
    "    terms = set(v_query.keys()).intersection(set(v_passage.keys()))\n",
    "    \n",
    "    # compute the inner product\n",
    "    inner_product = 0.0\n",
    "    for term in terms:\n",
    "        inner_product += v_query[term][2] * v_passage[term][2]\n",
    "        \n",
    "    # compute the denominators\n",
    "    X = np.linalg.norm([v[2] for k,v in v_query.items()])\n",
    "    Y = np.linalg.norm([v[2] for k,v in v_passage.items()])\n",
    "    \n",
    "    if X == 0 or Y == 0:\n",
    "        return 0\n",
    "    else:\n",
    "        return inner_product / (X * Y)"
   ]
  },
  {
   "cell_type": "markdown",
   "id": "7ee8cd48",
   "metadata": {},
   "source": [
    "## Vector Space Model"
   ]
  },
  {
   "cell_type": "markdown",
   "id": "68bbe918",
   "metadata": {},
   "source": [
    "Use a **basic vector space model** with TF-IDF and cosine similarity to retrieve **at most 100 passages** from within the 1000 candidate passages **for each query** (some queries have fewer candidate passages). \n",
    "\n",
    "Store the outcomes in a file named **tfidf.csv**. Each row of tfidf.csv must have the following format: **qid,pid,score** where qid denotes the query’s identifier, pid denotes the passage identifier, and score is their cosine similarity score. Note that there should be **no spaces between commas**. \n",
    "\n",
    "The output .csv files should **not have headers**. qid,pid pairs should be **ranked by similarity score in descending order**, i.e. starting with the highest similarity score. \n",
    "\n",
    "You should first report the top qid,pid pairs for one qid, then move on to the next, following the **same query order** as in the text-queries.tsv file. Each output .csv file is expected to have **19,290 rows**."
   ]
  },
  {
   "cell_type": "code",
   "execution_count": 20,
   "id": "c19c264a",
   "metadata": {},
   "outputs": [],
   "source": [
    "def vector_space_model(test_queries, candidate_passages, query_tf_idf, passage_tf_idf, top=100):\n",
    "    \n",
    "    # initialization\n",
    "    df = pd.DataFrame()\n",
    "    qids, pids, scores = np.array([]), np.array([]), np.array([])\n",
    "    \n",
    "    for qid, query in tqdm(test_queries.values):\n",
    "        \n",
    "        qids_i, pids_i, scores_i = np.array([]), np.array([]), np.array([])\n",
    "        \n",
    "        for pid in candidate_passages[candidate_passages['qid']==qid]['pid']:\n",
    "            \n",
    "            v_query = query_tf_idf[qid]\n",
    "            v_passage = passage_tf_idf[pid]\n",
    "            score = cosine_similarity(v_query, v_passage)\n",
    "            \n",
    "            qids_i = np.append(qids_i, qid)\n",
    "            pids_i = np.append(pids_i, pid)\n",
    "            scores_i = np.append(scores_i, score)\n",
    "    \n",
    "        descending_idx = np.argsort(scores_i)[::-1]\n",
    "        qids_i = qids_i[descending_idx]\n",
    "        pids_i = pids_i[descending_idx]\n",
    "        scores_i = scores_i[descending_idx]\n",
    "        \n",
    "        qids = np.append(qids, qids_i[:top])\n",
    "        pids = np.append(pids, pids_i[:top])\n",
    "        scores = np.append(scores, scores_i[:top])\n",
    "        \n",
    "    df['qid'] = qids\n",
    "    df['pid'] = pids\n",
    "    df['score'] = scores\n",
    "    \n",
    "    df['qid'] = df['qid'].astype(int)\n",
    "    df['pid'] = df['pid'].astype(int)\n",
    "        \n",
    "    return df"
   ]
  },
  {
   "cell_type": "code",
   "execution_count": 21,
   "id": "710608bf",
   "metadata": {
    "scrolled": true
   },
   "outputs": [
    {
     "name": "stderr",
     "output_type": "stream",
     "text": [
      "100%|█████████████████████████████████████████| 200/200 [00:04<00:00, 42.04it/s]\n"
     ]
    }
   ],
   "source": [
    "df_tf_idf = vector_space_model(test_queries, candidate_passages, query_tf_idf, passage_tf_idf, top=100)"
   ]
  },
  {
   "cell_type": "code",
   "execution_count": 22,
   "id": "71276382",
   "metadata": {
    "scrolled": true
   },
   "outputs": [
    {
     "data": {
      "text/html": [
       "<div>\n",
       "<style scoped>\n",
       "    .dataframe tbody tr th:only-of-type {\n",
       "        vertical-align: middle;\n",
       "    }\n",
       "\n",
       "    .dataframe tbody tr th {\n",
       "        vertical-align: top;\n",
       "    }\n",
       "\n",
       "    .dataframe thead th {\n",
       "        text-align: right;\n",
       "    }\n",
       "</style>\n",
       "<table border=\"1\" class=\"dataframe\">\n",
       "  <thead>\n",
       "    <tr style=\"text-align: right;\">\n",
       "      <th></th>\n",
       "      <th>qid</th>\n",
       "      <th>pid</th>\n",
       "      <th>score</th>\n",
       "    </tr>\n",
       "  </thead>\n",
       "  <tbody>\n",
       "    <tr>\n",
       "      <th>0</th>\n",
       "      <td>1108939</td>\n",
       "      <td>2846462</td>\n",
       "      <td>0.603323</td>\n",
       "    </tr>\n",
       "    <tr>\n",
       "      <th>1</th>\n",
       "      <td>1108939</td>\n",
       "      <td>25753</td>\n",
       "      <td>0.541660</td>\n",
       "    </tr>\n",
       "    <tr>\n",
       "      <th>2</th>\n",
       "      <td>1108939</td>\n",
       "      <td>5291621</td>\n",
       "      <td>0.525253</td>\n",
       "    </tr>\n",
       "    <tr>\n",
       "      <th>3</th>\n",
       "      <td>1108939</td>\n",
       "      <td>7804766</td>\n",
       "      <td>0.513956</td>\n",
       "    </tr>\n",
       "    <tr>\n",
       "      <th>4</th>\n",
       "      <td>1108939</td>\n",
       "      <td>1957452</td>\n",
       "      <td>0.506223</td>\n",
       "    </tr>\n",
       "  </tbody>\n",
       "</table>\n",
       "</div>"
      ],
      "text/plain": [
       "       qid      pid     score\n",
       "0  1108939  2846462  0.603323\n",
       "1  1108939    25753  0.541660\n",
       "2  1108939  5291621  0.525253\n",
       "3  1108939  7804766  0.513956\n",
       "4  1108939  1957452  0.506223"
      ]
     },
     "execution_count": 22,
     "metadata": {},
     "output_type": "execute_result"
    }
   ],
   "source": [
    "df_tf_idf.head()"
   ]
  },
  {
   "cell_type": "code",
   "execution_count": 23,
   "id": "16faceee",
   "metadata": {},
   "outputs": [
    {
     "data": {
      "text/html": [
       "<div>\n",
       "<style scoped>\n",
       "    .dataframe tbody tr th:only-of-type {\n",
       "        vertical-align: middle;\n",
       "    }\n",
       "\n",
       "    .dataframe tbody tr th {\n",
       "        vertical-align: top;\n",
       "    }\n",
       "\n",
       "    .dataframe thead th {\n",
       "        text-align: right;\n",
       "    }\n",
       "</style>\n",
       "<table border=\"1\" class=\"dataframe\">\n",
       "  <thead>\n",
       "    <tr style=\"text-align: right;\">\n",
       "      <th></th>\n",
       "      <th>qid</th>\n",
       "      <th>pid</th>\n",
       "      <th>score</th>\n",
       "    </tr>\n",
       "  </thead>\n",
       "  <tbody>\n",
       "    <tr>\n",
       "      <th>19285</th>\n",
       "      <td>532603</td>\n",
       "      <td>1488181</td>\n",
       "      <td>0.306845</td>\n",
       "    </tr>\n",
       "    <tr>\n",
       "      <th>19286</th>\n",
       "      <td>532603</td>\n",
       "      <td>2438261</td>\n",
       "      <td>0.306615</td>\n",
       "    </tr>\n",
       "    <tr>\n",
       "      <th>19287</th>\n",
       "      <td>532603</td>\n",
       "      <td>6888387</td>\n",
       "      <td>0.306106</td>\n",
       "    </tr>\n",
       "    <tr>\n",
       "      <th>19288</th>\n",
       "      <td>532603</td>\n",
       "      <td>231856</td>\n",
       "      <td>0.305912</td>\n",
       "    </tr>\n",
       "    <tr>\n",
       "      <th>19289</th>\n",
       "      <td>532603</td>\n",
       "      <td>7216392</td>\n",
       "      <td>0.305757</td>\n",
       "    </tr>\n",
       "  </tbody>\n",
       "</table>\n",
       "</div>"
      ],
      "text/plain": [
       "          qid      pid     score\n",
       "19285  532603  1488181  0.306845\n",
       "19286  532603  2438261  0.306615\n",
       "19287  532603  6888387  0.306106\n",
       "19288  532603   231856  0.305912\n",
       "19289  532603  7216392  0.305757"
      ]
     },
     "execution_count": 23,
     "metadata": {},
     "output_type": "execute_result"
    }
   ],
   "source": [
    "df_tf_idf.tail()"
   ]
  },
  {
   "cell_type": "code",
   "execution_count": 24,
   "id": "4d6038e2",
   "metadata": {},
   "outputs": [
    {
     "data": {
      "text/plain": [
       "19290"
      ]
     },
     "execution_count": 24,
     "metadata": {},
     "output_type": "execute_result"
    }
   ],
   "source": [
    "len(df_tf_idf)"
   ]
  },
  {
   "cell_type": "code",
   "execution_count": 25,
   "id": "809459f5",
   "metadata": {},
   "outputs": [],
   "source": [
    "df_tf_idf.to_csv('tfidf.csv', header=False, sep=',', index=False)"
   ]
  },
  {
   "cell_type": "markdown",
   "id": "de80c8df",
   "metadata": {},
   "source": [
    "## BM25 Retrieval Model"
   ]
  },
  {
   "cell_type": "markdown",
   "id": "fb129636",
   "metadata": {},
   "source": [
    "Use the inverted index to also implement **BM25** while setting **k1 = 1.2, k2 = 100**, and **b = 0.75**. \n",
    "\n",
    "Retrieve **at most 100 passages** from within the 1000 candidate passages **for each test query**. Store the outcomes in a file named **bm25.csv**."
   ]
  },
  {
   "cell_type": "code",
   "execution_count": 53,
   "id": "c899a6c2",
   "metadata": {},
   "outputs": [],
   "source": [
    "def BM25_model(query_params, passage_params, model_params, top=100):\n",
    "    \n",
    "    # parameters\n",
    "    test_queries, qid_query_dict, q_inverted_index = query_params[0], query_params[1], query_params[2]\n",
    "    candidate_passages, pid_passage_dict, p_inverted_index = passage_params[0], passage_params[1], passage_params[2]\n",
    "    k1, k2, b = model_params[0], model_params[1], model_params[2]\n",
    "    \n",
    "    # pre-compute values\n",
    "    N = len(pid_passage_dict)\n",
    "    avdl = np.sum([len(passage) for pid, passage in pid_passage_dict.items()]) / len(pid_passage_dict)\n",
    "    \n",
    "    # initialization\n",
    "    df = pd.DataFrame()\n",
    "    qids, pids, scores = np.array([]), np.array([]), np.array([])\n",
    "    \n",
    "    for qid, _ in tqdm(test_queries.values):\n",
    "        \n",
    "        query = qid_query_dict[qid]\n",
    "        qids_i, pids_i, scores_i = np.array([]), np.array([]), np.array([])\n",
    "        \n",
    "        for pid in candidate_passages[candidate_passages['qid']==qid]['pid']:\n",
    "            \n",
    "            passage = pid_passage_dict[pid]\n",
    "            \n",
    "            # document length\n",
    "            dl = len(passage)\n",
    "            \n",
    "            # compute K\n",
    "            K = k1 * ((1-b) + b*dl/avdl)\n",
    "            \n",
    "            score = 0\n",
    "            for term in query:\n",
    "                qfi = query.count(term)\n",
    "                if term in passage:\n",
    "                    fi = p_inverted_index[term][pid][0]\n",
    "                    ni = len(inverted_index[term])\n",
    "                else:\n",
    "                    fi = 0\n",
    "                    ni = 0\n",
    "                score += np.log(((0+0.5)/(0-0+0.5))/((ni-0+0.5)/(N-ni-0+0+0.5)))*((k1+1)*fi/((K+fi)))*((k2+1)*qfi/(k2+qfi))\n",
    "            \n",
    "            qids_i = np.append(qids_i, qid)\n",
    "            pids_i = np.append(pids_i, pid)\n",
    "            scores_i = np.append(scores_i, score)\n",
    "\n",
    "        descending_idx = np.argsort(scores_i)[::-1]\n",
    "        qids_i = qids_i[descending_idx]\n",
    "        pids_i = pids_i[descending_idx]\n",
    "        scores_i = scores_i[descending_idx]\n",
    "\n",
    "        qids = np.append(qids, qids_i[:top])\n",
    "        pids = np.append(pids, pids_i[:top])\n",
    "        scores = np.append(scores, scores_i[:top])\n",
    "\n",
    "    df['qid'] = qids\n",
    "    df['pid'] = pids\n",
    "    df['score'] = scores\n",
    "    \n",
    "    df['qid'] = df['qid'].astype(int)\n",
    "    df['pid'] = df['pid'].astype(int)\n",
    "    \n",
    "    return df"
   ]
  },
  {
   "cell_type": "code",
   "execution_count": 60,
   "id": "48793958",
   "metadata": {},
   "outputs": [],
   "source": [
    "query_params = [test_queries, qid_query_dict, query_inverted_index]\n",
    "passage_params = [candidate_passages, pid_passage_dict, inverted_index]\n",
    "model_params = [1.2, 100, 0.75]"
   ]
  },
  {
   "cell_type": "code",
   "execution_count": 61,
   "id": "1838300e",
   "metadata": {},
   "outputs": [
    {
     "name": "stderr",
     "output_type": "stream",
     "text": [
      "100%|█████████████████████████████████████████| 200/200 [00:03<00:00, 56.49it/s]\n"
     ]
    }
   ],
   "source": [
    "df_bm25 = BM25_model(query_params, passage_params, model_params, top=100)"
   ]
  },
  {
   "cell_type": "code",
   "execution_count": 62,
   "id": "4a69b382",
   "metadata": {},
   "outputs": [
    {
     "data": {
      "text/html": [
       "<div>\n",
       "<style scoped>\n",
       "    .dataframe tbody tr th:only-of-type {\n",
       "        vertical-align: middle;\n",
       "    }\n",
       "\n",
       "    .dataframe tbody tr th {\n",
       "        vertical-align: top;\n",
       "    }\n",
       "\n",
       "    .dataframe thead th {\n",
       "        text-align: right;\n",
       "    }\n",
       "</style>\n",
       "<table border=\"1\" class=\"dataframe\">\n",
       "  <thead>\n",
       "    <tr style=\"text-align: right;\">\n",
       "      <th></th>\n",
       "      <th>qid</th>\n",
       "      <th>pid</th>\n",
       "      <th>score</th>\n",
       "    </tr>\n",
       "  </thead>\n",
       "  <tbody>\n",
       "    <tr>\n",
       "      <th>0</th>\n",
       "      <td>1108939</td>\n",
       "      <td>2846462</td>\n",
       "      <td>20.003898</td>\n",
       "    </tr>\n",
       "    <tr>\n",
       "      <th>1</th>\n",
       "      <td>1108939</td>\n",
       "      <td>7000936</td>\n",
       "      <td>19.966412</td>\n",
       "    </tr>\n",
       "    <tr>\n",
       "      <th>2</th>\n",
       "      <td>1108939</td>\n",
       "      <td>7724054</td>\n",
       "      <td>19.734075</td>\n",
       "    </tr>\n",
       "    <tr>\n",
       "      <th>3</th>\n",
       "      <td>1108939</td>\n",
       "      <td>5291621</td>\n",
       "      <td>19.535797</td>\n",
       "    </tr>\n",
       "    <tr>\n",
       "      <th>4</th>\n",
       "      <td>1108939</td>\n",
       "      <td>7651010</td>\n",
       "      <td>18.958465</td>\n",
       "    </tr>\n",
       "  </tbody>\n",
       "</table>\n",
       "</div>"
      ],
      "text/plain": [
       "       qid      pid      score\n",
       "0  1108939  2846462  20.003898\n",
       "1  1108939  7000936  19.966412\n",
       "2  1108939  7724054  19.734075\n",
       "3  1108939  5291621  19.535797\n",
       "4  1108939  7651010  18.958465"
      ]
     },
     "execution_count": 62,
     "metadata": {},
     "output_type": "execute_result"
    }
   ],
   "source": [
    "df_bm25.head()"
   ]
  },
  {
   "cell_type": "code",
   "execution_count": 57,
   "id": "583afb3d",
   "metadata": {},
   "outputs": [
    {
     "data": {
      "text/plain": [
       "19290"
      ]
     },
     "execution_count": 57,
     "metadata": {},
     "output_type": "execute_result"
    }
   ],
   "source": [
    "len(df_bm25)"
   ]
  },
  {
   "cell_type": "code",
   "execution_count": 58,
   "id": "2b48db2f",
   "metadata": {},
   "outputs": [],
   "source": [
    "df_bm25.to_csv('bm25.csv', header=False, sep=',', index=False)"
   ]
  },
  {
   "cell_type": "code",
   "execution_count": null,
   "id": "7d52692a",
   "metadata": {},
   "outputs": [],
   "source": []
  }
 ],
 "metadata": {
  "kernelspec": {
   "display_name": "Python 3 (ipykernel)",
   "language": "python",
   "name": "python3"
  },
  "language_info": {
   "codemirror_mode": {
    "name": "ipython",
    "version": 3
   },
   "file_extension": ".py",
   "mimetype": "text/x-python",
   "name": "python",
   "nbconvert_exporter": "python",
   "pygments_lexer": "ipython3",
   "version": "3.9.13"
  }
 },
 "nbformat": 4,
 "nbformat_minor": 5
}
