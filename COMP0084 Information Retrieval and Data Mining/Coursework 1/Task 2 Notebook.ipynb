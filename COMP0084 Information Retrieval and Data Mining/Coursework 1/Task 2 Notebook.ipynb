{
 "cells": [
  {
   "cell_type": "markdown",
   "id": "67a7f3cf",
   "metadata": {},
   "source": [
    "# Task 2"
   ]
  },
  {
   "cell_type": "code",
   "execution_count": 1,
   "id": "82321cac",
   "metadata": {},
   "outputs": [],
   "source": [
    "import numpy as np\n",
    "import pandas as pd\n",
    "\n",
    "import pickle\n",
    "from tqdm import tqdm"
   ]
  },
  {
   "cell_type": "code",
   "execution_count": 2,
   "id": "1772439f",
   "metadata": {},
   "outputs": [
    {
     "name": "stderr",
     "output_type": "stream",
     "text": [
      "[nltk_data] Downloading package punkt to /Users/ryanl/nltk_data...\n",
      "[nltk_data]   Package punkt is already up-to-date!\n",
      "[nltk_data] Downloading package wordnet to /Users/ryanl/nltk_data...\n",
      "[nltk_data]   Package wordnet is already up-to-date!\n",
      "[nltk_data] Downloading package omw-1.4 to /Users/ryanl/nltk_data...\n",
      "[nltk_data]   Package omw-1.4 is already up-to-date!\n",
      "[nltk_data] Downloading package stopwords to /Users/ryanl/nltk_data...\n",
      "[nltk_data]   Package stopwords is already up-to-date!\n"
     ]
    }
   ],
   "source": [
    "from task1 import *"
   ]
  },
  {
   "cell_type": "markdown",
   "id": "27a7e971",
   "metadata": {},
   "source": [
    "Use candidate-passages-top1000.tsv for this task. Using the vocabulary of terms identified in Task 1 (you will need to choose between removing or keeping stop words), build an inverted index for the collection so that you can retrieve passages in an efficient way."
   ]
  },
  {
   "cell_type": "code",
   "execution_count": 3,
   "id": "76323757",
   "metadata": {},
   "outputs": [],
   "source": [
    "def get_vocab():\n",
    "    \n",
    "    # obtaint the vocabulary\n",
    "    passage_collection = load_collection('passage-collection.txt')\n",
    "    cleaned_passages = process_passage(passage_collection, remove_sw=True, lemma=True)\n",
    "    freq_dict = get_freq_dict(cleaned_passages, order=True)\n",
    "    vocab = [item[0] for item in freq_dict.items()]\n",
    "    \n",
    "    return vocab\n",
    "\n",
    "\n",
    "def passage_to_id():\n",
    "    \n",
    "    # tokenize the passages and map to pid\n",
    "    candidate_passages = pd.read_csv('candidate-passages-top1000.tsv', sep='\\t', header=None, names=['qid','pid','query','passage'])\n",
    "    cleaned_candidate_passages = process_passage(candidate_passages['passage'], remove_sw=True, lemma=True)\n",
    "    pid_passage_dict = dict(zip(candidate_passages['pid'], cleaned_candidate_passages))\n",
    "    \n",
    "    return candidate_passages, pid_passage_dict\n",
    "\n",
    "\n",
    "def get_inverted_index(vocab, pid_passage_dict):\n",
    "\n",
    "    # initialization\n",
    "    inverted_index = {}\n",
    "    \n",
    "    # store passage id, frequency, position information\n",
    "    for pid, passages in tqdm(pid_passage_dict.items()):\n",
    "        for term in passages:   \n",
    "            if term not in vocab:   # skip the term is not in vocabulary\n",
    "                continue\n",
    "            freq = passages.count(term)\n",
    "            idx = passages.index(term)\n",
    "            if term not in inverted_index:\n",
    "                inverted_index[term] = {pid:[freq,idx]}\n",
    "            else:\n",
    "                inverted_index[term].update({pid:[freq,idx]})\n",
    "    \n",
    "    return inverted_index"
   ]
  },
  {
   "cell_type": "code",
   "execution_count": 6,
   "id": "157da51d",
   "metadata": {},
   "outputs": [],
   "source": [
    "vocab = get_vocab()"
   ]
  },
  {
   "cell_type": "code",
   "execution_count": 7,
   "id": "9e2b16eb",
   "metadata": {},
   "outputs": [],
   "source": [
    "candidate_passages, pid_passage_dict = passage_to_id()"
   ]
  },
  {
   "cell_type": "code",
   "execution_count": 10,
   "id": "95c6a1e5",
   "metadata": {
    "scrolled": true
   },
   "outputs": [
    {
     "name": "stderr",
     "output_type": "stream",
     "text": [
      "100%|██████████████████████████████████| 182469/182469 [03:36<00:00, 841.65it/s]\n"
     ]
    }
   ],
   "source": [
    "inverted_index = get_inverted_index(vocab, pid_passage_dict)"
   ]
  },
  {
   "cell_type": "code",
   "execution_count": 11,
   "id": "0b659287",
   "metadata": {},
   "outputs": [],
   "source": [
    "with open('inverted_index.pkl', 'wb') as f:\n",
    "    pickle.dump(inverted_index, f)"
   ]
  },
  {
   "cell_type": "code",
   "execution_count": null,
   "id": "4f9a880c",
   "metadata": {},
   "outputs": [],
   "source": [
    "with open('inverted_index.pkl', 'rb') as f:\n",
    "    inverted_index = pickle.load(f)"
   ]
  },
  {
   "cell_type": "markdown",
   "id": "2892feb6",
   "metadata": {},
   "source": [
    "Testing out the inverted index:"
   ]
  },
  {
   "cell_type": "code",
   "execution_count": 15,
   "id": "a9a35081",
   "metadata": {},
   "outputs": [
    {
     "name": "stdout",
     "output_type": "stream",
     "text": [
      "pid:  dict_keys([8627699, 6424923, 6283491, 225520, 2392159, 7724585, 3992780, 4009275, 4180925, 7476253, 4009271, 3244160, 3594066, 4325280, 2767473, 4712567, 7724579, 7909654, 3074046, 184373, 6040723, 1502649, 5981112, 5981115, 1982893, 4147882, 4325277])\n",
      "occurance:  [1, 1, 2, 2, 1, 2, 1, 1, 2, 1, 3, 1, 1, 2, 1, 1, 1, 1, 1, 2, 1, 1, 2, 1, 1, 1, 2]\n",
      "position:  [7, 5, 0, 8, 18, 11, 2, 13, 4, 6, 9, 0, 1, 17, 10, 13, 12, 13, 7, 1, 14, 11, 25, 5, 22, 5, 13]\n"
     ]
    }
   ],
   "source": [
    "term = 'transformer'\n",
    "\n",
    "info = inverted_index[term]\n",
    "freq = [v[0] for k,v in info.items()]\n",
    "idx = [v[1] for k,v in info.items()]\n",
    "\n",
    "print('pid: ', info.keys())\n",
    "print('occurance: ', freq)\n",
    "print('position: ', idx)"
   ]
  },
  {
   "cell_type": "code",
   "execution_count": null,
   "id": "f33e22c6",
   "metadata": {},
   "outputs": [],
   "source": []
  }
 ],
 "metadata": {
  "kernelspec": {
   "display_name": "Python 3 (ipykernel)",
   "language": "python",
   "name": "python3"
  },
  "language_info": {
   "codemirror_mode": {
    "name": "ipython",
    "version": 3
   },
   "file_extension": ".py",
   "mimetype": "text/x-python",
   "name": "python",
   "nbconvert_exporter": "python",
   "pygments_lexer": "ipython3",
   "version": "3.9.13"
  }
 },
 "nbformat": 4,
 "nbformat_minor": 5
}
